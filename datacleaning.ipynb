{
 "cells": [
  {
   "cell_type": "code",
   "execution_count": 1,
   "id": "8c91c641-7676-421d-aef8-79ef55aa0315",
   "metadata": {},
   "outputs": [],
   "source": [
    "import numpy as np # linear algebra\n",
    "import pandas as pd # data processing, CSV file I/O (e.g. pd.read_csv)\n",
    "import matplotlib.pyplot as plt\n",
    "\n",
    "import time\n",
    "import math\n",
    "import datetime"
   ]
  },
  {
   "cell_type": "code",
   "execution_count": 2,
   "id": "9a148464-99b0-4afd-8521-3b01efbb7145",
   "metadata": {},
   "outputs": [],
   "source": [
    "sell_prices_df = pd.read_csv('raw_data/sell_prices.csv')\n",
    "train_sales_df = pd.read_csv('raw_data/sales_train_validation.csv')\n",
    "calendar_df = pd.read_csv('raw_data/calendar.csv')\n"
   ]
  },
  {
   "cell_type": "code",
   "execution_count": 3,
   "id": "1c7ca700-4698-44e7-8d16-fbb4695f183d",
   "metadata": {
    "scrolled": true
   },
   "outputs": [
    {
     "data": {
      "text/plain": [
       "(6841121, 4)"
      ]
     },
     "execution_count": 3,
     "metadata": {},
     "output_type": "execute_result"
    }
   ],
   "source": [
    "sell_prices_df.shape"
   ]
  },
  {
   "cell_type": "markdown",
   "id": "5420999b-7f95-40f2-ac42-759daf2daf78",
   "metadata": {},
   "source": [
    "# CLEANING NULL VALUES \n",
    "\n"
   ]
  },
  {
   "cell_type": "markdown",
   "id": "04737f17-88ee-415c-a17f-02b3b72a0584",
   "metadata": {},
   "source": [
    "## SELL_PRICES_DATA FRAME \n"
   ]
  },
  {
   "cell_type": "code",
   "execution_count": 4,
   "id": "2be0d8ed-17a6-4917-b26c-8a531777b990",
   "metadata": {},
   "outputs": [
    {
     "name": "stdout",
     "output_type": "stream",
     "text": [
      "         store_id  item_id  wm_yr_wk  sell_price\n",
      "0           False    False     False       False\n",
      "1           False    False     False       False\n",
      "2           False    False     False       False\n",
      "3           False    False     False       False\n",
      "4           False    False     False       False\n",
      "...           ...      ...       ...         ...\n",
      "6841116     False    False     False       False\n",
      "6841117     False    False     False       False\n",
      "6841118     False    False     False       False\n",
      "6841119     False    False     False       False\n",
      "6841120     False    False     False       False\n",
      "\n",
      "[6841121 rows x 4 columns]\n",
      "store_id      0\n",
      "item_id       0\n",
      "wm_yr_wk      0\n",
      "sell_price    0\n",
      "dtype: int64\n"
     ]
    }
   ],
   "source": [
    "#null-values of sell_prices_df\n",
    "\n",
    "null_values = sell_prices_df.isnull()\n",
    "print(null_values)\n",
    "total_null_columns_values = sell_prices_df.isnull().sum()\n",
    "print(total_null_columns_values)\n",
    "\n"
   ]
  },
  {
   "cell_type": "code",
   "execution_count": 5,
   "id": "58ee3aea-35a3-4abc-863d-b84ed223c686",
   "metadata": {},
   "outputs": [
    {
     "data": {
      "text/plain": [
       "0"
      ]
     },
     "execution_count": 5,
     "metadata": {},
     "output_type": "execute_result"
    }
   ],
   "source": [
    "sell_prices_df['sell_price'].isna().sum(axis=0)\n"
   ]
  },
  {
   "cell_type": "code",
   "execution_count": 6,
   "id": "4ac34c8d-65f4-4a3d-a6fc-1ad4aaaf3896",
   "metadata": {},
   "outputs": [
    {
     "ename": "SyntaxError",
     "evalue": "unmatched ')' (1947735445.py, line 1)",
     "output_type": "error",
     "traceback": [
      "\u001b[0;36m  Cell \u001b[0;32mIn[6], line 1\u001b[0;36m\u001b[0m\n\u001b[0;31m    sell_prices_df['sales'] == 0).sum()\u001b[0m\n\u001b[0m                                ^\u001b[0m\n\u001b[0;31mSyntaxError\u001b[0m\u001b[0;31m:\u001b[0m unmatched ')'\n"
     ]
    }
   ],
   "source": [
    "sell_prices_df['sales'] == 0).sum()"
   ]
  },
  {
   "cell_type": "markdown",
   "id": "cbbae639-6236-491a-8e76-3268afae17af",
   "metadata": {},
   "source": [
    "### DUPLICATE VALUES"
   ]
  },
  {
   "cell_type": "code",
   "execution_count": null,
   "id": "a29caa0a-3692-4ccc-b048-d6d83f1a08c5",
   "metadata": {},
   "outputs": [],
   "source": [
    "import pandas as pd\n",
    "\n",
    "# Usa el método duplicated() para encontrar valores duplicados\n",
    "duplicated_values = sell_prices_df.duplicated()\n",
    "\n",
    "# Usa el método sum() para contar la cantidad de valores duplicados\n",
    "quantity_duplicated_values = duplicated_values.sum()\n",
    "\n",
    "print(\"Quantity duplicated values :\", quantity_duplicated_values)"
   ]
  },
  {
   "cell_type": "code",
   "execution_count": null,
   "id": "7b457939-2b7e-4ac0-ade3-bdcbf3be589d",
   "metadata": {},
   "outputs": [],
   "source": []
  },
  {
   "cell_type": "markdown",
   "id": "1b8f5d6b-1200-4a7e-8d9a-668fe868ebb7",
   "metadata": {},
   "source": [
    "## train_sales DATA FRAME \n"
   ]
  },
  {
   "cell_type": "code",
   "execution_count": null,
   "id": "35a029a0-032d-4b01-90d7-54fb39e8c3ad",
   "metadata": {},
   "outputs": [],
   "source": [
    "train_sales_df.columns"
   ]
  },
  {
   "cell_type": "code",
   "execution_count": null,
   "id": "d0dce6fe-3184-4777-aaf3-30cb47a9bd08",
   "metadata": {},
   "outputs": [],
   "source": [
    "train_sales_df.head(10)"
   ]
  },
  {
   "cell_type": "code",
   "execution_count": null,
   "id": "84e915bb-239d-481b-aae0-4482c25f2d82",
   "metadata": {},
   "outputs": [],
   "source": [
    "\n",
    "null_values = train_sales_df.isnull()\n",
    "print(null_values)\n",
    "Total_null_values_per_column = train_sales_df.isnull().sum()\n",
    "print(Total_null_values_per_column)\n",
    "# Calculate the percentage of missing values per column\n",
    "percentage_null_per_column = (train_sales_df.isnull().sum() / len(train_sales_df)) * 100\n",
    "print(percentage_null_per_column)"
   ]
  },
  {
   "cell_type": "code",
   "execution_count": null,
   "id": "4840789b-4396-4ba4-8fe6-b3f1ea1eeed6",
   "metadata": {},
   "outputs": [],
   "source": [
    "import pandas as pd\n",
    "\n",
    "duplicated_values  = train_sales_df.duplicated()\n",
    "\n",
    "cantidad_valores_duplicados = valores_duplicados.sum()\n",
    "\n",
    "print(\"Quantity:\", cantidad_valores_duplicados)"
   ]
  },
  {
   "cell_type": "markdown",
   "id": "c1b304e2-2fb7-4efe-9997-c9d8487bf98b",
   "metadata": {},
   "source": [
    "## calendar_df DATA FRAME \n"
   ]
  },
  {
   "cell_type": "code",
   "execution_count": null,
   "id": "66c29ccf-674c-42b0-ad73-9087195ae4c8",
   "metadata": {},
   "outputs": [],
   "source": [
    "calendar_df.tail(5)"
   ]
  },
  {
   "cell_type": "code",
   "execution_count": null,
   "id": "ee0bbb06-9724-4cf2-9ef0-d21daceedeb2",
   "metadata": {},
   "outputs": [],
   "source": [
    "import pandas as pd\n",
    "\n",
    "star_date = '2011-01-29'\n",
    "end_date = '2016-06-19'\n",
    "\n",
    "# Generate the dates\n",
    "expected_dates = pd.date_range(start=star_date, end=end_date)\n",
    "\n",
    "# format\n",
    "calendar_df['date'] = pd.to_datetime(calendar_df['date'])\n",
    "\n",
    "# extract unique dates \n",
    "current_dates = calendar_df['date'].dt.date.unique()\n",
    "\n",
    "expected_dates_set = set(expected_dates)\n",
    "current_dates_set = set(current_dates)\n",
    "\n",
    "# verify\n",
    "missing_dates = expected_dates_set - current_dates_set\n",
    "\n",
    "if not missing_dates:\n",
    "    print(\"No missing dates .\")\n",
    "else:\n",
    "    print(\"there is no these dates\")\n",
    "    print(missing_dates)\n",
    "\n",
    "\n"
   ]
  },
  {
   "cell_type": "code",
   "execution_count": null,
   "id": "2f7a4969-bba1-4af6-9670-39adfe098414",
   "metadata": {},
   "outputs": [],
   "source": [
    "\n",
    "null_values = calendar_df.isnull()\n",
    "print(null_values)\n",
    "total_null_values_per_column = calendar_df.isnull().sum()\n",
    "print(total_null_values_per_column)\n"
   ]
  },
  {
   "cell_type": "code",
   "execution_count": null,
   "id": "fecb3140-8c59-4393-9233-eb4e37840395",
   "metadata": {},
   "outputs": [],
   "source": [
    "\n",
    "\n",
    "\n",
    "duplicated_values = calendar_df.duplicated()\n",
    "\n",
    "# metod sum() for count \n",
    "quantity_duplicated_values = duplicated_values.sum()\n",
    "\n",
    "print(\"Quantity:\", quantity_duplicated_values)"
   ]
  }
 ],
 "metadata": {
  "kernelspec": {
   "display_name": "Python 3 (ipykernel)",
   "language": "python",
   "name": "python3"
  },
  "language_info": {
   "codemirror_mode": {
    "name": "ipython",
    "version": 3
   },
   "file_extension": ".py",
   "mimetype": "text/x-python",
   "name": "python",
   "nbconvert_exporter": "python",
   "pygments_lexer": "ipython3",
   "version": "3.10.6"
  }
 },
 "nbformat": 4,
 "nbformat_minor": 5
}
