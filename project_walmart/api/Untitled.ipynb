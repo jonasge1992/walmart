{
 "cells": [
  {
   "cell_type": "code",
   "execution_count": 6,
   "id": "55fcd32a",
   "metadata": {},
   "outputs": [],
   "source": [
    "from darts.models import TFTModel\n",
    "import os\n",
    "import datetime\n",
    "import pandas as pd\n",
    "\n",
    "id = \"HOBBIES_1_001_CA_1_validation\"\n",
    "full_path = os.path.dirname(os.path.dirname(os.getcwd()))\n",
    "\n",
    "\n",
    "model_loaded = TFTModel.load(os.path.join(full_path,\"models\",f\"{id}_model.pt\"))"
   ]
  },
  {
   "cell_type": "code",
   "execution_count": 42,
   "id": "3622f909",
   "metadata": {},
   "outputs": [
    {
     "name": "stderr",
     "output_type": "stream",
     "text": [
      "GPU available: False, used: False\n",
      "TPU available: False, using: 0 TPU cores\n",
      "IPU available: False, using: 0 IPUs\n",
      "HPU available: False, using: 0 HPUs\n",
      "/home/jonas/.pyenv/versions/3.10.6/envs/walmart/lib/python3.10/site-packages/pytorch_lightning/trainer/connectors/data_connector.py:441: The 'predict_dataloader' does not have many workers which may be a bottleneck. Consider increasing the value of the `num_workers` argument` to `num_workers=11` in the `DataLoader` to improve performance.\n"
     ]
    },
    {
     "name": "stdout",
     "output_type": "stream",
     "text": [
      "Predicting DataLoader 0: 100%|█████████████████████████████████████████████████████████████████████████████████████████████████████████████████████████████████████████████████████| 1/1 [00:00<00:00, 12.99it/s]\n"
     ]
    }
   ],
   "source": [
    "df = model_loaded.predict(28).pd_dataframe()"
   ]
  },
  {
   "cell_type": "code",
   "execution_count": null,
   "id": "283aa3c1",
   "metadata": {},
   "outputs": [],
   "source": [
    "df"
   ]
  },
  {
   "cell_type": "code",
   "execution_count": null,
   "id": "7ef02563",
   "metadata": {},
   "outputs": [],
   "source": [
    "df.index"
   ]
  },
  {
   "cell_type": "code",
   "execution_count": null,
   "id": "4c936016",
   "metadata": {},
   "outputs": [],
   "source": [
    "model_loaded.__class__.__name__"
   ]
  },
  {
   "cell_type": "code",
   "execution_count": null,
   "id": "66ae2c08",
   "metadata": {},
   "outputs": [],
   "source": [
    "# Reset index to convert 'date' from index to a column\n",
    "df.reset_index(drop=False, inplace=True)"
   ]
  },
  {
   "cell_type": "code",
   "execution_count": null,
   "id": "520ac5e4",
   "metadata": {},
   "outputs": [],
   "source": [
    "df"
   ]
  },
  {
   "cell_type": "code",
   "execution_count": null,
   "id": "5ae37a46",
   "metadata": {},
   "outputs": [],
   "source": [
    "df['date'] = pd.to_datetime(df['date'])  # Convert 'date' column to datetime\n",
    "\n",
    "# Convert DataFrame to dictionary\n",
    "sales_dict = df.set_index('date')['sales'].to_dict()"
   ]
  },
  {
   "cell_type": "code",
   "execution_count": 38,
   "id": "78f56e3c",
   "metadata": {},
   "outputs": [
    {
     "data": {
      "text/plain": [
       "{Timestamp('2016-01-02 00:00:00'): -0.0898946225643158,\n",
       " Timestamp('2016-01-03 00:00:00'): 0.9833475351333618,\n",
       " Timestamp('2016-01-04 00:00:00'): -0.001049634302034974,\n",
       " Timestamp('2016-01-05 00:00:00'): 1.3330353498458862,\n",
       " Timestamp('2016-01-06 00:00:00'): -0.0014798811171203852,\n",
       " Timestamp('2016-01-07 00:00:00'): 0.7580620050430298,\n",
       " Timestamp('2016-01-08 00:00:00'): 0.40124768018722534,\n",
       " Timestamp('2016-01-09 00:00:00'): -0.0049106464721262455,\n",
       " Timestamp('2016-01-10 00:00:00'): 0.011342570185661316,\n",
       " Timestamp('2016-01-11 00:00:00'): 0.4214737117290497,\n",
       " Timestamp('2016-01-12 00:00:00'): 1.7041809558868408,\n",
       " Timestamp('2016-01-13 00:00:00'): 0.16258111596107483,\n",
       " Timestamp('2016-01-14 00:00:00'): -0.0012736055068671703,\n",
       " Timestamp('2016-01-15 00:00:00'): 2.477079391479492,\n",
       " Timestamp('2016-01-16 00:00:00'): 0.03264249861240387,\n",
       " Timestamp('2016-01-17 00:00:00'): 0.014167713932693005,\n",
       " Timestamp('2016-01-18 00:00:00'): 1.1350048780441284,\n",
       " Timestamp('2016-01-19 00:00:00'): 0.10631854087114334,\n",
       " Timestamp('2016-01-20 00:00:00'): 0.000781821901910007,\n",
       " Timestamp('2016-01-21 00:00:00'): 0.960719883441925,\n",
       " Timestamp('2016-01-22 00:00:00'): 2.1582436561584473,\n",
       " Timestamp('2016-01-23 00:00:00'): 2.250803232192993,\n",
       " Timestamp('2016-01-24 00:00:00'): -0.0016287737525999546,\n",
       " Timestamp('2016-01-25 00:00:00'): 0.44302260875701904,\n",
       " Timestamp('2016-01-26 00:00:00'): -0.004668610170483589,\n",
       " Timestamp('2016-01-27 00:00:00'): 1.2404348850250244,\n",
       " Timestamp('2016-01-28 00:00:00'): 0.23867866396903992,\n",
       " Timestamp('2016-01-29 00:00:00'): -0.0034156437031924725}"
      ]
     },
     "execution_count": 38,
     "metadata": {},
     "output_type": "execute_result"
    }
   ],
   "source": [
    "sales_dict"
   ]
  },
  {
   "cell_type": "code",
   "execution_count": 43,
   "id": "7948965e",
   "metadata": {},
   "outputs": [],
   "source": [
    "import os\n",
    "import pickle\n",
    "import pandas as pd\n",
    "from prophet import Prophet\n",
    "\n",
    "def get_training_data(id):\n",
    "    full_path = os.path.dirname(os.path.dirname(os.getcwd()))\n",
    "    \n",
    "\n",
    "    # Try loading the model using pickle\n",
    "    loaded_model = pickle.load(open(os.path.join(full_path,\"models\",f\"{id}_model.pkl\"), 'rb'))\n",
    "\n",
    "    model_name = loaded_model.__class__.__name__\n",
    "    print(model_name)\n",
    "\n",
    "    if model_name == \"Prophet\":\n",
    "        # Assuming training data is stored with the model\n",
    "        training_data = loaded_model.history[['ds', 'y']]\n",
    "        training_dict = training_data.set_index('ds')['y'].to_dict()\n",
    "\n",
    "    elif model_name == \"Booster\":\n",
    "        training_dict = \"Not working\"\n",
    "\n",
    "    elif model_name == \"RandomForestRegressor\":\n",
    "        training_dict = \"Not working\"\n",
    "\n",
    "    else:\n",
    "        # Handle other model types or default case\n",
    "        training_dict = loaded_model.history\n",
    "\n",
    "    \n",
    "    return training_dict\n",
    "\n"
   ]
  },
  {
   "cell_type": "code",
   "execution_count": 44,
   "id": "a303a0c2",
   "metadata": {},
   "outputs": [],
   "source": [
    "#id = \"FOODS_3_586_CA_2_validation\" RF\n",
    "id = \"FOODS_3_694_WI_2_validation\""
   ]
  },
  {
   "cell_type": "code",
   "execution_count": 45,
   "id": "66441293",
   "metadata": {},
   "outputs": [
    {
     "name": "stdout",
     "output_type": "stream",
     "text": [
      "ARIMA\n"
     ]
    },
    {
     "ename": "AttributeError",
     "evalue": "'ARIMA' object has no attribute 'history'",
     "output_type": "error",
     "traceback": [
      "\u001b[0;31m---------------------------------------------------------------------------\u001b[0m",
      "\u001b[0;31mAttributeError\u001b[0m                            Traceback (most recent call last)",
      "Cell \u001b[0;32mIn[45], line 2\u001b[0m\n\u001b[1;32m      1\u001b[0m \u001b[38;5;66;03m# Example usage\u001b[39;00m\n\u001b[0;32m----> 2\u001b[0m training_data \u001b[38;5;241m=\u001b[39m \u001b[43mget_training_data\u001b[49m\u001b[43m(\u001b[49m\u001b[38;5;28;43mid\u001b[39;49m\u001b[43m)\u001b[49m\n\u001b[1;32m      3\u001b[0m \u001b[38;5;28mprint\u001b[39m(training_data)\n",
      "Cell \u001b[0;32mIn[43], line 29\u001b[0m, in \u001b[0;36mget_training_data\u001b[0;34m(id)\u001b[0m\n\u001b[1;32m     25\u001b[0m     training_dict \u001b[38;5;241m=\u001b[39m \u001b[38;5;124m\"\u001b[39m\u001b[38;5;124mNot working\u001b[39m\u001b[38;5;124m\"\u001b[39m\n\u001b[1;32m     27\u001b[0m \u001b[38;5;28;01melse\u001b[39;00m:\n\u001b[1;32m     28\u001b[0m     \u001b[38;5;66;03m# Handle other model types or default case\u001b[39;00m\n\u001b[0;32m---> 29\u001b[0m     training_dict \u001b[38;5;241m=\u001b[39m \u001b[43mloaded_model\u001b[49m\u001b[38;5;241;43m.\u001b[39;49m\u001b[43mhistory\u001b[49m\n\u001b[1;32m     32\u001b[0m \u001b[38;5;28;01mreturn\u001b[39;00m training_dict\n",
      "\u001b[0;31mAttributeError\u001b[0m: 'ARIMA' object has no attribute 'history'"
     ]
    }
   ],
   "source": [
    "# Example usage\n",
    "training_data = get_training_data(id)\n",
    "print(training_data)"
   ]
  },
  {
   "cell_type": "code",
   "execution_count": 36,
   "id": "c6951768",
   "metadata": {},
   "outputs": [
    {
     "data": {
      "text/plain": [
       "{}"
      ]
     },
     "execution_count": 36,
     "metadata": {},
     "output_type": "execute_result"
    }
   ],
   "source": [
    "training_data"
   ]
  },
  {
   "cell_type": "code",
   "execution_count": 30,
   "id": "efe61971",
   "metadata": {},
   "outputs": [
    {
     "ename": "AttributeError",
     "evalue": "'RandomForestRegressor' object has no attribute 'training_data'",
     "output_type": "error",
     "traceback": [
      "\u001b[0;31m---------------------------------------------------------------------------\u001b[0m",
      "\u001b[0;31mAttributeError\u001b[0m                            Traceback (most recent call last)",
      "Cell \u001b[0;32mIn[30], line 1\u001b[0m\n\u001b[0;32m----> 1\u001b[0m training_data \u001b[38;5;241m=\u001b[39m \u001b[43mloaded_model\u001b[49m\u001b[38;5;241;43m.\u001b[39;49m\u001b[43mtraining_data\u001b[49m\n\u001b[1;32m      2\u001b[0m training_dict \u001b[38;5;241m=\u001b[39m training_data\u001b[38;5;241m.\u001b[39mset_index(\u001b[38;5;124m'\u001b[39m\u001b[38;5;124mdate\u001b[39m\u001b[38;5;124m'\u001b[39m)[\u001b[38;5;124m'\u001b[39m\u001b[38;5;124msales\u001b[39m\u001b[38;5;124m'\u001b[39m]\u001b[38;5;241m.\u001b[39mto_dict()\n",
      "\u001b[0;31mAttributeError\u001b[0m: 'RandomForestRegressor' object has no attribute 'training_data'"
     ]
    }
   ],
   "source": [
    "training_data = loaded_model.training_data\n",
    "training_dict = training_data.set_index('date')['sales'].to_dict()"
   ]
  },
  {
   "cell_type": "code",
   "execution_count": 94,
   "id": "dea7f2b6",
   "metadata": {},
   "outputs": [],
   "source": [
    "id = \"FOODS_3_586_TX_3_validation\""
   ]
  },
  {
   "cell_type": "code",
   "execution_count": 95,
   "id": "aab8de12",
   "metadata": {},
   "outputs": [],
   "source": [
    "full_path = os.path.dirname(os.path.dirname(os.getcwd()))\n",
    "\n",
    "\n",
    "# Try loading the model using pickle\n",
    "loaded_model, product_data, data_test = pickle.load(open(os.path.join(full_path,\"models\",f\"{id}_model.pkl\"), 'rb'))\n",
    "\n",
    "model_name = loaded_model.__class__.__name__\n",
    "\n"
   ]
  },
  {
   "cell_type": "code",
   "execution_count": 96,
   "id": "757cab22",
   "metadata": {},
   "outputs": [
    {
     "data": {
      "text/plain": [
       "'HoltWintersResultsWrapper'"
      ]
     },
     "execution_count": 96,
     "metadata": {},
     "output_type": "execute_result"
    }
   ],
   "source": [
    "model_name"
   ]
  },
  {
   "cell_type": "code",
   "execution_count": 100,
   "id": "8aa0c9ac",
   "metadata": {},
   "outputs": [
    {
     "data": {
      "text/plain": [
       "2011-01-30    95.804386\n",
       "2011-01-31    98.602213\n",
       "2011-02-01    94.935148\n",
       "2011-02-02    91.065424\n",
       "2011-02-03    87.697414\n",
       "                ...    \n",
       "2016-03-23    59.079470\n",
       "2016-03-24    57.097271\n",
       "2016-03-25    57.135332\n",
       "2016-03-26    60.965485\n",
       "2016-03-27    64.977187\n",
       "Freq: D, Length: 1884, dtype: float64"
      ]
     },
     "execution_count": 100,
     "metadata": {},
     "output_type": "execute_result"
    }
   ],
   "source": [
    "loaded_model.predict(1)"
   ]
  },
  {
   "cell_type": "code",
   "execution_count": 106,
   "id": "79af0554",
   "metadata": {},
   "outputs": [],
   "source": [
    "lower_bound = data_test.index.min()"
   ]
  },
  {
   "cell_type": "code",
   "execution_count": 107,
   "id": "00532b18",
   "metadata": {},
   "outputs": [],
   "source": [
    "upper_bound = data_test.index.max()"
   ]
  },
  {
   "cell_type": "code",
   "execution_count": 108,
   "id": "4d5557ef",
   "metadata": {},
   "outputs": [
    {
     "data": {
      "text/plain": [
       "2016-03-28    68.739977\n",
       "2016-03-29    68.725398\n",
       "2016-03-30    68.710819\n",
       "2016-03-31    68.696240\n",
       "2016-04-01    68.681661\n",
       "2016-04-02    68.667081\n",
       "2016-04-03    68.652502\n",
       "2016-04-04    68.637923\n",
       "2016-04-05    68.623344\n",
       "2016-04-06    68.608764\n",
       "2016-04-07    68.594185\n",
       "2016-04-08    68.579606\n",
       "2016-04-09    68.565027\n",
       "2016-04-10    68.550448\n",
       "2016-04-11    68.535868\n",
       "2016-04-12    68.521289\n",
       "2016-04-13    68.506710\n",
       "2016-04-14    68.492131\n",
       "2016-04-15    68.477551\n",
       "2016-04-16    68.462972\n",
       "2016-04-17    68.448393\n",
       "2016-04-18    68.433814\n",
       "2016-04-19    68.419235\n",
       "2016-04-20    68.404655\n",
       "2016-04-21    68.390076\n",
       "2016-04-22    68.375497\n",
       "2016-04-23    68.360918\n",
       "2016-04-24    68.346338\n",
       "Freq: D, dtype: float64"
      ]
     },
     "execution_count": 108,
     "metadata": {},
     "output_type": "execute_result"
    }
   ],
   "source": [
    "loaded_model.predict(start=lower_bound,end=upper_bound)"
   ]
  },
  {
   "cell_type": "code",
   "execution_count": 93,
   "id": "9a136c29",
   "metadata": {},
   "outputs": [],
   "source": [
    "forecast = loaded_model.predict(data_test.drop(columns=\"sales\"))"
   ]
  },
  {
   "cell_type": "code",
   "execution_count": null,
   "id": "0ddd296c",
   "metadata": {},
   "outputs": [],
   "source": [
    "forecast."
   ]
  },
  {
   "cell_type": "code",
   "execution_count": 83,
   "id": "d8b93c88",
   "metadata": {},
   "outputs": [],
   "source": [
    "listofproducts = ['FOODS_3_090_CA_3_validation',\n",
    "                 'FOODS_3_586_TX_2_validation',\n",
    "                 'FOODS_3_586_TX_3_validation',\n",
    "                 'FOODS_3_586_CA_3_validation',\n",
    "                 'FOODS_3_090_CA_1_validation',\n",
    "                 'FOODS_3_090_WI_3_validation',\n",
    "                 'FOODS_3_090_TX_2_validation',\n",
    "                 'FOODS_3_090_TX_3_validation',\n",
    "                 'FOODS_3_252_TX_2_validation',\n",
    "                 'FOODS_3_586_TX_1_validation',\n",
    "                 'FOODS_3_555_TX_2_validation',\n",
    "                 'FOODS_3_090_TX_1_validation',\n",
    "                 'FOODS_3_120_CA_3_validation',\n",
    "                 'FOODS_3_586_CA_1_validation',\n",
    "                 'FOODS_3_252_TX_3_validation',\n",
    "                 'FOODS_3_586_WI_3_validation',\n",
    "                 'FOODS_3_694_WI_3_validation',\n",
    "                 'FOODS_3_252_CA_3_validation',\n",
    "                 'FOODS_3_541_CA_3_validation',\n",
    "                 'FOODS_3_635_CA_3_validation',\n",
    "                 'FOODS_3_226_WI_1_validation',\n",
    "                 'FOODS_3_555_TX_3_validation',\n",
    "                 'FOODS_3_252_CA_1_validation',\n",
    "                 'FOODS_3_377_TX_3_validation',\n",
    "                 'FOODS_3_808_CA_3_validation',\n",
    "                 'FOODS_3_587_CA_3_validation',\n",
    "                 'FOODS_3_226_WI_2_validation',\n",
    "                 'FOODS_3_555_TX_1_validation',\n",
    "                 'FOODS_3_586_CA_2_validation',\n",
    "                 'FOODS_3_377_TX_2_validation',\n",
    "                 'FOODS_3_120_CA_1_validation',\n",
    "                 'FOODS_3_694_WI_2_validation',\n",
    "                 'FOODS_3_555_CA_3_validation',\n",
    "                 'FOODS_3_555_WI_3_validation',\n",
    "                 'FOODS_3_252_CA_2_validation',\n",
    "                 'FOODS_3_252_TX_1_validation',\n",
    "                 'FOODS_3_090_CA_2_validation',\n",
    "                 'FOODS_3_681_CA_3_validation',\n",
    "                 'FOODS_3_318_WI_3_validation',\n",
    "                 'FOODS_3_714_WI_3_validation',\n",
    "                 'FOODS_3_714_CA_1_validation',\n",
    "                 'FOODS_3_090_CA_4_validation',\n",
    "                 'FOODS_3_007_WI_2_validation',\n",
    "                 'FOODS_3_714_CA_3_validation',\n",
    "                 'FOODS_3_587_CA_1_validation',\n",
    "                 'FOODS_3_202_CA_3_validation',\n",
    "                 'FOODS_3_587_TX_2_validation',\n",
    "                 'FOODS_3_234_WI_2_validation',\n",
    "                 'FOODS_3_607_CA_3_validation']"
   ]
  },
  {
   "cell_type": "code",
   "execution_count": 84,
   "id": "ef1728e0",
   "metadata": {},
   "outputs": [],
   "source": [
    "import os\n",
    "import pickle\n",
    "import pandas as pd\n",
    "from prophet import Prophet\n",
    "\n",
    "def looping_to_get_name(id):\n",
    "    full_path = os.path.dirname(os.path.dirname(os.getcwd()))\n",
    "    \n",
    "\n",
    "    # Try loading the model using pickle\n",
    "    loaded_model = pickle.load(open(os.path.join(full_path,\"models\",f\"{id}_model.pkl\"), 'rb'))\n",
    "\n",
    "    model_name = loaded_model.__class__.__name__\n",
    "\n",
    "    \n",
    "    return model_name\n",
    "\n",
    "\n",
    "idbestmodellist = {}\n",
    "for items in listofproducts:\n",
    "    bestmodel = looping_to_get_name(items)\n",
    "    idbestmodellist[items] = bestmodel\n",
    "    \n",
    "\n",
    "    \n",
    "\n"
   ]
  },
  {
   "cell_type": "code",
   "execution_count": 85,
   "id": "f354fdcb",
   "metadata": {},
   "outputs": [
    {
     "data": {
      "text/plain": [
       "{'FOODS_3_090_CA_3_validation': 'RandomForestRegressor',\n",
       " 'FOODS_3_586_TX_2_validation': 'Prophet',\n",
       " 'FOODS_3_586_TX_3_validation': 'HoltWintersResultsWrapper',\n",
       " 'FOODS_3_586_CA_3_validation': 'Prophet',\n",
       " 'FOODS_3_090_CA_1_validation': 'ARIMA',\n",
       " 'FOODS_3_090_WI_3_validation': 'ARIMA',\n",
       " 'FOODS_3_090_TX_2_validation': 'RandomForestRegressor',\n",
       " 'FOODS_3_090_TX_3_validation': 'RandomForestRegressor',\n",
       " 'FOODS_3_252_TX_2_validation': 'Prophet',\n",
       " 'FOODS_3_586_TX_1_validation': 'ARIMA',\n",
       " 'FOODS_3_555_TX_2_validation': 'Prophet',\n",
       " 'FOODS_3_090_TX_1_validation': 'HoltWintersResultsWrapper',\n",
       " 'FOODS_3_120_CA_3_validation': 'HoltWintersResultsWrapper',\n",
       " 'FOODS_3_586_CA_1_validation': 'RandomForestRegressor',\n",
       " 'FOODS_3_252_TX_3_validation': 'ARIMA',\n",
       " 'FOODS_3_586_WI_3_validation': 'Prophet',\n",
       " 'FOODS_3_694_WI_3_validation': 'Prophet',\n",
       " 'FOODS_3_252_CA_3_validation': 'Prophet',\n",
       " 'FOODS_3_541_CA_3_validation': 'RandomForestRegressor',\n",
       " 'FOODS_3_635_CA_3_validation': 'RandomForestRegressor',\n",
       " 'FOODS_3_226_WI_1_validation': 'Prophet',\n",
       " 'FOODS_3_555_TX_3_validation': 'HoltWintersResultsWrapper',\n",
       " 'FOODS_3_252_CA_1_validation': 'Prophet',\n",
       " 'FOODS_3_377_TX_3_validation': 'Prophet',\n",
       " 'FOODS_3_808_CA_3_validation': 'HoltWintersResultsWrapper',\n",
       " 'FOODS_3_587_CA_3_validation': 'RandomForestRegressor',\n",
       " 'FOODS_3_226_WI_2_validation': 'HoltWintersResultsWrapper',\n",
       " 'FOODS_3_555_TX_1_validation': 'HoltWintersResultsWrapper',\n",
       " 'FOODS_3_586_CA_2_validation': 'Prophet',\n",
       " 'FOODS_3_377_TX_2_validation': 'HoltWintersResultsWrapper',\n",
       " 'FOODS_3_120_CA_1_validation': 'HoltWintersResultsWrapper',\n",
       " 'FOODS_3_694_WI_2_validation': 'ARIMA',\n",
       " 'FOODS_3_555_CA_3_validation': 'HoltWintersResultsWrapper',\n",
       " 'FOODS_3_555_WI_3_validation': 'Prophet',\n",
       " 'FOODS_3_252_CA_2_validation': 'RandomForestRegressor',\n",
       " 'FOODS_3_252_TX_1_validation': 'Prophet',\n",
       " 'FOODS_3_090_CA_2_validation': 'RandomForestRegressor',\n",
       " 'FOODS_3_681_CA_3_validation': 'HoltWintersResultsWrapper',\n",
       " 'FOODS_3_318_WI_3_validation': 'RandomForestRegressor',\n",
       " 'FOODS_3_714_WI_3_validation': 'HoltWintersResultsWrapper',\n",
       " 'FOODS_3_714_CA_1_validation': 'Prophet',\n",
       " 'FOODS_3_090_CA_4_validation': 'Prophet',\n",
       " 'FOODS_3_007_WI_2_validation': 'RandomForestRegressor',\n",
       " 'FOODS_3_714_CA_3_validation': 'Prophet',\n",
       " 'FOODS_3_587_CA_1_validation': 'RandomForestRegressor',\n",
       " 'FOODS_3_202_CA_3_validation': 'HoltWintersResultsWrapper',\n",
       " 'FOODS_3_587_TX_2_validation': 'HoltWintersResultsWrapper',\n",
       " 'FOODS_3_234_WI_2_validation': 'HoltWintersResultsWrapper',\n",
       " 'FOODS_3_607_CA_3_validation': 'Booster'}"
      ]
     },
     "execution_count": 85,
     "metadata": {},
     "output_type": "execute_result"
    }
   ],
   "source": [
    "idbestmodellist"
   ]
  },
  {
   "cell_type": "code",
   "execution_count": 86,
   "id": "4183b6bf",
   "metadata": {},
   "outputs": [
    {
     "name": "stdout",
     "output_type": "stream",
     "text": [
      "                             id                 best_model\n",
      "0   FOODS_3_090_CA_3_validation      RandomForestRegressor\n",
      "1   FOODS_3_586_TX_2_validation                    Prophet\n",
      "2   FOODS_3_586_TX_3_validation  HoltWintersResultsWrapper\n",
      "3   FOODS_3_586_CA_3_validation                    Prophet\n",
      "4   FOODS_3_090_CA_1_validation                      ARIMA\n",
      "5   FOODS_3_090_WI_3_validation                      ARIMA\n",
      "6   FOODS_3_090_TX_2_validation      RandomForestRegressor\n",
      "7   FOODS_3_090_TX_3_validation      RandomForestRegressor\n",
      "8   FOODS_3_252_TX_2_validation                    Prophet\n",
      "9   FOODS_3_586_TX_1_validation                      ARIMA\n",
      "10  FOODS_3_555_TX_2_validation                    Prophet\n",
      "11  FOODS_3_090_TX_1_validation  HoltWintersResultsWrapper\n",
      "12  FOODS_3_120_CA_3_validation  HoltWintersResultsWrapper\n",
      "13  FOODS_3_586_CA_1_validation      RandomForestRegressor\n",
      "14  FOODS_3_252_TX_3_validation                      ARIMA\n",
      "15  FOODS_3_586_WI_3_validation                    Prophet\n",
      "16  FOODS_3_694_WI_3_validation                    Prophet\n",
      "17  FOODS_3_252_CA_3_validation                    Prophet\n",
      "18  FOODS_3_541_CA_3_validation      RandomForestRegressor\n",
      "19  FOODS_3_635_CA_3_validation      RandomForestRegressor\n",
      "20  FOODS_3_226_WI_1_validation                    Prophet\n",
      "21  FOODS_3_555_TX_3_validation  HoltWintersResultsWrapper\n",
      "22  FOODS_3_252_CA_1_validation                    Prophet\n",
      "23  FOODS_3_377_TX_3_validation                    Prophet\n",
      "24  FOODS_3_808_CA_3_validation  HoltWintersResultsWrapper\n",
      "25  FOODS_3_587_CA_3_validation      RandomForestRegressor\n",
      "26  FOODS_3_226_WI_2_validation  HoltWintersResultsWrapper\n",
      "27  FOODS_3_555_TX_1_validation  HoltWintersResultsWrapper\n",
      "28  FOODS_3_586_CA_2_validation                    Prophet\n",
      "29  FOODS_3_377_TX_2_validation  HoltWintersResultsWrapper\n",
      "30  FOODS_3_120_CA_1_validation  HoltWintersResultsWrapper\n",
      "31  FOODS_3_694_WI_2_validation                      ARIMA\n",
      "32  FOODS_3_555_CA_3_validation  HoltWintersResultsWrapper\n",
      "33  FOODS_3_555_WI_3_validation                    Prophet\n",
      "34  FOODS_3_252_CA_2_validation      RandomForestRegressor\n",
      "35  FOODS_3_252_TX_1_validation                    Prophet\n",
      "36  FOODS_3_090_CA_2_validation      RandomForestRegressor\n",
      "37  FOODS_3_681_CA_3_validation  HoltWintersResultsWrapper\n",
      "38  FOODS_3_318_WI_3_validation      RandomForestRegressor\n",
      "39  FOODS_3_714_WI_3_validation  HoltWintersResultsWrapper\n",
      "40  FOODS_3_714_CA_1_validation                    Prophet\n",
      "41  FOODS_3_090_CA_4_validation                    Prophet\n",
      "42  FOODS_3_007_WI_2_validation      RandomForestRegressor\n",
      "43  FOODS_3_714_CA_3_validation                    Prophet\n",
      "44  FOODS_3_587_CA_1_validation      RandomForestRegressor\n",
      "45  FOODS_3_202_CA_3_validation  HoltWintersResultsWrapper\n",
      "46  FOODS_3_587_TX_2_validation  HoltWintersResultsWrapper\n",
      "47  FOODS_3_234_WI_2_validation  HoltWintersResultsWrapper\n",
      "48  FOODS_3_607_CA_3_validation                    Booster\n"
     ]
    }
   ],
   "source": [
    "import pandas as pd\n",
    "\n",
    "# Convert dictionary to DataFrame\n",
    "df = pd.DataFrame(list(idbestmodellist.items()), columns=['id', 'best_model'])\n",
    "\n",
    "print(df)"
   ]
  },
  {
   "cell_type": "code",
   "execution_count": 87,
   "id": "d8053b45",
   "metadata": {},
   "outputs": [],
   "source": [
    "df.to_csv(\"bestmodelperid.csv\")"
   ]
  },
  {
   "cell_type": "code",
   "execution_count": 88,
   "id": "127abb1f",
   "metadata": {},
   "outputs": [
    {
     "data": {
      "text/plain": [
       "array(['RandomForestRegressor', 'Prophet', 'HoltWintersResultsWrapper',\n",
       "       'ARIMA', 'Booster'], dtype=object)"
      ]
     },
     "execution_count": 88,
     "metadata": {},
     "output_type": "execute_result"
    }
   ],
   "source": [
    "df[\"best_model\"].unique()"
   ]
  },
  {
   "cell_type": "code",
   "execution_count": null,
   "id": "f333e12d",
   "metadata": {},
   "outputs": [],
   "source": []
  }
 ],
 "metadata": {
  "kernelspec": {
   "display_name": "Python 3 (ipykernel)",
   "language": "python",
   "name": "python3"
  },
  "language_info": {
   "codemirror_mode": {
    "name": "ipython",
    "version": 3
   },
   "file_extension": ".py",
   "mimetype": "text/x-python",
   "name": "python",
   "nbconvert_exporter": "python",
   "pygments_lexer": "ipython3",
   "version": "3.10.6"
  },
  "toc": {
   "base_numbering": 1,
   "nav_menu": {},
   "number_sections": true,
   "sideBar": true,
   "skip_h1_title": false,
   "title_cell": "Table of Contents",
   "title_sidebar": "Contents",
   "toc_cell": false,
   "toc_position": {},
   "toc_section_display": true,
   "toc_window_display": false
  },
  "varInspector": {
   "cols": {
    "lenName": 16,
    "lenType": 16,
    "lenVar": 40
   },
   "kernels_config": {
    "python": {
     "delete_cmd_postfix": "",
     "delete_cmd_prefix": "del ",
     "library": "var_list.py",
     "varRefreshCmd": "print(var_dic_list())"
    },
    "r": {
     "delete_cmd_postfix": ") ",
     "delete_cmd_prefix": "rm(",
     "library": "var_list.r",
     "varRefreshCmd": "cat(var_dic_list()) "
    }
   },
   "types_to_exclude": [
    "module",
    "function",
    "builtin_function_or_method",
    "instance",
    "_Feature"
   ],
   "window_display": false
  }
 },
 "nbformat": 4,
 "nbformat_minor": 5
}
