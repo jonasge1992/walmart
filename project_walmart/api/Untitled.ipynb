{
 "cells": [
  {
   "cell_type": "code",
   "execution_count": 6,
   "id": "55fcd32a",
   "metadata": {},
   "outputs": [],
   "source": [
    "from darts.models import TFTModel\n",
    "import os\n",
    "import datetime\n",
    "import pandas as pd\n",
    "\n",
    "id = \"HOBBIES_1_001_CA_1_validation\"\n",
    "full_path = os.path.dirname(os.path.dirname(os.getcwd()))\n",
    "\n",
    "\n",
    "model_loaded = TFTModel.load(os.path.join(full_path,\"models\",f\"{id}_model.pt\"))"
   ]
  },
  {
   "cell_type": "code",
   "execution_count": 42,
   "id": "3622f909",
   "metadata": {},
   "outputs": [
    {
     "name": "stderr",
     "output_type": "stream",
     "text": [
      "GPU available: False, used: False\n",
      "TPU available: False, using: 0 TPU cores\n",
      "IPU available: False, using: 0 IPUs\n",
      "HPU available: False, using: 0 HPUs\n",
      "/home/jonas/.pyenv/versions/3.10.6/envs/walmart/lib/python3.10/site-packages/pytorch_lightning/trainer/connectors/data_connector.py:441: The 'predict_dataloader' does not have many workers which may be a bottleneck. Consider increasing the value of the `num_workers` argument` to `num_workers=11` in the `DataLoader` to improve performance.\n"
     ]
    },
    {
     "name": "stdout",
     "output_type": "stream",
     "text": [
      "Predicting DataLoader 0: 100%|█████████████████████████████████████████████████████████████████████████████████████████████████████████████████████████████████████████████████████| 1/1 [00:00<00:00, 12.99it/s]\n"
     ]
    }
   ],
   "source": [
    "df = model_loaded.predict(28).pd_dataframe()"
   ]
  },
  {
   "cell_type": "code",
   "execution_count": null,
   "id": "283aa3c1",
   "metadata": {},
   "outputs": [],
   "source": [
    "df"
   ]
  },
  {
   "cell_type": "code",
   "execution_count": null,
   "id": "7ef02563",
   "metadata": {},
   "outputs": [],
   "source": [
    "df.index"
   ]
  },
  {
   "cell_type": "code",
   "execution_count": null,
   "id": "4c936016",
   "metadata": {},
   "outputs": [],
   "source": [
    "model_loaded.__class__.__name__"
   ]
  },
  {
   "cell_type": "code",
   "execution_count": null,
   "id": "66ae2c08",
   "metadata": {},
   "outputs": [],
   "source": [
    "# Reset index to convert 'date' from index to a column\n",
    "df.reset_index(drop=False, inplace=True)"
   ]
  },
  {
   "cell_type": "code",
   "execution_count": null,
   "id": "520ac5e4",
   "metadata": {},
   "outputs": [],
   "source": [
    "df"
   ]
  },
  {
   "cell_type": "code",
   "execution_count": null,
   "id": "5ae37a46",
   "metadata": {},
   "outputs": [],
   "source": [
    "df['date'] = pd.to_datetime(df['date'])  # Convert 'date' column to datetime\n",
    "\n",
    "# Convert DataFrame to dictionary\n",
    "sales_dict = df.set_index('date')['sales'].to_dict()"
   ]
  },
  {
   "cell_type": "code",
   "execution_count": 38,
   "id": "78f56e3c",
   "metadata": {},
   "outputs": [
    {
     "data": {
      "text/plain": [
       "{Timestamp('2016-01-02 00:00:00'): -0.0898946225643158,\n",
       " Timestamp('2016-01-03 00:00:00'): 0.9833475351333618,\n",
       " Timestamp('2016-01-04 00:00:00'): -0.001049634302034974,\n",
       " Timestamp('2016-01-05 00:00:00'): 1.3330353498458862,\n",
       " Timestamp('2016-01-06 00:00:00'): -0.0014798811171203852,\n",
       " Timestamp('2016-01-07 00:00:00'): 0.7580620050430298,\n",
       " Timestamp('2016-01-08 00:00:00'): 0.40124768018722534,\n",
       " Timestamp('2016-01-09 00:00:00'): -0.0049106464721262455,\n",
       " Timestamp('2016-01-10 00:00:00'): 0.011342570185661316,\n",
       " Timestamp('2016-01-11 00:00:00'): 0.4214737117290497,\n",
       " Timestamp('2016-01-12 00:00:00'): 1.7041809558868408,\n",
       " Timestamp('2016-01-13 00:00:00'): 0.16258111596107483,\n",
       " Timestamp('2016-01-14 00:00:00'): -0.0012736055068671703,\n",
       " Timestamp('2016-01-15 00:00:00'): 2.477079391479492,\n",
       " Timestamp('2016-01-16 00:00:00'): 0.03264249861240387,\n",
       " Timestamp('2016-01-17 00:00:00'): 0.014167713932693005,\n",
       " Timestamp('2016-01-18 00:00:00'): 1.1350048780441284,\n",
       " Timestamp('2016-01-19 00:00:00'): 0.10631854087114334,\n",
       " Timestamp('2016-01-20 00:00:00'): 0.000781821901910007,\n",
       " Timestamp('2016-01-21 00:00:00'): 0.960719883441925,\n",
       " Timestamp('2016-01-22 00:00:00'): 2.1582436561584473,\n",
       " Timestamp('2016-01-23 00:00:00'): 2.250803232192993,\n",
       " Timestamp('2016-01-24 00:00:00'): -0.0016287737525999546,\n",
       " Timestamp('2016-01-25 00:00:00'): 0.44302260875701904,\n",
       " Timestamp('2016-01-26 00:00:00'): -0.004668610170483589,\n",
       " Timestamp('2016-01-27 00:00:00'): 1.2404348850250244,\n",
       " Timestamp('2016-01-28 00:00:00'): 0.23867866396903992,\n",
       " Timestamp('2016-01-29 00:00:00'): -0.0034156437031924725}"
      ]
     },
     "execution_count": 38,
     "metadata": {},
     "output_type": "execute_result"
    }
   ],
   "source": [
    "sales_dict"
   ]
  },
  {
   "cell_type": "code",
   "execution_count": null,
   "id": "7948965e",
   "metadata": {},
   "outputs": [],
   "source": []
  },
  {
   "cell_type": "code",
   "execution_count": null,
   "id": "68e19861",
   "metadata": {},
   "outputs": [],
   "source": []
  }
 ],
 "metadata": {
  "kernelspec": {
   "display_name": "Python 3 (ipykernel)",
   "language": "python",
   "name": "python3"
  },
  "language_info": {
   "codemirror_mode": {
    "name": "ipython",
    "version": 3
   },
   "file_extension": ".py",
   "mimetype": "text/x-python",
   "name": "python",
   "nbconvert_exporter": "python",
   "pygments_lexer": "ipython3",
   "version": "3.10.6"
  },
  "toc": {
   "base_numbering": 1,
   "nav_menu": {},
   "number_sections": true,
   "sideBar": true,
   "skip_h1_title": false,
   "title_cell": "Table of Contents",
   "title_sidebar": "Contents",
   "toc_cell": false,
   "toc_position": {},
   "toc_section_display": true,
   "toc_window_display": false
  },
  "varInspector": {
   "cols": {
    "lenName": 16,
    "lenType": 16,
    "lenVar": 40
   },
   "kernels_config": {
    "python": {
     "delete_cmd_postfix": "",
     "delete_cmd_prefix": "del ",
     "library": "var_list.py",
     "varRefreshCmd": "print(var_dic_list())"
    },
    "r": {
     "delete_cmd_postfix": ") ",
     "delete_cmd_prefix": "rm(",
     "library": "var_list.r",
     "varRefreshCmd": "cat(var_dic_list()) "
    }
   },
   "types_to_exclude": [
    "module",
    "function",
    "builtin_function_or_method",
    "instance",
    "_Feature"
   ],
   "window_display": false
  }
 },
 "nbformat": 4,
 "nbformat_minor": 5
}
