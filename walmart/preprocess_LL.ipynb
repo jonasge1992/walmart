{
 "cells": [
  {
   "cell_type": "code",
   "execution_count": 5,
   "id": "d46fe640-b52b-4200-936c-900076435ac5",
   "metadata": {},
   "outputs": [],
   "source": [
    "import numpy as np\n",
    "import pandas as pd\n",
    "import csv"
   ]
  },
  {
   "cell_type": "code",
   "execution_count": 6,
   "id": "f9cba9bc-8717-469f-80d2-859cdcb151e4",
   "metadata": {},
   "outputs": [],
   "source": [
    "#csv_file_path = \n",
    "train_df = pd.read_csv('../raw_data/sales_train_evaluation.csv')\n",
    "# prices_df = pd.read_csv(raw_data_dir+'sell_prices.csv')\n",
    "# calendar_df = pd.read_csv(raw_data_dir+'calendar.csv')"
   ]
  },
  {
   "cell_type": "code",
   "execution_count": null,
   "id": "ce4d5f6b-13aa-49c0-aee4-f1f2f7a73a3c",
   "metadata": {},
   "outputs": [],
   "source": [
    "train"
   ]
  },
  {
   "cell_type": "code",
   "execution_count": null,
   "id": "899c1e7b-bd1f-473a-beee-8c622a89ec33",
   "metadata": {},
   "outputs": [],
   "source": [
    "from git import Repo  \n",
    "\n",
    "# Path to the main branch's data directory\n",
    "main_data_dir = 'code\\jonasge1992\\walmart\\raw_data'\n",
    "\n",
    "# Path to the sub-branch's directory\n",
    "sub_branch_dir = 'code\\jonasge1992\\walmart\\raw_data'\n",
    "\n",
    "# Define the name of the CSV file you want to load\n",
    "csv_file_name = 'your_csv_file.csv'\n",
    "\n",
    "# Path to the CSV file in the main branch's data directory\n",
    "csv_file_path_main = os.path.join(main_data_dir, csv_file_name)\n",
    "\n",
    "# Path to save the CSV file in the sub-branch's directory\n",
    "csv_file_path_sub = os.path.join(sub_branch_dir, csv_file_name)\n",
    "\n",
    "# Load the CSV file from the main branch's data directory\n",
    "df = pd.read_csv(csv_file_path_main)\n",
    "\n",
    "# Save the loaded data to the sub-branch's directory\n",
    "df.to_csv(csv_file_path_sub, index=False)"
   ]
  },
  {
   "cell_type": "code",
   "execution_count": null,
   "id": "9cd89f52-30a5-444d-a189-657fb8836c26",
   "metadata": {},
   "outputs": [],
   "source": []
  }
 ],
 "metadata": {
  "kernelspec": {
   "display_name": "Python 3 (ipykernel)",
   "language": "python",
   "name": "python3"
  },
  "language_info": {
   "codemirror_mode": {
    "name": "ipython",
    "version": 3
   },
   "file_extension": ".py",
   "mimetype": "text/x-python",
   "name": "python",
   "nbconvert_exporter": "python",
   "pygments_lexer": "ipython3",
   "version": "3.10.6"
  }
 },
 "nbformat": 4,
 "nbformat_minor": 5
}
