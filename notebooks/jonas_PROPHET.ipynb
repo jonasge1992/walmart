{
 "cells": [
  {
   "cell_type": "code",
   "execution_count": 3,
   "id": "8c91c641-7676-421d-aef8-79ef55aa0315",
   "metadata": {},
   "outputs": [],
   "source": [
    "import numpy as np # linear algebra\n",
    "import pandas as pd # data processing, CSV file I/O (e.g. pd.read_csv)\n",
    "import matplotlib.pyplot as plt\n",
    "import seaborn as sns\n",
    "\n",
    "import time\n",
    "import math\n",
    "import datetime\n",
    "from prophet import Prophet\n",
    "from prophet.diagnostics import cross_validation, performance_metrics\n",
    "from prophet.plot import plot_cross_validation_metric\n"
   ]
  },
  {
   "cell_type": "code",
   "execution_count": 12,
   "id": "7ffafc06-da42-4fc3-889e-e151d4a7194c",
   "metadata": {},
   "outputs": [],
   "source": [
    "merge_df_scaled = pd.read_csv(\"../raw_data/cleaned_merge_df_top10.csv\")"
   ]
  },
  {
   "cell_type": "code",
   "execution_count": 13,
   "id": "c3d0b969-5b20-4172-9406-0476f4523aa2",
   "metadata": {
    "scrolled": false
   },
   "outputs": [],
   "source": [
    "prophet_df = merge_df_scaled[[\"id\",\"date\",\"sales\"]]"
   ]
  },
  {
   "cell_type": "code",
   "execution_count": 15,
   "id": "5576cc4e",
   "metadata": {},
   "outputs": [],
   "source": [
    "prophet_df.columns = [\"id\",\"ds\",\"y\"]"
   ]
  },
  {
   "cell_type": "code",
   "execution_count": 16,
   "id": "b14b482d",
   "metadata": {},
   "outputs": [
    {
     "data": {
      "text/html": [
       "<div>\n",
       "<style scoped>\n",
       "    .dataframe tbody tr th:only-of-type {\n",
       "        vertical-align: middle;\n",
       "    }\n",
       "\n",
       "    .dataframe tbody tr th {\n",
       "        vertical-align: top;\n",
       "    }\n",
       "\n",
       "    .dataframe thead th {\n",
       "        text-align: right;\n",
       "    }\n",
       "</style>\n",
       "<table border=\"1\" class=\"dataframe\">\n",
       "  <thead>\n",
       "    <tr style=\"text-align: right;\">\n",
       "      <th></th>\n",
       "      <th>id</th>\n",
       "      <th>ds</th>\n",
       "      <th>y</th>\n",
       "    </tr>\n",
       "  </thead>\n",
       "  <tbody>\n",
       "    <tr>\n",
       "      <th>0</th>\n",
       "      <td>FOODS_2_197_CA_1_validation</td>\n",
       "      <td>2011-01-29</td>\n",
       "      <td>38</td>\n",
       "    </tr>\n",
       "    <tr>\n",
       "      <th>1</th>\n",
       "      <td>FOODS_3_080_CA_1_validation</td>\n",
       "      <td>2011-01-29</td>\n",
       "      <td>33</td>\n",
       "    </tr>\n",
       "    <tr>\n",
       "      <th>2</th>\n",
       "      <td>FOODS_3_090_CA_1_validation</td>\n",
       "      <td>2011-01-29</td>\n",
       "      <td>107</td>\n",
       "    </tr>\n",
       "    <tr>\n",
       "      <th>3</th>\n",
       "      <td>FOODS_3_120_CA_1_validation</td>\n",
       "      <td>2011-01-29</td>\n",
       "      <td>0</td>\n",
       "    </tr>\n",
       "    <tr>\n",
       "      <th>4</th>\n",
       "      <td>FOODS_3_252_CA_1_validation</td>\n",
       "      <td>2011-01-29</td>\n",
       "      <td>19</td>\n",
       "    </tr>\n",
       "    <tr>\n",
       "      <th>...</th>\n",
       "      <td>...</td>\n",
       "      <td>...</td>\n",
       "      <td>...</td>\n",
       "    </tr>\n",
       "    <tr>\n",
       "      <th>19125</th>\n",
       "      <td>FOODS_3_555_CA_1_validation</td>\n",
       "      <td>2016-04-24</td>\n",
       "      <td>24</td>\n",
       "    </tr>\n",
       "    <tr>\n",
       "      <th>19126</th>\n",
       "      <td>FOODS_3_586_CA_1_validation</td>\n",
       "      <td>2016-04-24</td>\n",
       "      <td>54</td>\n",
       "    </tr>\n",
       "    <tr>\n",
       "      <th>19127</th>\n",
       "      <td>FOODS_3_587_CA_1_validation</td>\n",
       "      <td>2016-04-24</td>\n",
       "      <td>26</td>\n",
       "    </tr>\n",
       "    <tr>\n",
       "      <th>19128</th>\n",
       "      <td>FOODS_3_714_CA_1_validation</td>\n",
       "      <td>2016-04-24</td>\n",
       "      <td>27</td>\n",
       "    </tr>\n",
       "    <tr>\n",
       "      <th>19129</th>\n",
       "      <td>FOODS_3_808_CA_1_validation</td>\n",
       "      <td>2016-04-24</td>\n",
       "      <td>0</td>\n",
       "    </tr>\n",
       "  </tbody>\n",
       "</table>\n",
       "<p>19130 rows × 3 columns</p>\n",
       "</div>"
      ],
      "text/plain": [
       "                                id          ds    y\n",
       "0      FOODS_2_197_CA_1_validation  2011-01-29   38\n",
       "1      FOODS_3_080_CA_1_validation  2011-01-29   33\n",
       "2      FOODS_3_090_CA_1_validation  2011-01-29  107\n",
       "3      FOODS_3_120_CA_1_validation  2011-01-29    0\n",
       "4      FOODS_3_252_CA_1_validation  2011-01-29   19\n",
       "...                            ...         ...  ...\n",
       "19125  FOODS_3_555_CA_1_validation  2016-04-24   24\n",
       "19126  FOODS_3_586_CA_1_validation  2016-04-24   54\n",
       "19127  FOODS_3_587_CA_1_validation  2016-04-24   26\n",
       "19128  FOODS_3_714_CA_1_validation  2016-04-24   27\n",
       "19129  FOODS_3_808_CA_1_validation  2016-04-24    0\n",
       "\n",
       "[19130 rows x 3 columns]"
      ]
     },
     "execution_count": 16,
     "metadata": {},
     "output_type": "execute_result"
    }
   ],
   "source": [
    "prophet_df"
   ]
  },
  {
   "cell_type": "code",
   "execution_count": 17,
   "id": "d3118e1e",
   "metadata": {},
   "outputs": [
    {
     "name": "stderr",
     "output_type": "stream",
     "text": [
      "/tmp/ipykernel_69071/3776362400.py:1: SettingWithCopyWarning: \n",
      "A value is trying to be set on a copy of a slice from a DataFrame.\n",
      "Try using .loc[row_indexer,col_indexer] = value instead\n",
      "\n",
      "See the caveats in the documentation: https://pandas.pydata.org/pandas-docs/stable/user_guide/indexing.html#returning-a-view-versus-a-copy\n",
      "  prophet_df['ds'] = pd.to_datetime(prophet_df['ds'])\n"
     ]
    }
   ],
   "source": [
    "prophet_df['ds'] = pd.to_datetime(prophet_df['ds'])"
   ]
  },
  {
   "cell_type": "code",
   "execution_count": 18,
   "id": "2f69bd36-3120-4b9c-9773-64ead12930b2",
   "metadata": {},
   "outputs": [],
   "source": [
    "from sklearn.metrics import mean_absolute_error\n",
    "import warnings\n"
   ]
  },
  {
   "cell_type": "markdown",
   "id": "6da2d945-7b32-4606-85ec-9404aa2ced08",
   "metadata": {},
   "source": [
    "# Auto_ARIMA with MAE"
   ]
  },
  {
   "cell_type": "code",
   "execution_count": 29,
   "id": "efc97d48-cd54-4102-a4ae-0e9c91982fca",
   "metadata": {},
   "outputs": [
    {
     "name": "stderr",
     "output_type": "stream",
     "text": [
      "18:16:39 - cmdstanpy - INFO - Chain [1] start processing\n"
     ]
    },
    {
     "name": "stdout",
     "output_type": "stream",
     "text": [
      "Analyzing product: FOODS_2_197_CA_1_validation\n"
     ]
    },
    {
     "name": "stderr",
     "output_type": "stream",
     "text": [
      "18:16:39 - cmdstanpy - INFO - Chain [1] done processing\n",
      "18:16:39 - cmdstanpy - INFO - Chain [1] start processing\n",
      "18:16:39 - cmdstanpy - INFO - Chain [1] done processing\n"
     ]
    },
    {
     "name": "stdout",
     "output_type": "stream",
     "text": [
      "Mean Absolute Error for FOODS_2_197_CA_1_validation: 11.367010469983766\n",
      "Analyzing product: FOODS_3_080_CA_1_validation\n"
     ]
    },
    {
     "name": "stderr",
     "output_type": "stream",
     "text": [
      "18:16:39 - cmdstanpy - INFO - Chain [1] start processing\n"
     ]
    },
    {
     "name": "stdout",
     "output_type": "stream",
     "text": [
      "Mean Absolute Error for FOODS_3_080_CA_1_validation: 4.776500194398421\n",
      "Analyzing product: FOODS_3_090_CA_1_validation\n"
     ]
    },
    {
     "name": "stderr",
     "output_type": "stream",
     "text": [
      "18:16:39 - cmdstanpy - INFO - Chain [1] done processing\n",
      "18:16:39 - cmdstanpy - INFO - Chain [1] start processing\n"
     ]
    },
    {
     "name": "stdout",
     "output_type": "stream",
     "text": [
      "Mean Absolute Error for FOODS_3_090_CA_1_validation: 16.664135902250575\n",
      "Analyzing product: FOODS_3_120_CA_1_validation\n"
     ]
    },
    {
     "name": "stderr",
     "output_type": "stream",
     "text": [
      "18:16:40 - cmdstanpy - INFO - Chain [1] done processing\n",
      "18:16:40 - cmdstanpy - INFO - Chain [1] start processing\n",
      "18:16:40 - cmdstanpy - INFO - Chain [1] done processing\n"
     ]
    },
    {
     "name": "stdout",
     "output_type": "stream",
     "text": [
      "Mean Absolute Error for FOODS_3_120_CA_1_validation: 21.07083458938636\n",
      "Analyzing product: FOODS_3_252_CA_1_validation\n"
     ]
    },
    {
     "name": "stderr",
     "output_type": "stream",
     "text": [
      "18:16:40 - cmdstanpy - INFO - Chain [1] start processing\n"
     ]
    },
    {
     "name": "stdout",
     "output_type": "stream",
     "text": [
      "Mean Absolute Error for FOODS_3_252_CA_1_validation: 6.5637324544171625\n",
      "Analyzing product: FOODS_3_555_CA_1_validation\n"
     ]
    },
    {
     "name": "stderr",
     "output_type": "stream",
     "text": [
      "18:16:40 - cmdstanpy - INFO - Chain [1] done processing\n"
     ]
    },
    {
     "name": "stdout",
     "output_type": "stream",
     "text": [
      "Mean Absolute Error for FOODS_3_555_CA_1_validation: 4.261908361923384\n",
      "Analyzing product: FOODS_3_586_CA_1_validation\n"
     ]
    },
    {
     "name": "stderr",
     "output_type": "stream",
     "text": [
      "18:16:40 - cmdstanpy - INFO - Chain [1] start processing\n",
      "18:16:41 - cmdstanpy - INFO - Chain [1] done processing\n",
      "18:16:41 - cmdstanpy - INFO - Chain [1] start processing\n"
     ]
    },
    {
     "name": "stdout",
     "output_type": "stream",
     "text": [
      "Mean Absolute Error for FOODS_3_586_CA_1_validation: 6.241775733242483\n",
      "Analyzing product: FOODS_3_587_CA_1_validation\n"
     ]
    },
    {
     "name": "stderr",
     "output_type": "stream",
     "text": [
      "18:16:41 - cmdstanpy - INFO - Chain [1] done processing\n",
      "18:16:41 - cmdstanpy - INFO - Chain [1] start processing\n",
      "18:16:41 - cmdstanpy - INFO - Chain [1] done processing\n"
     ]
    },
    {
     "name": "stdout",
     "output_type": "stream",
     "text": [
      "Mean Absolute Error for FOODS_3_587_CA_1_validation: 10.36622612532744\n",
      "Analyzing product: FOODS_3_714_CA_1_validation\n"
     ]
    },
    {
     "name": "stderr",
     "output_type": "stream",
     "text": [
      "18:16:41 - cmdstanpy - INFO - Chain [1] start processing\n"
     ]
    },
    {
     "name": "stdout",
     "output_type": "stream",
     "text": [
      "Mean Absolute Error for FOODS_3_714_CA_1_validation: 5.523726278892037\n",
      "Analyzing product: FOODS_3_808_CA_1_validation\n"
     ]
    },
    {
     "name": "stderr",
     "output_type": "stream",
     "text": [
      "18:16:41 - cmdstanpy - INFO - Chain [1] done processing\n"
     ]
    },
    {
     "name": "stdout",
     "output_type": "stream",
     "text": [
      "Mean Absolute Error for FOODS_3_808_CA_1_validation: 10.665453491107941\n",
      "Average Mean Absolute Error across all products: 9.750130360092957\n"
     ]
    }
   ],
   "source": [
    "import pandas as pd\n",
    "import numpy as np\n",
    "from sklearn.metrics import mean_absolute_error\n",
    "import os\n",
    "import pickle\n",
    "\n",
    "# Dictionary to store MAE results for each unique time-series identified by id\n",
    "product_results = {}\n",
    "models_list = {}\n",
    "\n",
    "# Define a function to perform Auto ARIMA\n",
    "def perform_prophet(product_data):\n",
    "    data_train = product_data.iloc[:-28]\n",
    "    data_test = product_data.iloc[-28:]\n",
    "    X_train = data_train[\"ds\"]\n",
    "    y_train = data_train[\"y\"]\n",
    "    X_test = data_test[\"ds\"]\n",
    "    y_test = data_test[\"y\"]\n",
    "    \n",
    "    fbp = Prophet()\n",
    "\n",
    "    model = fbp.fit(data_train)\n",
    "    \n",
    "    predict_placeholder = fbp.make_future_dataframe(28,freq=\"D\")\n",
    "    \n",
    "    # Predict on the test data\n",
    "    y_pred = fbp.predict(predict_placeholder[-28:])\n",
    "    \n",
    "\n",
    "    # Calculate and return the error metric for the current fold\n",
    "    mae = mean_absolute_error(y_test, y_pred[\"yhat\"])\n",
    "    \n",
    "    return model, mae\n",
    "\n",
    "# Iterate over each unique product series identified by id\n",
    "for id in merge_df_scaled['id'].unique():\n",
    "    print(f\"Analyzing product: {id}\")\n",
    "    product_data = prophet_df[prophet_df['id'] == id]\n",
    "\n",
    "    model, mae = perform_prophet(product_data)\n",
    "\n",
    "    # Store the model in the dictionary with id as key\n",
    "    models_list[id] = model\n",
    "\n",
    "    # Store the average MAE for the current product time-series\n",
    "    product_results[id] = mae\n",
    "    print(f'Mean Absolute Error for {id}: {mae}')\n",
    "    filename = f'../models/{id}_model.pkl'\n",
    "    with open(filename, 'wb') as f:\n",
    "        pickle.dump(model, f)\n",
    "\n",
    "# Optionally, you could print or analyze the average MAE across all products\n",
    "average_mae_across_products = np.mean(list(product_results.values()))\n",
    "print(f'Average Mean Absolute Error across all products: {average_mae_across_products}')\n"
   ]
  },
  {
   "cell_type": "code",
   "execution_count": 30,
   "id": "4bff513b",
   "metadata": {},
   "outputs": [
    {
     "data": {
      "text/plain": [
       "9.750130360092957"
      ]
     },
     "execution_count": 30,
     "metadata": {},
     "output_type": "execute_result"
    }
   ],
   "source": [
    "average_mae_across_products"
   ]
  },
  {
   "cell_type": "code",
   "execution_count": null,
   "id": "db732ea5",
   "metadata": {},
   "outputs": [],
   "source": []
  },
  {
   "cell_type": "code",
   "execution_count": null,
   "id": "1b6927af",
   "metadata": {},
   "outputs": [],
   "source": []
  },
  {
   "cell_type": "code",
   "execution_count": null,
   "id": "d1d0e90c",
   "metadata": {},
   "outputs": [],
   "source": []
  }
 ],
 "metadata": {
  "kernelspec": {
   "display_name": "Python 3 (ipykernel)",
   "language": "python",
   "name": "python3"
  },
  "language_info": {
   "codemirror_mode": {
    "name": "ipython",
    "version": 3
   },
   "file_extension": ".py",
   "mimetype": "text/x-python",
   "name": "python",
   "nbconvert_exporter": "python",
   "pygments_lexer": "ipython3",
   "version": "3.10.6"
  },
  "toc": {
   "base_numbering": 1,
   "nav_menu": {},
   "number_sections": true,
   "sideBar": true,
   "skip_h1_title": false,
   "title_cell": "Table of Contents",
   "title_sidebar": "Contents",
   "toc_cell": false,
   "toc_position": {},
   "toc_section_display": true,
   "toc_window_display": false
  },
  "varInspector": {
   "cols": {
    "lenName": 16,
    "lenType": 16,
    "lenVar": 40
   },
   "kernels_config": {
    "python": {
     "delete_cmd_postfix": "",
     "delete_cmd_prefix": "del ",
     "library": "var_list.py",
     "varRefreshCmd": "print(var_dic_list())"
    },
    "r": {
     "delete_cmd_postfix": ") ",
     "delete_cmd_prefix": "rm(",
     "library": "var_list.r",
     "varRefreshCmd": "cat(var_dic_list()) "
    }
   },
   "types_to_exclude": [
    "module",
    "function",
    "builtin_function_or_method",
    "instance",
    "_Feature"
   ],
   "window_display": false
  }
 },
 "nbformat": 4,
 "nbformat_minor": 5
}
