{
 "cells": [
  {
   "cell_type": "code",
   "execution_count": 1,
   "id": "3c604958-5544-4af3-81e7-0995c9d754d7",
   "metadata": {},
   "outputs": [],
   "source": [
    "import os"
   ]
  },
  {
   "cell_type": "code",
   "execution_count": 22,
   "id": "d0dc6a21-0d1e-4e80-9fbd-064be3666339",
   "metadata": {},
   "outputs": [],
   "source": [
    "directory_files = os.listdir(path=\"../raw_data/\")[-2:]"
   ]
  },
  {
   "cell_type": "code",
   "execution_count": 23,
   "id": "76b3ed6f-26e3-4dfa-9f73-f38c1a843d49",
   "metadata": {
    "scrolled": true
   },
   "outputs": [
    {
     "data": {
      "text/plain": [
       "['sales_train_evaluation.csv', 'sales_train_validation.csv']"
      ]
     },
     "execution_count": 23,
     "metadata": {},
     "output_type": "execute_result"
    }
   ],
   "source": [
    "directory_files"
   ]
  },
  {
   "cell_type": "code",
   "execution_count": 24,
   "id": "972a8de7-a5c2-46cc-a0f7-f05711339cee",
   "metadata": {},
   "outputs": [],
   "source": [
    "from google.cloud import bigquery\n",
    "import pandas as pd\n",
    "\n",
    "PROJECT = \"wagon-bootcamp-417212\"\n",
    "DATASET = \"walmart\"\n",
    "\n",
    "for item in directory_files:\n",
    "    TABLE = item[:-4]\n",
    "    \n",
    "    table = f\"{PROJECT}.{DATASET}.{TABLE}\"\n",
    "    \n",
    "    df = pd.read_csv(f\"../raw_data/{item}\")\n",
    "    \n",
    "    #Add here df colummns\n",
    "    df.columns = [name if type(name) == str else f\"_{name}\" for name in df.columns]\n",
    "    \n",
    "    client = bigquery.Client()\n",
    "    \n",
    "    write_mode = \"WRITE_TRUNCATE\" # or \"WRITE_APPEND\"\n",
    "    job_config = bigquery.LoadJobConfig(write_disposition=write_mode)\n",
    "    \n",
    "    job = client.load_table_from_dataframe(df, table, job_config=job_config)\n",
    "    result = job.result()"
   ]
  },
  {
   "cell_type": "code",
   "execution_count": 18,
   "id": "c2a701bd-2961-45ca-b971-e2035da9479d",
   "metadata": {},
   "outputs": [],
   "source": [
    "df = pd.read_csv(f\"../raw_data/sales_train_evaluation.csv\")\n"
   ]
  },
  {
   "cell_type": "code",
   "execution_count": 12,
   "id": "e88532a7",
   "metadata": {},
   "outputs": [
    {
     "data": {
      "text/html": [
       "<div>\n",
       "<style scoped>\n",
       "    .dataframe tbody tr th:only-of-type {\n",
       "        vertical-align: middle;\n",
       "    }\n",
       "\n",
       "    .dataframe tbody tr th {\n",
       "        vertical-align: top;\n",
       "    }\n",
       "\n",
       "    .dataframe thead th {\n",
       "        text-align: right;\n",
       "    }\n",
       "</style>\n",
       "<table border=\"1\" class=\"dataframe\">\n",
       "  <thead>\n",
       "    <tr style=\"text-align: right;\">\n",
       "      <th></th>\n",
       "      <th>date</th>\n",
       "      <th>id</th>\n",
       "      <th>item_id</th>\n",
       "      <th>dept_id</th>\n",
       "      <th>cat_id</th>\n",
       "      <th>store_id</th>\n",
       "      <th>state_id</th>\n",
       "      <th>d</th>\n",
       "      <th>sales</th>\n",
       "      <th>wm_yr_wk</th>\n",
       "    </tr>\n",
       "  </thead>\n",
       "  <tbody>\n",
       "    <tr>\n",
       "      <th>0</th>\n",
       "      <td>2011-01-29</td>\n",
       "      <td>FOODS_3_180_CA_1_validation</td>\n",
       "      <td>FOODS_3_180</td>\n",
       "      <td>FOODS_3</td>\n",
       "      <td>FOODS</td>\n",
       "      <td>CA_1</td>\n",
       "      <td>CA</td>\n",
       "      <td>d_1</td>\n",
       "      <td>0</td>\n",
       "      <td>11101</td>\n",
       "    </tr>\n",
       "    <tr>\n",
       "      <th>1</th>\n",
       "      <td>2011-01-29</td>\n",
       "      <td>HOUSEHOLD_2_383_CA_3_validation</td>\n",
       "      <td>HOUSEHOLD_2_383</td>\n",
       "      <td>HOUSEHOLD_2</td>\n",
       "      <td>HOUSEHOLD</td>\n",
       "      <td>CA_3</td>\n",
       "      <td>CA</td>\n",
       "      <td>d_1</td>\n",
       "      <td>2</td>\n",
       "      <td>11101</td>\n",
       "    </tr>\n",
       "    <tr>\n",
       "      <th>2</th>\n",
       "      <td>2011-01-29</td>\n",
       "      <td>FOODS_3_409_CA_3_validation</td>\n",
       "      <td>FOODS_3_409</td>\n",
       "      <td>FOODS_3</td>\n",
       "      <td>FOODS</td>\n",
       "      <td>CA_3</td>\n",
       "      <td>CA</td>\n",
       "      <td>d_1</td>\n",
       "      <td>0</td>\n",
       "      <td>11101</td>\n",
       "    </tr>\n",
       "    <tr>\n",
       "      <th>3</th>\n",
       "      <td>2011-01-29</td>\n",
       "      <td>FOODS_1_097_CA_2_validation</td>\n",
       "      <td>FOODS_1_097</td>\n",
       "      <td>FOODS_1</td>\n",
       "      <td>FOODS</td>\n",
       "      <td>CA_2</td>\n",
       "      <td>CA</td>\n",
       "      <td>d_1</td>\n",
       "      <td>0</td>\n",
       "      <td>11101</td>\n",
       "    </tr>\n",
       "    <tr>\n",
       "      <th>4</th>\n",
       "      <td>2011-01-29</td>\n",
       "      <td>HOBBIES_1_272_TX_2_validation</td>\n",
       "      <td>HOBBIES_1_272</td>\n",
       "      <td>HOBBIES_1</td>\n",
       "      <td>HOBBIES</td>\n",
       "      <td>TX_2</td>\n",
       "      <td>TX</td>\n",
       "      <td>d_1</td>\n",
       "      <td>0</td>\n",
       "      <td>11101</td>\n",
       "    </tr>\n",
       "    <tr>\n",
       "      <th>...</th>\n",
       "      <td>...</td>\n",
       "      <td>...</td>\n",
       "      <td>...</td>\n",
       "      <td>...</td>\n",
       "      <td>...</td>\n",
       "      <td>...</td>\n",
       "      <td>...</td>\n",
       "      <td>...</td>\n",
       "      <td>...</td>\n",
       "      <td>...</td>\n",
       "    </tr>\n",
       "    <tr>\n",
       "      <th>382595</th>\n",
       "      <td>2016-04-24</td>\n",
       "      <td>HOUSEHOLD_1_314_WI_2_validation</td>\n",
       "      <td>HOUSEHOLD_1_314</td>\n",
       "      <td>HOUSEHOLD_1</td>\n",
       "      <td>HOUSEHOLD</td>\n",
       "      <td>WI_2</td>\n",
       "      <td>WI</td>\n",
       "      <td>d_1913</td>\n",
       "      <td>0</td>\n",
       "      <td>11613</td>\n",
       "    </tr>\n",
       "    <tr>\n",
       "      <th>382596</th>\n",
       "      <td>2016-04-24</td>\n",
       "      <td>FOODS_2_126_CA_4_validation</td>\n",
       "      <td>FOODS_2_126</td>\n",
       "      <td>FOODS_2</td>\n",
       "      <td>FOODS</td>\n",
       "      <td>CA_4</td>\n",
       "      <td>CA</td>\n",
       "      <td>d_1913</td>\n",
       "      <td>1</td>\n",
       "      <td>11613</td>\n",
       "    </tr>\n",
       "    <tr>\n",
       "      <th>382597</th>\n",
       "      <td>2016-04-24</td>\n",
       "      <td>FOODS_1_177_TX_1_validation</td>\n",
       "      <td>FOODS_1_177</td>\n",
       "      <td>FOODS_1</td>\n",
       "      <td>FOODS</td>\n",
       "      <td>TX_1</td>\n",
       "      <td>TX</td>\n",
       "      <td>d_1913</td>\n",
       "      <td>0</td>\n",
       "      <td>11613</td>\n",
       "    </tr>\n",
       "    <tr>\n",
       "      <th>382598</th>\n",
       "      <td>2016-04-24</td>\n",
       "      <td>FOODS_3_356_WI_2_validation</td>\n",
       "      <td>FOODS_3_356</td>\n",
       "      <td>FOODS_3</td>\n",
       "      <td>FOODS</td>\n",
       "      <td>WI_2</td>\n",
       "      <td>WI</td>\n",
       "      <td>d_1913</td>\n",
       "      <td>0</td>\n",
       "      <td>11613</td>\n",
       "    </tr>\n",
       "    <tr>\n",
       "      <th>382599</th>\n",
       "      <td>2016-04-24</td>\n",
       "      <td>FOODS_3_072_CA_3_validation</td>\n",
       "      <td>FOODS_3_072</td>\n",
       "      <td>FOODS_3</td>\n",
       "      <td>FOODS</td>\n",
       "      <td>CA_3</td>\n",
       "      <td>CA</td>\n",
       "      <td>d_1913</td>\n",
       "      <td>3</td>\n",
       "      <td>11613</td>\n",
       "    </tr>\n",
       "  </tbody>\n",
       "</table>\n",
       "<p>382600 rows × 10 columns</p>\n",
       "</div>"
      ],
      "text/plain": [
       "              date                               id          item_id  \\\n",
       "0       2011-01-29      FOODS_3_180_CA_1_validation      FOODS_3_180   \n",
       "1       2011-01-29  HOUSEHOLD_2_383_CA_3_validation  HOUSEHOLD_2_383   \n",
       "2       2011-01-29      FOODS_3_409_CA_3_validation      FOODS_3_409   \n",
       "3       2011-01-29      FOODS_1_097_CA_2_validation      FOODS_1_097   \n",
       "4       2011-01-29    HOBBIES_1_272_TX_2_validation    HOBBIES_1_272   \n",
       "...            ...                              ...              ...   \n",
       "382595  2016-04-24  HOUSEHOLD_1_314_WI_2_validation  HOUSEHOLD_1_314   \n",
       "382596  2016-04-24      FOODS_2_126_CA_4_validation      FOODS_2_126   \n",
       "382597  2016-04-24      FOODS_1_177_TX_1_validation      FOODS_1_177   \n",
       "382598  2016-04-24      FOODS_3_356_WI_2_validation      FOODS_3_356   \n",
       "382599  2016-04-24      FOODS_3_072_CA_3_validation      FOODS_3_072   \n",
       "\n",
       "            dept_id     cat_id store_id state_id       d  sales  wm_yr_wk  \n",
       "0           FOODS_3      FOODS     CA_1       CA     d_1      0     11101  \n",
       "1       HOUSEHOLD_2  HOUSEHOLD     CA_3       CA     d_1      2     11101  \n",
       "2           FOODS_3      FOODS     CA_3       CA     d_1      0     11101  \n",
       "3           FOODS_1      FOODS     CA_2       CA     d_1      0     11101  \n",
       "4         HOBBIES_1    HOBBIES     TX_2       TX     d_1      0     11101  \n",
       "...             ...        ...      ...      ...     ...    ...       ...  \n",
       "382595  HOUSEHOLD_1  HOUSEHOLD     WI_2       WI  d_1913      0     11613  \n",
       "382596      FOODS_2      FOODS     CA_4       CA  d_1913      1     11613  \n",
       "382597      FOODS_1      FOODS     TX_1       TX  d_1913      0     11613  \n",
       "382598      FOODS_3      FOODS     WI_2       WI  d_1913      0     11613  \n",
       "382599      FOODS_3      FOODS     CA_3       CA  d_1913      3     11613  \n",
       "\n",
       "[382600 rows x 10 columns]"
      ]
     },
     "execution_count": 12,
     "metadata": {},
     "output_type": "execute_result"
    }
   ],
   "source": [
    "df.iloc[:,:10]"
   ]
  },
  {
   "cell_type": "code",
   "execution_count": 17,
   "id": "f2e56af8",
   "metadata": {},
   "outputs": [
    {
     "name": "stdout",
     "output_type": "stream",
     "text": [
      "<class 'pandas.core.frame.DataFrame'>\n",
      "RangeIndex: 382600 entries, 0 to 382599\n",
      "Data columns (total 2 columns):\n",
      " #   Column        Non-Null Count   Dtype \n",
      "---  ------        --------------   ----- \n",
      " 0   event_name_2  382600 non-null  object\n",
      " 1   event_type_2  382600 non-null  object\n",
      "dtypes: object(2)\n",
      "memory usage: 5.8+ MB\n"
     ]
    }
   ],
   "source": [
    "df.iloc[:,14:16].info()"
   ]
  },
  {
   "cell_type": "code",
   "execution_count": null,
   "id": "b4ee98dd",
   "metadata": {},
   "outputs": [],
   "source": []
  }
 ],
 "metadata": {
  "kernelspec": {
   "display_name": "Python 3 (ipykernel)",
   "language": "python",
   "name": "python3"
  },
  "language_info": {
   "codemirror_mode": {
    "name": "ipython",
    "version": 3
   },
   "file_extension": ".py",
   "mimetype": "text/x-python",
   "name": "python",
   "nbconvert_exporter": "python",
   "pygments_lexer": "ipython3",
   "version": "3.10.6"
  },
  "toc": {
   "base_numbering": 1,
   "nav_menu": {},
   "number_sections": true,
   "sideBar": true,
   "skip_h1_title": false,
   "title_cell": "Table of Contents",
   "title_sidebar": "Contents",
   "toc_cell": false,
   "toc_position": {},
   "toc_section_display": true,
   "toc_window_display": false
  },
  "varInspector": {
   "cols": {
    "lenName": 16,
    "lenType": 16,
    "lenVar": 40
   },
   "kernels_config": {
    "python": {
     "delete_cmd_postfix": "",
     "delete_cmd_prefix": "del ",
     "library": "var_list.py",
     "varRefreshCmd": "print(var_dic_list())"
    },
    "r": {
     "delete_cmd_postfix": ") ",
     "delete_cmd_prefix": "rm(",
     "library": "var_list.r",
     "varRefreshCmd": "cat(var_dic_list()) "
    }
   },
   "types_to_exclude": [
    "module",
    "function",
    "builtin_function_or_method",
    "instance",
    "_Feature"
   ],
   "window_display": false
  }
 },
 "nbformat": 4,
 "nbformat_minor": 5
}
