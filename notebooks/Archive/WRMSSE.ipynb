{
 "cells": [
  {
   "cell_type": "code",
   "execution_count": null,
   "id": "52be9686-8e03-4458-8704-82ba7649d97c",
   "metadata": {},
   "outputs": [],
   "source": []
  },
  {
   "cell_type": "markdown",
   "id": "f5cf6543-0c0f-4baa-aaf9-95aabc5a77b7",
   "metadata": {},
   "source": [
    "\\begin{equation}\n",
    "WRMSSE = \\sum_{i=1}^{42840} \\left(\\frac{W_i}{\\sqrt{S_i}} \\times \\sqrt{\\sum{(D)^2}}\\right)\n",
    "\\end{equation}"
   ]
  },
  {
   "cell_type": "code",
   "execution_count": null,
   "id": "1aabe252-117a-43c2-bcb4-0befc8d8652f",
   "metadata": {},
   "outputs": [],
   "source": []
  },
  {
   "cell_type": "code",
   "execution_count": 11,
   "id": "1775486c-bb40-4315-9c7d-d3a25fd5438c",
   "metadata": {},
   "outputs": [],
   "source": [
    "import numpy as np\n",
    "\n",
    "#we need to calculate  MSE \n",
    "def calculate_mse(series):\n",
    "    return np.mean(np.square(series[:-1] - series[1:]))\n",
    "    \n",
    "scales = np.array([calculate_mse(actuals[i]) for i in range(actuals.shape[0])])\n",
    "\n",
    "#calculate the errors \n",
    "errors = predictions - actuals\n",
    "\n",
    "#Weights\n",
    "weights = np.array([0.5, 0.3, 0.2])\n",
    "#actuals = real values\n",
    "#errors= predictions -actuals\n",
    "#weights\n",
    "def calculate_wrmsse(weights, scales, errors):\n",
    "    assert len(weights) == len(scales) == len(errors), \"Inconsistent sizes in the input lists.\"\n",
    "    # Initialize the result\n",
    "    wrmsse = 0\n",
    "    # Calculate the weighted sum for each time series\n",
    "    for weight, scale, error in zip(weights, scales, errors):\n",
    "        wrmsse += (weight / np.sqrt(scale)) * np.sqrt(np.sum(np.square(error)))\n",
    "    return np.sqrt(wrmsse)\n"
   ]
  },
  {
   "cell_type": "code",
   "execution_count": 10,
   "id": "cb963589-162a-41b3-ae18-4aa6b27268b7",
   "metadata": {},
   "outputs": [
    {
     "name": "stdout",
     "output_type": "stream",
     "text": [
      "WRMSSE: 0.9262434090998605\n"
     ]
    }
   ],
   "source": [
    "import numpy as np\n",
    "\n",
    "def calculate_wrmsse(weights, scales, errors):\n",
    "    # Check if the sizes of weights, scales, and errors match\n",
    "    assert len(weights) == len(scales) == len(errors), \"Inconsistent sizes in input lists.\"\n",
    "\n",
    "    # Initialize the result\n",
    "    wrmsse = 0\n",
    "    \n",
    "    # Calculate the weighted sum for each time series\n",
    "    for weight, scale, error in zip(weights, scales, errors):\n",
    "        wrmsse += (weight / np.sqrt(scale)) * np.sqrt(np.sum(np.square(error)))\n",
    "\n",
    "    return np.sqrt(wrmsse)\n",
    "\n",
    "# Synthetic actual sales data for 3 products over 4 weeks\n",
    "actuals = np.array([\n",
    "    [100, 120, 110, 130],  # Product 1\n",
    "    [80, 85, 88, 90],      # Product 2\n",
    "    [200, 195, 190, 185]   # Product 3\n",
    "])\n",
    "\n",
    "# Synthetic predictions for those products\n",
    "predictions = np.array([\n",
    "    [95, 125, 105, 135],   # Product 1\n",
    "    [78, 83, 87, 92],      # Product 2\n",
    "    [205, 198, 189, 182]   # Product 3\n",
    "])\n",
    "\n",
    "# Calculate errors as differences between predictions and actual values\n",
    "errors = predictions - actuals\n",
    "\n",
    "# Define weights based on the importance of each product\n",
    "weights = np.array([0.5, 0.3, 0.2])\n",
    "\n",
    "# Calculate scales based on the historical Mean Squared Error (MSE) of each time series\n",
    "def calculate_mse(series):\n",
    "    return np.mean(np.square(series[:-1] - series[1:]))\n",
    "\n",
    "scales = np.array([calculate_mse(actuals[i]) for i in range(actuals.shape[0])])\n",
    "\n",
    "# Use the function to calculate the WRMSSE\n",
    "wrmsse_value = calculate_wrmsse(weights, scales, errors)\n",
    "print(f\"WRMSSE: {wrmsse_value}\")"
   ]
  },
  {
   "cell_type": "code",
   "execution_count": null,
   "id": "e677e379-e0ff-4245-99fa-aa24a2435ba5",
   "metadata": {},
   "outputs": [],
   "source": []
  }
 ],
 "metadata": {
  "kernelspec": {
   "display_name": "Python 3 (ipykernel)",
   "language": "python",
   "name": "python3"
  },
  "language_info": {
   "codemirror_mode": {
    "name": "ipython",
    "version": 3
   },
   "file_extension": ".py",
   "mimetype": "text/x-python",
   "name": "python",
   "nbconvert_exporter": "python",
   "pygments_lexer": "ipython3",
   "version": "3.10.6"
  }
 },
 "nbformat": 4,
 "nbformat_minor": 5
}
