{
 "cells": [
  {
   "cell_type": "code",
   "execution_count": null,
   "id": "59043ca6-be46-4975-9bfe-3bc2b78c92c4",
   "metadata": {},
   "outputs": [],
   "source": [
    "import pandas as pd\n",
    "import numpy as np\n",
    "import matplotlib.pyplot as plt"
   ]
  },
  {
   "cell_type": "code",
   "execution_count": null,
   "id": "7c8a0a0b-f3cb-4895-abd0-31a0bac64a88",
   "metadata": {},
   "outputs": [],
   "source": [
    "df = pd.read_csv(\"../raw_data/sales_train_validation.csv\")"
   ]
  },
  {
   "cell_type": "code",
   "execution_count": null,
   "id": "e98fbdb1-1915-43e0-b625-74f40b9559ec",
   "metadata": {},
   "outputs": [],
   "source": [
    "df"
   ]
  },
  {
   "cell_type": "code",
   "execution_count": null,
   "id": "c3572806-bc71-4ffb-b462-236293208de5",
   "metadata": {},
   "outputs": [],
   "source": [
    "calendar_df = pd.read_csv(\"../raw_data/calendar.csv\")"
   ]
  },
  {
   "cell_type": "code",
   "execution_count": null,
   "id": "b9cd1eb0-7f07-47b7-85e7-e05bd7491b2e",
   "metadata": {},
   "outputs": [],
   "source": [
    "calendar_df"
   ]
  },
  {
   "cell_type": "code",
   "execution_count": null,
   "id": "9832df73-b3ab-44a9-b64a-a51e8cce9ad1",
   "metadata": {},
   "outputs": [],
   "source": [
    "oneproduct_df = df.iloc[5500,:]"
   ]
  },
  {
   "cell_type": "code",
   "execution_count": null,
   "id": "2f0708c0-6307-4d74-9d1d-4548c62a3500",
   "metadata": {},
   "outputs": [],
   "source": [
    "oneproduct_df = oneproduct_df.reset_index()"
   ]
  },
  {
   "cell_type": "code",
   "execution_count": null,
   "id": "5f84567a-ddc3-4128-a8b6-e14dff45cf77",
   "metadata": {},
   "outputs": [],
   "source": [
    "oneproduct_df"
   ]
  },
  {
   "cell_type": "code",
   "execution_count": null,
   "id": "e334e5b2-32c0-4cfd-8f11-84be74c050f9",
   "metadata": {},
   "outputs": [],
   "source": [
    "oneproduct_df.columns = ['d', 'value']"
   ]
  },
  {
   "cell_type": "code",
   "execution_count": null,
   "id": "48f5426b-d553-4d1f-9178-21285685075e",
   "metadata": {},
   "outputs": [],
   "source": [
    "# Perform the left join\n",
    "merged_df = oneproduct_df.merge(calendar_df, on='d', how='left')\n"
   ]
  },
  {
   "cell_type": "code",
   "execution_count": null,
   "id": "0fa59710-897b-4936-9a20-dd3c19e19716",
   "metadata": {},
   "outputs": [],
   "source": [
    "merged_df"
   ]
  },
  {
   "cell_type": "code",
   "execution_count": null,
   "id": "9516f2ef-ac95-43a2-8aa3-436ca8a88fc3",
   "metadata": {},
   "outputs": [],
   "source": [
    "price_df = pd.read_csv(\"../raw_data/sell_prices.csv\")"
   ]
  },
  {
   "cell_type": "code",
   "execution_count": null,
   "id": "2bd800ac-bbe2-4b45-a25f-9caeee811177",
   "metadata": {},
   "outputs": [],
   "source": [
    "price_df"
   ]
  },
  {
   "cell_type": "code",
   "execution_count": null,
   "id": "2243ba8a-8772-4add-afd4-6d949b5d24a1",
   "metadata": {},
   "outputs": [],
   "source": [
    "price_df[\"wm_yr_wk\"].nunique()"
   ]
  },
  {
   "cell_type": "code",
   "execution_count": null,
   "id": "fd16f736-8d67-4b0a-8e3d-c387b28f83f9",
   "metadata": {},
   "outputs": [],
   "source": [
    "# Perform the left join\n",
    "merged_final_df = merged_df.merge(price_df, on='wm_yr_wk', how='left')"
   ]
  }
 ],
 "metadata": {
  "kernelspec": {
   "display_name": "Python 3 (ipykernel)",
   "language": "python",
   "name": "python3"
  },
  "language_info": {
   "codemirror_mode": {
    "name": "ipython",
    "version": 3
   },
   "file_extension": ".py",
   "mimetype": "text/x-python",
   "name": "python",
   "nbconvert_exporter": "python",
   "pygments_lexer": "ipython3",
   "version": "3.10.6"
  }
 },
 "nbformat": 4,
 "nbformat_minor": 5
}
