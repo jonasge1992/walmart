{
 "cells": [
  {
   "cell_type": "markdown",
   "id": "fc7ca504-dd2d-454b-95ee-23bb599d40ec",
   "metadata": {},
   "source": [
    "Forecast model for Walmart's top 10 best-selling products using an LSTM based on detailed specifications for cross-validation, train-test splits, and sequence handling"
   ]
  },
  {
   "cell_type": "code",
   "execution_count": 1,
   "id": "9ff93732-38dd-400f-b4ec-f21445cd4d6e",
   "metadata": {},
   "outputs": [],
   "source": [
    "import numpy as np\n",
    "import pandas as pd\n",
    "from tensorflow.keras.models import Sequential\n",
    "from tensorflow.keras.layers import LSTM, Dense\n",
    "from sklearn.preprocessing import MinMaxScaler\n",
    "from sklearn.metrics import mean_absolute_error\n",
    "from sklearn.model_selection import TimeSeriesSplit"
   ]
  },
  {
   "cell_type": "code",
   "execution_count": 2,
   "id": "868b6ab8-2a29-4c76-9d53-fb2e52a90dc6",
   "metadata": {},
   "outputs": [],
   "source": [
    "# Load data\n",
    "df = pd.read_csv('../raw_data/cleaned_merge_df_top10.csv')\n",
    "df['date'] = pd.to_datetime(df['date'])\n",
    "df.set_index('date', inplace=True)"
   ]
  },
  {
   "cell_type": "code",
   "execution_count": 3,
   "id": "b70e7f98-b793-4157-8b7b-7e42fcd42bab",
   "metadata": {},
   "outputs": [],
   "source": [
    "# Prepare data for LSTM\n",
    "scaler = MinMaxScaler(feature_range=(0, 1))\n",
    "df['scaled_sales'] = scaler.fit_transform(df[['sales']])\n",
    "\n",
    "def create_sequences(data, input_length, output_length):\n",
    "    X, y = [], []\n",
    "    for i in range(len(data) - input_length - output_length + 1):\n",
    "        X.append(data[i:(i + input_length)])\n",
    "        y.append(data[(i + input_length):(i + input_length + output_length)])\n",
    "    return np.array(X), np.array(y)\n",
    "\n",
    "input_length = 28\n",
    "output_length = 28\n",
    "n_features = 1  # since we are only using sales as feature\n",
    "n_splits = 10  # Number of folds\n"
   ]
  },
  {
   "cell_type": "code",
   "execution_count": 9,
   "id": "d0d94bfb-2d55-42f6-a019-810f091f13ce",
   "metadata": {},
   "outputs": [],
   "source": [
    "# Time Series Cross-validation\n",
    "tscv = TimeSeriesSplit(n_splits=n_splits)\n",
    "\n",
    "# Define the LSTM model outside the loop\n",
    "model = Sequential([LSTM(50, activation='relu'), Dense(output_length)])\n",
    "model.compile(optimizer='adam', loss='mean_squared_error', metrics=['mean_absolute_error'])\n"
   ]
  },
  {
   "cell_type": "code",
   "execution_count": 10,
   "id": "8e814e63-4793-4eb6-941a-93101eb6026c",
   "metadata": {},
   "outputs": [
    {
     "name": "stdout",
     "output_type": "stream",
     "text": [
      "\u001b[1m53/53\u001b[0m \u001b[32m━━━━━━━━━━━━━━━━━━━━\u001b[0m\u001b[37m\u001b[0m \u001b[1m0s\u001b[0m 2ms/step\n",
      "\u001b[1m53/53\u001b[0m \u001b[32m━━━━━━━━━━━━━━━━━━━━\u001b[0m\u001b[37m\u001b[0m \u001b[1m0s\u001b[0m 1ms/step\n",
      "\u001b[1m53/53\u001b[0m \u001b[32m━━━━━━━━━━━━━━━━━━━━\u001b[0m\u001b[37m\u001b[0m \u001b[1m0s\u001b[0m 1ms/step\n",
      "\u001b[1m53/53\u001b[0m \u001b[32m━━━━━━━━━━━━━━━━━━━━\u001b[0m\u001b[37m\u001b[0m \u001b[1m0s\u001b[0m 1ms/step\n",
      "\u001b[1m53/53\u001b[0m \u001b[32m━━━━━━━━━━━━━━━━━━━━\u001b[0m\u001b[37m\u001b[0m \u001b[1m0s\u001b[0m 1ms/step\n",
      "\u001b[1m53/53\u001b[0m \u001b[32m━━━━━━━━━━━━━━━━━━━━\u001b[0m\u001b[37m\u001b[0m \u001b[1m0s\u001b[0m 1ms/step\n",
      "\u001b[1m53/53\u001b[0m \u001b[32m━━━━━━━━━━━━━━━━━━━━\u001b[0m\u001b[37m\u001b[0m \u001b[1m0s\u001b[0m 1ms/step\n",
      "\u001b[1m53/53\u001b[0m \u001b[32m━━━━━━━━━━━━━━━━━━━━\u001b[0m\u001b[37m\u001b[0m \u001b[1m0s\u001b[0m 1ms/step\n",
      "\u001b[1m53/53\u001b[0m \u001b[32m━━━━━━━━━━━━━━━━━━━━\u001b[0m\u001b[37m\u001b[0m \u001b[1m0s\u001b[0m 1ms/step\n",
      "\u001b[1m53/53\u001b[0m \u001b[32m━━━━━━━━━━━━━━━━━━━━\u001b[0m\u001b[37m\u001b[0m \u001b[1m0s\u001b[0m 1ms/step\n"
     ]
    }
   ],
   "source": [
    "# Training and evaluation\n",
    "fold_results = []\n",
    "\n",
    "for train_index, test_index in tscv.split(df):\n",
    "    train, test = df.iloc[train_index], df.iloc[test_index]\n",
    "\n",
    "    # Create sequences\n",
    "    X_train, y_train = create_sequences(train['scaled_sales'].values, input_length, output_length)\n",
    "    X_test, y_test = create_sequences(test['scaled_sales'].values, input_length, output_length)\n",
    "\n",
    "    # Reshape for LSTM input\n",
    "    X_train = X_train.reshape((X_train.shape[0], X_train.shape[1], n_features))\n",
    "    X_test = X_test.reshape((X_test.shape[0], X_test.shape[1], n_features))\n",
    "\n",
    "    # Fit the model\n",
    "    model.fit(X_train, y_train, epochs=10, batch_size=16, verbose=0)\n",
    "\n",
    "    # Evaluate the model\n",
    "    predictions = model.predict(X_test)\n",
    "    predictions = scaler.inverse_transform(predictions)\n",
    "    y_test = scaler.inverse_transform(y_test)\n",
    "\n",
    "    mae = mean_absolute_error(y_test, predictions)\n",
    "    fold_results.append(mae)"
   ]
  },
  {
   "cell_type": "code",
   "execution_count": 11,
   "id": "eb26c287-cb3f-49d8-b1cb-b1cb99df2330",
   "metadata": {},
   "outputs": [
    {
     "name": "stdout",
     "output_type": "stream",
     "text": [
      "MAE per fold: [21.19958665151798, 17.015310540892976, 20.560944233249753, 16.436080863669687, 18.358872259324592, 15.655364271159211, 13.379781732088892, 11.81029666768563, 10.772487540574614, 11.49169107084056]\n",
      "Average MAE: 15.668041583100386\n",
      "\u001b[1m1/1\u001b[0m \u001b[32m━━━━━━━━━━━━━━━━━━━━\u001b[0m\u001b[37m\u001b[0m \u001b[1m0s\u001b[0m 8ms/step\n",
      "Forecast for the next 28 days: [19.430387  20.779943  63.081856  40.621223  44.707546  25.435373\n",
      " 41.890106  24.857689  24.929724   3.1096044 11.904546  18.456148\n",
      " 53.09849   29.418821  30.64181   19.387747  34.28429   20.550407\n",
      " 23.340523   3.4327629  8.233639  13.101522  50.576714  26.018362\n",
      " 25.010578  15.743027  30.641811  15.393671 ]\n"
     ]
    }
   ],
   "source": [
    "# Report results\n",
    "print(\"MAE per fold:\", fold_results)\n",
    "print(\"Average MAE:\", np.mean(fold_results))\n",
    "\n",
    "# Forecast next 28 days for the last sequence of the last fold\n",
    "last_sequence = df['scaled_sales'].values[-input_length:]\n",
    "last_sequence = last_sequence.reshape((1, input_length, n_features))\n",
    "future_sales = model.predict(last_sequence)\n",
    "future_sales = scaler.inverse_transform(future_sales)\n",
    "print(\"Forecast for the next 28 days:\", future_sales.flatten())"
   ]
  },
  {
   "cell_type": "code",
   "execution_count": null,
   "id": "2958d600-da35-49ad-9f88-8be7f001a823",
   "metadata": {},
   "outputs": [],
   "source": []
  }
 ],
 "metadata": {
  "kernelspec": {
   "display_name": "Python 3 (ipykernel)",
   "language": "python",
   "name": "python3"
  },
  "language_info": {
   "codemirror_mode": {
    "name": "ipython",
    "version": 3
   },
   "file_extension": ".py",
   "mimetype": "text/x-python",
   "name": "python",
   "nbconvert_exporter": "python",
   "pygments_lexer": "ipython3",
   "version": "3.10.6"
  }
 },
 "nbformat": 4,
 "nbformat_minor": 5
}
