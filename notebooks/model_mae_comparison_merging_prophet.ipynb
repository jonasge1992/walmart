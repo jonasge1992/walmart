{
 "cells": [
  {
   "cell_type": "code",
   "execution_count": 1,
   "id": "8c91c641-7676-421d-aef8-79ef55aa0315",
   "metadata": {
    "tags": []
   },
   "outputs": [
    {
     "name": "stderr",
     "output_type": "stream",
     "text": [
      "/home/jonas/.pyenv/versions/3.10.6/envs/walmart/lib/python3.10/site-packages/tqdm/auto.py:21: TqdmWarning: IProgress not found. Please update jupyter and ipywidgets. See https://ipywidgets.readthedocs.io/en/stable/user_install.html\n",
      "  from .autonotebook import tqdm as notebook_tqdm\n",
      "Importing plotly failed. Interactive plots will not work.\n"
     ]
    }
   ],
   "source": [
    "import numpy as np # linear algebra\n",
    "import pandas as pd # data processing, CSV file I/O (e.g. pd.read_csv)\n",
    "import matplotlib.pyplot as plt\n",
    "import seaborn as sns\n",
    "import optuna\n",
    "import pickle\n",
    "\n",
    "from sklearn.model_selection import TimeSeriesSplit\n",
    "from statsmodels.tsa.holtwinters import ExponentialSmoothing\n",
    "from sklearn.metrics import mean_absolute_error\n",
    "from statsmodels.tsa.arima.model import ARIMA\n",
    "import warnings\n",
    "from prophet import Prophet\n",
    "from prophet.diagnostics import cross_validation, performance_metrics\n",
    "from prophet.plot import plot_cross_validation_metric"
   ]
  },
  {
   "cell_type": "markdown",
   "id": "30c5842e-7d08-4165-90ec-b7edfc62dcc7",
   "metadata": {},
   "source": [
    "# 0 Importing Data"
   ]
  },
  {
   "cell_type": "code",
   "execution_count": 2,
   "id": "023fbbd9-6c97-41d6-bf76-920c4aee83ce",
   "metadata": {},
   "outputs": [
    {
     "data": {
      "text/html": [
       "<div>\n",
       "<style scoped>\n",
       "    .dataframe tbody tr th:only-of-type {\n",
       "        vertical-align: middle;\n",
       "    }\n",
       "\n",
       "    .dataframe tbody tr th {\n",
       "        vertical-align: top;\n",
       "    }\n",
       "\n",
       "    .dataframe thead th {\n",
       "        text-align: right;\n",
       "    }\n",
       "</style>\n",
       "<table border=\"1\" class=\"dataframe\">\n",
       "  <thead>\n",
       "    <tr style=\"text-align: right;\">\n",
       "      <th></th>\n",
       "      <th>id</th>\n",
       "      <th>item_id</th>\n",
       "      <th>dept_id</th>\n",
       "      <th>cat_id</th>\n",
       "      <th>store_id</th>\n",
       "      <th>state_id</th>\n",
       "      <th>sales</th>\n",
       "      <th>weekday</th>\n",
       "      <th>wday</th>\n",
       "      <th>event_name_1</th>\n",
       "      <th>event_type_1</th>\n",
       "      <th>event_name_2</th>\n",
       "      <th>event_type_2</th>\n",
       "      <th>snap_CA</th>\n",
       "      <th>snap_TX</th>\n",
       "      <th>snap_WI</th>\n",
       "      <th>sell_price</th>\n",
       "    </tr>\n",
       "    <tr>\n",
       "      <th>date</th>\n",
       "      <th></th>\n",
       "      <th></th>\n",
       "      <th></th>\n",
       "      <th></th>\n",
       "      <th></th>\n",
       "      <th></th>\n",
       "      <th></th>\n",
       "      <th></th>\n",
       "      <th></th>\n",
       "      <th></th>\n",
       "      <th></th>\n",
       "      <th></th>\n",
       "      <th></th>\n",
       "      <th></th>\n",
       "      <th></th>\n",
       "      <th></th>\n",
       "      <th></th>\n",
       "    </tr>\n",
       "  </thead>\n",
       "  <tbody>\n",
       "    <tr>\n",
       "      <th>2011-01-29</th>\n",
       "      <td>FOODS_2_197_CA_1_validation</td>\n",
       "      <td>FOODS_2_197</td>\n",
       "      <td>FOODS_2</td>\n",
       "      <td>FOODS</td>\n",
       "      <td>CA_1</td>\n",
       "      <td>CA</td>\n",
       "      <td>38</td>\n",
       "      <td>Saturday</td>\n",
       "      <td>1</td>\n",
       "      <td>0</td>\n",
       "      <td>0</td>\n",
       "      <td>0</td>\n",
       "      <td>0</td>\n",
       "      <td>0</td>\n",
       "      <td>0</td>\n",
       "      <td>0</td>\n",
       "      <td>2.98</td>\n",
       "    </tr>\n",
       "    <tr>\n",
       "      <th>2011-01-29</th>\n",
       "      <td>FOODS_3_080_CA_1_validation</td>\n",
       "      <td>FOODS_3_080</td>\n",
       "      <td>FOODS_3</td>\n",
       "      <td>FOODS</td>\n",
       "      <td>CA_1</td>\n",
       "      <td>CA</td>\n",
       "      <td>33</td>\n",
       "      <td>Saturday</td>\n",
       "      <td>1</td>\n",
       "      <td>0</td>\n",
       "      <td>0</td>\n",
       "      <td>0</td>\n",
       "      <td>0</td>\n",
       "      <td>0</td>\n",
       "      <td>0</td>\n",
       "      <td>0</td>\n",
       "      <td>1.48</td>\n",
       "    </tr>\n",
       "    <tr>\n",
       "      <th>2011-01-29</th>\n",
       "      <td>FOODS_3_090_CA_1_validation</td>\n",
       "      <td>FOODS_3_090</td>\n",
       "      <td>FOODS_3</td>\n",
       "      <td>FOODS</td>\n",
       "      <td>CA_1</td>\n",
       "      <td>CA</td>\n",
       "      <td>107</td>\n",
       "      <td>Saturday</td>\n",
       "      <td>1</td>\n",
       "      <td>0</td>\n",
       "      <td>0</td>\n",
       "      <td>0</td>\n",
       "      <td>0</td>\n",
       "      <td>0</td>\n",
       "      <td>0</td>\n",
       "      <td>0</td>\n",
       "      <td>1.25</td>\n",
       "    </tr>\n",
       "    <tr>\n",
       "      <th>2011-01-29</th>\n",
       "      <td>FOODS_3_120_CA_1_validation</td>\n",
       "      <td>FOODS_3_120</td>\n",
       "      <td>FOODS_3</td>\n",
       "      <td>FOODS</td>\n",
       "      <td>CA_1</td>\n",
       "      <td>CA</td>\n",
       "      <td>0</td>\n",
       "      <td>Saturday</td>\n",
       "      <td>1</td>\n",
       "      <td>0</td>\n",
       "      <td>0</td>\n",
       "      <td>0</td>\n",
       "      <td>0</td>\n",
       "      <td>0</td>\n",
       "      <td>0</td>\n",
       "      <td>0</td>\n",
       "      <td>0.00</td>\n",
       "    </tr>\n",
       "    <tr>\n",
       "      <th>2011-01-29</th>\n",
       "      <td>FOODS_3_252_CA_1_validation</td>\n",
       "      <td>FOODS_3_252</td>\n",
       "      <td>FOODS_3</td>\n",
       "      <td>FOODS</td>\n",
       "      <td>CA_1</td>\n",
       "      <td>CA</td>\n",
       "      <td>19</td>\n",
       "      <td>Saturday</td>\n",
       "      <td>1</td>\n",
       "      <td>0</td>\n",
       "      <td>0</td>\n",
       "      <td>0</td>\n",
       "      <td>0</td>\n",
       "      <td>0</td>\n",
       "      <td>0</td>\n",
       "      <td>0</td>\n",
       "      <td>1.48</td>\n",
       "    </tr>\n",
       "  </tbody>\n",
       "</table>\n",
       "</div>"
      ],
      "text/plain": [
       "                                     id      item_id  dept_id cat_id store_id  \\\n",
       "date                                                                            \n",
       "2011-01-29  FOODS_2_197_CA_1_validation  FOODS_2_197  FOODS_2  FOODS     CA_1   \n",
       "2011-01-29  FOODS_3_080_CA_1_validation  FOODS_3_080  FOODS_3  FOODS     CA_1   \n",
       "2011-01-29  FOODS_3_090_CA_1_validation  FOODS_3_090  FOODS_3  FOODS     CA_1   \n",
       "2011-01-29  FOODS_3_120_CA_1_validation  FOODS_3_120  FOODS_3  FOODS     CA_1   \n",
       "2011-01-29  FOODS_3_252_CA_1_validation  FOODS_3_252  FOODS_3  FOODS     CA_1   \n",
       "\n",
       "           state_id  sales   weekday  wday event_name_1 event_type_1  \\\n",
       "date                                                                   \n",
       "2011-01-29       CA     38  Saturday     1            0            0   \n",
       "2011-01-29       CA     33  Saturday     1            0            0   \n",
       "2011-01-29       CA    107  Saturday     1            0            0   \n",
       "2011-01-29       CA      0  Saturday     1            0            0   \n",
       "2011-01-29       CA     19  Saturday     1            0            0   \n",
       "\n",
       "           event_name_2 event_type_2  snap_CA  snap_TX  snap_WI  sell_price  \n",
       "date                                                                         \n",
       "2011-01-29            0            0        0        0        0        2.98  \n",
       "2011-01-29            0            0        0        0        0        1.48  \n",
       "2011-01-29            0            0        0        0        0        1.25  \n",
       "2011-01-29            0            0        0        0        0        0.00  \n",
       "2011-01-29            0            0        0        0        0        1.48  "
      ]
     },
     "execution_count": 2,
     "metadata": {},
     "output_type": "execute_result"
    }
   ],
   "source": [
    "# Load your dataset\n",
    "merge_df_scaled = pd.read_csv('../raw_data/cleaned_merge_df_top10.csv')\n",
    "merge_df_scaled['date'] = pd.to_datetime(merge_df_scaled['date'])\n",
    "merge_df_scaled.set_index('date', inplace=True)\n",
    "\n",
    "merge_df_scaled.head()\n",
    "# 382600 rows × 64 columns"
   ]
  },
  {
   "cell_type": "markdown",
   "id": "3a2c90d7-181f-4c34-b9db-73d5632292e5",
   "metadata": {},
   "source": [
    "# 1. Defining Model Functions"
   ]
  },
  {
   "cell_type": "code",
   "execution_count": 3,
   "id": "44c2e333-1676-4450-a8ac-b1d64ce1fee5",
   "metadata": {},
   "outputs": [],
   "source": [
    "def perform_prophet(product_data):\n",
    "\n",
    "    product_data.reset_index(inplace=True,names=\"date\")\n",
    "    \n",
    "    prophet_product_df = product_data[[\"id\",\"date\",\"sales\"]]\n",
    "    prophet_product_df.columns = [\"id\",\"ds\",\"y\"]\n",
    "    prophet_product_df['ds'] = pd.to_datetime(prophet_product_df['ds'])\n",
    "    \n",
    "    data_train = prophet_product_df.iloc[:-28]\n",
    "    data_test = prophet_product_df.iloc[-28:]\n",
    "    X_train = data_train[\"ds\"]\n",
    "    y_train = data_train[\"y\"]\n",
    "    X_test = data_test[\"ds\"]\n",
    "    y_test = data_test[\"y\"]\n",
    "    \n",
    "    fbp = Prophet()\n",
    "\n",
    "    model = fbp.fit(data_train)\n",
    "    \n",
    "    predict_placeholder = fbp.make_future_dataframe(28,freq=\"D\")\n",
    "    \n",
    "    # Predict on the test data\n",
    "    y_pred = fbp.predict(predict_placeholder[-28:])\n",
    "    \n",
    "\n",
    "    # Calculate and return the error metric for the current fold\n",
    "    mae = mean_absolute_error(y_test, y_pred[\"yhat\"])\n",
    "    \n",
    "    return model, mae"
   ]
  },
  {
   "cell_type": "code",
   "execution_count": 4,
   "id": "151bd3d5-e70c-41ef-8a3e-2da51e4fe900",
   "metadata": {},
   "outputs": [],
   "source": [
    "def perform_auto_arima(product_data):\n",
    "    data_train = product_data.iloc[:-28]\n",
    "    data_test = product_data.iloc[-28:]\n",
    "    y_train = data_train[\"sales\"]\n",
    "    y_test = data_test[\"sales\"]\n",
    "\n",
    "    # Fit ARIMA model on the training data using auto_arima to find the best (p, d, q)\n",
    "    model = auto_arima(y_train, start_p=0, start_q=0, max_p=5, max_q=5, d=1,\n",
    "                       seasonal=True, trace=False, error_action='ignore', \n",
    "                       suppress_warnings=True, stepwise=True)\n",
    "    \n",
    "    # Predict on the test data\n",
    "    predictions = model.predict(n_periods=len(y_test))\n",
    "\n",
    "    # Calculate and return the error metric for the current fold\n",
    "    mae = mean_absolute_error(y_test, predictions)\n",
    "    \n",
    "    return model, mae"
   ]
  },
  {
   "cell_type": "code",
   "execution_count": 23,
   "id": "bc9e1224-e66f-4e66-bad4-dd867e626f54",
   "metadata": {},
   "outputs": [],
   "source": [
    "def objective_optuna(trial, y_train, y_test):\n",
    "    \n",
    "    trend = trial.suggest_categorical('trend', ['add'])\n",
    "    seasonal = trial.suggest_categorical('seasonal', [None, 'add'])\n",
    "    seasonal_periods = trial.suggest_categorical('seasonal_periods', [None, 4, 7, 12])\n",
    "    \n",
    "    product_results = []\n",
    "\n",
    "    # Fit Holt-Winters model on the training data\n",
    "    model = ExponentialSmoothing(y_train, trend=trend, seasonal=seasonal, seasonal_periods=seasonal_periods,freq='D')\n",
    "    fitted_model = model.fit(optimized=True)\n",
    "\n",
    "    # Predict on the test data\n",
    "    predictions = fitted_model.forecast(steps=len(y_test))\n",
    "\n",
    "    # Calculate and store the error metric\n",
    "    mae = mean_absolute_error(y_test, predictions)\n",
    "    product_results.append(mae)\n",
    "\n",
    "    # Average MAE for this product\n",
    "    average_mae = np.mean(product_results)\n",
    "    return average_mae"
   ]
  },
  {
   "cell_type": "code",
   "execution_count": 28,
   "id": "102b594c-39b7-4817-bb4b-f3d5706c0d1e",
   "metadata": {},
   "outputs": [],
   "source": [
    "def perform_exp_smoothing(product_data):\n",
    "    data_train = product_data.iloc[:-28]\n",
    "    data_test = product_data.iloc[-28:]\n",
    "    y_train = data_train[\"sales\"]\n",
    "    y_test = data_test[\"sales\"]\n",
    "    # Create a study object\n",
    "    study = optuna.create_study(direction='minimize')\n",
    "    \n",
    "    print(f\"Optimizing hyperparameters for product: {id}\")\n",
    "    \n",
    "    \n",
    "    # Run the optimization process for the current product\n",
    "    study.optimize(lambda trial: objective_optuna(trial, y_train, y_test), n_trials=10, n_jobs=-1)\n",
    "\n",
    "    # Get the best hyperparameters and the corresponding best MAE\n",
    "    best_params = study.best_params\n",
    "    best_mae = study.best_value\n",
    "\n",
    "    # Create the best model with the obtained hyperparameters\n",
    "    best_model = ExponentialSmoothing(y_train, **best_params).fit()\n",
    "    \n",
    "    return best_model, best_mae"
   ]
  },
  {
   "cell_type": "markdown",
   "id": "c4313bdf-003b-428f-addb-07ad6b7058b8",
   "metadata": {},
   "source": [
    "# 2.Running all models in a loop to find for each product with lowest score"
   ]
  },
  {
   "cell_type": "code",
   "execution_count": 29,
   "id": "e09341ed-7407-4421-87d4-b97c92ef1fc9",
   "metadata": {},
   "outputs": [],
   "source": [
    "models_list = [\"ARIMA\",\"ExponentialSmoothing\",\"Prophet\"]"
   ]
  },
  {
   "cell_type": "code",
   "execution_count": 30,
   "id": "25636b8c-848f-4188-bc73-1546fdeb687b",
   "metadata": {
    "scrolled": true,
    "tags": []
   },
   "outputs": [
    {
     "name": "stdout",
     "output_type": "stream",
     "text": [
      "Analyzing product: FOODS_2_197_CA_1_validation\n"
     ]
    },
    {
     "name": "stderr",
     "output_type": "stream",
     "text": [
      "[I 2024-05-09 15:11:29,522] A new study created in memory with name: no-name-0bf505e2-c389-45cf-b0b3-99ea0a2aa926\n"
     ]
    },
    {
     "name": "stdout",
     "output_type": "stream",
     "text": [
      "Optimizing hyperparameters for product: FOODS_2_197_CA_1_validation\n"
     ]
    },
    {
     "name": "stderr",
     "output_type": "stream",
     "text": [
      "[I 2024-05-09 15:11:30,938] Trial 0 finished with value: 9.388827437788668 and parameters: {'trend': 'add', 'seasonal': None, 'seasonal_periods': 4}. Best is trial 0 with value: 9.388827437788668.\n",
      "[I 2024-05-09 15:11:30,981] Trial 1 finished with value: 9.388827437788668 and parameters: {'trend': 'add', 'seasonal': None, 'seasonal_periods': None}. Best is trial 0 with value: 9.388827437788668.\n",
      "[I 2024-05-09 15:11:31,029] Trial 4 finished with value: 9.780132669684251 and parameters: {'trend': 'add', 'seasonal': 'add', 'seasonal_periods': 12}. Best is trial 0 with value: 9.388827437788668.\n",
      "[I 2024-05-09 15:11:31,096] Trial 3 finished with value: 9.388827437788668 and parameters: {'trend': 'add', 'seasonal': None, 'seasonal_periods': 12}. Best is trial 0 with value: 9.388827437788668.\n",
      "[I 2024-05-09 15:11:31,118] Trial 7 finished with value: 9.388827437788668 and parameters: {'trend': 'add', 'seasonal': None, 'seasonal_periods': 12}. Best is trial 0 with value: 9.388827437788668.\n",
      "[I 2024-05-09 15:11:31,122] Trial 8 finished with value: 9.388827437788668 and parameters: {'trend': 'add', 'seasonal': None, 'seasonal_periods': None}. Best is trial 0 with value: 9.388827437788668.\n",
      "[I 2024-05-09 15:11:31,529] Trial 2 finished with value: 10.937992396985061 and parameters: {'trend': 'add', 'seasonal': 'add', 'seasonal_periods': 7}. Best is trial 0 with value: 9.388827437788668.\n",
      "[I 2024-05-09 15:11:31,554] Trial 9 finished with value: 10.937992396985061 and parameters: {'trend': 'add', 'seasonal': 'add', 'seasonal_periods': 7}. Best is trial 0 with value: 9.388827437788668.\n",
      "[I 2024-05-09 15:11:31,569] Trial 6 finished with value: 10.937992396985061 and parameters: {'trend': 'add', 'seasonal': 'add', 'seasonal_periods': 7}. Best is trial 0 with value: 9.388827437788668.\n",
      "[I 2024-05-09 15:11:31,632] Trial 5 finished with value: 10.937992396985061 and parameters: {'trend': 'add', 'seasonal': 'add', 'seasonal_periods': None}. Best is trial 0 with value: 9.388827437788668.\n",
      "/home/jonas/.pyenv/versions/3.10.6/envs/walmart/lib/python3.10/site-packages/statsmodels/tsa/base/tsa_model.py:473: ValueWarning: No frequency information was provided, so inferred frequency D will be used.\n",
      "  self._init_dates(dates, freq)\n",
      "/tmp/ipykernel_97105/1072332254.py:7: SettingWithCopyWarning: \n",
      "A value is trying to be set on a copy of a slice from a DataFrame.\n",
      "Try using .loc[row_indexer,col_indexer] = value instead\n",
      "\n",
      "See the caveats in the documentation: https://pandas.pydata.org/pandas-docs/stable/user_guide/indexing.html#returning-a-view-versus-a-copy\n",
      "  prophet_product_df['ds'] = pd.to_datetime(prophet_product_df['ds'])\n",
      "15:11:31 - cmdstanpy - INFO - Chain [1] start processing\n",
      "15:11:31 - cmdstanpy - INFO - Chain [1] done processing\n"
     ]
    },
    {
     "name": "stdout",
     "output_type": "stream",
     "text": [
      "{'ARIMA': {'mae': 8.726633436944372, 'model': ARIMA(order=(2, 1, 1), scoring_args={}, suppress_warnings=True,\n",
      "      with_intercept=False)}, 'ExponentialSmoothing': {'mae': 9.388827437788668, 'model': <statsmodels.tsa.holtwinters.results.HoltWintersResultsWrapper object at 0x7fed7ed37730>}, 'Prophet': {'mae': 11.367010469983766, 'model': <prophet.forecaster.Prophet object at 0x7fed7f936230>}}\n",
      "Model results for FOODS_2_197_CA_1_validation\n",
      "Best model: ARIMA\n",
      "Best score: 8.726633436944372\n",
      "Analyzing product: FOODS_3_080_CA_1_validation\n"
     ]
    },
    {
     "name": "stderr",
     "output_type": "stream",
     "text": [
      "[I 2024-05-09 15:11:42,277] A new study created in memory with name: no-name-33dec351-89ec-4e9e-9289-ab4d8c48e528\n"
     ]
    },
    {
     "name": "stdout",
     "output_type": "stream",
     "text": [
      "Optimizing hyperparameters for product: FOODS_3_080_CA_1_validation\n"
     ]
    },
    {
     "name": "stderr",
     "output_type": "stream",
     "text": [
      "[I 2024-05-09 15:11:43,612] Trial 4 finished with value: 5.603251743760496 and parameters: {'trend': 'add', 'seasonal': None, 'seasonal_periods': None}. Best is trial 4 with value: 5.603251743760496.\n",
      "[I 2024-05-09 15:11:43,625] Trial 6 finished with value: 5.603251743760496 and parameters: {'trend': 'add', 'seasonal': None, 'seasonal_periods': 7}. Best is trial 4 with value: 5.603251743760496.\n",
      "[I 2024-05-09 15:11:43,626] Trial 1 finished with value: 5.603251743760496 and parameters: {'trend': 'add', 'seasonal': None, 'seasonal_periods': 12}. Best is trial 4 with value: 5.603251743760496.\n",
      "[I 2024-05-09 15:11:43,626] Trial 7 finished with value: 5.603251743760496 and parameters: {'trend': 'add', 'seasonal': None, 'seasonal_periods': 7}. Best is trial 4 with value: 5.603251743760496.\n",
      "[I 2024-05-09 15:11:43,638] Trial 3 finished with value: 5.603251743760496 and parameters: {'trend': 'add', 'seasonal': None, 'seasonal_periods': 4}. Best is trial 4 with value: 5.603251743760496.\n",
      "[I 2024-05-09 15:11:43,640] Trial 5 finished with value: 5.603251743760496 and parameters: {'trend': 'add', 'seasonal': None, 'seasonal_periods': 4}. Best is trial 4 with value: 5.603251743760496.\n",
      "[I 2024-05-09 15:11:43,642] Trial 9 finished with value: 5.603251743760496 and parameters: {'trend': 'add', 'seasonal': None, 'seasonal_periods': None}. Best is trial 4 with value: 5.603251743760496.\n",
      "[I 2024-05-09 15:11:43,748] Trial 2 finished with value: 5.5737852381639 and parameters: {'trend': 'add', 'seasonal': 'add', 'seasonal_periods': 12}. Best is trial 2 with value: 5.5737852381639.\n",
      "[I 2024-05-09 15:11:43,752] Trial 0 finished with value: 4.851012052269259 and parameters: {'trend': 'add', 'seasonal': 'add', 'seasonal_periods': None}. Best is trial 0 with value: 4.851012052269259.\n",
      "[I 2024-05-09 15:11:43,782] Trial 8 finished with value: 5.5809667150534 and parameters: {'trend': 'add', 'seasonal': 'add', 'seasonal_periods': 4}. Best is trial 0 with value: 4.851012052269259.\n",
      "/home/jonas/.pyenv/versions/3.10.6/envs/walmart/lib/python3.10/site-packages/statsmodels/tsa/base/tsa_model.py:473: ValueWarning: No frequency information was provided, so inferred frequency D will be used.\n",
      "  self._init_dates(dates, freq)\n",
      "/tmp/ipykernel_97105/1072332254.py:7: SettingWithCopyWarning: \n",
      "A value is trying to be set on a copy of a slice from a DataFrame.\n",
      "Try using .loc[row_indexer,col_indexer] = value instead\n",
      "\n",
      "See the caveats in the documentation: https://pandas.pydata.org/pandas-docs/stable/user_guide/indexing.html#returning-a-view-versus-a-copy\n",
      "  prophet_product_df['ds'] = pd.to_datetime(prophet_product_df['ds'])\n",
      "15:11:44 - cmdstanpy - INFO - Chain [1] start processing\n",
      "15:11:44 - cmdstanpy - INFO - Chain [1] done processing\n"
     ]
    },
    {
     "name": "stdout",
     "output_type": "stream",
     "text": [
      "{'ARIMA': {'mae': 6.034984090618189, 'model': ARIMA(order=(5, 1, 1), scoring_args={}, suppress_warnings=True,\n",
      "      with_intercept=False)}, 'ExponentialSmoothing': {'mae': 4.851012052269259, 'model': <statsmodels.tsa.holtwinters.results.HoltWintersResultsWrapper object at 0x7fed7fd95c00>}, 'Prophet': {'mae': 4.776500194398421, 'model': <prophet.forecaster.Prophet object at 0x7fed7ff9b370>}}\n",
      "Model results for FOODS_3_080_CA_1_validation\n",
      "Best model: Prophet\n",
      "Best score: 4.776500194398421\n",
      "Analyzing product: FOODS_3_090_CA_1_validation\n"
     ]
    },
    {
     "name": "stderr",
     "output_type": "stream",
     "text": [
      "[I 2024-05-09 15:12:20,610] A new study created in memory with name: no-name-62e20bef-51b6-4a90-9974-e353d3344d23\n"
     ]
    },
    {
     "name": "stdout",
     "output_type": "stream",
     "text": [
      "Optimizing hyperparameters for product: FOODS_3_090_CA_1_validation\n"
     ]
    },
    {
     "name": "stderr",
     "output_type": "stream",
     "text": [
      "[I 2024-05-09 15:12:20,885] Trial 0 finished with value: 37.241681706408414 and parameters: {'trend': 'add', 'seasonal': None, 'seasonal_periods': 7}. Best is trial 0 with value: 37.241681706408414.\n",
      "[I 2024-05-09 15:12:21,336] Trial 3 finished with value: 37.241681706408414 and parameters: {'trend': 'add', 'seasonal': None, 'seasonal_periods': 4}. Best is trial 0 with value: 37.241681706408414.\n",
      "[I 2024-05-09 15:12:21,475] Trial 2 finished with value: 37.241681706408414 and parameters: {'trend': 'add', 'seasonal': None, 'seasonal_periods': None}. Best is trial 0 with value: 37.241681706408414.\n",
      "[I 2024-05-09 15:12:21,577] Trial 9 finished with value: 37.241681706408414 and parameters: {'trend': 'add', 'seasonal': None, 'seasonal_periods': 4}. Best is trial 0 with value: 37.241681706408414.\n",
      "[I 2024-05-09 15:12:21,648] Trial 5 finished with value: 37.241681706408414 and parameters: {'trend': 'add', 'seasonal': None, 'seasonal_periods': None}. Best is trial 0 with value: 37.241681706408414.\n",
      "[I 2024-05-09 15:12:21,979] Trial 1 finished with value: 37.243587862649186 and parameters: {'trend': 'add', 'seasonal': 'add', 'seasonal_periods': 7}. Best is trial 0 with value: 37.241681706408414.\n",
      "[I 2024-05-09 15:12:22,079] Trial 4 finished with value: 37.243587862649186 and parameters: {'trend': 'add', 'seasonal': 'add', 'seasonal_periods': 7}. Best is trial 0 with value: 37.241681706408414.\n",
      "[I 2024-05-09 15:12:22,082] Trial 8 finished with value: 37.243587862649186 and parameters: {'trend': 'add', 'seasonal': 'add', 'seasonal_periods': 7}. Best is trial 0 with value: 37.241681706408414.\n",
      "[I 2024-05-09 15:12:22,086] Trial 7 finished with value: 37.243587862649186 and parameters: {'trend': 'add', 'seasonal': 'add', 'seasonal_periods': None}. Best is trial 0 with value: 37.241681706408414.\n",
      "[I 2024-05-09 15:12:22,101] Trial 6 finished with value: 37.243587862649186 and parameters: {'trend': 'add', 'seasonal': 'add', 'seasonal_periods': 7}. Best is trial 0 with value: 37.241681706408414.\n",
      "/home/jonas/.pyenv/versions/3.10.6/envs/walmart/lib/python3.10/site-packages/statsmodels/tsa/base/tsa_model.py:473: ValueWarning: No frequency information was provided, so inferred frequency D will be used.\n",
      "  self._init_dates(dates, freq)\n",
      "/tmp/ipykernel_97105/1072332254.py:7: SettingWithCopyWarning: \n",
      "A value is trying to be set on a copy of a slice from a DataFrame.\n",
      "Try using .loc[row_indexer,col_indexer] = value instead\n",
      "\n",
      "See the caveats in the documentation: https://pandas.pydata.org/pandas-docs/stable/user_guide/indexing.html#returning-a-view-versus-a-copy\n",
      "  prophet_product_df['ds'] = pd.to_datetime(prophet_product_df['ds'])\n",
      "15:12:22 - cmdstanpy - INFO - Chain [1] start processing\n",
      "15:12:22 - cmdstanpy - INFO - Chain [1] done processing\n"
     ]
    },
    {
     "name": "stdout",
     "output_type": "stream",
     "text": [
      "{'ARIMA': {'mae': 19.479598099076547, 'model': ARIMA(order=(4, 1, 3), scoring_args={}, suppress_warnings=True,\n",
      "      with_intercept=False)}, 'ExponentialSmoothing': {'mae': 37.241681706408414, 'model': <statsmodels.tsa.holtwinters.results.HoltWintersResultsWrapper object at 0x7fed7f934430>}, 'Prophet': {'mae': 16.664135902250575, 'model': <prophet.forecaster.Prophet object at 0x7fed7f5e9030>}}\n",
      "Model results for FOODS_3_090_CA_1_validation\n",
      "Best model: Prophet\n",
      "Best score: 16.664135902250575\n",
      "Analyzing product: FOODS_3_120_CA_1_validation\n"
     ]
    },
    {
     "name": "stderr",
     "output_type": "stream",
     "text": [
      "[I 2024-05-09 15:12:59,340] A new study created in memory with name: no-name-896bd7c5-a081-45ab-84db-24e684f89491\n"
     ]
    },
    {
     "name": "stdout",
     "output_type": "stream",
     "text": [
      "Optimizing hyperparameters for product: FOODS_3_120_CA_1_validation\n"
     ]
    },
    {
     "name": "stderr",
     "output_type": "stream",
     "text": [
      "[I 2024-05-09 15:12:59,716] Trial 0 finished with value: 27.01694491780205 and parameters: {'trend': 'add', 'seasonal': None, 'seasonal_periods': None}. Best is trial 0 with value: 27.01694491780205.\n",
      "[I 2024-05-09 15:12:59,729] Trial 1 finished with value: 27.01694491780205 and parameters: {'trend': 'add', 'seasonal': None, 'seasonal_periods': 4}. Best is trial 0 with value: 27.01694491780205.\n",
      "[I 2024-05-09 15:13:00,028] Trial 3 finished with value: 27.01694491780205 and parameters: {'trend': 'add', 'seasonal': None, 'seasonal_periods': 7}. Best is trial 0 with value: 27.01694491780205.\n",
      "[I 2024-05-09 15:13:00,286] Trial 6 finished with value: 27.01694491780205 and parameters: {'trend': 'add', 'seasonal': None, 'seasonal_periods': 4}. Best is trial 0 with value: 27.01694491780205.\n",
      "[I 2024-05-09 15:13:00,296] Trial 7 finished with value: 27.01694491780205 and parameters: {'trend': 'add', 'seasonal': None, 'seasonal_periods': 7}. Best is trial 0 with value: 27.01694491780205.\n",
      "[I 2024-05-09 15:13:00,306] Trial 8 finished with value: 27.01694491780205 and parameters: {'trend': 'add', 'seasonal': None, 'seasonal_periods': 4}. Best is trial 0 with value: 27.01694491780205.\n",
      "[I 2024-05-09 15:13:00,380] Trial 9 finished with value: 27.01694491780205 and parameters: {'trend': 'add', 'seasonal': None, 'seasonal_periods': 7}. Best is trial 0 with value: 27.01694491780205.\n",
      "[I 2024-05-09 15:13:00,517] Trial 5 finished with value: 25.157870794592952 and parameters: {'trend': 'add', 'seasonal': 'add', 'seasonal_periods': None}. Best is trial 5 with value: 25.157870794592952.\n",
      "[I 2024-05-09 15:13:00,586] Trial 4 finished with value: 26.526395334291383 and parameters: {'trend': 'add', 'seasonal': 'add', 'seasonal_periods': 12}. Best is trial 5 with value: 25.157870794592952.\n",
      "[I 2024-05-09 15:13:00,602] Trial 2 finished with value: 26.526395334291383 and parameters: {'trend': 'add', 'seasonal': 'add', 'seasonal_periods': 12}. Best is trial 5 with value: 25.157870794592952.\n",
      "/home/jonas/.pyenv/versions/3.10.6/envs/walmart/lib/python3.10/site-packages/statsmodels/tsa/base/tsa_model.py:473: ValueWarning: No frequency information was provided, so inferred frequency D will be used.\n",
      "  self._init_dates(dates, freq)\n",
      "/tmp/ipykernel_97105/1072332254.py:7: SettingWithCopyWarning: \n",
      "A value is trying to be set on a copy of a slice from a DataFrame.\n",
      "Try using .loc[row_indexer,col_indexer] = value instead\n",
      "\n",
      "See the caveats in the documentation: https://pandas.pydata.org/pandas-docs/stable/user_guide/indexing.html#returning-a-view-versus-a-copy\n",
      "  prophet_product_df['ds'] = pd.to_datetime(prophet_product_df['ds'])\n",
      "15:13:00 - cmdstanpy - INFO - Chain [1] start processing\n",
      "15:13:01 - cmdstanpy - INFO - Chain [1] done processing\n"
     ]
    },
    {
     "name": "stdout",
     "output_type": "stream",
     "text": [
      "{'ARIMA': {'mae': 24.7807297967242, 'model': ARIMA(order=(5, 1, 4), scoring_args={}, suppress_warnings=True,\n",
      "      with_intercept=False)}, 'ExponentialSmoothing': {'mae': 25.157870794592952, 'model': <statsmodels.tsa.holtwinters.results.HoltWintersResultsWrapper object at 0x7fed7fb707f0>}, 'Prophet': {'mae': 21.07083458938636, 'model': <prophet.forecaster.Prophet object at 0x7fed7ed37dc0>}}\n",
      "Model results for FOODS_3_120_CA_1_validation\n",
      "Best model: Prophet\n",
      "Best score: 21.07083458938636\n",
      "Analyzing product: FOODS_3_252_CA_1_validation\n"
     ]
    },
    {
     "name": "stderr",
     "output_type": "stream",
     "text": [
      "[I 2024-05-09 15:13:42,891] A new study created in memory with name: no-name-65eff034-134b-458f-a4c5-a2b31fc312c0\n"
     ]
    },
    {
     "name": "stdout",
     "output_type": "stream",
     "text": [
      "Optimizing hyperparameters for product: FOODS_3_252_CA_1_validation\n"
     ]
    },
    {
     "name": "stderr",
     "output_type": "stream",
     "text": [
      "[I 2024-05-09 15:13:43,545] Trial 1 finished with value: 10.92925276421992 and parameters: {'trend': 'add', 'seasonal': None, 'seasonal_periods': 12}. Best is trial 1 with value: 10.92925276421992.\n",
      "[I 2024-05-09 15:13:43,764] Trial 2 finished with value: 10.92925276421992 and parameters: {'trend': 'add', 'seasonal': None, 'seasonal_periods': 7}. Best is trial 1 with value: 10.92925276421992.\n",
      "[I 2024-05-09 15:13:44,280] Trial 4 finished with value: 10.92925276421992 and parameters: {'trend': 'add', 'seasonal': None, 'seasonal_periods': 12}. Best is trial 1 with value: 10.92925276421992.\n",
      "[I 2024-05-09 15:13:44,291] Trial 7 finished with value: 10.92925276421992 and parameters: {'trend': 'add', 'seasonal': None, 'seasonal_periods': None}. Best is trial 1 with value: 10.92925276421992.\n",
      "[I 2024-05-09 15:13:44,340] Trial 9 finished with value: 10.92925276421992 and parameters: {'trend': 'add', 'seasonal': None, 'seasonal_periods': 4}. Best is trial 1 with value: 10.92925276421992.\n",
      "[I 2024-05-09 15:13:44,411] Trial 0 finished with value: 10.364052936266356 and parameters: {'trend': 'add', 'seasonal': 'add', 'seasonal_periods': 4}. Best is trial 0 with value: 10.364052936266356.\n",
      "[I 2024-05-09 15:13:44,502] Trial 3 finished with value: 10.364052936266356 and parameters: {'trend': 'add', 'seasonal': 'add', 'seasonal_periods': 4}. Best is trial 0 with value: 10.364052936266356.\n",
      "[I 2024-05-09 15:13:44,522] Trial 6 finished with value: 10.364052936266356 and parameters: {'trend': 'add', 'seasonal': 'add', 'seasonal_periods': 4}. Best is trial 0 with value: 10.364052936266356.\n",
      "[I 2024-05-09 15:13:44,547] Trial 5 finished with value: 10.655908601442151 and parameters: {'trend': 'add', 'seasonal': 'add', 'seasonal_periods': 12}. Best is trial 0 with value: 10.364052936266356.\n",
      "[I 2024-05-09 15:13:44,586] Trial 8 finished with value: 6.591632596564805 and parameters: {'trend': 'add', 'seasonal': 'add', 'seasonal_periods': None}. Best is trial 8 with value: 6.591632596564805.\n",
      "/home/jonas/.pyenv/versions/3.10.6/envs/walmart/lib/python3.10/site-packages/statsmodels/tsa/base/tsa_model.py:473: ValueWarning: No frequency information was provided, so inferred frequency D will be used.\n",
      "  self._init_dates(dates, freq)\n",
      "/tmp/ipykernel_97105/1072332254.py:7: SettingWithCopyWarning: \n",
      "A value is trying to be set on a copy of a slice from a DataFrame.\n",
      "Try using .loc[row_indexer,col_indexer] = value instead\n",
      "\n",
      "See the caveats in the documentation: https://pandas.pydata.org/pandas-docs/stable/user_guide/indexing.html#returning-a-view-versus-a-copy\n",
      "  prophet_product_df['ds'] = pd.to_datetime(prophet_product_df['ds'])\n",
      "15:13:44 - cmdstanpy - INFO - Chain [1] start processing\n",
      "15:13:44 - cmdstanpy - INFO - Chain [1] done processing\n"
     ]
    },
    {
     "name": "stdout",
     "output_type": "stream",
     "text": [
      "{'ARIMA': {'mae': 6.680438583319882, 'model': ARIMA(order=(5, 1, 5), scoring_args={}, suppress_warnings=True,\n",
      "      with_intercept=False)}, 'ExponentialSmoothing': {'mae': 6.591632596564805, 'model': <statsmodels.tsa.holtwinters.results.HoltWintersResultsWrapper object at 0x7fed7f597a90>}, 'Prophet': {'mae': 6.5637324544171625, 'model': <prophet.forecaster.Prophet object at 0x7fed7ffc6380>}}\n",
      "Model results for FOODS_3_252_CA_1_validation\n",
      "Best model: Prophet\n",
      "Best score: 6.5637324544171625\n",
      "Analyzing product: FOODS_3_555_CA_1_validation\n"
     ]
    },
    {
     "name": "stderr",
     "output_type": "stream",
     "text": [
      "[I 2024-05-09 15:14:25,176] A new study created in memory with name: no-name-2f7ed3d2-2918-4466-9edd-3f1b487cb4d0\n"
     ]
    },
    {
     "name": "stdout",
     "output_type": "stream",
     "text": [
      "Optimizing hyperparameters for product: FOODS_3_555_CA_1_validation\n"
     ]
    },
    {
     "name": "stderr",
     "output_type": "stream",
     "text": [
      "[I 2024-05-09 15:14:26,987] Trial 2 finished with value: 5.214282383016028 and parameters: {'trend': 'add', 'seasonal': None, 'seasonal_periods': 7}. Best is trial 2 with value: 5.214282383016028.\n",
      "[I 2024-05-09 15:14:26,995] Trial 0 finished with value: 5.214282383016028 and parameters: {'trend': 'add', 'seasonal': None, 'seasonal_periods': 7}. Best is trial 2 with value: 5.214282383016028.\n",
      "[I 2024-05-09 15:14:27,028] Trial 3 finished with value: 5.214282383016028 and parameters: {'trend': 'add', 'seasonal': None, 'seasonal_periods': 12}. Best is trial 2 with value: 5.214282383016028.\n",
      "[I 2024-05-09 15:14:27,061] Trial 8 finished with value: 5.214282383016028 and parameters: {'trend': 'add', 'seasonal': None, 'seasonal_periods': 12}. Best is trial 2 with value: 5.214282383016028.\n",
      "[I 2024-05-09 15:14:27,166] Trial 4 finished with value: 5.060065707778072 and parameters: {'trend': 'add', 'seasonal': 'add', 'seasonal_periods': 4}. Best is trial 4 with value: 5.060065707778072.\n",
      "[I 2024-05-09 15:14:27,208] Trial 9 finished with value: 5.060065707778072 and parameters: {'trend': 'add', 'seasonal': 'add', 'seasonal_periods': 4}. Best is trial 4 with value: 5.060065707778072.\n",
      "[I 2024-05-09 15:14:27,317] Trial 1 finished with value: 3.234239988928919 and parameters: {'trend': 'add', 'seasonal': 'add', 'seasonal_periods': None}. Best is trial 1 with value: 3.234239988928919.\n",
      "[I 2024-05-09 15:14:27,341] Trial 5 finished with value: 3.234239988928919 and parameters: {'trend': 'add', 'seasonal': 'add', 'seasonal_periods': None}. Best is trial 1 with value: 3.234239988928919.\n",
      "[I 2024-05-09 15:14:27,416] Trial 6 finished with value: 5.1269945338729075 and parameters: {'trend': 'add', 'seasonal': 'add', 'seasonal_periods': 12}. Best is trial 1 with value: 3.234239988928919.\n",
      "[I 2024-05-09 15:14:27,418] Trial 7 finished with value: 5.1269945338729075 and parameters: {'trend': 'add', 'seasonal': 'add', 'seasonal_periods': 12}. Best is trial 1 with value: 3.234239988928919.\n",
      "/home/jonas/.pyenv/versions/3.10.6/envs/walmart/lib/python3.10/site-packages/statsmodels/tsa/base/tsa_model.py:473: ValueWarning: No frequency information was provided, so inferred frequency D will be used.\n",
      "  self._init_dates(dates, freq)\n",
      "/tmp/ipykernel_97105/1072332254.py:7: SettingWithCopyWarning: \n",
      "A value is trying to be set on a copy of a slice from a DataFrame.\n",
      "Try using .loc[row_indexer,col_indexer] = value instead\n",
      "\n",
      "See the caveats in the documentation: https://pandas.pydata.org/pandas-docs/stable/user_guide/indexing.html#returning-a-view-versus-a-copy\n",
      "  prophet_product_df['ds'] = pd.to_datetime(prophet_product_df['ds'])\n",
      "15:14:27 - cmdstanpy - INFO - Chain [1] start processing\n",
      "15:14:27 - cmdstanpy - INFO - Chain [1] done processing\n"
     ]
    },
    {
     "name": "stdout",
     "output_type": "stream",
     "text": [
      "{'ARIMA': {'mae': 4.34514653363894, 'model': ARIMA(order=(4, 1, 4), scoring_args={}, suppress_warnings=True,\n",
      "      with_intercept=False)}, 'ExponentialSmoothing': {'mae': 3.234239988928919, 'model': <statsmodels.tsa.holtwinters.results.HoltWintersResultsWrapper object at 0x7fed7ee2ee30>}, 'Prophet': {'mae': 4.261908361923384, 'model': <prophet.forecaster.Prophet object at 0x7fed7fbe2d40>}}\n",
      "Model results for FOODS_3_555_CA_1_validation\n",
      "Best model: ExponentialSmoothing\n",
      "Best score: 3.234239988928919\n",
      "Analyzing product: FOODS_3_586_CA_1_validation\n"
     ]
    },
    {
     "name": "stderr",
     "output_type": "stream",
     "text": [
      "[I 2024-05-09 15:14:53,128] A new study created in memory with name: no-name-18efcc78-7ae1-4973-936b-dc828d967db8\n"
     ]
    },
    {
     "name": "stdout",
     "output_type": "stream",
     "text": [
      "Optimizing hyperparameters for product: FOODS_3_586_CA_1_validation\n"
     ]
    },
    {
     "name": "stderr",
     "output_type": "stream",
     "text": [
      "[I 2024-05-09 15:14:54,523] Trial 2 finished with value: 10.693124076299275 and parameters: {'trend': 'add', 'seasonal': None, 'seasonal_periods': 7}. Best is trial 2 with value: 10.693124076299275.\n",
      "[I 2024-05-09 15:14:54,527] Trial 3 finished with value: 10.693124076299275 and parameters: {'trend': 'add', 'seasonal': None, 'seasonal_periods': 7}. Best is trial 2 with value: 10.693124076299275.\n",
      "[I 2024-05-09 15:14:54,572] Trial 7 finished with value: 10.693124076299275 and parameters: {'trend': 'add', 'seasonal': None, 'seasonal_periods': 4}. Best is trial 2 with value: 10.693124076299275.\n",
      "[I 2024-05-09 15:14:54,573] Trial 4 finished with value: 10.693124076299275 and parameters: {'trend': 'add', 'seasonal': None, 'seasonal_periods': 4}. Best is trial 2 with value: 10.693124076299275.\n",
      "[I 2024-05-09 15:14:54,583] Trial 6 finished with value: 10.693124076299275 and parameters: {'trend': 'add', 'seasonal': None, 'seasonal_periods': 12}. Best is trial 2 with value: 10.693124076299275.\n",
      "[I 2024-05-09 15:14:54,683] Trial 0 finished with value: 9.749473041311031 and parameters: {'trend': 'add', 'seasonal': 'add', 'seasonal_periods': 12}. Best is trial 0 with value: 9.749473041311031.\n",
      "[I 2024-05-09 15:14:54,780] Trial 1 finished with value: 9.749473041311031 and parameters: {'trend': 'add', 'seasonal': 'add', 'seasonal_periods': 12}. Best is trial 0 with value: 9.749473041311031.\n",
      "[I 2024-05-09 15:14:54,804] Trial 5 finished with value: 9.749473041311031 and parameters: {'trend': 'add', 'seasonal': 'add', 'seasonal_periods': 12}. Best is trial 0 with value: 9.749473041311031.\n",
      "[I 2024-05-09 15:14:54,867] Trial 9 finished with value: 6.407874992421177 and parameters: {'trend': 'add', 'seasonal': 'add', 'seasonal_periods': 7}. Best is trial 9 with value: 6.407874992421177.\n",
      "[I 2024-05-09 15:14:54,877] Trial 8 finished with value: 6.407874992421177 and parameters: {'trend': 'add', 'seasonal': 'add', 'seasonal_periods': None}. Best is trial 9 with value: 6.407874992421177.\n",
      "/home/jonas/.pyenv/versions/3.10.6/envs/walmart/lib/python3.10/site-packages/statsmodels/tsa/base/tsa_model.py:473: ValueWarning: No frequency information was provided, so inferred frequency D will be used.\n",
      "  self._init_dates(dates, freq)\n",
      "/tmp/ipykernel_97105/1072332254.py:7: SettingWithCopyWarning: \n",
      "A value is trying to be set on a copy of a slice from a DataFrame.\n",
      "Try using .loc[row_indexer,col_indexer] = value instead\n",
      "\n",
      "See the caveats in the documentation: https://pandas.pydata.org/pandas-docs/stable/user_guide/indexing.html#returning-a-view-versus-a-copy\n",
      "  prophet_product_df['ds'] = pd.to_datetime(prophet_product_df['ds'])\n",
      "15:14:55 - cmdstanpy - INFO - Chain [1] start processing\n",
      "15:14:55 - cmdstanpy - INFO - Chain [1] done processing\n"
     ]
    },
    {
     "name": "stdout",
     "output_type": "stream",
     "text": [
      "{'ARIMA': {'mae': 7.991362870463669, 'model': ARIMA(order=(2, 1, 3), scoring_args={}, suppress_warnings=True,\n",
      "      with_intercept=False)}, 'ExponentialSmoothing': {'mae': 6.407874992421177, 'model': <statsmodels.tsa.holtwinters.results.HoltWintersResultsWrapper object at 0x7fed7f2cdc30>}, 'Prophet': {'mae': 6.241775733242483, 'model': <prophet.forecaster.Prophet object at 0x7fed7f5951b0>}}\n",
      "Model results for FOODS_3_586_CA_1_validation\n",
      "Best model: Prophet\n",
      "Best score: 6.241775733242483\n",
      "Analyzing product: FOODS_3_587_CA_1_validation\n"
     ]
    },
    {
     "name": "stderr",
     "output_type": "stream",
     "text": [
      "[I 2024-05-09 15:15:32,681] A new study created in memory with name: no-name-18527653-2bdd-4ea7-ac53-90d5326becf4\n"
     ]
    },
    {
     "name": "stdout",
     "output_type": "stream",
     "text": [
      "Optimizing hyperparameters for product: FOODS_3_587_CA_1_validation\n"
     ]
    },
    {
     "name": "stderr",
     "output_type": "stream",
     "text": [
      "[I 2024-05-09 15:15:33,586] Trial 0 finished with value: 17.481420998759102 and parameters: {'trend': 'add', 'seasonal': None, 'seasonal_periods': None}. Best is trial 0 with value: 17.481420998759102.\n",
      "[I 2024-05-09 15:15:33,706] Trial 1 finished with value: 17.481420998759102 and parameters: {'trend': 'add', 'seasonal': None, 'seasonal_periods': 12}. Best is trial 0 with value: 17.481420998759102.\n",
      "[I 2024-05-09 15:15:33,748] Trial 3 finished with value: 17.481420998759102 and parameters: {'trend': 'add', 'seasonal': None, 'seasonal_periods': 4}. Best is trial 0 with value: 17.481420998759102.\n",
      "[I 2024-05-09 15:15:33,781] Trial 4 finished with value: 17.481420998759102 and parameters: {'trend': 'add', 'seasonal': None, 'seasonal_periods': None}. Best is trial 0 with value: 17.481420998759102.\n",
      "[I 2024-05-09 15:15:33,796] Trial 2 finished with value: 17.481420998759102 and parameters: {'trend': 'add', 'seasonal': None, 'seasonal_periods': 12}. Best is trial 0 with value: 17.481420998759102.\n",
      "[I 2024-05-09 15:15:33,829] Trial 9 finished with value: 17.481420998759102 and parameters: {'trend': 'add', 'seasonal': None, 'seasonal_periods': 7}. Best is trial 0 with value: 17.481420998759102.\n",
      "[I 2024-05-09 15:15:33,833] Trial 8 finished with value: 17.481420998759102 and parameters: {'trend': 'add', 'seasonal': None, 'seasonal_periods': 7}. Best is trial 0 with value: 17.481420998759102.\n",
      "[I 2024-05-09 15:15:33,913] Trial 6 finished with value: 21.13969652134222 and parameters: {'trend': 'add', 'seasonal': 'add', 'seasonal_periods': 4}. Best is trial 0 with value: 17.481420998759102.\n",
      "[I 2024-05-09 15:15:34,007] Trial 7 finished with value: 17.311694281927434 and parameters: {'trend': 'add', 'seasonal': 'add', 'seasonal_periods': 7}. Best is trial 7 with value: 17.311694281927434.\n",
      "[I 2024-05-09 15:15:34,035] Trial 5 finished with value: 17.311694281927434 and parameters: {'trend': 'add', 'seasonal': 'add', 'seasonal_periods': None}. Best is trial 7 with value: 17.311694281927434.\n",
      "/home/jonas/.pyenv/versions/3.10.6/envs/walmart/lib/python3.10/site-packages/statsmodels/tsa/base/tsa_model.py:473: ValueWarning: No frequency information was provided, so inferred frequency D will be used.\n",
      "  self._init_dates(dates, freq)\n",
      "/tmp/ipykernel_97105/1072332254.py:7: SettingWithCopyWarning: \n",
      "A value is trying to be set on a copy of a slice from a DataFrame.\n",
      "Try using .loc[row_indexer,col_indexer] = value instead\n",
      "\n",
      "See the caveats in the documentation: https://pandas.pydata.org/pandas-docs/stable/user_guide/indexing.html#returning-a-view-versus-a-copy\n",
      "  prophet_product_df['ds'] = pd.to_datetime(prophet_product_df['ds'])\n",
      "15:15:34 - cmdstanpy - INFO - Chain [1] start processing\n",
      "15:15:34 - cmdstanpy - INFO - Chain [1] done processing\n"
     ]
    },
    {
     "name": "stdout",
     "output_type": "stream",
     "text": [
      "{'ARIMA': {'mae': 15.636063191263302, 'model': ARIMA(order=(3, 1, 3), scoring_args={}, suppress_warnings=True,\n",
      "      with_intercept=False)}, 'ExponentialSmoothing': {'mae': 17.311694281927434, 'model': <statsmodels.tsa.holtwinters.results.HoltWintersResultsWrapper object at 0x7fed7f67bb80>}, 'Prophet': {'mae': 10.36622612532744, 'model': <prophet.forecaster.Prophet object at 0x7fed7ee2d090>}}\n",
      "Model results for FOODS_3_587_CA_1_validation\n",
      "Best model: Prophet\n",
      "Best score: 10.36622612532744\n",
      "Analyzing product: FOODS_3_714_CA_1_validation\n"
     ]
    },
    {
     "name": "stderr",
     "output_type": "stream",
     "text": [
      "[I 2024-05-09 15:16:17,801] A new study created in memory with name: no-name-e73138ae-ac17-415b-a502-5033b68ccb10\n"
     ]
    },
    {
     "name": "stdout",
     "output_type": "stream",
     "text": [
      "Optimizing hyperparameters for product: FOODS_3_714_CA_1_validation\n"
     ]
    },
    {
     "name": "stderr",
     "output_type": "stream",
     "text": [
      "[I 2024-05-09 15:16:19,217] Trial 1 finished with value: 8.388052664095701 and parameters: {'trend': 'add', 'seasonal': None, 'seasonal_periods': 4}. Best is trial 1 with value: 8.388052664095701.\n",
      "[I 2024-05-09 15:16:19,279] Trial 2 finished with value: 8.388052664095701 and parameters: {'trend': 'add', 'seasonal': None, 'seasonal_periods': None}. Best is trial 1 with value: 8.388052664095701.\n",
      "[I 2024-05-09 15:16:19,298] Trial 3 finished with value: 8.388052664095701 and parameters: {'trend': 'add', 'seasonal': None, 'seasonal_periods': None}. Best is trial 1 with value: 8.388052664095701.\n",
      "[I 2024-05-09 15:16:19,302] Trial 7 finished with value: 8.388052664095701 and parameters: {'trend': 'add', 'seasonal': None, 'seasonal_periods': 7}. Best is trial 1 with value: 8.388052664095701.\n",
      "[I 2024-05-09 15:16:19,360] Trial 5 finished with value: 8.388052664095701 and parameters: {'trend': 'add', 'seasonal': None, 'seasonal_periods': None}. Best is trial 1 with value: 8.388052664095701.\n",
      "[I 2024-05-09 15:16:19,397] Trial 0 finished with value: 8.222113428275978 and parameters: {'trend': 'add', 'seasonal': 'add', 'seasonal_periods': 12}. Best is trial 0 with value: 8.222113428275978.\n",
      "[I 2024-05-09 15:16:19,463] Trial 4 finished with value: 8.222113428275978 and parameters: {'trend': 'add', 'seasonal': 'add', 'seasonal_periods': 12}. Best is trial 0 with value: 8.222113428275978.\n",
      "[I 2024-05-09 15:16:19,507] Trial 8 finished with value: 8.222113428275978 and parameters: {'trend': 'add', 'seasonal': 'add', 'seasonal_periods': 12}. Best is trial 0 with value: 8.222113428275978.\n",
      "[I 2024-05-09 15:16:19,638] Trial 6 finished with value: 5.173390945001352 and parameters: {'trend': 'add', 'seasonal': 'add', 'seasonal_periods': None}. Best is trial 6 with value: 5.173390945001352.\n",
      "[I 2024-05-09 15:16:19,641] Trial 9 finished with value: 5.173390945001352 and parameters: {'trend': 'add', 'seasonal': 'add', 'seasonal_periods': None}. Best is trial 6 with value: 5.173390945001352.\n",
      "/home/jonas/.pyenv/versions/3.10.6/envs/walmart/lib/python3.10/site-packages/statsmodels/tsa/base/tsa_model.py:473: ValueWarning: No frequency information was provided, so inferred frequency D will be used.\n",
      "  self._init_dates(dates, freq)\n",
      "/tmp/ipykernel_97105/1072332254.py:7: SettingWithCopyWarning: \n",
      "A value is trying to be set on a copy of a slice from a DataFrame.\n",
      "Try using .loc[row_indexer,col_indexer] = value instead\n",
      "\n",
      "See the caveats in the documentation: https://pandas.pydata.org/pandas-docs/stable/user_guide/indexing.html#returning-a-view-versus-a-copy\n",
      "  prophet_product_df['ds'] = pd.to_datetime(prophet_product_df['ds'])\n",
      "15:16:19 - cmdstanpy - INFO - Chain [1] start processing\n",
      "15:16:20 - cmdstanpy - INFO - Chain [1] done processing\n"
     ]
    },
    {
     "name": "stdout",
     "output_type": "stream",
     "text": [
      "{'ARIMA': {'mae': 5.518778222112147, 'model': ARIMA(order=(5, 1, 5), scoring_args={}, suppress_warnings=True,\n",
      "      with_intercept=False)}, 'ExponentialSmoothing': {'mae': 5.173390945001352, 'model': <statsmodels.tsa.holtwinters.results.HoltWintersResultsWrapper object at 0x7fed800bebc0>}, 'Prophet': {'mae': 5.523726278892037, 'model': <prophet.forecaster.Prophet object at 0x7fed7fa5ffa0>}}\n",
      "Model results for FOODS_3_714_CA_1_validation\n",
      "Best model: ExponentialSmoothing\n",
      "Best score: 5.173390945001352\n",
      "Analyzing product: FOODS_3_808_CA_1_validation\n"
     ]
    },
    {
     "name": "stderr",
     "output_type": "stream",
     "text": [
      "[I 2024-05-09 15:17:00,881] A new study created in memory with name: no-name-e5ce8587-6c2e-4ce1-9547-9008975773ae\n"
     ]
    },
    {
     "name": "stdout",
     "output_type": "stream",
     "text": [
      "Optimizing hyperparameters for product: FOODS_3_808_CA_1_validation\n"
     ]
    },
    {
     "name": "stderr",
     "output_type": "stream",
     "text": [
      "[I 2024-05-09 15:17:01,591] Trial 1 finished with value: 3.5378540430373917 and parameters: {'trend': 'add', 'seasonal': None, 'seasonal_periods': 4}. Best is trial 1 with value: 3.5378540430373917.\n",
      "[I 2024-05-09 15:17:01,932] Trial 3 finished with value: 3.5378540430373917 and parameters: {'trend': 'add', 'seasonal': None, 'seasonal_periods': None}. Best is trial 1 with value: 3.5378540430373917.\n",
      "[I 2024-05-09 15:17:02,095] Trial 8 finished with value: 3.5378540430373917 and parameters: {'trend': 'add', 'seasonal': None, 'seasonal_periods': 7}. Best is trial 1 with value: 3.5378540430373917.\n",
      "[I 2024-05-09 15:17:02,237] Trial 0 finished with value: 3.5201275671506607 and parameters: {'trend': 'add', 'seasonal': 'add', 'seasonal_periods': 4}. Best is trial 0 with value: 3.5201275671506607.\n",
      "[I 2024-05-09 15:17:02,274] Trial 6 finished with value: 3.5378540430373917 and parameters: {'trend': 'add', 'seasonal': None, 'seasonal_periods': None}. Best is trial 0 with value: 3.5201275671506607.\n",
      "[I 2024-05-09 15:17:02,388] Trial 9 finished with value: 3.5378540430373917 and parameters: {'trend': 'add', 'seasonal': None, 'seasonal_periods': 12}. Best is trial 0 with value: 3.5201275671506607.\n",
      "[I 2024-05-09 15:17:02,623] Trial 2 finished with value: 3.5201275671506607 and parameters: {'trend': 'add', 'seasonal': 'add', 'seasonal_periods': 4}. Best is trial 0 with value: 3.5201275671506607.\n",
      "[I 2024-05-09 15:17:02,648] Trial 4 finished with value: 3.5201275671506607 and parameters: {'trend': 'add', 'seasonal': 'add', 'seasonal_periods': 4}. Best is trial 0 with value: 3.5201275671506607.\n",
      "[I 2024-05-09 15:17:02,703] Trial 7 finished with value: 4.208581321695708 and parameters: {'trend': 'add', 'seasonal': 'add', 'seasonal_periods': 7}. Best is trial 0 with value: 3.5201275671506607.\n",
      "[I 2024-05-09 15:17:02,720] Trial 5 finished with value: 4.208581321695708 and parameters: {'trend': 'add', 'seasonal': 'add', 'seasonal_periods': 7}. Best is trial 0 with value: 3.5201275671506607.\n",
      "/home/jonas/.pyenv/versions/3.10.6/envs/walmart/lib/python3.10/site-packages/statsmodels/tsa/base/tsa_model.py:473: ValueWarning: No frequency information was provided, so inferred frequency D will be used.\n",
      "  self._init_dates(dates, freq)\n",
      "/tmp/ipykernel_97105/1072332254.py:7: SettingWithCopyWarning: \n",
      "A value is trying to be set on a copy of a slice from a DataFrame.\n",
      "Try using .loc[row_indexer,col_indexer] = value instead\n",
      "\n",
      "See the caveats in the documentation: https://pandas.pydata.org/pandas-docs/stable/user_guide/indexing.html#returning-a-view-versus-a-copy\n",
      "  prophet_product_df['ds'] = pd.to_datetime(prophet_product_df['ds'])\n",
      "15:17:02 - cmdstanpy - INFO - Chain [1] start processing\n",
      "15:17:03 - cmdstanpy - INFO - Chain [1] done processing\n"
     ]
    },
    {
     "name": "stdout",
     "output_type": "stream",
     "text": [
      "{'ARIMA': {'mae': 3.219758128147768, 'model': ARIMA(order=(5, 1, 5), scoring_args={}, suppress_warnings=True,\n",
      "      with_intercept=False)}, 'ExponentialSmoothing': {'mae': 3.5201275671506607, 'model': <statsmodels.tsa.holtwinters.results.HoltWintersResultsWrapper object at 0x7fed807bcb20>}, 'Prophet': {'mae': 10.665453491107941, 'model': <prophet.forecaster.Prophet object at 0x7fed7ffc50c0>}}\n",
      "Model results for FOODS_3_808_CA_1_validation\n",
      "Best model: ARIMA\n",
      "Best score: 3.219758128147768\n",
      "Total average MAE: 8.603722749804486\n"
     ]
    }
   ],
   "source": [
    "from pmdarima import auto_arima\n",
    "\n",
    "# Dictionary to store MAE results for each unique time-series identified by id\n",
    "product_results = {}\n",
    "average_mae = []\n",
    "\n",
    "# Iterate over each unique product series identified by id\n",
    "for id in merge_df_scaled['id'].unique()[:10]:\n",
    "    print(f\"Analyzing product: {id}\")\n",
    "    product_data = merge_df_scaled[merge_df_scaled['id'] == id]\n",
    "\n",
    "    # Results list for the current product time-series\n",
    "    results = {}\n",
    "    best_score = 999.99\n",
    "    best_model_name = \"\"\n",
    "\n",
    "\n",
    "\n",
    "    #Looping all models\n",
    "    for model_name in models_list:\n",
    "\n",
    "        if model_name == \"ARIMA\":\n",
    "            #TODO: Add 5-fold split here for another loop (or inside the model function?) and then take the average score per model as their mae score\n",
    "            \n",
    "            # Fit ARIMA model on the training data using auto_arima to find the best (p, d, q)\n",
    "            model, mae = perform_auto_arima(product_data)\n",
    "            results[model_name] = {\"mae\": mae, \"model\": model}\n",
    "            if mae < best_score:\n",
    "                best_score = mae\n",
    "                best_model = model\n",
    "                best_model_name = model_name\n",
    "\n",
    "        elif model_name == \"ExponentialSmoothing\":\n",
    "\n",
    "            # To be built\n",
    "            model, mae = perform_exp_smoothing(product_data)\n",
    "            results[model_name] = {\"mae\": mae, \"model\": model}\n",
    "            if mae < best_score:\n",
    "                best_score = mae\n",
    "                best_model = model\n",
    "                best_model_name = model_name\n",
    "\n",
    "        elif model_name == \"Prophet\":\n",
    "\n",
    "            model, mae = perform_prophet(product_data)\n",
    "            results[model_name] = {\"mae\": mae, \"model\": model}\n",
    "            if mae < best_score:\n",
    "                best_score = mae\n",
    "                best_model = model\n",
    "                best_model_name = model_name\n",
    "\n",
    "\n",
    "    #Printing results for this product\n",
    "    print(results)\n",
    "    print(f\"Model results for {id}\")\n",
    "    print(f\"Best model: {best_model_name}\")\n",
    "    print(f\"Best score: {best_score}\")\n",
    "\n",
    "    average_mae.append(best_score)\n",
    "\n",
    "    # Store the average MAE for the current product time-series\n",
    "    product_results[id] = {\"best_score\": best_score, \"best_model\": best_model_name, \"model\": best_model}\n",
    "\n",
    "    #Store the best model in a pkl file\n",
    "    filename = f'../models/{id}_model.pkl'\n",
    "    with open(filename, 'wb') as f:\n",
    "        pickle.dump(best_model, f)\n",
    "\n",
    "# Create a DataFrame to store the results\n",
    "results_df_arima = pd.DataFrame(product_results.items(), columns=['id', 'MAE'])\n",
    "\n",
    "# Set the 'id' column as the index\n",
    "results_df_arima.set_index('id', inplace=True)\n",
    "\n",
    "average_mae = np.mean(average_mae)\n",
    "\n",
    "print(f\"Total average MAE: {average_mae}\")\n"
   ]
  },
  {
   "cell_type": "markdown",
   "id": "802283de-40e3-44e5-8123-a7df61265b43",
   "metadata": {},
   "source": [
    "# ----------- Jonas Cleaned and Optimized until here -------------------"
   ]
  },
  {
   "cell_type": "code",
   "execution_count": null,
   "id": "3b4d1187-fb23-450a-ac87-0ad96d294124",
   "metadata": {
    "tags": []
   },
   "outputs": [],
   "source": [
    "# Convert the results dictionary to a DataFrame\n",
    "results_df_exp = pd.DataFrame(results_dict).T.reset_index()\n",
    "results_df_exp.columns = ['id', 'ExpSmoothing_params', 'ExpSmoothing_MAE']\n",
    "\n",
    "# Set the 'Product ID' column as the index\n",
    "results_df_exp.set_index('id', inplace=True)\n",
    "results_df_exp"
   ]
  },
  {
   "cell_type": "code",
   "execution_count": null,
   "id": "f631d89f-54a6-4f72-a360-5162b82f0dfb",
   "metadata": {
    "tags": []
   },
   "outputs": [],
   "source": [
    "# Merge the two DataFrames based on the product ID\n",
    "comparison_df = pd.merge(results_df_arima, results_df_exp, left_index=True, right_index=True, suffixes=('_arima', '_exp'))\n",
    "comparison_df['Best MAE'] = comparison_df[['ARIMA_MAE', 'ExpSmoothing_MAE']].min(axis=1)\n",
    "comparison_df['Best Method'] = comparison_df.apply(lambda row: 'ARIMA' if row['Best MAE'] == row['ARIMA_MAE'] else 'Exponential Smoothing', axis=1)\n",
    "\n",
    "comparison_df\n"
   ]
  },
  {
   "cell_type": "code",
   "execution_count": null,
   "id": "a22b314d-6a14-476e-a6da-e020b326229b",
   "metadata": {},
   "outputs": [],
   "source": []
  },
  {
   "cell_type": "code",
   "execution_count": null,
   "id": "e8d164fe-efdf-4bb7-b9a5-8aa23fde84c2",
   "metadata": {},
   "outputs": [],
   "source": []
  },
  {
   "cell_type": "code",
   "execution_count": null,
   "id": "47d964ed-ad0d-411e-b4c6-cd32c72bb440",
   "metadata": {},
   "outputs": [],
   "source": []
  },
  {
   "cell_type": "code",
   "execution_count": null,
   "id": "4f13ac0a-fa34-4333-9abf-2dc1e7592607",
   "metadata": {},
   "outputs": [],
   "source": []
  }
 ],
 "metadata": {
  "environment": {
   "kernel": "python3",
   "name": "tf2-cpu.2-11.m120",
   "type": "gcloud",
   "uri": "us-docker.pkg.dev/deeplearning-platform-release/gcr.io/tf2-cpu.2-11:m120"
  },
  "kernelspec": {
   "display_name": "Python 3 (ipykernel)",
   "language": "python",
   "name": "python3"
  },
  "language_info": {
   "codemirror_mode": {
    "name": "ipython",
    "version": 3
   },
   "file_extension": ".py",
   "mimetype": "text/x-python",
   "name": "python",
   "nbconvert_exporter": "python",
   "pygments_lexer": "ipython3",
   "version": "3.10.6"
  }
 },
 "nbformat": 4,
 "nbformat_minor": 5
}
