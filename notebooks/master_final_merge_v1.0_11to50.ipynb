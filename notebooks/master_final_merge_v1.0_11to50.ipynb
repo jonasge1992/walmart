{
 "cells": [
  {
   "cell_type": "code",
   "execution_count": 1,
   "id": "8c91c641-7676-421d-aef8-79ef55aa0315",
   "metadata": {
    "tags": []
   },
   "outputs": [],
   "source": [
    "import numpy as np # linear algebra\n",
    "import pandas as pd # data processing, CSV file I/O (e.g. pd.read_csv)\n",
    "import matplotlib.pyplot as plt\n",
    "import seaborn as sns\n",
    "import optuna\n",
    "import pickle\n",
    "import warnings\n",
    "from datetime import timedelta \n",
    "import datetime\n",
    "\n",
    "from sklearn.model_selection import TimeSeriesSplit\n",
    "from statsmodels.tsa.holtwinters import ExponentialSmoothing\n",
    "from sklearn.metrics import mean_absolute_error\n",
    "from sklearn.preprocessing import MinMaxScaler\n",
    "from sklearn.preprocessing import OneHotEncoder\n",
    "from statsmodels.tsa.arima.model import ARIMA\n",
    "import warnings\n",
    "from prophet import Prophet\n",
    "from prophet.diagnostics import cross_validation, performance_metrics\n",
    "from prophet.plot import plot_cross_validation_metric\n",
    "from sklearn.metrics import mean_squared_error\n",
    "import pmdarima\n",
    "from sklearn.ensemble import RandomForestRegressor\n",
    "import lightgbm as lgb\n",
    "\n",
    "from darts import TimeSeries\n",
    "from darts.models.forecasting.tft_model import TFTModel\n",
    "from darts.metrics import mse\n",
    "from darts.dataprocessing.transformers import Scaler\n",
    "from darts.metrics import smape, mae\n",
    "from torchmetrics.regression import MeanAbsoluteError\n",
    "\n",
    "import shutil"
   ]
  },
  {
   "cell_type": "markdown",
   "id": "ae5ab5d5-4860-4ec1-854b-9a5fbcf69082",
   "metadata": {},
   "source": [
    "# -1 Loading Data"
   ]
  },
  {
   "cell_type": "code",
   "execution_count": 2,
   "id": "5c23922c-8d99-4757-aa9b-2a4684ab8a30",
   "metadata": {
    "tags": []
   },
   "outputs": [],
   "source": [
    "#csv_file_path = \n",
    "train_df = pd.read_csv('../raw_data/sales_train_validation.csv')\n",
    "prices_df = pd.read_csv('../raw_data/sell_prices.csv')\n",
    "calendar_df = pd.read_csv('../raw_data/calendar.csv')"
   ]
  },
  {
   "cell_type": "code",
   "execution_count": 3,
   "id": "9c295793-539c-449e-9f97-da1c7b7fe453",
   "metadata": {
    "tags": []
   },
   "outputs": [
    {
     "data": {
      "text/html": [
       "<div>\n",
       "<style scoped>\n",
       "    .dataframe tbody tr th:only-of-type {\n",
       "        vertical-align: middle;\n",
       "    }\n",
       "\n",
       "    .dataframe tbody tr th {\n",
       "        vertical-align: top;\n",
       "    }\n",
       "\n",
       "    .dataframe thead th {\n",
       "        text-align: right;\n",
       "    }\n",
       "</style>\n",
       "<table border=\"1\" class=\"dataframe\">\n",
       "  <thead>\n",
       "    <tr style=\"text-align: right;\">\n",
       "      <th></th>\n",
       "      <th>id</th>\n",
       "      <th>item_id</th>\n",
       "      <th>dept_id</th>\n",
       "      <th>cat_id</th>\n",
       "      <th>store_id</th>\n",
       "      <th>state_id</th>\n",
       "      <th>d_1</th>\n",
       "      <th>d_2</th>\n",
       "      <th>d_3</th>\n",
       "      <th>d_4</th>\n",
       "      <th>...</th>\n",
       "      <th>d_1904</th>\n",
       "      <th>d_1905</th>\n",
       "      <th>d_1906</th>\n",
       "      <th>d_1907</th>\n",
       "      <th>d_1908</th>\n",
       "      <th>d_1909</th>\n",
       "      <th>d_1910</th>\n",
       "      <th>d_1911</th>\n",
       "      <th>d_1912</th>\n",
       "      <th>d_1913</th>\n",
       "    </tr>\n",
       "  </thead>\n",
       "  <tbody>\n",
       "    <tr>\n",
       "      <th>0</th>\n",
       "      <td>HOBBIES_1_001_CA_1_validation</td>\n",
       "      <td>HOBBIES_1_001</td>\n",
       "      <td>HOBBIES_1</td>\n",
       "      <td>HOBBIES</td>\n",
       "      <td>CA_1</td>\n",
       "      <td>CA</td>\n",
       "      <td>0</td>\n",
       "      <td>0</td>\n",
       "      <td>0</td>\n",
       "      <td>0</td>\n",
       "      <td>...</td>\n",
       "      <td>1</td>\n",
       "      <td>3</td>\n",
       "      <td>0</td>\n",
       "      <td>1</td>\n",
       "      <td>1</td>\n",
       "      <td>1</td>\n",
       "      <td>3</td>\n",
       "      <td>0</td>\n",
       "      <td>1</td>\n",
       "      <td>1</td>\n",
       "    </tr>\n",
       "    <tr>\n",
       "      <th>1</th>\n",
       "      <td>HOBBIES_1_002_CA_1_validation</td>\n",
       "      <td>HOBBIES_1_002</td>\n",
       "      <td>HOBBIES_1</td>\n",
       "      <td>HOBBIES</td>\n",
       "      <td>CA_1</td>\n",
       "      <td>CA</td>\n",
       "      <td>0</td>\n",
       "      <td>0</td>\n",
       "      <td>0</td>\n",
       "      <td>0</td>\n",
       "      <td>...</td>\n",
       "      <td>0</td>\n",
       "      <td>0</td>\n",
       "      <td>0</td>\n",
       "      <td>0</td>\n",
       "      <td>0</td>\n",
       "      <td>1</td>\n",
       "      <td>0</td>\n",
       "      <td>0</td>\n",
       "      <td>0</td>\n",
       "      <td>0</td>\n",
       "    </tr>\n",
       "    <tr>\n",
       "      <th>2</th>\n",
       "      <td>HOBBIES_1_003_CA_1_validation</td>\n",
       "      <td>HOBBIES_1_003</td>\n",
       "      <td>HOBBIES_1</td>\n",
       "      <td>HOBBIES</td>\n",
       "      <td>CA_1</td>\n",
       "      <td>CA</td>\n",
       "      <td>0</td>\n",
       "      <td>0</td>\n",
       "      <td>0</td>\n",
       "      <td>0</td>\n",
       "      <td>...</td>\n",
       "      <td>2</td>\n",
       "      <td>1</td>\n",
       "      <td>2</td>\n",
       "      <td>1</td>\n",
       "      <td>1</td>\n",
       "      <td>1</td>\n",
       "      <td>0</td>\n",
       "      <td>1</td>\n",
       "      <td>1</td>\n",
       "      <td>1</td>\n",
       "    </tr>\n",
       "    <tr>\n",
       "      <th>3</th>\n",
       "      <td>HOBBIES_1_004_CA_1_validation</td>\n",
       "      <td>HOBBIES_1_004</td>\n",
       "      <td>HOBBIES_1</td>\n",
       "      <td>HOBBIES</td>\n",
       "      <td>CA_1</td>\n",
       "      <td>CA</td>\n",
       "      <td>0</td>\n",
       "      <td>0</td>\n",
       "      <td>0</td>\n",
       "      <td>0</td>\n",
       "      <td>...</td>\n",
       "      <td>1</td>\n",
       "      <td>0</td>\n",
       "      <td>5</td>\n",
       "      <td>4</td>\n",
       "      <td>1</td>\n",
       "      <td>0</td>\n",
       "      <td>1</td>\n",
       "      <td>3</td>\n",
       "      <td>7</td>\n",
       "      <td>2</td>\n",
       "    </tr>\n",
       "    <tr>\n",
       "      <th>4</th>\n",
       "      <td>HOBBIES_1_005_CA_1_validation</td>\n",
       "      <td>HOBBIES_1_005</td>\n",
       "      <td>HOBBIES_1</td>\n",
       "      <td>HOBBIES</td>\n",
       "      <td>CA_1</td>\n",
       "      <td>CA</td>\n",
       "      <td>0</td>\n",
       "      <td>0</td>\n",
       "      <td>0</td>\n",
       "      <td>0</td>\n",
       "      <td>...</td>\n",
       "      <td>2</td>\n",
       "      <td>1</td>\n",
       "      <td>1</td>\n",
       "      <td>0</td>\n",
       "      <td>1</td>\n",
       "      <td>1</td>\n",
       "      <td>2</td>\n",
       "      <td>2</td>\n",
       "      <td>2</td>\n",
       "      <td>4</td>\n",
       "    </tr>\n",
       "    <tr>\n",
       "      <th>...</th>\n",
       "      <td>...</td>\n",
       "      <td>...</td>\n",
       "      <td>...</td>\n",
       "      <td>...</td>\n",
       "      <td>...</td>\n",
       "      <td>...</td>\n",
       "      <td>...</td>\n",
       "      <td>...</td>\n",
       "      <td>...</td>\n",
       "      <td>...</td>\n",
       "      <td>...</td>\n",
       "      <td>...</td>\n",
       "      <td>...</td>\n",
       "      <td>...</td>\n",
       "      <td>...</td>\n",
       "      <td>...</td>\n",
       "      <td>...</td>\n",
       "      <td>...</td>\n",
       "      <td>...</td>\n",
       "      <td>...</td>\n",
       "      <td>...</td>\n",
       "    </tr>\n",
       "    <tr>\n",
       "      <th>30485</th>\n",
       "      <td>FOODS_3_823_WI_3_validation</td>\n",
       "      <td>FOODS_3_823</td>\n",
       "      <td>FOODS_3</td>\n",
       "      <td>FOODS</td>\n",
       "      <td>WI_3</td>\n",
       "      <td>WI</td>\n",
       "      <td>0</td>\n",
       "      <td>0</td>\n",
       "      <td>2</td>\n",
       "      <td>2</td>\n",
       "      <td>...</td>\n",
       "      <td>2</td>\n",
       "      <td>0</td>\n",
       "      <td>0</td>\n",
       "      <td>0</td>\n",
       "      <td>0</td>\n",
       "      <td>0</td>\n",
       "      <td>1</td>\n",
       "      <td>0</td>\n",
       "      <td>0</td>\n",
       "      <td>1</td>\n",
       "    </tr>\n",
       "    <tr>\n",
       "      <th>30486</th>\n",
       "      <td>FOODS_3_824_WI_3_validation</td>\n",
       "      <td>FOODS_3_824</td>\n",
       "      <td>FOODS_3</td>\n",
       "      <td>FOODS</td>\n",
       "      <td>WI_3</td>\n",
       "      <td>WI</td>\n",
       "      <td>0</td>\n",
       "      <td>0</td>\n",
       "      <td>0</td>\n",
       "      <td>0</td>\n",
       "      <td>...</td>\n",
       "      <td>0</td>\n",
       "      <td>0</td>\n",
       "      <td>0</td>\n",
       "      <td>0</td>\n",
       "      <td>0</td>\n",
       "      <td>0</td>\n",
       "      <td>0</td>\n",
       "      <td>0</td>\n",
       "      <td>1</td>\n",
       "      <td>0</td>\n",
       "    </tr>\n",
       "    <tr>\n",
       "      <th>30487</th>\n",
       "      <td>FOODS_3_825_WI_3_validation</td>\n",
       "      <td>FOODS_3_825</td>\n",
       "      <td>FOODS_3</td>\n",
       "      <td>FOODS</td>\n",
       "      <td>WI_3</td>\n",
       "      <td>WI</td>\n",
       "      <td>0</td>\n",
       "      <td>6</td>\n",
       "      <td>0</td>\n",
       "      <td>2</td>\n",
       "      <td>...</td>\n",
       "      <td>2</td>\n",
       "      <td>1</td>\n",
       "      <td>0</td>\n",
       "      <td>2</td>\n",
       "      <td>0</td>\n",
       "      <td>1</td>\n",
       "      <td>0</td>\n",
       "      <td>0</td>\n",
       "      <td>1</td>\n",
       "      <td>0</td>\n",
       "    </tr>\n",
       "    <tr>\n",
       "      <th>30488</th>\n",
       "      <td>FOODS_3_826_WI_3_validation</td>\n",
       "      <td>FOODS_3_826</td>\n",
       "      <td>FOODS_3</td>\n",
       "      <td>FOODS</td>\n",
       "      <td>WI_3</td>\n",
       "      <td>WI</td>\n",
       "      <td>0</td>\n",
       "      <td>0</td>\n",
       "      <td>0</td>\n",
       "      <td>0</td>\n",
       "      <td>...</td>\n",
       "      <td>0</td>\n",
       "      <td>0</td>\n",
       "      <td>1</td>\n",
       "      <td>0</td>\n",
       "      <td>0</td>\n",
       "      <td>1</td>\n",
       "      <td>0</td>\n",
       "      <td>3</td>\n",
       "      <td>1</td>\n",
       "      <td>3</td>\n",
       "    </tr>\n",
       "    <tr>\n",
       "      <th>30489</th>\n",
       "      <td>FOODS_3_827_WI_3_validation</td>\n",
       "      <td>FOODS_3_827</td>\n",
       "      <td>FOODS_3</td>\n",
       "      <td>FOODS</td>\n",
       "      <td>WI_3</td>\n",
       "      <td>WI</td>\n",
       "      <td>0</td>\n",
       "      <td>0</td>\n",
       "      <td>0</td>\n",
       "      <td>0</td>\n",
       "      <td>...</td>\n",
       "      <td>0</td>\n",
       "      <td>0</td>\n",
       "      <td>0</td>\n",
       "      <td>0</td>\n",
       "      <td>0</td>\n",
       "      <td>0</td>\n",
       "      <td>0</td>\n",
       "      <td>0</td>\n",
       "      <td>0</td>\n",
       "      <td>0</td>\n",
       "    </tr>\n",
       "  </tbody>\n",
       "</table>\n",
       "<p>30490 rows × 1919 columns</p>\n",
       "</div>"
      ],
      "text/plain": [
       "                                  id        item_id    dept_id   cat_id  \\\n",
       "0      HOBBIES_1_001_CA_1_validation  HOBBIES_1_001  HOBBIES_1  HOBBIES   \n",
       "1      HOBBIES_1_002_CA_1_validation  HOBBIES_1_002  HOBBIES_1  HOBBIES   \n",
       "2      HOBBIES_1_003_CA_1_validation  HOBBIES_1_003  HOBBIES_1  HOBBIES   \n",
       "3      HOBBIES_1_004_CA_1_validation  HOBBIES_1_004  HOBBIES_1  HOBBIES   \n",
       "4      HOBBIES_1_005_CA_1_validation  HOBBIES_1_005  HOBBIES_1  HOBBIES   \n",
       "...                              ...            ...        ...      ...   \n",
       "30485    FOODS_3_823_WI_3_validation    FOODS_3_823    FOODS_3    FOODS   \n",
       "30486    FOODS_3_824_WI_3_validation    FOODS_3_824    FOODS_3    FOODS   \n",
       "30487    FOODS_3_825_WI_3_validation    FOODS_3_825    FOODS_3    FOODS   \n",
       "30488    FOODS_3_826_WI_3_validation    FOODS_3_826    FOODS_3    FOODS   \n",
       "30489    FOODS_3_827_WI_3_validation    FOODS_3_827    FOODS_3    FOODS   \n",
       "\n",
       "      store_id state_id  d_1  d_2  d_3  d_4  ...  d_1904  d_1905  d_1906  \\\n",
       "0         CA_1       CA    0    0    0    0  ...       1       3       0   \n",
       "1         CA_1       CA    0    0    0    0  ...       0       0       0   \n",
       "2         CA_1       CA    0    0    0    0  ...       2       1       2   \n",
       "3         CA_1       CA    0    0    0    0  ...       1       0       5   \n",
       "4         CA_1       CA    0    0    0    0  ...       2       1       1   \n",
       "...        ...      ...  ...  ...  ...  ...  ...     ...     ...     ...   \n",
       "30485     WI_3       WI    0    0    2    2  ...       2       0       0   \n",
       "30486     WI_3       WI    0    0    0    0  ...       0       0       0   \n",
       "30487     WI_3       WI    0    6    0    2  ...       2       1       0   \n",
       "30488     WI_3       WI    0    0    0    0  ...       0       0       1   \n",
       "30489     WI_3       WI    0    0    0    0  ...       0       0       0   \n",
       "\n",
       "       d_1907  d_1908  d_1909  d_1910  d_1911  d_1912  d_1913  \n",
       "0           1       1       1       3       0       1       1  \n",
       "1           0       0       1       0       0       0       0  \n",
       "2           1       1       1       0       1       1       1  \n",
       "3           4       1       0       1       3       7       2  \n",
       "4           0       1       1       2       2       2       4  \n",
       "...       ...     ...     ...     ...     ...     ...     ...  \n",
       "30485       0       0       0       1       0       0       1  \n",
       "30486       0       0       0       0       0       1       0  \n",
       "30487       2       0       1       0       0       1       0  \n",
       "30488       0       0       1       0       3       1       3  \n",
       "30489       0       0       0       0       0       0       0  \n",
       "\n",
       "[30490 rows x 1919 columns]"
      ]
     },
     "execution_count": 3,
     "metadata": {},
     "output_type": "execute_result"
    }
   ],
   "source": [
    "train_df"
   ]
  },
  {
   "cell_type": "code",
   "execution_count": 4,
   "id": "d48c042e-22f7-422a-9d51-35eab4459cc8",
   "metadata": {
    "tags": []
   },
   "outputs": [],
   "source": [
    "# Step 1: Sum up sales data across the last 1800 columns\n",
    "sales_data = train_df.iloc[:, 6:].sum(axis=1)\n",
    "\n",
    "train_df[\"sales_sum\"] = sales_data"
   ]
  },
  {
   "cell_type": "code",
   "execution_count": 5,
   "id": "823403ca-5328-4c38-a0d2-480575821e5e",
   "metadata": {
    "tags": []
   },
   "outputs": [],
   "source": [
    "filtered_df = train_df[[\"id\",\"sales_sum\"]]"
   ]
  },
  {
   "cell_type": "code",
   "execution_count": 6,
   "id": "57f2de76-2db7-46fd-be33-59d44cb369bd",
   "metadata": {
    "tags": []
   },
   "outputs": [],
   "source": [
    "# Sort the DataFrame by 'sales_sum' column in descending order\n",
    "sorted_df = filtered_df.sort_values(by='sales_sum', ascending=False)"
   ]
  },
  {
   "cell_type": "code",
   "execution_count": 11,
   "id": "5280dd23-5c78-40c4-bf17-092608e94e1c",
   "metadata": {
    "tags": []
   },
   "outputs": [],
   "source": [
    "filtered_ids = sorted_df.head(50)[\"id\"].to_list()"
   ]
  },
  {
   "cell_type": "code",
   "execution_count": 8,
   "id": "3021e742-b66b-49a0-a8ba-f35473a4eca6",
   "metadata": {
    "tags": []
   },
   "outputs": [],
   "source": [
    "#csv_file_path = \n",
    "train_df = pd.read_csv('../raw_data/sales_train_validation.csv')\n",
    "prices_df = pd.read_csv('../raw_data/sell_prices.csv')\n",
    "calendar_df = pd.read_csv('../raw_data/calendar.csv')"
   ]
  },
  {
   "cell_type": "code",
   "execution_count": 12,
   "id": "2710ee16-c392-4150-8c59-aaeb8709ae53",
   "metadata": {
    "tags": []
   },
   "outputs": [
    {
     "data": {
      "text/plain": [
       "['FOODS_3_090_CA_3_validation',\n",
       " 'FOODS_3_586_TX_2_validation',\n",
       " 'FOODS_3_586_TX_3_validation',\n",
       " 'FOODS_3_586_CA_3_validation',\n",
       " 'FOODS_3_090_CA_1_validation',\n",
       " 'FOODS_3_090_WI_3_validation',\n",
       " 'FOODS_3_090_TX_2_validation',\n",
       " 'FOODS_3_090_TX_3_validation',\n",
       " 'FOODS_3_252_TX_2_validation',\n",
       " 'FOODS_3_586_TX_1_validation',\n",
       " 'FOODS_3_226_WI_3_validation',\n",
       " 'FOODS_3_555_TX_2_validation',\n",
       " 'FOODS_3_090_TX_1_validation',\n",
       " 'FOODS_3_120_CA_3_validation',\n",
       " 'FOODS_3_586_CA_1_validation',\n",
       " 'FOODS_3_252_TX_3_validation',\n",
       " 'FOODS_3_586_WI_3_validation',\n",
       " 'FOODS_3_694_WI_3_validation',\n",
       " 'FOODS_3_252_CA_3_validation',\n",
       " 'FOODS_3_541_CA_3_validation',\n",
       " 'FOODS_3_635_CA_3_validation',\n",
       " 'FOODS_3_226_WI_1_validation',\n",
       " 'FOODS_3_555_TX_3_validation',\n",
       " 'FOODS_3_252_CA_1_validation',\n",
       " 'FOODS_3_377_TX_3_validation',\n",
       " 'FOODS_3_808_CA_3_validation',\n",
       " 'FOODS_3_587_CA_3_validation',\n",
       " 'FOODS_3_226_WI_2_validation',\n",
       " 'FOODS_3_555_TX_1_validation',\n",
       " 'FOODS_3_586_CA_2_validation',\n",
       " 'FOODS_3_377_TX_2_validation',\n",
       " 'FOODS_3_120_CA_1_validation',\n",
       " 'FOODS_3_694_WI_2_validation',\n",
       " 'FOODS_3_555_CA_3_validation',\n",
       " 'FOODS_3_555_WI_3_validation',\n",
       " 'FOODS_3_252_CA_2_validation',\n",
       " 'FOODS_3_252_TX_1_validation',\n",
       " 'FOODS_3_090_CA_2_validation',\n",
       " 'FOODS_3_681_CA_3_validation',\n",
       " 'FOODS_3_318_WI_3_validation',\n",
       " 'FOODS_3_714_WI_3_validation',\n",
       " 'FOODS_3_714_CA_1_validation',\n",
       " 'FOODS_3_090_CA_4_validation',\n",
       " 'FOODS_3_007_WI_2_validation',\n",
       " 'FOODS_3_714_CA_3_validation',\n",
       " 'FOODS_3_587_CA_1_validation',\n",
       " 'FOODS_3_202_CA_3_validation',\n",
       " 'FOODS_3_587_TX_2_validation',\n",
       " 'FOODS_3_234_WI_2_validation',\n",
       " 'FOODS_3_607_CA_3_validation']"
      ]
     },
     "execution_count": 12,
     "metadata": {},
     "output_type": "execute_result"
    }
   ],
   "source": [
    "filtered_ids"
   ]
  },
  {
   "cell_type": "code",
   "execution_count": 10,
   "id": "d77e2ade-155d-43f2-b676-fd8c4b203c90",
   "metadata": {
    "tags": []
   },
   "outputs": [],
   "source": [
    "train_df_filtered = train_df[train_df['id'].isin(filtered_ids)]"
   ]
  },
  {
   "cell_type": "code",
   "execution_count": 11,
   "id": "bed29bb3-435c-4c7e-93cf-ca208ab5ee68",
   "metadata": {
    "tags": []
   },
   "outputs": [],
   "source": [
    "train_df_sample = train_df_filtered.melt(id_vars=['id','item_id','dept_id','cat_id','store_id','state_id'])"
   ]
  },
  {
   "cell_type": "code",
   "execution_count": 12,
   "id": "a9357d41-9baa-49b9-8cc9-e5f46c8fa05a",
   "metadata": {
    "tags": []
   },
   "outputs": [],
   "source": [
    "train_df_sample.rename(columns={'variable': 'd', 'value':'sales'},inplace=True)"
   ]
  },
  {
   "cell_type": "code",
   "execution_count": 13,
   "id": "2cdabd0b-3596-4d78-b3cd-e1216f64dd60",
   "metadata": {
    "tags": []
   },
   "outputs": [],
   "source": [
    "merge_df = train_df_sample.merge(calendar_df,on='d',how='left')"
   ]
  },
  {
   "cell_type": "code",
   "execution_count": 14,
   "id": "bc759ed2-cffe-4513-9a95-82f06bdfffae",
   "metadata": {
    "tags": []
   },
   "outputs": [
    {
     "data": {
      "text/html": [
       "<div>\n",
       "<style scoped>\n",
       "    .dataframe tbody tr th:only-of-type {\n",
       "        vertical-align: middle;\n",
       "    }\n",
       "\n",
       "    .dataframe tbody tr th {\n",
       "        vertical-align: top;\n",
       "    }\n",
       "\n",
       "    .dataframe thead th {\n",
       "        text-align: right;\n",
       "    }\n",
       "</style>\n",
       "<table border=\"1\" class=\"dataframe\">\n",
       "  <thead>\n",
       "    <tr style=\"text-align: right;\">\n",
       "      <th></th>\n",
       "      <th>id</th>\n",
       "      <th>item_id</th>\n",
       "      <th>dept_id</th>\n",
       "      <th>cat_id</th>\n",
       "      <th>store_id</th>\n",
       "      <th>state_id</th>\n",
       "      <th>d</th>\n",
       "      <th>sales</th>\n",
       "      <th>date</th>\n",
       "      <th>wm_yr_wk</th>\n",
       "      <th>...</th>\n",
       "      <th>month</th>\n",
       "      <th>year</th>\n",
       "      <th>event_name_1</th>\n",
       "      <th>event_type_1</th>\n",
       "      <th>event_name_2</th>\n",
       "      <th>event_type_2</th>\n",
       "      <th>snap_CA</th>\n",
       "      <th>snap_TX</th>\n",
       "      <th>snap_WI</th>\n",
       "      <th>sell_price</th>\n",
       "    </tr>\n",
       "  </thead>\n",
       "  <tbody>\n",
       "    <tr>\n",
       "      <th>0</th>\n",
       "      <td>FOODS_3_120_CA_1_validation</td>\n",
       "      <td>FOODS_3_120</td>\n",
       "      <td>FOODS_3</td>\n",
       "      <td>FOODS</td>\n",
       "      <td>CA_1</td>\n",
       "      <td>CA</td>\n",
       "      <td>d_1</td>\n",
       "      <td>0</td>\n",
       "      <td>2011-01-29</td>\n",
       "      <td>11101</td>\n",
       "      <td>...</td>\n",
       "      <td>1</td>\n",
       "      <td>2011</td>\n",
       "      <td>NaN</td>\n",
       "      <td>NaN</td>\n",
       "      <td>NaN</td>\n",
       "      <td>NaN</td>\n",
       "      <td>0</td>\n",
       "      <td>0</td>\n",
       "      <td>0</td>\n",
       "      <td>NaN</td>\n",
       "    </tr>\n",
       "    <tr>\n",
       "      <th>1</th>\n",
       "      <td>FOODS_3_252_CA_1_validation</td>\n",
       "      <td>FOODS_3_252</td>\n",
       "      <td>FOODS_3</td>\n",
       "      <td>FOODS</td>\n",
       "      <td>CA_1</td>\n",
       "      <td>CA</td>\n",
       "      <td>d_1</td>\n",
       "      <td>19</td>\n",
       "      <td>2011-01-29</td>\n",
       "      <td>11101</td>\n",
       "      <td>...</td>\n",
       "      <td>1</td>\n",
       "      <td>2011</td>\n",
       "      <td>NaN</td>\n",
       "      <td>NaN</td>\n",
       "      <td>NaN</td>\n",
       "      <td>NaN</td>\n",
       "      <td>0</td>\n",
       "      <td>0</td>\n",
       "      <td>0</td>\n",
       "      <td>1.48</td>\n",
       "    </tr>\n",
       "    <tr>\n",
       "      <th>2</th>\n",
       "      <td>FOODS_3_586_CA_1_validation</td>\n",
       "      <td>FOODS_3_586</td>\n",
       "      <td>FOODS_3</td>\n",
       "      <td>FOODS</td>\n",
       "      <td>CA_1</td>\n",
       "      <td>CA</td>\n",
       "      <td>d_1</td>\n",
       "      <td>42</td>\n",
       "      <td>2011-01-29</td>\n",
       "      <td>11101</td>\n",
       "      <td>...</td>\n",
       "      <td>1</td>\n",
       "      <td>2011</td>\n",
       "      <td>NaN</td>\n",
       "      <td>NaN</td>\n",
       "      <td>NaN</td>\n",
       "      <td>NaN</td>\n",
       "      <td>0</td>\n",
       "      <td>0</td>\n",
       "      <td>0</td>\n",
       "      <td>1.48</td>\n",
       "    </tr>\n",
       "    <tr>\n",
       "      <th>3</th>\n",
       "      <td>FOODS_3_587_CA_1_validation</td>\n",
       "      <td>FOODS_3_587</td>\n",
       "      <td>FOODS_3</td>\n",
       "      <td>FOODS</td>\n",
       "      <td>CA_1</td>\n",
       "      <td>CA</td>\n",
       "      <td>d_1</td>\n",
       "      <td>50</td>\n",
       "      <td>2011-01-29</td>\n",
       "      <td>11101</td>\n",
       "      <td>...</td>\n",
       "      <td>1</td>\n",
       "      <td>2011</td>\n",
       "      <td>NaN</td>\n",
       "      <td>NaN</td>\n",
       "      <td>NaN</td>\n",
       "      <td>NaN</td>\n",
       "      <td>0</td>\n",
       "      <td>0</td>\n",
       "      <td>0</td>\n",
       "      <td>2.28</td>\n",
       "    </tr>\n",
       "    <tr>\n",
       "      <th>4</th>\n",
       "      <td>FOODS_3_714_CA_1_validation</td>\n",
       "      <td>FOODS_3_714</td>\n",
       "      <td>FOODS_3</td>\n",
       "      <td>FOODS</td>\n",
       "      <td>CA_1</td>\n",
       "      <td>CA</td>\n",
       "      <td>d_1</td>\n",
       "      <td>49</td>\n",
       "      <td>2011-01-29</td>\n",
       "      <td>11101</td>\n",
       "      <td>...</td>\n",
       "      <td>1</td>\n",
       "      <td>2011</td>\n",
       "      <td>NaN</td>\n",
       "      <td>NaN</td>\n",
       "      <td>NaN</td>\n",
       "      <td>NaN</td>\n",
       "      <td>0</td>\n",
       "      <td>0</td>\n",
       "      <td>0</td>\n",
       "      <td>1.48</td>\n",
       "    </tr>\n",
       "    <tr>\n",
       "      <th>...</th>\n",
       "      <td>...</td>\n",
       "      <td>...</td>\n",
       "      <td>...</td>\n",
       "      <td>...</td>\n",
       "      <td>...</td>\n",
       "      <td>...</td>\n",
       "      <td>...</td>\n",
       "      <td>...</td>\n",
       "      <td>...</td>\n",
       "      <td>...</td>\n",
       "      <td>...</td>\n",
       "      <td>...</td>\n",
       "      <td>...</td>\n",
       "      <td>...</td>\n",
       "      <td>...</td>\n",
       "      <td>...</td>\n",
       "      <td>...</td>\n",
       "      <td>...</td>\n",
       "      <td>...</td>\n",
       "      <td>...</td>\n",
       "      <td>...</td>\n",
       "    </tr>\n",
       "    <tr>\n",
       "      <th>76515</th>\n",
       "      <td>FOODS_3_318_WI_3_validation</td>\n",
       "      <td>FOODS_3_318</td>\n",
       "      <td>FOODS_3</td>\n",
       "      <td>FOODS</td>\n",
       "      <td>WI_3</td>\n",
       "      <td>WI</td>\n",
       "      <td>d_1913</td>\n",
       "      <td>14</td>\n",
       "      <td>2016-04-24</td>\n",
       "      <td>11613</td>\n",
       "      <td>...</td>\n",
       "      <td>4</td>\n",
       "      <td>2016</td>\n",
       "      <td>NaN</td>\n",
       "      <td>NaN</td>\n",
       "      <td>NaN</td>\n",
       "      <td>NaN</td>\n",
       "      <td>0</td>\n",
       "      <td>0</td>\n",
       "      <td>0</td>\n",
       "      <td>1.48</td>\n",
       "    </tr>\n",
       "    <tr>\n",
       "      <th>76516</th>\n",
       "      <td>FOODS_3_555_WI_3_validation</td>\n",
       "      <td>FOODS_3_555</td>\n",
       "      <td>FOODS_3</td>\n",
       "      <td>FOODS</td>\n",
       "      <td>WI_3</td>\n",
       "      <td>WI</td>\n",
       "      <td>d_1913</td>\n",
       "      <td>25</td>\n",
       "      <td>2016-04-24</td>\n",
       "      <td>11613</td>\n",
       "      <td>...</td>\n",
       "      <td>4</td>\n",
       "      <td>2016</td>\n",
       "      <td>NaN</td>\n",
       "      <td>NaN</td>\n",
       "      <td>NaN</td>\n",
       "      <td>NaN</td>\n",
       "      <td>0</td>\n",
       "      <td>0</td>\n",
       "      <td>0</td>\n",
       "      <td>1.68</td>\n",
       "    </tr>\n",
       "    <tr>\n",
       "      <th>76517</th>\n",
       "      <td>FOODS_3_586_WI_3_validation</td>\n",
       "      <td>FOODS_3_586</td>\n",
       "      <td>FOODS_3</td>\n",
       "      <td>FOODS</td>\n",
       "      <td>WI_3</td>\n",
       "      <td>WI</td>\n",
       "      <td>d_1913</td>\n",
       "      <td>44</td>\n",
       "      <td>2016-04-24</td>\n",
       "      <td>11613</td>\n",
       "      <td>...</td>\n",
       "      <td>4</td>\n",
       "      <td>2016</td>\n",
       "      <td>NaN</td>\n",
       "      <td>NaN</td>\n",
       "      <td>NaN</td>\n",
       "      <td>NaN</td>\n",
       "      <td>0</td>\n",
       "      <td>0</td>\n",
       "      <td>0</td>\n",
       "      <td>1.68</td>\n",
       "    </tr>\n",
       "    <tr>\n",
       "      <th>76518</th>\n",
       "      <td>FOODS_3_694_WI_3_validation</td>\n",
       "      <td>FOODS_3_694</td>\n",
       "      <td>FOODS_3</td>\n",
       "      <td>FOODS</td>\n",
       "      <td>WI_3</td>\n",
       "      <td>WI</td>\n",
       "      <td>d_1913</td>\n",
       "      <td>48</td>\n",
       "      <td>2016-04-24</td>\n",
       "      <td>11613</td>\n",
       "      <td>...</td>\n",
       "      <td>4</td>\n",
       "      <td>2016</td>\n",
       "      <td>NaN</td>\n",
       "      <td>NaN</td>\n",
       "      <td>NaN</td>\n",
       "      <td>NaN</td>\n",
       "      <td>0</td>\n",
       "      <td>0</td>\n",
       "      <td>0</td>\n",
       "      <td>1.68</td>\n",
       "    </tr>\n",
       "    <tr>\n",
       "      <th>76519</th>\n",
       "      <td>FOODS_3_714_WI_3_validation</td>\n",
       "      <td>FOODS_3_714</td>\n",
       "      <td>FOODS_3</td>\n",
       "      <td>FOODS</td>\n",
       "      <td>WI_3</td>\n",
       "      <td>WI</td>\n",
       "      <td>d_1913</td>\n",
       "      <td>20</td>\n",
       "      <td>2016-04-24</td>\n",
       "      <td>11613</td>\n",
       "      <td>...</td>\n",
       "      <td>4</td>\n",
       "      <td>2016</td>\n",
       "      <td>NaN</td>\n",
       "      <td>NaN</td>\n",
       "      <td>NaN</td>\n",
       "      <td>NaN</td>\n",
       "      <td>0</td>\n",
       "      <td>0</td>\n",
       "      <td>0</td>\n",
       "      <td>1.58</td>\n",
       "    </tr>\n",
       "  </tbody>\n",
       "</table>\n",
       "<p>76520 rows × 22 columns</p>\n",
       "</div>"
      ],
      "text/plain": [
       "                                id      item_id  dept_id cat_id store_id  \\\n",
       "0      FOODS_3_120_CA_1_validation  FOODS_3_120  FOODS_3  FOODS     CA_1   \n",
       "1      FOODS_3_252_CA_1_validation  FOODS_3_252  FOODS_3  FOODS     CA_1   \n",
       "2      FOODS_3_586_CA_1_validation  FOODS_3_586  FOODS_3  FOODS     CA_1   \n",
       "3      FOODS_3_587_CA_1_validation  FOODS_3_587  FOODS_3  FOODS     CA_1   \n",
       "4      FOODS_3_714_CA_1_validation  FOODS_3_714  FOODS_3  FOODS     CA_1   \n",
       "...                            ...          ...      ...    ...      ...   \n",
       "76515  FOODS_3_318_WI_3_validation  FOODS_3_318  FOODS_3  FOODS     WI_3   \n",
       "76516  FOODS_3_555_WI_3_validation  FOODS_3_555  FOODS_3  FOODS     WI_3   \n",
       "76517  FOODS_3_586_WI_3_validation  FOODS_3_586  FOODS_3  FOODS     WI_3   \n",
       "76518  FOODS_3_694_WI_3_validation  FOODS_3_694  FOODS_3  FOODS     WI_3   \n",
       "76519  FOODS_3_714_WI_3_validation  FOODS_3_714  FOODS_3  FOODS     WI_3   \n",
       "\n",
       "      state_id       d  sales        date  wm_yr_wk  ... month  year  \\\n",
       "0           CA     d_1      0  2011-01-29     11101  ...     1  2011   \n",
       "1           CA     d_1     19  2011-01-29     11101  ...     1  2011   \n",
       "2           CA     d_1     42  2011-01-29     11101  ...     1  2011   \n",
       "3           CA     d_1     50  2011-01-29     11101  ...     1  2011   \n",
       "4           CA     d_1     49  2011-01-29     11101  ...     1  2011   \n",
       "...        ...     ...    ...         ...       ...  ...   ...   ...   \n",
       "76515       WI  d_1913     14  2016-04-24     11613  ...     4  2016   \n",
       "76516       WI  d_1913     25  2016-04-24     11613  ...     4  2016   \n",
       "76517       WI  d_1913     44  2016-04-24     11613  ...     4  2016   \n",
       "76518       WI  d_1913     48  2016-04-24     11613  ...     4  2016   \n",
       "76519       WI  d_1913     20  2016-04-24     11613  ...     4  2016   \n",
       "\n",
       "       event_name_1  event_type_1 event_name_2 event_type_2 snap_CA snap_TX  \\\n",
       "0               NaN           NaN          NaN          NaN       0       0   \n",
       "1               NaN           NaN          NaN          NaN       0       0   \n",
       "2               NaN           NaN          NaN          NaN       0       0   \n",
       "3               NaN           NaN          NaN          NaN       0       0   \n",
       "4               NaN           NaN          NaN          NaN       0       0   \n",
       "...             ...           ...          ...          ...     ...     ...   \n",
       "76515           NaN           NaN          NaN          NaN       0       0   \n",
       "76516           NaN           NaN          NaN          NaN       0       0   \n",
       "76517           NaN           NaN          NaN          NaN       0       0   \n",
       "76518           NaN           NaN          NaN          NaN       0       0   \n",
       "76519           NaN           NaN          NaN          NaN       0       0   \n",
       "\n",
       "       snap_WI  sell_price  \n",
       "0            0         NaN  \n",
       "1            0        1.48  \n",
       "2            0        1.48  \n",
       "3            0        2.28  \n",
       "4            0        1.48  \n",
       "...        ...         ...  \n",
       "76515        0        1.48  \n",
       "76516        0        1.68  \n",
       "76517        0        1.68  \n",
       "76518        0        1.68  \n",
       "76519        0        1.58  \n",
       "\n",
       "[76520 rows x 22 columns]"
      ]
     },
     "execution_count": 14,
     "metadata": {},
     "output_type": "execute_result"
    }
   ],
   "source": [
    "merge_df = merge_df.merge(prices_df,on=['store_id', 'item_id','wm_yr_wk'],how='left')\n",
    "merge_df"
   ]
  },
  {
   "cell_type": "code",
   "execution_count": 15,
   "id": "b428e553-c303-4c1c-b301-7d37068aa852",
   "metadata": {
    "tags": []
   },
   "outputs": [
    {
     "data": {
      "text/plain": [
       "id\n",
       "FOODS_3_120_CA_1_validation    1913\n",
       "FOODS_3_252_CA_1_validation    1913\n",
       "FOODS_3_555_TX_1_validation    1913\n",
       "FOODS_3_587_TX_1_validation    1913\n",
       "FOODS_3_377_TX_2_validation    1913\n",
       "FOODS_3_555_TX_2_validation    1913\n",
       "FOODS_3_587_TX_2_validation    1913\n",
       "FOODS_3_252_TX_3_validation    1913\n",
       "FOODS_3_377_TX_3_validation    1913\n",
       "FOODS_3_555_TX_3_validation    1913\n",
       "FOODS_3_226_WI_1_validation    1913\n",
       "FOODS_3_007_WI_2_validation    1913\n",
       "FOODS_3_226_WI_2_validation    1913\n",
       "FOODS_3_234_WI_2_validation    1913\n",
       "FOODS_3_694_WI_2_validation    1913\n",
       "FOODS_3_318_WI_3_validation    1913\n",
       "FOODS_3_555_WI_3_validation    1913\n",
       "FOODS_3_586_WI_3_validation    1913\n",
       "FOODS_3_694_WI_3_validation    1913\n",
       "FOODS_3_252_TX_1_validation    1913\n",
       "FOODS_3_090_TX_1_validation    1913\n",
       "FOODS_3_090_CA_4_validation    1913\n",
       "FOODS_3_202_CA_3_validation    1913\n",
       "FOODS_3_586_CA_1_validation    1913\n",
       "FOODS_3_587_CA_1_validation    1913\n",
       "FOODS_3_714_CA_1_validation    1913\n",
       "FOODS_3_090_CA_2_validation    1913\n",
       "FOODS_3_252_CA_2_validation    1913\n",
       "FOODS_3_586_CA_2_validation    1913\n",
       "FOODS_3_120_CA_3_validation    1913\n",
       "FOODS_3_252_CA_3_validation    1913\n",
       "FOODS_3_808_CA_3_validation    1913\n",
       "FOODS_3_541_CA_3_validation    1913\n",
       "FOODS_3_555_CA_3_validation    1913\n",
       "FOODS_3_587_CA_3_validation    1913\n",
       "FOODS_3_607_CA_3_validation    1913\n",
       "FOODS_3_635_CA_3_validation    1913\n",
       "FOODS_3_681_CA_3_validation    1913\n",
       "FOODS_3_714_CA_3_validation    1913\n",
       "FOODS_3_714_WI_3_validation    1913\n",
       "Name: count, dtype: int64"
      ]
     },
     "execution_count": 15,
     "metadata": {},
     "output_type": "execute_result"
    }
   ],
   "source": [
    "merge_df['id'].value_counts()"
   ]
  },
  {
   "cell_type": "markdown",
   "id": "30c5842e-7d08-4165-90ec-b7edfc62dcc7",
   "metadata": {},
   "source": [
    "# 0 Importing Data"
   ]
  },
  {
   "cell_type": "code",
   "execution_count": 16,
   "id": "023fbbd9-6c97-41d6-bf76-920c4aee83ce",
   "metadata": {
    "tags": []
   },
   "outputs": [
    {
     "data": {
      "text/html": [
       "<div>\n",
       "<style scoped>\n",
       "    .dataframe tbody tr th:only-of-type {\n",
       "        vertical-align: middle;\n",
       "    }\n",
       "\n",
       "    .dataframe tbody tr th {\n",
       "        vertical-align: top;\n",
       "    }\n",
       "\n",
       "    .dataframe thead th {\n",
       "        text-align: right;\n",
       "    }\n",
       "</style>\n",
       "<table border=\"1\" class=\"dataframe\">\n",
       "  <thead>\n",
       "    <tr style=\"text-align: right;\">\n",
       "      <th></th>\n",
       "      <th>id</th>\n",
       "      <th>item_id</th>\n",
       "      <th>dept_id</th>\n",
       "      <th>cat_id</th>\n",
       "      <th>store_id</th>\n",
       "      <th>state_id</th>\n",
       "      <th>d</th>\n",
       "      <th>sales</th>\n",
       "      <th>wm_yr_wk</th>\n",
       "      <th>weekday</th>\n",
       "      <th>...</th>\n",
       "      <th>month</th>\n",
       "      <th>year</th>\n",
       "      <th>event_name_1</th>\n",
       "      <th>event_type_1</th>\n",
       "      <th>event_name_2</th>\n",
       "      <th>event_type_2</th>\n",
       "      <th>snap_CA</th>\n",
       "      <th>snap_TX</th>\n",
       "      <th>snap_WI</th>\n",
       "      <th>sell_price</th>\n",
       "    </tr>\n",
       "    <tr>\n",
       "      <th>date</th>\n",
       "      <th></th>\n",
       "      <th></th>\n",
       "      <th></th>\n",
       "      <th></th>\n",
       "      <th></th>\n",
       "      <th></th>\n",
       "      <th></th>\n",
       "      <th></th>\n",
       "      <th></th>\n",
       "      <th></th>\n",
       "      <th></th>\n",
       "      <th></th>\n",
       "      <th></th>\n",
       "      <th></th>\n",
       "      <th></th>\n",
       "      <th></th>\n",
       "      <th></th>\n",
       "      <th></th>\n",
       "      <th></th>\n",
       "      <th></th>\n",
       "      <th></th>\n",
       "    </tr>\n",
       "  </thead>\n",
       "  <tbody>\n",
       "    <tr>\n",
       "      <th>2011-01-29</th>\n",
       "      <td>FOODS_3_120_CA_1_validation</td>\n",
       "      <td>FOODS_3_120</td>\n",
       "      <td>FOODS_3</td>\n",
       "      <td>FOODS</td>\n",
       "      <td>CA_1</td>\n",
       "      <td>CA</td>\n",
       "      <td>d_1</td>\n",
       "      <td>0</td>\n",
       "      <td>11101</td>\n",
       "      <td>Saturday</td>\n",
       "      <td>...</td>\n",
       "      <td>1</td>\n",
       "      <td>2011</td>\n",
       "      <td>NaN</td>\n",
       "      <td>NaN</td>\n",
       "      <td>NaN</td>\n",
       "      <td>NaN</td>\n",
       "      <td>0</td>\n",
       "      <td>0</td>\n",
       "      <td>0</td>\n",
       "      <td>NaN</td>\n",
       "    </tr>\n",
       "    <tr>\n",
       "      <th>2011-01-29</th>\n",
       "      <td>FOODS_3_252_CA_1_validation</td>\n",
       "      <td>FOODS_3_252</td>\n",
       "      <td>FOODS_3</td>\n",
       "      <td>FOODS</td>\n",
       "      <td>CA_1</td>\n",
       "      <td>CA</td>\n",
       "      <td>d_1</td>\n",
       "      <td>19</td>\n",
       "      <td>11101</td>\n",
       "      <td>Saturday</td>\n",
       "      <td>...</td>\n",
       "      <td>1</td>\n",
       "      <td>2011</td>\n",
       "      <td>NaN</td>\n",
       "      <td>NaN</td>\n",
       "      <td>NaN</td>\n",
       "      <td>NaN</td>\n",
       "      <td>0</td>\n",
       "      <td>0</td>\n",
       "      <td>0</td>\n",
       "      <td>1.48</td>\n",
       "    </tr>\n",
       "    <tr>\n",
       "      <th>2011-01-29</th>\n",
       "      <td>FOODS_3_586_CA_1_validation</td>\n",
       "      <td>FOODS_3_586</td>\n",
       "      <td>FOODS_3</td>\n",
       "      <td>FOODS</td>\n",
       "      <td>CA_1</td>\n",
       "      <td>CA</td>\n",
       "      <td>d_1</td>\n",
       "      <td>42</td>\n",
       "      <td>11101</td>\n",
       "      <td>Saturday</td>\n",
       "      <td>...</td>\n",
       "      <td>1</td>\n",
       "      <td>2011</td>\n",
       "      <td>NaN</td>\n",
       "      <td>NaN</td>\n",
       "      <td>NaN</td>\n",
       "      <td>NaN</td>\n",
       "      <td>0</td>\n",
       "      <td>0</td>\n",
       "      <td>0</td>\n",
       "      <td>1.48</td>\n",
       "    </tr>\n",
       "    <tr>\n",
       "      <th>2011-01-29</th>\n",
       "      <td>FOODS_3_587_CA_1_validation</td>\n",
       "      <td>FOODS_3_587</td>\n",
       "      <td>FOODS_3</td>\n",
       "      <td>FOODS</td>\n",
       "      <td>CA_1</td>\n",
       "      <td>CA</td>\n",
       "      <td>d_1</td>\n",
       "      <td>50</td>\n",
       "      <td>11101</td>\n",
       "      <td>Saturday</td>\n",
       "      <td>...</td>\n",
       "      <td>1</td>\n",
       "      <td>2011</td>\n",
       "      <td>NaN</td>\n",
       "      <td>NaN</td>\n",
       "      <td>NaN</td>\n",
       "      <td>NaN</td>\n",
       "      <td>0</td>\n",
       "      <td>0</td>\n",
       "      <td>0</td>\n",
       "      <td>2.28</td>\n",
       "    </tr>\n",
       "    <tr>\n",
       "      <th>2011-01-29</th>\n",
       "      <td>FOODS_3_714_CA_1_validation</td>\n",
       "      <td>FOODS_3_714</td>\n",
       "      <td>FOODS_3</td>\n",
       "      <td>FOODS</td>\n",
       "      <td>CA_1</td>\n",
       "      <td>CA</td>\n",
       "      <td>d_1</td>\n",
       "      <td>49</td>\n",
       "      <td>11101</td>\n",
       "      <td>Saturday</td>\n",
       "      <td>...</td>\n",
       "      <td>1</td>\n",
       "      <td>2011</td>\n",
       "      <td>NaN</td>\n",
       "      <td>NaN</td>\n",
       "      <td>NaN</td>\n",
       "      <td>NaN</td>\n",
       "      <td>0</td>\n",
       "      <td>0</td>\n",
       "      <td>0</td>\n",
       "      <td>1.48</td>\n",
       "    </tr>\n",
       "    <tr>\n",
       "      <th>...</th>\n",
       "      <td>...</td>\n",
       "      <td>...</td>\n",
       "      <td>...</td>\n",
       "      <td>...</td>\n",
       "      <td>...</td>\n",
       "      <td>...</td>\n",
       "      <td>...</td>\n",
       "      <td>...</td>\n",
       "      <td>...</td>\n",
       "      <td>...</td>\n",
       "      <td>...</td>\n",
       "      <td>...</td>\n",
       "      <td>...</td>\n",
       "      <td>...</td>\n",
       "      <td>...</td>\n",
       "      <td>...</td>\n",
       "      <td>...</td>\n",
       "      <td>...</td>\n",
       "      <td>...</td>\n",
       "      <td>...</td>\n",
       "      <td>...</td>\n",
       "    </tr>\n",
       "    <tr>\n",
       "      <th>2016-04-24</th>\n",
       "      <td>FOODS_3_318_WI_3_validation</td>\n",
       "      <td>FOODS_3_318</td>\n",
       "      <td>FOODS_3</td>\n",
       "      <td>FOODS</td>\n",
       "      <td>WI_3</td>\n",
       "      <td>WI</td>\n",
       "      <td>d_1913</td>\n",
       "      <td>14</td>\n",
       "      <td>11613</td>\n",
       "      <td>Sunday</td>\n",
       "      <td>...</td>\n",
       "      <td>4</td>\n",
       "      <td>2016</td>\n",
       "      <td>NaN</td>\n",
       "      <td>NaN</td>\n",
       "      <td>NaN</td>\n",
       "      <td>NaN</td>\n",
       "      <td>0</td>\n",
       "      <td>0</td>\n",
       "      <td>0</td>\n",
       "      <td>1.48</td>\n",
       "    </tr>\n",
       "    <tr>\n",
       "      <th>2016-04-24</th>\n",
       "      <td>FOODS_3_555_WI_3_validation</td>\n",
       "      <td>FOODS_3_555</td>\n",
       "      <td>FOODS_3</td>\n",
       "      <td>FOODS</td>\n",
       "      <td>WI_3</td>\n",
       "      <td>WI</td>\n",
       "      <td>d_1913</td>\n",
       "      <td>25</td>\n",
       "      <td>11613</td>\n",
       "      <td>Sunday</td>\n",
       "      <td>...</td>\n",
       "      <td>4</td>\n",
       "      <td>2016</td>\n",
       "      <td>NaN</td>\n",
       "      <td>NaN</td>\n",
       "      <td>NaN</td>\n",
       "      <td>NaN</td>\n",
       "      <td>0</td>\n",
       "      <td>0</td>\n",
       "      <td>0</td>\n",
       "      <td>1.68</td>\n",
       "    </tr>\n",
       "    <tr>\n",
       "      <th>2016-04-24</th>\n",
       "      <td>FOODS_3_586_WI_3_validation</td>\n",
       "      <td>FOODS_3_586</td>\n",
       "      <td>FOODS_3</td>\n",
       "      <td>FOODS</td>\n",
       "      <td>WI_3</td>\n",
       "      <td>WI</td>\n",
       "      <td>d_1913</td>\n",
       "      <td>44</td>\n",
       "      <td>11613</td>\n",
       "      <td>Sunday</td>\n",
       "      <td>...</td>\n",
       "      <td>4</td>\n",
       "      <td>2016</td>\n",
       "      <td>NaN</td>\n",
       "      <td>NaN</td>\n",
       "      <td>NaN</td>\n",
       "      <td>NaN</td>\n",
       "      <td>0</td>\n",
       "      <td>0</td>\n",
       "      <td>0</td>\n",
       "      <td>1.68</td>\n",
       "    </tr>\n",
       "    <tr>\n",
       "      <th>2016-04-24</th>\n",
       "      <td>FOODS_3_694_WI_3_validation</td>\n",
       "      <td>FOODS_3_694</td>\n",
       "      <td>FOODS_3</td>\n",
       "      <td>FOODS</td>\n",
       "      <td>WI_3</td>\n",
       "      <td>WI</td>\n",
       "      <td>d_1913</td>\n",
       "      <td>48</td>\n",
       "      <td>11613</td>\n",
       "      <td>Sunday</td>\n",
       "      <td>...</td>\n",
       "      <td>4</td>\n",
       "      <td>2016</td>\n",
       "      <td>NaN</td>\n",
       "      <td>NaN</td>\n",
       "      <td>NaN</td>\n",
       "      <td>NaN</td>\n",
       "      <td>0</td>\n",
       "      <td>0</td>\n",
       "      <td>0</td>\n",
       "      <td>1.68</td>\n",
       "    </tr>\n",
       "    <tr>\n",
       "      <th>2016-04-24</th>\n",
       "      <td>FOODS_3_714_WI_3_validation</td>\n",
       "      <td>FOODS_3_714</td>\n",
       "      <td>FOODS_3</td>\n",
       "      <td>FOODS</td>\n",
       "      <td>WI_3</td>\n",
       "      <td>WI</td>\n",
       "      <td>d_1913</td>\n",
       "      <td>20</td>\n",
       "      <td>11613</td>\n",
       "      <td>Sunday</td>\n",
       "      <td>...</td>\n",
       "      <td>4</td>\n",
       "      <td>2016</td>\n",
       "      <td>NaN</td>\n",
       "      <td>NaN</td>\n",
       "      <td>NaN</td>\n",
       "      <td>NaN</td>\n",
       "      <td>0</td>\n",
       "      <td>0</td>\n",
       "      <td>0</td>\n",
       "      <td>1.58</td>\n",
       "    </tr>\n",
       "  </tbody>\n",
       "</table>\n",
       "<p>76520 rows × 21 columns</p>\n",
       "</div>"
      ],
      "text/plain": [
       "                                     id      item_id  dept_id cat_id store_id  \\\n",
       "date                                                                            \n",
       "2011-01-29  FOODS_3_120_CA_1_validation  FOODS_3_120  FOODS_3  FOODS     CA_1   \n",
       "2011-01-29  FOODS_3_252_CA_1_validation  FOODS_3_252  FOODS_3  FOODS     CA_1   \n",
       "2011-01-29  FOODS_3_586_CA_1_validation  FOODS_3_586  FOODS_3  FOODS     CA_1   \n",
       "2011-01-29  FOODS_3_587_CA_1_validation  FOODS_3_587  FOODS_3  FOODS     CA_1   \n",
       "2011-01-29  FOODS_3_714_CA_1_validation  FOODS_3_714  FOODS_3  FOODS     CA_1   \n",
       "...                                 ...          ...      ...    ...      ...   \n",
       "2016-04-24  FOODS_3_318_WI_3_validation  FOODS_3_318  FOODS_3  FOODS     WI_3   \n",
       "2016-04-24  FOODS_3_555_WI_3_validation  FOODS_3_555  FOODS_3  FOODS     WI_3   \n",
       "2016-04-24  FOODS_3_586_WI_3_validation  FOODS_3_586  FOODS_3  FOODS     WI_3   \n",
       "2016-04-24  FOODS_3_694_WI_3_validation  FOODS_3_694  FOODS_3  FOODS     WI_3   \n",
       "2016-04-24  FOODS_3_714_WI_3_validation  FOODS_3_714  FOODS_3  FOODS     WI_3   \n",
       "\n",
       "           state_id       d  sales  wm_yr_wk   weekday  ...  month  year  \\\n",
       "date                                                    ...                \n",
       "2011-01-29       CA     d_1      0     11101  Saturday  ...      1  2011   \n",
       "2011-01-29       CA     d_1     19     11101  Saturday  ...      1  2011   \n",
       "2011-01-29       CA     d_1     42     11101  Saturday  ...      1  2011   \n",
       "2011-01-29       CA     d_1     50     11101  Saturday  ...      1  2011   \n",
       "2011-01-29       CA     d_1     49     11101  Saturday  ...      1  2011   \n",
       "...             ...     ...    ...       ...       ...  ...    ...   ...   \n",
       "2016-04-24       WI  d_1913     14     11613    Sunday  ...      4  2016   \n",
       "2016-04-24       WI  d_1913     25     11613    Sunday  ...      4  2016   \n",
       "2016-04-24       WI  d_1913     44     11613    Sunday  ...      4  2016   \n",
       "2016-04-24       WI  d_1913     48     11613    Sunday  ...      4  2016   \n",
       "2016-04-24       WI  d_1913     20     11613    Sunday  ...      4  2016   \n",
       "\n",
       "            event_name_1 event_type_1 event_name_2 event_type_2 snap_CA  \\\n",
       "date                                                                      \n",
       "2011-01-29           NaN          NaN          NaN          NaN       0   \n",
       "2011-01-29           NaN          NaN          NaN          NaN       0   \n",
       "2011-01-29           NaN          NaN          NaN          NaN       0   \n",
       "2011-01-29           NaN          NaN          NaN          NaN       0   \n",
       "2011-01-29           NaN          NaN          NaN          NaN       0   \n",
       "...                  ...          ...          ...          ...     ...   \n",
       "2016-04-24           NaN          NaN          NaN          NaN       0   \n",
       "2016-04-24           NaN          NaN          NaN          NaN       0   \n",
       "2016-04-24           NaN          NaN          NaN          NaN       0   \n",
       "2016-04-24           NaN          NaN          NaN          NaN       0   \n",
       "2016-04-24           NaN          NaN          NaN          NaN       0   \n",
       "\n",
       "            snap_TX  snap_WI  sell_price  \n",
       "date                                      \n",
       "2011-01-29        0        0         NaN  \n",
       "2011-01-29        0        0        1.48  \n",
       "2011-01-29        0        0        1.48  \n",
       "2011-01-29        0        0        2.28  \n",
       "2011-01-29        0        0        1.48  \n",
       "...             ...      ...         ...  \n",
       "2016-04-24        0        0        1.48  \n",
       "2016-04-24        0        0        1.68  \n",
       "2016-04-24        0        0        1.68  \n",
       "2016-04-24        0        0        1.68  \n",
       "2016-04-24        0        0        1.58  \n",
       "\n",
       "[76520 rows x 21 columns]"
      ]
     },
     "execution_count": 16,
     "metadata": {},
     "output_type": "execute_result"
    }
   ],
   "source": [
    "# Load your dataset\n",
    "merge_df['date'] = pd.to_datetime(merge_df['date'])\n",
    "merge_df.set_index('date', inplace=True)\n",
    "\n",
    "merge_df"
   ]
  },
  {
   "cell_type": "code",
   "execution_count": 17,
   "id": "7aba503c-a29f-4f0c-8c1a-8279222635bf",
   "metadata": {
    "tags": []
   },
   "outputs": [
    {
     "data": {
      "text/plain": [
       "Index(['id', 'item_id', 'dept_id', 'cat_id', 'store_id', 'state_id', 'd',\n",
       "       'sales', 'wm_yr_wk', 'weekday', 'wday', 'month', 'year', 'event_name_1',\n",
       "       'event_type_1', 'event_name_2', 'event_type_2', 'snap_CA', 'snap_TX',\n",
       "       'snap_WI', 'sell_price'],\n",
       "      dtype='object')"
      ]
     },
     "execution_count": 17,
     "metadata": {},
     "output_type": "execute_result"
    }
   ],
   "source": [
    "merge_df.columns"
   ]
  },
  {
   "cell_type": "code",
   "execution_count": 18,
   "id": "b21ccbb8-ef5f-4cd7-aa78-aa216738475d",
   "metadata": {
    "tags": []
   },
   "outputs": [],
   "source": [
    "#FILLING THE EMPTY PLACES\n",
    "merge_df['sell_price'].fillna(0, inplace=True)\n",
    "merge_df['event_name_1'].fillna('missing', inplace=True)\n",
    "merge_df['event_type_1'].fillna('missing', inplace=True)\n",
    "merge_df['event_name_2'].fillna('missing', inplace=True)\n",
    "merge_df['event_type_2'].fillna('missing', inplace=True)\n"
   ]
  },
  {
   "cell_type": "code",
   "execution_count": 19,
   "id": "9c394d6c-7e1e-4570-bdd5-b03c0828fbd3",
   "metadata": {
    "tags": []
   },
   "outputs": [],
   "source": [
    "# Assuming df is your DataFrame with datetime index and \"id\" column\n",
    "start_date = merge_df.index.min()\n",
    "end_date = merge_df.index.max()\n",
    "\n",
    "# Generate the complete date range\n",
    "complete_date_range = pd.date_range(start=start_date, end=end_date)\n",
    "\n",
    "# Get unique values of \"id\" column\n",
    "unique_ids = merge_df['id'].unique()\n",
    "\n",
    "merge_df = merge_df.reset_index()\n",
    "\n",
    "# Create a MultiIndex with Cartesian product of date range and unique ids\n",
    "multi_index = pd.MultiIndex.from_product([complete_date_range, unique_ids], names=['date', 'id'])\n",
    "\n",
    "# Reindex the DataFrame using the MultiIndex\n",
    "merge_df = merge_df.set_index(['date', 'id']).reindex(multi_index)\n",
    "\n",
    "# Reset the index to make \"date\" and \"id\" columns again\n",
    "merge_df = merge_df.reset_index()"
   ]
  },
  {
   "cell_type": "code",
   "execution_count": 20,
   "id": "f5c4156b-8860-413e-9e54-1178d2d03650",
   "metadata": {
    "tags": []
   },
   "outputs": [],
   "source": [
    "merge_df.set_index(\"date\",inplace=True)"
   ]
  },
  {
   "cell_type": "code",
   "execution_count": 21,
   "id": "4bd28632-fbba-4622-bf9b-e7cd07cb3e8e",
   "metadata": {
    "tags": []
   },
   "outputs": [],
   "source": [
    "# Scale 'sell_price' and 'year' by using MinMaxScaler\n",
    "minmax_scaler = MinMaxScaler()\n",
    "\n",
    "merge_df[['sell_price']] = minmax_scaler.fit_transform(merge_df[['sell_price']])\n",
    "merge_df[['year']] = minmax_scaler.fit_transform(merge_df[['year']])"
   ]
  },
  {
   "cell_type": "code",
   "execution_count": 22,
   "id": "1d6e1682-e512-4ea7-aefc-97d9fee2a919",
   "metadata": {
    "tags": []
   },
   "outputs": [
    {
     "name": "stdout",
     "output_type": "stream",
     "text": [
      "The unique values for 'cat_id' are ['FOODS']\n",
      "The unique values for 'store_id' are ['CA_1' 'CA_2' 'CA_3' 'CA_4' 'TX_1' 'TX_2' 'TX_3' 'WI_1' 'WI_2' 'WI_3']\n",
      "The categories detected by the OneHotEncoder are [array(['FOODS'], dtype=object), array(['CA_1', 'CA_2', 'CA_3', 'CA_4', 'TX_1', 'TX_2', 'TX_3', 'WI_1',\n",
      "       'WI_2', 'WI_3'], dtype=object)]\n",
      "The column names for the encoded values are ['cat_id_FOODS' 'store_id_CA_1' 'store_id_CA_2' 'store_id_CA_3'\n",
      " 'store_id_CA_4' 'store_id_TX_1' 'store_id_TX_2' 'store_id_TX_3'\n",
      " 'store_id_WI_1' 'store_id_WI_2' 'store_id_WI_3']\n"
     ]
    }
   ],
   "source": [
    "# Check unique values for 'cat_id'\n",
    "print(f\"The unique values for 'cat_id' are {merge_df['cat_id'].unique()}\")\n",
    "\n",
    "# Check unique values for 'store_id'\n",
    "print(f\"The unique values for 'store_id' are {merge_df['store_id'].unique()}\")\n",
    "\n",
    "# Instantiate the OneHotEncoder\n",
    "ohe = OneHotEncoder(sparse_output=False)\n",
    "\n",
    "# Fit encoder for both 'cat_id' and 'store_id'\n",
    "ohe.fit(merge_df[['cat_id', 'store_id']])\n",
    "\n",
    "# Display the detected categories for both columns\n",
    "print(f\"The categories detected by the OneHotEncoder are {ohe.categories_}\")\n",
    "\n",
    "# Display the generated names for both columns\n",
    "print(f\"The column names for the encoded values are {ohe.get_feature_names_out()}\")\n",
    "\n",
    "# Transform the 'cat_id' and 'store_id' columns\n",
    "encoded_columns = ohe.transform(merge_df[['cat_id', 'store_id']])\n",
    "\n",
    "# Drop the original 'cat_id' and 'store_id' columns\n",
    "merge_df.drop(columns=['cat_id', 'store_id'], inplace=True)\n",
    "\n",
    "# Concatenate the encoded columns to the DataFrame\n",
    "merge_df[ ohe.get_feature_names_out()] = encoded_columns\n"
   ]
  },
  {
   "cell_type": "code",
   "execution_count": 23,
   "id": "c8ad5349-0e57-4e5b-a1a1-60e799c25eda",
   "metadata": {
    "tags": []
   },
   "outputs": [
    {
     "name": "stdout",
     "output_type": "stream",
     "text": [
      "The unique values for 'event_type_1' are ['missing' 'Sporting' 'Cultural' 'National' 'Religious']\n",
      "The categories detected by the OneHotEncoder are [array(['Cultural', 'National', 'Religious', 'Sporting', 'missing'],\n",
      "      dtype=object)]\n",
      "The column names for the encoded values are ['event_type_1_Cultural' 'event_type_1_National' 'event_type_1_Religious'\n",
      " 'event_type_1_Sporting' 'event_type_1_missing']\n"
     ]
    }
   ],
   "source": [
    "# Check unique values\n",
    "print(f\"The unique values for 'event_type_1' are {merge_df['event_type_1'].unique()}\")\n",
    "\n",
    "# Fit encoder\n",
    "ohe.fit(merge_df[['event_type_1']])\n",
    "\n",
    "# Display the detected categories\n",
    "print(f\"The categories detected by the OneHotEncoder are {ohe.categories_}\")\n",
    "\n",
    "# Display the generated names\n",
    "print(f\"The column names for the encoded values are {ohe.get_feature_names_out()}\")\n",
    "\n",
    "# Transform the current \"cat_id\" column\n",
    "merge_df[ohe.get_feature_names_out()] = ohe.transform(merge_df[['event_type_1']])\n",
    "\n",
    "# Drop the column \"cat_id\" which has been encoded\n",
    "merge_df.drop(columns = ['event_type_1'], inplace = True)"
   ]
  },
  {
   "cell_type": "code",
   "execution_count": 24,
   "id": "adefde7a-880f-49e2-ac3d-05570dce8685",
   "metadata": {
    "tags": []
   },
   "outputs": [
    {
     "name": "stdout",
     "output_type": "stream",
     "text": [
      "The unique values for 'event_type_2' are ['missing' 'Cultural' 'Religious']\n",
      "The categories detected by the OneHotEncoder are [array(['Cultural', 'Religious', 'missing'], dtype=object)]\n",
      "The column names for the encoded values are ['event_type_2_Cultural' 'event_type_2_Religious' 'event_type_2_missing']\n"
     ]
    }
   ],
   "source": [
    "# Check unique values\n",
    "print(f\"The unique values for 'event_type_2' are {merge_df['event_type_2'].unique()}\")\n",
    "\n",
    "# Fit encoder\n",
    "ohe.fit(merge_df[['event_type_2']])\n",
    "\n",
    "# Display the detected categories\n",
    "print(f\"The categories detected by the OneHotEncoder are {ohe.categories_}\")\n",
    "\n",
    "# Display the generated names\n",
    "print(f\"The column names for the encoded values are {ohe.get_feature_names_out()}\")\n",
    "\n",
    "# Transform the current \"cat_id\" column\n",
    "merge_df[ohe.get_feature_names_out()] = ohe.transform(merge_df[['event_type_2']])\n",
    "\n",
    "# Drop the column \"cat_id\" which has been encoded\n",
    "merge_df.drop(columns = ['event_type_2'], inplace = True)"
   ]
  },
  {
   "cell_type": "code",
   "execution_count": 25,
   "id": "e24abdb8-3be4-4608-91b0-ef0331e80133",
   "metadata": {
    "tags": []
   },
   "outputs": [
    {
     "name": "stdout",
     "output_type": "stream",
     "text": [
      "The unique values for 'event_name_1' are ['missing' 'SuperBowl' 'ValentinesDay' 'PresidentsDay' 'LentStart'\n",
      " 'LentWeek2' 'StPatricksDay' 'Purim End' 'OrthodoxEaster' 'Pesach End'\n",
      " 'Cinco De Mayo' \"Mother's day\" 'MemorialDay' 'NBAFinalsStart'\n",
      " 'NBAFinalsEnd' \"Father's day\" 'IndependenceDay' 'Ramadan starts'\n",
      " 'Eid al-Fitr' 'LaborDay' 'ColumbusDay' 'Halloween' 'EidAlAdha'\n",
      " 'VeteransDay' 'Thanksgiving' 'Christmas' 'Chanukah End' 'NewYear'\n",
      " 'OrthodoxChristmas' 'MartinLutherKingDay' 'Easter']\n",
      "The categories detected by the OneHotEncoder are [array(['Chanukah End', 'Christmas', 'Cinco De Mayo', 'ColumbusDay',\n",
      "       'Easter', 'Eid al-Fitr', 'EidAlAdha', \"Father's day\", 'Halloween',\n",
      "       'IndependenceDay', 'LaborDay', 'LentStart', 'LentWeek2',\n",
      "       'MartinLutherKingDay', 'MemorialDay', \"Mother's day\",\n",
      "       'NBAFinalsEnd', 'NBAFinalsStart', 'NewYear', 'OrthodoxChristmas',\n",
      "       'OrthodoxEaster', 'Pesach End', 'PresidentsDay', 'Purim End',\n",
      "       'Ramadan starts', 'StPatricksDay', 'SuperBowl', 'Thanksgiving',\n",
      "       'ValentinesDay', 'VeteransDay', 'missing'], dtype=object)]\n",
      "The column names for the encoded values are ['event_name_1_Chanukah End' 'event_name_1_Christmas'\n",
      " 'event_name_1_Cinco De Mayo' 'event_name_1_ColumbusDay'\n",
      " 'event_name_1_Easter' 'event_name_1_Eid al-Fitr' 'event_name_1_EidAlAdha'\n",
      " \"event_name_1_Father's day\" 'event_name_1_Halloween'\n",
      " 'event_name_1_IndependenceDay' 'event_name_1_LaborDay'\n",
      " 'event_name_1_LentStart' 'event_name_1_LentWeek2'\n",
      " 'event_name_1_MartinLutherKingDay' 'event_name_1_MemorialDay'\n",
      " \"event_name_1_Mother's day\" 'event_name_1_NBAFinalsEnd'\n",
      " 'event_name_1_NBAFinalsStart' 'event_name_1_NewYear'\n",
      " 'event_name_1_OrthodoxChristmas' 'event_name_1_OrthodoxEaster'\n",
      " 'event_name_1_Pesach End' 'event_name_1_PresidentsDay'\n",
      " 'event_name_1_Purim End' 'event_name_1_Ramadan starts'\n",
      " 'event_name_1_StPatricksDay' 'event_name_1_SuperBowl'\n",
      " 'event_name_1_Thanksgiving' 'event_name_1_ValentinesDay'\n",
      " 'event_name_1_VeteransDay' 'event_name_1_missing']\n"
     ]
    }
   ],
   "source": [
    "# Check unique values\n",
    "print(f\"The unique values for 'event_name_1' are {merge_df['event_name_1'].unique()}\")\n",
    "\n",
    "# Fit encoder\n",
    "ohe.fit(merge_df[['event_name_1']])\n",
    "\n",
    "# Display the detected categories\n",
    "print(f\"The categories detected by the OneHotEncoder are {ohe.categories_}\")\n",
    "\n",
    "# Display the generated names\n",
    "print(f\"The column names for the encoded values are {ohe.get_feature_names_out()}\")\n",
    "\n",
    "# Transform the current \"cat_id\" column\n",
    "merge_df[ohe.get_feature_names_out()] = ohe.transform(merge_df[['event_name_1']])\n",
    "\n",
    "# Drop the column \"cat_id\" which has been encoded\n",
    "merge_df.drop(columns = ['event_name_1'], inplace = True)"
   ]
  },
  {
   "cell_type": "code",
   "execution_count": 26,
   "id": "63c1b1c5-3631-4720-bfd9-92f4f381c73a",
   "metadata": {
    "tags": []
   },
   "outputs": [
    {
     "name": "stdout",
     "output_type": "stream",
     "text": [
      "The unique values for 'event_name_2' are ['missing' 'Easter' 'Cinco De Mayo' 'OrthodoxEaster' \"Father's day\"]\n",
      "The categories detected by the OneHotEncoder are [array(['Cinco De Mayo', 'Easter', \"Father's day\", 'OrthodoxEaster',\n",
      "       'missing'], dtype=object)]\n",
      "The column names for the encoded values are ['event_name_2_Cinco De Mayo' 'event_name_2_Easter'\n",
      " \"event_name_2_Father's day\" 'event_name_2_OrthodoxEaster'\n",
      " 'event_name_2_missing']\n"
     ]
    }
   ],
   "source": [
    "# Check unique values\n",
    "print(f\"The unique values for 'event_name_2' are {merge_df['event_name_2'].unique()}\")\n",
    "\n",
    "# Fit encoder\n",
    "ohe.fit(merge_df[['event_name_2']])\n",
    "\n",
    "# Display the detected categories\n",
    "print(f\"The categories detected by the OneHotEncoder are {ohe.categories_}\")\n",
    "\n",
    "# Display the generated names\n",
    "print(f\"The column names for the encoded values are {ohe.get_feature_names_out()}\")\n",
    "\n",
    "# Transform the current \"cat_id\" column\n",
    "merge_df[ohe.get_feature_names_out()] = ohe.transform(merge_df[['event_name_2']])\n",
    "\n",
    "# Drop the column \"cat_id\" which has been encoded\n",
    "merge_df.drop(columns = ['event_name_2'], inplace = True)"
   ]
  },
  {
   "cell_type": "code",
   "execution_count": 27,
   "id": "9e7ea5ba-4d85-483b-a890-f5d148cddf08",
   "metadata": {
    "tags": []
   },
   "outputs": [],
   "source": [
    "#Encoding Cyclical Features for weekdays\n",
    "# Notice that Sat starts as 1 till Fri as 7 for 'wday'\n",
    "merge_df['wday_sin'] = np.sin(2 * np.pi * merge_df['wday'] /7.0)\n",
    "merge_df['wday_cos'] = np.cos(2 * np.pi * merge_df['wday'] /7.0)"
   ]
  },
  {
   "cell_type": "code",
   "execution_count": 28,
   "id": "922ddcea-9ad4-47ea-8157-2498fde75a0c",
   "metadata": {
    "tags": []
   },
   "outputs": [],
   "source": [
    "#Encoding Cyclical Features for month\n",
    "\n",
    "merge_df['month_sin'] = np.sin(2 * np.pi * merge_df['month'] /12.0)\n",
    "merge_df['month_cos'] = np.cos(2 * np.pi * merge_df['month'] /12.0)"
   ]
  },
  {
   "cell_type": "code",
   "execution_count": 29,
   "id": "91872056-89ef-4a5b-bc70-bc2f1ebf0526",
   "metadata": {
    "tags": []
   },
   "outputs": [],
   "source": [
    "merge_df_scaled = merge_df.drop(columns=['d', 'wm_yr_wk','weekday'])"
   ]
  },
  {
   "cell_type": "code",
   "execution_count": 30,
   "id": "250e4c27-5980-4e8f-9714-66905ab51ad7",
   "metadata": {
    "tags": []
   },
   "outputs": [
    {
     "name": "stdout",
     "output_type": "stream",
     "text": [
      "[dtype('O') dtype('int16') dtype('int8') dtype('float32')]\n"
     ]
    }
   ],
   "source": [
    "# Downcast numeric columns\n",
    "numeric_columns = merge_df_scaled.select_dtypes(include=['int64', 'float64']).columns\n",
    "merge_df_scaled[numeric_columns] = merge_df_scaled[numeric_columns].apply(lambda x: pd.to_numeric(x, downcast='integer' if np.issubdtype(x.dtype, np.integer) else 'float'))\n",
    "\n",
    "# Confirm the new datatypes\n",
    "print(merge_df_scaled.dtypes.unique())"
   ]
  },
  {
   "cell_type": "code",
   "execution_count": 31,
   "id": "93811f0b-32c4-4beb-b498-127548d1ddf5",
   "metadata": {
    "tags": []
   },
   "outputs": [],
   "source": [
    "def feature_extraction(merge_df_scaled):\n",
    "    # Ignore all warnings within this function\n",
    "    with warnings.catch_warnings():\n",
    "        warnings.simplefilter(\"ignore\")\n",
    "    \n",
    "        #lagged features\n",
    "        for i in range(1, 8):\n",
    "            merge_df_scaled[f'sales_lag_{i}'] = merge_df_scaled['sales'].shift(i)\n",
    "    \n",
    "        #lagged features per years\n",
    "        for i in range(1, 4):\n",
    "            merge_df_scaled[f'sales_lag_{i}years'] = merge_df_scaled['sales'].shift(i * 365)\n",
    "    \n",
    "            #rolling sum\n",
    "        merge_df_scaled['rolling_sum_7'] = merge_df_scaled['sales'].rolling(window=7).sum()\n",
    "        merge_df_scaled['rolling_sum_30'] = merge_df_scaled['sales'].rolling(window=30).sum()\n",
    "        merge_df_scaled['rolling_sum_60'] = merge_df_scaled['sales'].rolling(window=60).sum()\n",
    "        merge_df_scaled['rolling_sum_90'] = merge_df_scaled['sales'].rolling(window=90).sum()\n",
    "        merge_df_scaled['rolling_sum_120'] = merge_df_scaled['sales'].rolling(window=120).sum()\n",
    "    \n",
    "        #rolling average\n",
    "        merge_df_scaled['rolling_mean_7'] = merge_df_scaled['sales'].rolling(window=7).mean()\n",
    "        merge_df_scaled['rolling_mean_30'] = merge_df_scaled['sales'].rolling(window=30).mean()\n",
    "        merge_df_scaled['rolling_mean_60'] = merge_df_scaled['sales'].rolling(window=60).mean()\n",
    "        merge_df_scaled['rolling_mean_90'] = merge_df_scaled['sales'].rolling(window=90).mean()\n",
    "        merge_df_scaled['rolling_mean_120'] = merge_df_scaled['sales'].rolling(window=120).mean()\n",
    "    \n",
    "        #rolling stdv\n",
    "        merge_df_scaled['rolling_stdv_7'] = merge_df_scaled['sales'].rolling(window=7).std()\n",
    "        merge_df_scaled['rolling_stdv_30'] = merge_df_scaled['sales'].rolling(window=30).std()\n",
    "        merge_df_scaled['rolling_stdv_60'] = merge_df_scaled['sales'].rolling(window=60).std()\n",
    "        merge_df_scaled['rolling_stdv_90'] = merge_df_scaled['sales'].rolling(window=90).std()\n",
    "        merge_df_scaled['rolling_stdv_120'] = merge_df_scaled['sales'].rolling(window=120).std()\n",
    "    \n",
    "        merge_df_scaled.fillna(0,inplace=True)\n",
    "        \n",
    "\n",
    "    return merge_df_scaled\n"
   ]
  },
  {
   "cell_type": "code",
   "execution_count": 32,
   "id": "b02df851-703f-412f-8f52-cf105070d070",
   "metadata": {
    "tags": []
   },
   "outputs": [],
   "source": [
    "def feature_extraction_transfer_test(train_df,test_df):\n",
    "\n",
    "    # Ignore all warnings within this function\n",
    "    with warnings.catch_warnings():\n",
    "        warnings.simplefilter(\"ignore\")\n",
    "           \n",
    "    \n",
    "        #lagged features per years\n",
    "        for i in range(1, 4):\n",
    "            test_df[f'sales_lag_{i}years'] = train_df[f'sales_lag_{i}years'].iloc[-1]\n",
    "    \n",
    "            #rolling sum\n",
    "        test_df['rolling_sum_7'] = train_df['rolling_sum_7'].iloc[-1]\n",
    "        test_df['rolling_sum_30'] = train_df['rolling_sum_30'].iloc[-1]\n",
    "        test_df['rolling_sum_60'] = train_df['rolling_sum_60'].iloc[-1]\n",
    "        test_df['rolling_sum_90'] = train_df['rolling_sum_90'].iloc[-1]\n",
    "        test_df['rolling_sum_120'] = train_df['rolling_sum_120'].iloc[-1]\n",
    "        \n",
    "        # Rolling average\n",
    "        test_df['rolling_mean_7'] = train_df['rolling_mean_7'].iloc[-1]\n",
    "        test_df['rolling_mean_30'] = train_df['rolling_mean_30'].iloc[-1]\n",
    "        test_df['rolling_mean_60'] = train_df['rolling_mean_60'].iloc[-1]\n",
    "        test_df['rolling_mean_90'] = train_df['rolling_mean_90'].iloc[-1]\n",
    "        test_df['rolling_mean_120'] = train_df['rolling_mean_120'].iloc[-1]\n",
    "        \n",
    "        # Rolling standard deviation\n",
    "        test_df['rolling_stdv_7'] = train_df['rolling_stdv_7'].iloc[-1]\n",
    "        test_df['rolling_stdv_30'] = train_df['rolling_stdv_30'].iloc[-1]\n",
    "        test_df['rolling_stdv_60'] = train_df['rolling_stdv_60'].iloc[-1]\n",
    "        test_df['rolling_stdv_90'] = train_df['rolling_stdv_90'].iloc[-1]\n",
    "        test_df['rolling_stdv_120'] = train_df['rolling_stdv_120'].iloc[-1]\n",
    "    \n",
    "        # Identify the last available date in the training data\n",
    "        last_date_train = train_df.index[-1]\n",
    "    \n",
    "        # Fill in lagged features for the first few rows where future knowledge is available\n",
    "        #for i in range(1, 8):\n",
    "        #    # Identify the lagged date for the current lag\n",
    "        #    lagged_date = last_date_train - pd.Timedelta(days=i)\n",
    "            \n",
    "            # Fill in the lagged sales values for corresponding lagged days from the training data\n",
    "        #    test_df[f'sales_lag_{i}'] = test_df.index.map(lambda x: train_df.loc[x - pd.Timedelta(days=i), 'sales'] if x <= last_date_train else train_df[f'sales_lag_{i}'].iloc[-1])\n",
    "\n",
    "\n",
    "        # Fill in lagged features for the first few rows where future knowledge is available\n",
    "        for i in range(1, 8):\n",
    "            test_df[f'sales_lag_{i}'] = np.nan  # Initialize with NaN\n",
    "            \n",
    "            # Iterate over each row in the test DataFrame\n",
    "            for idx, row in test_df.iterrows():\n",
    "                lagged_date = idx - pd.Timedelta(days=i)  # Calculate the lagged date\n",
    "                \n",
    "                # Check if the lagged date is within the training data range\n",
    "                if lagged_date in train_df.index:\n",
    "                    test_df.at[idx, f'sales_lag_{i}'] = train_df.loc[lagged_date, 'sales']\n",
    "                else:\n",
    "                    test_df.at[idx, f'sales_lag_{i}'] = train_df['sales'].iloc[-1]\n",
    "    \n",
    "    return test_df"
   ]
  },
  {
   "cell_type": "code",
   "execution_count": 33,
   "id": "013dda06-1b86-4216-a9f8-366e5e27f7fc",
   "metadata": {
    "tags": []
   },
   "outputs": [],
   "source": [
    "def calc_rmsse(train, test, predictions):\n",
    "    forecast_mse = mean_squared_error(test, predictions)\n",
    "    train_mse = ((train - train.shift(1)) ** 2).mean()\n",
    "    return np.sqrt(forecast_mse / train_mse)"
   ]
  },
  {
   "cell_type": "code",
   "execution_count": 34,
   "id": "6e0fca26-43dc-4b21-b08e-65bd9d58aa40",
   "metadata": {
    "tags": []
   },
   "outputs": [],
   "source": [
    "def calculate_last_28_days_weights(df):\n",
    "    most_recent_date = df.index.max()\n",
    "    cutoff_date = most_recent_date - timedelta(days=27)\n",
    "    last_28_days_df = df.loc[cutoff_date:most_recent_date]\n",
    "    last_28_days_df['revenues'] = last_28_days_df['sales'] * last_28_days_df['sell_price']\n",
    "    \n",
    "    weights_df = last_28_days_df.groupby('id')['revenues'].sum()\n",
    "    weights_df = pd.DataFrame(weights_df)\n",
    "    \n",
    "    total_revenues = last_28_days_df['revenues'].sum()\n",
    "    weights_df['weights'] = weights_df['revenues'] / total_revenues\n",
    "    \n",
    "    return weights_df"
   ]
  },
  {
   "cell_type": "code",
   "execution_count": 35,
   "id": "f3bb6cf5-a720-428d-9f87-b60534928ab1",
   "metadata": {
    "tags": []
   },
   "outputs": [],
   "source": [
    "def custom_ttsplit(product_data,num_splits=5, days_per_split=28):\n",
    "\n",
    "    # Check if enough data is available\n",
    "    if len(product_data) < days_per_split * num_splits:\n",
    "        print(f\"Not enough data for product {id} to perform {num_splits} splits with {days_per_split} days each.\")\n",
    "        \n",
    "    \n",
    "    # Initialize time_splits as a list of empty lists\n",
    "    time_splits = [[] for _ in range(num_splits)]\n",
    "    \n",
    "    # Create data slices for 5-fold validation with each test slice being exactly 28 days\n",
    "    for i in range(1, num_splits + 1):\n",
    "        data_train = product_data.iloc[:-days_per_split * i]\n",
    "        data_test = product_data.iloc[-days_per_split * i: (-days_per_split * (i - 1) if i > 1 else None)]   \n",
    "\n",
    "        time_splits[i-1].append(data_train)\n",
    "        time_splits[i-1].append(data_test)\n",
    "        \n",
    "        \n",
    "    return time_splits\n",
    "    \n"
   ]
  },
  {
   "cell_type": "code",
   "execution_count": 36,
   "id": "88094689-eeab-4710-8000-4f701df35081",
   "metadata": {
    "tags": []
   },
   "outputs": [],
   "source": [
    "def custom_ttsplit_onlyfeatures(product_data,num_splits=5, days_per_split=28):\n",
    "\n",
    "    # Check if enough data is available\n",
    "    if len(product_data) < days_per_split * 2 * num_splits:\n",
    "        print(f\"Not enough data for product {id} to perform {num_splits} splits with {days_per_split} days each.\")\n",
    "        \n",
    "    \n",
    "    # Initialize time_splits as a list of empty lists\n",
    "    time_splits = [[] for _ in range(num_splits)]\n",
    "    \n",
    "    # Create data slices for 5-fold validation with each test slice being exactly 28 days\n",
    "    for i in range(1, num_splits + 1):\n",
    "        data_train = product_data.iloc[:-days_per_split * i]\n",
    "        data_test = product_data.iloc[-days_per_split * i: (-days_per_split * (i - 1) if i > 1 else None)]   \n",
    "\n",
    "        data_train = feature_extraction(data_train)\n",
    "        data_test = feature_extraction_transfer_test(data_train,data_test)\n",
    "\n",
    "        data_test = data_test[data_train.columns]\n",
    "\n",
    "        time_splits[i-1].append(data_train)\n",
    "        time_splits[i-1].append(data_test)\n",
    "        \n",
    "        \n",
    "    return time_splits\n",
    "\n",
    "\n"
   ]
  },
  {
   "cell_type": "code",
   "execution_count": 37,
   "id": "e1b50d66-f364-4758-a13c-8c770e34777a",
   "metadata": {
    "tags": []
   },
   "outputs": [],
   "source": [
    "def custom_ttsplit_inclval(product_data,num_splits=5, days_per_split=28):\n",
    "\n",
    "    # Check if enough data is available\n",
    "    if len(product_data) < days_per_split * 2 * num_splits:\n",
    "        print(f\"Not enough data for product {id} to perform {num_splits} splits with {days_per_split} days each.\")\n",
    "        \n",
    "    \n",
    "    # Initialize time_splits as a list of empty lists\n",
    "    time_splits = [[] for _ in range(num_splits)]\n",
    "    \n",
    "    # Create data slices for 5-fold validation with each test slice being exactly 28 days\n",
    "    for i in range(1, num_splits + 1):\n",
    "        data_train_incl_val = product_data.iloc[:-days_per_split * i]\n",
    "        data_test = product_data.iloc[-days_per_split * i: (-days_per_split * (i - 1) if i > 1 else None)]   \n",
    "\n",
    "        data_train_incl_val = feature_extraction(data_train_incl_val)\n",
    "        data_test = feature_extraction_transfer_test(data_train_incl_val,data_test)\n",
    "        data_train = data_train_incl_val[:-days_per_split]\n",
    "        data_val = data_train_incl_val[-days_per_split:]\n",
    "\n",
    "        time_splits[i-1].append(data_train)\n",
    "        time_splits[i-1].append(data_val)\n",
    "        time_splits[i-1].append(data_test)\n",
    "        \n",
    "        \n",
    "    return time_splits\n",
    "    \n"
   ]
  },
  {
   "cell_type": "code",
   "execution_count": 38,
   "id": "5d1e8448-ecde-4944-99b4-30f74e5f489a",
   "metadata": {
    "scrolled": true,
    "tags": []
   },
   "outputs": [],
   "source": [
    "merge_df_scaled.drop(columns=[\"item_id\",\"dept_id\",\"state_id\"],inplace=True)"
   ]
  },
  {
   "cell_type": "code",
   "execution_count": 39,
   "id": "d9391eb6-da51-4b69-a4aa-5fd1ccba9db6",
   "metadata": {
    "tags": []
   },
   "outputs": [],
   "source": [
    "merge_df_scaled.fillna(0,inplace=True)"
   ]
  },
  {
   "cell_type": "code",
   "execution_count": 40,
   "id": "13a35134-1f8a-436c-b168-111341c17cdf",
   "metadata": {
    "scrolled": true,
    "tags": []
   },
   "outputs": [
    {
     "data": {
      "text/plain": [
       "array(['FOODS_3_120_CA_1_validation', 'FOODS_3_252_CA_1_validation',\n",
       "       'FOODS_3_586_CA_1_validation', 'FOODS_3_587_CA_1_validation',\n",
       "       'FOODS_3_714_CA_1_validation', 'FOODS_3_090_CA_2_validation',\n",
       "       'FOODS_3_252_CA_2_validation', 'FOODS_3_586_CA_2_validation',\n",
       "       'FOODS_3_120_CA_3_validation', 'FOODS_3_202_CA_3_validation',\n",
       "       'FOODS_3_252_CA_3_validation', 'FOODS_3_541_CA_3_validation',\n",
       "       'FOODS_3_555_CA_3_validation', 'FOODS_3_587_CA_3_validation',\n",
       "       'FOODS_3_607_CA_3_validation', 'FOODS_3_635_CA_3_validation',\n",
       "       'FOODS_3_681_CA_3_validation', 'FOODS_3_714_CA_3_validation',\n",
       "       'FOODS_3_808_CA_3_validation', 'FOODS_3_090_CA_4_validation',\n",
       "       'FOODS_3_090_TX_1_validation', 'FOODS_3_252_TX_1_validation',\n",
       "       'FOODS_3_555_TX_1_validation', 'FOODS_3_587_TX_1_validation',\n",
       "       'FOODS_3_377_TX_2_validation', 'FOODS_3_555_TX_2_validation',\n",
       "       'FOODS_3_587_TX_2_validation', 'FOODS_3_252_TX_3_validation',\n",
       "       'FOODS_3_377_TX_3_validation', 'FOODS_3_555_TX_3_validation',\n",
       "       'FOODS_3_226_WI_1_validation', 'FOODS_3_007_WI_2_validation',\n",
       "       'FOODS_3_226_WI_2_validation', 'FOODS_3_234_WI_2_validation',\n",
       "       'FOODS_3_694_WI_2_validation', 'FOODS_3_318_WI_3_validation',\n",
       "       'FOODS_3_555_WI_3_validation', 'FOODS_3_586_WI_3_validation',\n",
       "       'FOODS_3_694_WI_3_validation', 'FOODS_3_714_WI_3_validation'],\n",
       "      dtype=object)"
      ]
     },
     "execution_count": 40,
     "metadata": {},
     "output_type": "execute_result"
    }
   ],
   "source": [
    "merge_df_scaled[\"id\"].unique()"
   ]
  },
  {
   "cell_type": "code",
   "execution_count": 41,
   "id": "199ce411-79fa-4af8-a0cb-0bb69d6e4d5e",
   "metadata": {
    "tags": []
   },
   "outputs": [
    {
     "data": {
      "text/plain": [
       "402"
      ]
     },
     "execution_count": 41,
     "metadata": {},
     "output_type": "execute_result"
    }
   ],
   "source": [
    "merge_df_scaled['sales'].max()"
   ]
  },
  {
   "cell_type": "markdown",
   "id": "3a2c90d7-181f-4c34-b9db-73d5632292e5",
   "metadata": {},
   "source": [
    "# 1. Defining Model Functions"
   ]
  },
  {
   "cell_type": "code",
   "execution_count": 42,
   "id": "44c2e333-1676-4450-a8ac-b1d64ce1fee5",
   "metadata": {
    "tags": []
   },
   "outputs": [],
   "source": [
    "def perform_prophet(data_train, data_test):\n",
    "\n",
    "    temp_rmsse = []\n",
    "\n",
    "    data_train.reset_index(inplace=True,names=\"date\")\n",
    "    data_test.reset_index(inplace=True,names=\"date\")\n",
    "    \n",
    "    prophet_data_train = data_train[[\"id\",\"date\",\"sales\"]]\n",
    "    prophet_data_test = data_test[[\"id\",\"date\",\"sales\"]]\n",
    "    prophet_data_train.columns = [\"id\",\"ds\",\"y\"]\n",
    "    prophet_data_test.columns = [\"id\",\"ds\",\"y\"]\n",
    "    prophet_data_train['ds'] = pd.to_datetime(prophet_data_train['ds'])\n",
    "    prophet_data_test['ds'] = pd.to_datetime(prophet_data_test['ds'])\n",
    "    \n",
    "    X_train = prophet_data_train[\"ds\"]\n",
    "    y_train = prophet_data_train[\"y\"]\n",
    "    X_test = prophet_data_test[\"ds\"]\n",
    "    y_test = prophet_data_test[\"y\"]\n",
    "    \n",
    "    fbp = Prophet()\n",
    "\n",
    "    model = fbp.fit(prophet_data_train)\n",
    "    \n",
    "    predict_placeholder = fbp.make_future_dataframe(28,freq=\"D\")\n",
    "    \n",
    "    # Predict on the test data\n",
    "    y_pred = fbp.predict(predict_placeholder[-28:])\n",
    "    \n",
    "\n",
    "    # Calculate and return the error metric for the current fold\n",
    "    rmsse = calc_rmsse(y_train, y_test, y_pred[\"yhat\"])\n",
    "    \n",
    "    return model, rmsse"
   ]
  },
  {
   "cell_type": "code",
   "execution_count": 43,
   "id": "40e117ca-6a4c-42d0-9a8d-ae22cec86ae4",
   "metadata": {
    "tags": []
   },
   "outputs": [],
   "source": [
    "# Function to perform Random Forest modeling and calculate MAE\n",
    "def perform_random_forest(data_train, data_test):\n",
    "        \n",
    "    X_train = data_train.drop(columns=\"sales\")\n",
    "    y_train = data_train[\"sales\"]\n",
    "    X_test = data_test.drop(columns=\"sales\")\n",
    "    y_test = data_test[\"sales\"]\n",
    "\n",
    "    # Fit Random Forest model on the training data\n",
    "    model = RandomForestRegressor(n_estimators=100, random_state=42)\n",
    "    model.fit(X_train, y_train)\n",
    "    \n",
    "    # Predict on the test data\n",
    "    predictions = model.predict(X_test)\n",
    "\n",
    "    # Calculate wRMSSE\n",
    "    rmsse = calc_rmsse(y_train,y_test, predictions)\n",
    "    \n",
    "    return model, rmsse\n"
   ]
  },
  {
   "cell_type": "code",
   "execution_count": 44,
   "id": "151bd3d5-e70c-41ef-8a3e-2da51e4fe900",
   "metadata": {
    "tags": []
   },
   "outputs": [],
   "source": [
    "def perform_auto_arima(data_train,data_test):\n",
    "    \n",
    "\n",
    "    y_train = data_train[\"sales\"]\n",
    "    y_test = data_test[\"sales\"]\n",
    "\n",
    "    # Fit ARIMA model on the training data using auto_arima to find the best (p, d, q)\n",
    "    model = auto_arima(y_train, start_p=0, start_q=0, max_p=5, max_q=5, d=1,\n",
    "                       seasonal=True, trace=False, error_action='ignore', \n",
    "                       suppress_warnings=True, stepwise=True)\n",
    "    \n",
    "    # Predict on the test data\n",
    "    predictions = model.predict(n_periods=len(y_test))\n",
    "\n",
    "    # Calculate and return the error metric for the current fold\n",
    "    rmsse = calc_rmsse(y_train,y_test,predictions)\n",
    "    \n",
    "    return model, rmsse"
   ]
  },
  {
   "cell_type": "code",
   "execution_count": 45,
   "id": "bc9e1224-e66f-4e66-bad4-dd867e626f54",
   "metadata": {
    "tags": []
   },
   "outputs": [],
   "source": [
    "def objective_optuna(trial, y_train, y_test):\n",
    "    \n",
    "    trend = trial.suggest_categorical('trend', ['add'])\n",
    "    seasonal = trial.suggest_categorical('seasonal', [None, 'add'])\n",
    "    seasonal_periods = trial.suggest_categorical('seasonal_periods', [None, 4, 7, 12])\n",
    "    \n",
    "    product_results = []\n",
    "\n",
    "    # Fit Holt-Winters model on the training data\n",
    "    model = ExponentialSmoothing(y_train, trend=trend, seasonal=seasonal, seasonal_periods=seasonal_periods,freq='D')\n",
    "    fitted_model = model.fit(optimized=True)\n",
    "\n",
    "    # Predict on the test data\n",
    "    predictions = fitted_model.forecast(steps=len(y_test))\n",
    "\n",
    "    # Calculate and store the error metric\n",
    "    mae = mean_absolute_error(y_test, predictions)\n",
    "    \n",
    "\n",
    "    # Calculate and return the error metric for the current fold\n",
    "    rmsse = calc_rmsse(y_train,y_test, predictions)\n",
    "    product_results.append(rmsse)\n",
    "\n",
    "    # Average MAE for this product\n",
    "    average_rmsse = np.mean(product_results)\n",
    "    return average_rmsse"
   ]
  },
  {
   "cell_type": "code",
   "execution_count": 46,
   "id": "102b594c-39b7-4817-bb4b-f3d5706c0d1e",
   "metadata": {
    "tags": []
   },
   "outputs": [],
   "source": [
    "def perform_exp_smoothing(data_train, data_test):\n",
    "    y_train = data_train[\"sales\"]\n",
    "    y_test = data_test[\"sales\"]\n",
    "    # Create a study object\n",
    "    study = optuna.create_study(direction='minimize')\n",
    "    \n",
    "    print(f\"Optimizing hyperparameters for product: {id}\")\n",
    "    \n",
    "    \n",
    "    # Run the optimization process for the current product\n",
    "    study.optimize(lambda trial: objective_optuna(trial, y_train, y_test), n_trials=10, n_jobs=-1)\n",
    "\n",
    "    # Get the best hyperparameters and the corresponding best MAE\n",
    "    best_params = study.best_params\n",
    "    best_rmsse = study.best_value\n",
    "\n",
    "    # Create the best model with the obtained hyperparameters\n",
    "    best_model = ExponentialSmoothing(y_train, **best_params).fit()\n",
    "    \n",
    "    return best_model, best_rmsse"
   ]
  },
  {
   "cell_type": "code",
   "execution_count": 47,
   "id": "1e96217a-a286-4ecd-b8d3-9d23a0fc3811",
   "metadata": {
    "tags": []
   },
   "outputs": [],
   "source": [
    "def perform_lightgbm(data_train, data_val, data_test):\n",
    "    \n",
    "    X_train = data_train.drop(columns=\"sales\")\n",
    "    y_train = data_train[\"sales\"]\n",
    "    X_val = data_val.drop(columns=\"sales\")\n",
    "    y_val = data_val[\"sales\"]\n",
    "    X_test = data_test.drop(columns=\"sales\")\n",
    "    y_test = data_test[\"sales\"]\n",
    "\n",
    "    \n",
    "    \n",
    "    \n",
    "    # Define LightGBM parameters\n",
    "    params = {\n",
    "        \"n_estimators\": 1000,\n",
    "        'objective': 'regression',\n",
    "        'metric': 'rmse',\n",
    "        \"boosting_type\": \"gbdt\",\n",
    "        \"max_depth\": -1,\n",
    "        'learning_rate': 0.01,\n",
    "        'feature_fraction': 0.4,\n",
    "        \"lambda_l1\": 1,\n",
    "        \"lambda_l2\": 1,\n",
    "        \"seed\": 46,\n",
    "        \"verbose\": -1\n",
    "    }\n",
    "\n",
    "    model = lgb.LGBMRegressor(**params)\n",
    "    \n",
    "    # Create dataset for LightGBM\n",
    "    lgb_train = lgb.Dataset(X_train, y_train)\n",
    "    lgb_eval = lgb.Dataset(X_val, y_val, reference=lgb_train)\n",
    "    \n",
    "    # Train the model\n",
    "    num_round = 1000\n",
    "\n",
    "    bst = lgb.train(params, lgb_train, num_round, valid_sets=lgb_eval, callbacks=[lgb.early_stopping(stopping_rounds=50)])\n",
    "     \n",
    "    # Make predictions for the next 28 days\n",
    "    predictions = bst.predict(X_test, num_iteration=bst.best_iteration)\n",
    "\n",
    "    # Calculate and return the error metric for the current fold\n",
    "    rmsse = calc_rmsse(y_train,y_test, predictions)\n",
    "    \n",
    "    return bst, rmsse\n"
   ]
  },
  {
   "cell_type": "code",
   "execution_count": 48,
   "id": "49177452-a384-4cbe-9513-2d5e6d341606",
   "metadata": {
    "tags": []
   },
   "outputs": [],
   "source": [
    "def prepare_data(product_data):\n",
    "    target = product_data[['sales']]\n",
    "    past_cov = product_data.drop(columns=['sales', 'id']) # ,'item_id','dept_id','state_id','event_name_2'\n",
    "    future_cov = product_data.drop(columns=['sales','id']) # ,'item_id','dept_id','state_id','event_name_2'\n",
    "\n",
    "    y_train = target.loc[:'2016-01-01']\n",
    "    past_cov_train = past_cov.loc[:'2016-01-01']\n",
    "    future_cov_train = future_cov.loc[:'2016-01-29']\n",
    "\n",
    "    y_val = target.loc['2016-01-02':'2016-04-24']\n",
    "    past_cov_val = past_cov.loc['2016-01-02':'2016-04-24']\n",
    "    future_cov_val = future_cov.loc['2016-01-02':'2016-05-22']\n",
    "\n",
    "    return (y_train, past_cov_train, future_cov_train,\n",
    "            y_val, past_cov_val, future_cov_val)"
   ]
  },
  {
   "cell_type": "code",
   "execution_count": 49,
   "id": "2a38bf15-f7de-422c-b174-b00f28c44c1a",
   "metadata": {
    "tags": []
   },
   "outputs": [],
   "source": [
    "def train_tft_model(y_train_series, past_cov_train_series, future_cov_train_series,\n",
    "                    y_val_series, past_cov_val_series, future_cov_val_series):\n",
    "    input_chunk_length = 28*2\n",
    "    output_chunk_length = 28\n",
    "\n",
    "    from pytorch_lightning.callbacks.early_stopping import EarlyStopping\n",
    "    from pytorch_lightning.loggers import CSVLogger\n",
    "    csv_logger = CSVLogger(\"logs\", name=\"tft_logs\")\n",
    "    patience = 5\n",
    "    my_stopper = EarlyStopping(\n",
    "        monitor=\"val_loss\",\n",
    "        patience=patience,\n",
    "        min_delta=0.001,\n",
    "        mode='min',\n",
    "    )\n",
    "\n",
    "    pl_trainer_kwargs={\"callbacks\": [my_stopper],\n",
    "                       \"accelerator\": \"cpu\",\n",
    "                      \"logger\": csv_logger}\n",
    "\n",
    "    tft = TFTModel(input_chunk_length=input_chunk_length,\n",
    "                   output_chunk_length=output_chunk_length,\n",
    "                   pl_trainer_kwargs=pl_trainer_kwargs,\n",
    "                   lstm_layers=2,\n",
    "                   num_attention_heads=4,\n",
    "                   dropout=0.2,\n",
    "                   batch_size=16,\n",
    "                   hidden_size=16,\n",
    "                   torch_metrics=MeanAbsoluteError(),\n",
    "                   n_epochs=50)\n",
    "\n",
    "    tft.fit(series=y_train_series,\n",
    "            past_covariates=past_cov_train_series,\n",
    "            future_covariates=future_cov_train_series,\n",
    "            val_series=y_val_series,\n",
    "            val_past_covariates=past_cov_val_series,\n",
    "            val_future_covariates=future_cov_val_series)\n",
    "\n",
    "    metrics_df = pd.read_csv(\"logs/tft_logs/version_0/metrics.csv\")\n",
    "    validation_loss = metrics_df.val_MeanAbsoluteError.dropna().iloc[-(patience+1)]\n",
    "    \n",
    "    shutil.rmtree(\"logs/tft_logs/version_0\")\n",
    "    \n",
    "    return tft, validation_loss\n",
    "\n"
   ]
  },
  {
   "cell_type": "code",
   "execution_count": null,
   "id": "b772c5e4-6892-4cf3-93c2-4e4c7cf4bead",
   "metadata": {
    "tags": []
   },
   "outputs": [],
   "source": []
  },
  {
   "cell_type": "markdown",
   "id": "c4313bdf-003b-428f-addb-07ad6b7058b8",
   "metadata": {},
   "source": [
    "# 2.Running all models in a loop to find for each product with lowest score"
   ]
  },
  {
   "cell_type": "code",
   "execution_count": 50,
   "id": "e09341ed-7407-4421-87d4-b97c92ef1fc9",
   "metadata": {
    "tags": []
   },
   "outputs": [],
   "source": [
    "models_list = [\"ARIMA\",\"ExponentialSmoothing\", \"Prophet\", \"LightGBM\", \"RandomForest\", \"DartsTFT\"] "
   ]
  },
  {
   "cell_type": "code",
   "execution_count": null,
   "id": "25636b8c-848f-4188-bc73-1546fdeb687b",
   "metadata": {
    "scrolled": true,
    "tags": []
   },
   "outputs": [
    {
     "name": "stderr",
     "output_type": "stream",
     "text": [
      "/var/tmp/ipykernel_1903582/714081597.py:5: SettingWithCopyWarning: \n",
      "A value is trying to be set on a copy of a slice from a DataFrame.\n",
      "Try using .loc[row_indexer,col_indexer] = value instead\n",
      "\n",
      "See the caveats in the documentation: https://pandas.pydata.org/pandas-docs/stable/user_guide/indexing.html#returning-a-view-versus-a-copy\n",
      "  last_28_days_df['revenues'] = last_28_days_df['sales'] * last_28_days_df['sell_price']\n"
     ]
    },
    {
     "name": "stdout",
     "output_type": "stream",
     "text": [
      "Analyzing product: FOODS_3_555_TX_2_validation\n"
     ]
    },
    {
     "name": "stderr",
     "output_type": "stream",
     "text": [
      "[I 2024-05-15 17:15:37,909] A new study created in memory with name: no-name-6112d38a-b191-4e35-8c75-7258113cdd59\n"
     ]
    },
    {
     "name": "stdout",
     "output_type": "stream",
     "text": [
      "Optimizing hyperparameters for product: FOODS_3_555_TX_2_validation\n"
     ]
    },
    {
     "name": "stderr",
     "output_type": "stream",
     "text": [
      "[I 2024-05-15 17:15:38,370] Trial 1 finished with value: 0.8406422089451308 and parameters: {'trend': 'add', 'seasonal': None, 'seasonal_periods': 4}. Best is trial 1 with value: 0.8406422089451308.\n",
      "[I 2024-05-15 17:15:39,671] Trial 9 finished with value: 0.8406422089451308 and parameters: {'trend': 'add', 'seasonal': None, 'seasonal_periods': 7}. Best is trial 1 with value: 0.8406422089451308.\n",
      "[I 2024-05-15 17:15:39,717] Trial 5 finished with value: 0.8406422089451308 and parameters: {'trend': 'add', 'seasonal': None, 'seasonal_periods': 7}. Best is trial 1 with value: 0.8406422089451308.\n",
      "[I 2024-05-15 17:15:39,746] Trial 2 finished with value: 0.9171629276808081 and parameters: {'trend': 'add', 'seasonal': 'add', 'seasonal_periods': 4}. Best is trial 1 with value: 0.8406422089451308.\n",
      "[I 2024-05-15 17:15:40,074] Trial 3 finished with value: 0.9171629276808081 and parameters: {'trend': 'add', 'seasonal': 'add', 'seasonal_periods': 4}. Best is trial 1 with value: 0.8406422089451308.\n",
      "[I 2024-05-15 17:15:40,138] Trial 7 finished with value: 0.9171629276808081 and parameters: {'trend': 'add', 'seasonal': 'add', 'seasonal_periods': 4}. Best is trial 1 with value: 0.8406422089451308.\n",
      "[I 2024-05-15 17:15:40,148] Trial 0 finished with value: 0.762549506863224 and parameters: {'trend': 'add', 'seasonal': 'add', 'seasonal_periods': 7}. Best is trial 0 with value: 0.762549506863224.\n",
      "[I 2024-05-15 17:15:40,215] Trial 4 finished with value: 0.762549506863224 and parameters: {'trend': 'add', 'seasonal': 'add', 'seasonal_periods': 7}. Best is trial 0 with value: 0.762549506863224.\n",
      "[I 2024-05-15 17:15:40,259] Trial 6 finished with value: 0.762549506863224 and parameters: {'trend': 'add', 'seasonal': 'add', 'seasonal_periods': None}. Best is trial 0 with value: 0.762549506863224.\n",
      "[I 2024-05-15 17:15:40,296] Trial 8 finished with value: 0.762549506863224 and parameters: {'trend': 'add', 'seasonal': 'add', 'seasonal_periods': None}. Best is trial 0 with value: 0.762549506863224.\n",
      "/opt/conda/lib/python3.10/site-packages/statsmodels/tsa/base/tsa_model.py:473: ValueWarning: No frequency information was provided, so inferred frequency D will be used.\n",
      "  self._init_dates(dates, freq)\n",
      "[I 2024-05-15 17:15:40,556] A new study created in memory with name: no-name-d1bd4e4e-fea5-4f5e-a25f-763663cdaa15\n"
     ]
    },
    {
     "name": "stdout",
     "output_type": "stream",
     "text": [
      "Optimizing hyperparameters for product: FOODS_3_555_TX_2_validation\n"
     ]
    },
    {
     "name": "stderr",
     "output_type": "stream",
     "text": [
      "[I 2024-05-15 17:15:40,987] Trial 1 finished with value: 0.755116008193902 and parameters: {'trend': 'add', 'seasonal': None, 'seasonal_periods': None}. Best is trial 1 with value: 0.755116008193902.\n",
      "[I 2024-05-15 17:15:41,319] Trial 5 finished with value: 0.755116008193902 and parameters: {'trend': 'add', 'seasonal': None, 'seasonal_periods': 7}. Best is trial 1 with value: 0.755116008193902.\n",
      "[I 2024-05-15 17:15:41,538] Trial 3 finished with value: 0.755116008193902 and parameters: {'trend': 'add', 'seasonal': None, 'seasonal_periods': 7}. Best is trial 1 with value: 0.755116008193902.\n",
      "[I 2024-05-15 17:15:41,654] Trial 4 finished with value: 0.755116008193902 and parameters: {'trend': 'add', 'seasonal': None, 'seasonal_periods': 12}. Best is trial 1 with value: 0.755116008193902.\n",
      "[I 2024-05-15 17:15:41,665] Trial 6 finished with value: 0.755116008193902 and parameters: {'trend': 'add', 'seasonal': None, 'seasonal_periods': None}. Best is trial 1 with value: 0.755116008193902.\n",
      "[I 2024-05-15 17:15:41,726] Trial 9 finished with value: 0.755116008193902 and parameters: {'trend': 'add', 'seasonal': None, 'seasonal_periods': 12}. Best is trial 1 with value: 0.755116008193902.\n",
      "[I 2024-05-15 17:15:42,093] Trial 7 finished with value: 0.7821943735280162 and parameters: {'trend': 'add', 'seasonal': 'add', 'seasonal_periods': 12}. Best is trial 1 with value: 0.755116008193902.\n",
      "[I 2024-05-15 17:15:42,152] Trial 8 finished with value: 0.7821943735280162 and parameters: {'trend': 'add', 'seasonal': 'add', 'seasonal_periods': 12}. Best is trial 1 with value: 0.755116008193902.\n",
      "[I 2024-05-15 17:15:42,176] Trial 2 finished with value: 0.7821943735280162 and parameters: {'trend': 'add', 'seasonal': 'add', 'seasonal_periods': 12}. Best is trial 1 with value: 0.755116008193902.\n",
      "[I 2024-05-15 17:15:42,195] Trial 0 finished with value: 0.5321508441176858 and parameters: {'trend': 'add', 'seasonal': 'add', 'seasonal_periods': None}. Best is trial 0 with value: 0.5321508441176858.\n",
      "/opt/conda/lib/python3.10/site-packages/statsmodels/tsa/base/tsa_model.py:473: ValueWarning: No frequency information was provided, so inferred frequency D will be used.\n",
      "  self._init_dates(dates, freq)\n",
      "[I 2024-05-15 17:15:42,456] A new study created in memory with name: no-name-df736e17-162b-43d8-962b-73dd67ac20ab\n"
     ]
    },
    {
     "name": "stdout",
     "output_type": "stream",
     "text": [
      "Optimizing hyperparameters for product: FOODS_3_555_TX_2_validation\n"
     ]
    },
    {
     "name": "stderr",
     "output_type": "stream",
     "text": [
      "[I 2024-05-15 17:15:43,109] Trial 0 finished with value: 1.1379205250271067 and parameters: {'trend': 'add', 'seasonal': None, 'seasonal_periods': 4}. Best is trial 0 with value: 1.1379205250271067.\n",
      "[I 2024-05-15 17:15:43,621] Trial 8 finished with value: 1.1379205250271067 and parameters: {'trend': 'add', 'seasonal': None, 'seasonal_periods': 7}. Best is trial 0 with value: 1.1379205250271067.\n",
      "[I 2024-05-15 17:15:43,633] Trial 9 finished with value: 1.1379205250271067 and parameters: {'trend': 'add', 'seasonal': None, 'seasonal_periods': 12}. Best is trial 0 with value: 1.1379205250271067.\n",
      "[I 2024-05-15 17:15:43,665] Trial 3 finished with value: 1.1379205250271067 and parameters: {'trend': 'add', 'seasonal': None, 'seasonal_periods': 12}. Best is trial 0 with value: 1.1379205250271067.\n",
      "[I 2024-05-15 17:15:43,858] Trial 7 finished with value: 1.1379205250271067 and parameters: {'trend': 'add', 'seasonal': None, 'seasonal_periods': 4}. Best is trial 0 with value: 1.1379205250271067.\n",
      "[I 2024-05-15 17:15:43,890] Trial 4 finished with value: 1.1379205250271067 and parameters: {'trend': 'add', 'seasonal': None, 'seasonal_periods': 4}. Best is trial 0 with value: 1.1379205250271067.\n",
      "[I 2024-05-15 17:15:43,954] Trial 1 finished with value: 1.1671025169738196 and parameters: {'trend': 'add', 'seasonal': 'add', 'seasonal_periods': 4}. Best is trial 0 with value: 1.1379205250271067.\n",
      "[I 2024-05-15 17:15:44,087] Trial 5 finished with value: 0.9924269860303621 and parameters: {'trend': 'add', 'seasonal': 'add', 'seasonal_periods': None}. Best is trial 5 with value: 0.9924269860303621.\n",
      "[I 2024-05-15 17:15:44,146] Trial 2 finished with value: 0.9924269860303621 and parameters: {'trend': 'add', 'seasonal': 'add', 'seasonal_periods': 7}. Best is trial 5 with value: 0.9924269860303621.\n",
      "[I 2024-05-15 17:15:44,174] Trial 6 finished with value: 0.9924269860303621 and parameters: {'trend': 'add', 'seasonal': 'add', 'seasonal_periods': 7}. Best is trial 5 with value: 0.9924269860303621.\n",
      "/opt/conda/lib/python3.10/site-packages/statsmodels/tsa/base/tsa_model.py:473: ValueWarning: No frequency information was provided, so inferred frequency D will be used.\n",
      "  self._init_dates(dates, freq)\n",
      "[I 2024-05-15 17:15:44,430] A new study created in memory with name: no-name-e9c5aedc-0a15-47bf-8f88-f10a183e6928\n",
      "[I 2024-05-15 17:15:44,607] Trial 0 finished with value: 0.8382237846893444 and parameters: {'trend': 'add', 'seasonal': None, 'seasonal_periods': None}. Best is trial 0 with value: 0.8382237846893444.\n"
     ]
    },
    {
     "name": "stdout",
     "output_type": "stream",
     "text": [
      "Optimizing hyperparameters for product: FOODS_3_555_TX_2_validation\n"
     ]
    },
    {
     "name": "stderr",
     "output_type": "stream",
     "text": [
      "[I 2024-05-15 17:15:45,239] Trial 1 finished with value: 0.8382237846893444 and parameters: {'trend': 'add', 'seasonal': None, 'seasonal_periods': 4}. Best is trial 0 with value: 0.8382237846893444.\n",
      "[I 2024-05-15 17:15:45,499] Trial 9 finished with value: 0.8382237846893444 and parameters: {'trend': 'add', 'seasonal': None, 'seasonal_periods': None}. Best is trial 0 with value: 0.8382237846893444.\n",
      "[I 2024-05-15 17:15:45,553] Trial 6 finished with value: 0.8382237846893444 and parameters: {'trend': 'add', 'seasonal': None, 'seasonal_periods': 12}. Best is trial 0 with value: 0.8382237846893444.\n",
      "[I 2024-05-15 17:15:45,571] Trial 5 finished with value: 0.8382237846893444 and parameters: {'trend': 'add', 'seasonal': None, 'seasonal_periods': 4}. Best is trial 0 with value: 0.8382237846893444.\n",
      "[I 2024-05-15 17:15:45,772] Trial 7 finished with value: 0.8382237846893444 and parameters: {'trend': 'add', 'seasonal': None, 'seasonal_periods': 12}. Best is trial 0 with value: 0.8382237846893444.\n",
      "[I 2024-05-15 17:15:46,152] Trial 4 finished with value: 0.49801200833892045 and parameters: {'trend': 'add', 'seasonal': 'add', 'seasonal_periods': 7}. Best is trial 4 with value: 0.49801200833892045.\n",
      "[I 2024-05-15 17:15:46,155] Trial 8 finished with value: 0.49801200833892045 and parameters: {'trend': 'add', 'seasonal': 'add', 'seasonal_periods': 7}. Best is trial 4 with value: 0.49801200833892045.\n",
      "[I 2024-05-15 17:15:46,158] Trial 2 finished with value: 0.49801200833892045 and parameters: {'trend': 'add', 'seasonal': 'add', 'seasonal_periods': None}. Best is trial 4 with value: 0.49801200833892045.\n",
      "[I 2024-05-15 17:15:46,160] Trial 3 finished with value: 0.49801200833892045 and parameters: {'trend': 'add', 'seasonal': 'add', 'seasonal_periods': 7}. Best is trial 4 with value: 0.49801200833892045.\n",
      "/opt/conda/lib/python3.10/site-packages/statsmodels/tsa/base/tsa_model.py:473: ValueWarning: No frequency information was provided, so inferred frequency D will be used.\n",
      "  self._init_dates(dates, freq)\n",
      "[I 2024-05-15 17:15:46,417] A new study created in memory with name: no-name-74667e76-fd58-469d-ba91-8d945ad1ddbe\n"
     ]
    },
    {
     "name": "stdout",
     "output_type": "stream",
     "text": [
      "Optimizing hyperparameters for product: FOODS_3_555_TX_2_validation\n"
     ]
    },
    {
     "name": "stderr",
     "output_type": "stream",
     "text": [
      "[I 2024-05-15 17:15:46,939] Trial 3 finished with value: 0.9904691312846422 and parameters: {'trend': 'add', 'seasonal': None, 'seasonal_periods': None}. Best is trial 3 with value: 0.9904691312846422.\n",
      "[I 2024-05-15 17:15:47,167] Trial 1 finished with value: 0.9904691312846422 and parameters: {'trend': 'add', 'seasonal': None, 'seasonal_periods': None}. Best is trial 3 with value: 0.9904691312846422.\n",
      "[I 2024-05-15 17:15:47,196] Trial 4 finished with value: 0.9904691312846422 and parameters: {'trend': 'add', 'seasonal': None, 'seasonal_periods': 4}. Best is trial 3 with value: 0.9904691312846422.\n",
      "[I 2024-05-15 17:15:47,265] Trial 6 finished with value: 0.9904691312846422 and parameters: {'trend': 'add', 'seasonal': None, 'seasonal_periods': 7}. Best is trial 3 with value: 0.9904691312846422.\n",
      "[I 2024-05-15 17:15:47,463] Trial 5 finished with value: 0.9904691312846422 and parameters: {'trend': 'add', 'seasonal': None, 'seasonal_periods': 4}. Best is trial 3 with value: 0.9904691312846422.\n",
      "[I 2024-05-15 17:15:47,547] Trial 8 finished with value: 0.9904691312846422 and parameters: {'trend': 'add', 'seasonal': None, 'seasonal_periods': 12}. Best is trial 3 with value: 0.9904691312846422.\n",
      "[I 2024-05-15 17:15:47,578] Trial 9 finished with value: 0.9904691312846422 and parameters: {'trend': 'add', 'seasonal': None, 'seasonal_periods': 12}. Best is trial 3 with value: 0.9904691312846422.\n",
      "[I 2024-05-15 17:15:47,693] Trial 0 finished with value: 0.9941961943527258 and parameters: {'trend': 'add', 'seasonal': 'add', 'seasonal_periods': 12}. Best is trial 3 with value: 0.9904691312846422.\n",
      "[I 2024-05-15 17:15:47,779] Trial 2 finished with value: 1.0461910532955918 and parameters: {'trend': 'add', 'seasonal': 'add', 'seasonal_periods': 7}. Best is trial 3 with value: 0.9904691312846422.\n",
      "[I 2024-05-15 17:15:47,824] Trial 7 finished with value: 1.0461910532955918 and parameters: {'trend': 'add', 'seasonal': 'add', 'seasonal_periods': None}. Best is trial 3 with value: 0.9904691312846422.\n",
      "/opt/conda/lib/python3.10/site-packages/statsmodels/tsa/base/tsa_model.py:473: ValueWarning: No frequency information was provided, so inferred frequency D will be used.\n",
      "  self._init_dates(dates, freq)\n",
      "/var/tmp/ipykernel_1903582/1261245201.py:12: SettingWithCopyWarning: \n",
      "A value is trying to be set on a copy of a slice from a DataFrame.\n",
      "Try using .loc[row_indexer,col_indexer] = value instead\n",
      "\n",
      "See the caveats in the documentation: https://pandas.pydata.org/pandas-docs/stable/user_guide/indexing.html#returning-a-view-versus-a-copy\n",
      "  prophet_data_train['ds'] = pd.to_datetime(prophet_data_train['ds'])\n",
      "/var/tmp/ipykernel_1903582/1261245201.py:13: SettingWithCopyWarning: \n",
      "A value is trying to be set on a copy of a slice from a DataFrame.\n",
      "Try using .loc[row_indexer,col_indexer] = value instead\n",
      "\n",
      "See the caveats in the documentation: https://pandas.pydata.org/pandas-docs/stable/user_guide/indexing.html#returning-a-view-versus-a-copy\n",
      "  prophet_data_test['ds'] = pd.to_datetime(prophet_data_test['ds'])\n",
      "17:15:47 - cmdstanpy - INFO - Chain [1] start processing\n",
      "17:15:48 - cmdstanpy - INFO - Chain [1] done processing\n",
      "/var/tmp/ipykernel_1903582/1261245201.py:12: SettingWithCopyWarning: \n",
      "A value is trying to be set on a copy of a slice from a DataFrame.\n",
      "Try using .loc[row_indexer,col_indexer] = value instead\n",
      "\n",
      "See the caveats in the documentation: https://pandas.pydata.org/pandas-docs/stable/user_guide/indexing.html#returning-a-view-versus-a-copy\n",
      "  prophet_data_train['ds'] = pd.to_datetime(prophet_data_train['ds'])\n",
      "/var/tmp/ipykernel_1903582/1261245201.py:13: SettingWithCopyWarning: \n",
      "A value is trying to be set on a copy of a slice from a DataFrame.\n",
      "Try using .loc[row_indexer,col_indexer] = value instead\n",
      "\n",
      "See the caveats in the documentation: https://pandas.pydata.org/pandas-docs/stable/user_guide/indexing.html#returning-a-view-versus-a-copy\n",
      "  prophet_data_test['ds'] = pd.to_datetime(prophet_data_test['ds'])\n",
      "17:15:48 - cmdstanpy - INFO - Chain [1] start processing\n",
      "17:15:48 - cmdstanpy - INFO - Chain [1] done processing\n",
      "/var/tmp/ipykernel_1903582/1261245201.py:12: SettingWithCopyWarning: \n",
      "A value is trying to be set on a copy of a slice from a DataFrame.\n",
      "Try using .loc[row_indexer,col_indexer] = value instead\n",
      "\n",
      "See the caveats in the documentation: https://pandas.pydata.org/pandas-docs/stable/user_guide/indexing.html#returning-a-view-versus-a-copy\n",
      "  prophet_data_train['ds'] = pd.to_datetime(prophet_data_train['ds'])\n",
      "/var/tmp/ipykernel_1903582/1261245201.py:13: SettingWithCopyWarning: \n",
      "A value is trying to be set on a copy of a slice from a DataFrame.\n",
      "Try using .loc[row_indexer,col_indexer] = value instead\n",
      "\n",
      "See the caveats in the documentation: https://pandas.pydata.org/pandas-docs/stable/user_guide/indexing.html#returning-a-view-versus-a-copy\n",
      "  prophet_data_test['ds'] = pd.to_datetime(prophet_data_test['ds'])\n",
      "17:15:48 - cmdstanpy - INFO - Chain [1] start processing\n",
      "17:15:48 - cmdstanpy - INFO - Chain [1] done processing\n",
      "/var/tmp/ipykernel_1903582/1261245201.py:12: SettingWithCopyWarning: \n",
      "A value is trying to be set on a copy of a slice from a DataFrame.\n",
      "Try using .loc[row_indexer,col_indexer] = value instead\n",
      "\n",
      "See the caveats in the documentation: https://pandas.pydata.org/pandas-docs/stable/user_guide/indexing.html#returning-a-view-versus-a-copy\n",
      "  prophet_data_train['ds'] = pd.to_datetime(prophet_data_train['ds'])\n",
      "/var/tmp/ipykernel_1903582/1261245201.py:13: SettingWithCopyWarning: \n",
      "A value is trying to be set on a copy of a slice from a DataFrame.\n",
      "Try using .loc[row_indexer,col_indexer] = value instead\n",
      "\n",
      "See the caveats in the documentation: https://pandas.pydata.org/pandas-docs/stable/user_guide/indexing.html#returning-a-view-versus-a-copy\n",
      "  prophet_data_test['ds'] = pd.to_datetime(prophet_data_test['ds'])\n",
      "17:15:49 - cmdstanpy - INFO - Chain [1] start processing\n",
      "17:15:49 - cmdstanpy - INFO - Chain [1] done processing\n",
      "/var/tmp/ipykernel_1903582/1261245201.py:12: SettingWithCopyWarning: \n",
      "A value is trying to be set on a copy of a slice from a DataFrame.\n",
      "Try using .loc[row_indexer,col_indexer] = value instead\n",
      "\n",
      "See the caveats in the documentation: https://pandas.pydata.org/pandas-docs/stable/user_guide/indexing.html#returning-a-view-versus-a-copy\n",
      "  prophet_data_train['ds'] = pd.to_datetime(prophet_data_train['ds'])\n",
      "/var/tmp/ipykernel_1903582/1261245201.py:13: SettingWithCopyWarning: \n",
      "A value is trying to be set on a copy of a slice from a DataFrame.\n",
      "Try using .loc[row_indexer,col_indexer] = value instead\n",
      "\n",
      "See the caveats in the documentation: https://pandas.pydata.org/pandas-docs/stable/user_guide/indexing.html#returning-a-view-versus-a-copy\n",
      "  prophet_data_test['ds'] = pd.to_datetime(prophet_data_test['ds'])\n",
      "17:15:49 - cmdstanpy - INFO - Chain [1] start processing\n",
      "17:15:49 - cmdstanpy - INFO - Chain [1] done processing\n",
      "/opt/conda/lib/python3.10/site-packages/lightgbm/engine.py:172: UserWarning: Found `n_estimators` in params. Will use it instead of argument\n",
      "  _log_warning(f\"Found `{alias}` in params. Will use it instead of argument\")\n"
     ]
    },
    {
     "name": "stdout",
     "output_type": "stream",
     "text": [
      "Training until validation scores don't improve for 50 rounds\n",
      "Did not meet early stopping. Best iteration is:\n",
      "[1000]\tvalid_0's rmse: 6.66652\n",
      "Training until validation scores don't improve for 50 rounds\n"
     ]
    },
    {
     "name": "stderr",
     "output_type": "stream",
     "text": [
      "/opt/conda/lib/python3.10/site-packages/lightgbm/engine.py:172: UserWarning: Found `n_estimators` in params. Will use it instead of argument\n",
      "  _log_warning(f\"Found `{alias}` in params. Will use it instead of argument\")\n"
     ]
    },
    {
     "name": "stdout",
     "output_type": "stream",
     "text": [
      "Early stopping, best iteration is:\n",
      "[700]\tvalid_0's rmse: 9.8278\n",
      "Training until validation scores don't improve for 50 rounds\n"
     ]
    },
    {
     "name": "stderr",
     "output_type": "stream",
     "text": [
      "/opt/conda/lib/python3.10/site-packages/lightgbm/engine.py:172: UserWarning: Found `n_estimators` in params. Will use it instead of argument\n",
      "  _log_warning(f\"Found `{alias}` in params. Will use it instead of argument\")\n"
     ]
    },
    {
     "name": "stdout",
     "output_type": "stream",
     "text": [
      "Did not meet early stopping. Best iteration is:\n",
      "[1000]\tvalid_0's rmse: 6.31992\n",
      "Training until validation scores don't improve for 50 rounds\n"
     ]
    },
    {
     "name": "stderr",
     "output_type": "stream",
     "text": [
      "/opt/conda/lib/python3.10/site-packages/lightgbm/engine.py:172: UserWarning: Found `n_estimators` in params. Will use it instead of argument\n",
      "  _log_warning(f\"Found `{alias}` in params. Will use it instead of argument\")\n"
     ]
    },
    {
     "name": "stdout",
     "output_type": "stream",
     "text": [
      "Did not meet early stopping. Best iteration is:\n",
      "[999]\tvalid_0's rmse: 12.1025\n",
      "Training until validation scores don't improve for 50 rounds\n"
     ]
    },
    {
     "name": "stderr",
     "output_type": "stream",
     "text": [
      "/opt/conda/lib/python3.10/site-packages/lightgbm/engine.py:172: UserWarning: Found `n_estimators` in params. Will use it instead of argument\n",
      "  _log_warning(f\"Found `{alias}` in params. Will use it instead of argument\")\n"
     ]
    },
    {
     "name": "stdout",
     "output_type": "stream",
     "text": [
      "Did not meet early stopping. Best iteration is:\n",
      "[1000]\tvalid_0's rmse: 11.4288\n"
     ]
    },
    {
     "name": "stderr",
     "output_type": "stream",
     "text": [
      "GPU available: False, used: False\n",
      "TPU available: False, using: 0 TPU cores\n",
      "IPU available: False, using: 0 IPUs\n",
      "HPU available: False, using: 0 HPUs\n",
      "Missing logger folder: logs/tft_logs\n",
      "\n",
      "   | Name                              | Type                             | Params\n",
      "----------------------------------------------------------------------------------------\n",
      "0  | train_metrics                     | MetricCollection                 | 0     \n",
      "1  | val_metrics                       | MetricCollection                 | 0     \n",
      "2  | input_embeddings                  | _MultiEmbedding                  | 0     \n",
      "3  | static_covariates_vsn             | _VariableSelectionNetwork        | 0     \n",
      "4  | encoder_vsn                       | _VariableSelectionNetwork        | 93.0 K\n",
      "5  | decoder_vsn                       | _VariableSelectionNetwork        | 46.4 K\n",
      "6  | static_context_grn                | _GatedResidualNetwork            | 1.1 K \n",
      "7  | static_context_hidden_encoder_grn | _GatedResidualNetwork            | 1.1 K \n",
      "8  | static_context_cell_encoder_grn   | _GatedResidualNetwork            | 1.1 K \n",
      "9  | static_context_enrichment         | _GatedResidualNetwork            | 1.1 K \n",
      "10 | lstm_encoder                      | LSTM                             | 4.4 K \n",
      "11 | lstm_decoder                      | LSTM                             | 4.4 K \n",
      "12 | post_lstm_gan                     | _GateAddNorm                     | 576   \n",
      "13 | static_enrichment_grn             | _GatedResidualNetwork            | 1.4 K \n",
      "14 | multihead_attn                    | _InterpretableMultiHeadAttention | 676   \n",
      "15 | post_attn_gan                     | _GateAddNorm                     | 576   \n",
      "16 | feed_forward_block                | _GatedResidualNetwork            | 1.1 K \n",
      "17 | pre_output_gan                    | _GateAddNorm                     | 576   \n",
      "18 | output_layer                      | Linear                           | 289   \n",
      "----------------------------------------------------------------------------------------\n",
      "156 K     Trainable params\n",
      "0         Non-trainable params\n",
      "156 K     Total params\n",
      "0.627     Total estimated model params size (MB)\n"
     ]
    },
    {
     "data": {
      "application/vnd.jupyter.widget-view+json": {
       "model_id": "",
       "version_major": 2,
       "version_minor": 0
      },
      "text/plain": [
       "Sanity Checking: |          | 0/? [00:00<?, ?it/s]"
      ]
     },
     "metadata": {},
     "output_type": "display_data"
    },
    {
     "data": {
      "application/vnd.jupyter.widget-view+json": {
       "model_id": "1c5ae86082f648f7a6b6516d5ca1064e",
       "version_major": 2,
       "version_minor": 0
      },
      "text/plain": [
       "Training: |          | 0/? [00:00<?, ?it/s]"
      ]
     },
     "metadata": {},
     "output_type": "display_data"
    },
    {
     "data": {
      "application/vnd.jupyter.widget-view+json": {
       "model_id": "",
       "version_major": 2,
       "version_minor": 0
      },
      "text/plain": [
       "Validation: |          | 0/? [00:00<?, ?it/s]"
      ]
     },
     "metadata": {},
     "output_type": "display_data"
    },
    {
     "data": {
      "application/vnd.jupyter.widget-view+json": {
       "model_id": "",
       "version_major": 2,
       "version_minor": 0
      },
      "text/plain": [
       "Validation: |          | 0/? [00:00<?, ?it/s]"
      ]
     },
     "metadata": {},
     "output_type": "display_data"
    },
    {
     "data": {
      "application/vnd.jupyter.widget-view+json": {
       "model_id": "",
       "version_major": 2,
       "version_minor": 0
      },
      "text/plain": [
       "Validation: |          | 0/? [00:00<?, ?it/s]"
      ]
     },
     "metadata": {},
     "output_type": "display_data"
    },
    {
     "data": {
      "application/vnd.jupyter.widget-view+json": {
       "model_id": "",
       "version_major": 2,
       "version_minor": 0
      },
      "text/plain": [
       "Validation: |          | 0/? [00:00<?, ?it/s]"
      ]
     },
     "metadata": {},
     "output_type": "display_data"
    },
    {
     "data": {
      "application/vnd.jupyter.widget-view+json": {
       "model_id": "",
       "version_major": 2,
       "version_minor": 0
      },
      "text/plain": [
       "Validation: |          | 0/? [00:00<?, ?it/s]"
      ]
     },
     "metadata": {},
     "output_type": "display_data"
    },
    {
     "data": {
      "application/vnd.jupyter.widget-view+json": {
       "model_id": "",
       "version_major": 2,
       "version_minor": 0
      },
      "text/plain": [
       "Validation: |          | 0/? [00:00<?, ?it/s]"
      ]
     },
     "metadata": {},
     "output_type": "display_data"
    },
    {
     "data": {
      "application/vnd.jupyter.widget-view+json": {
       "model_id": "",
       "version_major": 2,
       "version_minor": 0
      },
      "text/plain": [
       "Validation: |          | 0/? [00:00<?, ?it/s]"
      ]
     },
     "metadata": {},
     "output_type": "display_data"
    },
    {
     "data": {
      "application/vnd.jupyter.widget-view+json": {
       "model_id": "",
       "version_major": 2,
       "version_minor": 0
      },
      "text/plain": [
       "Validation: |          | 0/? [00:00<?, ?it/s]"
      ]
     },
     "metadata": {},
     "output_type": "display_data"
    },
    {
     "data": {
      "application/vnd.jupyter.widget-view+json": {
       "model_id": "",
       "version_major": 2,
       "version_minor": 0
      },
      "text/plain": [
       "Validation: |          | 0/? [00:00<?, ?it/s]"
      ]
     },
     "metadata": {},
     "output_type": "display_data"
    },
    {
     "data": {
      "application/vnd.jupyter.widget-view+json": {
       "model_id": "",
       "version_major": 2,
       "version_minor": 0
      },
      "text/plain": [
       "Validation: |          | 0/? [00:00<?, ?it/s]"
      ]
     },
     "metadata": {},
     "output_type": "display_data"
    },
    {
     "data": {
      "application/vnd.jupyter.widget-view+json": {
       "model_id": "",
       "version_major": 2,
       "version_minor": 0
      },
      "text/plain": [
       "Validation: |          | 0/? [00:00<?, ?it/s]"
      ]
     },
     "metadata": {},
     "output_type": "display_data"
    },
    {
     "data": {
      "application/vnd.jupyter.widget-view+json": {
       "model_id": "",
       "version_major": 2,
       "version_minor": 0
      },
      "text/plain": [
       "Validation: |          | 0/? [00:00<?, ?it/s]"
      ]
     },
     "metadata": {},
     "output_type": "display_data"
    },
    {
     "data": {
      "application/vnd.jupyter.widget-view+json": {
       "model_id": "",
       "version_major": 2,
       "version_minor": 0
      },
      "text/plain": [
       "Validation: |          | 0/? [00:00<?, ?it/s]"
      ]
     },
     "metadata": {},
     "output_type": "display_data"
    },
    {
     "data": {
      "application/vnd.jupyter.widget-view+json": {
       "model_id": "",
       "version_major": 2,
       "version_minor": 0
      },
      "text/plain": [
       "Validation: |          | 0/? [00:00<?, ?it/s]"
      ]
     },
     "metadata": {},
     "output_type": "display_data"
    },
    {
     "data": {
      "application/vnd.jupyter.widget-view+json": {
       "model_id": "",
       "version_major": 2,
       "version_minor": 0
      },
      "text/plain": [
       "Validation: |          | 0/? [00:00<?, ?it/s]"
      ]
     },
     "metadata": {},
     "output_type": "display_data"
    },
    {
     "data": {
      "application/vnd.jupyter.widget-view+json": {
       "model_id": "",
       "version_major": 2,
       "version_minor": 0
      },
      "text/plain": [
       "Validation: |          | 0/? [00:00<?, ?it/s]"
      ]
     },
     "metadata": {},
     "output_type": "display_data"
    },
    {
     "data": {
      "application/vnd.jupyter.widget-view+json": {
       "model_id": "",
       "version_major": 2,
       "version_minor": 0
      },
      "text/plain": [
       "Validation: |          | 0/? [00:00<?, ?it/s]"
      ]
     },
     "metadata": {},
     "output_type": "display_data"
    },
    {
     "data": {
      "application/vnd.jupyter.widget-view+json": {
       "model_id": "",
       "version_major": 2,
       "version_minor": 0
      },
      "text/plain": [
       "Validation: |          | 0/? [00:00<?, ?it/s]"
      ]
     },
     "metadata": {},
     "output_type": "display_data"
    },
    {
     "data": {
      "application/vnd.jupyter.widget-view+json": {
       "model_id": "",
       "version_major": 2,
       "version_minor": 0
      },
      "text/plain": [
       "Validation: |          | 0/? [00:00<?, ?it/s]"
      ]
     },
     "metadata": {},
     "output_type": "display_data"
    },
    {
     "data": {
      "application/vnd.jupyter.widget-view+json": {
       "model_id": "",
       "version_major": 2,
       "version_minor": 0
      },
      "text/plain": [
       "Validation: |          | 0/? [00:00<?, ?it/s]"
      ]
     },
     "metadata": {},
     "output_type": "display_data"
    },
    {
     "data": {
      "application/vnd.jupyter.widget-view+json": {
       "model_id": "",
       "version_major": 2,
       "version_minor": 0
      },
      "text/plain": [
       "Validation: |          | 0/? [00:00<?, ?it/s]"
      ]
     },
     "metadata": {},
     "output_type": "display_data"
    },
    {
     "name": "stdout",
     "output_type": "stream",
     "text": [
      "{'ARIMA': {'rmsse': 0.8093869434567427, 'model': ARIMA(order=(4, 1, 3), scoring_args={}, suppress_warnings=True,\n",
      "      with_intercept=False)}, 'ExponentialSmoothing': {'rmsse': 0.7551216953269669, 'model': <statsmodels.tsa.holtwinters.results.HoltWintersResultsWrapper object at 0x7f7203cb8f10>}, 'Prophet': {'rmsse': 0.6090173588399804, 'model': <prophet.forecaster.Prophet object at 0x7f7201b12f20>}, 'LightGBM': {'rmsse': 1.1112715503641795, 'model': <lightgbm.basic.Booster object at 0x7f7203ea9120>}, 'RandomForest': {'rmsse': 0.7691705632340989, 'model': RandomForestRegressor(random_state=42)}, 'DartsTFT': {'rmsse': 10.158787388955393, 'model': TFTModel(output_chunk_shift=0, hidden_size=16, lstm_layers=2, num_attention_heads=4, full_attention=False, feed_forward=GatedResidualNetwork, dropout=0.2, hidden_continuous_size=8, categorical_embedding_sizes=None, add_relative_index=False, loss_fn=None, likelihood=None, norm_type=LayerNorm, use_static_covariates=True, input_chunk_length=56, output_chunk_length=28, pl_trainer_kwargs={'callbacks': [<pytorch_lightning.callbacks.early_stopping.EarlyStopping object at 0x7f7203d10760>], 'accelerator': 'cpu', 'logger': <pytorch_lightning.loggers.csv_logs.CSVLogger object at 0x7f7203d10ca0>}, batch_size=16, torch_metrics=MeanAbsoluteError(), n_epochs=50)}}\n",
      "Model results for FOODS_3_555_TX_2_validation\n",
      "Best model: Prophet\n",
      "Best score: 0.6090173588399804\n",
      "Analyzing product: FOODS_3_090_TX_1_validation\n"
     ]
    },
    {
     "name": "stderr",
     "output_type": "stream",
     "text": [
      "[I 2024-05-15 17:36:39,400] A new study created in memory with name: no-name-2271066d-d6d2-44ea-97c6-0eb9a9097d7c\n"
     ]
    },
    {
     "name": "stdout",
     "output_type": "stream",
     "text": [
      "Optimizing hyperparameters for product: FOODS_3_090_TX_1_validation\n"
     ]
    },
    {
     "name": "stderr",
     "output_type": "stream",
     "text": [
      "[I 2024-05-15 17:36:39,908] Trial 1 finished with value: 1.2489933747504298 and parameters: {'trend': 'add', 'seasonal': None, 'seasonal_periods': 4}. Best is trial 1 with value: 1.2489933747504298.\n",
      "[I 2024-05-15 17:36:40,021] Trial 5 finished with value: 1.2489933747504298 and parameters: {'trend': 'add', 'seasonal': None, 'seasonal_periods': 7}. Best is trial 1 with value: 1.2489933747504298.\n",
      "[I 2024-05-15 17:36:40,203] Trial 7 finished with value: 1.2489933747504298 and parameters: {'trend': 'add', 'seasonal': None, 'seasonal_periods': 12}. Best is trial 1 with value: 1.2489933747504298.\n",
      "[I 2024-05-15 17:36:40,243] Trial 2 finished with value: 1.2489933747504298 and parameters: {'trend': 'add', 'seasonal': None, 'seasonal_periods': None}. Best is trial 1 with value: 1.2489933747504298.\n",
      "[I 2024-05-15 17:36:40,332] Trial 9 finished with value: 1.2489933747504298 and parameters: {'trend': 'add', 'seasonal': None, 'seasonal_periods': None}. Best is trial 1 with value: 1.2489933747504298.\n",
      "[I 2024-05-15 17:36:40,359] Trial 4 finished with value: 1.2489933747504298 and parameters: {'trend': 'add', 'seasonal': None, 'seasonal_periods': 4}. Best is trial 1 with value: 1.2489933747504298.\n",
      "[I 2024-05-15 17:36:40,501] Trial 6 finished with value: 1.2489933747504298 and parameters: {'trend': 'add', 'seasonal': None, 'seasonal_periods': 12}. Best is trial 1 with value: 1.2489933747504298.\n",
      "[I 2024-05-15 17:36:40,650] Trial 0 finished with value: 0.9351632047508202 and parameters: {'trend': 'add', 'seasonal': 'add', 'seasonal_periods': 7}. Best is trial 0 with value: 0.9351632047508202.\n",
      "[I 2024-05-15 17:36:40,708] Trial 3 finished with value: 1.3186562061125455 and parameters: {'trend': 'add', 'seasonal': 'add', 'seasonal_periods': 4}. Best is trial 0 with value: 0.9351632047508202.\n",
      "[I 2024-05-15 17:36:40,723] Trial 8 finished with value: 0.9351632047508202 and parameters: {'trend': 'add', 'seasonal': 'add', 'seasonal_periods': 7}. Best is trial 0 with value: 0.9351632047508202.\n",
      "/opt/conda/lib/python3.10/site-packages/statsmodels/tsa/base/tsa_model.py:473: ValueWarning: No frequency information was provided, so inferred frequency D will be used.\n",
      "  self._init_dates(dates, freq)\n",
      "[I 2024-05-15 17:36:40,984] A new study created in memory with name: no-name-e6cefd9c-1e7c-4f99-ae2a-a3c4f28a6bf6\n"
     ]
    },
    {
     "name": "stdout",
     "output_type": "stream",
     "text": [
      "Optimizing hyperparameters for product: FOODS_3_090_TX_1_validation\n"
     ]
    },
    {
     "name": "stderr",
     "output_type": "stream",
     "text": [
      "[I 2024-05-15 17:36:41,393] Trial 3 finished with value: 0.5868646996028444 and parameters: {'trend': 'add', 'seasonal': None, 'seasonal_periods': 7}. Best is trial 3 with value: 0.5868646996028444.\n",
      "[I 2024-05-15 17:36:41,640] Trial 1 finished with value: 0.5868646996028444 and parameters: {'trend': 'add', 'seasonal': None, 'seasonal_periods': 12}. Best is trial 3 with value: 0.5868646996028444.\n",
      "[I 2024-05-15 17:36:41,778] Trial 6 finished with value: 0.5868646996028444 and parameters: {'trend': 'add', 'seasonal': None, 'seasonal_periods': 12}. Best is trial 3 with value: 0.5868646996028444.\n",
      "[I 2024-05-15 17:36:41,903] Trial 8 finished with value: 0.5868646996028444 and parameters: {'trend': 'add', 'seasonal': None, 'seasonal_periods': None}. Best is trial 3 with value: 0.5868646996028444.\n",
      "[I 2024-05-15 17:36:41,938] Trial 4 finished with value: 0.5868646996028444 and parameters: {'trend': 'add', 'seasonal': None, 'seasonal_periods': 4}. Best is trial 3 with value: 0.5868646996028444.\n",
      "[I 2024-05-15 17:36:42,428] Trial 2 finished with value: 0.4931783879387054 and parameters: {'trend': 'add', 'seasonal': 'add', 'seasonal_periods': 7}. Best is trial 2 with value: 0.4931783879387054.\n",
      "[I 2024-05-15 17:36:42,707] Trial 5 finished with value: 0.4931783879387054 and parameters: {'trend': 'add', 'seasonal': 'add', 'seasonal_periods': None}. Best is trial 2 with value: 0.4931783879387054.\n",
      "[I 2024-05-15 17:36:42,717] Trial 0 finished with value: 0.6155542850007834 and parameters: {'trend': 'add', 'seasonal': 'add', 'seasonal_periods': 4}. Best is trial 2 with value: 0.4931783879387054.\n",
      "[I 2024-05-15 17:36:42,744] Trial 9 finished with value: 0.4931783879387054 and parameters: {'trend': 'add', 'seasonal': 'add', 'seasonal_periods': 7}. Best is trial 2 with value: 0.4931783879387054.\n",
      "[I 2024-05-15 17:36:42,750] Trial 7 finished with value: 0.4931783879387054 and parameters: {'trend': 'add', 'seasonal': 'add', 'seasonal_periods': None}. Best is trial 2 with value: 0.4931783879387054.\n",
      "/opt/conda/lib/python3.10/site-packages/statsmodels/tsa/base/tsa_model.py:473: ValueWarning: No frequency information was provided, so inferred frequency D will be used.\n",
      "  self._init_dates(dates, freq)\n",
      "[I 2024-05-15 17:36:43,003] A new study created in memory with name: no-name-5b7461eb-1182-47a8-a215-ebfadfe05b1b\n"
     ]
    },
    {
     "name": "stdout",
     "output_type": "stream",
     "text": [
      "Optimizing hyperparameters for product: FOODS_3_090_TX_1_validation\n"
     ]
    },
    {
     "name": "stderr",
     "output_type": "stream",
     "text": [
      "[I 2024-05-15 17:36:43,223] Trial 1 finished with value: 0.8219589366764786 and parameters: {'trend': 'add', 'seasonal': None, 'seasonal_periods': 4}. Best is trial 1 with value: 0.8219589366764786.\n",
      "[I 2024-05-15 17:36:43,238] Trial 0 finished with value: 0.8219589366764786 and parameters: {'trend': 'add', 'seasonal': None, 'seasonal_periods': 12}. Best is trial 1 with value: 0.8219589366764786.\n",
      "[I 2024-05-15 17:36:43,337] Trial 3 finished with value: 0.8219589366764786 and parameters: {'trend': 'add', 'seasonal': None, 'seasonal_periods': 7}. Best is trial 1 with value: 0.8219589366764786.\n",
      "[I 2024-05-15 17:36:43,732] Trial 8 finished with value: 0.8219589366764786 and parameters: {'trend': 'add', 'seasonal': None, 'seasonal_periods': 12}. Best is trial 1 with value: 0.8219589366764786.\n",
      "[I 2024-05-15 17:36:43,740] Trial 9 finished with value: 0.8219589366764786 and parameters: {'trend': 'add', 'seasonal': None, 'seasonal_periods': 12}. Best is trial 1 with value: 0.8219589366764786.\n",
      "[I 2024-05-15 17:36:44,422] Trial 2 finished with value: 0.8792840753219662 and parameters: {'trend': 'add', 'seasonal': 'add', 'seasonal_periods': 12}. Best is trial 1 with value: 0.8219589366764786.\n",
      "[I 2024-05-15 17:36:44,550] Trial 5 finished with value: 0.6651862507510474 and parameters: {'trend': 'add', 'seasonal': 'add', 'seasonal_periods': None}. Best is trial 5 with value: 0.6651862507510474.\n",
      "[I 2024-05-15 17:36:44,646] Trial 4 finished with value: 0.8759438453736054 and parameters: {'trend': 'add', 'seasonal': 'add', 'seasonal_periods': 4}. Best is trial 5 with value: 0.6651862507510474.\n",
      "[I 2024-05-15 17:36:44,689] Trial 6 finished with value: 0.6651862507510474 and parameters: {'trend': 'add', 'seasonal': 'add', 'seasonal_periods': None}. Best is trial 5 with value: 0.6651862507510474.\n",
      "[I 2024-05-15 17:36:44,730] Trial 7 finished with value: 0.6651862507510474 and parameters: {'trend': 'add', 'seasonal': 'add', 'seasonal_periods': None}. Best is trial 5 with value: 0.6651862507510474.\n",
      "/opt/conda/lib/python3.10/site-packages/statsmodels/tsa/base/tsa_model.py:473: ValueWarning: No frequency information was provided, so inferred frequency D will be used.\n",
      "  self._init_dates(dates, freq)\n",
      "[I 2024-05-15 17:36:44,978] A new study created in memory with name: no-name-5749324f-7f92-4e49-8ef9-51b82492874b\n"
     ]
    },
    {
     "name": "stdout",
     "output_type": "stream",
     "text": [
      "Optimizing hyperparameters for product: FOODS_3_090_TX_1_validation\n"
     ]
    },
    {
     "name": "stderr",
     "output_type": "stream",
     "text": [
      "[I 2024-05-15 17:36:45,209] Trial 0 finished with value: 2.174898343091509 and parameters: {'trend': 'add', 'seasonal': None, 'seasonal_periods': 7}. Best is trial 0 with value: 2.174898343091509.\n",
      "[I 2024-05-15 17:36:45,282] Trial 1 finished with value: 2.174898343091509 and parameters: {'trend': 'add', 'seasonal': None, 'seasonal_periods': 4}. Best is trial 0 with value: 2.174898343091509.\n",
      "[I 2024-05-15 17:36:45,511] Trial 3 finished with value: 2.174898343091509 and parameters: {'trend': 'add', 'seasonal': None, 'seasonal_periods': None}. Best is trial 0 with value: 2.174898343091509.\n",
      "[I 2024-05-15 17:36:46,035] Trial 6 finished with value: 2.174898343091509 and parameters: {'trend': 'add', 'seasonal': None, 'seasonal_periods': 7}. Best is trial 0 with value: 2.174898343091509.\n",
      "[I 2024-05-15 17:36:46,043] Trial 5 finished with value: 2.174898343091509 and parameters: {'trend': 'add', 'seasonal': None, 'seasonal_periods': 4}. Best is trial 0 with value: 2.174898343091509.\n",
      "[I 2024-05-15 17:36:46,518] Trial 2 finished with value: 2.264377567052419 and parameters: {'trend': 'add', 'seasonal': 'add', 'seasonal_periods': 12}. Best is trial 0 with value: 2.174898343091509.\n",
      "[I 2024-05-15 17:36:46,583] Trial 4 finished with value: 2.4139337720739458 and parameters: {'trend': 'add', 'seasonal': 'add', 'seasonal_periods': 7}. Best is trial 0 with value: 2.174898343091509.\n",
      "[I 2024-05-15 17:36:46,627] Trial 9 finished with value: 2.4139337720739458 and parameters: {'trend': 'add', 'seasonal': 'add', 'seasonal_periods': None}. Best is trial 0 with value: 2.174898343091509.\n",
      "[I 2024-05-15 17:36:46,675] Trial 7 finished with value: 2.4139337720739458 and parameters: {'trend': 'add', 'seasonal': 'add', 'seasonal_periods': 7}. Best is trial 0 with value: 2.174898343091509.\n",
      "[I 2024-05-15 17:36:46,695] Trial 8 finished with value: 2.20969731239541 and parameters: {'trend': 'add', 'seasonal': 'add', 'seasonal_periods': 4}. Best is trial 0 with value: 2.174898343091509.\n",
      "/opt/conda/lib/python3.10/site-packages/statsmodels/tsa/base/tsa_model.py:473: ValueWarning: No frequency information was provided, so inferred frequency D will be used.\n",
      "  self._init_dates(dates, freq)\n",
      "[I 2024-05-15 17:36:46,742] A new study created in memory with name: no-name-1c6a2d05-9fd0-4fda-9ee4-597c52a4ee53\n"
     ]
    },
    {
     "name": "stdout",
     "output_type": "stream",
     "text": [
      "Optimizing hyperparameters for product: FOODS_3_090_TX_1_validation\n"
     ]
    },
    {
     "name": "stderr",
     "output_type": "stream",
     "text": [
      "[I 2024-05-15 17:36:47,174] Trial 0 finished with value: 0.27428845811434327 and parameters: {'trend': 'add', 'seasonal': None, 'seasonal_periods': 7}. Best is trial 0 with value: 0.27428845811434327.\n",
      "[I 2024-05-15 17:36:47,208] Trial 2 finished with value: 0.27428845811434327 and parameters: {'trend': 'add', 'seasonal': None, 'seasonal_periods': 7}. Best is trial 0 with value: 0.27428845811434327.\n",
      "[I 2024-05-15 17:36:47,292] Trial 1 finished with value: 0.27428845811434327 and parameters: {'trend': 'add', 'seasonal': None, 'seasonal_periods': None}. Best is trial 0 with value: 0.27428845811434327.\n",
      "[I 2024-05-15 17:36:47,535] Trial 3 finished with value: 0.27428845811434327 and parameters: {'trend': 'add', 'seasonal': None, 'seasonal_periods': 7}. Best is trial 0 with value: 0.27428845811434327.\n",
      "[I 2024-05-15 17:36:48,513] Trial 5 finished with value: 0.5699883722121972 and parameters: {'trend': 'add', 'seasonal': 'add', 'seasonal_periods': 7}. Best is trial 0 with value: 0.27428845811434327.\n",
      "[I 2024-05-15 17:36:48,612] Trial 4 finished with value: 0.5699883722121972 and parameters: {'trend': 'add', 'seasonal': 'add', 'seasonal_periods': None}. Best is trial 0 with value: 0.27428845811434327.\n",
      "[I 2024-05-15 17:36:48,613] Trial 6 finished with value: 0.5699883722121972 and parameters: {'trend': 'add', 'seasonal': 'add', 'seasonal_periods': 7}. Best is trial 0 with value: 0.27428845811434327.\n",
      "[I 2024-05-15 17:36:48,651] Trial 8 finished with value: 0.3760696403399512 and parameters: {'trend': 'add', 'seasonal': 'add', 'seasonal_periods': 12}. Best is trial 0 with value: 0.27428845811434327.\n",
      "[I 2024-05-15 17:36:48,708] Trial 7 finished with value: 0.5699883722121972 and parameters: {'trend': 'add', 'seasonal': 'add', 'seasonal_periods': None}. Best is trial 0 with value: 0.27428845811434327.\n",
      "[I 2024-05-15 17:36:48,727] Trial 9 finished with value: 0.5699883722121972 and parameters: {'trend': 'add', 'seasonal': 'add', 'seasonal_periods': 7}. Best is trial 0 with value: 0.27428845811434327.\n",
      "/opt/conda/lib/python3.10/site-packages/statsmodels/tsa/base/tsa_model.py:473: ValueWarning: No frequency information was provided, so inferred frequency D will be used.\n",
      "  self._init_dates(dates, freq)\n",
      "/var/tmp/ipykernel_1903582/1261245201.py:12: SettingWithCopyWarning: \n",
      "A value is trying to be set on a copy of a slice from a DataFrame.\n",
      "Try using .loc[row_indexer,col_indexer] = value instead\n",
      "\n",
      "See the caveats in the documentation: https://pandas.pydata.org/pandas-docs/stable/user_guide/indexing.html#returning-a-view-versus-a-copy\n",
      "  prophet_data_train['ds'] = pd.to_datetime(prophet_data_train['ds'])\n",
      "/var/tmp/ipykernel_1903582/1261245201.py:13: SettingWithCopyWarning: \n",
      "A value is trying to be set on a copy of a slice from a DataFrame.\n",
      "Try using .loc[row_indexer,col_indexer] = value instead\n",
      "\n",
      "See the caveats in the documentation: https://pandas.pydata.org/pandas-docs/stable/user_guide/indexing.html#returning-a-view-versus-a-copy\n",
      "  prophet_data_test['ds'] = pd.to_datetime(prophet_data_test['ds'])\n",
      "17:36:48 - cmdstanpy - INFO - Chain [1] start processing\n",
      "17:36:49 - cmdstanpy - INFO - Chain [1] done processing\n",
      "/var/tmp/ipykernel_1903582/1261245201.py:12: SettingWithCopyWarning: \n",
      "A value is trying to be set on a copy of a slice from a DataFrame.\n",
      "Try using .loc[row_indexer,col_indexer] = value instead\n",
      "\n",
      "See the caveats in the documentation: https://pandas.pydata.org/pandas-docs/stable/user_guide/indexing.html#returning-a-view-versus-a-copy\n",
      "  prophet_data_train['ds'] = pd.to_datetime(prophet_data_train['ds'])\n",
      "/var/tmp/ipykernel_1903582/1261245201.py:13: SettingWithCopyWarning: \n",
      "A value is trying to be set on a copy of a slice from a DataFrame.\n",
      "Try using .loc[row_indexer,col_indexer] = value instead\n",
      "\n",
      "See the caveats in the documentation: https://pandas.pydata.org/pandas-docs/stable/user_guide/indexing.html#returning-a-view-versus-a-copy\n",
      "  prophet_data_test['ds'] = pd.to_datetime(prophet_data_test['ds'])\n",
      "17:36:49 - cmdstanpy - INFO - Chain [1] start processing\n",
      "17:36:49 - cmdstanpy - INFO - Chain [1] done processing\n",
      "/var/tmp/ipykernel_1903582/1261245201.py:12: SettingWithCopyWarning: \n",
      "A value is trying to be set on a copy of a slice from a DataFrame.\n",
      "Try using .loc[row_indexer,col_indexer] = value instead\n",
      "\n",
      "See the caveats in the documentation: https://pandas.pydata.org/pandas-docs/stable/user_guide/indexing.html#returning-a-view-versus-a-copy\n",
      "  prophet_data_train['ds'] = pd.to_datetime(prophet_data_train['ds'])\n",
      "/var/tmp/ipykernel_1903582/1261245201.py:13: SettingWithCopyWarning: \n",
      "A value is trying to be set on a copy of a slice from a DataFrame.\n",
      "Try using .loc[row_indexer,col_indexer] = value instead\n",
      "\n",
      "See the caveats in the documentation: https://pandas.pydata.org/pandas-docs/stable/user_guide/indexing.html#returning-a-view-versus-a-copy\n",
      "  prophet_data_test['ds'] = pd.to_datetime(prophet_data_test['ds'])\n",
      "17:36:49 - cmdstanpy - INFO - Chain [1] start processing\n",
      "17:36:49 - cmdstanpy - INFO - Chain [1] done processing\n",
      "/var/tmp/ipykernel_1903582/1261245201.py:12: SettingWithCopyWarning: \n",
      "A value is trying to be set on a copy of a slice from a DataFrame.\n",
      "Try using .loc[row_indexer,col_indexer] = value instead\n",
      "\n",
      "See the caveats in the documentation: https://pandas.pydata.org/pandas-docs/stable/user_guide/indexing.html#returning-a-view-versus-a-copy\n",
      "  prophet_data_train['ds'] = pd.to_datetime(prophet_data_train['ds'])\n",
      "/var/tmp/ipykernel_1903582/1261245201.py:13: SettingWithCopyWarning: \n",
      "A value is trying to be set on a copy of a slice from a DataFrame.\n",
      "Try using .loc[row_indexer,col_indexer] = value instead\n",
      "\n",
      "See the caveats in the documentation: https://pandas.pydata.org/pandas-docs/stable/user_guide/indexing.html#returning-a-view-versus-a-copy\n",
      "  prophet_data_test['ds'] = pd.to_datetime(prophet_data_test['ds'])\n",
      "17:36:49 - cmdstanpy - INFO - Chain [1] start processing\n",
      "17:36:50 - cmdstanpy - INFO - Chain [1] done processing\n",
      "/var/tmp/ipykernel_1903582/1261245201.py:12: SettingWithCopyWarning: \n",
      "A value is trying to be set on a copy of a slice from a DataFrame.\n",
      "Try using .loc[row_indexer,col_indexer] = value instead\n",
      "\n",
      "See the caveats in the documentation: https://pandas.pydata.org/pandas-docs/stable/user_guide/indexing.html#returning-a-view-versus-a-copy\n",
      "  prophet_data_train['ds'] = pd.to_datetime(prophet_data_train['ds'])\n",
      "/var/tmp/ipykernel_1903582/1261245201.py:13: SettingWithCopyWarning: \n",
      "A value is trying to be set on a copy of a slice from a DataFrame.\n",
      "Try using .loc[row_indexer,col_indexer] = value instead\n",
      "\n",
      "See the caveats in the documentation: https://pandas.pydata.org/pandas-docs/stable/user_guide/indexing.html#returning-a-view-versus-a-copy\n",
      "  prophet_data_test['ds'] = pd.to_datetime(prophet_data_test['ds'])\n",
      "17:36:50 - cmdstanpy - INFO - Chain [1] start processing\n",
      "17:36:50 - cmdstanpy - INFO - Chain [1] done processing\n",
      "/opt/conda/lib/python3.10/site-packages/lightgbm/engine.py:172: UserWarning: Found `n_estimators` in params. Will use it instead of argument\n",
      "  _log_warning(f\"Found `{alias}` in params. Will use it instead of argument\")\n"
     ]
    },
    {
     "name": "stdout",
     "output_type": "stream",
     "text": [
      "Training until validation scores don't improve for 50 rounds\n",
      "Did not meet early stopping. Best iteration is:\n",
      "[1000]\tvalid_0's rmse: 13.5256\n",
      "Training until validation scores don't improve for 50 rounds\n"
     ]
    },
    {
     "name": "stderr",
     "output_type": "stream",
     "text": [
      "/opt/conda/lib/python3.10/site-packages/lightgbm/engine.py:172: UserWarning: Found `n_estimators` in params. Will use it instead of argument\n",
      "  _log_warning(f\"Found `{alias}` in params. Will use it instead of argument\")\n"
     ]
    },
    {
     "name": "stdout",
     "output_type": "stream",
     "text": [
      "Did not meet early stopping. Best iteration is:\n",
      "[1000]\tvalid_0's rmse: 15.2046\n",
      "Training until validation scores don't improve for 50 rounds\n"
     ]
    },
    {
     "name": "stderr",
     "output_type": "stream",
     "text": [
      "/opt/conda/lib/python3.10/site-packages/lightgbm/engine.py:172: UserWarning: Found `n_estimators` in params. Will use it instead of argument\n",
      "  _log_warning(f\"Found `{alias}` in params. Will use it instead of argument\")\n"
     ]
    },
    {
     "name": "stdout",
     "output_type": "stream",
     "text": [
      "Did not meet early stopping. Best iteration is:\n",
      "[997]\tvalid_0's rmse: 12.4489\n",
      "Training until validation scores don't improve for 50 rounds\n"
     ]
    },
    {
     "name": "stderr",
     "output_type": "stream",
     "text": [
      "/opt/conda/lib/python3.10/site-packages/lightgbm/engine.py:172: UserWarning: Found `n_estimators` in params. Will use it instead of argument\n",
      "  _log_warning(f\"Found `{alias}` in params. Will use it instead of argument\")\n"
     ]
    },
    {
     "name": "stdout",
     "output_type": "stream",
     "text": [
      "Early stopping, best iteration is:\n",
      "[559]\tvalid_0's rmse: 3.31339\n",
      "Training until validation scores don't improve for 50 rounds\n"
     ]
    },
    {
     "name": "stderr",
     "output_type": "stream",
     "text": [
      "/opt/conda/lib/python3.10/site-packages/lightgbm/engine.py:172: UserWarning: Found `n_estimators` in params. Will use it instead of argument\n",
      "  _log_warning(f\"Found `{alias}` in params. Will use it instead of argument\")\n"
     ]
    },
    {
     "name": "stdout",
     "output_type": "stream",
     "text": [
      "Did not meet early stopping. Best iteration is:\n",
      "[999]\tvalid_0's rmse: 17.9044\n"
     ]
    },
    {
     "name": "stderr",
     "output_type": "stream",
     "text": [
      "GPU available: False, used: False\n",
      "TPU available: False, using: 0 TPU cores\n",
      "IPU available: False, using: 0 IPUs\n",
      "HPU available: False, using: 0 HPUs\n",
      "Missing logger folder: logs/tft_logs\n",
      "\n",
      "   | Name                              | Type                             | Params\n",
      "----------------------------------------------------------------------------------------\n",
      "0  | train_metrics                     | MetricCollection                 | 0     \n",
      "1  | val_metrics                       | MetricCollection                 | 0     \n",
      "2  | input_embeddings                  | _MultiEmbedding                  | 0     \n",
      "3  | static_covariates_vsn             | _VariableSelectionNetwork        | 0     \n",
      "4  | encoder_vsn                       | _VariableSelectionNetwork        | 93.0 K\n",
      "5  | decoder_vsn                       | _VariableSelectionNetwork        | 46.4 K\n",
      "6  | static_context_grn                | _GatedResidualNetwork            | 1.1 K \n",
      "7  | static_context_hidden_encoder_grn | _GatedResidualNetwork            | 1.1 K \n",
      "8  | static_context_cell_encoder_grn   | _GatedResidualNetwork            | 1.1 K \n",
      "9  | static_context_enrichment         | _GatedResidualNetwork            | 1.1 K \n",
      "10 | lstm_encoder                      | LSTM                             | 4.4 K \n",
      "11 | lstm_decoder                      | LSTM                             | 4.4 K \n",
      "12 | post_lstm_gan                     | _GateAddNorm                     | 576   \n",
      "13 | static_enrichment_grn             | _GatedResidualNetwork            | 1.4 K \n",
      "14 | multihead_attn                    | _InterpretableMultiHeadAttention | 676   \n",
      "15 | post_attn_gan                     | _GateAddNorm                     | 576   \n",
      "16 | feed_forward_block                | _GatedResidualNetwork            | 1.1 K \n",
      "17 | pre_output_gan                    | _GateAddNorm                     | 576   \n",
      "18 | output_layer                      | Linear                           | 289   \n",
      "----------------------------------------------------------------------------------------\n",
      "156 K     Trainable params\n",
      "0         Non-trainable params\n",
      "156 K     Total params\n",
      "0.627     Total estimated model params size (MB)\n"
     ]
    },
    {
     "data": {
      "application/vnd.jupyter.widget-view+json": {
       "model_id": "e33c8f86b1f5473f8e3dd7b24437ab35",
       "version_major": 2,
       "version_minor": 0
      },
      "text/plain": [
       "Sanity Checking: |          | 0/? [00:00<?, ?it/s]"
      ]
     },
     "metadata": {},
     "output_type": "display_data"
    },
    {
     "data": {
      "application/vnd.jupyter.widget-view+json": {
       "model_id": "da4add82fd634ca080465bffefbe75c1",
       "version_major": 2,
       "version_minor": 0
      },
      "text/plain": [
       "Training: |          | 0/? [00:00<?, ?it/s]"
      ]
     },
     "metadata": {},
     "output_type": "display_data"
    },
    {
     "data": {
      "application/vnd.jupyter.widget-view+json": {
       "model_id": "e53d2d2dbbe64c498bf416c40eb9227f",
       "version_major": 2,
       "version_minor": 0
      },
      "text/plain": [
       "Validation: |          | 0/? [00:00<?, ?it/s]"
      ]
     },
     "metadata": {},
     "output_type": "display_data"
    },
    {
     "data": {
      "application/vnd.jupyter.widget-view+json": {
       "model_id": "f5594e0affe749f5b24501a8a26aacc7",
       "version_major": 2,
       "version_minor": 0
      },
      "text/plain": [
       "Validation: |          | 0/? [00:00<?, ?it/s]"
      ]
     },
     "metadata": {},
     "output_type": "display_data"
    },
    {
     "data": {
      "application/vnd.jupyter.widget-view+json": {
       "model_id": "f8694e2e52e742469662cfccc37e03c3",
       "version_major": 2,
       "version_minor": 0
      },
      "text/plain": [
       "Validation: |          | 0/? [00:00<?, ?it/s]"
      ]
     },
     "metadata": {},
     "output_type": "display_data"
    },
    {
     "data": {
      "application/vnd.jupyter.widget-view+json": {
       "model_id": "192d2c2ce6a64973bebc79ed0d56543c",
       "version_major": 2,
       "version_minor": 0
      },
      "text/plain": [
       "Validation: |          | 0/? [00:00<?, ?it/s]"
      ]
     },
     "metadata": {},
     "output_type": "display_data"
    },
    {
     "data": {
      "application/vnd.jupyter.widget-view+json": {
       "model_id": "9a3c61a0e0c64a6d9f633cb3a37735c3",
       "version_major": 2,
       "version_minor": 0
      },
      "text/plain": [
       "Validation: |          | 0/? [00:00<?, ?it/s]"
      ]
     },
     "metadata": {},
     "output_type": "display_data"
    },
    {
     "data": {
      "application/vnd.jupyter.widget-view+json": {
       "model_id": "68cab174e9294ec5ba91a53c0de34d49",
       "version_major": 2,
       "version_minor": 0
      },
      "text/plain": [
       "Validation: |          | 0/? [00:00<?, ?it/s]"
      ]
     },
     "metadata": {},
     "output_type": "display_data"
    },
    {
     "data": {
      "application/vnd.jupyter.widget-view+json": {
       "model_id": "f39b21de624f4c2b839cf84ae35b3313",
       "version_major": 2,
       "version_minor": 0
      },
      "text/plain": [
       "Validation: |          | 0/? [00:00<?, ?it/s]"
      ]
     },
     "metadata": {},
     "output_type": "display_data"
    },
    {
     "data": {
      "application/vnd.jupyter.widget-view+json": {
       "model_id": "ed2f24b68c974b629ef36900dac22453",
       "version_major": 2,
       "version_minor": 0
      },
      "text/plain": [
       "Validation: |          | 0/? [00:00<?, ?it/s]"
      ]
     },
     "metadata": {},
     "output_type": "display_data"
    },
    {
     "data": {
      "application/vnd.jupyter.widget-view+json": {
       "model_id": "8108fc8736834a93baba47ac0767f880",
       "version_major": 2,
       "version_minor": 0
      },
      "text/plain": [
       "Validation: |          | 0/? [00:00<?, ?it/s]"
      ]
     },
     "metadata": {},
     "output_type": "display_data"
    },
    {
     "data": {
      "application/vnd.jupyter.widget-view+json": {
       "model_id": "16b89d9c2fd74f1e8025e336819cc1e9",
       "version_major": 2,
       "version_minor": 0
      },
      "text/plain": [
       "Validation: |          | 0/? [00:00<?, ?it/s]"
      ]
     },
     "metadata": {},
     "output_type": "display_data"
    },
    {
     "data": {
      "application/vnd.jupyter.widget-view+json": {
       "model_id": "b5de1fc5848a4692b44e2c074ba1be89",
       "version_major": 2,
       "version_minor": 0
      },
      "text/plain": [
       "Validation: |          | 0/? [00:00<?, ?it/s]"
      ]
     },
     "metadata": {},
     "output_type": "display_data"
    },
    {
     "data": {
      "application/vnd.jupyter.widget-view+json": {
       "model_id": "9b52c9425acb444cad94a337597ab434",
       "version_major": 2,
       "version_minor": 0
      },
      "text/plain": [
       "Validation: |          | 0/? [00:00<?, ?it/s]"
      ]
     },
     "metadata": {},
     "output_type": "display_data"
    },
    {
     "data": {
      "application/vnd.jupyter.widget-view+json": {
       "model_id": "9a2ba03146294ec883593882867467d8",
       "version_major": 2,
       "version_minor": 0
      },
      "text/plain": [
       "Validation: |          | 0/? [00:00<?, ?it/s]"
      ]
     },
     "metadata": {},
     "output_type": "display_data"
    },
    {
     "data": {
      "application/vnd.jupyter.widget-view+json": {
       "model_id": "227fac620ade4664b4aafaa278e36ca5",
       "version_major": 2,
       "version_minor": 0
      },
      "text/plain": [
       "Validation: |          | 0/? [00:00<?, ?it/s]"
      ]
     },
     "metadata": {},
     "output_type": "display_data"
    },
    {
     "data": {
      "application/vnd.jupyter.widget-view+json": {
       "model_id": "73824463e2944497acde7f9ea689e2ff",
       "version_major": 2,
       "version_minor": 0
      },
      "text/plain": [
       "Validation: |          | 0/? [00:00<?, ?it/s]"
      ]
     },
     "metadata": {},
     "output_type": "display_data"
    },
    {
     "data": {
      "application/vnd.jupyter.widget-view+json": {
       "model_id": "0f0c82acae78436f91e29eac3dbb3256",
       "version_major": 2,
       "version_minor": 0
      },
      "text/plain": [
       "Validation: |          | 0/? [00:00<?, ?it/s]"
      ]
     },
     "metadata": {},
     "output_type": "display_data"
    },
    {
     "data": {
      "application/vnd.jupyter.widget-view+json": {
       "model_id": "7d57bdd7dad94e78a4f44e9e6a1de16c",
       "version_major": 2,
       "version_minor": 0
      },
      "text/plain": [
       "Validation: |          | 0/? [00:00<?, ?it/s]"
      ]
     },
     "metadata": {},
     "output_type": "display_data"
    },
    {
     "data": {
      "application/vnd.jupyter.widget-view+json": {
       "model_id": "a544a651e2ca439cbd1de2e4fe8a385f",
       "version_major": 2,
       "version_minor": 0
      },
      "text/plain": [
       "Validation: |          | 0/? [00:00<?, ?it/s]"
      ]
     },
     "metadata": {},
     "output_type": "display_data"
    },
    {
     "name": "stdout",
     "output_type": "stream",
     "text": [
      "{'ARIMA': {'rmsse': 0.946193951661398, 'model': ARIMA(order=(1, 1, 1), scoring_args={}, suppress_warnings=True,\n",
      "      with_intercept=False)}, 'ExponentialSmoothing': {'rmsse': 0.908542928929285, 'model': <statsmodels.tsa.holtwinters.results.HoltWintersResultsWrapper object at 0x7f71b15157e0>}, 'Prophet': {'rmsse': 0.9192066011318307, 'model': <prophet.forecaster.Prophet object at 0x7f71b1517bb0>}, 'LightGBM': {'rmsse': 1.2702603839872122, 'model': <lightgbm.basic.Booster object at 0x7f720246c1c0>}, 'RandomForest': {'rmsse': 0.9154021354322683, 'model': RandomForestRegressor(random_state=42)}, 'DartsTFT': {'rmsse': 22.257506339780747, 'model': TFTModel(output_chunk_shift=0, hidden_size=16, lstm_layers=2, num_attention_heads=4, full_attention=False, feed_forward=GatedResidualNetwork, dropout=0.2, hidden_continuous_size=8, categorical_embedding_sizes=None, add_relative_index=False, loss_fn=None, likelihood=None, norm_type=LayerNorm, use_static_covariates=True, input_chunk_length=56, output_chunk_length=28, pl_trainer_kwargs={'callbacks': [<pytorch_lightning.callbacks.early_stopping.EarlyStopping object at 0x7f7202a084f0>], 'accelerator': 'cpu', 'logger': <pytorch_lightning.loggers.csv_logs.CSVLogger object at 0x7f7201ebb070>}, batch_size=16, torch_metrics=MeanAbsoluteError(), n_epochs=50)}}\n",
      "Model results for FOODS_3_090_TX_1_validation\n",
      "Best model: ExponentialSmoothing\n",
      "Best score: 0.908542928929285\n",
      "Analyzing product: FOODS_3_120_CA_3_validation\n"
     ]
    },
    {
     "name": "stderr",
     "output_type": "stream",
     "text": [
      "[I 2024-05-15 17:59:06,564] A new study created in memory with name: no-name-d86de4bf-b6b9-49f8-a28f-c50fd2c4f538\n"
     ]
    },
    {
     "name": "stdout",
     "output_type": "stream",
     "text": [
      "Optimizing hyperparameters for product: FOODS_3_120_CA_3_validation\n"
     ]
    },
    {
     "name": "stderr",
     "output_type": "stream",
     "text": [
      "[I 2024-05-15 17:59:06,867] Trial 0 finished with value: 0.8315056891726181 and parameters: {'trend': 'add', 'seasonal': None, 'seasonal_periods': 12}. Best is trial 0 with value: 0.8315056891726181.\n",
      "[I 2024-05-15 17:59:07,086] Trial 5 finished with value: 0.8315056891726181 and parameters: {'trend': 'add', 'seasonal': None, 'seasonal_periods': 4}. Best is trial 0 with value: 0.8315056891726181.\n",
      "[I 2024-05-15 17:59:07,111] Trial 2 finished with value: 0.8315056891726181 and parameters: {'trend': 'add', 'seasonal': None, 'seasonal_periods': None}. Best is trial 0 with value: 0.8315056891726181.\n",
      "[I 2024-05-15 17:59:07,184] Trial 3 finished with value: 0.8315056891726181 and parameters: {'trend': 'add', 'seasonal': None, 'seasonal_periods': 7}. Best is trial 0 with value: 0.8315056891726181.\n",
      "[I 2024-05-15 17:59:07,388] Trial 9 finished with value: 0.8315056891726181 and parameters: {'trend': 'add', 'seasonal': None, 'seasonal_periods': 12}. Best is trial 0 with value: 0.8315056891726181.\n",
      "[I 2024-05-15 17:59:07,402] Trial 7 finished with value: 0.8315056891726181 and parameters: {'trend': 'add', 'seasonal': None, 'seasonal_periods': None}. Best is trial 0 with value: 0.8315056891726181.\n",
      "[I 2024-05-15 17:59:07,989] Trial 6 finished with value: 0.8590721867286752 and parameters: {'trend': 'add', 'seasonal': 'add', 'seasonal_periods': None}. Best is trial 0 with value: 0.8315056891726181.\n",
      "[I 2024-05-15 17:59:08,149] Trial 4 finished with value: 0.8430122004897865 and parameters: {'trend': 'add', 'seasonal': 'add', 'seasonal_periods': 12}. Best is trial 0 with value: 0.8315056891726181.\n",
      "[I 2024-05-15 17:59:08,150] Trial 8 finished with value: 0.8430122004897865 and parameters: {'trend': 'add', 'seasonal': 'add', 'seasonal_periods': 12}. Best is trial 0 with value: 0.8315056891726181.\n",
      "[I 2024-05-15 17:59:08,153] Trial 1 finished with value: 0.8430122004897865 and parameters: {'trend': 'add', 'seasonal': 'add', 'seasonal_periods': 12}. Best is trial 0 with value: 0.8315056891726181.\n",
      "/opt/conda/lib/python3.10/site-packages/statsmodels/tsa/base/tsa_model.py:473: ValueWarning: No frequency information was provided, so inferred frequency D will be used.\n",
      "  self._init_dates(dates, freq)\n",
      "[I 2024-05-15 17:59:08,205] A new study created in memory with name: no-name-cedba143-784e-470c-8d88-1fe242626836\n"
     ]
    },
    {
     "name": "stdout",
     "output_type": "stream",
     "text": [
      "Optimizing hyperparameters for product: FOODS_3_120_CA_3_validation\n"
     ]
    },
    {
     "name": "stderr",
     "output_type": "stream",
     "text": [
      "[I 2024-05-15 17:59:08,688] Trial 2 finished with value: 1.5807170856838881 and parameters: {'trend': 'add', 'seasonal': None, 'seasonal_periods': 4}. Best is trial 2 with value: 1.5807170856838881.\n",
      "[I 2024-05-15 17:59:08,745] Trial 0 finished with value: 1.5807170856838881 and parameters: {'trend': 'add', 'seasonal': None, 'seasonal_periods': 7}. Best is trial 2 with value: 1.5807170856838881.\n",
      "[I 2024-05-15 17:59:08,787] Trial 8 finished with value: 1.5807170856838881 and parameters: {'trend': 'add', 'seasonal': None, 'seasonal_periods': 7}. Best is trial 2 with value: 1.5807170856838881.\n",
      "[I 2024-05-15 17:59:08,833] Trial 3 finished with value: 1.5807170856838881 and parameters: {'trend': 'add', 'seasonal': None, 'seasonal_periods': 4}. Best is trial 2 with value: 1.5807170856838881.\n",
      "[I 2024-05-15 17:59:09,804] Trial 1 finished with value: 1.544187617726968 and parameters: {'trend': 'add', 'seasonal': 'add', 'seasonal_periods': 4}. Best is trial 1 with value: 1.544187617726968.\n",
      "[I 2024-05-15 17:59:09,955] Trial 4 finished with value: 1.7322505747827834 and parameters: {'trend': 'add', 'seasonal': 'add', 'seasonal_periods': 7}. Best is trial 1 with value: 1.544187617726968.\n",
      "[I 2024-05-15 17:59:10,151] Trial 6 finished with value: 1.7322505747827834 and parameters: {'trend': 'add', 'seasonal': 'add', 'seasonal_periods': None}. Best is trial 1 with value: 1.544187617726968.\n",
      "[I 2024-05-15 17:59:10,152] Trial 7 finished with value: 1.544187617726968 and parameters: {'trend': 'add', 'seasonal': 'add', 'seasonal_periods': 4}. Best is trial 1 with value: 1.544187617726968.\n",
      "[I 2024-05-15 17:59:10,178] Trial 9 finished with value: 1.7322505747827834 and parameters: {'trend': 'add', 'seasonal': 'add', 'seasonal_periods': None}. Best is trial 1 with value: 1.544187617726968.\n",
      "[I 2024-05-15 17:59:10,185] Trial 5 finished with value: 1.7322505747827834 and parameters: {'trend': 'add', 'seasonal': 'add', 'seasonal_periods': None}. Best is trial 1 with value: 1.544187617726968.\n",
      "/opt/conda/lib/python3.10/site-packages/statsmodels/tsa/base/tsa_model.py:473: ValueWarning: No frequency information was provided, so inferred frequency D will be used.\n",
      "  self._init_dates(dates, freq)\n",
      "[I 2024-05-15 17:59:10,443] A new study created in memory with name: no-name-70a84208-0a25-4451-b2bd-732b1374779c\n"
     ]
    },
    {
     "name": "stdout",
     "output_type": "stream",
     "text": [
      "Optimizing hyperparameters for product: FOODS_3_120_CA_3_validation\n"
     ]
    },
    {
     "name": "stderr",
     "output_type": "stream",
     "text": [
      "[I 2024-05-15 17:59:10,870] Trial 0 finished with value: 1.404656395092066 and parameters: {'trend': 'add', 'seasonal': None, 'seasonal_periods': 12}. Best is trial 0 with value: 1.404656395092066.\n",
      "[I 2024-05-15 17:59:10,908] Trial 1 finished with value: 1.404656395092066 and parameters: {'trend': 'add', 'seasonal': None, 'seasonal_periods': 12}. Best is trial 0 with value: 1.404656395092066.\n",
      "[I 2024-05-15 17:59:10,945] Trial 5 finished with value: 1.404656395092066 and parameters: {'trend': 'add', 'seasonal': None, 'seasonal_periods': None}. Best is trial 0 with value: 1.404656395092066.\n",
      "[I 2024-05-15 17:59:11,031] Trial 6 finished with value: 1.404656395092066 and parameters: {'trend': 'add', 'seasonal': None, 'seasonal_periods': 7}. Best is trial 0 with value: 1.404656395092066.\n",
      "[I 2024-05-15 17:59:11,126] Trial 4 finished with value: 1.404656395092066 and parameters: {'trend': 'add', 'seasonal': None, 'seasonal_periods': 4}. Best is trial 0 with value: 1.404656395092066.\n",
      "[I 2024-05-15 17:59:11,142] Trial 7 finished with value: 1.404656395092066 and parameters: {'trend': 'add', 'seasonal': None, 'seasonal_periods': 4}. Best is trial 0 with value: 1.404656395092066.\n",
      "[I 2024-05-15 17:59:11,361] Trial 8 finished with value: 1.404656395092066 and parameters: {'trend': 'add', 'seasonal': None, 'seasonal_periods': 7}. Best is trial 0 with value: 1.404656395092066.\n",
      "[I 2024-05-15 17:59:11,369] Trial 9 finished with value: 1.404656395092066 and parameters: {'trend': 'add', 'seasonal': None, 'seasonal_periods': 12}. Best is trial 0 with value: 1.404656395092066.\n",
      "[I 2024-05-15 17:59:11,536] Trial 2 finished with value: 1.3908861419170593 and parameters: {'trend': 'add', 'seasonal': 'add', 'seasonal_periods': 4}. Best is trial 2 with value: 1.3908861419170593.\n",
      "[I 2024-05-15 17:59:11,555] Trial 3 finished with value: 1.4147779081201972 and parameters: {'trend': 'add', 'seasonal': 'add', 'seasonal_periods': 12}. Best is trial 2 with value: 1.3908861419170593.\n",
      "/opt/conda/lib/python3.10/site-packages/statsmodels/tsa/base/tsa_model.py:473: ValueWarning: No frequency information was provided, so inferred frequency D will be used.\n",
      "  self._init_dates(dates, freq)\n",
      "[I 2024-05-15 17:59:11,806] A new study created in memory with name: no-name-3068f650-338a-40e6-b1ca-95f74b43fb76\n"
     ]
    },
    {
     "name": "stdout",
     "output_type": "stream",
     "text": [
      "Optimizing hyperparameters for product: FOODS_3_120_CA_3_validation\n"
     ]
    },
    {
     "name": "stderr",
     "output_type": "stream",
     "text": [
      "[I 2024-05-15 17:59:12,108] Trial 0 finished with value: 1.2432750930675558 and parameters: {'trend': 'add', 'seasonal': None, 'seasonal_periods': None}. Best is trial 0 with value: 1.2432750930675558.\n",
      "[I 2024-05-15 17:59:12,416] Trial 2 finished with value: 1.2432750930675558 and parameters: {'trend': 'add', 'seasonal': None, 'seasonal_periods': 7}. Best is trial 0 with value: 1.2432750930675558.\n",
      "[I 2024-05-15 17:59:12,532] Trial 6 finished with value: 1.2432750930675558 and parameters: {'trend': 'add', 'seasonal': None, 'seasonal_periods': None}. Best is trial 0 with value: 1.2432750930675558.\n",
      "[I 2024-05-15 17:59:12,645] Trial 7 finished with value: 1.2432750930675558 and parameters: {'trend': 'add', 'seasonal': None, 'seasonal_periods': None}. Best is trial 0 with value: 1.2432750930675558.\n",
      "[I 2024-05-15 17:59:12,662] Trial 4 finished with value: 1.2432750930675558 and parameters: {'trend': 'add', 'seasonal': None, 'seasonal_periods': None}. Best is trial 0 with value: 1.2432750930675558.\n",
      "[I 2024-05-15 17:59:12,831] Trial 8 finished with value: 1.2432750930675558 and parameters: {'trend': 'add', 'seasonal': None, 'seasonal_periods': 4}. Best is trial 0 with value: 1.2432750930675558.\n",
      "[I 2024-05-15 17:59:13,042] Trial 1 finished with value: 0.8451275503784034 and parameters: {'trend': 'add', 'seasonal': 'add', 'seasonal_periods': 7}. Best is trial 1 with value: 0.8451275503784034.\n",
      "[I 2024-05-15 17:59:13,237] Trial 3 finished with value: 1.233847022334238 and parameters: {'trend': 'add', 'seasonal': 'add', 'seasonal_periods': 4}. Best is trial 1 with value: 0.8451275503784034.\n",
      "[I 2024-05-15 17:59:13,334] Trial 9 finished with value: 0.8451275503784034 and parameters: {'trend': 'add', 'seasonal': 'add', 'seasonal_periods': 7}. Best is trial 1 with value: 0.8451275503784034.\n",
      "[I 2024-05-15 17:59:13,361] Trial 5 finished with value: 1.2382433002961681 and parameters: {'trend': 'add', 'seasonal': 'add', 'seasonal_periods': 12}. Best is trial 1 with value: 0.8451275503784034.\n",
      "/opt/conda/lib/python3.10/site-packages/statsmodels/tsa/base/tsa_model.py:473: ValueWarning: No frequency information was provided, so inferred frequency D will be used.\n",
      "  self._init_dates(dates, freq)\n",
      "[I 2024-05-15 17:59:13,609] A new study created in memory with name: no-name-4e1f6393-4b95-4bbd-812c-a80d7fd7f964\n",
      "[I 2024-05-15 17:59:13,748] Trial 0 finished with value: 1.0150790042601558 and parameters: {'trend': 'add', 'seasonal': None, 'seasonal_periods': 7}. Best is trial 0 with value: 1.0150790042601558.\n"
     ]
    },
    {
     "name": "stdout",
     "output_type": "stream",
     "text": [
      "Optimizing hyperparameters for product: FOODS_3_120_CA_3_validation\n"
     ]
    },
    {
     "name": "stderr",
     "output_type": "stream",
     "text": [
      "[I 2024-05-15 17:59:13,915] Trial 2 finished with value: 1.0150790042601558 and parameters: {'trend': 'add', 'seasonal': None, 'seasonal_periods': 12}. Best is trial 0 with value: 1.0150790042601558.\n",
      "[I 2024-05-15 17:59:14,238] Trial 6 finished with value: 1.0150790042601558 and parameters: {'trend': 'add', 'seasonal': None, 'seasonal_periods': 7}. Best is trial 0 with value: 1.0150790042601558.\n",
      "[I 2024-05-15 17:59:14,345] Trial 5 finished with value: 1.0150790042601558 and parameters: {'trend': 'add', 'seasonal': None, 'seasonal_periods': 4}. Best is trial 0 with value: 1.0150790042601558.\n",
      "[I 2024-05-15 17:59:14,397] Trial 7 finished with value: 1.0150790042601558 and parameters: {'trend': 'add', 'seasonal': None, 'seasonal_periods': 4}. Best is trial 0 with value: 1.0150790042601558.\n",
      "[I 2024-05-15 17:59:15,195] Trial 3 finished with value: 0.7651528147786983 and parameters: {'trend': 'add', 'seasonal': 'add', 'seasonal_periods': None}. Best is trial 3 with value: 0.7651528147786983.\n",
      "[I 2024-05-15 17:59:15,227] Trial 1 finished with value: 0.7651528147786983 and parameters: {'trend': 'add', 'seasonal': 'add', 'seasonal_periods': 7}. Best is trial 3 with value: 0.7651528147786983.\n",
      "[I 2024-05-15 17:59:15,327] Trial 9 finished with value: 0.7651528147786983 and parameters: {'trend': 'add', 'seasonal': 'add', 'seasonal_periods': 7}. Best is trial 3 with value: 0.7651528147786983.\n",
      "[I 2024-05-15 17:59:15,343] Trial 8 finished with value: 1.016467000705192 and parameters: {'trend': 'add', 'seasonal': 'add', 'seasonal_periods': 12}. Best is trial 3 with value: 0.7651528147786983.\n",
      "[I 2024-05-15 17:59:15,344] Trial 4 finished with value: 1.012598027710528 and parameters: {'trend': 'add', 'seasonal': 'add', 'seasonal_periods': 4}. Best is trial 3 with value: 0.7651528147786983.\n",
      "/opt/conda/lib/python3.10/site-packages/statsmodels/tsa/base/tsa_model.py:473: ValueWarning: No frequency information was provided, so inferred frequency D will be used.\n",
      "  self._init_dates(dates, freq)\n",
      "/var/tmp/ipykernel_1903582/1261245201.py:12: SettingWithCopyWarning: \n",
      "A value is trying to be set on a copy of a slice from a DataFrame.\n",
      "Try using .loc[row_indexer,col_indexer] = value instead\n",
      "\n",
      "See the caveats in the documentation: https://pandas.pydata.org/pandas-docs/stable/user_guide/indexing.html#returning-a-view-versus-a-copy\n",
      "  prophet_data_train['ds'] = pd.to_datetime(prophet_data_train['ds'])\n",
      "/var/tmp/ipykernel_1903582/1261245201.py:13: SettingWithCopyWarning: \n",
      "A value is trying to be set on a copy of a slice from a DataFrame.\n",
      "Try using .loc[row_indexer,col_indexer] = value instead\n",
      "\n",
      "See the caveats in the documentation: https://pandas.pydata.org/pandas-docs/stable/user_guide/indexing.html#returning-a-view-versus-a-copy\n",
      "  prophet_data_test['ds'] = pd.to_datetime(prophet_data_test['ds'])\n",
      "17:59:15 - cmdstanpy - INFO - Chain [1] start processing\n",
      "17:59:15 - cmdstanpy - INFO - Chain [1] done processing\n",
      "/var/tmp/ipykernel_1903582/1261245201.py:12: SettingWithCopyWarning: \n",
      "A value is trying to be set on a copy of a slice from a DataFrame.\n",
      "Try using .loc[row_indexer,col_indexer] = value instead\n",
      "\n",
      "See the caveats in the documentation: https://pandas.pydata.org/pandas-docs/stable/user_guide/indexing.html#returning-a-view-versus-a-copy\n",
      "  prophet_data_train['ds'] = pd.to_datetime(prophet_data_train['ds'])\n",
      "/var/tmp/ipykernel_1903582/1261245201.py:13: SettingWithCopyWarning: \n",
      "A value is trying to be set on a copy of a slice from a DataFrame.\n",
      "Try using .loc[row_indexer,col_indexer] = value instead\n",
      "\n",
      "See the caveats in the documentation: https://pandas.pydata.org/pandas-docs/stable/user_guide/indexing.html#returning-a-view-versus-a-copy\n",
      "  prophet_data_test['ds'] = pd.to_datetime(prophet_data_test['ds'])\n",
      "17:59:16 - cmdstanpy - INFO - Chain [1] start processing\n",
      "17:59:16 - cmdstanpy - INFO - Chain [1] done processing\n",
      "/var/tmp/ipykernel_1903582/1261245201.py:12: SettingWithCopyWarning: \n",
      "A value is trying to be set on a copy of a slice from a DataFrame.\n",
      "Try using .loc[row_indexer,col_indexer] = value instead\n",
      "\n",
      "See the caveats in the documentation: https://pandas.pydata.org/pandas-docs/stable/user_guide/indexing.html#returning-a-view-versus-a-copy\n",
      "  prophet_data_train['ds'] = pd.to_datetime(prophet_data_train['ds'])\n",
      "/var/tmp/ipykernel_1903582/1261245201.py:13: SettingWithCopyWarning: \n",
      "A value is trying to be set on a copy of a slice from a DataFrame.\n",
      "Try using .loc[row_indexer,col_indexer] = value instead\n",
      "\n",
      "See the caveats in the documentation: https://pandas.pydata.org/pandas-docs/stable/user_guide/indexing.html#returning-a-view-versus-a-copy\n",
      "  prophet_data_test['ds'] = pd.to_datetime(prophet_data_test['ds'])\n",
      "17:59:16 - cmdstanpy - INFO - Chain [1] start processing\n",
      "17:59:16 - cmdstanpy - INFO - Chain [1] done processing\n",
      "/var/tmp/ipykernel_1903582/1261245201.py:12: SettingWithCopyWarning: \n",
      "A value is trying to be set on a copy of a slice from a DataFrame.\n",
      "Try using .loc[row_indexer,col_indexer] = value instead\n",
      "\n",
      "See the caveats in the documentation: https://pandas.pydata.org/pandas-docs/stable/user_guide/indexing.html#returning-a-view-versus-a-copy\n",
      "  prophet_data_train['ds'] = pd.to_datetime(prophet_data_train['ds'])\n",
      "/var/tmp/ipykernel_1903582/1261245201.py:13: SettingWithCopyWarning: \n",
      "A value is trying to be set on a copy of a slice from a DataFrame.\n",
      "Try using .loc[row_indexer,col_indexer] = value instead\n",
      "\n",
      "See the caveats in the documentation: https://pandas.pydata.org/pandas-docs/stable/user_guide/indexing.html#returning-a-view-versus-a-copy\n",
      "  prophet_data_test['ds'] = pd.to_datetime(prophet_data_test['ds'])\n",
      "17:59:16 - cmdstanpy - INFO - Chain [1] start processing\n",
      "17:59:16 - cmdstanpy - INFO - Chain [1] done processing\n",
      "/var/tmp/ipykernel_1903582/1261245201.py:12: SettingWithCopyWarning: \n",
      "A value is trying to be set on a copy of a slice from a DataFrame.\n",
      "Try using .loc[row_indexer,col_indexer] = value instead\n",
      "\n",
      "See the caveats in the documentation: https://pandas.pydata.org/pandas-docs/stable/user_guide/indexing.html#returning-a-view-versus-a-copy\n",
      "  prophet_data_train['ds'] = pd.to_datetime(prophet_data_train['ds'])\n",
      "/var/tmp/ipykernel_1903582/1261245201.py:13: SettingWithCopyWarning: \n",
      "A value is trying to be set on a copy of a slice from a DataFrame.\n",
      "Try using .loc[row_indexer,col_indexer] = value instead\n",
      "\n",
      "See the caveats in the documentation: https://pandas.pydata.org/pandas-docs/stable/user_guide/indexing.html#returning-a-view-versus-a-copy\n",
      "  prophet_data_test['ds'] = pd.to_datetime(prophet_data_test['ds'])\n",
      "17:59:17 - cmdstanpy - INFO - Chain [1] start processing\n",
      "17:59:17 - cmdstanpy - INFO - Chain [1] done processing\n",
      "/opt/conda/lib/python3.10/site-packages/lightgbm/engine.py:172: UserWarning: Found `n_estimators` in params. Will use it instead of argument\n",
      "  _log_warning(f\"Found `{alias}` in params. Will use it instead of argument\")\n"
     ]
    },
    {
     "name": "stdout",
     "output_type": "stream",
     "text": [
      "Training until validation scores don't improve for 50 rounds\n",
      "Early stopping, best iteration is:\n",
      "[415]\tvalid_0's rmse: 15.7688\n",
      "Training until validation scores don't improve for 50 rounds\n"
     ]
    },
    {
     "name": "stderr",
     "output_type": "stream",
     "text": [
      "/opt/conda/lib/python3.10/site-packages/lightgbm/engine.py:172: UserWarning: Found `n_estimators` in params. Will use it instead of argument\n",
      "  _log_warning(f\"Found `{alias}` in params. Will use it instead of argument\")\n"
     ]
    },
    {
     "name": "stdout",
     "output_type": "stream",
     "text": [
      "Early stopping, best iteration is:\n",
      "[784]\tvalid_0's rmse: 15.524\n",
      "Training until validation scores don't improve for 50 rounds\n"
     ]
    },
    {
     "name": "stderr",
     "output_type": "stream",
     "text": [
      "/opt/conda/lib/python3.10/site-packages/lightgbm/engine.py:172: UserWarning: Found `n_estimators` in params. Will use it instead of argument\n",
      "  _log_warning(f\"Found `{alias}` in params. Will use it instead of argument\")\n"
     ]
    },
    {
     "name": "stdout",
     "output_type": "stream",
     "text": [
      "Did not meet early stopping. Best iteration is:\n",
      "[975]\tvalid_0's rmse: 16.7902\n",
      "Training until validation scores don't improve for 50 rounds\n"
     ]
    },
    {
     "name": "stderr",
     "output_type": "stream",
     "text": [
      "/opt/conda/lib/python3.10/site-packages/lightgbm/engine.py:172: UserWarning: Found `n_estimators` in params. Will use it instead of argument\n",
      "  _log_warning(f\"Found `{alias}` in params. Will use it instead of argument\")\n"
     ]
    },
    {
     "name": "stdout",
     "output_type": "stream",
     "text": [
      "Early stopping, best iteration is:\n",
      "[644]\tvalid_0's rmse: 17.1231\n",
      "Training until validation scores don't improve for 50 rounds\n"
     ]
    },
    {
     "name": "stderr",
     "output_type": "stream",
     "text": [
      "/opt/conda/lib/python3.10/site-packages/lightgbm/engine.py:172: UserWarning: Found `n_estimators` in params. Will use it instead of argument\n",
      "  _log_warning(f\"Found `{alias}` in params. Will use it instead of argument\")\n"
     ]
    },
    {
     "name": "stdout",
     "output_type": "stream",
     "text": [
      "Early stopping, best iteration is:\n",
      "[192]\tvalid_0's rmse: 14.814\n"
     ]
    },
    {
     "name": "stderr",
     "output_type": "stream",
     "text": [
      "GPU available: False, used: False\n",
      "TPU available: False, using: 0 TPU cores\n",
      "IPU available: False, using: 0 IPUs\n",
      "HPU available: False, using: 0 HPUs\n",
      "Missing logger folder: logs/tft_logs\n",
      "\n",
      "   | Name                              | Type                             | Params\n",
      "----------------------------------------------------------------------------------------\n",
      "0  | train_metrics                     | MetricCollection                 | 0     \n",
      "1  | val_metrics                       | MetricCollection                 | 0     \n",
      "2  | input_embeddings                  | _MultiEmbedding                  | 0     \n",
      "3  | static_covariates_vsn             | _VariableSelectionNetwork        | 0     \n",
      "4  | encoder_vsn                       | _VariableSelectionNetwork        | 93.0 K\n",
      "5  | decoder_vsn                       | _VariableSelectionNetwork        | 46.4 K\n",
      "6  | static_context_grn                | _GatedResidualNetwork            | 1.1 K \n",
      "7  | static_context_hidden_encoder_grn | _GatedResidualNetwork            | 1.1 K \n",
      "8  | static_context_cell_encoder_grn   | _GatedResidualNetwork            | 1.1 K \n",
      "9  | static_context_enrichment         | _GatedResidualNetwork            | 1.1 K \n",
      "10 | lstm_encoder                      | LSTM                             | 4.4 K \n",
      "11 | lstm_decoder                      | LSTM                             | 4.4 K \n",
      "12 | post_lstm_gan                     | _GateAddNorm                     | 576   \n",
      "13 | static_enrichment_grn             | _GatedResidualNetwork            | 1.4 K \n",
      "14 | multihead_attn                    | _InterpretableMultiHeadAttention | 676   \n",
      "15 | post_attn_gan                     | _GateAddNorm                     | 576   \n",
      "16 | feed_forward_block                | _GatedResidualNetwork            | 1.1 K \n",
      "17 | pre_output_gan                    | _GateAddNorm                     | 576   \n",
      "18 | output_layer                      | Linear                           | 289   \n",
      "----------------------------------------------------------------------------------------\n",
      "156 K     Trainable params\n",
      "0         Non-trainable params\n",
      "156 K     Total params\n",
      "0.627     Total estimated model params size (MB)\n"
     ]
    },
    {
     "data": {
      "application/vnd.jupyter.widget-view+json": {
       "model_id": "71aebaeb000d4753a8acb7b7c4799494",
       "version_major": 2,
       "version_minor": 0
      },
      "text/plain": [
       "Sanity Checking: |          | 0/? [00:00<?, ?it/s]"
      ]
     },
     "metadata": {},
     "output_type": "display_data"
    },
    {
     "data": {
      "application/vnd.jupyter.widget-view+json": {
       "model_id": "50e146a0fcd245c7b1e3f487e6b39111",
       "version_major": 2,
       "version_minor": 0
      },
      "text/plain": [
       "Training: |          | 0/? [00:00<?, ?it/s]"
      ]
     },
     "metadata": {},
     "output_type": "display_data"
    },
    {
     "data": {
      "application/vnd.jupyter.widget-view+json": {
       "model_id": "1b170a42850e479484cd70bebffa0dac",
       "version_major": 2,
       "version_minor": 0
      },
      "text/plain": [
       "Validation: |          | 0/? [00:00<?, ?it/s]"
      ]
     },
     "metadata": {},
     "output_type": "display_data"
    },
    {
     "data": {
      "application/vnd.jupyter.widget-view+json": {
       "model_id": "5dc83bb3a6fb43f9a5a14df7db166dfd",
       "version_major": 2,
       "version_minor": 0
      },
      "text/plain": [
       "Validation: |          | 0/? [00:00<?, ?it/s]"
      ]
     },
     "metadata": {},
     "output_type": "display_data"
    },
    {
     "data": {
      "application/vnd.jupyter.widget-view+json": {
       "model_id": "2ab1ba14088c4a30800b62c8701e09bf",
       "version_major": 2,
       "version_minor": 0
      },
      "text/plain": [
       "Validation: |          | 0/? [00:00<?, ?it/s]"
      ]
     },
     "metadata": {},
     "output_type": "display_data"
    },
    {
     "data": {
      "application/vnd.jupyter.widget-view+json": {
       "model_id": "3ee89f318b3c4c3e801e3cbc38bb7af1",
       "version_major": 2,
       "version_minor": 0
      },
      "text/plain": [
       "Validation: |          | 0/? [00:00<?, ?it/s]"
      ]
     },
     "metadata": {},
     "output_type": "display_data"
    },
    {
     "data": {
      "application/vnd.jupyter.widget-view+json": {
       "model_id": "0fe9950ee79d4452b6129af6d2ed6d69",
       "version_major": 2,
       "version_minor": 0
      },
      "text/plain": [
       "Validation: |          | 0/? [00:00<?, ?it/s]"
      ]
     },
     "metadata": {},
     "output_type": "display_data"
    },
    {
     "data": {
      "application/vnd.jupyter.widget-view+json": {
       "model_id": "b03ed370b5a149eaba54fbe8aab0f8a9",
       "version_major": 2,
       "version_minor": 0
      },
      "text/plain": [
       "Validation: |          | 0/? [00:00<?, ?it/s]"
      ]
     },
     "metadata": {},
     "output_type": "display_data"
    },
    {
     "data": {
      "application/vnd.jupyter.widget-view+json": {
       "model_id": "1977c3abeba742f0b3689a46b148309a",
       "version_major": 2,
       "version_minor": 0
      },
      "text/plain": [
       "Validation: |          | 0/? [00:00<?, ?it/s]"
      ]
     },
     "metadata": {},
     "output_type": "display_data"
    },
    {
     "data": {
      "application/vnd.jupyter.widget-view+json": {
       "model_id": "37eab4c744ff45cd8050ded5a567a633",
       "version_major": 2,
       "version_minor": 0
      },
      "text/plain": [
       "Validation: |          | 0/? [00:00<?, ?it/s]"
      ]
     },
     "metadata": {},
     "output_type": "display_data"
    },
    {
     "data": {
      "application/vnd.jupyter.widget-view+json": {
       "model_id": "820c7fbd6eea41f684a2511393359ced",
       "version_major": 2,
       "version_minor": 0
      },
      "text/plain": [
       "Validation: |          | 0/? [00:00<?, ?it/s]"
      ]
     },
     "metadata": {},
     "output_type": "display_data"
    },
    {
     "data": {
      "application/vnd.jupyter.widget-view+json": {
       "model_id": "d43ee75ff1884e09add8141d2fc8d53c",
       "version_major": 2,
       "version_minor": 0
      },
      "text/plain": [
       "Validation: |          | 0/? [00:00<?, ?it/s]"
      ]
     },
     "metadata": {},
     "output_type": "display_data"
    },
    {
     "data": {
      "application/vnd.jupyter.widget-view+json": {
       "model_id": "d69e7c45bf97409e8cbf56f88c3ecce9",
       "version_major": 2,
       "version_minor": 0
      },
      "text/plain": [
       "Validation: |          | 0/? [00:00<?, ?it/s]"
      ]
     },
     "metadata": {},
     "output_type": "display_data"
    },
    {
     "data": {
      "application/vnd.jupyter.widget-view+json": {
       "model_id": "f5b45aa0277f4bd08b6b61a8f7495b84",
       "version_major": 2,
       "version_minor": 0
      },
      "text/plain": [
       "Validation: |          | 0/? [00:00<?, ?it/s]"
      ]
     },
     "metadata": {},
     "output_type": "display_data"
    },
    {
     "data": {
      "application/vnd.jupyter.widget-view+json": {
       "model_id": "2e068d17b5b8466e8c01b9064da39cd4",
       "version_major": 2,
       "version_minor": 0
      },
      "text/plain": [
       "Validation: |          | 0/? [00:00<?, ?it/s]"
      ]
     },
     "metadata": {},
     "output_type": "display_data"
    },
    {
     "data": {
      "application/vnd.jupyter.widget-view+json": {
       "model_id": "1eb8b6c7f71c485db977f1fa9998a3a2",
       "version_major": 2,
       "version_minor": 0
      },
      "text/plain": [
       "Validation: |          | 0/? [00:00<?, ?it/s]"
      ]
     },
     "metadata": {},
     "output_type": "display_data"
    },
    {
     "data": {
      "application/vnd.jupyter.widget-view+json": {
       "model_id": "f52ab239cb114c2b8c9b75e74d81d026",
       "version_major": 2,
       "version_minor": 0
      },
      "text/plain": [
       "Validation: |          | 0/? [00:00<?, ?it/s]"
      ]
     },
     "metadata": {},
     "output_type": "display_data"
    },
    {
     "name": "stdout",
     "output_type": "stream",
     "text": [
      "{'ARIMA': {'rmsse': 1.1046238322009958, 'model': ARIMA(order=(5, 1, 2), scoring_args={}, suppress_warnings=True,\n",
      "      with_intercept=False)}, 'ExponentialSmoothing': {'rmsse': 1.0753719627947493, 'model': <statsmodels.tsa.holtwinters.results.HoltWintersResultsWrapper object at 0x7f7202240670>}, 'Prophet': {'rmsse': 1.5024370627807984, 'model': <prophet.forecaster.Prophet object at 0x7f71432a6d40>}, 'LightGBM': {'rmsse': 1.982057811476293, 'model': <lightgbm.basic.Booster object at 0x7f71afe58b20>}, 'RandomForest': {'rmsse': 1.0798519955561818, 'model': RandomForestRegressor(random_state=42)}, 'DartsTFT': {'rmsse': 24.305756599672375, 'model': TFTModel(output_chunk_shift=0, hidden_size=16, lstm_layers=2, num_attention_heads=4, full_attention=False, feed_forward=GatedResidualNetwork, dropout=0.2, hidden_continuous_size=8, categorical_embedding_sizes=None, add_relative_index=False, loss_fn=None, likelihood=None, norm_type=LayerNorm, use_static_covariates=True, input_chunk_length=56, output_chunk_length=28, pl_trainer_kwargs={'callbacks': [<pytorch_lightning.callbacks.early_stopping.EarlyStopping object at 0x7f720429f5e0>], 'accelerator': 'cpu', 'logger': <pytorch_lightning.loggers.csv_logs.CSVLogger object at 0x7f7201b1a950>}, batch_size=16, torch_metrics=MeanAbsoluteError(), n_epochs=50)}}\n",
      "Model results for FOODS_3_120_CA_3_validation\n",
      "Best model: ExponentialSmoothing\n",
      "Best score: 1.0753719627947493\n",
      "Analyzing product: FOODS_3_586_CA_1_validation\n"
     ]
    },
    {
     "name": "stderr",
     "output_type": "stream",
     "text": [
      "[I 2024-05-15 18:18:53,155] A new study created in memory with name: no-name-f31d528c-d802-41eb-bf93-3c2bc5acaddf\n"
     ]
    },
    {
     "name": "stdout",
     "output_type": "stream",
     "text": [
      "Optimizing hyperparameters for product: FOODS_3_586_CA_1_validation\n"
     ]
    },
    {
     "name": "stderr",
     "output_type": "stream",
     "text": [
      "[I 2024-05-15 18:18:53,507] Trial 0 finished with value: 0.7095151836653308 and parameters: {'trend': 'add', 'seasonal': None, 'seasonal_periods': 4}. Best is trial 0 with value: 0.7095151836653308.\n",
      "[I 2024-05-15 18:18:53,549] Trial 1 finished with value: 0.7095151836653308 and parameters: {'trend': 'add', 'seasonal': None, 'seasonal_periods': 7}. Best is trial 0 with value: 0.7095151836653308.\n",
      "[I 2024-05-15 18:18:53,971] Trial 7 finished with value: 0.7095151836653308 and parameters: {'trend': 'add', 'seasonal': None, 'seasonal_periods': 4}. Best is trial 0 with value: 0.7095151836653308.\n",
      "[I 2024-05-15 18:18:54,186] Trial 9 finished with value: 0.7095151836653308 and parameters: {'trend': 'add', 'seasonal': None, 'seasonal_periods': None}. Best is trial 0 with value: 0.7095151836653308.\n",
      "[I 2024-05-15 18:18:55,051] Trial 2 finished with value: 0.43354696048114677 and parameters: {'trend': 'add', 'seasonal': 'add', 'seasonal_periods': None}. Best is trial 2 with value: 0.43354696048114677.\n",
      "[I 2024-05-15 18:18:55,065] Trial 3 finished with value: 0.6837078041949831 and parameters: {'trend': 'add', 'seasonal': 'add', 'seasonal_periods': 4}. Best is trial 2 with value: 0.43354696048114677.\n",
      "[I 2024-05-15 18:18:55,135] Trial 6 finished with value: 0.6902447710977636 and parameters: {'trend': 'add', 'seasonal': 'add', 'seasonal_periods': 12}. Best is trial 2 with value: 0.43354696048114677.\n",
      "[I 2024-05-15 18:18:55,230] Trial 4 finished with value: 0.43354696048114677 and parameters: {'trend': 'add', 'seasonal': 'add', 'seasonal_periods': None}. Best is trial 2 with value: 0.43354696048114677.\n",
      "[I 2024-05-15 18:18:55,231] Trial 5 finished with value: 0.43354696048114677 and parameters: {'trend': 'add', 'seasonal': 'add', 'seasonal_periods': None}. Best is trial 2 with value: 0.43354696048114677.\n",
      "[I 2024-05-15 18:18:55,252] Trial 8 finished with value: 0.6902447710977636 and parameters: {'trend': 'add', 'seasonal': 'add', 'seasonal_periods': 12}. Best is trial 2 with value: 0.43354696048114677.\n",
      "/opt/conda/lib/python3.10/site-packages/statsmodels/tsa/base/tsa_model.py:473: ValueWarning: No frequency information was provided, so inferred frequency D will be used.\n",
      "  self._init_dates(dates, freq)\n",
      "[I 2024-05-15 18:18:55,519] A new study created in memory with name: no-name-b26c6dee-6afc-477c-8d07-d8c1f9b2881b\n",
      "[I 2024-05-15 18:18:55,669] Trial 1 finished with value: 0.5900770181474588 and parameters: {'trend': 'add', 'seasonal': None, 'seasonal_periods': 7}. Best is trial 1 with value: 0.5900770181474588.\n",
      "[I 2024-05-15 18:18:55,684] Trial 0 finished with value: 0.5900770181474588 and parameters: {'trend': 'add', 'seasonal': None, 'seasonal_periods': 12}. Best is trial 1 with value: 0.5900770181474588.\n"
     ]
    },
    {
     "name": "stdout",
     "output_type": "stream",
     "text": [
      "Optimizing hyperparameters for product: FOODS_3_586_CA_1_validation\n"
     ]
    },
    {
     "name": "stderr",
     "output_type": "stream",
     "text": [
      "[I 2024-05-15 18:18:56,510] Trial 8 finished with value: 0.5900770181474588 and parameters: {'trend': 'add', 'seasonal': None, 'seasonal_periods': None}. Best is trial 1 with value: 0.5900770181474588.\n",
      "[I 2024-05-15 18:18:57,544] Trial 2 finished with value: 0.4493380487061289 and parameters: {'trend': 'add', 'seasonal': 'add', 'seasonal_periods': None}. Best is trial 2 with value: 0.4493380487061289.\n",
      "[I 2024-05-15 18:18:57,551] Trial 4 finished with value: 0.4493380487061289 and parameters: {'trend': 'add', 'seasonal': 'add', 'seasonal_periods': None}. Best is trial 2 with value: 0.4493380487061289.\n",
      "[I 2024-05-15 18:18:57,552] Trial 5 finished with value: 0.5884930309642599 and parameters: {'trend': 'add', 'seasonal': 'add', 'seasonal_periods': 4}. Best is trial 2 with value: 0.4493380487061289.\n",
      "[I 2024-05-15 18:18:57,641] Trial 3 finished with value: 0.4493380487061289 and parameters: {'trend': 'add', 'seasonal': 'add', 'seasonal_periods': 7}. Best is trial 2 with value: 0.4493380487061289.\n",
      "[I 2024-05-15 18:18:57,671] Trial 6 finished with value: 0.5884930309642599 and parameters: {'trend': 'add', 'seasonal': 'add', 'seasonal_periods': 4}. Best is trial 2 with value: 0.4493380487061289.\n",
      "[I 2024-05-15 18:18:57,699] Trial 9 finished with value: 0.5884930309642599 and parameters: {'trend': 'add', 'seasonal': 'add', 'seasonal_periods': 4}. Best is trial 2 with value: 0.4493380487061289.\n",
      "[I 2024-05-15 18:18:57,734] Trial 7 finished with value: 0.6098760894784241 and parameters: {'trend': 'add', 'seasonal': 'add', 'seasonal_periods': 12}. Best is trial 2 with value: 0.4493380487061289.\n",
      "/opt/conda/lib/python3.10/site-packages/statsmodels/tsa/base/tsa_model.py:473: ValueWarning: No frequency information was provided, so inferred frequency D will be used.\n",
      "  self._init_dates(dates, freq)\n",
      "[I 2024-05-15 18:18:57,990] A new study created in memory with name: no-name-b1d16519-9a38-4503-9925-d14610ef72e3\n"
     ]
    },
    {
     "name": "stdout",
     "output_type": "stream",
     "text": [
      "Optimizing hyperparameters for product: FOODS_3_586_CA_1_validation\n"
     ]
    },
    {
     "name": "stderr",
     "output_type": "stream",
     "text": [
      "[I 2024-05-15 18:18:58,544] Trial 0 finished with value: 0.8431598776523908 and parameters: {'trend': 'add', 'seasonal': None, 'seasonal_periods': 12}. Best is trial 0 with value: 0.8431598776523908.\n",
      "[I 2024-05-15 18:18:58,566] Trial 1 finished with value: 0.8431598776523908 and parameters: {'trend': 'add', 'seasonal': None, 'seasonal_periods': 4}. Best is trial 0 with value: 0.8431598776523908.\n",
      "[I 2024-05-15 18:18:58,921] Trial 6 finished with value: 0.8431598776523908 and parameters: {'trend': 'add', 'seasonal': None, 'seasonal_periods': None}. Best is trial 0 with value: 0.8431598776523908.\n",
      "[I 2024-05-15 18:18:59,008] Trial 5 finished with value: 0.8431598776523908 and parameters: {'trend': 'add', 'seasonal': None, 'seasonal_periods': 7}. Best is trial 0 with value: 0.8431598776523908.\n",
      "[I 2024-05-15 18:18:59,072] Trial 9 finished with value: 0.8431598776523908 and parameters: {'trend': 'add', 'seasonal': None, 'seasonal_periods': 12}. Best is trial 0 with value: 0.8431598776523908.\n",
      "[I 2024-05-15 18:18:59,085] Trial 8 finished with value: 0.8431598776523908 and parameters: {'trend': 'add', 'seasonal': None, 'seasonal_periods': 7}. Best is trial 0 with value: 0.8431598776523908.\n",
      "[I 2024-05-15 18:18:59,553] Trial 2 finished with value: 0.7446212304256815 and parameters: {'trend': 'add', 'seasonal': 'add', 'seasonal_periods': 7}. Best is trial 2 with value: 0.7446212304256815.\n",
      "[I 2024-05-15 18:18:59,580] Trial 3 finished with value: 0.7446212304256815 and parameters: {'trend': 'add', 'seasonal': 'add', 'seasonal_periods': 7}. Best is trial 2 with value: 0.7446212304256815.\n",
      "[I 2024-05-15 18:18:59,634] Trial 7 finished with value: 0.7446212304256815 and parameters: {'trend': 'add', 'seasonal': 'add', 'seasonal_periods': 7}. Best is trial 2 with value: 0.7446212304256815.\n",
      "[I 2024-05-15 18:18:59,667] Trial 4 finished with value: 0.7446212304256815 and parameters: {'trend': 'add', 'seasonal': 'add', 'seasonal_periods': 7}. Best is trial 2 with value: 0.7446212304256815.\n",
      "/opt/conda/lib/python3.10/site-packages/statsmodels/tsa/base/tsa_model.py:473: ValueWarning: No frequency information was provided, so inferred frequency D will be used.\n",
      "  self._init_dates(dates, freq)\n",
      "[I 2024-05-15 18:18:59,928] A new study created in memory with name: no-name-66eabac6-1cb1-4735-a6dd-1734e6cdde6c\n"
     ]
    },
    {
     "name": "stdout",
     "output_type": "stream",
     "text": [
      "Optimizing hyperparameters for product: FOODS_3_586_CA_1_validation\n"
     ]
    },
    {
     "name": "stderr",
     "output_type": "stream",
     "text": [
      "[I 2024-05-15 18:19:00,558] Trial 0 finished with value: 0.7096710555500844 and parameters: {'trend': 'add', 'seasonal': None, 'seasonal_periods': 4}. Best is trial 0 with value: 0.7096710555500844.\n",
      "[I 2024-05-15 18:19:00,734] Trial 7 finished with value: 0.7096710555500844 and parameters: {'trend': 'add', 'seasonal': None, 'seasonal_periods': 12}. Best is trial 0 with value: 0.7096710555500844.\n",
      "[I 2024-05-15 18:19:00,871] Trial 6 finished with value: 0.7096710555500844 and parameters: {'trend': 'add', 'seasonal': None, 'seasonal_periods': 4}. Best is trial 0 with value: 0.7096710555500844.\n",
      "[I 2024-05-15 18:19:00,929] Trial 4 finished with value: 0.7096710555500844 and parameters: {'trend': 'add', 'seasonal': None, 'seasonal_periods': 4}. Best is trial 0 with value: 0.7096710555500844.\n",
      "[I 2024-05-15 18:19:01,096] Trial 9 finished with value: 0.7096710555500844 and parameters: {'trend': 'add', 'seasonal': None, 'seasonal_periods': 7}. Best is trial 0 with value: 0.7096710555500844.\n",
      "[I 2024-05-15 18:19:01,538] Trial 1 finished with value: 0.7263878024376212 and parameters: {'trend': 'add', 'seasonal': 'add', 'seasonal_periods': 4}. Best is trial 0 with value: 0.7096710555500844.\n",
      "[I 2024-05-15 18:19:01,701] Trial 3 finished with value: 0.7523376983515606 and parameters: {'trend': 'add', 'seasonal': 'add', 'seasonal_periods': 12}. Best is trial 0 with value: 0.7096710555500844.\n",
      "[I 2024-05-15 18:19:01,712] Trial 2 finished with value: 0.5414176942101078 and parameters: {'trend': 'add', 'seasonal': 'add', 'seasonal_periods': 7}. Best is trial 2 with value: 0.5414176942101078.\n",
      "[I 2024-05-15 18:19:01,752] Trial 5 finished with value: 0.7523376983515606 and parameters: {'trend': 'add', 'seasonal': 'add', 'seasonal_periods': 12}. Best is trial 2 with value: 0.5414176942101078.\n",
      "[I 2024-05-15 18:19:01,767] Trial 8 finished with value: 0.7523376983515606 and parameters: {'trend': 'add', 'seasonal': 'add', 'seasonal_periods': 12}. Best is trial 2 with value: 0.5414176942101078.\n",
      "/opt/conda/lib/python3.10/site-packages/statsmodels/tsa/base/tsa_model.py:473: ValueWarning: No frequency information was provided, so inferred frequency D will be used.\n",
      "  self._init_dates(dates, freq)\n",
      "[I 2024-05-15 18:19:02,018] A new study created in memory with name: no-name-e027b1d8-f32a-4f52-b562-80c8102ac2e3\n"
     ]
    },
    {
     "name": "stdout",
     "output_type": "stream",
     "text": [
      "Optimizing hyperparameters for product: FOODS_3_586_CA_1_validation\n"
     ]
    },
    {
     "name": "stderr",
     "output_type": "stream",
     "text": [
      "[I 2024-05-15 18:19:03,064] Trial 0 finished with value: 0.8348421251538575 and parameters: {'trend': 'add', 'seasonal': None, 'seasonal_periods': 4}. Best is trial 0 with value: 0.8348421251538575.\n",
      "[I 2024-05-15 18:19:03,127] Trial 2 finished with value: 0.8348421251538575 and parameters: {'trend': 'add', 'seasonal': None, 'seasonal_periods': 7}. Best is trial 0 with value: 0.8348421251538575.\n",
      "[I 2024-05-15 18:19:03,219] Trial 7 finished with value: 0.8348421251538575 and parameters: {'trend': 'add', 'seasonal': None, 'seasonal_periods': 12}. Best is trial 0 with value: 0.8348421251538575.\n",
      "[I 2024-05-15 18:19:03,260] Trial 3 finished with value: 0.8348421251538575 and parameters: {'trend': 'add', 'seasonal': None, 'seasonal_periods': None}. Best is trial 0 with value: 0.8348421251538575.\n",
      "[I 2024-05-15 18:19:03,312] Trial 6 finished with value: 0.8348421251538575 and parameters: {'trend': 'add', 'seasonal': None, 'seasonal_periods': 4}. Best is trial 0 with value: 0.8348421251538575.\n",
      "[I 2024-05-15 18:19:03,520] Trial 4 finished with value: 0.8348421251538575 and parameters: {'trend': 'add', 'seasonal': None, 'seasonal_periods': 4}. Best is trial 0 with value: 0.8348421251538575.\n",
      "[I 2024-05-15 18:19:03,530] Trial 1 finished with value: 0.8195827148320998 and parameters: {'trend': 'add', 'seasonal': 'add', 'seasonal_periods': 12}. Best is trial 1 with value: 0.8195827148320998.\n",
      "[I 2024-05-15 18:19:03,708] Trial 5 finished with value: 0.8651170385165958 and parameters: {'trend': 'add', 'seasonal': 'add', 'seasonal_periods': None}. Best is trial 1 with value: 0.8195827148320998.\n",
      "[I 2024-05-15 18:19:03,755] Trial 8 finished with value: 0.8651170385165958 and parameters: {'trend': 'add', 'seasonal': 'add', 'seasonal_periods': None}. Best is trial 1 with value: 0.8195827148320998.\n",
      "[I 2024-05-15 18:19:03,795] Trial 9 finished with value: 0.8651170385165958 and parameters: {'trend': 'add', 'seasonal': 'add', 'seasonal_periods': 7}. Best is trial 1 with value: 0.8195827148320998.\n",
      "/opt/conda/lib/python3.10/site-packages/statsmodels/tsa/base/tsa_model.py:473: ValueWarning: No frequency information was provided, so inferred frequency D will be used.\n",
      "  self._init_dates(dates, freq)\n",
      "/var/tmp/ipykernel_1903582/1261245201.py:12: SettingWithCopyWarning: \n",
      "A value is trying to be set on a copy of a slice from a DataFrame.\n",
      "Try using .loc[row_indexer,col_indexer] = value instead\n",
      "\n",
      "See the caveats in the documentation: https://pandas.pydata.org/pandas-docs/stable/user_guide/indexing.html#returning-a-view-versus-a-copy\n",
      "  prophet_data_train['ds'] = pd.to_datetime(prophet_data_train['ds'])\n",
      "/var/tmp/ipykernel_1903582/1261245201.py:13: SettingWithCopyWarning: \n",
      "A value is trying to be set on a copy of a slice from a DataFrame.\n",
      "Try using .loc[row_indexer,col_indexer] = value instead\n",
      "\n",
      "See the caveats in the documentation: https://pandas.pydata.org/pandas-docs/stable/user_guide/indexing.html#returning-a-view-versus-a-copy\n",
      "  prophet_data_test['ds'] = pd.to_datetime(prophet_data_test['ds'])\n",
      "18:19:04 - cmdstanpy - INFO - Chain [1] start processing\n",
      "18:19:04 - cmdstanpy - INFO - Chain [1] done processing\n",
      "/var/tmp/ipykernel_1903582/1261245201.py:12: SettingWithCopyWarning: \n",
      "A value is trying to be set on a copy of a slice from a DataFrame.\n",
      "Try using .loc[row_indexer,col_indexer] = value instead\n",
      "\n",
      "See the caveats in the documentation: https://pandas.pydata.org/pandas-docs/stable/user_guide/indexing.html#returning-a-view-versus-a-copy\n",
      "  prophet_data_train['ds'] = pd.to_datetime(prophet_data_train['ds'])\n",
      "/var/tmp/ipykernel_1903582/1261245201.py:13: SettingWithCopyWarning: \n",
      "A value is trying to be set on a copy of a slice from a DataFrame.\n",
      "Try using .loc[row_indexer,col_indexer] = value instead\n",
      "\n",
      "See the caveats in the documentation: https://pandas.pydata.org/pandas-docs/stable/user_guide/indexing.html#returning-a-view-versus-a-copy\n",
      "  prophet_data_test['ds'] = pd.to_datetime(prophet_data_test['ds'])\n",
      "18:19:04 - cmdstanpy - INFO - Chain [1] start processing\n",
      "18:19:04 - cmdstanpy - INFO - Chain [1] done processing\n",
      "/var/tmp/ipykernel_1903582/1261245201.py:12: SettingWithCopyWarning: \n",
      "A value is trying to be set on a copy of a slice from a DataFrame.\n",
      "Try using .loc[row_indexer,col_indexer] = value instead\n",
      "\n",
      "See the caveats in the documentation: https://pandas.pydata.org/pandas-docs/stable/user_guide/indexing.html#returning-a-view-versus-a-copy\n",
      "  prophet_data_train['ds'] = pd.to_datetime(prophet_data_train['ds'])\n",
      "/var/tmp/ipykernel_1903582/1261245201.py:13: SettingWithCopyWarning: \n",
      "A value is trying to be set on a copy of a slice from a DataFrame.\n",
      "Try using .loc[row_indexer,col_indexer] = value instead\n",
      "\n",
      "See the caveats in the documentation: https://pandas.pydata.org/pandas-docs/stable/user_guide/indexing.html#returning-a-view-versus-a-copy\n",
      "  prophet_data_test['ds'] = pd.to_datetime(prophet_data_test['ds'])\n",
      "18:19:04 - cmdstanpy - INFO - Chain [1] start processing\n",
      "18:19:04 - cmdstanpy - INFO - Chain [1] done processing\n",
      "/var/tmp/ipykernel_1903582/1261245201.py:12: SettingWithCopyWarning: \n",
      "A value is trying to be set on a copy of a slice from a DataFrame.\n",
      "Try using .loc[row_indexer,col_indexer] = value instead\n",
      "\n",
      "See the caveats in the documentation: https://pandas.pydata.org/pandas-docs/stable/user_guide/indexing.html#returning-a-view-versus-a-copy\n",
      "  prophet_data_train['ds'] = pd.to_datetime(prophet_data_train['ds'])\n",
      "/var/tmp/ipykernel_1903582/1261245201.py:13: SettingWithCopyWarning: \n",
      "A value is trying to be set on a copy of a slice from a DataFrame.\n",
      "Try using .loc[row_indexer,col_indexer] = value instead\n",
      "\n",
      "See the caveats in the documentation: https://pandas.pydata.org/pandas-docs/stable/user_guide/indexing.html#returning-a-view-versus-a-copy\n",
      "  prophet_data_test['ds'] = pd.to_datetime(prophet_data_test['ds'])\n",
      "18:19:05 - cmdstanpy - INFO - Chain [1] start processing\n",
      "18:19:05 - cmdstanpy - INFO - Chain [1] done processing\n",
      "/var/tmp/ipykernel_1903582/1261245201.py:12: SettingWithCopyWarning: \n",
      "A value is trying to be set on a copy of a slice from a DataFrame.\n",
      "Try using .loc[row_indexer,col_indexer] = value instead\n",
      "\n",
      "See the caveats in the documentation: https://pandas.pydata.org/pandas-docs/stable/user_guide/indexing.html#returning-a-view-versus-a-copy\n",
      "  prophet_data_train['ds'] = pd.to_datetime(prophet_data_train['ds'])\n",
      "/var/tmp/ipykernel_1903582/1261245201.py:13: SettingWithCopyWarning: \n",
      "A value is trying to be set on a copy of a slice from a DataFrame.\n",
      "Try using .loc[row_indexer,col_indexer] = value instead\n",
      "\n",
      "See the caveats in the documentation: https://pandas.pydata.org/pandas-docs/stable/user_guide/indexing.html#returning-a-view-versus-a-copy\n",
      "  prophet_data_test['ds'] = pd.to_datetime(prophet_data_test['ds'])\n",
      "18:19:05 - cmdstanpy - INFO - Chain [1] start processing\n",
      "18:19:05 - cmdstanpy - INFO - Chain [1] done processing\n",
      "/opt/conda/lib/python3.10/site-packages/lightgbm/engine.py:172: UserWarning: Found `n_estimators` in params. Will use it instead of argument\n",
      "  _log_warning(f\"Found `{alias}` in params. Will use it instead of argument\")\n"
     ]
    },
    {
     "name": "stdout",
     "output_type": "stream",
     "text": [
      "Training until validation scores don't improve for 50 rounds\n",
      "Early stopping, best iteration is:\n",
      "[417]\tvalid_0's rmse: 6.36797\n",
      "Training until validation scores don't improve for 50 rounds\n"
     ]
    },
    {
     "name": "stderr",
     "output_type": "stream",
     "text": [
      "/opt/conda/lib/python3.10/site-packages/lightgbm/engine.py:172: UserWarning: Found `n_estimators` in params. Will use it instead of argument\n",
      "  _log_warning(f\"Found `{alias}` in params. Will use it instead of argument\")\n"
     ]
    },
    {
     "name": "stdout",
     "output_type": "stream",
     "text": [
      "Early stopping, best iteration is:\n",
      "[490]\tvalid_0's rmse: 7.26448\n",
      "Training until validation scores don't improve for 50 rounds\n"
     ]
    },
    {
     "name": "stderr",
     "output_type": "stream",
     "text": [
      "/opt/conda/lib/python3.10/site-packages/lightgbm/engine.py:172: UserWarning: Found `n_estimators` in params. Will use it instead of argument\n",
      "  _log_warning(f\"Found `{alias}` in params. Will use it instead of argument\")\n"
     ]
    },
    {
     "name": "stdout",
     "output_type": "stream",
     "text": [
      "Did not meet early stopping. Best iteration is:\n",
      "[988]\tvalid_0's rmse: 8.14463\n",
      "Training until validation scores don't improve for 50 rounds\n"
     ]
    },
    {
     "name": "stderr",
     "output_type": "stream",
     "text": [
      "/opt/conda/lib/python3.10/site-packages/lightgbm/engine.py:172: UserWarning: Found `n_estimators` in params. Will use it instead of argument\n",
      "  _log_warning(f\"Found `{alias}` in params. Will use it instead of argument\")\n"
     ]
    },
    {
     "name": "stdout",
     "output_type": "stream",
     "text": [
      "Early stopping, best iteration is:\n",
      "[197]\tvalid_0's rmse: 11.6893\n",
      "Training until validation scores don't improve for 50 rounds\n"
     ]
    },
    {
     "name": "stderr",
     "output_type": "stream",
     "text": [
      "/opt/conda/lib/python3.10/site-packages/lightgbm/engine.py:172: UserWarning: Found `n_estimators` in params. Will use it instead of argument\n",
      "  _log_warning(f\"Found `{alias}` in params. Will use it instead of argument\")\n"
     ]
    },
    {
     "name": "stdout",
     "output_type": "stream",
     "text": [
      "Did not meet early stopping. Best iteration is:\n",
      "[1000]\tvalid_0's rmse: 8.28757\n"
     ]
    },
    {
     "name": "stderr",
     "output_type": "stream",
     "text": [
      "GPU available: False, used: False\n",
      "TPU available: False, using: 0 TPU cores\n",
      "IPU available: False, using: 0 IPUs\n",
      "HPU available: False, using: 0 HPUs\n",
      "Missing logger folder: logs/tft_logs\n",
      "\n",
      "   | Name                              | Type                             | Params\n",
      "----------------------------------------------------------------------------------------\n",
      "0  | train_metrics                     | MetricCollection                 | 0     \n",
      "1  | val_metrics                       | MetricCollection                 | 0     \n",
      "2  | input_embeddings                  | _MultiEmbedding                  | 0     \n",
      "3  | static_covariates_vsn             | _VariableSelectionNetwork        | 0     \n",
      "4  | encoder_vsn                       | _VariableSelectionNetwork        | 93.0 K\n",
      "5  | decoder_vsn                       | _VariableSelectionNetwork        | 46.4 K\n",
      "6  | static_context_grn                | _GatedResidualNetwork            | 1.1 K \n",
      "7  | static_context_hidden_encoder_grn | _GatedResidualNetwork            | 1.1 K \n",
      "8  | static_context_cell_encoder_grn   | _GatedResidualNetwork            | 1.1 K \n",
      "9  | static_context_enrichment         | _GatedResidualNetwork            | 1.1 K \n",
      "10 | lstm_encoder                      | LSTM                             | 4.4 K \n",
      "11 | lstm_decoder                      | LSTM                             | 4.4 K \n",
      "12 | post_lstm_gan                     | _GateAddNorm                     | 576   \n",
      "13 | static_enrichment_grn             | _GatedResidualNetwork            | 1.4 K \n",
      "14 | multihead_attn                    | _InterpretableMultiHeadAttention | 676   \n",
      "15 | post_attn_gan                     | _GateAddNorm                     | 576   \n",
      "16 | feed_forward_block                | _GatedResidualNetwork            | 1.1 K \n",
      "17 | pre_output_gan                    | _GateAddNorm                     | 576   \n",
      "18 | output_layer                      | Linear                           | 289   \n",
      "----------------------------------------------------------------------------------------\n",
      "156 K     Trainable params\n",
      "0         Non-trainable params\n",
      "156 K     Total params\n",
      "0.627     Total estimated model params size (MB)\n"
     ]
    },
    {
     "data": {
      "application/vnd.jupyter.widget-view+json": {
       "model_id": "c16a924deb4948278744e10b691ff96b",
       "version_major": 2,
       "version_minor": 0
      },
      "text/plain": [
       "Sanity Checking: |          | 0/? [00:00<?, ?it/s]"
      ]
     },
     "metadata": {},
     "output_type": "display_data"
    },
    {
     "data": {
      "application/vnd.jupyter.widget-view+json": {
       "model_id": "afc69b21db2948ee982b2bbf6389db8c",
       "version_major": 2,
       "version_minor": 0
      },
      "text/plain": [
       "Training: |          | 0/? [00:00<?, ?it/s]"
      ]
     },
     "metadata": {},
     "output_type": "display_data"
    },
    {
     "data": {
      "application/vnd.jupyter.widget-view+json": {
       "model_id": "29fe48da65424158928b392a5e73083c",
       "version_major": 2,
       "version_minor": 0
      },
      "text/plain": [
       "Validation: |          | 0/? [00:00<?, ?it/s]"
      ]
     },
     "metadata": {},
     "output_type": "display_data"
    },
    {
     "data": {
      "application/vnd.jupyter.widget-view+json": {
       "model_id": "21176be700474d98897b3a9c792cc408",
       "version_major": 2,
       "version_minor": 0
      },
      "text/plain": [
       "Validation: |          | 0/? [00:00<?, ?it/s]"
      ]
     },
     "metadata": {},
     "output_type": "display_data"
    },
    {
     "data": {
      "application/vnd.jupyter.widget-view+json": {
       "model_id": "d1d1c433cbfc48c9936eb6c48c91ff79",
       "version_major": 2,
       "version_minor": 0
      },
      "text/plain": [
       "Validation: |          | 0/? [00:00<?, ?it/s]"
      ]
     },
     "metadata": {},
     "output_type": "display_data"
    },
    {
     "data": {
      "application/vnd.jupyter.widget-view+json": {
       "model_id": "cc7cfba05e59420f9902311a922bb742",
       "version_major": 2,
       "version_minor": 0
      },
      "text/plain": [
       "Validation: |          | 0/? [00:00<?, ?it/s]"
      ]
     },
     "metadata": {},
     "output_type": "display_data"
    },
    {
     "data": {
      "application/vnd.jupyter.widget-view+json": {
       "model_id": "5d68506514a54f2aafb009b684484774",
       "version_major": 2,
       "version_minor": 0
      },
      "text/plain": [
       "Validation: |          | 0/? [00:00<?, ?it/s]"
      ]
     },
     "metadata": {},
     "output_type": "display_data"
    },
    {
     "data": {
      "application/vnd.jupyter.widget-view+json": {
       "model_id": "0333aab4091c49e3b9f02e95a29e5068",
       "version_major": 2,
       "version_minor": 0
      },
      "text/plain": [
       "Validation: |          | 0/? [00:00<?, ?it/s]"
      ]
     },
     "metadata": {},
     "output_type": "display_data"
    },
    {
     "data": {
      "application/vnd.jupyter.widget-view+json": {
       "model_id": "5fdb2a05c95c42ffbb9df89d80331891",
       "version_major": 2,
       "version_minor": 0
      },
      "text/plain": [
       "Validation: |          | 0/? [00:00<?, ?it/s]"
      ]
     },
     "metadata": {},
     "output_type": "display_data"
    },
    {
     "data": {
      "application/vnd.jupyter.widget-view+json": {
       "model_id": "d0ad61ff1f114e51989bc97060959ed8",
       "version_major": 2,
       "version_minor": 0
      },
      "text/plain": [
       "Validation: |          | 0/? [00:00<?, ?it/s]"
      ]
     },
     "metadata": {},
     "output_type": "display_data"
    },
    {
     "data": {
      "application/vnd.jupyter.widget-view+json": {
       "model_id": "62261f8beadf404f8fe6b2000129c68f",
       "version_major": 2,
       "version_minor": 0
      },
      "text/plain": [
       "Validation: |          | 0/? [00:00<?, ?it/s]"
      ]
     },
     "metadata": {},
     "output_type": "display_data"
    },
    {
     "data": {
      "application/vnd.jupyter.widget-view+json": {
       "model_id": "2ff64c0eb84b47e1ac1b982b02d31d38",
       "version_major": 2,
       "version_minor": 0
      },
      "text/plain": [
       "Validation: |          | 0/? [00:00<?, ?it/s]"
      ]
     },
     "metadata": {},
     "output_type": "display_data"
    },
    {
     "data": {
      "application/vnd.jupyter.widget-view+json": {
       "model_id": "57a5a236f60040f5bf8818f6bfe3535e",
       "version_major": 2,
       "version_minor": 0
      },
      "text/plain": [
       "Validation: |          | 0/? [00:00<?, ?it/s]"
      ]
     },
     "metadata": {},
     "output_type": "display_data"
    },
    {
     "data": {
      "application/vnd.jupyter.widget-view+json": {
       "model_id": "1d77cada538948a8aecc54da90e6862d",
       "version_major": 2,
       "version_minor": 0
      },
      "text/plain": [
       "Validation: |          | 0/? [00:00<?, ?it/s]"
      ]
     },
     "metadata": {},
     "output_type": "display_data"
    },
    {
     "data": {
      "application/vnd.jupyter.widget-view+json": {
       "model_id": "aefb7c0ec26843e8b75609f22eacd49c",
       "version_major": 2,
       "version_minor": 0
      },
      "text/plain": [
       "Validation: |          | 0/? [00:00<?, ?it/s]"
      ]
     },
     "metadata": {},
     "output_type": "display_data"
    },
    {
     "data": {
      "application/vnd.jupyter.widget-view+json": {
       "model_id": "e531e49e93b2449a8cf169511c8b651d",
       "version_major": 2,
       "version_minor": 0
      },
      "text/plain": [
       "Validation: |          | 0/? [00:00<?, ?it/s]"
      ]
     },
     "metadata": {},
     "output_type": "display_data"
    },
    {
     "data": {
      "application/vnd.jupyter.widget-view+json": {
       "model_id": "6e7376bf11ca4f3b816f0c8923134ce1",
       "version_major": 2,
       "version_minor": 0
      },
      "text/plain": [
       "Validation: |          | 0/? [00:00<?, ?it/s]"
      ]
     },
     "metadata": {},
     "output_type": "display_data"
    },
    {
     "data": {
      "application/vnd.jupyter.widget-view+json": {
       "model_id": "013df06627e04269ba5039af81208653",
       "version_major": 2,
       "version_minor": 0
      },
      "text/plain": [
       "Validation: |          | 0/? [00:00<?, ?it/s]"
      ]
     },
     "metadata": {},
     "output_type": "display_data"
    },
    {
     "data": {
      "application/vnd.jupyter.widget-view+json": {
       "model_id": "fb64c793d3544a44b0cc6a6ccca28dab",
       "version_major": 2,
       "version_minor": 0
      },
      "text/plain": [
       "Validation: |          | 0/? [00:00<?, ?it/s]"
      ]
     },
     "metadata": {},
     "output_type": "display_data"
    },
    {
     "name": "stdout",
     "output_type": "stream",
     "text": [
      "{'ARIMA': {'rmsse': 0.6090546351864615, 'model': ARIMA(order=(4, 1, 3), scoring_args={}, suppress_warnings=True,\n",
      "      with_intercept=False)}, 'ExponentialSmoothing': {'rmsse': 0.597701329731033, 'model': <statsmodels.tsa.holtwinters.results.HoltWintersResultsWrapper object at 0x7f7203cb9780>}, 'Prophet': {'rmsse': 0.5923654537516411, 'model': <prophet.forecaster.Prophet object at 0x7f71b31aae00>}, 'LightGBM': {'rmsse': 0.7375073600389926, 'model': <lightgbm.basic.Booster object at 0x7f7203ed6b90>}, 'RandomForest': {'rmsse': 0.5607628016414925, 'model': RandomForestRegressor(random_state=42)}, 'DartsTFT': {'rmsse': 8.673525902532763, 'model': TFTModel(output_chunk_shift=0, hidden_size=16, lstm_layers=2, num_attention_heads=4, full_attention=False, feed_forward=GatedResidualNetwork, dropout=0.2, hidden_continuous_size=8, categorical_embedding_sizes=None, add_relative_index=False, loss_fn=None, likelihood=None, norm_type=LayerNorm, use_static_covariates=True, input_chunk_length=56, output_chunk_length=28, pl_trainer_kwargs={'callbacks': [<pytorch_lightning.callbacks.early_stopping.EarlyStopping object at 0x7f720429dcf0>], 'accelerator': 'cpu', 'logger': <pytorch_lightning.loggers.csv_logs.CSVLogger object at 0x7f720429fe20>}, batch_size=16, torch_metrics=MeanAbsoluteError(), n_epochs=50)}}\n",
      "Model results for FOODS_3_586_CA_1_validation\n",
      "Best model: RandomForest\n",
      "Best score: 0.5607628016414925\n",
      "Analyzing product: FOODS_3_252_TX_3_validation\n"
     ]
    },
    {
     "name": "stderr",
     "output_type": "stream",
     "text": [
      "[I 2024-05-15 18:41:43,953] A new study created in memory with name: no-name-92c4b7e1-d97f-4746-8e8f-48e85b5f007f\n"
     ]
    },
    {
     "name": "stdout",
     "output_type": "stream",
     "text": [
      "Optimizing hyperparameters for product: FOODS_3_252_TX_3_validation\n"
     ]
    },
    {
     "name": "stderr",
     "output_type": "stream",
     "text": [
      "[I 2024-05-15 18:41:44,238] Trial 2 finished with value: 0.9690412470573647 and parameters: {'trend': 'add', 'seasonal': None, 'seasonal_periods': None}. Best is trial 2 with value: 0.9690412470573647.\n",
      "[I 2024-05-15 18:41:44,278] Trial 1 finished with value: 0.9690412470573647 and parameters: {'trend': 'add', 'seasonal': None, 'seasonal_periods': None}. Best is trial 2 with value: 0.9690412470573647.\n",
      "[I 2024-05-15 18:41:44,480] Trial 3 finished with value: 0.9690412470573647 and parameters: {'trend': 'add', 'seasonal': None, 'seasonal_periods': 7}. Best is trial 2 with value: 0.9690412470573647.\n",
      "[I 2024-05-15 18:41:44,786] Trial 9 finished with value: 0.9690412470573647 and parameters: {'trend': 'add', 'seasonal': None, 'seasonal_periods': 12}. Best is trial 2 with value: 0.9690412470573647.\n",
      "[I 2024-05-15 18:41:44,976] Trial 8 finished with value: 0.9690412470573647 and parameters: {'trend': 'add', 'seasonal': None, 'seasonal_periods': 4}. Best is trial 2 with value: 0.9690412470573647.\n",
      "[I 2024-05-15 18:41:45,644] Trial 0 finished with value: 0.9045428133370859 and parameters: {'trend': 'add', 'seasonal': 'add', 'seasonal_periods': 12}. Best is trial 0 with value: 0.9045428133370859.\n",
      "[I 2024-05-15 18:41:45,645] Trial 4 finished with value: 0.9374113879354142 and parameters: {'trend': 'add', 'seasonal': 'add', 'seasonal_periods': 4}. Best is trial 0 with value: 0.9045428133370859.\n",
      "[I 2024-05-15 18:41:45,677] Trial 7 finished with value: 0.9045428133370859 and parameters: {'trend': 'add', 'seasonal': 'add', 'seasonal_periods': 12}. Best is trial 0 with value: 0.9045428133370859.\n",
      "[I 2024-05-15 18:41:45,692] Trial 5 finished with value: 0.9374113879354142 and parameters: {'trend': 'add', 'seasonal': 'add', 'seasonal_periods': 4}. Best is trial 0 with value: 0.9045428133370859.\n",
      "[I 2024-05-15 18:41:45,729] Trial 6 finished with value: 0.9045428133370859 and parameters: {'trend': 'add', 'seasonal': 'add', 'seasonal_periods': 12}. Best is trial 0 with value: 0.9045428133370859.\n",
      "/opt/conda/lib/python3.10/site-packages/statsmodels/tsa/base/tsa_model.py:473: ValueWarning: No frequency information was provided, so inferred frequency D will be used.\n",
      "  self._init_dates(dates, freq)\n",
      "[I 2024-05-15 18:41:45,991] A new study created in memory with name: no-name-44932dca-6c59-4e79-9046-3fdb3233d16a\n"
     ]
    },
    {
     "name": "stdout",
     "output_type": "stream",
     "text": [
      "Optimizing hyperparameters for product: FOODS_3_252_TX_3_validation\n"
     ]
    },
    {
     "name": "stderr",
     "output_type": "stream",
     "text": [
      "[I 2024-05-15 18:41:46,674] Trial 3 finished with value: 0.9399165214841414 and parameters: {'trend': 'add', 'seasonal': None, 'seasonal_periods': 12}. Best is trial 3 with value: 0.9399165214841414.\n",
      "[I 2024-05-15 18:41:46,898] Trial 9 finished with value: 0.9399165214841414 and parameters: {'trend': 'add', 'seasonal': None, 'seasonal_periods': 7}. Best is trial 3 with value: 0.9399165214841414.\n",
      "[I 2024-05-15 18:41:46,939] Trial 0 finished with value: 0.9399165214841414 and parameters: {'trend': 'add', 'seasonal': None, 'seasonal_periods': None}. Best is trial 3 with value: 0.9399165214841414.\n",
      "[I 2024-05-15 18:41:46,951] Trial 1 finished with value: 0.9399165214841414 and parameters: {'trend': 'add', 'seasonal': None, 'seasonal_periods': 4}. Best is trial 3 with value: 0.9399165214841414.\n",
      "[I 2024-05-15 18:41:46,965] Trial 5 finished with value: 0.9399165214841414 and parameters: {'trend': 'add', 'seasonal': None, 'seasonal_periods': 4}. Best is trial 3 with value: 0.9399165214841414.\n",
      "[I 2024-05-15 18:41:47,043] Trial 7 finished with value: 0.9399165214841414 and parameters: {'trend': 'add', 'seasonal': None, 'seasonal_periods': 7}. Best is trial 3 with value: 0.9399165214841414.\n",
      "[I 2024-05-15 18:41:47,086] Trial 4 finished with value: 0.9399165214841414 and parameters: {'trend': 'add', 'seasonal': None, 'seasonal_periods': 4}. Best is trial 3 with value: 0.9399165214841414.\n",
      "[I 2024-05-15 18:41:47,102] Trial 6 finished with value: 0.9399165214841414 and parameters: {'trend': 'add', 'seasonal': None, 'seasonal_periods': None}. Best is trial 3 with value: 0.9399165214841414.\n",
      "[I 2024-05-15 18:41:47,108] Trial 8 finished with value: 0.9399165214841414 and parameters: {'trend': 'add', 'seasonal': None, 'seasonal_periods': 7}. Best is trial 3 with value: 0.9399165214841414.\n",
      "[I 2024-05-15 18:41:47,144] Trial 2 finished with value: 0.9483185545697689 and parameters: {'trend': 'add', 'seasonal': 'add', 'seasonal_periods': 4}. Best is trial 3 with value: 0.9399165214841414.\n",
      "/opt/conda/lib/python3.10/site-packages/statsmodels/tsa/base/tsa_model.py:473: ValueWarning: No frequency information was provided, so inferred frequency D will be used.\n",
      "  self._init_dates(dates, freq)\n",
      "[I 2024-05-15 18:41:47,204] A new study created in memory with name: no-name-8989078c-2822-42a6-b8b4-72e29f01de7d\n"
     ]
    },
    {
     "name": "stdout",
     "output_type": "stream",
     "text": [
      "Optimizing hyperparameters for product: FOODS_3_252_TX_3_validation\n"
     ]
    },
    {
     "name": "stderr",
     "output_type": "stream",
     "text": [
      "[I 2024-05-15 18:41:47,595] Trial 3 finished with value: 0.8645145496949335 and parameters: {'trend': 'add', 'seasonal': None, 'seasonal_periods': 4}. Best is trial 3 with value: 0.8645145496949335.\n",
      "[I 2024-05-15 18:41:47,639] Trial 2 finished with value: 0.8645145496949335 and parameters: {'trend': 'add', 'seasonal': None, 'seasonal_periods': 4}. Best is trial 3 with value: 0.8645145496949335.\n",
      "[I 2024-05-15 18:41:47,941] Trial 9 finished with value: 0.8645145496949335 and parameters: {'trend': 'add', 'seasonal': None, 'seasonal_periods': 12}. Best is trial 3 with value: 0.8645145496949335.\n",
      "[I 2024-05-15 18:41:47,946] Trial 1 finished with value: 0.8645145496949335 and parameters: {'trend': 'add', 'seasonal': None, 'seasonal_periods': 7}. Best is trial 3 with value: 0.8645145496949335.\n",
      "[I 2024-05-15 18:41:49,043] Trial 7 finished with value: 0.8899256001509743 and parameters: {'trend': 'add', 'seasonal': 'add', 'seasonal_periods': 12}. Best is trial 3 with value: 0.8645145496949335.\n",
      "[I 2024-05-15 18:41:49,112] Trial 5 finished with value: 0.8899256001509743 and parameters: {'trend': 'add', 'seasonal': 'add', 'seasonal_periods': 12}. Best is trial 3 with value: 0.8645145496949335.\n",
      "[I 2024-05-15 18:41:49,133] Trial 4 finished with value: 0.8899256001509743 and parameters: {'trend': 'add', 'seasonal': 'add', 'seasonal_periods': 12}. Best is trial 3 with value: 0.8645145496949335.\n",
      "[I 2024-05-15 18:41:49,143] Trial 6 finished with value: 0.9040379798840829 and parameters: {'trend': 'add', 'seasonal': 'add', 'seasonal_periods': 4}. Best is trial 3 with value: 0.8645145496949335.\n",
      "[I 2024-05-15 18:41:49,209] Trial 0 finished with value: 0.8369919860365754 and parameters: {'trend': 'add', 'seasonal': 'add', 'seasonal_periods': None}. Best is trial 0 with value: 0.8369919860365754.\n",
      "[I 2024-05-15 18:41:49,249] Trial 8 finished with value: 0.8369919860365754 and parameters: {'trend': 'add', 'seasonal': 'add', 'seasonal_periods': None}. Best is trial 0 with value: 0.8369919860365754.\n",
      "/opt/conda/lib/python3.10/site-packages/statsmodels/tsa/base/tsa_model.py:473: ValueWarning: No frequency information was provided, so inferred frequency D will be used.\n",
      "  self._init_dates(dates, freq)\n",
      "[I 2024-05-15 18:41:49,525] A new study created in memory with name: no-name-7ed1f57d-1f0b-4311-bc7b-9489b3c29f67\n"
     ]
    },
    {
     "name": "stdout",
     "output_type": "stream",
     "text": [
      "Optimizing hyperparameters for product: FOODS_3_252_TX_3_validation\n"
     ]
    },
    {
     "name": "stderr",
     "output_type": "stream",
     "text": [
      "[I 2024-05-15 18:41:50,209] Trial 4 finished with value: 0.46890337827694595 and parameters: {'trend': 'add', 'seasonal': None, 'seasonal_periods': 7}. Best is trial 4 with value: 0.46890337827694595.\n",
      "[I 2024-05-15 18:41:50,876] Trial 7 finished with value: 0.46890337827694595 and parameters: {'trend': 'add', 'seasonal': None, 'seasonal_periods': 4}. Best is trial 4 with value: 0.46890337827694595.\n",
      "[I 2024-05-15 18:41:51,625] Trial 2 finished with value: 0.49461620652549815 and parameters: {'trend': 'add', 'seasonal': 'add', 'seasonal_periods': 12}. Best is trial 4 with value: 0.46890337827694595.\n",
      "[I 2024-05-15 18:41:51,691] Trial 5 finished with value: 0.49461620652549815 and parameters: {'trend': 'add', 'seasonal': 'add', 'seasonal_periods': 12}. Best is trial 4 with value: 0.46890337827694595.\n",
      "[I 2024-05-15 18:41:51,860] Trial 8 finished with value: 0.49461620652549815 and parameters: {'trend': 'add', 'seasonal': 'add', 'seasonal_periods': 12}. Best is trial 4 with value: 0.46890337827694595.\n",
      "[I 2024-05-15 18:41:51,916] Trial 9 finished with value: 0.46433140777944165 and parameters: {'trend': 'add', 'seasonal': 'add', 'seasonal_periods': 4}. Best is trial 9 with value: 0.46433140777944165.\n",
      "[I 2024-05-15 18:41:51,951] Trial 0 finished with value: 0.43621047203998986 and parameters: {'trend': 'add', 'seasonal': 'add', 'seasonal_periods': None}. Best is trial 0 with value: 0.43621047203998986.\n",
      "[I 2024-05-15 18:41:51,955] Trial 3 finished with value: 0.46433140777944165 and parameters: {'trend': 'add', 'seasonal': 'add', 'seasonal_periods': 4}. Best is trial 0 with value: 0.43621047203998986.\n",
      "[I 2024-05-15 18:41:51,996] Trial 1 finished with value: 0.43621047203998986 and parameters: {'trend': 'add', 'seasonal': 'add', 'seasonal_periods': None}. Best is trial 0 with value: 0.43621047203998986.\n",
      "[I 2024-05-15 18:41:52,036] Trial 6 finished with value: 0.43621047203998986 and parameters: {'trend': 'add', 'seasonal': 'add', 'seasonal_periods': None}. Best is trial 0 with value: 0.43621047203998986.\n",
      "/opt/conda/lib/python3.10/site-packages/statsmodels/tsa/base/tsa_model.py:473: ValueWarning: No frequency information was provided, so inferred frequency D will be used.\n",
      "  self._init_dates(dates, freq)\n",
      "[I 2024-05-15 18:41:52,288] A new study created in memory with name: no-name-5bee17c9-4be7-4757-886b-3e88171402f0\n"
     ]
    },
    {
     "name": "stdout",
     "output_type": "stream",
     "text": [
      "Optimizing hyperparameters for product: FOODS_3_252_TX_3_validation\n"
     ]
    },
    {
     "name": "stderr",
     "output_type": "stream",
     "text": [
      "[I 2024-05-15 18:41:52,734] Trial 0 finished with value: 0.7232058382670095 and parameters: {'trend': 'add', 'seasonal': None, 'seasonal_periods': None}. Best is trial 0 with value: 0.7232058382670095.\n",
      "[I 2024-05-15 18:41:53,000] Trial 7 finished with value: 0.7232058382670095 and parameters: {'trend': 'add', 'seasonal': None, 'seasonal_periods': 4}. Best is trial 0 with value: 0.7232058382670095.\n",
      "[I 2024-05-15 18:41:53,047] Trial 3 finished with value: 0.7232058382670095 and parameters: {'trend': 'add', 'seasonal': None, 'seasonal_periods': 7}. Best is trial 0 with value: 0.7232058382670095.\n",
      "[I 2024-05-15 18:41:53,107] Trial 5 finished with value: 0.7232058382670095 and parameters: {'trend': 'add', 'seasonal': None, 'seasonal_periods': 7}. Best is trial 0 with value: 0.7232058382670095.\n",
      "[I 2024-05-15 18:41:53,199] Trial 4 finished with value: 0.7232058382670095 and parameters: {'trend': 'add', 'seasonal': None, 'seasonal_periods': None}. Best is trial 0 with value: 0.7232058382670095.\n",
      "[I 2024-05-15 18:41:53,290] Trial 9 finished with value: 0.7232058382670095 and parameters: {'trend': 'add', 'seasonal': None, 'seasonal_periods': 4}. Best is trial 0 with value: 0.7232058382670095.\n",
      "[I 2024-05-15 18:41:53,674] Trial 2 finished with value: 0.7317396605480998 and parameters: {'trend': 'add', 'seasonal': 'add', 'seasonal_periods': 12}. Best is trial 0 with value: 0.7232058382670095.\n",
      "[I 2024-05-15 18:41:53,775] Trial 6 finished with value: 0.7317396605480998 and parameters: {'trend': 'add', 'seasonal': 'add', 'seasonal_periods': 12}. Best is trial 0 with value: 0.7232058382670095.\n",
      "[I 2024-05-15 18:41:53,799] Trial 1 finished with value: 0.7649555447330516 and parameters: {'trend': 'add', 'seasonal': 'add', 'seasonal_periods': None}. Best is trial 0 with value: 0.7232058382670095.\n",
      "[I 2024-05-15 18:41:53,840] Trial 8 finished with value: 0.7649555447330516 and parameters: {'trend': 'add', 'seasonal': 'add', 'seasonal_periods': 7}. Best is trial 0 with value: 0.7232058382670095.\n",
      "/opt/conda/lib/python3.10/site-packages/statsmodels/tsa/base/tsa_model.py:473: ValueWarning: No frequency information was provided, so inferred frequency D will be used.\n",
      "  self._init_dates(dates, freq)\n",
      "/var/tmp/ipykernel_1903582/1261245201.py:12: SettingWithCopyWarning: \n",
      "A value is trying to be set on a copy of a slice from a DataFrame.\n",
      "Try using .loc[row_indexer,col_indexer] = value instead\n",
      "\n",
      "See the caveats in the documentation: https://pandas.pydata.org/pandas-docs/stable/user_guide/indexing.html#returning-a-view-versus-a-copy\n",
      "  prophet_data_train['ds'] = pd.to_datetime(prophet_data_train['ds'])\n",
      "/var/tmp/ipykernel_1903582/1261245201.py:13: SettingWithCopyWarning: \n",
      "A value is trying to be set on a copy of a slice from a DataFrame.\n",
      "Try using .loc[row_indexer,col_indexer] = value instead\n",
      "\n",
      "See the caveats in the documentation: https://pandas.pydata.org/pandas-docs/stable/user_guide/indexing.html#returning-a-view-versus-a-copy\n",
      "  prophet_data_test['ds'] = pd.to_datetime(prophet_data_test['ds'])\n",
      "18:41:54 - cmdstanpy - INFO - Chain [1] start processing\n",
      "18:41:54 - cmdstanpy - INFO - Chain [1] done processing\n",
      "/var/tmp/ipykernel_1903582/1261245201.py:12: SettingWithCopyWarning: \n",
      "A value is trying to be set on a copy of a slice from a DataFrame.\n",
      "Try using .loc[row_indexer,col_indexer] = value instead\n",
      "\n",
      "See the caveats in the documentation: https://pandas.pydata.org/pandas-docs/stable/user_guide/indexing.html#returning-a-view-versus-a-copy\n",
      "  prophet_data_train['ds'] = pd.to_datetime(prophet_data_train['ds'])\n",
      "/var/tmp/ipykernel_1903582/1261245201.py:13: SettingWithCopyWarning: \n",
      "A value is trying to be set on a copy of a slice from a DataFrame.\n",
      "Try using .loc[row_indexer,col_indexer] = value instead\n",
      "\n",
      "See the caveats in the documentation: https://pandas.pydata.org/pandas-docs/stable/user_guide/indexing.html#returning-a-view-versus-a-copy\n",
      "  prophet_data_test['ds'] = pd.to_datetime(prophet_data_test['ds'])\n",
      "18:41:54 - cmdstanpy - INFO - Chain [1] start processing\n",
      "18:41:54 - cmdstanpy - INFO - Chain [1] done processing\n",
      "/var/tmp/ipykernel_1903582/1261245201.py:12: SettingWithCopyWarning: \n",
      "A value is trying to be set on a copy of a slice from a DataFrame.\n",
      "Try using .loc[row_indexer,col_indexer] = value instead\n",
      "\n",
      "See the caveats in the documentation: https://pandas.pydata.org/pandas-docs/stable/user_guide/indexing.html#returning-a-view-versus-a-copy\n",
      "  prophet_data_train['ds'] = pd.to_datetime(prophet_data_train['ds'])\n",
      "/var/tmp/ipykernel_1903582/1261245201.py:13: SettingWithCopyWarning: \n",
      "A value is trying to be set on a copy of a slice from a DataFrame.\n",
      "Try using .loc[row_indexer,col_indexer] = value instead\n",
      "\n",
      "See the caveats in the documentation: https://pandas.pydata.org/pandas-docs/stable/user_guide/indexing.html#returning-a-view-versus-a-copy\n",
      "  prophet_data_test['ds'] = pd.to_datetime(prophet_data_test['ds'])\n",
      "18:41:54 - cmdstanpy - INFO - Chain [1] start processing\n",
      "18:41:54 - cmdstanpy - INFO - Chain [1] done processing\n",
      "/var/tmp/ipykernel_1903582/1261245201.py:12: SettingWithCopyWarning: \n",
      "A value is trying to be set on a copy of a slice from a DataFrame.\n",
      "Try using .loc[row_indexer,col_indexer] = value instead\n",
      "\n",
      "See the caveats in the documentation: https://pandas.pydata.org/pandas-docs/stable/user_guide/indexing.html#returning-a-view-versus-a-copy\n",
      "  prophet_data_train['ds'] = pd.to_datetime(prophet_data_train['ds'])\n",
      "/var/tmp/ipykernel_1903582/1261245201.py:13: SettingWithCopyWarning: \n",
      "A value is trying to be set on a copy of a slice from a DataFrame.\n",
      "Try using .loc[row_indexer,col_indexer] = value instead\n",
      "\n",
      "See the caveats in the documentation: https://pandas.pydata.org/pandas-docs/stable/user_guide/indexing.html#returning-a-view-versus-a-copy\n",
      "  prophet_data_test['ds'] = pd.to_datetime(prophet_data_test['ds'])\n",
      "18:41:54 - cmdstanpy - INFO - Chain [1] start processing\n",
      "18:41:54 - cmdstanpy - INFO - Chain [1] done processing\n",
      "/var/tmp/ipykernel_1903582/1261245201.py:12: SettingWithCopyWarning: \n",
      "A value is trying to be set on a copy of a slice from a DataFrame.\n",
      "Try using .loc[row_indexer,col_indexer] = value instead\n",
      "\n",
      "See the caveats in the documentation: https://pandas.pydata.org/pandas-docs/stable/user_guide/indexing.html#returning-a-view-versus-a-copy\n",
      "  prophet_data_train['ds'] = pd.to_datetime(prophet_data_train['ds'])\n",
      "/var/tmp/ipykernel_1903582/1261245201.py:13: SettingWithCopyWarning: \n",
      "A value is trying to be set on a copy of a slice from a DataFrame.\n",
      "Try using .loc[row_indexer,col_indexer] = value instead\n",
      "\n",
      "See the caveats in the documentation: https://pandas.pydata.org/pandas-docs/stable/user_guide/indexing.html#returning-a-view-versus-a-copy\n",
      "  prophet_data_test['ds'] = pd.to_datetime(prophet_data_test['ds'])\n",
      "18:41:55 - cmdstanpy - INFO - Chain [1] start processing\n",
      "18:41:55 - cmdstanpy - INFO - Chain [1] done processing\n",
      "/opt/conda/lib/python3.10/site-packages/lightgbm/engine.py:172: UserWarning: Found `n_estimators` in params. Will use it instead of argument\n",
      "  _log_warning(f\"Found `{alias}` in params. Will use it instead of argument\")\n"
     ]
    },
    {
     "name": "stdout",
     "output_type": "stream",
     "text": [
      "Training until validation scores don't improve for 50 rounds\n",
      "Early stopping, best iteration is:\n",
      "[118]\tvalid_0's rmse: 16.4188\n",
      "Training until validation scores don't improve for 50 rounds\n"
     ]
    },
    {
     "name": "stderr",
     "output_type": "stream",
     "text": [
      "/opt/conda/lib/python3.10/site-packages/lightgbm/engine.py:172: UserWarning: Found `n_estimators` in params. Will use it instead of argument\n",
      "  _log_warning(f\"Found `{alias}` in params. Will use it instead of argument\")\n"
     ]
    },
    {
     "name": "stdout",
     "output_type": "stream",
     "text": [
      "Did not meet early stopping. Best iteration is:\n",
      "[999]\tvalid_0's rmse: 9.00678\n",
      "Training until validation scores don't improve for 50 rounds\n"
     ]
    },
    {
     "name": "stderr",
     "output_type": "stream",
     "text": [
      "/opt/conda/lib/python3.10/site-packages/lightgbm/engine.py:172: UserWarning: Found `n_estimators` in params. Will use it instead of argument\n",
      "  _log_warning(f\"Found `{alias}` in params. Will use it instead of argument\")\n"
     ]
    },
    {
     "name": "stdout",
     "output_type": "stream",
     "text": [
      "Early stopping, best iteration is:\n",
      "[338]\tvalid_0's rmse: 6.17959\n",
      "Training until validation scores don't improve for 50 rounds\n"
     ]
    },
    {
     "name": "stderr",
     "output_type": "stream",
     "text": [
      "/opt/conda/lib/python3.10/site-packages/lightgbm/engine.py:172: UserWarning: Found `n_estimators` in params. Will use it instead of argument\n",
      "  _log_warning(f\"Found `{alias}` in params. Will use it instead of argument\")\n"
     ]
    },
    {
     "name": "stdout",
     "output_type": "stream",
     "text": [
      "Did not meet early stopping. Best iteration is:\n",
      "[1000]\tvalid_0's rmse: 11.275\n",
      "Training until validation scores don't improve for 50 rounds\n"
     ]
    },
    {
     "name": "stderr",
     "output_type": "stream",
     "text": [
      "/opt/conda/lib/python3.10/site-packages/lightgbm/engine.py:172: UserWarning: Found `n_estimators` in params. Will use it instead of argument\n",
      "  _log_warning(f\"Found `{alias}` in params. Will use it instead of argument\")\n"
     ]
    },
    {
     "name": "stdout",
     "output_type": "stream",
     "text": [
      "Early stopping, best iteration is:\n",
      "[164]\tvalid_0's rmse: 8.90969\n"
     ]
    },
    {
     "name": "stderr",
     "output_type": "stream",
     "text": [
      "GPU available: False, used: False\n",
      "TPU available: False, using: 0 TPU cores\n",
      "IPU available: False, using: 0 IPUs\n",
      "HPU available: False, using: 0 HPUs\n",
      "Missing logger folder: logs/tft_logs\n",
      "\n",
      "   | Name                              | Type                             | Params\n",
      "----------------------------------------------------------------------------------------\n",
      "0  | train_metrics                     | MetricCollection                 | 0     \n",
      "1  | val_metrics                       | MetricCollection                 | 0     \n",
      "2  | input_embeddings                  | _MultiEmbedding                  | 0     \n",
      "3  | static_covariates_vsn             | _VariableSelectionNetwork        | 0     \n",
      "4  | encoder_vsn                       | _VariableSelectionNetwork        | 93.0 K\n",
      "5  | decoder_vsn                       | _VariableSelectionNetwork        | 46.4 K\n",
      "6  | static_context_grn                | _GatedResidualNetwork            | 1.1 K \n",
      "7  | static_context_hidden_encoder_grn | _GatedResidualNetwork            | 1.1 K \n",
      "8  | static_context_cell_encoder_grn   | _GatedResidualNetwork            | 1.1 K \n",
      "9  | static_context_enrichment         | _GatedResidualNetwork            | 1.1 K \n",
      "10 | lstm_encoder                      | LSTM                             | 4.4 K \n",
      "11 | lstm_decoder                      | LSTM                             | 4.4 K \n",
      "12 | post_lstm_gan                     | _GateAddNorm                     | 576   \n",
      "13 | static_enrichment_grn             | _GatedResidualNetwork            | 1.4 K \n",
      "14 | multihead_attn                    | _InterpretableMultiHeadAttention | 676   \n",
      "15 | post_attn_gan                     | _GateAddNorm                     | 576   \n",
      "16 | feed_forward_block                | _GatedResidualNetwork            | 1.1 K \n",
      "17 | pre_output_gan                    | _GateAddNorm                     | 576   \n",
      "18 | output_layer                      | Linear                           | 289   \n",
      "----------------------------------------------------------------------------------------\n",
      "156 K     Trainable params\n",
      "0         Non-trainable params\n",
      "156 K     Total params\n",
      "0.627     Total estimated model params size (MB)\n"
     ]
    },
    {
     "data": {
      "application/vnd.jupyter.widget-view+json": {
       "model_id": "b2513cec3d8643b4be234e12e955d8ab",
       "version_major": 2,
       "version_minor": 0
      },
      "text/plain": [
       "Sanity Checking: |          | 0/? [00:00<?, ?it/s]"
      ]
     },
     "metadata": {},
     "output_type": "display_data"
    },
    {
     "data": {
      "application/vnd.jupyter.widget-view+json": {
       "model_id": "fb80b8666472476fa53f8e06a29a8f25",
       "version_major": 2,
       "version_minor": 0
      },
      "text/plain": [
       "Training: |          | 0/? [00:00<?, ?it/s]"
      ]
     },
     "metadata": {},
     "output_type": "display_data"
    },
    {
     "data": {
      "application/vnd.jupyter.widget-view+json": {
       "model_id": "9fb1d880772d41c9b93b908689f0e49c",
       "version_major": 2,
       "version_minor": 0
      },
      "text/plain": [
       "Validation: |          | 0/? [00:00<?, ?it/s]"
      ]
     },
     "metadata": {},
     "output_type": "display_data"
    },
    {
     "data": {
      "application/vnd.jupyter.widget-view+json": {
       "model_id": "826fd4f0ddb9407e835e56f65b8a96f4",
       "version_major": 2,
       "version_minor": 0
      },
      "text/plain": [
       "Validation: |          | 0/? [00:00<?, ?it/s]"
      ]
     },
     "metadata": {},
     "output_type": "display_data"
    },
    {
     "data": {
      "application/vnd.jupyter.widget-view+json": {
       "model_id": "0e8697f0f73e416499369133dc784a2d",
       "version_major": 2,
       "version_minor": 0
      },
      "text/plain": [
       "Validation: |          | 0/? [00:00<?, ?it/s]"
      ]
     },
     "metadata": {},
     "output_type": "display_data"
    },
    {
     "data": {
      "application/vnd.jupyter.widget-view+json": {
       "model_id": "d490404b7e4f49b7b07f70d56d94ec6b",
       "version_major": 2,
       "version_minor": 0
      },
      "text/plain": [
       "Validation: |          | 0/? [00:00<?, ?it/s]"
      ]
     },
     "metadata": {},
     "output_type": "display_data"
    },
    {
     "data": {
      "application/vnd.jupyter.widget-view+json": {
       "model_id": "69312fdc42984bc781f8527cec528bed",
       "version_major": 2,
       "version_minor": 0
      },
      "text/plain": [
       "Validation: |          | 0/? [00:00<?, ?it/s]"
      ]
     },
     "metadata": {},
     "output_type": "display_data"
    },
    {
     "data": {
      "application/vnd.jupyter.widget-view+json": {
       "model_id": "b7695f3a646348229780bba8b4e82ab4",
       "version_major": 2,
       "version_minor": 0
      },
      "text/plain": [
       "Validation: |          | 0/? [00:00<?, ?it/s]"
      ]
     },
     "metadata": {},
     "output_type": "display_data"
    },
    {
     "data": {
      "application/vnd.jupyter.widget-view+json": {
       "model_id": "33b7df75cbd64170b22a53cdc10fc794",
       "version_major": 2,
       "version_minor": 0
      },
      "text/plain": [
       "Validation: |          | 0/? [00:00<?, ?it/s]"
      ]
     },
     "metadata": {},
     "output_type": "display_data"
    },
    {
     "data": {
      "application/vnd.jupyter.widget-view+json": {
       "model_id": "74678751f6ab4254b5db0ce35aee272e",
       "version_major": 2,
       "version_minor": 0
      },
      "text/plain": [
       "Validation: |          | 0/? [00:00<?, ?it/s]"
      ]
     },
     "metadata": {},
     "output_type": "display_data"
    },
    {
     "data": {
      "application/vnd.jupyter.widget-view+json": {
       "model_id": "ba1d360d48f1413aa7735c0121aac476",
       "version_major": 2,
       "version_minor": 0
      },
      "text/plain": [
       "Validation: |          | 0/? [00:00<?, ?it/s]"
      ]
     },
     "metadata": {},
     "output_type": "display_data"
    },
    {
     "data": {
      "application/vnd.jupyter.widget-view+json": {
       "model_id": "a5f2fded472f41fe8a3e290ed591c5b3",
       "version_major": 2,
       "version_minor": 0
      },
      "text/plain": [
       "Validation: |          | 0/? [00:00<?, ?it/s]"
      ]
     },
     "metadata": {},
     "output_type": "display_data"
    },
    {
     "data": {
      "application/vnd.jupyter.widget-view+json": {
       "model_id": "967c5b857feb4bb5ab154122149eac23",
       "version_major": 2,
       "version_minor": 0
      },
      "text/plain": [
       "Validation: |          | 0/? [00:00<?, ?it/s]"
      ]
     },
     "metadata": {},
     "output_type": "display_data"
    },
    {
     "data": {
      "application/vnd.jupyter.widget-view+json": {
       "model_id": "ff785ab952b649229721ab916d9ffd3b",
       "version_major": 2,
       "version_minor": 0
      },
      "text/plain": [
       "Validation: |          | 0/? [00:00<?, ?it/s]"
      ]
     },
     "metadata": {},
     "output_type": "display_data"
    },
    {
     "data": {
      "application/vnd.jupyter.widget-view+json": {
       "model_id": "ea47799071904549bb334bbd4d0f8c3a",
       "version_major": 2,
       "version_minor": 0
      },
      "text/plain": [
       "Validation: |          | 0/? [00:00<?, ?it/s]"
      ]
     },
     "metadata": {},
     "output_type": "display_data"
    },
    {
     "data": {
      "application/vnd.jupyter.widget-view+json": {
       "model_id": "e7a3c62450324f1284a7479afe53f80c",
       "version_major": 2,
       "version_minor": 0
      },
      "text/plain": [
       "Validation: |          | 0/? [00:00<?, ?it/s]"
      ]
     },
     "metadata": {},
     "output_type": "display_data"
    },
    {
     "data": {
      "application/vnd.jupyter.widget-view+json": {
       "model_id": "0b8c5ab62fc74484809865ed4fa65474",
       "version_major": 2,
       "version_minor": 0
      },
      "text/plain": [
       "Validation: |          | 0/? [00:00<?, ?it/s]"
      ]
     },
     "metadata": {},
     "output_type": "display_data"
    },
    {
     "name": "stdout",
     "output_type": "stream",
     "text": [
      "{'ARIMA': {'rmsse': 0.7000414429983027, 'model': ARIMA(order=(4, 1, 3), scoring_args={}, suppress_warnings=True,\n",
      "      with_intercept=False)}, 'ExponentialSmoothing': {'rmsse': 0.7681735262329603, 'model': <statsmodels.tsa.holtwinters.results.HoltWintersResultsWrapper object at 0x7f7143167f40>}, 'Prophet': {'rmsse': 0.7558011503124268, 'model': <prophet.forecaster.Prophet object at 0x7f7203cb8e20>}, 'LightGBM': {'rmsse': 0.9582251142756867, 'model': <lightgbm.basic.Booster object at 0x7f714337f610>}, 'RandomForest': {'rmsse': 0.9960139280312701, 'model': RandomForestRegressor(random_state=42)}, 'DartsTFT': {'rmsse': 15.6727053734564, 'model': TFTModel(output_chunk_shift=0, hidden_size=16, lstm_layers=2, num_attention_heads=4, full_attention=False, feed_forward=GatedResidualNetwork, dropout=0.2, hidden_continuous_size=8, categorical_embedding_sizes=None, add_relative_index=False, loss_fn=None, likelihood=None, norm_type=LayerNorm, use_static_covariates=True, input_chunk_length=56, output_chunk_length=28, pl_trainer_kwargs={'callbacks': [<pytorch_lightning.callbacks.early_stopping.EarlyStopping object at 0x7f714337e020>], 'accelerator': 'cpu', 'logger': <pytorch_lightning.loggers.csv_logs.CSVLogger object at 0x7f714337eb60>}, batch_size=16, torch_metrics=MeanAbsoluteError(), n_epochs=50)}}\n",
      "Model results for FOODS_3_252_TX_3_validation\n",
      "Best model: ARIMA\n",
      "Best score: 0.7000414429983027\n",
      "Analyzing product: FOODS_3_586_WI_3_validation\n"
     ]
    },
    {
     "name": "stderr",
     "output_type": "stream",
     "text": [
      "[I 2024-05-15 19:02:30,012] A new study created in memory with name: no-name-e7722dd0-a1c6-42c6-9f8c-ba54a458a6c7\n"
     ]
    },
    {
     "name": "stdout",
     "output_type": "stream",
     "text": [
      "Optimizing hyperparameters for product: FOODS_3_586_WI_3_validation\n"
     ]
    },
    {
     "name": "stderr",
     "output_type": "stream",
     "text": [
      "[I 2024-05-15 19:02:30,695] Trial 1 finished with value: 0.5620474031860233 and parameters: {'trend': 'add', 'seasonal': None, 'seasonal_periods': 4}. Best is trial 1 with value: 0.5620474031860233.\n",
      "[I 2024-05-15 19:02:31,009] Trial 2 finished with value: 0.5620474031860233 and parameters: {'trend': 'add', 'seasonal': None, 'seasonal_periods': 12}. Best is trial 1 with value: 0.5620474031860233.\n",
      "[I 2024-05-15 19:02:31,450] Trial 9 finished with value: 0.5620474031860233 and parameters: {'trend': 'add', 'seasonal': None, 'seasonal_periods': 12}. Best is trial 1 with value: 0.5620474031860233.\n",
      "[I 2024-05-15 19:02:31,575] Trial 0 finished with value: 0.5518080569083995 and parameters: {'trend': 'add', 'seasonal': 'add', 'seasonal_periods': 12}. Best is trial 0 with value: 0.5518080569083995.\n",
      "[I 2024-05-15 19:02:31,596] Trial 7 finished with value: 0.5620474031860233 and parameters: {'trend': 'add', 'seasonal': None, 'seasonal_periods': 7}. Best is trial 0 with value: 0.5518080569083995.\n",
      "[I 2024-05-15 19:02:31,610] Trial 8 finished with value: 0.5620474031860233 and parameters: {'trend': 'add', 'seasonal': None, 'seasonal_periods': None}. Best is trial 0 with value: 0.5518080569083995.\n",
      "[I 2024-05-15 19:02:31,881] Trial 4 finished with value: 0.5518080569083995 and parameters: {'trend': 'add', 'seasonal': 'add', 'seasonal_periods': 12}. Best is trial 0 with value: 0.5518080569083995.\n",
      "[I 2024-05-15 19:02:31,973] Trial 3 finished with value: 0.38927943318413133 and parameters: {'trend': 'add', 'seasonal': 'add', 'seasonal_periods': 7}. Best is trial 3 with value: 0.38927943318413133.\n",
      "[I 2024-05-15 19:02:32,023] Trial 6 finished with value: 0.38927943318413133 and parameters: {'trend': 'add', 'seasonal': 'add', 'seasonal_periods': None}. Best is trial 3 with value: 0.38927943318413133.\n",
      "[I 2024-05-15 19:02:32,058] Trial 5 finished with value: 0.38927943318413133 and parameters: {'trend': 'add', 'seasonal': 'add', 'seasonal_periods': 7}. Best is trial 3 with value: 0.38927943318413133.\n",
      "/opt/conda/lib/python3.10/site-packages/statsmodels/tsa/base/tsa_model.py:473: ValueWarning: No frequency information was provided, so inferred frequency D will be used.\n",
      "  self._init_dates(dates, freq)\n",
      "[I 2024-05-15 19:02:32,341] A new study created in memory with name: no-name-0ad71898-3b1e-4106-a64f-af36ebf31f3a\n"
     ]
    },
    {
     "name": "stdout",
     "output_type": "stream",
     "text": [
      "Optimizing hyperparameters for product: FOODS_3_586_WI_3_validation\n"
     ]
    },
    {
     "name": "stderr",
     "output_type": "stream",
     "text": [
      "[I 2024-05-15 19:02:32,597] Trial 0 finished with value: 0.7272268498608686 and parameters: {'trend': 'add', 'seasonal': None, 'seasonal_periods': 7}. Best is trial 0 with value: 0.7272268498608686.\n",
      "[I 2024-05-15 19:02:32,786] Trial 5 finished with value: 0.7272268498608686 and parameters: {'trend': 'add', 'seasonal': None, 'seasonal_periods': None}. Best is trial 0 with value: 0.7272268498608686.\n",
      "[I 2024-05-15 19:02:32,787] Trial 4 finished with value: 0.7272268498608686 and parameters: {'trend': 'add', 'seasonal': None, 'seasonal_periods': 7}. Best is trial 0 with value: 0.7272268498608686.\n",
      "[I 2024-05-15 19:02:32,793] Trial 2 finished with value: 0.7272268498608686 and parameters: {'trend': 'add', 'seasonal': None, 'seasonal_periods': 4}. Best is trial 0 with value: 0.7272268498608686.\n",
      "[I 2024-05-15 19:02:32,827] Trial 1 finished with value: 0.7272268498608686 and parameters: {'trend': 'add', 'seasonal': None, 'seasonal_periods': 4}. Best is trial 0 with value: 0.7272268498608686.\n",
      "[I 2024-05-15 19:02:32,916] Trial 7 finished with value: 0.7272268498608686 and parameters: {'trend': 'add', 'seasonal': None, 'seasonal_periods': 7}. Best is trial 0 with value: 0.7272268498608686.\n",
      "[I 2024-05-15 19:02:32,951] Trial 3 finished with value: 0.7272268498608686 and parameters: {'trend': 'add', 'seasonal': None, 'seasonal_periods': None}. Best is trial 0 with value: 0.7272268498608686.\n",
      "[I 2024-05-15 19:02:33,605] Trial 6 finished with value: 0.7343773307541844 and parameters: {'trend': 'add', 'seasonal': 'add', 'seasonal_periods': 12}. Best is trial 0 with value: 0.7272268498608686.\n",
      "[I 2024-05-15 19:02:33,675] Trial 9 finished with value: 0.7343773307541844 and parameters: {'trend': 'add', 'seasonal': 'add', 'seasonal_periods': 12}. Best is trial 0 with value: 0.7272268498608686.\n",
      "[I 2024-05-15 19:02:33,699] Trial 8 finished with value: 0.6608373646264856 and parameters: {'trend': 'add', 'seasonal': 'add', 'seasonal_periods': 7}. Best is trial 8 with value: 0.6608373646264856.\n",
      "/opt/conda/lib/python3.10/site-packages/statsmodels/tsa/base/tsa_model.py:473: ValueWarning: No frequency information was provided, so inferred frequency D will be used.\n",
      "  self._init_dates(dates, freq)\n",
      "[I 2024-05-15 19:02:33,973] A new study created in memory with name: no-name-ec8c6e86-24f7-4e0a-a929-0556eaa6f73b\n"
     ]
    },
    {
     "name": "stdout",
     "output_type": "stream",
     "text": [
      "Optimizing hyperparameters for product: FOODS_3_586_WI_3_validation\n"
     ]
    },
    {
     "name": "stderr",
     "output_type": "stream",
     "text": [
      "[I 2024-05-15 19:02:34,483] Trial 2 finished with value: 0.659799960569082 and parameters: {'trend': 'add', 'seasonal': None, 'seasonal_periods': 7}. Best is trial 2 with value: 0.659799960569082.\n",
      "[I 2024-05-15 19:02:35,028] Trial 1 finished with value: 0.659799960569082 and parameters: {'trend': 'add', 'seasonal': None, 'seasonal_periods': 4}. Best is trial 2 with value: 0.659799960569082.\n",
      "[I 2024-05-15 19:02:35,405] Trial 3 finished with value: 0.659799960569082 and parameters: {'trend': 'add', 'seasonal': None, 'seasonal_periods': 12}. Best is trial 2 with value: 0.659799960569082.\n",
      "[I 2024-05-15 19:02:35,899] Trial 9 finished with value: 0.659799960569082 and parameters: {'trend': 'add', 'seasonal': None, 'seasonal_periods': 12}. Best is trial 2 with value: 0.659799960569082.\n",
      "[I 2024-05-15 19:02:35,937] Trial 0 finished with value: 0.6995833914223867 and parameters: {'trend': 'add', 'seasonal': 'add', 'seasonal_periods': None}. Best is trial 2 with value: 0.659799960569082.\n",
      "[I 2024-05-15 19:02:36,028] Trial 4 finished with value: 0.669742361181219 and parameters: {'trend': 'add', 'seasonal': 'add', 'seasonal_periods': 12}. Best is trial 2 with value: 0.659799960569082.\n",
      "[I 2024-05-15 19:02:36,048] Trial 6 finished with value: 0.669742361181219 and parameters: {'trend': 'add', 'seasonal': 'add', 'seasonal_periods': 12}. Best is trial 2 with value: 0.659799960569082.\n",
      "[I 2024-05-15 19:02:36,132] Trial 8 finished with value: 0.669742361181219 and parameters: {'trend': 'add', 'seasonal': 'add', 'seasonal_periods': 12}. Best is trial 2 with value: 0.659799960569082.\n",
      "[I 2024-05-15 19:02:36,187] Trial 5 finished with value: 0.6995833914223867 and parameters: {'trend': 'add', 'seasonal': 'add', 'seasonal_periods': None}. Best is trial 2 with value: 0.659799960569082.\n",
      "[I 2024-05-15 19:02:36,202] Trial 7 finished with value: 0.6995833914223867 and parameters: {'trend': 'add', 'seasonal': 'add', 'seasonal_periods': None}. Best is trial 2 with value: 0.659799960569082.\n",
      "/opt/conda/lib/python3.10/site-packages/statsmodels/tsa/base/tsa_model.py:473: ValueWarning: No frequency information was provided, so inferred frequency D will be used.\n",
      "  self._init_dates(dates, freq)\n",
      "[I 2024-05-15 19:02:36,261] A new study created in memory with name: no-name-20cc2984-157f-43ba-808f-c891b587f3e7\n"
     ]
    },
    {
     "name": "stdout",
     "output_type": "stream",
     "text": [
      "Optimizing hyperparameters for product: FOODS_3_586_WI_3_validation\n"
     ]
    },
    {
     "name": "stderr",
     "output_type": "stream",
     "text": [
      "[I 2024-05-15 19:02:36,879] Trial 2 finished with value: 0.5812456014450905 and parameters: {'trend': 'add', 'seasonal': None, 'seasonal_periods': 12}. Best is trial 2 with value: 0.5812456014450905.\n",
      "[I 2024-05-15 19:02:37,013] Trial 5 finished with value: 0.5812456014450905 and parameters: {'trend': 'add', 'seasonal': None, 'seasonal_periods': 4}. Best is trial 2 with value: 0.5812456014450905.\n",
      "[I 2024-05-15 19:02:37,468] Trial 7 finished with value: 0.5812456014450905 and parameters: {'trend': 'add', 'seasonal': None, 'seasonal_periods': None}. Best is trial 2 with value: 0.5812456014450905.\n",
      "[I 2024-05-15 19:02:37,571] Trial 9 finished with value: 0.5812456014450905 and parameters: {'trend': 'add', 'seasonal': None, 'seasonal_periods': 4}. Best is trial 2 with value: 0.5812456014450905.\n",
      "[I 2024-05-15 19:02:38,066] Trial 0 finished with value: 0.6698240715509813 and parameters: {'trend': 'add', 'seasonal': 'add', 'seasonal_periods': 12}. Best is trial 2 with value: 0.5812456014450905.\n",
      "[I 2024-05-15 19:02:38,083] Trial 4 finished with value: 0.6698240715509813 and parameters: {'trend': 'add', 'seasonal': 'add', 'seasonal_periods': 12}. Best is trial 2 with value: 0.5812456014450905.\n",
      "[I 2024-05-15 19:02:38,134] Trial 1 finished with value: 0.6523812558340301 and parameters: {'trend': 'add', 'seasonal': 'add', 'seasonal_periods': 4}. Best is trial 2 with value: 0.5812456014450905.\n",
      "[I 2024-05-15 19:02:38,188] Trial 6 finished with value: 0.6698240715509813 and parameters: {'trend': 'add', 'seasonal': 'add', 'seasonal_periods': 12}. Best is trial 2 with value: 0.5812456014450905.\n",
      "[I 2024-05-15 19:02:38,242] Trial 3 finished with value: 0.5296130429799516 and parameters: {'trend': 'add', 'seasonal': 'add', 'seasonal_periods': 7}. Best is trial 3 with value: 0.5296130429799516.\n",
      "[I 2024-05-15 19:02:38,280] Trial 8 finished with value: 0.5296130429799516 and parameters: {'trend': 'add', 'seasonal': 'add', 'seasonal_periods': None}. Best is trial 3 with value: 0.5296130429799516.\n",
      "/opt/conda/lib/python3.10/site-packages/statsmodels/tsa/base/tsa_model.py:473: ValueWarning: No frequency information was provided, so inferred frequency D will be used.\n",
      "  self._init_dates(dates, freq)\n",
      "[I 2024-05-15 19:02:38,531] A new study created in memory with name: no-name-7774079e-cafd-4a72-b9b7-8ef57ea8e09f\n"
     ]
    },
    {
     "name": "stdout",
     "output_type": "stream",
     "text": [
      "Optimizing hyperparameters for product: FOODS_3_586_WI_3_validation\n"
     ]
    },
    {
     "name": "stderr",
     "output_type": "stream",
     "text": [
      "[I 2024-05-15 19:02:39,404] Trial 4 finished with value: 1.0649906297043503 and parameters: {'trend': 'add', 'seasonal': None, 'seasonal_periods': 4}. Best is trial 4 with value: 1.0649906297043503.\n",
      "[I 2024-05-15 19:02:39,515] Trial 3 finished with value: 1.0649906297043503 and parameters: {'trend': 'add', 'seasonal': None, 'seasonal_periods': 4}. Best is trial 4 with value: 1.0649906297043503.\n",
      "[I 2024-05-15 19:02:39,547] Trial 7 finished with value: 1.0649906297043503 and parameters: {'trend': 'add', 'seasonal': None, 'seasonal_periods': None}. Best is trial 4 with value: 1.0649906297043503.\n",
      "[I 2024-05-15 19:02:39,887] Trial 5 finished with value: 1.0649906297043503 and parameters: {'trend': 'add', 'seasonal': None, 'seasonal_periods': None}. Best is trial 4 with value: 1.0649906297043503.\n",
      "[I 2024-05-15 19:02:40,228] Trial 2 finished with value: 1.0458426836820718 and parameters: {'trend': 'add', 'seasonal': 'add', 'seasonal_periods': 4}. Best is trial 2 with value: 1.0458426836820718.\n",
      "[I 2024-05-15 19:02:40,279] Trial 0 finished with value: 1.0458426836820718 and parameters: {'trend': 'add', 'seasonal': 'add', 'seasonal_periods': 4}. Best is trial 2 with value: 1.0458426836820718.\n",
      "[I 2024-05-15 19:02:40,437] Trial 1 finished with value: 0.9523527868255226 and parameters: {'trend': 'add', 'seasonal': 'add', 'seasonal_periods': 7}. Best is trial 1 with value: 0.9523527868255226.\n",
      "[I 2024-05-15 19:02:40,519] Trial 8 finished with value: 0.9523527868255226 and parameters: {'trend': 'add', 'seasonal': 'add', 'seasonal_periods': None}. Best is trial 1 with value: 0.9523527868255226.\n",
      "[I 2024-05-15 19:02:40,603] Trial 6 finished with value: 0.9523527868255226 and parameters: {'trend': 'add', 'seasonal': 'add', 'seasonal_periods': None}. Best is trial 1 with value: 0.9523527868255226.\n",
      "[I 2024-05-15 19:02:40,640] Trial 9 finished with value: 0.9523527868255226 and parameters: {'trend': 'add', 'seasonal': 'add', 'seasonal_periods': 7}. Best is trial 1 with value: 0.9523527868255226.\n",
      "/opt/conda/lib/python3.10/site-packages/statsmodels/tsa/base/tsa_model.py:473: ValueWarning: No frequency information was provided, so inferred frequency D will be used.\n",
      "  self._init_dates(dates, freq)\n",
      "/var/tmp/ipykernel_1903582/1261245201.py:12: SettingWithCopyWarning: \n",
      "A value is trying to be set on a copy of a slice from a DataFrame.\n",
      "Try using .loc[row_indexer,col_indexer] = value instead\n",
      "\n",
      "See the caveats in the documentation: https://pandas.pydata.org/pandas-docs/stable/user_guide/indexing.html#returning-a-view-versus-a-copy\n",
      "  prophet_data_train['ds'] = pd.to_datetime(prophet_data_train['ds'])\n",
      "/var/tmp/ipykernel_1903582/1261245201.py:13: SettingWithCopyWarning: \n",
      "A value is trying to be set on a copy of a slice from a DataFrame.\n",
      "Try using .loc[row_indexer,col_indexer] = value instead\n",
      "\n",
      "See the caveats in the documentation: https://pandas.pydata.org/pandas-docs/stable/user_guide/indexing.html#returning-a-view-versus-a-copy\n",
      "  prophet_data_test['ds'] = pd.to_datetime(prophet_data_test['ds'])\n",
      "19:02:41 - cmdstanpy - INFO - Chain [1] start processing\n",
      "19:02:41 - cmdstanpy - INFO - Chain [1] done processing\n",
      "/var/tmp/ipykernel_1903582/1261245201.py:12: SettingWithCopyWarning: \n",
      "A value is trying to be set on a copy of a slice from a DataFrame.\n",
      "Try using .loc[row_indexer,col_indexer] = value instead\n",
      "\n",
      "See the caveats in the documentation: https://pandas.pydata.org/pandas-docs/stable/user_guide/indexing.html#returning-a-view-versus-a-copy\n",
      "  prophet_data_train['ds'] = pd.to_datetime(prophet_data_train['ds'])\n",
      "/var/tmp/ipykernel_1903582/1261245201.py:13: SettingWithCopyWarning: \n",
      "A value is trying to be set on a copy of a slice from a DataFrame.\n",
      "Try using .loc[row_indexer,col_indexer] = value instead\n",
      "\n",
      "See the caveats in the documentation: https://pandas.pydata.org/pandas-docs/stable/user_guide/indexing.html#returning-a-view-versus-a-copy\n",
      "  prophet_data_test['ds'] = pd.to_datetime(prophet_data_test['ds'])\n",
      "19:02:41 - cmdstanpy - INFO - Chain [1] start processing\n",
      "19:02:41 - cmdstanpy - INFO - Chain [1] done processing\n",
      "/var/tmp/ipykernel_1903582/1261245201.py:12: SettingWithCopyWarning: \n",
      "A value is trying to be set on a copy of a slice from a DataFrame.\n",
      "Try using .loc[row_indexer,col_indexer] = value instead\n",
      "\n",
      "See the caveats in the documentation: https://pandas.pydata.org/pandas-docs/stable/user_guide/indexing.html#returning-a-view-versus-a-copy\n",
      "  prophet_data_train['ds'] = pd.to_datetime(prophet_data_train['ds'])\n",
      "/var/tmp/ipykernel_1903582/1261245201.py:13: SettingWithCopyWarning: \n",
      "A value is trying to be set on a copy of a slice from a DataFrame.\n",
      "Try using .loc[row_indexer,col_indexer] = value instead\n",
      "\n",
      "See the caveats in the documentation: https://pandas.pydata.org/pandas-docs/stable/user_guide/indexing.html#returning-a-view-versus-a-copy\n",
      "  prophet_data_test['ds'] = pd.to_datetime(prophet_data_test['ds'])\n",
      "19:02:41 - cmdstanpy - INFO - Chain [1] start processing\n",
      "19:02:41 - cmdstanpy - INFO - Chain [1] done processing\n",
      "/var/tmp/ipykernel_1903582/1261245201.py:12: SettingWithCopyWarning: \n",
      "A value is trying to be set on a copy of a slice from a DataFrame.\n",
      "Try using .loc[row_indexer,col_indexer] = value instead\n",
      "\n",
      "See the caveats in the documentation: https://pandas.pydata.org/pandas-docs/stable/user_guide/indexing.html#returning-a-view-versus-a-copy\n",
      "  prophet_data_train['ds'] = pd.to_datetime(prophet_data_train['ds'])\n",
      "/var/tmp/ipykernel_1903582/1261245201.py:13: SettingWithCopyWarning: \n",
      "A value is trying to be set on a copy of a slice from a DataFrame.\n",
      "Try using .loc[row_indexer,col_indexer] = value instead\n",
      "\n",
      "See the caveats in the documentation: https://pandas.pydata.org/pandas-docs/stable/user_guide/indexing.html#returning-a-view-versus-a-copy\n",
      "  prophet_data_test['ds'] = pd.to_datetime(prophet_data_test['ds'])\n",
      "19:02:41 - cmdstanpy - INFO - Chain [1] start processing\n",
      "19:02:42 - cmdstanpy - INFO - Chain [1] done processing\n",
      "/var/tmp/ipykernel_1903582/1261245201.py:12: SettingWithCopyWarning: \n",
      "A value is trying to be set on a copy of a slice from a DataFrame.\n",
      "Try using .loc[row_indexer,col_indexer] = value instead\n",
      "\n",
      "See the caveats in the documentation: https://pandas.pydata.org/pandas-docs/stable/user_guide/indexing.html#returning-a-view-versus-a-copy\n",
      "  prophet_data_train['ds'] = pd.to_datetime(prophet_data_train['ds'])\n",
      "/var/tmp/ipykernel_1903582/1261245201.py:13: SettingWithCopyWarning: \n",
      "A value is trying to be set on a copy of a slice from a DataFrame.\n",
      "Try using .loc[row_indexer,col_indexer] = value instead\n",
      "\n",
      "See the caveats in the documentation: https://pandas.pydata.org/pandas-docs/stable/user_guide/indexing.html#returning-a-view-versus-a-copy\n",
      "  prophet_data_test['ds'] = pd.to_datetime(prophet_data_test['ds'])\n",
      "19:02:42 - cmdstanpy - INFO - Chain [1] start processing\n",
      "19:02:42 - cmdstanpy - INFO - Chain [1] done processing\n",
      "/opt/conda/lib/python3.10/site-packages/lightgbm/engine.py:172: UserWarning: Found `n_estimators` in params. Will use it instead of argument\n",
      "  _log_warning(f\"Found `{alias}` in params. Will use it instead of argument\")\n"
     ]
    },
    {
     "name": "stdout",
     "output_type": "stream",
     "text": [
      "Training until validation scores don't improve for 50 rounds\n",
      "Did not meet early stopping. Best iteration is:\n",
      "[998]\tvalid_0's rmse: 5.27282\n",
      "Training until validation scores don't improve for 50 rounds\n"
     ]
    },
    {
     "name": "stderr",
     "output_type": "stream",
     "text": [
      "/opt/conda/lib/python3.10/site-packages/lightgbm/engine.py:172: UserWarning: Found `n_estimators` in params. Will use it instead of argument\n",
      "  _log_warning(f\"Found `{alias}` in params. Will use it instead of argument\")\n"
     ]
    },
    {
     "name": "stdout",
     "output_type": "stream",
     "text": [
      "Early stopping, best iteration is:\n",
      "[659]\tvalid_0's rmse: 6.52109\n",
      "Training until validation scores don't improve for 50 rounds\n"
     ]
    },
    {
     "name": "stderr",
     "output_type": "stream",
     "text": [
      "/opt/conda/lib/python3.10/site-packages/lightgbm/engine.py:172: UserWarning: Found `n_estimators` in params. Will use it instead of argument\n",
      "  _log_warning(f\"Found `{alias}` in params. Will use it instead of argument\")\n"
     ]
    },
    {
     "name": "stdout",
     "output_type": "stream",
     "text": [
      "Early stopping, best iteration is:\n",
      "[514]\tvalid_0's rmse: 6.07052\n",
      "Training until validation scores don't improve for 50 rounds\n"
     ]
    },
    {
     "name": "stderr",
     "output_type": "stream",
     "text": [
      "/opt/conda/lib/python3.10/site-packages/lightgbm/engine.py:172: UserWarning: Found `n_estimators` in params. Will use it instead of argument\n",
      "  _log_warning(f\"Found `{alias}` in params. Will use it instead of argument\")\n"
     ]
    },
    {
     "name": "stdout",
     "output_type": "stream",
     "text": [
      "Early stopping, best iteration is:\n",
      "[389]\tvalid_0's rmse: 10.7005\n",
      "Training until validation scores don't improve for 50 rounds\n"
     ]
    },
    {
     "name": "stderr",
     "output_type": "stream",
     "text": [
      "/opt/conda/lib/python3.10/site-packages/lightgbm/engine.py:172: UserWarning: Found `n_estimators` in params. Will use it instead of argument\n",
      "  _log_warning(f\"Found `{alias}` in params. Will use it instead of argument\")\n"
     ]
    },
    {
     "name": "stdout",
     "output_type": "stream",
     "text": [
      "Did not meet early stopping. Best iteration is:\n",
      "[998]\tvalid_0's rmse: 6.72158\n"
     ]
    },
    {
     "name": "stderr",
     "output_type": "stream",
     "text": [
      "GPU available: False, used: False\n",
      "TPU available: False, using: 0 TPU cores\n",
      "IPU available: False, using: 0 IPUs\n",
      "HPU available: False, using: 0 HPUs\n",
      "Missing logger folder: logs/tft_logs\n",
      "\n",
      "   | Name                              | Type                             | Params\n",
      "----------------------------------------------------------------------------------------\n",
      "0  | train_metrics                     | MetricCollection                 | 0     \n",
      "1  | val_metrics                       | MetricCollection                 | 0     \n",
      "2  | input_embeddings                  | _MultiEmbedding                  | 0     \n",
      "3  | static_covariates_vsn             | _VariableSelectionNetwork        | 0     \n",
      "4  | encoder_vsn                       | _VariableSelectionNetwork        | 93.0 K\n",
      "5  | decoder_vsn                       | _VariableSelectionNetwork        | 46.4 K\n",
      "6  | static_context_grn                | _GatedResidualNetwork            | 1.1 K \n",
      "7  | static_context_hidden_encoder_grn | _GatedResidualNetwork            | 1.1 K \n",
      "8  | static_context_cell_encoder_grn   | _GatedResidualNetwork            | 1.1 K \n",
      "9  | static_context_enrichment         | _GatedResidualNetwork            | 1.1 K \n",
      "10 | lstm_encoder                      | LSTM                             | 4.4 K \n",
      "11 | lstm_decoder                      | LSTM                             | 4.4 K \n",
      "12 | post_lstm_gan                     | _GateAddNorm                     | 576   \n",
      "13 | static_enrichment_grn             | _GatedResidualNetwork            | 1.4 K \n",
      "14 | multihead_attn                    | _InterpretableMultiHeadAttention | 676   \n",
      "15 | post_attn_gan                     | _GateAddNorm                     | 576   \n",
      "16 | feed_forward_block                | _GatedResidualNetwork            | 1.1 K \n",
      "17 | pre_output_gan                    | _GateAddNorm                     | 576   \n",
      "18 | output_layer                      | Linear                           | 289   \n",
      "----------------------------------------------------------------------------------------\n",
      "156 K     Trainable params\n",
      "0         Non-trainable params\n",
      "156 K     Total params\n",
      "0.627     Total estimated model params size (MB)\n"
     ]
    },
    {
     "data": {
      "application/vnd.jupyter.widget-view+json": {
       "model_id": "776a5c9113c84936994c48d791a6d085",
       "version_major": 2,
       "version_minor": 0
      },
      "text/plain": [
       "Sanity Checking: |          | 0/? [00:00<?, ?it/s]"
      ]
     },
     "metadata": {},
     "output_type": "display_data"
    },
    {
     "data": {
      "application/vnd.jupyter.widget-view+json": {
       "model_id": "6581c1a0440646b3aa9b17dfbc405dd0",
       "version_major": 2,
       "version_minor": 0
      },
      "text/plain": [
       "Training: |          | 0/? [00:00<?, ?it/s]"
      ]
     },
     "metadata": {},
     "output_type": "display_data"
    },
    {
     "data": {
      "application/vnd.jupyter.widget-view+json": {
       "model_id": "82f313f79b004b9e88dcefaa6d118760",
       "version_major": 2,
       "version_minor": 0
      },
      "text/plain": [
       "Validation: |          | 0/? [00:00<?, ?it/s]"
      ]
     },
     "metadata": {},
     "output_type": "display_data"
    },
    {
     "data": {
      "application/vnd.jupyter.widget-view+json": {
       "model_id": "da5fa87326964bb695413fcf1713f4b9",
       "version_major": 2,
       "version_minor": 0
      },
      "text/plain": [
       "Validation: |          | 0/? [00:00<?, ?it/s]"
      ]
     },
     "metadata": {},
     "output_type": "display_data"
    },
    {
     "data": {
      "application/vnd.jupyter.widget-view+json": {
       "model_id": "4b4e69d680e4425dbb90060af8bc1e50",
       "version_major": 2,
       "version_minor": 0
      },
      "text/plain": [
       "Validation: |          | 0/? [00:00<?, ?it/s]"
      ]
     },
     "metadata": {},
     "output_type": "display_data"
    },
    {
     "data": {
      "application/vnd.jupyter.widget-view+json": {
       "model_id": "e309f4530d7a4b4698f0238422a1f2ff",
       "version_major": 2,
       "version_minor": 0
      },
      "text/plain": [
       "Validation: |          | 0/? [00:00<?, ?it/s]"
      ]
     },
     "metadata": {},
     "output_type": "display_data"
    },
    {
     "data": {
      "application/vnd.jupyter.widget-view+json": {
       "model_id": "3d6033f382c34c11b396283634ec3a01",
       "version_major": 2,
       "version_minor": 0
      },
      "text/plain": [
       "Validation: |          | 0/? [00:00<?, ?it/s]"
      ]
     },
     "metadata": {},
     "output_type": "display_data"
    },
    {
     "data": {
      "application/vnd.jupyter.widget-view+json": {
       "model_id": "19d952a3262f4704a6726673849b5106",
       "version_major": 2,
       "version_minor": 0
      },
      "text/plain": [
       "Validation: |          | 0/? [00:00<?, ?it/s]"
      ]
     },
     "metadata": {},
     "output_type": "display_data"
    },
    {
     "data": {
      "application/vnd.jupyter.widget-view+json": {
       "model_id": "d4fdf5ae057748a9934742f9b7172fc1",
       "version_major": 2,
       "version_minor": 0
      },
      "text/plain": [
       "Validation: |          | 0/? [00:00<?, ?it/s]"
      ]
     },
     "metadata": {},
     "output_type": "display_data"
    },
    {
     "data": {
      "application/vnd.jupyter.widget-view+json": {
       "model_id": "a538092469d94158a90364ac0117c4aa",
       "version_major": 2,
       "version_minor": 0
      },
      "text/plain": [
       "Validation: |          | 0/? [00:00<?, ?it/s]"
      ]
     },
     "metadata": {},
     "output_type": "display_data"
    },
    {
     "data": {
      "application/vnd.jupyter.widget-view+json": {
       "model_id": "a4957bceaf8c4094985d4343675b25dc",
       "version_major": 2,
       "version_minor": 0
      },
      "text/plain": [
       "Validation: |          | 0/? [00:00<?, ?it/s]"
      ]
     },
     "metadata": {},
     "output_type": "display_data"
    },
    {
     "data": {
      "application/vnd.jupyter.widget-view+json": {
       "model_id": "a95f7ced7abc4f7fa88106ffe830d618",
       "version_major": 2,
       "version_minor": 0
      },
      "text/plain": [
       "Validation: |          | 0/? [00:00<?, ?it/s]"
      ]
     },
     "metadata": {},
     "output_type": "display_data"
    },
    {
     "data": {
      "application/vnd.jupyter.widget-view+json": {
       "model_id": "df78a08a87f8428b8ea09be7466e6e85",
       "version_major": 2,
       "version_minor": 0
      },
      "text/plain": [
       "Validation: |          | 0/? [00:00<?, ?it/s]"
      ]
     },
     "metadata": {},
     "output_type": "display_data"
    },
    {
     "data": {
      "application/vnd.jupyter.widget-view+json": {
       "model_id": "b28d098148ab48a7b42153c66645d52f",
       "version_major": 2,
       "version_minor": 0
      },
      "text/plain": [
       "Validation: |          | 0/? [00:00<?, ?it/s]"
      ]
     },
     "metadata": {},
     "output_type": "display_data"
    },
    {
     "data": {
      "application/vnd.jupyter.widget-view+json": {
       "model_id": "308623b382644cdda2539fddba498dfd",
       "version_major": 2,
       "version_minor": 0
      },
      "text/plain": [
       "Validation: |          | 0/? [00:00<?, ?it/s]"
      ]
     },
     "metadata": {},
     "output_type": "display_data"
    },
    {
     "data": {
      "application/vnd.jupyter.widget-view+json": {
       "model_id": "e89960983ef340f1a3863008afa03a48",
       "version_major": 2,
       "version_minor": 0
      },
      "text/plain": [
       "Validation: |          | 0/? [00:00<?, ?it/s]"
      ]
     },
     "metadata": {},
     "output_type": "display_data"
    },
    {
     "data": {
      "application/vnd.jupyter.widget-view+json": {
       "model_id": "3e51974d4051456fa493ec5e3b9fd54a",
       "version_major": 2,
       "version_minor": 0
      },
      "text/plain": [
       "Validation: |          | 0/? [00:00<?, ?it/s]"
      ]
     },
     "metadata": {},
     "output_type": "display_data"
    },
    {
     "data": {
      "application/vnd.jupyter.widget-view+json": {
       "model_id": "724cae4993544b12ad9a4c13a82431fe",
       "version_major": 2,
       "version_minor": 0
      },
      "text/plain": [
       "Validation: |          | 0/? [00:00<?, ?it/s]"
      ]
     },
     "metadata": {},
     "output_type": "display_data"
    },
    {
     "data": {
      "application/vnd.jupyter.widget-view+json": {
       "model_id": "49b88362a0e24d1a8c27d200aaed2df6",
       "version_major": 2,
       "version_minor": 0
      },
      "text/plain": [
       "Validation: |          | 0/? [00:00<?, ?it/s]"
      ]
     },
     "metadata": {},
     "output_type": "display_data"
    },
    {
     "data": {
      "application/vnd.jupyter.widget-view+json": {
       "model_id": "0ed781dc65f04c148327b32784133323",
       "version_major": 2,
       "version_minor": 0
      },
      "text/plain": [
       "Validation: |          | 0/? [00:00<?, ?it/s]"
      ]
     },
     "metadata": {},
     "output_type": "display_data"
    },
    {
     "name": "stdout",
     "output_type": "stream",
     "text": [
      "{'ARIMA': {'rmsse': 0.6382767476264117, 'model': ARIMA(order=(5, 1, 4), scoring_args={}, suppress_warnings=True)}, 'ExponentialSmoothing': {'rmsse': 0.6383765176370346, 'model': <statsmodels.tsa.holtwinters.results.HoltWintersResultsWrapper object at 0x7f71cef464a0>}, 'Prophet': {'rmsse': 0.5862232658433797, 'model': <prophet.forecaster.Prophet object at 0x7f7203ea9e10>}, 'LightGBM': {'rmsse': 0.7586129089021454, 'model': <lightgbm.basic.Booster object at 0x7f7142e35450>}, 'RandomForest': {'rmsse': 0.6194144818756151, 'model': RandomForestRegressor(random_state=42)}, 'DartsTFT': {'rmsse': 7.707372111658896, 'model': TFTModel(output_chunk_shift=0, hidden_size=16, lstm_layers=2, num_attention_heads=4, full_attention=False, feed_forward=GatedResidualNetwork, dropout=0.2, hidden_continuous_size=8, categorical_embedding_sizes=None, add_relative_index=False, loss_fn=None, likelihood=None, norm_type=LayerNorm, use_static_covariates=True, input_chunk_length=56, output_chunk_length=28, pl_trainer_kwargs={'callbacks': [<pytorch_lightning.callbacks.early_stopping.EarlyStopping object at 0x7f71b1368df0>], 'accelerator': 'cpu', 'logger': <pytorch_lightning.loggers.csv_logs.CSVLogger object at 0x7f71b1369600>}, batch_size=16, torch_metrics=MeanAbsoluteError(), n_epochs=50)}}\n",
      "Model results for FOODS_3_586_WI_3_validation\n",
      "Best model: Prophet\n",
      "Best score: 0.5862232658433797\n",
      "Analyzing product: FOODS_3_694_WI_3_validation\n"
     ]
    },
    {
     "name": "stderr",
     "output_type": "stream",
     "text": [
      "[I 2024-05-15 19:22:38,009] A new study created in memory with name: no-name-7c32afb0-cd63-4e53-a232-7ea465d50789\n"
     ]
    },
    {
     "name": "stdout",
     "output_type": "stream",
     "text": [
      "Optimizing hyperparameters for product: FOODS_3_694_WI_3_validation\n"
     ]
    },
    {
     "name": "stderr",
     "output_type": "stream",
     "text": [
      "[I 2024-05-15 19:22:38,943] Trial 4 finished with value: 0.7165801295948026 and parameters: {'trend': 'add', 'seasonal': None, 'seasonal_periods': 7}. Best is trial 4 with value: 0.7165801295948026.\n",
      "[I 2024-05-15 19:22:39,232] Trial 3 finished with value: 0.7165801295948026 and parameters: {'trend': 'add', 'seasonal': None, 'seasonal_periods': 4}. Best is trial 4 with value: 0.7165801295948026.\n",
      "[I 2024-05-15 19:22:39,280] Trial 7 finished with value: 0.7165801295948026 and parameters: {'trend': 'add', 'seasonal': None, 'seasonal_periods': 4}. Best is trial 4 with value: 0.7165801295948026.\n",
      "[I 2024-05-15 19:22:39,351] Trial 5 finished with value: 0.7165801295948026 and parameters: {'trend': 'add', 'seasonal': None, 'seasonal_periods': 7}. Best is trial 4 with value: 0.7165801295948026.\n",
      "[I 2024-05-15 19:22:39,460] Trial 9 finished with value: 0.7165801295948026 and parameters: {'trend': 'add', 'seasonal': None, 'seasonal_periods': 4}. Best is trial 4 with value: 0.7165801295948026.\n",
      "[I 2024-05-15 19:22:39,585] Trial 8 finished with value: 0.7165801295948026 and parameters: {'trend': 'add', 'seasonal': None, 'seasonal_periods': None}. Best is trial 4 with value: 0.7165801295948026.\n",
      "[I 2024-05-15 19:22:39,637] Trial 2 finished with value: 0.7158258917183402 and parameters: {'trend': 'add', 'seasonal': 'add', 'seasonal_periods': 12}. Best is trial 2 with value: 0.7158258917183402.\n",
      "[I 2024-05-15 19:22:39,642] Trial 0 finished with value: 0.731501843592432 and parameters: {'trend': 'add', 'seasonal': 'add', 'seasonal_periods': 4}. Best is trial 2 with value: 0.7158258917183402.\n",
      "[I 2024-05-15 19:22:39,668] Trial 6 finished with value: 0.731501843592432 and parameters: {'trend': 'add', 'seasonal': 'add', 'seasonal_periods': 4}. Best is trial 2 with value: 0.7158258917183402.\n",
      "[I 2024-05-15 19:22:39,703] Trial 1 finished with value: 0.7158258917183402 and parameters: {'trend': 'add', 'seasonal': 'add', 'seasonal_periods': 12}. Best is trial 2 with value: 0.7158258917183402.\n",
      "/opt/conda/lib/python3.10/site-packages/statsmodels/tsa/base/tsa_model.py:473: ValueWarning: No frequency information was provided, so inferred frequency D will be used.\n",
      "  self._init_dates(dates, freq)\n",
      "[I 2024-05-15 19:22:39,961] A new study created in memory with name: no-name-255180a1-2f52-46f5-b319-27df94022e25\n"
     ]
    },
    {
     "name": "stdout",
     "output_type": "stream",
     "text": [
      "Optimizing hyperparameters for product: FOODS_3_694_WI_3_validation\n"
     ]
    },
    {
     "name": "stderr",
     "output_type": "stream",
     "text": [
      "[I 2024-05-15 19:22:41,289] Trial 4 finished with value: 0.7426680038730051 and parameters: {'trend': 'add', 'seasonal': None, 'seasonal_periods': None}. Best is trial 4 with value: 0.7426680038730051.\n",
      "[I 2024-05-15 19:22:41,316] Trial 7 finished with value: 0.7426680038730051 and parameters: {'trend': 'add', 'seasonal': None, 'seasonal_periods': 12}. Best is trial 4 with value: 0.7426680038730051.\n",
      "[I 2024-05-15 19:22:41,328] Trial 3 finished with value: 0.7426680038730051 and parameters: {'trend': 'add', 'seasonal': None, 'seasonal_periods': None}. Best is trial 4 with value: 0.7426680038730051.\n",
      "[I 2024-05-15 19:22:41,359] Trial 1 finished with value: 0.7426680038730051 and parameters: {'trend': 'add', 'seasonal': None, 'seasonal_periods': 4}. Best is trial 4 with value: 0.7426680038730051.\n",
      "[I 2024-05-15 19:22:41,424] Trial 5 finished with value: 0.7426680038730051 and parameters: {'trend': 'add', 'seasonal': None, 'seasonal_periods': 7}. Best is trial 4 with value: 0.7426680038730051.\n",
      "[I 2024-05-15 19:22:41,777] Trial 9 finished with value: 0.7725770433491 and parameters: {'trend': 'add', 'seasonal': 'add', 'seasonal_periods': 12}. Best is trial 4 with value: 0.7426680038730051.\n",
      "[I 2024-05-15 19:22:41,864] Trial 2 finished with value: 0.558633775151659 and parameters: {'trend': 'add', 'seasonal': 'add', 'seasonal_periods': None}. Best is trial 2 with value: 0.558633775151659.\n",
      "[I 2024-05-15 19:22:41,881] Trial 0 finished with value: 0.558633775151659 and parameters: {'trend': 'add', 'seasonal': 'add', 'seasonal_periods': 7}. Best is trial 2 with value: 0.558633775151659.\n",
      "[I 2024-05-15 19:22:41,953] Trial 6 finished with value: 0.558633775151659 and parameters: {'trend': 'add', 'seasonal': 'add', 'seasonal_periods': None}. Best is trial 2 with value: 0.558633775151659.\n",
      "[I 2024-05-15 19:22:41,962] Trial 8 finished with value: 0.558633775151659 and parameters: {'trend': 'add', 'seasonal': 'add', 'seasonal_periods': None}. Best is trial 2 with value: 0.558633775151659.\n",
      "/opt/conda/lib/python3.10/site-packages/statsmodels/tsa/base/tsa_model.py:473: ValueWarning: No frequency information was provided, so inferred frequency D will be used.\n",
      "  self._init_dates(dates, freq)\n",
      "[I 2024-05-15 19:22:42,220] A new study created in memory with name: no-name-d72f8e1d-baca-4c6e-a325-78f6b119b805\n"
     ]
    },
    {
     "name": "stdout",
     "output_type": "stream",
     "text": [
      "Optimizing hyperparameters for product: FOODS_3_694_WI_3_validation\n"
     ]
    },
    {
     "name": "stderr",
     "output_type": "stream",
     "text": [
      "[I 2024-05-15 19:22:42,987] Trial 3 finished with value: 1.249252048471086 and parameters: {'trend': 'add', 'seasonal': None, 'seasonal_periods': 7}. Best is trial 3 with value: 1.249252048471086.\n",
      "[I 2024-05-15 19:22:43,233] Trial 8 finished with value: 1.249252048471086 and parameters: {'trend': 'add', 'seasonal': None, 'seasonal_periods': None}. Best is trial 3 with value: 1.249252048471086.\n",
      "[I 2024-05-15 19:22:43,344] Trial 7 finished with value: 1.249252048471086 and parameters: {'trend': 'add', 'seasonal': None, 'seasonal_periods': 4}. Best is trial 3 with value: 1.249252048471086.\n",
      "[I 2024-05-15 19:22:43,367] Trial 2 finished with value: 1.249252048471086 and parameters: {'trend': 'add', 'seasonal': None, 'seasonal_periods': 12}. Best is trial 3 with value: 1.249252048471086.\n",
      "[I 2024-05-15 19:22:43,404] Trial 6 finished with value: 1.249252048471086 and parameters: {'trend': 'add', 'seasonal': None, 'seasonal_periods': None}. Best is trial 3 with value: 1.249252048471086.\n",
      "[I 2024-05-15 19:22:43,501] Trial 9 finished with value: 1.249252048471086 and parameters: {'trend': 'add', 'seasonal': None, 'seasonal_periods': None}. Best is trial 3 with value: 1.249252048471086.\n",
      "[I 2024-05-15 19:22:43,738] Trial 0 finished with value: 1.354625112477341 and parameters: {'trend': 'add', 'seasonal': 'add', 'seasonal_periods': None}. Best is trial 3 with value: 1.249252048471086.\n",
      "[I 2024-05-15 19:22:43,819] Trial 1 finished with value: 1.3896695726253343 and parameters: {'trend': 'add', 'seasonal': 'add', 'seasonal_periods': 4}. Best is trial 3 with value: 1.249252048471086.\n",
      "[I 2024-05-15 19:22:43,864] Trial 5 finished with value: 1.336002892349464 and parameters: {'trend': 'add', 'seasonal': 'add', 'seasonal_periods': 12}. Best is trial 3 with value: 1.249252048471086.\n",
      "[I 2024-05-15 19:22:43,884] Trial 4 finished with value: 1.354625112477341 and parameters: {'trend': 'add', 'seasonal': 'add', 'seasonal_periods': 7}. Best is trial 3 with value: 1.249252048471086.\n",
      "/opt/conda/lib/python3.10/site-packages/statsmodels/tsa/base/tsa_model.py:473: ValueWarning: No frequency information was provided, so inferred frequency D will be used.\n",
      "  self._init_dates(dates, freq)\n",
      "[I 2024-05-15 19:22:43,934] A new study created in memory with name: no-name-28d19911-f68a-4f1e-b548-9ad16809e4ad\n"
     ]
    },
    {
     "name": "stdout",
     "output_type": "stream",
     "text": [
      "Optimizing hyperparameters for product: FOODS_3_694_WI_3_validation\n"
     ]
    },
    {
     "name": "stderr",
     "output_type": "stream",
     "text": [
      "[I 2024-05-15 19:22:44,807] Trial 3 finished with value: 0.8320924838600539 and parameters: {'trend': 'add', 'seasonal': None, 'seasonal_periods': 12}. Best is trial 3 with value: 0.8320924838600539.\n",
      "[I 2024-05-15 19:22:44,903] Trial 2 finished with value: 0.8320924838600539 and parameters: {'trend': 'add', 'seasonal': None, 'seasonal_periods': 7}. Best is trial 3 with value: 0.8320924838600539.\n",
      "[I 2024-05-15 19:22:45,212] Trial 6 finished with value: 0.8320924838600539 and parameters: {'trend': 'add', 'seasonal': None, 'seasonal_periods': None}. Best is trial 3 with value: 0.8320924838600539.\n",
      "[I 2024-05-15 19:22:45,410] Trial 4 finished with value: 0.8320924838600539 and parameters: {'trend': 'add', 'seasonal': None, 'seasonal_periods': None}. Best is trial 3 with value: 0.8320924838600539.\n",
      "[I 2024-05-15 19:22:45,430] Trial 7 finished with value: 0.8320924838600539 and parameters: {'trend': 'add', 'seasonal': None, 'seasonal_periods': 7}. Best is trial 3 with value: 0.8320924838600539.\n",
      "[I 2024-05-15 19:22:45,528] Trial 1 finished with value: 0.6375537330022106 and parameters: {'trend': 'add', 'seasonal': 'add', 'seasonal_periods': 7}. Best is trial 1 with value: 0.6375537330022106.\n",
      "[I 2024-05-15 19:22:45,651] Trial 0 finished with value: 0.6375537330022106 and parameters: {'trend': 'add', 'seasonal': 'add', 'seasonal_periods': None}. Best is trial 1 with value: 0.6375537330022106.\n",
      "[I 2024-05-15 19:22:45,719] Trial 9 finished with value: 0.6375537330022106 and parameters: {'trend': 'add', 'seasonal': 'add', 'seasonal_periods': None}. Best is trial 1 with value: 0.6375537330022106.\n",
      "[I 2024-05-15 19:22:45,772] Trial 5 finished with value: 0.6375537330022106 and parameters: {'trend': 'add', 'seasonal': 'add', 'seasonal_periods': None}. Best is trial 1 with value: 0.6375537330022106.\n",
      "[I 2024-05-15 19:22:45,791] Trial 8 finished with value: 0.8191964247836798 and parameters: {'trend': 'add', 'seasonal': 'add', 'seasonal_periods': 4}. Best is trial 1 with value: 0.6375537330022106.\n",
      "/opt/conda/lib/python3.10/site-packages/statsmodels/tsa/base/tsa_model.py:473: ValueWarning: No frequency information was provided, so inferred frequency D will be used.\n",
      "  self._init_dates(dates, freq)\n",
      "[I 2024-05-15 19:22:46,032] A new study created in memory with name: no-name-ff7eed56-f929-4188-b462-c4744170ff24\n"
     ]
    },
    {
     "name": "stdout",
     "output_type": "stream",
     "text": [
      "Optimizing hyperparameters for product: FOODS_3_694_WI_3_validation\n"
     ]
    },
    {
     "name": "stderr",
     "output_type": "stream",
     "text": [
      "[I 2024-05-15 19:22:47,433] Trial 6 finished with value: 1.1651207270691617 and parameters: {'trend': 'add', 'seasonal': None, 'seasonal_periods': 7}. Best is trial 6 with value: 1.1651207270691617.\n",
      "[I 2024-05-15 19:22:47,546] Trial 0 finished with value: 1.2185550060252646 and parameters: {'trend': 'add', 'seasonal': 'add', 'seasonal_periods': 12}. Best is trial 6 with value: 1.1651207270691617.\n",
      "[I 2024-05-15 19:22:47,617] Trial 3 finished with value: 1.1651207270691617 and parameters: {'trend': 'add', 'seasonal': None, 'seasonal_periods': 12}. Best is trial 6 with value: 1.1651207270691617.\n",
      "[I 2024-05-15 19:22:47,777] Trial 4 finished with value: 1.1651207270691617 and parameters: {'trend': 'add', 'seasonal': None, 'seasonal_periods': 7}. Best is trial 6 with value: 1.1651207270691617.\n",
      "[I 2024-05-15 19:22:47,912] Trial 2 finished with value: 1.2122665343094012 and parameters: {'trend': 'add', 'seasonal': 'add', 'seasonal_periods': 4}. Best is trial 6 with value: 1.1651207270691617.\n",
      "[I 2024-05-15 19:22:48,065] Trial 1 finished with value: 1.1779966745275614 and parameters: {'trend': 'add', 'seasonal': 'add', 'seasonal_periods': 7}. Best is trial 6 with value: 1.1651207270691617.\n",
      "[I 2024-05-15 19:22:48,131] Trial 5 finished with value: 1.2122665343094012 and parameters: {'trend': 'add', 'seasonal': 'add', 'seasonal_periods': 4}. Best is trial 6 with value: 1.1651207270691617.\n",
      "[I 2024-05-15 19:22:48,160] Trial 7 finished with value: 1.2185550060252646 and parameters: {'trend': 'add', 'seasonal': 'add', 'seasonal_periods': 12}. Best is trial 6 with value: 1.1651207270691617.\n",
      "[I 2024-05-15 19:22:48,228] Trial 9 finished with value: 1.1779966745275614 and parameters: {'trend': 'add', 'seasonal': 'add', 'seasonal_periods': None}. Best is trial 6 with value: 1.1651207270691617.\n",
      "[I 2024-05-15 19:22:48,255] Trial 8 finished with value: 1.1779966745275614 and parameters: {'trend': 'add', 'seasonal': 'add', 'seasonal_periods': 7}. Best is trial 6 with value: 1.1651207270691617.\n",
      "/opt/conda/lib/python3.10/site-packages/statsmodels/tsa/base/tsa_model.py:473: ValueWarning: No frequency information was provided, so inferred frequency D will be used.\n",
      "  self._init_dates(dates, freq)\n",
      "/var/tmp/ipykernel_1903582/1261245201.py:12: SettingWithCopyWarning: \n",
      "A value is trying to be set on a copy of a slice from a DataFrame.\n",
      "Try using .loc[row_indexer,col_indexer] = value instead\n",
      "\n",
      "See the caveats in the documentation: https://pandas.pydata.org/pandas-docs/stable/user_guide/indexing.html#returning-a-view-versus-a-copy\n",
      "  prophet_data_train['ds'] = pd.to_datetime(prophet_data_train['ds'])\n",
      "/var/tmp/ipykernel_1903582/1261245201.py:13: SettingWithCopyWarning: \n",
      "A value is trying to be set on a copy of a slice from a DataFrame.\n",
      "Try using .loc[row_indexer,col_indexer] = value instead\n",
      "\n",
      "See the caveats in the documentation: https://pandas.pydata.org/pandas-docs/stable/user_guide/indexing.html#returning-a-view-versus-a-copy\n",
      "  prophet_data_test['ds'] = pd.to_datetime(prophet_data_test['ds'])\n",
      "19:22:48 - cmdstanpy - INFO - Chain [1] start processing\n",
      "19:22:48 - cmdstanpy - INFO - Chain [1] done processing\n",
      "/var/tmp/ipykernel_1903582/1261245201.py:12: SettingWithCopyWarning: \n",
      "A value is trying to be set on a copy of a slice from a DataFrame.\n",
      "Try using .loc[row_indexer,col_indexer] = value instead\n",
      "\n",
      "See the caveats in the documentation: https://pandas.pydata.org/pandas-docs/stable/user_guide/indexing.html#returning-a-view-versus-a-copy\n",
      "  prophet_data_train['ds'] = pd.to_datetime(prophet_data_train['ds'])\n",
      "/var/tmp/ipykernel_1903582/1261245201.py:13: SettingWithCopyWarning: \n",
      "A value is trying to be set on a copy of a slice from a DataFrame.\n",
      "Try using .loc[row_indexer,col_indexer] = value instead\n",
      "\n",
      "See the caveats in the documentation: https://pandas.pydata.org/pandas-docs/stable/user_guide/indexing.html#returning-a-view-versus-a-copy\n",
      "  prophet_data_test['ds'] = pd.to_datetime(prophet_data_test['ds'])\n",
      "19:22:48 - cmdstanpy - INFO - Chain [1] start processing\n",
      "19:22:48 - cmdstanpy - INFO - Chain [1] done processing\n",
      "/var/tmp/ipykernel_1903582/1261245201.py:12: SettingWithCopyWarning: \n",
      "A value is trying to be set on a copy of a slice from a DataFrame.\n",
      "Try using .loc[row_indexer,col_indexer] = value instead\n",
      "\n",
      "See the caveats in the documentation: https://pandas.pydata.org/pandas-docs/stable/user_guide/indexing.html#returning-a-view-versus-a-copy\n",
      "  prophet_data_train['ds'] = pd.to_datetime(prophet_data_train['ds'])\n",
      "/var/tmp/ipykernel_1903582/1261245201.py:13: SettingWithCopyWarning: \n",
      "A value is trying to be set on a copy of a slice from a DataFrame.\n",
      "Try using .loc[row_indexer,col_indexer] = value instead\n",
      "\n",
      "See the caveats in the documentation: https://pandas.pydata.org/pandas-docs/stable/user_guide/indexing.html#returning-a-view-versus-a-copy\n",
      "  prophet_data_test['ds'] = pd.to_datetime(prophet_data_test['ds'])\n",
      "19:22:48 - cmdstanpy - INFO - Chain [1] start processing\n",
      "19:22:49 - cmdstanpy - INFO - Chain [1] done processing\n",
      "/var/tmp/ipykernel_1903582/1261245201.py:12: SettingWithCopyWarning: \n",
      "A value is trying to be set on a copy of a slice from a DataFrame.\n",
      "Try using .loc[row_indexer,col_indexer] = value instead\n",
      "\n",
      "See the caveats in the documentation: https://pandas.pydata.org/pandas-docs/stable/user_guide/indexing.html#returning-a-view-versus-a-copy\n",
      "  prophet_data_train['ds'] = pd.to_datetime(prophet_data_train['ds'])\n",
      "/var/tmp/ipykernel_1903582/1261245201.py:13: SettingWithCopyWarning: \n",
      "A value is trying to be set on a copy of a slice from a DataFrame.\n",
      "Try using .loc[row_indexer,col_indexer] = value instead\n",
      "\n",
      "See the caveats in the documentation: https://pandas.pydata.org/pandas-docs/stable/user_guide/indexing.html#returning-a-view-versus-a-copy\n",
      "  prophet_data_test['ds'] = pd.to_datetime(prophet_data_test['ds'])\n",
      "19:22:49 - cmdstanpy - INFO - Chain [1] start processing\n",
      "19:22:49 - cmdstanpy - INFO - Chain [1] done processing\n",
      "/var/tmp/ipykernel_1903582/1261245201.py:12: SettingWithCopyWarning: \n",
      "A value is trying to be set on a copy of a slice from a DataFrame.\n",
      "Try using .loc[row_indexer,col_indexer] = value instead\n",
      "\n",
      "See the caveats in the documentation: https://pandas.pydata.org/pandas-docs/stable/user_guide/indexing.html#returning-a-view-versus-a-copy\n",
      "  prophet_data_train['ds'] = pd.to_datetime(prophet_data_train['ds'])\n",
      "/var/tmp/ipykernel_1903582/1261245201.py:13: SettingWithCopyWarning: \n",
      "A value is trying to be set on a copy of a slice from a DataFrame.\n",
      "Try using .loc[row_indexer,col_indexer] = value instead\n",
      "\n",
      "See the caveats in the documentation: https://pandas.pydata.org/pandas-docs/stable/user_guide/indexing.html#returning-a-view-versus-a-copy\n",
      "  prophet_data_test['ds'] = pd.to_datetime(prophet_data_test['ds'])\n",
      "19:22:49 - cmdstanpy - INFO - Chain [1] start processing\n",
      "19:22:49 - cmdstanpy - INFO - Chain [1] done processing\n",
      "/opt/conda/lib/python3.10/site-packages/lightgbm/engine.py:172: UserWarning: Found `n_estimators` in params. Will use it instead of argument\n",
      "  _log_warning(f\"Found `{alias}` in params. Will use it instead of argument\")\n"
     ]
    },
    {
     "name": "stdout",
     "output_type": "stream",
     "text": [
      "Training until validation scores don't improve for 50 rounds\n",
      "Did not meet early stopping. Best iteration is:\n",
      "[1000]\tvalid_0's rmse: 4.9242\n",
      "Training until validation scores don't improve for 50 rounds\n"
     ]
    },
    {
     "name": "stderr",
     "output_type": "stream",
     "text": [
      "/opt/conda/lib/python3.10/site-packages/lightgbm/engine.py:172: UserWarning: Found `n_estimators` in params. Will use it instead of argument\n",
      "  _log_warning(f\"Found `{alias}` in params. Will use it instead of argument\")\n"
     ]
    },
    {
     "name": "stdout",
     "output_type": "stream",
     "text": [
      "Did not meet early stopping. Best iteration is:\n",
      "[1000]\tvalid_0's rmse: 7.34227\n",
      "Training until validation scores don't improve for 50 rounds\n"
     ]
    },
    {
     "name": "stderr",
     "output_type": "stream",
     "text": [
      "/opt/conda/lib/python3.10/site-packages/lightgbm/engine.py:172: UserWarning: Found `n_estimators` in params. Will use it instead of argument\n",
      "  _log_warning(f\"Found `{alias}` in params. Will use it instead of argument\")\n"
     ]
    },
    {
     "name": "stdout",
     "output_type": "stream",
     "text": [
      "Did not meet early stopping. Best iteration is:\n",
      "[999]\tvalid_0's rmse: 5.61107\n",
      "Training until validation scores don't improve for 50 rounds\n"
     ]
    },
    {
     "name": "stderr",
     "output_type": "stream",
     "text": [
      "/opt/conda/lib/python3.10/site-packages/lightgbm/engine.py:172: UserWarning: Found `n_estimators` in params. Will use it instead of argument\n",
      "  _log_warning(f\"Found `{alias}` in params. Will use it instead of argument\")\n"
     ]
    },
    {
     "name": "stdout",
     "output_type": "stream",
     "text": [
      "Did not meet early stopping. Best iteration is:\n",
      "[1000]\tvalid_0's rmse: 11.9862\n",
      "Training until validation scores don't improve for 50 rounds\n"
     ]
    },
    {
     "name": "stderr",
     "output_type": "stream",
     "text": [
      "/opt/conda/lib/python3.10/site-packages/lightgbm/engine.py:172: UserWarning: Found `n_estimators` in params. Will use it instead of argument\n",
      "  _log_warning(f\"Found `{alias}` in params. Will use it instead of argument\")\n"
     ]
    },
    {
     "name": "stdout",
     "output_type": "stream",
     "text": [
      "Did not meet early stopping. Best iteration is:\n",
      "[1000]\tvalid_0's rmse: 9.35447\n"
     ]
    },
    {
     "name": "stderr",
     "output_type": "stream",
     "text": [
      "GPU available: False, used: False\n",
      "TPU available: False, using: 0 TPU cores\n",
      "IPU available: False, using: 0 IPUs\n",
      "HPU available: False, using: 0 HPUs\n",
      "Missing logger folder: logs/tft_logs\n",
      "\n",
      "   | Name                              | Type                             | Params\n",
      "----------------------------------------------------------------------------------------\n",
      "0  | train_metrics                     | MetricCollection                 | 0     \n",
      "1  | val_metrics                       | MetricCollection                 | 0     \n",
      "2  | input_embeddings                  | _MultiEmbedding                  | 0     \n",
      "3  | static_covariates_vsn             | _VariableSelectionNetwork        | 0     \n",
      "4  | encoder_vsn                       | _VariableSelectionNetwork        | 93.0 K\n",
      "5  | decoder_vsn                       | _VariableSelectionNetwork        | 46.4 K\n",
      "6  | static_context_grn                | _GatedResidualNetwork            | 1.1 K \n",
      "7  | static_context_hidden_encoder_grn | _GatedResidualNetwork            | 1.1 K \n",
      "8  | static_context_cell_encoder_grn   | _GatedResidualNetwork            | 1.1 K \n",
      "9  | static_context_enrichment         | _GatedResidualNetwork            | 1.1 K \n",
      "10 | lstm_encoder                      | LSTM                             | 4.4 K \n",
      "11 | lstm_decoder                      | LSTM                             | 4.4 K \n",
      "12 | post_lstm_gan                     | _GateAddNorm                     | 576   \n",
      "13 | static_enrichment_grn             | _GatedResidualNetwork            | 1.4 K \n",
      "14 | multihead_attn                    | _InterpretableMultiHeadAttention | 676   \n",
      "15 | post_attn_gan                     | _GateAddNorm                     | 576   \n",
      "16 | feed_forward_block                | _GatedResidualNetwork            | 1.1 K \n",
      "17 | pre_output_gan                    | _GateAddNorm                     | 576   \n",
      "18 | output_layer                      | Linear                           | 289   \n",
      "----------------------------------------------------------------------------------------\n",
      "156 K     Trainable params\n",
      "0         Non-trainable params\n",
      "156 K     Total params\n",
      "0.627     Total estimated model params size (MB)\n"
     ]
    },
    {
     "data": {
      "application/vnd.jupyter.widget-view+json": {
       "model_id": "92c8d0478c67408bb9e0ae34d30ca7d1",
       "version_major": 2,
       "version_minor": 0
      },
      "text/plain": [
       "Sanity Checking: |          | 0/? [00:00<?, ?it/s]"
      ]
     },
     "metadata": {},
     "output_type": "display_data"
    },
    {
     "data": {
      "application/vnd.jupyter.widget-view+json": {
       "model_id": "1bb6e52ff56e410bb3d7395d9f5ea532",
       "version_major": 2,
       "version_minor": 0
      },
      "text/plain": [
       "Training: |          | 0/? [00:00<?, ?it/s]"
      ]
     },
     "metadata": {},
     "output_type": "display_data"
    },
    {
     "data": {
      "application/vnd.jupyter.widget-view+json": {
       "model_id": "ef1e69a5d3984641ae92eff1f1f80397",
       "version_major": 2,
       "version_minor": 0
      },
      "text/plain": [
       "Validation: |          | 0/? [00:00<?, ?it/s]"
      ]
     },
     "metadata": {},
     "output_type": "display_data"
    },
    {
     "data": {
      "application/vnd.jupyter.widget-view+json": {
       "model_id": "3a9d661acc6348f692f632c2328cee09",
       "version_major": 2,
       "version_minor": 0
      },
      "text/plain": [
       "Validation: |          | 0/? [00:00<?, ?it/s]"
      ]
     },
     "metadata": {},
     "output_type": "display_data"
    },
    {
     "data": {
      "application/vnd.jupyter.widget-view+json": {
       "model_id": "3c6706b431524cd8b847ebbbda8bace2",
       "version_major": 2,
       "version_minor": 0
      },
      "text/plain": [
       "Validation: |          | 0/? [00:00<?, ?it/s]"
      ]
     },
     "metadata": {},
     "output_type": "display_data"
    },
    {
     "data": {
      "application/vnd.jupyter.widget-view+json": {
       "model_id": "db9d10c4d61d43b59e52b1bdf3c55216",
       "version_major": 2,
       "version_minor": 0
      },
      "text/plain": [
       "Validation: |          | 0/? [00:00<?, ?it/s]"
      ]
     },
     "metadata": {},
     "output_type": "display_data"
    },
    {
     "data": {
      "application/vnd.jupyter.widget-view+json": {
       "model_id": "d68ddd819c7b4bfc872fdd015da6493c",
       "version_major": 2,
       "version_minor": 0
      },
      "text/plain": [
       "Validation: |          | 0/? [00:00<?, ?it/s]"
      ]
     },
     "metadata": {},
     "output_type": "display_data"
    },
    {
     "data": {
      "application/vnd.jupyter.widget-view+json": {
       "model_id": "0a9d9e3a44734303bf540845f1cbb8fc",
       "version_major": 2,
       "version_minor": 0
      },
      "text/plain": [
       "Validation: |          | 0/? [00:00<?, ?it/s]"
      ]
     },
     "metadata": {},
     "output_type": "display_data"
    },
    {
     "data": {
      "application/vnd.jupyter.widget-view+json": {
       "model_id": "5725f894b0dc4335b1c62578c8937575",
       "version_major": 2,
       "version_minor": 0
      },
      "text/plain": [
       "Validation: |          | 0/? [00:00<?, ?it/s]"
      ]
     },
     "metadata": {},
     "output_type": "display_data"
    },
    {
     "data": {
      "application/vnd.jupyter.widget-view+json": {
       "model_id": "b82d908c761e4fe5b21fa7ff8b396f13",
       "version_major": 2,
       "version_minor": 0
      },
      "text/plain": [
       "Validation: |          | 0/? [00:00<?, ?it/s]"
      ]
     },
     "metadata": {},
     "output_type": "display_data"
    },
    {
     "data": {
      "application/vnd.jupyter.widget-view+json": {
       "model_id": "5e6007f0ee974b6abc783677942169ca",
       "version_major": 2,
       "version_minor": 0
      },
      "text/plain": [
       "Validation: |          | 0/? [00:00<?, ?it/s]"
      ]
     },
     "metadata": {},
     "output_type": "display_data"
    },
    {
     "data": {
      "application/vnd.jupyter.widget-view+json": {
       "model_id": "d169069ab125489aae0851f8ea426971",
       "version_major": 2,
       "version_minor": 0
      },
      "text/plain": [
       "Validation: |          | 0/? [00:00<?, ?it/s]"
      ]
     },
     "metadata": {},
     "output_type": "display_data"
    },
    {
     "data": {
      "application/vnd.jupyter.widget-view+json": {
       "model_id": "d80605d7c8d241668d87a0b817523abe",
       "version_major": 2,
       "version_minor": 0
      },
      "text/plain": [
       "Validation: |          | 0/? [00:00<?, ?it/s]"
      ]
     },
     "metadata": {},
     "output_type": "display_data"
    },
    {
     "data": {
      "application/vnd.jupyter.widget-view+json": {
       "model_id": "4a4dc7fbeb0a43139ecaec64f843b5b9",
       "version_major": 2,
       "version_minor": 0
      },
      "text/plain": [
       "Validation: |          | 0/? [00:00<?, ?it/s]"
      ]
     },
     "metadata": {},
     "output_type": "display_data"
    },
    {
     "data": {
      "application/vnd.jupyter.widget-view+json": {
       "model_id": "dbb35746e3a040b5a2bf696eff5c171b",
       "version_major": 2,
       "version_minor": 0
      },
      "text/plain": [
       "Validation: |          | 0/? [00:00<?, ?it/s]"
      ]
     },
     "metadata": {},
     "output_type": "display_data"
    },
    {
     "data": {
      "application/vnd.jupyter.widget-view+json": {
       "model_id": "9242e0c59d664cf8b12e97cbc14852b1",
       "version_major": 2,
       "version_minor": 0
      },
      "text/plain": [
       "Validation: |          | 0/? [00:00<?, ?it/s]"
      ]
     },
     "metadata": {},
     "output_type": "display_data"
    },
    {
     "data": {
      "application/vnd.jupyter.widget-view+json": {
       "model_id": "3cfd14bd717245bea695b96e6e0e819e",
       "version_major": 2,
       "version_minor": 0
      },
      "text/plain": [
       "Validation: |          | 0/? [00:00<?, ?it/s]"
      ]
     },
     "metadata": {},
     "output_type": "display_data"
    },
    {
     "data": {
      "application/vnd.jupyter.widget-view+json": {
       "model_id": "7b7a2775768a40c2add63b33d7b12afa",
       "version_major": 2,
       "version_minor": 0
      },
      "text/plain": [
       "Validation: |          | 0/? [00:00<?, ?it/s]"
      ]
     },
     "metadata": {},
     "output_type": "display_data"
    },
    {
     "name": "stdout",
     "output_type": "stream",
     "text": [
      "{'ARIMA': {'rmsse': 0.9163292408792445, 'model': ARIMA(order=(1, 1, 1), scoring_args={}, suppress_warnings=True,\n",
      "      with_intercept=False)}, 'ExponentialSmoothing': {'rmsse': 0.8652772350824914, 'model': <statsmodels.tsa.holtwinters.results.HoltWintersResultsWrapper object at 0x7f71432a4be0>}, 'Prophet': {'rmsse': 0.7169757743024405, 'model': <prophet.forecaster.Prophet object at 0x7f72042a09d0>}, 'LightGBM': {'rmsse': 1.7243196876415368, 'model': <lightgbm.basic.Booster object at 0x7f7141ddfaf0>}, 'RandomForest': {'rmsse': 0.8600322879033886, 'model': RandomForestRegressor(random_state=42)}, 'DartsTFT': {'rmsse': 9.646719655682965, 'model': TFTModel(output_chunk_shift=0, hidden_size=16, lstm_layers=2, num_attention_heads=4, full_attention=False, feed_forward=GatedResidualNetwork, dropout=0.2, hidden_continuous_size=8, categorical_embedding_sizes=None, add_relative_index=False, loss_fn=None, likelihood=None, norm_type=LayerNorm, use_static_covariates=True, input_chunk_length=56, output_chunk_length=28, pl_trainer_kwargs={'callbacks': [<pytorch_lightning.callbacks.early_stopping.EarlyStopping object at 0x7f71afddd840>], 'accelerator': 'cpu', 'logger': <pytorch_lightning.loggers.csv_logs.CSVLogger object at 0x7f71afddf9d0>}, batch_size=16, torch_metrics=MeanAbsoluteError(), n_epochs=50)}}\n",
      "Model results for FOODS_3_694_WI_3_validation\n",
      "Best model: Prophet\n",
      "Best score: 0.7169757743024405\n",
      "Analyzing product: FOODS_3_252_CA_3_validation\n"
     ]
    },
    {
     "name": "stderr",
     "output_type": "stream",
     "text": [
      "[I 2024-05-15 19:41:33,292] A new study created in memory with name: no-name-8e6f3fd8-9ef6-478a-ba4b-3e737b87fc68\n"
     ]
    },
    {
     "name": "stdout",
     "output_type": "stream",
     "text": [
      "Optimizing hyperparameters for product: FOODS_3_252_CA_3_validation\n"
     ]
    },
    {
     "name": "stderr",
     "output_type": "stream",
     "text": [
      "[I 2024-05-15 19:41:34,275] Trial 5 finished with value: 0.8306206601190546 and parameters: {'trend': 'add', 'seasonal': None, 'seasonal_periods': 7}. Best is trial 5 with value: 0.8306206601190546.\n",
      "[I 2024-05-15 19:41:34,282] Trial 1 finished with value: 0.8306206601190546 and parameters: {'trend': 'add', 'seasonal': None, 'seasonal_periods': 12}. Best is trial 5 with value: 0.8306206601190546.\n",
      "[I 2024-05-15 19:41:35,202] Trial 8 finished with value: 0.8306206601190546 and parameters: {'trend': 'add', 'seasonal': None, 'seasonal_periods': None}. Best is trial 5 with value: 0.8306206601190546.\n",
      "[I 2024-05-15 19:41:35,262] Trial 4 finished with value: 0.7841453189986178 and parameters: {'trend': 'add', 'seasonal': 'add', 'seasonal_periods': None}. Best is trial 4 with value: 0.7841453189986178.\n",
      "[I 2024-05-15 19:41:35,264] Trial 9 finished with value: 0.8306206601190546 and parameters: {'trend': 'add', 'seasonal': None, 'seasonal_periods': 4}. Best is trial 4 with value: 0.7841453189986178.\n",
      "[I 2024-05-15 19:41:35,275] Trial 2 finished with value: 0.8137073821483742 and parameters: {'trend': 'add', 'seasonal': 'add', 'seasonal_periods': 4}. Best is trial 4 with value: 0.7841453189986178.\n",
      "[I 2024-05-15 19:41:35,326] Trial 3 finished with value: 0.8137073821483742 and parameters: {'trend': 'add', 'seasonal': 'add', 'seasonal_periods': 4}. Best is trial 4 with value: 0.7841453189986178.\n",
      "[I 2024-05-15 19:41:35,364] Trial 0 finished with value: 0.7841453189986178 and parameters: {'trend': 'add', 'seasonal': 'add', 'seasonal_periods': None}. Best is trial 4 with value: 0.7841453189986178.\n",
      "[I 2024-05-15 19:41:35,399] Trial 6 finished with value: 0.8137073821483742 and parameters: {'trend': 'add', 'seasonal': 'add', 'seasonal_periods': 4}. Best is trial 4 with value: 0.7841453189986178.\n",
      "[I 2024-05-15 19:41:35,438] Trial 7 finished with value: 0.7841453189986178 and parameters: {'trend': 'add', 'seasonal': 'add', 'seasonal_periods': 7}. Best is trial 4 with value: 0.7841453189986178.\n",
      "/opt/conda/lib/python3.10/site-packages/statsmodels/tsa/base/tsa_model.py:473: ValueWarning: No frequency information was provided, so inferred frequency D will be used.\n",
      "  self._init_dates(dates, freq)\n",
      "[I 2024-05-15 19:41:35,700] A new study created in memory with name: no-name-2979275e-62d9-4931-bd26-81c8ff8b2dd6\n"
     ]
    },
    {
     "name": "stdout",
     "output_type": "stream",
     "text": [
      "Optimizing hyperparameters for product: FOODS_3_252_CA_3_validation\n"
     ]
    },
    {
     "name": "stderr",
     "output_type": "stream",
     "text": [
      "[I 2024-05-15 19:41:36,802] Trial 2 finished with value: 0.8952730103644054 and parameters: {'trend': 'add', 'seasonal': None, 'seasonal_periods': None}. Best is trial 2 with value: 0.8952730103644054.\n",
      "[I 2024-05-15 19:41:37,215] Trial 4 finished with value: 0.8952730103644054 and parameters: {'trend': 'add', 'seasonal': None, 'seasonal_periods': None}. Best is trial 2 with value: 0.8952730103644054.\n",
      "[I 2024-05-15 19:41:37,376] Trial 5 finished with value: 0.8952730103644054 and parameters: {'trend': 'add', 'seasonal': None, 'seasonal_periods': 7}. Best is trial 2 with value: 0.8952730103644054.\n",
      "[I 2024-05-15 19:41:37,452] Trial 9 finished with value: 0.8952730103644054 and parameters: {'trend': 'add', 'seasonal': None, 'seasonal_periods': 12}. Best is trial 2 with value: 0.8952730103644054.\n",
      "[I 2024-05-15 19:41:37,518] Trial 1 finished with value: 0.9118671946979214 and parameters: {'trend': 'add', 'seasonal': 'add', 'seasonal_periods': 4}. Best is trial 2 with value: 0.8952730103644054.\n",
      "[I 2024-05-15 19:41:37,530] Trial 0 finished with value: 0.7783189379984793 and parameters: {'trend': 'add', 'seasonal': 'add', 'seasonal_periods': 7}. Best is trial 0 with value: 0.7783189379984793.\n",
      "[I 2024-05-15 19:41:37,707] Trial 7 finished with value: 0.7783189379984793 and parameters: {'trend': 'add', 'seasonal': 'add', 'seasonal_periods': None}. Best is trial 0 with value: 0.7783189379984793.\n",
      "[I 2024-05-15 19:41:37,788] Trial 6 finished with value: 0.7783189379984793 and parameters: {'trend': 'add', 'seasonal': 'add', 'seasonal_periods': 7}. Best is trial 0 with value: 0.7783189379984793.\n",
      "[I 2024-05-15 19:41:37,792] Trial 8 finished with value: 0.7783189379984793 and parameters: {'trend': 'add', 'seasonal': 'add', 'seasonal_periods': None}. Best is trial 0 with value: 0.7783189379984793.\n",
      "[I 2024-05-15 19:41:37,801] Trial 3 finished with value: 0.9118671946979214 and parameters: {'trend': 'add', 'seasonal': 'add', 'seasonal_periods': 4}. Best is trial 0 with value: 0.7783189379984793.\n",
      "/opt/conda/lib/python3.10/site-packages/statsmodels/tsa/base/tsa_model.py:473: ValueWarning: No frequency information was provided, so inferred frequency D will be used.\n",
      "  self._init_dates(dates, freq)\n",
      "[I 2024-05-15 19:41:38,060] A new study created in memory with name: no-name-17d75ad7-2a2e-4724-aa8d-e841056a4e65\n"
     ]
    },
    {
     "name": "stdout",
     "output_type": "stream",
     "text": [
      "Optimizing hyperparameters for product: FOODS_3_252_CA_3_validation\n"
     ]
    },
    {
     "name": "stderr",
     "output_type": "stream",
     "text": [
      "[I 2024-05-15 19:41:39,109] Trial 3 finished with value: 0.7399530916560935 and parameters: {'trend': 'add', 'seasonal': None, 'seasonal_periods': 12}. Best is trial 3 with value: 0.7399530916560935.\n",
      "[I 2024-05-15 19:41:39,196] Trial 0 finished with value: 0.7399530916560935 and parameters: {'trend': 'add', 'seasonal': None, 'seasonal_periods': 12}. Best is trial 3 with value: 0.7399530916560935.\n",
      "[I 2024-05-15 19:41:39,535] Trial 6 finished with value: 0.7399530916560935 and parameters: {'trend': 'add', 'seasonal': None, 'seasonal_periods': 4}. Best is trial 3 with value: 0.7399530916560935.\n",
      "[I 2024-05-15 19:41:39,570] Trial 2 finished with value: 0.7399530916560935 and parameters: {'trend': 'add', 'seasonal': None, 'seasonal_periods': None}. Best is trial 3 with value: 0.7399530916560935.\n",
      "[I 2024-05-15 19:41:39,595] Trial 9 finished with value: 0.7399530916560935 and parameters: {'trend': 'add', 'seasonal': None, 'seasonal_periods': None}. Best is trial 3 with value: 0.7399530916560935.\n",
      "[I 2024-05-15 19:41:39,642] Trial 7 finished with value: 0.7399530916560935 and parameters: {'trend': 'add', 'seasonal': None, 'seasonal_periods': 12}. Best is trial 3 with value: 0.7399530916560935.\n",
      "[I 2024-05-15 19:41:39,676] Trial 4 finished with value: 0.9705789697674864 and parameters: {'trend': 'add', 'seasonal': 'add', 'seasonal_periods': 12}. Best is trial 3 with value: 0.7399530916560935.\n",
      "[I 2024-05-15 19:41:39,742] Trial 5 finished with value: 0.8947165130170487 and parameters: {'trend': 'add', 'seasonal': 'add', 'seasonal_periods': 7}. Best is trial 3 with value: 0.7399530916560935.\n",
      "[I 2024-05-15 19:41:39,770] Trial 1 finished with value: 0.8947165130170487 and parameters: {'trend': 'add', 'seasonal': 'add', 'seasonal_periods': None}. Best is trial 3 with value: 0.7399530916560935.\n",
      "[I 2024-05-15 19:41:39,788] Trial 8 finished with value: 0.8947165130170487 and parameters: {'trend': 'add', 'seasonal': 'add', 'seasonal_periods': 7}. Best is trial 3 with value: 0.7399530916560935.\n",
      "/opt/conda/lib/python3.10/site-packages/statsmodels/tsa/base/tsa_model.py:473: ValueWarning: No frequency information was provided, so inferred frequency D will be used.\n",
      "  self._init_dates(dates, freq)\n",
      "[I 2024-05-15 19:41:39,843] A new study created in memory with name: no-name-5d22f684-2c03-408b-ad6a-85b44b2d5a57\n"
     ]
    },
    {
     "name": "stdout",
     "output_type": "stream",
     "text": [
      "Optimizing hyperparameters for product: FOODS_3_252_CA_3_validation\n"
     ]
    },
    {
     "name": "stderr",
     "output_type": "stream",
     "text": [
      "[I 2024-05-15 19:41:40,518] Trial 0 finished with value: 0.8389402822512572 and parameters: {'trend': 'add', 'seasonal': None, 'seasonal_periods': 7}. Best is trial 0 with value: 0.8389402822512572.\n",
      "[I 2024-05-15 19:41:40,642] Trial 5 finished with value: 0.8389402822512572 and parameters: {'trend': 'add', 'seasonal': None, 'seasonal_periods': 12}. Best is trial 0 with value: 0.8389402822512572.\n",
      "[I 2024-05-15 19:41:40,668] Trial 1 finished with value: 0.8389402822512572 and parameters: {'trend': 'add', 'seasonal': None, 'seasonal_periods': None}. Best is trial 0 with value: 0.8389402822512572.\n",
      "[I 2024-05-15 19:41:40,774] Trial 6 finished with value: 0.8389402822512572 and parameters: {'trend': 'add', 'seasonal': None, 'seasonal_periods': 4}. Best is trial 0 with value: 0.8389402822512572.\n",
      "[I 2024-05-15 19:41:40,785] Trial 3 finished with value: 0.8389402822512572 and parameters: {'trend': 'add', 'seasonal': None, 'seasonal_periods': None}. Best is trial 0 with value: 0.8389402822512572.\n",
      "[I 2024-05-15 19:41:40,815] Trial 8 finished with value: 0.8389402822512572 and parameters: {'trend': 'add', 'seasonal': None, 'seasonal_periods': 12}. Best is trial 0 with value: 0.8389402822512572.\n",
      "[I 2024-05-15 19:41:40,960] Trial 7 finished with value: 0.8389402822512572 and parameters: {'trend': 'add', 'seasonal': None, 'seasonal_periods': 7}. Best is trial 0 with value: 0.8389402822512572.\n",
      "[I 2024-05-15 19:41:41,014] Trial 9 finished with value: 0.8389402822512572 and parameters: {'trend': 'add', 'seasonal': None, 'seasonal_periods': 12}. Best is trial 0 with value: 0.8389402822512572.\n",
      "[I 2024-05-15 19:41:41,103] Trial 4 finished with value: 0.790092230472295 and parameters: {'trend': 'add', 'seasonal': 'add', 'seasonal_periods': 12}. Best is trial 4 with value: 0.790092230472295.\n",
      "[I 2024-05-15 19:41:41,123] Trial 2 finished with value: 0.790092230472295 and parameters: {'trend': 'add', 'seasonal': 'add', 'seasonal_periods': 12}. Best is trial 4 with value: 0.790092230472295.\n",
      "/opt/conda/lib/python3.10/site-packages/statsmodels/tsa/base/tsa_model.py:473: ValueWarning: No frequency information was provided, so inferred frequency D will be used.\n",
      "  self._init_dates(dates, freq)\n",
      "[I 2024-05-15 19:41:41,367] A new study created in memory with name: no-name-55f4352d-0f2a-4432-ba99-d696180ae7c7\n"
     ]
    },
    {
     "name": "stdout",
     "output_type": "stream",
     "text": [
      "Optimizing hyperparameters for product: FOODS_3_252_CA_3_validation\n"
     ]
    },
    {
     "name": "stderr",
     "output_type": "stream",
     "text": [
      "[I 2024-05-15 19:41:42,163] Trial 1 finished with value: 0.862152777826794 and parameters: {'trend': 'add', 'seasonal': None, 'seasonal_periods': 7}. Best is trial 1 with value: 0.862152777826794.\n",
      "[I 2024-05-15 19:41:42,294] Trial 0 finished with value: 0.862152777826794 and parameters: {'trend': 'add', 'seasonal': None, 'seasonal_periods': 12}. Best is trial 1 with value: 0.862152777826794.\n",
      "[I 2024-05-15 19:41:42,405] Trial 3 finished with value: 0.862152777826794 and parameters: {'trend': 'add', 'seasonal': None, 'seasonal_periods': None}. Best is trial 1 with value: 0.862152777826794.\n",
      "[I 2024-05-15 19:41:42,566] Trial 6 finished with value: 0.862152777826794 and parameters: {'trend': 'add', 'seasonal': None, 'seasonal_periods': 7}. Best is trial 1 with value: 0.862152777826794.\n",
      "[I 2024-05-15 19:41:42,739] Trial 2 finished with value: 0.862152777826794 and parameters: {'trend': 'add', 'seasonal': None, 'seasonal_periods': 7}. Best is trial 1 with value: 0.862152777826794.\n",
      "[I 2024-05-15 19:41:42,921] Trial 8 finished with value: 0.862152777826794 and parameters: {'trend': 'add', 'seasonal': None, 'seasonal_periods': None}. Best is trial 1 with value: 0.862152777826794.\n",
      "[I 2024-05-15 19:41:42,935] Trial 5 finished with value: 0.8391608126610092 and parameters: {'trend': 'add', 'seasonal': 'add', 'seasonal_periods': 12}. Best is trial 5 with value: 0.8391608126610092.\n",
      "[I 2024-05-15 19:41:42,993] Trial 4 finished with value: 0.7728334923637393 and parameters: {'trend': 'add', 'seasonal': 'add', 'seasonal_periods': 7}. Best is trial 4 with value: 0.7728334923637393.\n",
      "[I 2024-05-15 19:41:43,019] Trial 7 finished with value: 0.8460495379554732 and parameters: {'trend': 'add', 'seasonal': 'add', 'seasonal_periods': 4}. Best is trial 4 with value: 0.7728334923637393.\n",
      "[I 2024-05-15 19:41:43,055] Trial 9 finished with value: 0.7728334923637393 and parameters: {'trend': 'add', 'seasonal': 'add', 'seasonal_periods': None}. Best is trial 4 with value: 0.7728334923637393.\n",
      "/opt/conda/lib/python3.10/site-packages/statsmodels/tsa/base/tsa_model.py:473: ValueWarning: No frequency information was provided, so inferred frequency D will be used.\n",
      "  self._init_dates(dates, freq)\n",
      "/var/tmp/ipykernel_1903582/1261245201.py:12: SettingWithCopyWarning: \n",
      "A value is trying to be set on a copy of a slice from a DataFrame.\n",
      "Try using .loc[row_indexer,col_indexer] = value instead\n",
      "\n",
      "See the caveats in the documentation: https://pandas.pydata.org/pandas-docs/stable/user_guide/indexing.html#returning-a-view-versus-a-copy\n",
      "  prophet_data_train['ds'] = pd.to_datetime(prophet_data_train['ds'])\n",
      "/var/tmp/ipykernel_1903582/1261245201.py:13: SettingWithCopyWarning: \n",
      "A value is trying to be set on a copy of a slice from a DataFrame.\n",
      "Try using .loc[row_indexer,col_indexer] = value instead\n",
      "\n",
      "See the caveats in the documentation: https://pandas.pydata.org/pandas-docs/stable/user_guide/indexing.html#returning-a-view-versus-a-copy\n",
      "  prophet_data_test['ds'] = pd.to_datetime(prophet_data_test['ds'])\n",
      "19:41:43 - cmdstanpy - INFO - Chain [1] start processing\n",
      "19:41:43 - cmdstanpy - INFO - Chain [1] done processing\n",
      "/var/tmp/ipykernel_1903582/1261245201.py:12: SettingWithCopyWarning: \n",
      "A value is trying to be set on a copy of a slice from a DataFrame.\n",
      "Try using .loc[row_indexer,col_indexer] = value instead\n",
      "\n",
      "See the caveats in the documentation: https://pandas.pydata.org/pandas-docs/stable/user_guide/indexing.html#returning-a-view-versus-a-copy\n",
      "  prophet_data_train['ds'] = pd.to_datetime(prophet_data_train['ds'])\n",
      "/var/tmp/ipykernel_1903582/1261245201.py:13: SettingWithCopyWarning: \n",
      "A value is trying to be set on a copy of a slice from a DataFrame.\n",
      "Try using .loc[row_indexer,col_indexer] = value instead\n",
      "\n",
      "See the caveats in the documentation: https://pandas.pydata.org/pandas-docs/stable/user_guide/indexing.html#returning-a-view-versus-a-copy\n",
      "  prophet_data_test['ds'] = pd.to_datetime(prophet_data_test['ds'])\n",
      "19:41:43 - cmdstanpy - INFO - Chain [1] start processing\n",
      "19:41:43 - cmdstanpy - INFO - Chain [1] done processing\n",
      "/var/tmp/ipykernel_1903582/1261245201.py:12: SettingWithCopyWarning: \n",
      "A value is trying to be set on a copy of a slice from a DataFrame.\n",
      "Try using .loc[row_indexer,col_indexer] = value instead\n",
      "\n",
      "See the caveats in the documentation: https://pandas.pydata.org/pandas-docs/stable/user_guide/indexing.html#returning-a-view-versus-a-copy\n",
      "  prophet_data_train['ds'] = pd.to_datetime(prophet_data_train['ds'])\n",
      "/var/tmp/ipykernel_1903582/1261245201.py:13: SettingWithCopyWarning: \n",
      "A value is trying to be set on a copy of a slice from a DataFrame.\n",
      "Try using .loc[row_indexer,col_indexer] = value instead\n",
      "\n",
      "See the caveats in the documentation: https://pandas.pydata.org/pandas-docs/stable/user_guide/indexing.html#returning-a-view-versus-a-copy\n",
      "  prophet_data_test['ds'] = pd.to_datetime(prophet_data_test['ds'])\n",
      "19:41:43 - cmdstanpy - INFO - Chain [1] start processing\n",
      "19:41:44 - cmdstanpy - INFO - Chain [1] done processing\n",
      "/var/tmp/ipykernel_1903582/1261245201.py:12: SettingWithCopyWarning: \n",
      "A value is trying to be set on a copy of a slice from a DataFrame.\n",
      "Try using .loc[row_indexer,col_indexer] = value instead\n",
      "\n",
      "See the caveats in the documentation: https://pandas.pydata.org/pandas-docs/stable/user_guide/indexing.html#returning-a-view-versus-a-copy\n",
      "  prophet_data_train['ds'] = pd.to_datetime(prophet_data_train['ds'])\n",
      "/var/tmp/ipykernel_1903582/1261245201.py:13: SettingWithCopyWarning: \n",
      "A value is trying to be set on a copy of a slice from a DataFrame.\n",
      "Try using .loc[row_indexer,col_indexer] = value instead\n",
      "\n",
      "See the caveats in the documentation: https://pandas.pydata.org/pandas-docs/stable/user_guide/indexing.html#returning-a-view-versus-a-copy\n",
      "  prophet_data_test['ds'] = pd.to_datetime(prophet_data_test['ds'])\n",
      "19:41:44 - cmdstanpy - INFO - Chain [1] start processing\n",
      "19:41:44 - cmdstanpy - INFO - Chain [1] done processing\n",
      "/var/tmp/ipykernel_1903582/1261245201.py:12: SettingWithCopyWarning: \n",
      "A value is trying to be set on a copy of a slice from a DataFrame.\n",
      "Try using .loc[row_indexer,col_indexer] = value instead\n",
      "\n",
      "See the caveats in the documentation: https://pandas.pydata.org/pandas-docs/stable/user_guide/indexing.html#returning-a-view-versus-a-copy\n",
      "  prophet_data_train['ds'] = pd.to_datetime(prophet_data_train['ds'])\n",
      "/var/tmp/ipykernel_1903582/1261245201.py:13: SettingWithCopyWarning: \n",
      "A value is trying to be set on a copy of a slice from a DataFrame.\n",
      "Try using .loc[row_indexer,col_indexer] = value instead\n",
      "\n",
      "See the caveats in the documentation: https://pandas.pydata.org/pandas-docs/stable/user_guide/indexing.html#returning-a-view-versus-a-copy\n",
      "  prophet_data_test['ds'] = pd.to_datetime(prophet_data_test['ds'])\n",
      "19:41:44 - cmdstanpy - INFO - Chain [1] start processing\n",
      "19:41:44 - cmdstanpy - INFO - Chain [1] done processing\n",
      "/opt/conda/lib/python3.10/site-packages/lightgbm/engine.py:172: UserWarning: Found `n_estimators` in params. Will use it instead of argument\n",
      "  _log_warning(f\"Found `{alias}` in params. Will use it instead of argument\")\n"
     ]
    },
    {
     "name": "stdout",
     "output_type": "stream",
     "text": [
      "Training until validation scores don't improve for 50 rounds\n",
      "Did not meet early stopping. Best iteration is:\n",
      "[1000]\tvalid_0's rmse: 7.58825\n",
      "Training until validation scores don't improve for 50 rounds\n"
     ]
    },
    {
     "name": "stderr",
     "output_type": "stream",
     "text": [
      "/opt/conda/lib/python3.10/site-packages/lightgbm/engine.py:172: UserWarning: Found `n_estimators` in params. Will use it instead of argument\n",
      "  _log_warning(f\"Found `{alias}` in params. Will use it instead of argument\")\n"
     ]
    },
    {
     "name": "stdout",
     "output_type": "stream",
     "text": [
      "Early stopping, best iteration is:\n",
      "[250]\tvalid_0's rmse: 5.34743\n",
      "Training until validation scores don't improve for 50 rounds\n"
     ]
    },
    {
     "name": "stderr",
     "output_type": "stream",
     "text": [
      "/opt/conda/lib/python3.10/site-packages/lightgbm/engine.py:172: UserWarning: Found `n_estimators` in params. Will use it instead of argument\n",
      "  _log_warning(f\"Found `{alias}` in params. Will use it instead of argument\")\n"
     ]
    },
    {
     "name": "stdout",
     "output_type": "stream",
     "text": [
      "Early stopping, best iteration is:\n",
      "[846]\tvalid_0's rmse: 5.33448\n",
      "Training until validation scores don't improve for 50 rounds\n"
     ]
    },
    {
     "name": "stderr",
     "output_type": "stream",
     "text": [
      "/opt/conda/lib/python3.10/site-packages/lightgbm/engine.py:172: UserWarning: Found `n_estimators` in params. Will use it instead of argument\n",
      "  _log_warning(f\"Found `{alias}` in params. Will use it instead of argument\")\n"
     ]
    },
    {
     "name": "stdout",
     "output_type": "stream",
     "text": [
      "Did not meet early stopping. Best iteration is:\n",
      "[1000]\tvalid_0's rmse: 8.19959\n",
      "Training until validation scores don't improve for 50 rounds\n"
     ]
    },
    {
     "name": "stderr",
     "output_type": "stream",
     "text": [
      "/opt/conda/lib/python3.10/site-packages/lightgbm/engine.py:172: UserWarning: Found `n_estimators` in params. Will use it instead of argument\n",
      "  _log_warning(f\"Found `{alias}` in params. Will use it instead of argument\")\n"
     ]
    },
    {
     "name": "stdout",
     "output_type": "stream",
     "text": [
      "Did not meet early stopping. Best iteration is:\n",
      "[1000]\tvalid_0's rmse: 9.93784\n"
     ]
    },
    {
     "name": "stderr",
     "output_type": "stream",
     "text": [
      "GPU available: False, used: False\n",
      "TPU available: False, using: 0 TPU cores\n",
      "IPU available: False, using: 0 IPUs\n",
      "HPU available: False, using: 0 HPUs\n",
      "Missing logger folder: logs/tft_logs\n",
      "\n",
      "   | Name                              | Type                             | Params\n",
      "----------------------------------------------------------------------------------------\n",
      "0  | train_metrics                     | MetricCollection                 | 0     \n",
      "1  | val_metrics                       | MetricCollection                 | 0     \n",
      "2  | input_embeddings                  | _MultiEmbedding                  | 0     \n",
      "3  | static_covariates_vsn             | _VariableSelectionNetwork        | 0     \n",
      "4  | encoder_vsn                       | _VariableSelectionNetwork        | 93.0 K\n",
      "5  | decoder_vsn                       | _VariableSelectionNetwork        | 46.4 K\n",
      "6  | static_context_grn                | _GatedResidualNetwork            | 1.1 K \n",
      "7  | static_context_hidden_encoder_grn | _GatedResidualNetwork            | 1.1 K \n",
      "8  | static_context_cell_encoder_grn   | _GatedResidualNetwork            | 1.1 K \n",
      "9  | static_context_enrichment         | _GatedResidualNetwork            | 1.1 K \n",
      "10 | lstm_encoder                      | LSTM                             | 4.4 K \n",
      "11 | lstm_decoder                      | LSTM                             | 4.4 K \n",
      "12 | post_lstm_gan                     | _GateAddNorm                     | 576   \n",
      "13 | static_enrichment_grn             | _GatedResidualNetwork            | 1.4 K \n",
      "14 | multihead_attn                    | _InterpretableMultiHeadAttention | 676   \n",
      "15 | post_attn_gan                     | _GateAddNorm                     | 576   \n",
      "16 | feed_forward_block                | _GatedResidualNetwork            | 1.1 K \n",
      "17 | pre_output_gan                    | _GateAddNorm                     | 576   \n",
      "18 | output_layer                      | Linear                           | 289   \n",
      "----------------------------------------------------------------------------------------\n",
      "156 K     Trainable params\n",
      "0         Non-trainable params\n",
      "156 K     Total params\n",
      "0.627     Total estimated model params size (MB)\n"
     ]
    },
    {
     "data": {
      "application/vnd.jupyter.widget-view+json": {
       "model_id": "be0a4b3a3b88417f9ef16feae4026f08",
       "version_major": 2,
       "version_minor": 0
      },
      "text/plain": [
       "Sanity Checking: |          | 0/? [00:00<?, ?it/s]"
      ]
     },
     "metadata": {},
     "output_type": "display_data"
    },
    {
     "data": {
      "application/vnd.jupyter.widget-view+json": {
       "model_id": "517faab7932844c495ea49ef4ddf25d2",
       "version_major": 2,
       "version_minor": 0
      },
      "text/plain": [
       "Training: |          | 0/? [00:00<?, ?it/s]"
      ]
     },
     "metadata": {},
     "output_type": "display_data"
    },
    {
     "data": {
      "application/vnd.jupyter.widget-view+json": {
       "model_id": "a1999205eb5f442895edc645897c6c83",
       "version_major": 2,
       "version_minor": 0
      },
      "text/plain": [
       "Validation: |          | 0/? [00:00<?, ?it/s]"
      ]
     },
     "metadata": {},
     "output_type": "display_data"
    },
    {
     "data": {
      "application/vnd.jupyter.widget-view+json": {
       "model_id": "3b18d6d423484c6dac4c6c2aa245b6e2",
       "version_major": 2,
       "version_minor": 0
      },
      "text/plain": [
       "Validation: |          | 0/? [00:00<?, ?it/s]"
      ]
     },
     "metadata": {},
     "output_type": "display_data"
    },
    {
     "data": {
      "application/vnd.jupyter.widget-view+json": {
       "model_id": "1663490eb3334df7808174fed6216ae6",
       "version_major": 2,
       "version_minor": 0
      },
      "text/plain": [
       "Validation: |          | 0/? [00:00<?, ?it/s]"
      ]
     },
     "metadata": {},
     "output_type": "display_data"
    },
    {
     "data": {
      "application/vnd.jupyter.widget-view+json": {
       "model_id": "6ed97c3bfddc42e6b8c98add95119257",
       "version_major": 2,
       "version_minor": 0
      },
      "text/plain": [
       "Validation: |          | 0/? [00:00<?, ?it/s]"
      ]
     },
     "metadata": {},
     "output_type": "display_data"
    },
    {
     "data": {
      "application/vnd.jupyter.widget-view+json": {
       "model_id": "58ad601c00a849fb99f59f4fadb0f325",
       "version_major": 2,
       "version_minor": 0
      },
      "text/plain": [
       "Validation: |          | 0/? [00:00<?, ?it/s]"
      ]
     },
     "metadata": {},
     "output_type": "display_data"
    },
    {
     "data": {
      "application/vnd.jupyter.widget-view+json": {
       "model_id": "ff850812436649eea57c9a408a6f0367",
       "version_major": 2,
       "version_minor": 0
      },
      "text/plain": [
       "Validation: |          | 0/? [00:00<?, ?it/s]"
      ]
     },
     "metadata": {},
     "output_type": "display_data"
    },
    {
     "data": {
      "application/vnd.jupyter.widget-view+json": {
       "model_id": "e0efa03544d54ac0a54f639d2e4dec58",
       "version_major": 2,
       "version_minor": 0
      },
      "text/plain": [
       "Validation: |          | 0/? [00:00<?, ?it/s]"
      ]
     },
     "metadata": {},
     "output_type": "display_data"
    },
    {
     "data": {
      "application/vnd.jupyter.widget-view+json": {
       "model_id": "7eb2edf95f0c4902875d369c91146448",
       "version_major": 2,
       "version_minor": 0
      },
      "text/plain": [
       "Validation: |          | 0/? [00:00<?, ?it/s]"
      ]
     },
     "metadata": {},
     "output_type": "display_data"
    },
    {
     "data": {
      "application/vnd.jupyter.widget-view+json": {
       "model_id": "4b73544f63b24de98a6e63e28440f755",
       "version_major": 2,
       "version_minor": 0
      },
      "text/plain": [
       "Validation: |          | 0/? [00:00<?, ?it/s]"
      ]
     },
     "metadata": {},
     "output_type": "display_data"
    },
    {
     "data": {
      "application/vnd.jupyter.widget-view+json": {
       "model_id": "ab25e13538ea4a5f90d65889286c2375",
       "version_major": 2,
       "version_minor": 0
      },
      "text/plain": [
       "Validation: |          | 0/? [00:00<?, ?it/s]"
      ]
     },
     "metadata": {},
     "output_type": "display_data"
    },
    {
     "data": {
      "application/vnd.jupyter.widget-view+json": {
       "model_id": "2bf2eb36d3bf4eaa8c1eb396b4078227",
       "version_major": 2,
       "version_minor": 0
      },
      "text/plain": [
       "Validation: |          | 0/? [00:00<?, ?it/s]"
      ]
     },
     "metadata": {},
     "output_type": "display_data"
    },
    {
     "data": {
      "application/vnd.jupyter.widget-view+json": {
       "model_id": "790e5d6469c741ecbb54205c41d70e13",
       "version_major": 2,
       "version_minor": 0
      },
      "text/plain": [
       "Validation: |          | 0/? [00:00<?, ?it/s]"
      ]
     },
     "metadata": {},
     "output_type": "display_data"
    },
    {
     "data": {
      "application/vnd.jupyter.widget-view+json": {
       "model_id": "d2ef27bd3cba4b9e9e7cc3a630d5c10a",
       "version_major": 2,
       "version_minor": 0
      },
      "text/plain": [
       "Validation: |          | 0/? [00:00<?, ?it/s]"
      ]
     },
     "metadata": {},
     "output_type": "display_data"
    },
    {
     "data": {
      "application/vnd.jupyter.widget-view+json": {
       "model_id": "38f5195e584c401490e77e524f997489",
       "version_major": 2,
       "version_minor": 0
      },
      "text/plain": [
       "Validation: |          | 0/? [00:00<?, ?it/s]"
      ]
     },
     "metadata": {},
     "output_type": "display_data"
    },
    {
     "data": {
      "application/vnd.jupyter.widget-view+json": {
       "model_id": "169eb7a24686459998340b07285ac1b9",
       "version_major": 2,
       "version_minor": 0
      },
      "text/plain": [
       "Validation: |          | 0/? [00:00<?, ?it/s]"
      ]
     },
     "metadata": {},
     "output_type": "display_data"
    },
    {
     "data": {
      "application/vnd.jupyter.widget-view+json": {
       "model_id": "900344b8e8d9425a80f33c2b0ee4ca26",
       "version_major": 2,
       "version_minor": 0
      },
      "text/plain": [
       "Validation: |          | 0/? [00:00<?, ?it/s]"
      ]
     },
     "metadata": {},
     "output_type": "display_data"
    },
    {
     "data": {
      "application/vnd.jupyter.widget-view+json": {
       "model_id": "d618c9f4a2d84a56bbc6c18474b30288",
       "version_major": 2,
       "version_minor": 0
      },
      "text/plain": [
       "Validation: |          | 0/? [00:00<?, ?it/s]"
      ]
     },
     "metadata": {},
     "output_type": "display_data"
    },
    {
     "data": {
      "application/vnd.jupyter.widget-view+json": {
       "model_id": "2bd41913be0c48d1aa2cd427aaebda9e",
       "version_major": 2,
       "version_minor": 0
      },
      "text/plain": [
       "Validation: |          | 0/? [00:00<?, ?it/s]"
      ]
     },
     "metadata": {},
     "output_type": "display_data"
    },
    {
     "data": {
      "application/vnd.jupyter.widget-view+json": {
       "model_id": "0ace1cd683db428b82d1def639ff6319",
       "version_major": 2,
       "version_minor": 0
      },
      "text/plain": [
       "Validation: |          | 0/? [00:00<?, ?it/s]"
      ]
     },
     "metadata": {},
     "output_type": "display_data"
    },
    {
     "data": {
      "application/vnd.jupyter.widget-view+json": {
       "model_id": "99607257d7094ba590f835e98a7c319e",
       "version_major": 2,
       "version_minor": 0
      },
      "text/plain": [
       "Validation: |          | 0/? [00:00<?, ?it/s]"
      ]
     },
     "metadata": {},
     "output_type": "display_data"
    },
    {
     "data": {
      "application/vnd.jupyter.widget-view+json": {
       "model_id": "78b3889bfd8341f3bd1e0fef9aded713",
       "version_major": 2,
       "version_minor": 0
      },
      "text/plain": [
       "Validation: |          | 0/? [00:00<?, ?it/s]"
      ]
     },
     "metadata": {},
     "output_type": "display_data"
    },
    {
     "name": "stdout",
     "output_type": "stream",
     "text": [
      "{'ARIMA': {'rmsse': 0.8447239200667214, 'model': ARIMA(order=(4, 1, 1), scoring_args={}, suppress_warnings=True,\n",
      "      with_intercept=False)}, 'ExponentialSmoothing': {'rmsse': 0.7730686142978451, 'model': <statsmodels.tsa.holtwinters.results.HoltWintersResultsWrapper object at 0x7f720429d120>}, 'Prophet': {'rmsse': 0.6467864231911445, 'model': <prophet.forecaster.Prophet object at 0x7f714200cb20>}, 'LightGBM': {'rmsse': 1.2056225747745586, 'model': <lightgbm.basic.Booster object at 0x7f71b14d92d0>}, 'RandomForest': {'rmsse': 0.7485383137419822, 'model': RandomForestRegressor(random_state=42)}, 'DartsTFT': {'rmsse': 11.474095498361896, 'model': TFTModel(output_chunk_shift=0, hidden_size=16, lstm_layers=2, num_attention_heads=4, full_attention=False, feed_forward=GatedResidualNetwork, dropout=0.2, hidden_continuous_size=8, categorical_embedding_sizes=None, add_relative_index=False, loss_fn=None, likelihood=None, norm_type=LayerNorm, use_static_covariates=True, input_chunk_length=56, output_chunk_length=28, pl_trainer_kwargs={'callbacks': [<pytorch_lightning.callbacks.early_stopping.EarlyStopping object at 0x7f71b00c62f0>], 'accelerator': 'cpu', 'logger': <pytorch_lightning.loggers.csv_logs.CSVLogger object at 0x7f714200c8b0>}, batch_size=16, torch_metrics=MeanAbsoluteError(), n_epochs=50)}}\n",
      "Model results for FOODS_3_252_CA_3_validation\n",
      "Best model: Prophet\n",
      "Best score: 0.6467864231911445\n",
      "Analyzing product: FOODS_3_541_CA_3_validation\n"
     ]
    },
    {
     "name": "stderr",
     "output_type": "stream",
     "text": [
      "[I 2024-05-15 20:04:19,240] A new study created in memory with name: no-name-494adb46-089d-424c-9514-1e9f3cf5998a\n"
     ]
    },
    {
     "name": "stdout",
     "output_type": "stream",
     "text": [
      "Optimizing hyperparameters for product: FOODS_3_541_CA_3_validation\n"
     ]
    },
    {
     "name": "stderr",
     "output_type": "stream",
     "text": [
      "[I 2024-05-15 20:04:19,473] Trial 2 finished with value: 0.8840913714198831 and parameters: {'trend': 'add', 'seasonal': None, 'seasonal_periods': None}. Best is trial 2 with value: 0.8840913714198831.\n",
      "[I 2024-05-15 20:04:19,683] Trial 1 finished with value: 0.8840913714198831 and parameters: {'trend': 'add', 'seasonal': None, 'seasonal_periods': None}. Best is trial 2 with value: 0.8840913714198831.\n",
      "[I 2024-05-15 20:04:19,821] Trial 5 finished with value: 0.8840913714198831 and parameters: {'trend': 'add', 'seasonal': None, 'seasonal_periods': 7}. Best is trial 2 with value: 0.8840913714198831.\n",
      "[I 2024-05-15 20:04:19,822] Trial 0 finished with value: 0.8840913714198831 and parameters: {'trend': 'add', 'seasonal': None, 'seasonal_periods': 7}. Best is trial 2 with value: 0.8840913714198831.\n",
      "[I 2024-05-15 20:04:19,885] Trial 3 finished with value: 0.8840913714198831 and parameters: {'trend': 'add', 'seasonal': None, 'seasonal_periods': 4}. Best is trial 2 with value: 0.8840913714198831.\n",
      "[I 2024-05-15 20:04:20,106] Trial 8 finished with value: 0.8840913714198831 and parameters: {'trend': 'add', 'seasonal': None, 'seasonal_periods': 12}. Best is trial 2 with value: 0.8840913714198831.\n",
      "[I 2024-05-15 20:04:20,156] Trial 6 finished with value: 0.8840913714198831 and parameters: {'trend': 'add', 'seasonal': None, 'seasonal_periods': 12}. Best is trial 2 with value: 0.8840913714198831.\n",
      "[I 2024-05-15 20:04:20,431] Trial 4 finished with value: 0.9491558703166397 and parameters: {'trend': 'add', 'seasonal': 'add', 'seasonal_periods': 12}. Best is trial 2 with value: 0.8840913714198831.\n",
      "[I 2024-05-15 20:04:20,594] Trial 7 finished with value: 0.9228145034200759 and parameters: {'trend': 'add', 'seasonal': 'add', 'seasonal_periods': 4}. Best is trial 2 with value: 0.8840913714198831.\n",
      "[I 2024-05-15 20:04:20,596] Trial 9 finished with value: 0.8025316613996065 and parameters: {'trend': 'add', 'seasonal': 'add', 'seasonal_periods': None}. Best is trial 9 with value: 0.8025316613996065.\n",
      "/opt/conda/lib/python3.10/site-packages/statsmodels/tsa/base/tsa_model.py:473: ValueWarning: No frequency information was provided, so inferred frequency D will be used.\n",
      "  self._init_dates(dates, freq)\n",
      "[I 2024-05-15 20:04:20,851] A new study created in memory with name: no-name-1d001b42-1e2e-43b2-90bb-6afe12844008\n"
     ]
    },
    {
     "name": "stdout",
     "output_type": "stream",
     "text": [
      "Optimizing hyperparameters for product: FOODS_3_541_CA_3_validation\n"
     ]
    },
    {
     "name": "stderr",
     "output_type": "stream",
     "text": [
      "[I 2024-05-15 20:04:21,208] Trial 0 finished with value: 0.4249848098325042 and parameters: {'trend': 'add', 'seasonal': None, 'seasonal_periods': 7}. Best is trial 0 with value: 0.4249848098325042.\n",
      "[I 2024-05-15 20:04:21,453] Trial 3 finished with value: 0.4249848098325042 and parameters: {'trend': 'add', 'seasonal': None, 'seasonal_periods': 7}. Best is trial 0 with value: 0.4249848098325042.\n",
      "[I 2024-05-15 20:04:21,454] Trial 2 finished with value: 0.4249848098325042 and parameters: {'trend': 'add', 'seasonal': None, 'seasonal_periods': 7}. Best is trial 0 with value: 0.4249848098325042.\n",
      "[I 2024-05-15 20:04:21,522] Trial 4 finished with value: 0.4249848098325042 and parameters: {'trend': 'add', 'seasonal': None, 'seasonal_periods': 7}. Best is trial 0 with value: 0.4249848098325042.\n",
      "[I 2024-05-15 20:04:21,808] Trial 8 finished with value: 0.4249848098325042 and parameters: {'trend': 'add', 'seasonal': None, 'seasonal_periods': 7}. Best is trial 0 with value: 0.4249848098325042.\n",
      "[I 2024-05-15 20:04:22,299] Trial 1 finished with value: 0.39536364910573923 and parameters: {'trend': 'add', 'seasonal': 'add', 'seasonal_periods': 7}. Best is trial 1 with value: 0.39536364910573923.\n",
      "[I 2024-05-15 20:04:22,453] Trial 5 finished with value: 0.45116166453652573 and parameters: {'trend': 'add', 'seasonal': 'add', 'seasonal_periods': 4}. Best is trial 1 with value: 0.39536364910573923.\n",
      "[I 2024-05-15 20:04:22,522] Trial 6 finished with value: 0.39536364910573923 and parameters: {'trend': 'add', 'seasonal': 'add', 'seasonal_periods': None}. Best is trial 1 with value: 0.39536364910573923.\n",
      "[I 2024-05-15 20:04:22,558] Trial 7 finished with value: 0.45116166453652573 and parameters: {'trend': 'add', 'seasonal': 'add', 'seasonal_periods': 4}. Best is trial 1 with value: 0.39536364910573923.\n",
      "[I 2024-05-15 20:04:22,591] Trial 9 finished with value: 0.39536364910573923 and parameters: {'trend': 'add', 'seasonal': 'add', 'seasonal_periods': None}. Best is trial 1 with value: 0.39536364910573923.\n",
      "/opt/conda/lib/python3.10/site-packages/statsmodels/tsa/base/tsa_model.py:473: ValueWarning: No frequency information was provided, so inferred frequency D will be used.\n",
      "  self._init_dates(dates, freq)\n",
      "[I 2024-05-15 20:04:22,842] A new study created in memory with name: no-name-7b34c2ad-f478-4638-b685-910fd7d406e1\n"
     ]
    },
    {
     "name": "stdout",
     "output_type": "stream",
     "text": [
      "Optimizing hyperparameters for product: FOODS_3_541_CA_3_validation\n"
     ]
    },
    {
     "name": "stderr",
     "output_type": "stream",
     "text": [
      "[I 2024-05-15 20:04:23,187] Trial 1 finished with value: 0.5281574133734217 and parameters: {'trend': 'add', 'seasonal': None, 'seasonal_periods': 12}. Best is trial 1 with value: 0.5281574133734217.\n",
      "[I 2024-05-15 20:04:23,390] Trial 0 finished with value: 0.5281574133734217 and parameters: {'trend': 'add', 'seasonal': None, 'seasonal_periods': None}. Best is trial 1 with value: 0.5281574133734217.\n",
      "[I 2024-05-15 20:04:23,414] Trial 5 finished with value: 0.5281574133734217 and parameters: {'trend': 'add', 'seasonal': None, 'seasonal_periods': 12}. Best is trial 1 with value: 0.5281574133734217.\n",
      "[I 2024-05-15 20:04:23,432] Trial 4 finished with value: 0.5281574133734217 and parameters: {'trend': 'add', 'seasonal': None, 'seasonal_periods': None}. Best is trial 1 with value: 0.5281574133734217.\n",
      "[I 2024-05-15 20:04:23,444] Trial 3 finished with value: 0.5281574133734217 and parameters: {'trend': 'add', 'seasonal': None, 'seasonal_periods': 4}. Best is trial 1 with value: 0.5281574133734217.\n",
      "[I 2024-05-15 20:04:23,594] Trial 9 finished with value: 0.5281574133734217 and parameters: {'trend': 'add', 'seasonal': None, 'seasonal_periods': 4}. Best is trial 1 with value: 0.5281574133734217.\n",
      "[I 2024-05-15 20:04:23,622] Trial 6 finished with value: 0.5281574133734217 and parameters: {'trend': 'add', 'seasonal': None, 'seasonal_periods': 12}. Best is trial 1 with value: 0.5281574133734217.\n",
      "[I 2024-05-15 20:04:24,108] Trial 8 finished with value: 0.5413830159805941 and parameters: {'trend': 'add', 'seasonal': 'add', 'seasonal_periods': 12}. Best is trial 1 with value: 0.5281574133734217.\n",
      "[I 2024-05-15 20:04:24,149] Trial 2 finished with value: 0.523421734657212 and parameters: {'trend': 'add', 'seasonal': 'add', 'seasonal_periods': 7}. Best is trial 2 with value: 0.523421734657212.\n",
      "[I 2024-05-15 20:04:24,168] Trial 7 finished with value: 0.5413830159805941 and parameters: {'trend': 'add', 'seasonal': 'add', 'seasonal_periods': 12}. Best is trial 2 with value: 0.523421734657212.\n",
      "/opt/conda/lib/python3.10/site-packages/statsmodels/tsa/base/tsa_model.py:473: ValueWarning: No frequency information was provided, so inferred frequency D will be used.\n",
      "  self._init_dates(dates, freq)\n",
      "[I 2024-05-15 20:04:24,421] A new study created in memory with name: no-name-b9f7c989-1ec8-4886-b729-553bdf517664\n"
     ]
    },
    {
     "name": "stdout",
     "output_type": "stream",
     "text": [
      "Optimizing hyperparameters for product: FOODS_3_541_CA_3_validation\n"
     ]
    },
    {
     "name": "stderr",
     "output_type": "stream",
     "text": [
      "[I 2024-05-15 20:04:24,914] Trial 0 finished with value: 0.7575363419878248 and parameters: {'trend': 'add', 'seasonal': None, 'seasonal_periods': None}. Best is trial 0 with value: 0.7575363419878248.\n",
      "[I 2024-05-15 20:04:25,571] Trial 5 finished with value: 0.7575363419878248 and parameters: {'trend': 'add', 'seasonal': None, 'seasonal_periods': 4}. Best is trial 0 with value: 0.7575363419878248.\n",
      "[I 2024-05-15 20:04:26,102] Trial 2 finished with value: 0.7835789552013306 and parameters: {'trend': 'add', 'seasonal': 'add', 'seasonal_periods': 7}. Best is trial 0 with value: 0.7575363419878248.\n",
      "[I 2024-05-15 20:04:26,573] Trial 1 finished with value: 0.7835789552013306 and parameters: {'trend': 'add', 'seasonal': 'add', 'seasonal_periods': 7}. Best is trial 0 with value: 0.7575363419878248.\n",
      "[I 2024-05-15 20:04:26,603] Trial 3 finished with value: 0.7835789552013306 and parameters: {'trend': 'add', 'seasonal': 'add', 'seasonal_periods': 7}. Best is trial 0 with value: 0.7575363419878248.\n",
      "[I 2024-05-15 20:04:26,697] Trial 4 finished with value: 0.7345105726846008 and parameters: {'trend': 'add', 'seasonal': 'add', 'seasonal_periods': 12}. Best is trial 4 with value: 0.7345105726846008.\n",
      "[I 2024-05-15 20:04:26,721] Trial 8 finished with value: 0.768857328445457 and parameters: {'trend': 'add', 'seasonal': 'add', 'seasonal_periods': 4}. Best is trial 4 with value: 0.7345105726846008.\n",
      "[I 2024-05-15 20:04:26,738] Trial 7 finished with value: 0.7835789552013306 and parameters: {'trend': 'add', 'seasonal': 'add', 'seasonal_periods': None}. Best is trial 4 with value: 0.7345105726846008.\n",
      "[I 2024-05-15 20:04:26,785] Trial 9 finished with value: 0.7835789552013306 and parameters: {'trend': 'add', 'seasonal': 'add', 'seasonal_periods': None}. Best is trial 4 with value: 0.7345105726846008.\n",
      "[I 2024-05-15 20:04:26,797] Trial 6 finished with value: 0.768857328445457 and parameters: {'trend': 'add', 'seasonal': 'add', 'seasonal_periods': 4}. Best is trial 4 with value: 0.7345105726846008.\n",
      "/opt/conda/lib/python3.10/site-packages/statsmodels/tsa/base/tsa_model.py:473: ValueWarning: No frequency information was provided, so inferred frequency D will be used.\n",
      "  self._init_dates(dates, freq)\n",
      "[I 2024-05-15 20:04:27,038] A new study created in memory with name: no-name-c7aa050d-d3a2-4d35-aa4a-1775fd81e425\n"
     ]
    },
    {
     "name": "stdout",
     "output_type": "stream",
     "text": [
      "Optimizing hyperparameters for product: FOODS_3_541_CA_3_validation\n"
     ]
    },
    {
     "name": "stderr",
     "output_type": "stream",
     "text": [
      "[I 2024-05-15 20:04:27,252] Trial 0 finished with value: 0.3090793020975202 and parameters: {'trend': 'add', 'seasonal': None, 'seasonal_periods': 12}. Best is trial 0 with value: 0.3090793020975202.\n",
      "[I 2024-05-15 20:04:27,285] Trial 1 finished with value: 0.3090793020975202 and parameters: {'trend': 'add', 'seasonal': None, 'seasonal_periods': 12}. Best is trial 0 with value: 0.3090793020975202.\n",
      "[I 2024-05-15 20:04:27,930] Trial 5 finished with value: 0.3090793020975202 and parameters: {'trend': 'add', 'seasonal': None, 'seasonal_periods': 4}. Best is trial 0 with value: 0.3090793020975202.\n",
      "[I 2024-05-15 20:04:28,216] Trial 7 finished with value: 0.3090793020975202 and parameters: {'trend': 'add', 'seasonal': None, 'seasonal_periods': 7}. Best is trial 0 with value: 0.3090793020975202.\n",
      "[I 2024-05-15 20:04:28,630] Trial 3 finished with value: 0.31226032081507715 and parameters: {'trend': 'add', 'seasonal': 'add', 'seasonal_periods': 4}. Best is trial 0 with value: 0.3090793020975202.\n",
      "[I 2024-05-15 20:04:28,805] Trial 2 finished with value: 0.4898408531369298 and parameters: {'trend': 'add', 'seasonal': 'add', 'seasonal_periods': 7}. Best is trial 0 with value: 0.3090793020975202.\n",
      "[I 2024-05-15 20:04:28,816] Trial 4 finished with value: 0.31226032081507715 and parameters: {'trend': 'add', 'seasonal': 'add', 'seasonal_periods': 4}. Best is trial 0 with value: 0.3090793020975202.\n",
      "[I 2024-05-15 20:04:28,932] Trial 6 finished with value: 0.31226032081507715 and parameters: {'trend': 'add', 'seasonal': 'add', 'seasonal_periods': 4}. Best is trial 0 with value: 0.3090793020975202.\n",
      "[I 2024-05-15 20:04:28,954] Trial 9 finished with value: 0.33297184564125226 and parameters: {'trend': 'add', 'seasonal': 'add', 'seasonal_periods': 12}. Best is trial 0 with value: 0.3090793020975202.\n",
      "[I 2024-05-15 20:04:28,991] Trial 8 finished with value: 0.33297184564125226 and parameters: {'trend': 'add', 'seasonal': 'add', 'seasonal_periods': 12}. Best is trial 0 with value: 0.3090793020975202.\n",
      "/opt/conda/lib/python3.10/site-packages/statsmodels/tsa/base/tsa_model.py:473: ValueWarning: No frequency information was provided, so inferred frequency D will be used.\n",
      "  self._init_dates(dates, freq)\n",
      "/var/tmp/ipykernel_1903582/1261245201.py:12: SettingWithCopyWarning: \n",
      "A value is trying to be set on a copy of a slice from a DataFrame.\n",
      "Try using .loc[row_indexer,col_indexer] = value instead\n",
      "\n",
      "See the caveats in the documentation: https://pandas.pydata.org/pandas-docs/stable/user_guide/indexing.html#returning-a-view-versus-a-copy\n",
      "  prophet_data_train['ds'] = pd.to_datetime(prophet_data_train['ds'])\n",
      "/var/tmp/ipykernel_1903582/1261245201.py:13: SettingWithCopyWarning: \n",
      "A value is trying to be set on a copy of a slice from a DataFrame.\n",
      "Try using .loc[row_indexer,col_indexer] = value instead\n",
      "\n",
      "See the caveats in the documentation: https://pandas.pydata.org/pandas-docs/stable/user_guide/indexing.html#returning-a-view-versus-a-copy\n",
      "  prophet_data_test['ds'] = pd.to_datetime(prophet_data_test['ds'])\n",
      "20:04:29 - cmdstanpy - INFO - Chain [1] start processing\n",
      "20:04:29 - cmdstanpy - INFO - Chain [1] done processing\n",
      "/var/tmp/ipykernel_1903582/1261245201.py:12: SettingWithCopyWarning: \n",
      "A value is trying to be set on a copy of a slice from a DataFrame.\n",
      "Try using .loc[row_indexer,col_indexer] = value instead\n",
      "\n",
      "See the caveats in the documentation: https://pandas.pydata.org/pandas-docs/stable/user_guide/indexing.html#returning-a-view-versus-a-copy\n",
      "  prophet_data_train['ds'] = pd.to_datetime(prophet_data_train['ds'])\n",
      "/var/tmp/ipykernel_1903582/1261245201.py:13: SettingWithCopyWarning: \n",
      "A value is trying to be set on a copy of a slice from a DataFrame.\n",
      "Try using .loc[row_indexer,col_indexer] = value instead\n",
      "\n",
      "See the caveats in the documentation: https://pandas.pydata.org/pandas-docs/stable/user_guide/indexing.html#returning-a-view-versus-a-copy\n",
      "  prophet_data_test['ds'] = pd.to_datetime(prophet_data_test['ds'])\n",
      "20:04:29 - cmdstanpy - INFO - Chain [1] start processing\n",
      "20:04:29 - cmdstanpy - INFO - Chain [1] done processing\n",
      "/var/tmp/ipykernel_1903582/1261245201.py:12: SettingWithCopyWarning: \n",
      "A value is trying to be set on a copy of a slice from a DataFrame.\n",
      "Try using .loc[row_indexer,col_indexer] = value instead\n",
      "\n",
      "See the caveats in the documentation: https://pandas.pydata.org/pandas-docs/stable/user_guide/indexing.html#returning-a-view-versus-a-copy\n",
      "  prophet_data_train['ds'] = pd.to_datetime(prophet_data_train['ds'])\n",
      "/var/tmp/ipykernel_1903582/1261245201.py:13: SettingWithCopyWarning: \n",
      "A value is trying to be set on a copy of a slice from a DataFrame.\n",
      "Try using .loc[row_indexer,col_indexer] = value instead\n",
      "\n",
      "See the caveats in the documentation: https://pandas.pydata.org/pandas-docs/stable/user_guide/indexing.html#returning-a-view-versus-a-copy\n",
      "  prophet_data_test['ds'] = pd.to_datetime(prophet_data_test['ds'])\n",
      "20:04:29 - cmdstanpy - INFO - Chain [1] start processing\n",
      "20:04:29 - cmdstanpy - INFO - Chain [1] done processing\n",
      "/var/tmp/ipykernel_1903582/1261245201.py:12: SettingWithCopyWarning: \n",
      "A value is trying to be set on a copy of a slice from a DataFrame.\n",
      "Try using .loc[row_indexer,col_indexer] = value instead\n",
      "\n",
      "See the caveats in the documentation: https://pandas.pydata.org/pandas-docs/stable/user_guide/indexing.html#returning-a-view-versus-a-copy\n",
      "  prophet_data_train['ds'] = pd.to_datetime(prophet_data_train['ds'])\n",
      "/var/tmp/ipykernel_1903582/1261245201.py:13: SettingWithCopyWarning: \n",
      "A value is trying to be set on a copy of a slice from a DataFrame.\n",
      "Try using .loc[row_indexer,col_indexer] = value instead\n",
      "\n",
      "See the caveats in the documentation: https://pandas.pydata.org/pandas-docs/stable/user_guide/indexing.html#returning-a-view-versus-a-copy\n",
      "  prophet_data_test['ds'] = pd.to_datetime(prophet_data_test['ds'])\n",
      "20:04:29 - cmdstanpy - INFO - Chain [1] start processing\n",
      "20:04:30 - cmdstanpy - INFO - Chain [1] done processing\n",
      "/var/tmp/ipykernel_1903582/1261245201.py:12: SettingWithCopyWarning: \n",
      "A value is trying to be set on a copy of a slice from a DataFrame.\n",
      "Try using .loc[row_indexer,col_indexer] = value instead\n",
      "\n",
      "See the caveats in the documentation: https://pandas.pydata.org/pandas-docs/stable/user_guide/indexing.html#returning-a-view-versus-a-copy\n",
      "  prophet_data_train['ds'] = pd.to_datetime(prophet_data_train['ds'])\n",
      "/var/tmp/ipykernel_1903582/1261245201.py:13: SettingWithCopyWarning: \n",
      "A value is trying to be set on a copy of a slice from a DataFrame.\n",
      "Try using .loc[row_indexer,col_indexer] = value instead\n",
      "\n",
      "See the caveats in the documentation: https://pandas.pydata.org/pandas-docs/stable/user_guide/indexing.html#returning-a-view-versus-a-copy\n",
      "  prophet_data_test['ds'] = pd.to_datetime(prophet_data_test['ds'])\n",
      "20:04:30 - cmdstanpy - INFO - Chain [1] start processing\n",
      "20:04:30 - cmdstanpy - INFO - Chain [1] done processing\n",
      "/opt/conda/lib/python3.10/site-packages/lightgbm/engine.py:172: UserWarning: Found `n_estimators` in params. Will use it instead of argument\n",
      "  _log_warning(f\"Found `{alias}` in params. Will use it instead of argument\")\n"
     ]
    },
    {
     "name": "stdout",
     "output_type": "stream",
     "text": [
      "Training until validation scores don't improve for 50 rounds\n",
      "Early stopping, best iteration is:\n",
      "[538]\tvalid_0's rmse: 9.70515\n",
      "Training until validation scores don't improve for 50 rounds\n"
     ]
    },
    {
     "name": "stderr",
     "output_type": "stream",
     "text": [
      "/opt/conda/lib/python3.10/site-packages/lightgbm/engine.py:172: UserWarning: Found `n_estimators` in params. Will use it instead of argument\n",
      "  _log_warning(f\"Found `{alias}` in params. Will use it instead of argument\")\n"
     ]
    },
    {
     "name": "stdout",
     "output_type": "stream",
     "text": [
      "Did not meet early stopping. Best iteration is:\n",
      "[1000]\tvalid_0's rmse: 10.7594\n",
      "Training until validation scores don't improve for 50 rounds\n"
     ]
    },
    {
     "name": "stderr",
     "output_type": "stream",
     "text": [
      "/opt/conda/lib/python3.10/site-packages/lightgbm/engine.py:172: UserWarning: Found `n_estimators` in params. Will use it instead of argument\n",
      "  _log_warning(f\"Found `{alias}` in params. Will use it instead of argument\")\n"
     ]
    },
    {
     "name": "stdout",
     "output_type": "stream",
     "text": [
      "Did not meet early stopping. Best iteration is:\n",
      "[1000]\tvalid_0's rmse: 10.5843\n",
      "Training until validation scores don't improve for 50 rounds\n"
     ]
    },
    {
     "name": "stderr",
     "output_type": "stream",
     "text": [
      "/opt/conda/lib/python3.10/site-packages/lightgbm/engine.py:172: UserWarning: Found `n_estimators` in params. Will use it instead of argument\n",
      "  _log_warning(f\"Found `{alias}` in params. Will use it instead of argument\")\n"
     ]
    },
    {
     "name": "stdout",
     "output_type": "stream",
     "text": [
      "Early stopping, best iteration is:\n",
      "[444]\tvalid_0's rmse: 9.01778\n",
      "Training until validation scores don't improve for 50 rounds\n"
     ]
    },
    {
     "name": "stderr",
     "output_type": "stream",
     "text": [
      "/opt/conda/lib/python3.10/site-packages/lightgbm/engine.py:172: UserWarning: Found `n_estimators` in params. Will use it instead of argument\n",
      "  _log_warning(f\"Found `{alias}` in params. Will use it instead of argument\")\n"
     ]
    },
    {
     "name": "stdout",
     "output_type": "stream",
     "text": [
      "Early stopping, best iteration is:\n",
      "[405]\tvalid_0's rmse: 6.56947\n"
     ]
    },
    {
     "name": "stderr",
     "output_type": "stream",
     "text": [
      "GPU available: False, used: False\n",
      "TPU available: False, using: 0 TPU cores\n",
      "IPU available: False, using: 0 IPUs\n",
      "HPU available: False, using: 0 HPUs\n",
      "Missing logger folder: logs/tft_logs\n",
      "\n",
      "   | Name                              | Type                             | Params\n",
      "----------------------------------------------------------------------------------------\n",
      "0  | train_metrics                     | MetricCollection                 | 0     \n",
      "1  | val_metrics                       | MetricCollection                 | 0     \n",
      "2  | input_embeddings                  | _MultiEmbedding                  | 0     \n",
      "3  | static_covariates_vsn             | _VariableSelectionNetwork        | 0     \n",
      "4  | encoder_vsn                       | _VariableSelectionNetwork        | 93.0 K\n",
      "5  | decoder_vsn                       | _VariableSelectionNetwork        | 46.4 K\n",
      "6  | static_context_grn                | _GatedResidualNetwork            | 1.1 K \n",
      "7  | static_context_hidden_encoder_grn | _GatedResidualNetwork            | 1.1 K \n",
      "8  | static_context_cell_encoder_grn   | _GatedResidualNetwork            | 1.1 K \n",
      "9  | static_context_enrichment         | _GatedResidualNetwork            | 1.1 K \n",
      "10 | lstm_encoder                      | LSTM                             | 4.4 K \n",
      "11 | lstm_decoder                      | LSTM                             | 4.4 K \n",
      "12 | post_lstm_gan                     | _GateAddNorm                     | 576   \n",
      "13 | static_enrichment_grn             | _GatedResidualNetwork            | 1.4 K \n",
      "14 | multihead_attn                    | _InterpretableMultiHeadAttention | 676   \n",
      "15 | post_attn_gan                     | _GateAddNorm                     | 576   \n",
      "16 | feed_forward_block                | _GatedResidualNetwork            | 1.1 K \n",
      "17 | pre_output_gan                    | _GateAddNorm                     | 576   \n",
      "18 | output_layer                      | Linear                           | 289   \n",
      "----------------------------------------------------------------------------------------\n",
      "156 K     Trainable params\n",
      "0         Non-trainable params\n",
      "156 K     Total params\n",
      "0.627     Total estimated model params size (MB)\n"
     ]
    },
    {
     "data": {
      "application/vnd.jupyter.widget-view+json": {
       "model_id": "bc2b4aa25afb4b79a8f35116055822ac",
       "version_major": 2,
       "version_minor": 0
      },
      "text/plain": [
       "Sanity Checking: |          | 0/? [00:00<?, ?it/s]"
      ]
     },
     "metadata": {},
     "output_type": "display_data"
    },
    {
     "data": {
      "application/vnd.jupyter.widget-view+json": {
       "model_id": "646bf39b425f492eb9e9869934d10de9",
       "version_major": 2,
       "version_minor": 0
      },
      "text/plain": [
       "Training: |          | 0/? [00:00<?, ?it/s]"
      ]
     },
     "metadata": {},
     "output_type": "display_data"
    },
    {
     "data": {
      "application/vnd.jupyter.widget-view+json": {
       "model_id": "ca42a938b6a942fc9c66ae7ef40a4fc3",
       "version_major": 2,
       "version_minor": 0
      },
      "text/plain": [
       "Validation: |          | 0/? [00:00<?, ?it/s]"
      ]
     },
     "metadata": {},
     "output_type": "display_data"
    },
    {
     "data": {
      "application/vnd.jupyter.widget-view+json": {
       "model_id": "c13886d793904afb82725d8ba216dc0e",
       "version_major": 2,
       "version_minor": 0
      },
      "text/plain": [
       "Validation: |          | 0/? [00:00<?, ?it/s]"
      ]
     },
     "metadata": {},
     "output_type": "display_data"
    },
    {
     "data": {
      "application/vnd.jupyter.widget-view+json": {
       "model_id": "feda7eab65f7472f9b1d237f090af111",
       "version_major": 2,
       "version_minor": 0
      },
      "text/plain": [
       "Validation: |          | 0/? [00:00<?, ?it/s]"
      ]
     },
     "metadata": {},
     "output_type": "display_data"
    },
    {
     "data": {
      "application/vnd.jupyter.widget-view+json": {
       "model_id": "84f10a7a30f7483a9ef7489428b7c3c6",
       "version_major": 2,
       "version_minor": 0
      },
      "text/plain": [
       "Validation: |          | 0/? [00:00<?, ?it/s]"
      ]
     },
     "metadata": {},
     "output_type": "display_data"
    },
    {
     "data": {
      "application/vnd.jupyter.widget-view+json": {
       "model_id": "d28e39578cea412b9a78c0287f049fcd",
       "version_major": 2,
       "version_minor": 0
      },
      "text/plain": [
       "Validation: |          | 0/? [00:00<?, ?it/s]"
      ]
     },
     "metadata": {},
     "output_type": "display_data"
    },
    {
     "data": {
      "application/vnd.jupyter.widget-view+json": {
       "model_id": "ab5ffbe00bb64f5ba43dcb8696e169c3",
       "version_major": 2,
       "version_minor": 0
      },
      "text/plain": [
       "Validation: |          | 0/? [00:00<?, ?it/s]"
      ]
     },
     "metadata": {},
     "output_type": "display_data"
    },
    {
     "data": {
      "application/vnd.jupyter.widget-view+json": {
       "model_id": "9f3fbe86356a47589d8df310819e2830",
       "version_major": 2,
       "version_minor": 0
      },
      "text/plain": [
       "Validation: |          | 0/? [00:00<?, ?it/s]"
      ]
     },
     "metadata": {},
     "output_type": "display_data"
    },
    {
     "data": {
      "application/vnd.jupyter.widget-view+json": {
       "model_id": "44d81ec57332410b9febf361468c3034",
       "version_major": 2,
       "version_minor": 0
      },
      "text/plain": [
       "Validation: |          | 0/? [00:00<?, ?it/s]"
      ]
     },
     "metadata": {},
     "output_type": "display_data"
    },
    {
     "data": {
      "application/vnd.jupyter.widget-view+json": {
       "model_id": "f29f5080e08d4c83826d0bfa61deea1d",
       "version_major": 2,
       "version_minor": 0
      },
      "text/plain": [
       "Validation: |          | 0/? [00:00<?, ?it/s]"
      ]
     },
     "metadata": {},
     "output_type": "display_data"
    },
    {
     "name": "stdout",
     "output_type": "stream",
     "text": [
      "{'ARIMA': {'rmsse': 0.5881578134077439, 'model': ARIMA(order=(1, 1, 1), scoring_args={}, suppress_warnings=True,\n",
      "      with_intercept=False)}, 'ExponentialSmoothing': {'rmsse': 0.5529813839889357, 'model': <statsmodels.tsa.holtwinters.results.HoltWintersResultsWrapper object at 0x7f7203d107f0>}, 'Prophet': {'rmsse': 0.7610895423510409, 'model': <prophet.forecaster.Prophet object at 0x7f72040764a0>}, 'LightGBM': {'rmsse': 0.7677841219084487, 'model': <lightgbm.basic.Booster object at 0x7f720430bd60>}, 'RandomForest': {'rmsse': 0.5169945988663038, 'model': RandomForestRegressor(random_state=42)}, 'DartsTFT': {'rmsse': 10.892825711158014, 'model': TFTModel(output_chunk_shift=0, hidden_size=16, lstm_layers=2, num_attention_heads=4, full_attention=False, feed_forward=GatedResidualNetwork, dropout=0.2, hidden_continuous_size=8, categorical_embedding_sizes=None, add_relative_index=False, loss_fn=None, likelihood=None, norm_type=LayerNorm, use_static_covariates=True, input_chunk_length=56, output_chunk_length=28, pl_trainer_kwargs={'callbacks': [<pytorch_lightning.callbacks.early_stopping.EarlyStopping object at 0x7f7203cba1d0>], 'accelerator': 'cpu', 'logger': <pytorch_lightning.loggers.csv_logs.CSVLogger object at 0x7f7203cb9300>}, batch_size=16, torch_metrics=MeanAbsoluteError(), n_epochs=50)}}\n",
      "Model results for FOODS_3_541_CA_3_validation\n",
      "Best model: RandomForest\n",
      "Best score: 0.5169945988663038\n",
      "Analyzing product: FOODS_3_635_CA_3_validation\n"
     ]
    },
    {
     "name": "stderr",
     "output_type": "stream",
     "text": [
      "[I 2024-05-15 20:14:27,469] A new study created in memory with name: no-name-a94017a7-1359-4c5e-8c8c-3e5ca1456c18\n"
     ]
    },
    {
     "name": "stdout",
     "output_type": "stream",
     "text": [
      "Optimizing hyperparameters for product: FOODS_3_635_CA_3_validation\n"
     ]
    },
    {
     "name": "stderr",
     "output_type": "stream",
     "text": [
      "[I 2024-05-15 20:14:27,891] Trial 0 finished with value: 1.1929561154303967 and parameters: {'trend': 'add', 'seasonal': None, 'seasonal_periods': 7}. Best is trial 0 with value: 1.1929561154303967.\n",
      "[I 2024-05-15 20:14:27,947] Trial 3 finished with value: 1.1929561154303967 and parameters: {'trend': 'add', 'seasonal': None, 'seasonal_periods': 7}. Best is trial 0 with value: 1.1929561154303967.\n",
      "[I 2024-05-15 20:14:28,057] Trial 1 finished with value: 1.1929561154303967 and parameters: {'trend': 'add', 'seasonal': None, 'seasonal_periods': 7}. Best is trial 0 with value: 1.1929561154303967.\n",
      "[I 2024-05-15 20:14:28,085] Trial 8 finished with value: 1.1929561154303967 and parameters: {'trend': 'add', 'seasonal': None, 'seasonal_periods': None}. Best is trial 0 with value: 1.1929561154303967.\n",
      "[I 2024-05-15 20:14:28,098] Trial 7 finished with value: 1.1929561154303967 and parameters: {'trend': 'add', 'seasonal': None, 'seasonal_periods': None}. Best is trial 0 with value: 1.1929561154303967.\n",
      "[I 2024-05-15 20:14:28,108] Trial 5 finished with value: 1.1929561154303967 and parameters: {'trend': 'add', 'seasonal': None, 'seasonal_periods': 12}. Best is trial 0 with value: 1.1929561154303967.\n",
      "[I 2024-05-15 20:14:28,241] Trial 9 finished with value: 1.1929561154303967 and parameters: {'trend': 'add', 'seasonal': None, 'seasonal_periods': 4}. Best is trial 0 with value: 1.1929561154303967.\n",
      "[I 2024-05-15 20:14:28,748] Trial 2 finished with value: 1.074173816418479 and parameters: {'trend': 'add', 'seasonal': 'add', 'seasonal_periods': None}. Best is trial 2 with value: 1.074173816418479.\n",
      "[I 2024-05-15 20:14:28,778] Trial 4 finished with value: 1.074173816418479 and parameters: {'trend': 'add', 'seasonal': 'add', 'seasonal_periods': None}. Best is trial 2 with value: 1.074173816418479.\n",
      "[I 2024-05-15 20:14:28,803] Trial 6 finished with value: 1.1174173876503413 and parameters: {'trend': 'add', 'seasonal': 'add', 'seasonal_periods': 4}. Best is trial 2 with value: 1.074173816418479.\n",
      "/opt/conda/lib/python3.10/site-packages/statsmodels/tsa/base/tsa_model.py:473: ValueWarning: No frequency information was provided, so inferred frequency D will be used.\n",
      "  self._init_dates(dates, freq)\n",
      "[I 2024-05-15 20:14:29,072] A new study created in memory with name: no-name-64701702-2636-4d15-9642-fb6995d151ef\n",
      "[I 2024-05-15 20:14:29,250] Trial 2 finished with value: 0.861957437498346 and parameters: {'trend': 'add', 'seasonal': None, 'seasonal_periods': 12}. Best is trial 2 with value: 0.861957437498346.\n"
     ]
    },
    {
     "name": "stdout",
     "output_type": "stream",
     "text": [
      "Optimizing hyperparameters for product: FOODS_3_635_CA_3_validation\n"
     ]
    },
    {
     "name": "stderr",
     "output_type": "stream",
     "text": [
      "[I 2024-05-15 20:14:29,319] Trial 1 finished with value: 0.861957437498346 and parameters: {'trend': 'add', 'seasonal': None, 'seasonal_periods': 7}. Best is trial 2 with value: 0.861957437498346.\n",
      "[I 2024-05-15 20:14:29,672] Trial 4 finished with value: 0.861957437498346 and parameters: {'trend': 'add', 'seasonal': None, 'seasonal_periods': 12}. Best is trial 2 with value: 0.861957437498346.\n",
      "[I 2024-05-15 20:14:29,899] Trial 7 finished with value: 0.861957437498346 and parameters: {'trend': 'add', 'seasonal': None, 'seasonal_periods': None}. Best is trial 2 with value: 0.861957437498346.\n",
      "[I 2024-05-15 20:14:29,982] Trial 8 finished with value: 0.861957437498346 and parameters: {'trend': 'add', 'seasonal': None, 'seasonal_periods': 4}. Best is trial 2 with value: 0.861957437498346.\n",
      "[I 2024-05-15 20:14:30,464] Trial 0 finished with value: 0.858044808435245 and parameters: {'trend': 'add', 'seasonal': 'add', 'seasonal_periods': 12}. Best is trial 0 with value: 0.858044808435245.\n",
      "[I 2024-05-15 20:14:30,780] Trial 5 finished with value: 0.9231209628602937 and parameters: {'trend': 'add', 'seasonal': 'add', 'seasonal_periods': 7}. Best is trial 0 with value: 0.858044808435245.\n",
      "[I 2024-05-15 20:14:30,800] Trial 9 finished with value: 0.9231209628602937 and parameters: {'trend': 'add', 'seasonal': 'add', 'seasonal_periods': None}. Best is trial 0 with value: 0.858044808435245.\n",
      "[I 2024-05-15 20:14:30,829] Trial 3 finished with value: 0.8108189550883154 and parameters: {'trend': 'add', 'seasonal': 'add', 'seasonal_periods': 4}. Best is trial 3 with value: 0.8108189550883154.\n",
      "[I 2024-05-15 20:14:30,849] Trial 6 finished with value: 0.9231209628602937 and parameters: {'trend': 'add', 'seasonal': 'add', 'seasonal_periods': 7}. Best is trial 3 with value: 0.8108189550883154.\n",
      "/opt/conda/lib/python3.10/site-packages/statsmodels/tsa/base/tsa_model.py:473: ValueWarning: No frequency information was provided, so inferred frequency D will be used.\n",
      "  self._init_dates(dates, freq)\n",
      "[I 2024-05-15 20:14:31,105] A new study created in memory with name: no-name-649ca973-814e-45c3-b24f-6bd9f673570a\n"
     ]
    },
    {
     "name": "stdout",
     "output_type": "stream",
     "text": [
      "Optimizing hyperparameters for product: FOODS_3_635_CA_3_validation\n"
     ]
    },
    {
     "name": "stderr",
     "output_type": "stream",
     "text": [
      "[I 2024-05-15 20:14:31,415] Trial 0 finished with value: 0.6193842273280348 and parameters: {'trend': 'add', 'seasonal': None, 'seasonal_periods': 4}. Best is trial 0 with value: 0.6193842273280348.\n",
      "[I 2024-05-15 20:14:31,590] Trial 3 finished with value: 0.6193842273280348 and parameters: {'trend': 'add', 'seasonal': None, 'seasonal_periods': None}. Best is trial 0 with value: 0.6193842273280348.\n",
      "[I 2024-05-15 20:14:31,618] Trial 5 finished with value: 0.6193842273280348 and parameters: {'trend': 'add', 'seasonal': None, 'seasonal_periods': 7}. Best is trial 0 with value: 0.6193842273280348.\n",
      "[I 2024-05-15 20:14:31,710] Trial 2 finished with value: 0.6193842273280348 and parameters: {'trend': 'add', 'seasonal': None, 'seasonal_periods': None}. Best is trial 0 with value: 0.6193842273280348.\n",
      "[I 2024-05-15 20:14:31,783] Trial 4 finished with value: 0.6193842273280348 and parameters: {'trend': 'add', 'seasonal': None, 'seasonal_periods': 7}. Best is trial 0 with value: 0.6193842273280348.\n",
      "[I 2024-05-15 20:14:31,943] Trial 7 finished with value: 0.6193842273280348 and parameters: {'trend': 'add', 'seasonal': None, 'seasonal_periods': 7}. Best is trial 0 with value: 0.6193842273280348.\n",
      "[I 2024-05-15 20:14:32,514] Trial 1 finished with value: 0.574676773891583 and parameters: {'trend': 'add', 'seasonal': 'add', 'seasonal_periods': 12}. Best is trial 1 with value: 0.574676773891583.\n",
      "[I 2024-05-15 20:14:32,555] Trial 6 finished with value: 0.550331337540749 and parameters: {'trend': 'add', 'seasonal': 'add', 'seasonal_periods': 4}. Best is trial 6 with value: 0.550331337540749.\n",
      "[I 2024-05-15 20:14:32,615] Trial 8 finished with value: 0.5225181725505775 and parameters: {'trend': 'add', 'seasonal': 'add', 'seasonal_periods': None}. Best is trial 8 with value: 0.5225181725505775.\n",
      "[I 2024-05-15 20:14:32,635] Trial 9 finished with value: 0.550331337540749 and parameters: {'trend': 'add', 'seasonal': 'add', 'seasonal_periods': 4}. Best is trial 8 with value: 0.5225181725505775.\n",
      "/opt/conda/lib/python3.10/site-packages/statsmodels/tsa/base/tsa_model.py:473: ValueWarning: No frequency information was provided, so inferred frequency D will be used.\n",
      "  self._init_dates(dates, freq)\n",
      "[I 2024-05-15 20:14:32,889] A new study created in memory with name: no-name-916b97e1-2ee9-4905-8194-f34dffbc57f1\n"
     ]
    },
    {
     "name": "stdout",
     "output_type": "stream",
     "text": [
      "Optimizing hyperparameters for product: FOODS_3_635_CA_3_validation\n"
     ]
    },
    {
     "name": "stderr",
     "output_type": "stream",
     "text": [
      "[I 2024-05-15 20:14:33,346] Trial 3 finished with value: 0.8168103667437073 and parameters: {'trend': 'add', 'seasonal': None, 'seasonal_periods': 4}. Best is trial 3 with value: 0.8168103667437073.\n",
      "[I 2024-05-15 20:14:33,483] Trial 2 finished with value: 0.8168103667437073 and parameters: {'trend': 'add', 'seasonal': None, 'seasonal_periods': None}. Best is trial 3 with value: 0.8168103667437073.\n",
      "[I 2024-05-15 20:14:33,741] Trial 6 finished with value: 0.8168103667437073 and parameters: {'trend': 'add', 'seasonal': None, 'seasonal_periods': None}. Best is trial 3 with value: 0.8168103667437073.\n",
      "[I 2024-05-15 20:14:33,963] Trial 8 finished with value: 0.8168103667437073 and parameters: {'trend': 'add', 'seasonal': None, 'seasonal_periods': 7}. Best is trial 3 with value: 0.8168103667437073.\n",
      "[I 2024-05-15 20:14:34,620] Trial 1 finished with value: 0.8460716686897922 and parameters: {'trend': 'add', 'seasonal': 'add', 'seasonal_periods': 7}. Best is trial 3 with value: 0.8168103667437073.\n",
      "[I 2024-05-15 20:14:34,657] Trial 0 finished with value: 0.8586744574514689 and parameters: {'trend': 'add', 'seasonal': 'add', 'seasonal_periods': 12}. Best is trial 3 with value: 0.8168103667437073.\n",
      "[I 2024-05-15 20:14:34,718] Trial 4 finished with value: 0.8459850037881711 and parameters: {'trend': 'add', 'seasonal': 'add', 'seasonal_periods': 4}. Best is trial 3 with value: 0.8168103667437073.\n",
      "[I 2024-05-15 20:14:34,771] Trial 5 finished with value: 0.8460716686897922 and parameters: {'trend': 'add', 'seasonal': 'add', 'seasonal_periods': 7}. Best is trial 3 with value: 0.8168103667437073.\n",
      "[I 2024-05-15 20:14:34,792] Trial 7 finished with value: 0.8460716686897922 and parameters: {'trend': 'add', 'seasonal': 'add', 'seasonal_periods': 7}. Best is trial 3 with value: 0.8168103667437073.\n",
      "[I 2024-05-15 20:14:34,825] Trial 9 finished with value: 0.8459850037881711 and parameters: {'trend': 'add', 'seasonal': 'add', 'seasonal_periods': 4}. Best is trial 3 with value: 0.8168103667437073.\n",
      "/opt/conda/lib/python3.10/site-packages/statsmodels/tsa/base/tsa_model.py:473: ValueWarning: No frequency information was provided, so inferred frequency D will be used.\n",
      "  self._init_dates(dates, freq)\n",
      "[I 2024-05-15 20:14:34,870] A new study created in memory with name: no-name-1b066204-10f5-4721-a94e-170374d622a4\n"
     ]
    },
    {
     "name": "stdout",
     "output_type": "stream",
     "text": [
      "Optimizing hyperparameters for product: FOODS_3_635_CA_3_validation\n"
     ]
    },
    {
     "name": "stderr",
     "output_type": "stream",
     "text": [
      "[I 2024-05-15 20:14:35,144] Trial 2 finished with value: 0.5067183666670397 and parameters: {'trend': 'add', 'seasonal': None, 'seasonal_periods': 4}. Best is trial 2 with value: 0.5067183666670397.\n",
      "[I 2024-05-15 20:14:35,210] Trial 3 finished with value: 0.5067183666670397 and parameters: {'trend': 'add', 'seasonal': None, 'seasonal_periods': 7}. Best is trial 2 with value: 0.5067183666670397.\n",
      "[I 2024-05-15 20:14:35,240] Trial 0 finished with value: 0.5067183666670397 and parameters: {'trend': 'add', 'seasonal': None, 'seasonal_periods': 4}. Best is trial 2 with value: 0.5067183666670397.\n",
      "[I 2024-05-15 20:14:35,241] Trial 1 finished with value: 0.5067183666670397 and parameters: {'trend': 'add', 'seasonal': None, 'seasonal_periods': 12}. Best is trial 2 with value: 0.5067183666670397.\n",
      "[I 2024-05-15 20:14:35,564] Trial 8 finished with value: 0.5067183666670397 and parameters: {'trend': 'add', 'seasonal': None, 'seasonal_periods': 7}. Best is trial 2 with value: 0.5067183666670397.\n",
      "[I 2024-05-15 20:14:35,565] Trial 4 finished with value: 0.5067183666670397 and parameters: {'trend': 'add', 'seasonal': None, 'seasonal_periods': None}. Best is trial 2 with value: 0.5067183666670397.\n",
      "[I 2024-05-15 20:14:35,671] Trial 7 finished with value: 0.5067183666670397 and parameters: {'trend': 'add', 'seasonal': None, 'seasonal_periods': 12}. Best is trial 2 with value: 0.5067183666670397.\n",
      "[I 2024-05-15 20:14:36,090] Trial 6 finished with value: 0.42217004202363534 and parameters: {'trend': 'add', 'seasonal': 'add', 'seasonal_periods': 12}. Best is trial 6 with value: 0.42217004202363534.\n",
      "[I 2024-05-15 20:14:36,110] Trial 5 finished with value: 0.42217004202363534 and parameters: {'trend': 'add', 'seasonal': 'add', 'seasonal_periods': 12}. Best is trial 6 with value: 0.42217004202363534.\n",
      "[I 2024-05-15 20:14:36,149] Trial 9 finished with value: 0.42217004202363534 and parameters: {'trend': 'add', 'seasonal': 'add', 'seasonal_periods': 12}. Best is trial 6 with value: 0.42217004202363534.\n",
      "/opt/conda/lib/python3.10/site-packages/statsmodels/tsa/base/tsa_model.py:473: ValueWarning: No frequency information was provided, so inferred frequency D will be used.\n",
      "  self._init_dates(dates, freq)\n",
      "/var/tmp/ipykernel_1903582/1261245201.py:12: SettingWithCopyWarning: \n",
      "A value is trying to be set on a copy of a slice from a DataFrame.\n",
      "Try using .loc[row_indexer,col_indexer] = value instead\n",
      "\n",
      "See the caveats in the documentation: https://pandas.pydata.org/pandas-docs/stable/user_guide/indexing.html#returning-a-view-versus-a-copy\n",
      "  prophet_data_train['ds'] = pd.to_datetime(prophet_data_train['ds'])\n",
      "/var/tmp/ipykernel_1903582/1261245201.py:13: SettingWithCopyWarning: \n",
      "A value is trying to be set on a copy of a slice from a DataFrame.\n",
      "Try using .loc[row_indexer,col_indexer] = value instead\n",
      "\n",
      "See the caveats in the documentation: https://pandas.pydata.org/pandas-docs/stable/user_guide/indexing.html#returning-a-view-versus-a-copy\n",
      "  prophet_data_test['ds'] = pd.to_datetime(prophet_data_test['ds'])\n",
      "20:14:36 - cmdstanpy - INFO - Chain [1] start processing\n",
      "20:14:37 - cmdstanpy - INFO - Chain [1] done processing\n",
      "/var/tmp/ipykernel_1903582/1261245201.py:12: SettingWithCopyWarning: \n",
      "A value is trying to be set on a copy of a slice from a DataFrame.\n",
      "Try using .loc[row_indexer,col_indexer] = value instead\n",
      "\n",
      "See the caveats in the documentation: https://pandas.pydata.org/pandas-docs/stable/user_guide/indexing.html#returning-a-view-versus-a-copy\n",
      "  prophet_data_train['ds'] = pd.to_datetime(prophet_data_train['ds'])\n",
      "/var/tmp/ipykernel_1903582/1261245201.py:13: SettingWithCopyWarning: \n",
      "A value is trying to be set on a copy of a slice from a DataFrame.\n",
      "Try using .loc[row_indexer,col_indexer] = value instead\n",
      "\n",
      "See the caveats in the documentation: https://pandas.pydata.org/pandas-docs/stable/user_guide/indexing.html#returning-a-view-versus-a-copy\n",
      "  prophet_data_test['ds'] = pd.to_datetime(prophet_data_test['ds'])\n",
      "20:14:37 - cmdstanpy - INFO - Chain [1] start processing\n",
      "20:14:37 - cmdstanpy - INFO - Chain [1] done processing\n",
      "/var/tmp/ipykernel_1903582/1261245201.py:12: SettingWithCopyWarning: \n",
      "A value is trying to be set on a copy of a slice from a DataFrame.\n",
      "Try using .loc[row_indexer,col_indexer] = value instead\n",
      "\n",
      "See the caveats in the documentation: https://pandas.pydata.org/pandas-docs/stable/user_guide/indexing.html#returning-a-view-versus-a-copy\n",
      "  prophet_data_train['ds'] = pd.to_datetime(prophet_data_train['ds'])\n",
      "/var/tmp/ipykernel_1903582/1261245201.py:13: SettingWithCopyWarning: \n",
      "A value is trying to be set on a copy of a slice from a DataFrame.\n",
      "Try using .loc[row_indexer,col_indexer] = value instead\n",
      "\n",
      "See the caveats in the documentation: https://pandas.pydata.org/pandas-docs/stable/user_guide/indexing.html#returning-a-view-versus-a-copy\n",
      "  prophet_data_test['ds'] = pd.to_datetime(prophet_data_test['ds'])\n",
      "20:14:37 - cmdstanpy - INFO - Chain [1] start processing\n",
      "20:14:37 - cmdstanpy - INFO - Chain [1] done processing\n",
      "/var/tmp/ipykernel_1903582/1261245201.py:12: SettingWithCopyWarning: \n",
      "A value is trying to be set on a copy of a slice from a DataFrame.\n",
      "Try using .loc[row_indexer,col_indexer] = value instead\n",
      "\n",
      "See the caveats in the documentation: https://pandas.pydata.org/pandas-docs/stable/user_guide/indexing.html#returning-a-view-versus-a-copy\n",
      "  prophet_data_train['ds'] = pd.to_datetime(prophet_data_train['ds'])\n",
      "/var/tmp/ipykernel_1903582/1261245201.py:13: SettingWithCopyWarning: \n",
      "A value is trying to be set on a copy of a slice from a DataFrame.\n",
      "Try using .loc[row_indexer,col_indexer] = value instead\n",
      "\n",
      "See the caveats in the documentation: https://pandas.pydata.org/pandas-docs/stable/user_guide/indexing.html#returning-a-view-versus-a-copy\n",
      "  prophet_data_test['ds'] = pd.to_datetime(prophet_data_test['ds'])\n",
      "20:14:37 - cmdstanpy - INFO - Chain [1] start processing\n",
      "20:14:37 - cmdstanpy - INFO - Chain [1] done processing\n",
      "/var/tmp/ipykernel_1903582/1261245201.py:12: SettingWithCopyWarning: \n",
      "A value is trying to be set on a copy of a slice from a DataFrame.\n",
      "Try using .loc[row_indexer,col_indexer] = value instead\n",
      "\n",
      "See the caveats in the documentation: https://pandas.pydata.org/pandas-docs/stable/user_guide/indexing.html#returning-a-view-versus-a-copy\n",
      "  prophet_data_train['ds'] = pd.to_datetime(prophet_data_train['ds'])\n",
      "/var/tmp/ipykernel_1903582/1261245201.py:13: SettingWithCopyWarning: \n",
      "A value is trying to be set on a copy of a slice from a DataFrame.\n",
      "Try using .loc[row_indexer,col_indexer] = value instead\n",
      "\n",
      "See the caveats in the documentation: https://pandas.pydata.org/pandas-docs/stable/user_guide/indexing.html#returning-a-view-versus-a-copy\n",
      "  prophet_data_test['ds'] = pd.to_datetime(prophet_data_test['ds'])\n",
      "20:14:38 - cmdstanpy - INFO - Chain [1] start processing\n",
      "20:14:38 - cmdstanpy - INFO - Chain [1] done processing\n",
      "/opt/conda/lib/python3.10/site-packages/lightgbm/engine.py:172: UserWarning: Found `n_estimators` in params. Will use it instead of argument\n",
      "  _log_warning(f\"Found `{alias}` in params. Will use it instead of argument\")\n"
     ]
    },
    {
     "name": "stdout",
     "output_type": "stream",
     "text": [
      "Training until validation scores don't improve for 50 rounds\n",
      "Did not meet early stopping. Best iteration is:\n",
      "[999]\tvalid_0's rmse: 7.56946\n",
      "Training until validation scores don't improve for 50 rounds\n"
     ]
    },
    {
     "name": "stderr",
     "output_type": "stream",
     "text": [
      "/opt/conda/lib/python3.10/site-packages/lightgbm/engine.py:172: UserWarning: Found `n_estimators` in params. Will use it instead of argument\n",
      "  _log_warning(f\"Found `{alias}` in params. Will use it instead of argument\")\n"
     ]
    },
    {
     "name": "stdout",
     "output_type": "stream",
     "text": [
      "Early stopping, best iteration is:\n",
      "[651]\tvalid_0's rmse: 10.8648\n",
      "Training until validation scores don't improve for 50 rounds\n"
     ]
    },
    {
     "name": "stderr",
     "output_type": "stream",
     "text": [
      "/opt/conda/lib/python3.10/site-packages/lightgbm/engine.py:172: UserWarning: Found `n_estimators` in params. Will use it instead of argument\n",
      "  _log_warning(f\"Found `{alias}` in params. Will use it instead of argument\")\n"
     ]
    },
    {
     "name": "stdout",
     "output_type": "stream",
     "text": [
      "Did not meet early stopping. Best iteration is:\n",
      "[1000]\tvalid_0's rmse: 14.9783\n",
      "Training until validation scores don't improve for 50 rounds\n"
     ]
    },
    {
     "name": "stderr",
     "output_type": "stream",
     "text": [
      "/opt/conda/lib/python3.10/site-packages/lightgbm/engine.py:172: UserWarning: Found `n_estimators` in params. Will use it instead of argument\n",
      "  _log_warning(f\"Found `{alias}` in params. Will use it instead of argument\")\n"
     ]
    },
    {
     "name": "stdout",
     "output_type": "stream",
     "text": [
      "Early stopping, best iteration is:\n",
      "[327]\tvalid_0's rmse: 7.28961\n",
      "Training until validation scores don't improve for 50 rounds\n"
     ]
    },
    {
     "name": "stderr",
     "output_type": "stream",
     "text": [
      "/opt/conda/lib/python3.10/site-packages/lightgbm/engine.py:172: UserWarning: Found `n_estimators` in params. Will use it instead of argument\n",
      "  _log_warning(f\"Found `{alias}` in params. Will use it instead of argument\")\n"
     ]
    },
    {
     "name": "stdout",
     "output_type": "stream",
     "text": [
      "Early stopping, best iteration is:\n",
      "[454]\tvalid_0's rmse: 7.42231\n"
     ]
    },
    {
     "name": "stderr",
     "output_type": "stream",
     "text": [
      "GPU available: False, used: False\n",
      "TPU available: False, using: 0 TPU cores\n",
      "IPU available: False, using: 0 IPUs\n",
      "HPU available: False, using: 0 HPUs\n",
      "Missing logger folder: logs/tft_logs\n",
      "\n",
      "   | Name                              | Type                             | Params\n",
      "----------------------------------------------------------------------------------------\n",
      "0  | train_metrics                     | MetricCollection                 | 0     \n",
      "1  | val_metrics                       | MetricCollection                 | 0     \n",
      "2  | input_embeddings                  | _MultiEmbedding                  | 0     \n",
      "3  | static_covariates_vsn             | _VariableSelectionNetwork        | 0     \n",
      "4  | encoder_vsn                       | _VariableSelectionNetwork        | 93.0 K\n",
      "5  | decoder_vsn                       | _VariableSelectionNetwork        | 46.4 K\n",
      "6  | static_context_grn                | _GatedResidualNetwork            | 1.1 K \n",
      "7  | static_context_hidden_encoder_grn | _GatedResidualNetwork            | 1.1 K \n",
      "8  | static_context_cell_encoder_grn   | _GatedResidualNetwork            | 1.1 K \n",
      "9  | static_context_enrichment         | _GatedResidualNetwork            | 1.1 K \n",
      "10 | lstm_encoder                      | LSTM                             | 4.4 K \n",
      "11 | lstm_decoder                      | LSTM                             | 4.4 K \n",
      "12 | post_lstm_gan                     | _GateAddNorm                     | 576   \n",
      "13 | static_enrichment_grn             | _GatedResidualNetwork            | 1.4 K \n",
      "14 | multihead_attn                    | _InterpretableMultiHeadAttention | 676   \n",
      "15 | post_attn_gan                     | _GateAddNorm                     | 576   \n",
      "16 | feed_forward_block                | _GatedResidualNetwork            | 1.1 K \n",
      "17 | pre_output_gan                    | _GateAddNorm                     | 576   \n",
      "18 | output_layer                      | Linear                           | 289   \n",
      "----------------------------------------------------------------------------------------\n",
      "156 K     Trainable params\n",
      "0         Non-trainable params\n",
      "156 K     Total params\n",
      "0.627     Total estimated model params size (MB)\n"
     ]
    },
    {
     "data": {
      "application/vnd.jupyter.widget-view+json": {
       "model_id": "bc4ca290bafc4ba1b2f76bbc782b8dca",
       "version_major": 2,
       "version_minor": 0
      },
      "text/plain": [
       "Sanity Checking: |          | 0/? [00:00<?, ?it/s]"
      ]
     },
     "metadata": {},
     "output_type": "display_data"
    },
    {
     "data": {
      "application/vnd.jupyter.widget-view+json": {
       "model_id": "265cab7ed0ba49c0a79455b8008a39c1",
       "version_major": 2,
       "version_minor": 0
      },
      "text/plain": [
       "Training: |          | 0/? [00:00<?, ?it/s]"
      ]
     },
     "metadata": {},
     "output_type": "display_data"
    },
    {
     "data": {
      "application/vnd.jupyter.widget-view+json": {
       "model_id": "e0058c19fc5a4b348bd869d8ccf0a1d1",
       "version_major": 2,
       "version_minor": 0
      },
      "text/plain": [
       "Validation: |          | 0/? [00:00<?, ?it/s]"
      ]
     },
     "metadata": {},
     "output_type": "display_data"
    },
    {
     "data": {
      "application/vnd.jupyter.widget-view+json": {
       "model_id": "c51bec66480c49278b1c21e2c5fcb010",
       "version_major": 2,
       "version_minor": 0
      },
      "text/plain": [
       "Validation: |          | 0/? [00:00<?, ?it/s]"
      ]
     },
     "metadata": {},
     "output_type": "display_data"
    },
    {
     "data": {
      "application/vnd.jupyter.widget-view+json": {
       "model_id": "67feeb3423634bf49373cc008d355d59",
       "version_major": 2,
       "version_minor": 0
      },
      "text/plain": [
       "Validation: |          | 0/? [00:00<?, ?it/s]"
      ]
     },
     "metadata": {},
     "output_type": "display_data"
    },
    {
     "data": {
      "application/vnd.jupyter.widget-view+json": {
       "model_id": "a41584e10e0c4a449309efa4e1368b80",
       "version_major": 2,
       "version_minor": 0
      },
      "text/plain": [
       "Validation: |          | 0/? [00:00<?, ?it/s]"
      ]
     },
     "metadata": {},
     "output_type": "display_data"
    },
    {
     "data": {
      "application/vnd.jupyter.widget-view+json": {
       "model_id": "15b5f2b2df0b442185beceed745d26c7",
       "version_major": 2,
       "version_minor": 0
      },
      "text/plain": [
       "Validation: |          | 0/? [00:00<?, ?it/s]"
      ]
     },
     "metadata": {},
     "output_type": "display_data"
    },
    {
     "data": {
      "application/vnd.jupyter.widget-view+json": {
       "model_id": "f2390bf2e94a4246b090ac917491c036",
       "version_major": 2,
       "version_minor": 0
      },
      "text/plain": [
       "Validation: |          | 0/? [00:00<?, ?it/s]"
      ]
     },
     "metadata": {},
     "output_type": "display_data"
    },
    {
     "data": {
      "application/vnd.jupyter.widget-view+json": {
       "model_id": "5fc8be4ef8254193a3af6febd7abf293",
       "version_major": 2,
       "version_minor": 0
      },
      "text/plain": [
       "Validation: |          | 0/? [00:00<?, ?it/s]"
      ]
     },
     "metadata": {},
     "output_type": "display_data"
    },
    {
     "data": {
      "application/vnd.jupyter.widget-view+json": {
       "model_id": "55ed1f83e1984876b6b3d78b3e11ba29",
       "version_major": 2,
       "version_minor": 0
      },
      "text/plain": [
       "Validation: |          | 0/? [00:00<?, ?it/s]"
      ]
     },
     "metadata": {},
     "output_type": "display_data"
    },
    {
     "data": {
      "application/vnd.jupyter.widget-view+json": {
       "model_id": "da601c909402405c80d2f6a543bf1f6f",
       "version_major": 2,
       "version_minor": 0
      },
      "text/plain": [
       "Validation: |          | 0/? [00:00<?, ?it/s]"
      ]
     },
     "metadata": {},
     "output_type": "display_data"
    },
    {
     "data": {
      "application/vnd.jupyter.widget-view+json": {
       "model_id": "580c494451d647f2a46cb6dfacd1e6d6",
       "version_major": 2,
       "version_minor": 0
      },
      "text/plain": [
       "Validation: |          | 0/? [00:00<?, ?it/s]"
      ]
     },
     "metadata": {},
     "output_type": "display_data"
    },
    {
     "name": "stdout",
     "output_type": "stream",
     "text": [
      "{'ARIMA': {'rmsse': 0.747543646274526, 'model': ARIMA(order=(1, 1, 1), scoring_args={}, suppress_warnings=True,\n",
      "      with_intercept=False)}, 'ExponentialSmoothing': {'rmsse': 0.7292982705649429, 'model': <statsmodels.tsa.holtwinters.results.HoltWintersResultsWrapper object at 0x7f7204074d90>}, 'Prophet': {'rmsse': 0.8611672300100718, 'model': <prophet.forecaster.Prophet object at 0x7f71436e1f90>}, 'LightGBM': {'rmsse': 0.8569451200332651, 'model': <lightgbm.basic.Booster object at 0x7f720429ca30>}, 'RandomForest': {'rmsse': 0.638782320251194, 'model': RandomForestRegressor(random_state=42)}, 'DartsTFT': {'rmsse': 14.41473634781376, 'model': TFTModel(output_chunk_shift=0, hidden_size=16, lstm_layers=2, num_attention_heads=4, full_attention=False, feed_forward=GatedResidualNetwork, dropout=0.2, hidden_continuous_size=8, categorical_embedding_sizes=None, add_relative_index=False, loss_fn=None, likelihood=None, norm_type=LayerNorm, use_static_covariates=True, input_chunk_length=56, output_chunk_length=28, pl_trainer_kwargs={'callbacks': [<pytorch_lightning.callbacks.early_stopping.EarlyStopping object at 0x7f7202204700>], 'accelerator': 'cpu', 'logger': <pytorch_lightning.loggers.csv_logs.CSVLogger object at 0x7f7202205390>}, batch_size=16, torch_metrics=MeanAbsoluteError(), n_epochs=50)}}\n",
      "Model results for FOODS_3_635_CA_3_validation\n",
      "Best model: RandomForest\n",
      "Best score: 0.638782320251194\n",
      "Analyzing product: FOODS_3_226_WI_1_validation\n"
     ]
    },
    {
     "name": "stderr",
     "output_type": "stream",
     "text": [
      "[I 2024-05-15 20:28:27,666] A new study created in memory with name: no-name-b5df193b-fd4a-4213-94be-b933d3725a3d\n"
     ]
    },
    {
     "name": "stdout",
     "output_type": "stream",
     "text": [
      "Optimizing hyperparameters for product: FOODS_3_226_WI_1_validation\n"
     ]
    },
    {
     "name": "stderr",
     "output_type": "stream",
     "text": [
      "[I 2024-05-15 20:28:28,858] Trial 1 finished with value: 0.7654007744794786 and parameters: {'trend': 'add', 'seasonal': None, 'seasonal_periods': 7}. Best is trial 1 with value: 0.7654007744794786.\n",
      "[I 2024-05-15 20:28:28,945] Trial 3 finished with value: 0.7654007744794786 and parameters: {'trend': 'add', 'seasonal': None, 'seasonal_periods': 4}. Best is trial 1 with value: 0.7654007744794786.\n",
      "[I 2024-05-15 20:28:29,140] Trial 0 finished with value: 0.7849073508634393 and parameters: {'trend': 'add', 'seasonal': 'add', 'seasonal_periods': 12}. Best is trial 1 with value: 0.7654007744794786.\n",
      "[I 2024-05-15 20:28:29,244] Trial 9 finished with value: 0.7654007744794786 and parameters: {'trend': 'add', 'seasonal': None, 'seasonal_periods': None}. Best is trial 1 with value: 0.7654007744794786.\n",
      "[I 2024-05-15 20:28:29,247] Trial 7 finished with value: 0.7654007744794786 and parameters: {'trend': 'add', 'seasonal': None, 'seasonal_periods': 4}. Best is trial 1 with value: 0.7654007744794786.\n",
      "[I 2024-05-15 20:28:29,362] Trial 8 finished with value: 0.7654007744794786 and parameters: {'trend': 'add', 'seasonal': None, 'seasonal_periods': 4}. Best is trial 1 with value: 0.7654007744794786.\n",
      "[I 2024-05-15 20:28:29,443] Trial 2 finished with value: 0.8002142255872503 and parameters: {'trend': 'add', 'seasonal': 'add', 'seasonal_periods': 4}. Best is trial 1 with value: 0.7654007744794786.\n",
      "[I 2024-05-15 20:28:29,564] Trial 6 finished with value: 0.7849073508634393 and parameters: {'trend': 'add', 'seasonal': 'add', 'seasonal_periods': 12}. Best is trial 1 with value: 0.7654007744794786.\n",
      "[I 2024-05-15 20:28:29,574] Trial 4 finished with value: 0.5680894460136117 and parameters: {'trend': 'add', 'seasonal': 'add', 'seasonal_periods': None}. Best is trial 4 with value: 0.5680894460136117.\n",
      "[I 2024-05-15 20:28:29,601] Trial 5 finished with value: 0.5680894460136117 and parameters: {'trend': 'add', 'seasonal': 'add', 'seasonal_periods': None}. Best is trial 4 with value: 0.5680894460136117.\n",
      "/opt/conda/lib/python3.10/site-packages/statsmodels/tsa/base/tsa_model.py:473: ValueWarning: No frequency information was provided, so inferred frequency D will be used.\n",
      "  self._init_dates(dates, freq)\n",
      "[I 2024-05-15 20:28:29,858] A new study created in memory with name: no-name-d906f2ae-3156-4d93-b131-cd02ccb8fa66\n",
      "[I 2024-05-15 20:28:29,950] Trial 0 finished with value: 0.7359236969883552 and parameters: {'trend': 'add', 'seasonal': None, 'seasonal_periods': 7}. Best is trial 0 with value: 0.7359236969883552.\n"
     ]
    },
    {
     "name": "stdout",
     "output_type": "stream",
     "text": [
      "Optimizing hyperparameters for product: FOODS_3_226_WI_1_validation\n"
     ]
    },
    {
     "name": "stderr",
     "output_type": "stream",
     "text": [
      "[I 2024-05-15 20:28:30,592] Trial 3 finished with value: 0.7359236969883552 and parameters: {'trend': 'add', 'seasonal': None, 'seasonal_periods': 4}. Best is trial 0 with value: 0.7359236969883552.\n",
      "[I 2024-05-15 20:28:30,898] Trial 7 finished with value: 0.7359236969883552 and parameters: {'trend': 'add', 'seasonal': None, 'seasonal_periods': 4}. Best is trial 0 with value: 0.7359236969883552.\n",
      "[I 2024-05-15 20:28:31,009] Trial 6 finished with value: 0.7359236969883552 and parameters: {'trend': 'add', 'seasonal': None, 'seasonal_periods': None}. Best is trial 0 with value: 0.7359236969883552.\n",
      "[I 2024-05-15 20:28:31,077] Trial 8 finished with value: 0.7359236969883552 and parameters: {'trend': 'add', 'seasonal': None, 'seasonal_periods': 7}. Best is trial 0 with value: 0.7359236969883552.\n",
      "[I 2024-05-15 20:28:31,117] Trial 9 finished with value: 0.7359236969883552 and parameters: {'trend': 'add', 'seasonal': None, 'seasonal_periods': 12}. Best is trial 0 with value: 0.7359236969883552.\n",
      "[I 2024-05-15 20:28:31,389] Trial 5 finished with value: 0.7432874172673793 and parameters: {'trend': 'add', 'seasonal': 'add', 'seasonal_periods': 4}. Best is trial 0 with value: 0.7359236969883552.\n",
      "[I 2024-05-15 20:28:31,499] Trial 1 finished with value: 0.3777364469843032 and parameters: {'trend': 'add', 'seasonal': 'add', 'seasonal_periods': 7}. Best is trial 1 with value: 0.3777364469843032.\n",
      "[I 2024-05-15 20:28:31,561] Trial 4 finished with value: 0.3777364469843032 and parameters: {'trend': 'add', 'seasonal': 'add', 'seasonal_periods': None}. Best is trial 1 with value: 0.3777364469843032.\n",
      "[I 2024-05-15 20:28:31,570] Trial 2 finished with value: 0.3777364469843032 and parameters: {'trend': 'add', 'seasonal': 'add', 'seasonal_periods': 7}. Best is trial 1 with value: 0.3777364469843032.\n",
      "/opt/conda/lib/python3.10/site-packages/statsmodels/tsa/base/tsa_model.py:473: ValueWarning: No frequency information was provided, so inferred frequency D will be used.\n",
      "  self._init_dates(dates, freq)\n",
      "[I 2024-05-15 20:28:31,843] A new study created in memory with name: no-name-b113bad6-91d8-4e1c-996a-14ffbaf6b5f1\n"
     ]
    },
    {
     "name": "stdout",
     "output_type": "stream",
     "text": [
      "Optimizing hyperparameters for product: FOODS_3_226_WI_1_validation\n"
     ]
    },
    {
     "name": "stderr",
     "output_type": "stream",
     "text": [
      "[I 2024-05-15 20:28:32,934] Trial 3 finished with value: 0.7781671559446115 and parameters: {'trend': 'add', 'seasonal': None, 'seasonal_periods': None}. Best is trial 3 with value: 0.7781671559446115.\n",
      "[I 2024-05-15 20:28:33,179] Trial 2 finished with value: 0.7781671559446115 and parameters: {'trend': 'add', 'seasonal': None, 'seasonal_periods': None}. Best is trial 3 with value: 0.7781671559446115.\n",
      "[I 2024-05-15 20:28:33,274] Trial 7 finished with value: 0.7781671559446115 and parameters: {'trend': 'add', 'seasonal': None, 'seasonal_periods': 7}. Best is trial 3 with value: 0.7781671559446115.\n",
      "[I 2024-05-15 20:28:33,309] Trial 4 finished with value: 0.7781671559446115 and parameters: {'trend': 'add', 'seasonal': None, 'seasonal_periods': 4}. Best is trial 3 with value: 0.7781671559446115.\n",
      "[I 2024-05-15 20:28:33,466] Trial 0 finished with value: 0.8186084446972011 and parameters: {'trend': 'add', 'seasonal': 'add', 'seasonal_periods': 4}. Best is trial 3 with value: 0.7781671559446115.\n",
      "[I 2024-05-15 20:28:33,535] Trial 8 finished with value: 0.7781671559446115 and parameters: {'trend': 'add', 'seasonal': None, 'seasonal_periods': None}. Best is trial 3 with value: 0.7781671559446115.\n",
      "[I 2024-05-15 20:28:33,606] Trial 6 finished with value: 0.8186084446972011 and parameters: {'trend': 'add', 'seasonal': 'add', 'seasonal_periods': 4}. Best is trial 3 with value: 0.7781671559446115.\n",
      "[I 2024-05-15 20:28:33,656] Trial 5 finished with value: 0.8186084446972011 and parameters: {'trend': 'add', 'seasonal': 'add', 'seasonal_periods': 4}. Best is trial 3 with value: 0.7781671559446115.\n",
      "[I 2024-05-15 20:28:33,726] Trial 1 finished with value: 0.6402809869891594 and parameters: {'trend': 'add', 'seasonal': 'add', 'seasonal_periods': None}. Best is trial 1 with value: 0.6402809869891594.\n",
      "[I 2024-05-15 20:28:33,760] Trial 9 finished with value: 0.6402809869891594 and parameters: {'trend': 'add', 'seasonal': 'add', 'seasonal_periods': 7}. Best is trial 1 with value: 0.6402809869891594.\n",
      "/opt/conda/lib/python3.10/site-packages/statsmodels/tsa/base/tsa_model.py:473: ValueWarning: No frequency information was provided, so inferred frequency D will be used.\n",
      "  self._init_dates(dates, freq)\n",
      "[I 2024-05-15 20:28:34,026] A new study created in memory with name: no-name-b0236ba3-46c8-4e3d-89f2-68803c52ef9d\n"
     ]
    },
    {
     "name": "stdout",
     "output_type": "stream",
     "text": [
      "Optimizing hyperparameters for product: FOODS_3_226_WI_1_validation\n"
     ]
    },
    {
     "name": "stderr",
     "output_type": "stream",
     "text": [
      "[I 2024-05-15 20:28:34,745] Trial 2 finished with value: 1.170798623523279 and parameters: {'trend': 'add', 'seasonal': None, 'seasonal_periods': 4}. Best is trial 2 with value: 1.170798623523279.\n",
      "[I 2024-05-15 20:28:34,832] Trial 0 finished with value: 1.170798623523279 and parameters: {'trend': 'add', 'seasonal': None, 'seasonal_periods': 7}. Best is trial 2 with value: 1.170798623523279.\n",
      "[I 2024-05-15 20:28:35,002] Trial 4 finished with value: 1.170798623523279 and parameters: {'trend': 'add', 'seasonal': None, 'seasonal_periods': 4}. Best is trial 2 with value: 1.170798623523279.\n",
      "[I 2024-05-15 20:28:35,289] Trial 6 finished with value: 1.170798623523279 and parameters: {'trend': 'add', 'seasonal': None, 'seasonal_periods': 7}. Best is trial 2 with value: 1.170798623523279.\n",
      "[I 2024-05-15 20:28:35,414] Trial 7 finished with value: 1.170798623523279 and parameters: {'trend': 'add', 'seasonal': None, 'seasonal_periods': None}. Best is trial 2 with value: 1.170798623523279.\n",
      "[I 2024-05-15 20:28:35,650] Trial 1 finished with value: 1.1141279897246474 and parameters: {'trend': 'add', 'seasonal': 'add', 'seasonal_periods': 12}. Best is trial 1 with value: 1.1141279897246474.\n",
      "[I 2024-05-15 20:28:35,729] Trial 9 finished with value: 1.2617138720077468 and parameters: {'trend': 'add', 'seasonal': 'add', 'seasonal_periods': 4}. Best is trial 1 with value: 1.1141279897246474.\n",
      "[I 2024-05-15 20:28:35,774] Trial 3 finished with value: 1.2617138720077468 and parameters: {'trend': 'add', 'seasonal': 'add', 'seasonal_periods': 4}. Best is trial 1 with value: 1.1141279897246474.\n",
      "[I 2024-05-15 20:28:35,864] Trial 8 finished with value: 0.8386932863458545 and parameters: {'trend': 'add', 'seasonal': 'add', 'seasonal_periods': 7}. Best is trial 8 with value: 0.8386932863458545.\n",
      "[I 2024-05-15 20:28:35,870] Trial 5 finished with value: 0.8386932863458545 and parameters: {'trend': 'add', 'seasonal': 'add', 'seasonal_periods': 7}. Best is trial 8 with value: 0.8386932863458545.\n",
      "/opt/conda/lib/python3.10/site-packages/statsmodels/tsa/base/tsa_model.py:473: ValueWarning: No frequency information was provided, so inferred frequency D will be used.\n",
      "  self._init_dates(dates, freq)\n",
      "[I 2024-05-15 20:28:36,122] A new study created in memory with name: no-name-99940c0f-6de3-4a4b-bc47-58a538f83a14\n"
     ]
    },
    {
     "name": "stdout",
     "output_type": "stream",
     "text": [
      "Optimizing hyperparameters for product: FOODS_3_226_WI_1_validation\n"
     ]
    },
    {
     "name": "stderr",
     "output_type": "stream",
     "text": [
      "[I 2024-05-15 20:28:37,356] Trial 5 finished with value: 1.2391368747186624 and parameters: {'trend': 'add', 'seasonal': None, 'seasonal_periods': 12}. Best is trial 5 with value: 1.2391368747186624.\n",
      "[I 2024-05-15 20:28:37,514] Trial 4 finished with value: 1.2391368747186624 and parameters: {'trend': 'add', 'seasonal': None, 'seasonal_periods': 4}. Best is trial 5 with value: 1.2391368747186624.\n",
      "[I 2024-05-15 20:28:38,002] Trial 2 finished with value: 1.339657228438759 and parameters: {'trend': 'add', 'seasonal': 'add', 'seasonal_periods': 4}. Best is trial 5 with value: 1.2391368747186624.\n",
      "[I 2024-05-15 20:28:38,127] Trial 9 finished with value: 1.2391368747186624 and parameters: {'trend': 'add', 'seasonal': None, 'seasonal_periods': 4}. Best is trial 5 with value: 1.2391368747186624.\n",
      "[I 2024-05-15 20:28:38,216] Trial 3 finished with value: 1.339657228438759 and parameters: {'trend': 'add', 'seasonal': 'add', 'seasonal_periods': 4}. Best is trial 5 with value: 1.2391368747186624.\n",
      "[I 2024-05-15 20:28:38,239] Trial 0 finished with value: 1.3087581772401 and parameters: {'trend': 'add', 'seasonal': 'add', 'seasonal_periods': 12}. Best is trial 5 with value: 1.2391368747186624.\n",
      "[I 2024-05-15 20:28:38,262] Trial 1 finished with value: 1.3087581772401 and parameters: {'trend': 'add', 'seasonal': 'add', 'seasonal_periods': 12}. Best is trial 5 with value: 1.2391368747186624.\n",
      "[I 2024-05-15 20:28:38,328] Trial 8 finished with value: 1.339657228438759 and parameters: {'trend': 'add', 'seasonal': 'add', 'seasonal_periods': 4}. Best is trial 5 with value: 1.2391368747186624.\n",
      "[I 2024-05-15 20:28:38,353] Trial 7 finished with value: 1.211428585624381 and parameters: {'trend': 'add', 'seasonal': 'add', 'seasonal_periods': 7}. Best is trial 7 with value: 1.211428585624381.\n",
      "[I 2024-05-15 20:28:38,386] Trial 6 finished with value: 1.211428585624381 and parameters: {'trend': 'add', 'seasonal': 'add', 'seasonal_periods': None}. Best is trial 7 with value: 1.211428585624381.\n",
      "/opt/conda/lib/python3.10/site-packages/statsmodels/tsa/base/tsa_model.py:473: ValueWarning: No frequency information was provided, so inferred frequency D will be used.\n",
      "  self._init_dates(dates, freq)\n",
      "/var/tmp/ipykernel_1903582/1261245201.py:12: SettingWithCopyWarning: \n",
      "A value is trying to be set on a copy of a slice from a DataFrame.\n",
      "Try using .loc[row_indexer,col_indexer] = value instead\n",
      "\n",
      "See the caveats in the documentation: https://pandas.pydata.org/pandas-docs/stable/user_guide/indexing.html#returning-a-view-versus-a-copy\n",
      "  prophet_data_train['ds'] = pd.to_datetime(prophet_data_train['ds'])\n",
      "/var/tmp/ipykernel_1903582/1261245201.py:13: SettingWithCopyWarning: \n",
      "A value is trying to be set on a copy of a slice from a DataFrame.\n",
      "Try using .loc[row_indexer,col_indexer] = value instead\n",
      "\n",
      "See the caveats in the documentation: https://pandas.pydata.org/pandas-docs/stable/user_guide/indexing.html#returning-a-view-versus-a-copy\n",
      "  prophet_data_test['ds'] = pd.to_datetime(prophet_data_test['ds'])\n",
      "20:28:38 - cmdstanpy - INFO - Chain [1] start processing\n",
      "20:28:38 - cmdstanpy - INFO - Chain [1] done processing\n",
      "/var/tmp/ipykernel_1903582/1261245201.py:12: SettingWithCopyWarning: \n",
      "A value is trying to be set on a copy of a slice from a DataFrame.\n",
      "Try using .loc[row_indexer,col_indexer] = value instead\n",
      "\n",
      "See the caveats in the documentation: https://pandas.pydata.org/pandas-docs/stable/user_guide/indexing.html#returning-a-view-versus-a-copy\n",
      "  prophet_data_train['ds'] = pd.to_datetime(prophet_data_train['ds'])\n",
      "/var/tmp/ipykernel_1903582/1261245201.py:13: SettingWithCopyWarning: \n",
      "A value is trying to be set on a copy of a slice from a DataFrame.\n",
      "Try using .loc[row_indexer,col_indexer] = value instead\n",
      "\n",
      "See the caveats in the documentation: https://pandas.pydata.org/pandas-docs/stable/user_guide/indexing.html#returning-a-view-versus-a-copy\n",
      "  prophet_data_test['ds'] = pd.to_datetime(prophet_data_test['ds'])\n",
      "20:28:39 - cmdstanpy - INFO - Chain [1] start processing\n",
      "20:28:39 - cmdstanpy - INFO - Chain [1] done processing\n",
      "/var/tmp/ipykernel_1903582/1261245201.py:12: SettingWithCopyWarning: \n",
      "A value is trying to be set on a copy of a slice from a DataFrame.\n",
      "Try using .loc[row_indexer,col_indexer] = value instead\n",
      "\n",
      "See the caveats in the documentation: https://pandas.pydata.org/pandas-docs/stable/user_guide/indexing.html#returning-a-view-versus-a-copy\n",
      "  prophet_data_train['ds'] = pd.to_datetime(prophet_data_train['ds'])\n",
      "/var/tmp/ipykernel_1903582/1261245201.py:13: SettingWithCopyWarning: \n",
      "A value is trying to be set on a copy of a slice from a DataFrame.\n",
      "Try using .loc[row_indexer,col_indexer] = value instead\n",
      "\n",
      "See the caveats in the documentation: https://pandas.pydata.org/pandas-docs/stable/user_guide/indexing.html#returning-a-view-versus-a-copy\n",
      "  prophet_data_test['ds'] = pd.to_datetime(prophet_data_test['ds'])\n",
      "20:28:39 - cmdstanpy - INFO - Chain [1] start processing\n",
      "20:28:39 - cmdstanpy - INFO - Chain [1] done processing\n",
      "/var/tmp/ipykernel_1903582/1261245201.py:12: SettingWithCopyWarning: \n",
      "A value is trying to be set on a copy of a slice from a DataFrame.\n",
      "Try using .loc[row_indexer,col_indexer] = value instead\n",
      "\n",
      "See the caveats in the documentation: https://pandas.pydata.org/pandas-docs/stable/user_guide/indexing.html#returning-a-view-versus-a-copy\n",
      "  prophet_data_train['ds'] = pd.to_datetime(prophet_data_train['ds'])\n",
      "/var/tmp/ipykernel_1903582/1261245201.py:13: SettingWithCopyWarning: \n",
      "A value is trying to be set on a copy of a slice from a DataFrame.\n",
      "Try using .loc[row_indexer,col_indexer] = value instead\n",
      "\n",
      "See the caveats in the documentation: https://pandas.pydata.org/pandas-docs/stable/user_guide/indexing.html#returning-a-view-versus-a-copy\n",
      "  prophet_data_test['ds'] = pd.to_datetime(prophet_data_test['ds'])\n",
      "20:28:39 - cmdstanpy - INFO - Chain [1] start processing\n",
      "20:28:39 - cmdstanpy - INFO - Chain [1] done processing\n",
      "/var/tmp/ipykernel_1903582/1261245201.py:12: SettingWithCopyWarning: \n",
      "A value is trying to be set on a copy of a slice from a DataFrame.\n",
      "Try using .loc[row_indexer,col_indexer] = value instead\n",
      "\n",
      "See the caveats in the documentation: https://pandas.pydata.org/pandas-docs/stable/user_guide/indexing.html#returning-a-view-versus-a-copy\n",
      "  prophet_data_train['ds'] = pd.to_datetime(prophet_data_train['ds'])\n",
      "/var/tmp/ipykernel_1903582/1261245201.py:13: SettingWithCopyWarning: \n",
      "A value is trying to be set on a copy of a slice from a DataFrame.\n",
      "Try using .loc[row_indexer,col_indexer] = value instead\n",
      "\n",
      "See the caveats in the documentation: https://pandas.pydata.org/pandas-docs/stable/user_guide/indexing.html#returning-a-view-versus-a-copy\n",
      "  prophet_data_test['ds'] = pd.to_datetime(prophet_data_test['ds'])\n",
      "20:28:39 - cmdstanpy - INFO - Chain [1] start processing\n",
      "20:28:39 - cmdstanpy - INFO - Chain [1] done processing\n",
      "/opt/conda/lib/python3.10/site-packages/lightgbm/engine.py:172: UserWarning: Found `n_estimators` in params. Will use it instead of argument\n",
      "  _log_warning(f\"Found `{alias}` in params. Will use it instead of argument\")\n"
     ]
    },
    {
     "name": "stdout",
     "output_type": "stream",
     "text": [
      "Training until validation scores don't improve for 50 rounds\n",
      "Early stopping, best iteration is:\n",
      "[679]\tvalid_0's rmse: 5.37891\n",
      "Training until validation scores don't improve for 50 rounds\n"
     ]
    },
    {
     "name": "stderr",
     "output_type": "stream",
     "text": [
      "/opt/conda/lib/python3.10/site-packages/lightgbm/engine.py:172: UserWarning: Found `n_estimators` in params. Will use it instead of argument\n",
      "  _log_warning(f\"Found `{alias}` in params. Will use it instead of argument\")\n"
     ]
    },
    {
     "name": "stdout",
     "output_type": "stream",
     "text": [
      "Did not meet early stopping. Best iteration is:\n",
      "[1000]\tvalid_0's rmse: 5.73082\n",
      "Training until validation scores don't improve for 50 rounds\n"
     ]
    },
    {
     "name": "stderr",
     "output_type": "stream",
     "text": [
      "/opt/conda/lib/python3.10/site-packages/lightgbm/engine.py:172: UserWarning: Found `n_estimators` in params. Will use it instead of argument\n",
      "  _log_warning(f\"Found `{alias}` in params. Will use it instead of argument\")\n"
     ]
    },
    {
     "name": "stdout",
     "output_type": "stream",
     "text": [
      "Did not meet early stopping. Best iteration is:\n",
      "[997]\tvalid_0's rmse: 5.77839\n",
      "Training until validation scores don't improve for 50 rounds\n"
     ]
    },
    {
     "name": "stderr",
     "output_type": "stream",
     "text": [
      "/opt/conda/lib/python3.10/site-packages/lightgbm/engine.py:172: UserWarning: Found `n_estimators` in params. Will use it instead of argument\n",
      "  _log_warning(f\"Found `{alias}` in params. Will use it instead of argument\")\n"
     ]
    },
    {
     "name": "stdout",
     "output_type": "stream",
     "text": [
      "Early stopping, best iteration is:\n",
      "[350]\tvalid_0's rmse: 15.2914\n",
      "Training until validation scores don't improve for 50 rounds\n"
     ]
    },
    {
     "name": "stderr",
     "output_type": "stream",
     "text": [
      "/opt/conda/lib/python3.10/site-packages/lightgbm/engine.py:172: UserWarning: Found `n_estimators` in params. Will use it instead of argument\n",
      "  _log_warning(f\"Found `{alias}` in params. Will use it instead of argument\")\n"
     ]
    },
    {
     "name": "stdout",
     "output_type": "stream",
     "text": [
      "Did not meet early stopping. Best iteration is:\n",
      "[1000]\tvalid_0's rmse: 8.33565\n"
     ]
    },
    {
     "name": "stderr",
     "output_type": "stream",
     "text": [
      "GPU available: False, used: False\n",
      "TPU available: False, using: 0 TPU cores\n",
      "IPU available: False, using: 0 IPUs\n",
      "HPU available: False, using: 0 HPUs\n",
      "Missing logger folder: logs/tft_logs\n",
      "\n",
      "   | Name                              | Type                             | Params\n",
      "----------------------------------------------------------------------------------------\n",
      "0  | train_metrics                     | MetricCollection                 | 0     \n",
      "1  | val_metrics                       | MetricCollection                 | 0     \n",
      "2  | input_embeddings                  | _MultiEmbedding                  | 0     \n",
      "3  | static_covariates_vsn             | _VariableSelectionNetwork        | 0     \n",
      "4  | encoder_vsn                       | _VariableSelectionNetwork        | 93.0 K\n",
      "5  | decoder_vsn                       | _VariableSelectionNetwork        | 46.4 K\n",
      "6  | static_context_grn                | _GatedResidualNetwork            | 1.1 K \n",
      "7  | static_context_hidden_encoder_grn | _GatedResidualNetwork            | 1.1 K \n",
      "8  | static_context_cell_encoder_grn   | _GatedResidualNetwork            | 1.1 K \n",
      "9  | static_context_enrichment         | _GatedResidualNetwork            | 1.1 K \n",
      "10 | lstm_encoder                      | LSTM                             | 4.4 K \n",
      "11 | lstm_decoder                      | LSTM                             | 4.4 K \n",
      "12 | post_lstm_gan                     | _GateAddNorm                     | 576   \n",
      "13 | static_enrichment_grn             | _GatedResidualNetwork            | 1.4 K \n",
      "14 | multihead_attn                    | _InterpretableMultiHeadAttention | 676   \n",
      "15 | post_attn_gan                     | _GateAddNorm                     | 576   \n",
      "16 | feed_forward_block                | _GatedResidualNetwork            | 1.1 K \n",
      "17 | pre_output_gan                    | _GateAddNorm                     | 576   \n",
      "18 | output_layer                      | Linear                           | 289   \n",
      "----------------------------------------------------------------------------------------\n",
      "156 K     Trainable params\n",
      "0         Non-trainable params\n",
      "156 K     Total params\n",
      "0.627     Total estimated model params size (MB)\n"
     ]
    },
    {
     "data": {
      "application/vnd.jupyter.widget-view+json": {
       "model_id": "76dc760cce3b4921bfa98b75964e4b4c",
       "version_major": 2,
       "version_minor": 0
      },
      "text/plain": [
       "Sanity Checking: |          | 0/? [00:00<?, ?it/s]"
      ]
     },
     "metadata": {},
     "output_type": "display_data"
    },
    {
     "data": {
      "application/vnd.jupyter.widget-view+json": {
       "model_id": "503144bcc5cd48bd9adab9cbc3d74791",
       "version_major": 2,
       "version_minor": 0
      },
      "text/plain": [
       "Training: |          | 0/? [00:00<?, ?it/s]"
      ]
     },
     "metadata": {},
     "output_type": "display_data"
    },
    {
     "data": {
      "application/vnd.jupyter.widget-view+json": {
       "model_id": "60ef070e573a438fb4262900bf8153a1",
       "version_major": 2,
       "version_minor": 0
      },
      "text/plain": [
       "Validation: |          | 0/? [00:00<?, ?it/s]"
      ]
     },
     "metadata": {},
     "output_type": "display_data"
    },
    {
     "data": {
      "application/vnd.jupyter.widget-view+json": {
       "model_id": "450c0f7e8089423294a5e1a7f83c2e57",
       "version_major": 2,
       "version_minor": 0
      },
      "text/plain": [
       "Validation: |          | 0/? [00:00<?, ?it/s]"
      ]
     },
     "metadata": {},
     "output_type": "display_data"
    },
    {
     "data": {
      "application/vnd.jupyter.widget-view+json": {
       "model_id": "bec15ef1100740ee9c42086288c5648b",
       "version_major": 2,
       "version_minor": 0
      },
      "text/plain": [
       "Validation: |          | 0/? [00:00<?, ?it/s]"
      ]
     },
     "metadata": {},
     "output_type": "display_data"
    },
    {
     "data": {
      "application/vnd.jupyter.widget-view+json": {
       "model_id": "876ef2f15ef7483986b5a9d0545a1c58",
       "version_major": 2,
       "version_minor": 0
      },
      "text/plain": [
       "Validation: |          | 0/? [00:00<?, ?it/s]"
      ]
     },
     "metadata": {},
     "output_type": "display_data"
    },
    {
     "data": {
      "application/vnd.jupyter.widget-view+json": {
       "model_id": "465ad16282b84549af8e3f8b616ae158",
       "version_major": 2,
       "version_minor": 0
      },
      "text/plain": [
       "Validation: |          | 0/? [00:00<?, ?it/s]"
      ]
     },
     "metadata": {},
     "output_type": "display_data"
    },
    {
     "data": {
      "application/vnd.jupyter.widget-view+json": {
       "model_id": "039b338d41e94a8d8528d11f677b272c",
       "version_major": 2,
       "version_minor": 0
      },
      "text/plain": [
       "Validation: |          | 0/? [00:00<?, ?it/s]"
      ]
     },
     "metadata": {},
     "output_type": "display_data"
    },
    {
     "data": {
      "application/vnd.jupyter.widget-view+json": {
       "model_id": "b028d8d34d7a413a90b412e78aaf65ee",
       "version_major": 2,
       "version_minor": 0
      },
      "text/plain": [
       "Validation: |          | 0/? [00:00<?, ?it/s]"
      ]
     },
     "metadata": {},
     "output_type": "display_data"
    },
    {
     "data": {
      "application/vnd.jupyter.widget-view+json": {
       "model_id": "994664aa1f1b4eaf9d793b0368c344d6",
       "version_major": 2,
       "version_minor": 0
      },
      "text/plain": [
       "Validation: |          | 0/? [00:00<?, ?it/s]"
      ]
     },
     "metadata": {},
     "output_type": "display_data"
    },
    {
     "data": {
      "application/vnd.jupyter.widget-view+json": {
       "model_id": "86f76e3e48d7463a9086968e1935d16e",
       "version_major": 2,
       "version_minor": 0
      },
      "text/plain": [
       "Validation: |          | 0/? [00:00<?, ?it/s]"
      ]
     },
     "metadata": {},
     "output_type": "display_data"
    },
    {
     "data": {
      "application/vnd.jupyter.widget-view+json": {
       "model_id": "181723857d66412b9004ec74bd9903b7",
       "version_major": 2,
       "version_minor": 0
      },
      "text/plain": [
       "Validation: |          | 0/? [00:00<?, ?it/s]"
      ]
     },
     "metadata": {},
     "output_type": "display_data"
    },
    {
     "data": {
      "application/vnd.jupyter.widget-view+json": {
       "model_id": "f5f11ea9057d4f22aa38de5176f54f2b",
       "version_major": 2,
       "version_minor": 0
      },
      "text/plain": [
       "Validation: |          | 0/? [00:00<?, ?it/s]"
      ]
     },
     "metadata": {},
     "output_type": "display_data"
    },
    {
     "data": {
      "application/vnd.jupyter.widget-view+json": {
       "model_id": "0365984330b140268339a1d1a1d86568",
       "version_major": 2,
       "version_minor": 0
      },
      "text/plain": [
       "Validation: |          | 0/? [00:00<?, ?it/s]"
      ]
     },
     "metadata": {},
     "output_type": "display_data"
    },
    {
     "data": {
      "application/vnd.jupyter.widget-view+json": {
       "model_id": "41c791aabb0c4687b15d8b311faa2bfa",
       "version_major": 2,
       "version_minor": 0
      },
      "text/plain": [
       "Validation: |          | 0/? [00:00<?, ?it/s]"
      ]
     },
     "metadata": {},
     "output_type": "display_data"
    },
    {
     "data": {
      "application/vnd.jupyter.widget-view+json": {
       "model_id": "8fc59eb675174b328c3404b02a07223e",
       "version_major": 2,
       "version_minor": 0
      },
      "text/plain": [
       "Validation: |          | 0/? [00:00<?, ?it/s]"
      ]
     },
     "metadata": {},
     "output_type": "display_data"
    },
    {
     "data": {
      "application/vnd.jupyter.widget-view+json": {
       "model_id": "2642935943c74b0ba0db8f3c0f6de157",
       "version_major": 2,
       "version_minor": 0
      },
      "text/plain": [
       "Validation: |          | 0/? [00:00<?, ?it/s]"
      ]
     },
     "metadata": {},
     "output_type": "display_data"
    },
    {
     "data": {
      "application/vnd.jupyter.widget-view+json": {
       "model_id": "062529e6cbd940288f6d775339813801",
       "version_major": 2,
       "version_minor": 0
      },
      "text/plain": [
       "Validation: |          | 0/? [00:00<?, ?it/s]"
      ]
     },
     "metadata": {},
     "output_type": "display_data"
    },
    {
     "data": {
      "application/vnd.jupyter.widget-view+json": {
       "model_id": "50e9d5c536db413fbf9ee7184fd2f716",
       "version_major": 2,
       "version_minor": 0
      },
      "text/plain": [
       "Validation: |          | 0/? [00:00<?, ?it/s]"
      ]
     },
     "metadata": {},
     "output_type": "display_data"
    },
    {
     "data": {
      "application/vnd.jupyter.widget-view+json": {
       "model_id": "853e0e3229c841a2a6003708dbf9f4bc",
       "version_major": 2,
       "version_minor": 0
      },
      "text/plain": [
       "Validation: |          | 0/? [00:00<?, ?it/s]"
      ]
     },
     "metadata": {},
     "output_type": "display_data"
    },
    {
     "data": {
      "application/vnd.jupyter.widget-view+json": {
       "model_id": "618c2464597a46b399c413cb647e20d0",
       "version_major": 2,
       "version_minor": 0
      },
      "text/plain": [
       "Validation: |          | 0/? [00:00<?, ?it/s]"
      ]
     },
     "metadata": {},
     "output_type": "display_data"
    },
    {
     "data": {
      "application/vnd.jupyter.widget-view+json": {
       "model_id": "aca9e95ad025490295e34781a2014941",
       "version_major": 2,
       "version_minor": 0
      },
      "text/plain": [
       "Validation: |          | 0/? [00:00<?, ?it/s]"
      ]
     },
     "metadata": {},
     "output_type": "display_data"
    },
    {
     "name": "stdout",
     "output_type": "stream",
     "text": [
      "{'ARIMA': {'rmsse': 0.7796366978052662, 'model': ARIMA(order=(5, 1, 3), scoring_args={}, suppress_warnings=True,\n",
      "      with_intercept=False)}, 'ExponentialSmoothing': {'rmsse': 0.727245750391462, 'model': <statsmodels.tsa.holtwinters.results.HoltWintersResultsWrapper object at 0x7f7142b316f0>}, 'Prophet': {'rmsse': 0.6103529895592887, 'model': <prophet.forecaster.Prophet object at 0x7f7142b9d420>}, 'LightGBM': {'rmsse': 1.2885572755032377, 'model': <lightgbm.basic.Booster object at 0x7f7203ed73d0>}, 'RandomForest': {'rmsse': 0.7583602550790208, 'model': RandomForestRegressor(random_state=42)}, 'DartsTFT': {'rmsse': 8.876399870841734, 'model': TFTModel(output_chunk_shift=0, hidden_size=16, lstm_layers=2, num_attention_heads=4, full_attention=False, feed_forward=GatedResidualNetwork, dropout=0.2, hidden_continuous_size=8, categorical_embedding_sizes=None, add_relative_index=False, loss_fn=None, likelihood=None, norm_type=LayerNorm, use_static_covariates=True, input_chunk_length=56, output_chunk_length=28, pl_trainer_kwargs={'callbacks': [<pytorch_lightning.callbacks.early_stopping.EarlyStopping object at 0x7f71b31cbb80>], 'accelerator': 'cpu', 'logger': <pytorch_lightning.loggers.csv_logs.CSVLogger object at 0x7f72042a1b70>}, batch_size=16, torch_metrics=MeanAbsoluteError(), n_epochs=50)}}\n",
      "Model results for FOODS_3_226_WI_1_validation\n",
      "Best model: Prophet\n",
      "Best score: 0.6103529895592887\n",
      "Analyzing product: FOODS_3_555_TX_3_validation\n"
     ]
    },
    {
     "name": "stderr",
     "output_type": "stream",
     "text": [
      "[I 2024-05-15 20:51:40,018] A new study created in memory with name: no-name-1ba15639-a72b-46c3-bb03-9bf447e49d06\n"
     ]
    },
    {
     "name": "stdout",
     "output_type": "stream",
     "text": [
      "Optimizing hyperparameters for product: FOODS_3_555_TX_3_validation\n"
     ]
    },
    {
     "name": "stderr",
     "output_type": "stream",
     "text": [
      "[I 2024-05-15 20:51:40,694] Trial 0 finished with value: 0.5457230901804208 and parameters: {'trend': 'add', 'seasonal': None, 'seasonal_periods': None}. Best is trial 0 with value: 0.5457230901804208.\n",
      "[I 2024-05-15 20:51:40,740] Trial 3 finished with value: 0.5457230901804208 and parameters: {'trend': 'add', 'seasonal': None, 'seasonal_periods': 12}. Best is trial 0 with value: 0.5457230901804208.\n",
      "[I 2024-05-15 20:51:40,878] Trial 2 finished with value: 0.5457230901804208 and parameters: {'trend': 'add', 'seasonal': None, 'seasonal_periods': 7}. Best is trial 0 with value: 0.5457230901804208.\n",
      "[I 2024-05-15 20:51:40,902] Trial 5 finished with value: 0.5457230901804208 and parameters: {'trend': 'add', 'seasonal': None, 'seasonal_periods': 7}. Best is trial 0 with value: 0.5457230901804208.\n",
      "[I 2024-05-15 20:51:40,935] Trial 4 finished with value: 0.5457230901804208 and parameters: {'trend': 'add', 'seasonal': None, 'seasonal_periods': 12}. Best is trial 0 with value: 0.5457230901804208.\n",
      "[I 2024-05-15 20:51:40,940] Trial 6 finished with value: 0.5457230901804208 and parameters: {'trend': 'add', 'seasonal': None, 'seasonal_periods': 7}. Best is trial 0 with value: 0.5457230901804208.\n",
      "[I 2024-05-15 20:51:40,957] Trial 7 finished with value: 0.5457230901804208 and parameters: {'trend': 'add', 'seasonal': None, 'seasonal_periods': 7}. Best is trial 0 with value: 0.5457230901804208.\n",
      "[I 2024-05-15 20:51:41,053] Trial 9 finished with value: 0.5457230901804208 and parameters: {'trend': 'add', 'seasonal': None, 'seasonal_periods': 7}. Best is trial 0 with value: 0.5457230901804208.\n",
      "[I 2024-05-15 20:51:41,098] Trial 1 finished with value: 0.5556670088688814 and parameters: {'trend': 'add', 'seasonal': 'add', 'seasonal_periods': 4}. Best is trial 0 with value: 0.5457230901804208.\n",
      "[I 2024-05-15 20:51:41,276] Trial 8 finished with value: 0.45967629072569377 and parameters: {'trend': 'add', 'seasonal': 'add', 'seasonal_periods': 7}. Best is trial 8 with value: 0.45967629072569377.\n",
      "/opt/conda/lib/python3.10/site-packages/statsmodels/tsa/base/tsa_model.py:473: ValueWarning: No frequency information was provided, so inferred frequency D will be used.\n",
      "  self._init_dates(dates, freq)\n",
      "[I 2024-05-15 20:51:41,558] A new study created in memory with name: no-name-4233399a-b0ec-4372-bdb3-86bf5d518220\n"
     ]
    },
    {
     "name": "stdout",
     "output_type": "stream",
     "text": [
      "Optimizing hyperparameters for product: FOODS_3_555_TX_3_validation\n"
     ]
    },
    {
     "name": "stderr",
     "output_type": "stream",
     "text": [
      "[I 2024-05-15 20:51:42,478] Trial 1 finished with value: 0.815967728292738 and parameters: {'trend': 'add', 'seasonal': None, 'seasonal_periods': 7}. Best is trial 1 with value: 0.815967728292738.\n",
      "[I 2024-05-15 20:51:42,608] Trial 4 finished with value: 0.815967728292738 and parameters: {'trend': 'add', 'seasonal': None, 'seasonal_periods': 4}. Best is trial 1 with value: 0.815967728292738.\n",
      "[I 2024-05-15 20:51:42,623] Trial 6 finished with value: 0.815967728292738 and parameters: {'trend': 'add', 'seasonal': None, 'seasonal_periods': 12}. Best is trial 1 with value: 0.815967728292738.\n",
      "[I 2024-05-15 20:51:42,623] Trial 2 finished with value: 0.815967728292738 and parameters: {'trend': 'add', 'seasonal': None, 'seasonal_periods': 7}. Best is trial 1 with value: 0.815967728292738.\n",
      "[I 2024-05-15 20:51:42,708] Trial 9 finished with value: 0.815967728292738 and parameters: {'trend': 'add', 'seasonal': None, 'seasonal_periods': 7}. Best is trial 1 with value: 0.815967728292738.\n",
      "[I 2024-05-15 20:51:42,760] Trial 7 finished with value: 0.815967728292738 and parameters: {'trend': 'add', 'seasonal': None, 'seasonal_periods': 12}. Best is trial 1 with value: 0.815967728292738.\n",
      "[I 2024-05-15 20:51:42,814] Trial 5 finished with value: 0.815967728292738 and parameters: {'trend': 'add', 'seasonal': None, 'seasonal_periods': 12}. Best is trial 1 with value: 0.815967728292738.\n",
      "[I 2024-05-15 20:51:42,945] Trial 8 finished with value: 0.8376653402807765 and parameters: {'trend': 'add', 'seasonal': 'add', 'seasonal_periods': 4}. Best is trial 1 with value: 0.815967728292738.\n",
      "[I 2024-05-15 20:51:42,975] Trial 0 finished with value: 0.8376653402807765 and parameters: {'trend': 'add', 'seasonal': 'add', 'seasonal_periods': 4}. Best is trial 1 with value: 0.815967728292738.\n",
      "[I 2024-05-15 20:51:43,015] Trial 3 finished with value: 0.7719777739924057 and parameters: {'trend': 'add', 'seasonal': 'add', 'seasonal_periods': None}. Best is trial 3 with value: 0.7719777739924057.\n",
      "/opt/conda/lib/python3.10/site-packages/statsmodels/tsa/base/tsa_model.py:473: ValueWarning: No frequency information was provided, so inferred frequency D will be used.\n",
      "  self._init_dates(dates, freq)\n",
      "[I 2024-05-15 20:51:43,267] A new study created in memory with name: no-name-43ac4796-28ff-4438-8ea7-cce4fb62949f\n"
     ]
    },
    {
     "name": "stdout",
     "output_type": "stream",
     "text": [
      "Optimizing hyperparameters for product: FOODS_3_555_TX_3_validation\n"
     ]
    },
    {
     "name": "stderr",
     "output_type": "stream",
     "text": [
      "[I 2024-05-15 20:51:43,531] Trial 1 finished with value: 0.7488825712914168 and parameters: {'trend': 'add', 'seasonal': None, 'seasonal_periods': 12}. Best is trial 1 with value: 0.7488825712914168.\n",
      "[I 2024-05-15 20:51:43,613] Trial 0 finished with value: 0.7488825712914168 and parameters: {'trend': 'add', 'seasonal': None, 'seasonal_periods': 12}. Best is trial 1 with value: 0.7488825712914168.\n",
      "[I 2024-05-15 20:51:43,827] Trial 3 finished with value: 0.7488825712914168 and parameters: {'trend': 'add', 'seasonal': None, 'seasonal_periods': 12}. Best is trial 1 with value: 0.7488825712914168.\n",
      "[I 2024-05-15 20:51:44,224] Trial 2 finished with value: 0.7488825712914168 and parameters: {'trend': 'add', 'seasonal': None, 'seasonal_periods': 4}. Best is trial 1 with value: 0.7488825712914168.\n",
      "[I 2024-05-15 20:51:44,378] Trial 8 finished with value: 0.7488825712914168 and parameters: {'trend': 'add', 'seasonal': None, 'seasonal_periods': 4}. Best is trial 1 with value: 0.7488825712914168.\n",
      "[I 2024-05-15 20:51:44,540] Trial 9 finished with value: 0.7488825712914168 and parameters: {'trend': 'add', 'seasonal': None, 'seasonal_periods': 12}. Best is trial 1 with value: 0.7488825712914168.\n",
      "[I 2024-05-15 20:51:44,765] Trial 4 finished with value: 0.7310959411576547 and parameters: {'trend': 'add', 'seasonal': 'add', 'seasonal_periods': 12}. Best is trial 4 with value: 0.7310959411576547.\n",
      "[I 2024-05-15 20:51:44,907] Trial 6 finished with value: 0.696535765986629 and parameters: {'trend': 'add', 'seasonal': 'add', 'seasonal_periods': None}. Best is trial 6 with value: 0.696535765986629.\n",
      "[I 2024-05-15 20:51:44,919] Trial 7 finished with value: 0.696535765986629 and parameters: {'trend': 'add', 'seasonal': 'add', 'seasonal_periods': 7}. Best is trial 6 with value: 0.696535765986629.\n",
      "[I 2024-05-15 20:51:44,957] Trial 5 finished with value: 0.696535765986629 and parameters: {'trend': 'add', 'seasonal': 'add', 'seasonal_periods': None}. Best is trial 6 with value: 0.696535765986629.\n",
      "/opt/conda/lib/python3.10/site-packages/statsmodels/tsa/base/tsa_model.py:473: ValueWarning: No frequency information was provided, so inferred frequency D will be used.\n",
      "  self._init_dates(dates, freq)\n",
      "[I 2024-05-15 20:51:45,218] A new study created in memory with name: no-name-61bcd20b-1333-4cf4-81af-647d3cd9ed5a\n"
     ]
    },
    {
     "name": "stdout",
     "output_type": "stream",
     "text": [
      "Optimizing hyperparameters for product: FOODS_3_555_TX_3_validation\n"
     ]
    },
    {
     "name": "stderr",
     "output_type": "stream",
     "text": [
      "[I 2024-05-15 20:51:46,088] Trial 1 finished with value: 0.6449604516060169 and parameters: {'trend': 'add', 'seasonal': None, 'seasonal_periods': 4}. Best is trial 1 with value: 0.6449604516060169.\n",
      "[I 2024-05-15 20:51:46,168] Trial 2 finished with value: 0.6449604516060169 and parameters: {'trend': 'add', 'seasonal': None, 'seasonal_periods': 12}. Best is trial 1 with value: 0.6449604516060169.\n",
      "[I 2024-05-15 20:51:46,382] Trial 6 finished with value: 0.6449604516060169 and parameters: {'trend': 'add', 'seasonal': None, 'seasonal_periods': 7}. Best is trial 1 with value: 0.6449604516060169.\n",
      "[I 2024-05-15 20:51:46,450] Trial 5 finished with value: 0.6449604516060169 and parameters: {'trend': 'add', 'seasonal': None, 'seasonal_periods': 4}. Best is trial 1 with value: 0.6449604516060169.\n",
      "[I 2024-05-15 20:51:46,485] Trial 8 finished with value: 0.6449604516060169 and parameters: {'trend': 'add', 'seasonal': None, 'seasonal_periods': 12}. Best is trial 1 with value: 0.6449604516060169.\n",
      "[I 2024-05-15 20:51:46,517] Trial 9 finished with value: 0.6449604516060169 and parameters: {'trend': 'add', 'seasonal': None, 'seasonal_periods': 12}. Best is trial 1 with value: 0.6449604516060169.\n",
      "[I 2024-05-15 20:51:46,538] Trial 0 finished with value: 0.6062705370568897 and parameters: {'trend': 'add', 'seasonal': 'add', 'seasonal_periods': 12}. Best is trial 0 with value: 0.6062705370568897.\n",
      "[I 2024-05-15 20:51:46,765] Trial 4 finished with value: 0.6262234927459354 and parameters: {'trend': 'add', 'seasonal': 'add', 'seasonal_periods': 4}. Best is trial 0 with value: 0.6062705370568897.\n",
      "[I 2024-05-15 20:51:46,772] Trial 3 finished with value: 0.6262234927459354 and parameters: {'trend': 'add', 'seasonal': 'add', 'seasonal_periods': 4}. Best is trial 0 with value: 0.6062705370568897.\n",
      "[I 2024-05-15 20:51:46,810] Trial 7 finished with value: 0.6062705370568897 and parameters: {'trend': 'add', 'seasonal': 'add', 'seasonal_periods': 12}. Best is trial 0 with value: 0.6062705370568897.\n",
      "/opt/conda/lib/python3.10/site-packages/statsmodels/tsa/base/tsa_model.py:473: ValueWarning: No frequency information was provided, so inferred frequency D will be used.\n",
      "  self._init_dates(dates, freq)\n",
      "[I 2024-05-15 20:51:47,047] A new study created in memory with name: no-name-af86800d-15e3-4e7e-a82e-8ac248de2669\n"
     ]
    },
    {
     "name": "stdout",
     "output_type": "stream",
     "text": [
      "Optimizing hyperparameters for product: FOODS_3_555_TX_3_validation\n"
     ]
    },
    {
     "name": "stderr",
     "output_type": "stream",
     "text": [
      "[I 2024-05-15 20:51:47,777] Trial 1 finished with value: 0.777814223685084 and parameters: {'trend': 'add', 'seasonal': None, 'seasonal_periods': 4}. Best is trial 1 with value: 0.777814223685084.\n",
      "[I 2024-05-15 20:51:47,800] Trial 5 finished with value: 0.777814223685084 and parameters: {'trend': 'add', 'seasonal': None, 'seasonal_periods': 12}. Best is trial 1 with value: 0.777814223685084.\n",
      "[I 2024-05-15 20:51:48,030] Trial 8 finished with value: 0.777814223685084 and parameters: {'trend': 'add', 'seasonal': None, 'seasonal_periods': None}. Best is trial 1 with value: 0.777814223685084.\n",
      "[I 2024-05-15 20:51:48,053] Trial 4 finished with value: 0.777814223685084 and parameters: {'trend': 'add', 'seasonal': None, 'seasonal_periods': 7}. Best is trial 1 with value: 0.777814223685084.\n",
      "[I 2024-05-15 20:51:48,209] Trial 6 finished with value: 0.777814223685084 and parameters: {'trend': 'add', 'seasonal': None, 'seasonal_periods': 4}. Best is trial 1 with value: 0.777814223685084.\n",
      "[I 2024-05-15 20:51:48,215] Trial 3 finished with value: 0.777814223685084 and parameters: {'trend': 'add', 'seasonal': None, 'seasonal_periods': 4}. Best is trial 1 with value: 0.777814223685084.\n",
      "[I 2024-05-15 20:51:48,569] Trial 0 finished with value: 0.8195946136155947 and parameters: {'trend': 'add', 'seasonal': 'add', 'seasonal_periods': None}. Best is trial 1 with value: 0.777814223685084.\n",
      "[I 2024-05-15 20:51:48,589] Trial 7 finished with value: 0.7765574384514555 and parameters: {'trend': 'add', 'seasonal': 'add', 'seasonal_periods': 12}. Best is trial 7 with value: 0.7765574384514555.\n",
      "[I 2024-05-15 20:51:48,658] Trial 9 finished with value: 0.8195946136155947 and parameters: {'trend': 'add', 'seasonal': 'add', 'seasonal_periods': 7}. Best is trial 7 with value: 0.7765574384514555.\n",
      "[I 2024-05-15 20:51:48,677] Trial 2 finished with value: 0.8195946136155947 and parameters: {'trend': 'add', 'seasonal': 'add', 'seasonal_periods': 7}. Best is trial 7 with value: 0.7765574384514555.\n",
      "/opt/conda/lib/python3.10/site-packages/statsmodels/tsa/base/tsa_model.py:473: ValueWarning: No frequency information was provided, so inferred frequency D will be used.\n",
      "  self._init_dates(dates, freq)\n",
      "/var/tmp/ipykernel_1903582/1261245201.py:12: SettingWithCopyWarning: \n",
      "A value is trying to be set on a copy of a slice from a DataFrame.\n",
      "Try using .loc[row_indexer,col_indexer] = value instead\n",
      "\n",
      "See the caveats in the documentation: https://pandas.pydata.org/pandas-docs/stable/user_guide/indexing.html#returning-a-view-versus-a-copy\n",
      "  prophet_data_train['ds'] = pd.to_datetime(prophet_data_train['ds'])\n",
      "/var/tmp/ipykernel_1903582/1261245201.py:13: SettingWithCopyWarning: \n",
      "A value is trying to be set on a copy of a slice from a DataFrame.\n",
      "Try using .loc[row_indexer,col_indexer] = value instead\n",
      "\n",
      "See the caveats in the documentation: https://pandas.pydata.org/pandas-docs/stable/user_guide/indexing.html#returning-a-view-versus-a-copy\n",
      "  prophet_data_test['ds'] = pd.to_datetime(prophet_data_test['ds'])\n",
      "20:51:49 - cmdstanpy - INFO - Chain [1] start processing\n",
      "20:51:49 - cmdstanpy - INFO - Chain [1] done processing\n",
      "/var/tmp/ipykernel_1903582/1261245201.py:12: SettingWithCopyWarning: \n",
      "A value is trying to be set on a copy of a slice from a DataFrame.\n",
      "Try using .loc[row_indexer,col_indexer] = value instead\n",
      "\n",
      "See the caveats in the documentation: https://pandas.pydata.org/pandas-docs/stable/user_guide/indexing.html#returning-a-view-versus-a-copy\n",
      "  prophet_data_train['ds'] = pd.to_datetime(prophet_data_train['ds'])\n",
      "/var/tmp/ipykernel_1903582/1261245201.py:13: SettingWithCopyWarning: \n",
      "A value is trying to be set on a copy of a slice from a DataFrame.\n",
      "Try using .loc[row_indexer,col_indexer] = value instead\n",
      "\n",
      "See the caveats in the documentation: https://pandas.pydata.org/pandas-docs/stable/user_guide/indexing.html#returning-a-view-versus-a-copy\n",
      "  prophet_data_test['ds'] = pd.to_datetime(prophet_data_test['ds'])\n",
      "20:51:49 - cmdstanpy - INFO - Chain [1] start processing\n",
      "20:51:49 - cmdstanpy - INFO - Chain [1] done processing\n",
      "/var/tmp/ipykernel_1903582/1261245201.py:12: SettingWithCopyWarning: \n",
      "A value is trying to be set on a copy of a slice from a DataFrame.\n",
      "Try using .loc[row_indexer,col_indexer] = value instead\n",
      "\n",
      "See the caveats in the documentation: https://pandas.pydata.org/pandas-docs/stable/user_guide/indexing.html#returning-a-view-versus-a-copy\n",
      "  prophet_data_train['ds'] = pd.to_datetime(prophet_data_train['ds'])\n",
      "/var/tmp/ipykernel_1903582/1261245201.py:13: SettingWithCopyWarning: \n",
      "A value is trying to be set on a copy of a slice from a DataFrame.\n",
      "Try using .loc[row_indexer,col_indexer] = value instead\n",
      "\n",
      "See the caveats in the documentation: https://pandas.pydata.org/pandas-docs/stable/user_guide/indexing.html#returning-a-view-versus-a-copy\n",
      "  prophet_data_test['ds'] = pd.to_datetime(prophet_data_test['ds'])\n",
      "20:51:49 - cmdstanpy - INFO - Chain [1] start processing\n",
      "20:51:49 - cmdstanpy - INFO - Chain [1] done processing\n",
      "/var/tmp/ipykernel_1903582/1261245201.py:12: SettingWithCopyWarning: \n",
      "A value is trying to be set on a copy of a slice from a DataFrame.\n",
      "Try using .loc[row_indexer,col_indexer] = value instead\n",
      "\n",
      "See the caveats in the documentation: https://pandas.pydata.org/pandas-docs/stable/user_guide/indexing.html#returning-a-view-versus-a-copy\n",
      "  prophet_data_train['ds'] = pd.to_datetime(prophet_data_train['ds'])\n",
      "/var/tmp/ipykernel_1903582/1261245201.py:13: SettingWithCopyWarning: \n",
      "A value is trying to be set on a copy of a slice from a DataFrame.\n",
      "Try using .loc[row_indexer,col_indexer] = value instead\n",
      "\n",
      "See the caveats in the documentation: https://pandas.pydata.org/pandas-docs/stable/user_guide/indexing.html#returning-a-view-versus-a-copy\n",
      "  prophet_data_test['ds'] = pd.to_datetime(prophet_data_test['ds'])\n",
      "20:51:49 - cmdstanpy - INFO - Chain [1] start processing\n",
      "20:51:49 - cmdstanpy - INFO - Chain [1] done processing\n",
      "/var/tmp/ipykernel_1903582/1261245201.py:12: SettingWithCopyWarning: \n",
      "A value is trying to be set on a copy of a slice from a DataFrame.\n",
      "Try using .loc[row_indexer,col_indexer] = value instead\n",
      "\n",
      "See the caveats in the documentation: https://pandas.pydata.org/pandas-docs/stable/user_guide/indexing.html#returning-a-view-versus-a-copy\n",
      "  prophet_data_train['ds'] = pd.to_datetime(prophet_data_train['ds'])\n",
      "/var/tmp/ipykernel_1903582/1261245201.py:13: SettingWithCopyWarning: \n",
      "A value is trying to be set on a copy of a slice from a DataFrame.\n",
      "Try using .loc[row_indexer,col_indexer] = value instead\n",
      "\n",
      "See the caveats in the documentation: https://pandas.pydata.org/pandas-docs/stable/user_guide/indexing.html#returning-a-view-versus-a-copy\n",
      "  prophet_data_test['ds'] = pd.to_datetime(prophet_data_test['ds'])\n",
      "20:51:50 - cmdstanpy - INFO - Chain [1] start processing\n",
      "20:51:50 - cmdstanpy - INFO - Chain [1] done processing\n",
      "/opt/conda/lib/python3.10/site-packages/lightgbm/engine.py:172: UserWarning: Found `n_estimators` in params. Will use it instead of argument\n",
      "  _log_warning(f\"Found `{alias}` in params. Will use it instead of argument\")\n"
     ]
    },
    {
     "name": "stdout",
     "output_type": "stream",
     "text": [
      "Training until validation scores don't improve for 50 rounds\n",
      "Did not meet early stopping. Best iteration is:\n",
      "[1000]\tvalid_0's rmse: 8.85103\n",
      "Training until validation scores don't improve for 50 rounds\n"
     ]
    },
    {
     "name": "stderr",
     "output_type": "stream",
     "text": [
      "/opt/conda/lib/python3.10/site-packages/lightgbm/engine.py:172: UserWarning: Found `n_estimators` in params. Will use it instead of argument\n",
      "  _log_warning(f\"Found `{alias}` in params. Will use it instead of argument\")\n"
     ]
    },
    {
     "name": "stdout",
     "output_type": "stream",
     "text": [
      "Did not meet early stopping. Best iteration is:\n",
      "[1000]\tvalid_0's rmse: 8.14569\n",
      "Training until validation scores don't improve for 50 rounds\n"
     ]
    },
    {
     "name": "stderr",
     "output_type": "stream",
     "text": [
      "/opt/conda/lib/python3.10/site-packages/lightgbm/engine.py:172: UserWarning: Found `n_estimators` in params. Will use it instead of argument\n",
      "  _log_warning(f\"Found `{alias}` in params. Will use it instead of argument\")\n"
     ]
    },
    {
     "name": "stdout",
     "output_type": "stream",
     "text": [
      "Did not meet early stopping. Best iteration is:\n",
      "[1000]\tvalid_0's rmse: 6.46593\n",
      "Training until validation scores don't improve for 50 rounds\n"
     ]
    },
    {
     "name": "stderr",
     "output_type": "stream",
     "text": [
      "/opt/conda/lib/python3.10/site-packages/lightgbm/engine.py:172: UserWarning: Found `n_estimators` in params. Will use it instead of argument\n",
      "  _log_warning(f\"Found `{alias}` in params. Will use it instead of argument\")\n"
     ]
    },
    {
     "name": "stdout",
     "output_type": "stream",
     "text": [
      "Did not meet early stopping. Best iteration is:\n",
      "[1000]\tvalid_0's rmse: 10.9889\n",
      "Training until validation scores don't improve for 50 rounds\n"
     ]
    },
    {
     "name": "stderr",
     "output_type": "stream",
     "text": [
      "/opt/conda/lib/python3.10/site-packages/lightgbm/engine.py:172: UserWarning: Found `n_estimators` in params. Will use it instead of argument\n",
      "  _log_warning(f\"Found `{alias}` in params. Will use it instead of argument\")\n"
     ]
    },
    {
     "name": "stdout",
     "output_type": "stream",
     "text": [
      "Early stopping, best iteration is:\n",
      "[200]\tvalid_0's rmse: 11.1852\n"
     ]
    },
    {
     "name": "stderr",
     "output_type": "stream",
     "text": [
      "GPU available: False, used: False\n",
      "TPU available: False, using: 0 TPU cores\n",
      "IPU available: False, using: 0 IPUs\n",
      "HPU available: False, using: 0 HPUs\n",
      "Missing logger folder: logs/tft_logs\n",
      "\n",
      "   | Name                              | Type                             | Params\n",
      "----------------------------------------------------------------------------------------\n",
      "0  | train_metrics                     | MetricCollection                 | 0     \n",
      "1  | val_metrics                       | MetricCollection                 | 0     \n",
      "2  | input_embeddings                  | _MultiEmbedding                  | 0     \n",
      "3  | static_covariates_vsn             | _VariableSelectionNetwork        | 0     \n",
      "4  | encoder_vsn                       | _VariableSelectionNetwork        | 93.0 K\n",
      "5  | decoder_vsn                       | _VariableSelectionNetwork        | 46.4 K\n",
      "6  | static_context_grn                | _GatedResidualNetwork            | 1.1 K \n",
      "7  | static_context_hidden_encoder_grn | _GatedResidualNetwork            | 1.1 K \n",
      "8  | static_context_cell_encoder_grn   | _GatedResidualNetwork            | 1.1 K \n",
      "9  | static_context_enrichment         | _GatedResidualNetwork            | 1.1 K \n",
      "10 | lstm_encoder                      | LSTM                             | 4.4 K \n",
      "11 | lstm_decoder                      | LSTM                             | 4.4 K \n",
      "12 | post_lstm_gan                     | _GateAddNorm                     | 576   \n",
      "13 | static_enrichment_grn             | _GatedResidualNetwork            | 1.4 K \n",
      "14 | multihead_attn                    | _InterpretableMultiHeadAttention | 676   \n",
      "15 | post_attn_gan                     | _GateAddNorm                     | 576   \n",
      "16 | feed_forward_block                | _GatedResidualNetwork            | 1.1 K \n",
      "17 | pre_output_gan                    | _GateAddNorm                     | 576   \n",
      "18 | output_layer                      | Linear                           | 289   \n",
      "----------------------------------------------------------------------------------------\n",
      "156 K     Trainable params\n",
      "0         Non-trainable params\n",
      "156 K     Total params\n",
      "0.627     Total estimated model params size (MB)\n"
     ]
    },
    {
     "data": {
      "application/vnd.jupyter.widget-view+json": {
       "model_id": "c1fe0ec51fa04100b261ab511b1a2869",
       "version_major": 2,
       "version_minor": 0
      },
      "text/plain": [
       "Sanity Checking: |          | 0/? [00:00<?, ?it/s]"
      ]
     },
     "metadata": {},
     "output_type": "display_data"
    },
    {
     "data": {
      "application/vnd.jupyter.widget-view+json": {
       "model_id": "75050dc818be426f84ed7b43e476c28b",
       "version_major": 2,
       "version_minor": 0
      },
      "text/plain": [
       "Training: |          | 0/? [00:00<?, ?it/s]"
      ]
     },
     "metadata": {},
     "output_type": "display_data"
    },
    {
     "data": {
      "application/vnd.jupyter.widget-view+json": {
       "model_id": "52d42d421c5445a6b4003e929de7c671",
       "version_major": 2,
       "version_minor": 0
      },
      "text/plain": [
       "Validation: |          | 0/? [00:00<?, ?it/s]"
      ]
     },
     "metadata": {},
     "output_type": "display_data"
    },
    {
     "data": {
      "application/vnd.jupyter.widget-view+json": {
       "model_id": "c3d423d845bc41e0a2b4d60d413d76bc",
       "version_major": 2,
       "version_minor": 0
      },
      "text/plain": [
       "Validation: |          | 0/? [00:00<?, ?it/s]"
      ]
     },
     "metadata": {},
     "output_type": "display_data"
    },
    {
     "data": {
      "application/vnd.jupyter.widget-view+json": {
       "model_id": "77ebf38407404fa185f3c40fbcf19223",
       "version_major": 2,
       "version_minor": 0
      },
      "text/plain": [
       "Validation: |          | 0/? [00:00<?, ?it/s]"
      ]
     },
     "metadata": {},
     "output_type": "display_data"
    },
    {
     "data": {
      "application/vnd.jupyter.widget-view+json": {
       "model_id": "7d733710a8ae446398f2d18241ad92f8",
       "version_major": 2,
       "version_minor": 0
      },
      "text/plain": [
       "Validation: |          | 0/? [00:00<?, ?it/s]"
      ]
     },
     "metadata": {},
     "output_type": "display_data"
    },
    {
     "data": {
      "application/vnd.jupyter.widget-view+json": {
       "model_id": "16360e79f82a4df4ad0a8a0e826dff9f",
       "version_major": 2,
       "version_minor": 0
      },
      "text/plain": [
       "Validation: |          | 0/? [00:00<?, ?it/s]"
      ]
     },
     "metadata": {},
     "output_type": "display_data"
    },
    {
     "data": {
      "application/vnd.jupyter.widget-view+json": {
       "model_id": "207d90b8e1b249968cda97837c92b6ea",
       "version_major": 2,
       "version_minor": 0
      },
      "text/plain": [
       "Validation: |          | 0/? [00:00<?, ?it/s]"
      ]
     },
     "metadata": {},
     "output_type": "display_data"
    },
    {
     "data": {
      "application/vnd.jupyter.widget-view+json": {
       "model_id": "7c9a60948e8e4c9e8d2abe20b00224ea",
       "version_major": 2,
       "version_minor": 0
      },
      "text/plain": [
       "Validation: |          | 0/? [00:00<?, ?it/s]"
      ]
     },
     "metadata": {},
     "output_type": "display_data"
    },
    {
     "data": {
      "application/vnd.jupyter.widget-view+json": {
       "model_id": "53533b326d934ebfb1e7229996b11e79",
       "version_major": 2,
       "version_minor": 0
      },
      "text/plain": [
       "Validation: |          | 0/? [00:00<?, ?it/s]"
      ]
     },
     "metadata": {},
     "output_type": "display_data"
    },
    {
     "data": {
      "application/vnd.jupyter.widget-view+json": {
       "model_id": "b4b5b5685c7b4e1299651bd2faa8cf4f",
       "version_major": 2,
       "version_minor": 0
      },
      "text/plain": [
       "Validation: |          | 0/? [00:00<?, ?it/s]"
      ]
     },
     "metadata": {},
     "output_type": "display_data"
    },
    {
     "data": {
      "application/vnd.jupyter.widget-view+json": {
       "model_id": "3d3d82d16b7848b28e4281d96cf957c1",
       "version_major": 2,
       "version_minor": 0
      },
      "text/plain": [
       "Validation: |          | 0/? [00:00<?, ?it/s]"
      ]
     },
     "metadata": {},
     "output_type": "display_data"
    },
    {
     "data": {
      "application/vnd.jupyter.widget-view+json": {
       "model_id": "9a3d661cd81845778e2505484a9a1601",
       "version_major": 2,
       "version_minor": 0
      },
      "text/plain": [
       "Validation: |          | 0/? [00:00<?, ?it/s]"
      ]
     },
     "metadata": {},
     "output_type": "display_data"
    },
    {
     "data": {
      "application/vnd.jupyter.widget-view+json": {
       "model_id": "480bff8b0a8244bd8d23c9e231ff1f24",
       "version_major": 2,
       "version_minor": 0
      },
      "text/plain": [
       "Validation: |          | 0/? [00:00<?, ?it/s]"
      ]
     },
     "metadata": {},
     "output_type": "display_data"
    },
    {
     "data": {
      "application/vnd.jupyter.widget-view+json": {
       "model_id": "1123a206350e484a9f615d9e917d4754",
       "version_major": 2,
       "version_minor": 0
      },
      "text/plain": [
       "Validation: |          | 0/? [00:00<?, ?it/s]"
      ]
     },
     "metadata": {},
     "output_type": "display_data"
    },
    {
     "name": "stdout",
     "output_type": "stream",
     "text": [
      "{'ARIMA': {'rmsse': 0.6929372091210865, 'model': ARIMA(order=(5, 1, 3), scoring_args={}, suppress_warnings=True,\n",
      "      with_intercept=False)}, 'ExponentialSmoothing': {'rmsse': 0.6622035612426148, 'model': <statsmodels.tsa.holtwinters.results.HoltWintersResultsWrapper object at 0x7f7203d10400>}, 'Prophet': {'rmsse': 0.6925056295119111, 'model': <prophet.forecaster.Prophet object at 0x7f714337f010>}, 'LightGBM': {'rmsse': 0.9752364974142198, 'model': <lightgbm.basic.Booster object at 0x7f71e0115ed0>}, 'RandomForest': {'rmsse': 0.7017995028378701, 'model': RandomForestRegressor(random_state=42)}, 'DartsTFT': {'rmsse': 10.214320521200856, 'model': TFTModel(output_chunk_shift=0, hidden_size=16, lstm_layers=2, num_attention_heads=4, full_attention=False, feed_forward=GatedResidualNetwork, dropout=0.2, hidden_continuous_size=8, categorical_embedding_sizes=None, add_relative_index=False, loss_fn=None, likelihood=None, norm_type=LayerNorm, use_static_covariates=True, input_chunk_length=56, output_chunk_length=28, pl_trainer_kwargs={'callbacks': [<pytorch_lightning.callbacks.early_stopping.EarlyStopping object at 0x7f7201e77280>], 'accelerator': 'cpu', 'logger': <pytorch_lightning.loggers.csv_logs.CSVLogger object at 0x7f7201e75120>}, batch_size=16, torch_metrics=MeanAbsoluteError(), n_epochs=50)}}\n",
      "Model results for FOODS_3_555_TX_3_validation\n",
      "Best model: ExponentialSmoothing\n",
      "Best score: 0.6622035612426148\n",
      "Analyzing product: FOODS_3_252_CA_1_validation\n"
     ]
    },
    {
     "name": "stderr",
     "output_type": "stream",
     "text": [
      "[I 2024-05-15 21:08:22,309] A new study created in memory with name: no-name-3990189c-38c3-401f-8a17-1c211d013c0e\n"
     ]
    },
    {
     "name": "stdout",
     "output_type": "stream",
     "text": [
      "Optimizing hyperparameters for product: FOODS_3_252_CA_1_validation\n"
     ]
    },
    {
     "name": "stderr",
     "output_type": "stream",
     "text": [
      "[I 2024-05-15 21:08:22,596] Trial 3 finished with value: 0.7183212615311594 and parameters: {'trend': 'add', 'seasonal': None, 'seasonal_periods': 4}. Best is trial 3 with value: 0.7183212615311594.\n",
      "[I 2024-05-15 21:08:22,675] Trial 1 finished with value: 0.7183212615311594 and parameters: {'trend': 'add', 'seasonal': None, 'seasonal_periods': None}. Best is trial 3 with value: 0.7183212615311594.\n",
      "[I 2024-05-15 21:08:22,675] Trial 0 finished with value: 0.7183212615311594 and parameters: {'trend': 'add', 'seasonal': None, 'seasonal_periods': 7}. Best is trial 3 with value: 0.7183212615311594.\n",
      "[I 2024-05-15 21:08:22,718] Trial 2 finished with value: 0.7183212615311594 and parameters: {'trend': 'add', 'seasonal': None, 'seasonal_periods': 4}. Best is trial 3 with value: 0.7183212615311594.\n",
      "[I 2024-05-15 21:08:23,020] Trial 5 finished with value: 0.7183212615311594 and parameters: {'trend': 'add', 'seasonal': None, 'seasonal_periods': 12}. Best is trial 3 with value: 0.7183212615311594.\n",
      "[I 2024-05-15 21:08:23,096] Trial 8 finished with value: 0.7183212615311594 and parameters: {'trend': 'add', 'seasonal': None, 'seasonal_periods': 7}. Best is trial 3 with value: 0.7183212615311594.\n",
      "[I 2024-05-15 21:08:23,775] Trial 4 finished with value: 0.7222587576065351 and parameters: {'trend': 'add', 'seasonal': 'add', 'seasonal_periods': 12}. Best is trial 3 with value: 0.7183212615311594.\n",
      "[I 2024-05-15 21:08:23,822] Trial 7 finished with value: 0.7222587576065351 and parameters: {'trend': 'add', 'seasonal': 'add', 'seasonal_periods': 12}. Best is trial 3 with value: 0.7183212615311594.\n",
      "[I 2024-05-15 21:08:23,873] Trial 6 finished with value: 0.7222587576065351 and parameters: {'trend': 'add', 'seasonal': 'add', 'seasonal_periods': 12}. Best is trial 3 with value: 0.7183212615311594.\n",
      "[I 2024-05-15 21:08:23,917] Trial 9 finished with value: 0.45826449944037095 and parameters: {'trend': 'add', 'seasonal': 'add', 'seasonal_periods': 7}. Best is trial 9 with value: 0.45826449944037095.\n",
      "/opt/conda/lib/python3.10/site-packages/statsmodels/tsa/base/tsa_model.py:473: ValueWarning: No frequency information was provided, so inferred frequency D will be used.\n",
      "  self._init_dates(dates, freq)\n",
      "[I 2024-05-15 21:08:24,187] A new study created in memory with name: no-name-91846716-b93c-4ee1-ad5d-f9108f274c15\n"
     ]
    },
    {
     "name": "stdout",
     "output_type": "stream",
     "text": [
      "Optimizing hyperparameters for product: FOODS_3_252_CA_1_validation\n"
     ]
    },
    {
     "name": "stderr",
     "output_type": "stream",
     "text": [
      "[I 2024-05-15 21:08:24,638] Trial 2 finished with value: 0.9345160297051849 and parameters: {'trend': 'add', 'seasonal': None, 'seasonal_periods': 7}. Best is trial 2 with value: 0.9345160297051849.\n",
      "[I 2024-05-15 21:08:24,758] Trial 4 finished with value: 0.9345160297051849 and parameters: {'trend': 'add', 'seasonal': None, 'seasonal_periods': None}. Best is trial 2 with value: 0.9345160297051849.\n",
      "[I 2024-05-15 21:08:24,909] Trial 0 finished with value: 0.9345160297051849 and parameters: {'trend': 'add', 'seasonal': None, 'seasonal_periods': 7}. Best is trial 2 with value: 0.9345160297051849.\n",
      "[I 2024-05-15 21:08:24,946] Trial 5 finished with value: 0.9345160297051849 and parameters: {'trend': 'add', 'seasonal': None, 'seasonal_periods': None}. Best is trial 2 with value: 0.9345160297051849.\n",
      "[I 2024-05-15 21:08:25,006] Trial 8 finished with value: 0.9345160297051849 and parameters: {'trend': 'add', 'seasonal': None, 'seasonal_periods': 4}. Best is trial 2 with value: 0.9345160297051849.\n",
      "[I 2024-05-15 21:08:25,133] Trial 9 finished with value: 0.9345160297051849 and parameters: {'trend': 'add', 'seasonal': None, 'seasonal_periods': 7}. Best is trial 2 with value: 0.9345160297051849.\n",
      "[I 2024-05-15 21:08:25,153] Trial 6 finished with value: 0.9345160297051849 and parameters: {'trend': 'add', 'seasonal': None, 'seasonal_periods': 7}. Best is trial 2 with value: 0.9345160297051849.\n",
      "[I 2024-05-15 21:08:25,508] Trial 1 finished with value: 0.5044455283243464 and parameters: {'trend': 'add', 'seasonal': 'add', 'seasonal_periods': 7}. Best is trial 1 with value: 0.5044455283243464.\n",
      "[I 2024-05-15 21:08:25,547] Trial 7 finished with value: 0.5044455283243464 and parameters: {'trend': 'add', 'seasonal': 'add', 'seasonal_periods': 7}. Best is trial 1 with value: 0.5044455283243464.\n",
      "[I 2024-05-15 21:08:25,555] Trial 3 finished with value: 0.8898766399832022 and parameters: {'trend': 'add', 'seasonal': 'add', 'seasonal_periods': 12}. Best is trial 1 with value: 0.5044455283243464.\n",
      "/opt/conda/lib/python3.10/site-packages/statsmodels/tsa/base/tsa_model.py:473: ValueWarning: No frequency information was provided, so inferred frequency D will be used.\n",
      "  self._init_dates(dates, freq)\n",
      "[I 2024-05-15 21:08:25,818] A new study created in memory with name: no-name-3eb5d0cd-d432-4032-b25e-2ef37b73b4d3\n",
      "[I 2024-05-15 21:08:25,974] Trial 0 finished with value: 1.002675232947059 and parameters: {'trend': 'add', 'seasonal': None, 'seasonal_periods': 12}. Best is trial 0 with value: 1.002675232947059.\n"
     ]
    },
    {
     "name": "stdout",
     "output_type": "stream",
     "text": [
      "Optimizing hyperparameters for product: FOODS_3_252_CA_1_validation\n"
     ]
    },
    {
     "name": "stderr",
     "output_type": "stream",
     "text": [
      "[I 2024-05-15 21:08:26,678] Trial 5 finished with value: 1.002675232947059 and parameters: {'trend': 'add', 'seasonal': None, 'seasonal_periods': 12}. Best is trial 0 with value: 1.002675232947059.\n",
      "[I 2024-05-15 21:08:26,746] Trial 6 finished with value: 1.002675232947059 and parameters: {'trend': 'add', 'seasonal': None, 'seasonal_periods': 7}. Best is trial 0 with value: 1.002675232947059.\n",
      "[I 2024-05-15 21:08:27,827] Trial 4 finished with value: 0.8702724093660973 and parameters: {'trend': 'add', 'seasonal': 'add', 'seasonal_periods': 12}. Best is trial 4 with value: 0.8702724093660973.\n",
      "[I 2024-05-15 21:08:27,904] Trial 1 finished with value: 0.807674685656586 and parameters: {'trend': 'add', 'seasonal': 'add', 'seasonal_periods': 7}. Best is trial 1 with value: 0.807674685656586.\n",
      "[I 2024-05-15 21:08:27,974] Trial 9 finished with value: 0.9699955106332607 and parameters: {'trend': 'add', 'seasonal': 'add', 'seasonal_periods': 4}. Best is trial 1 with value: 0.807674685656586.\n",
      "[I 2024-05-15 21:08:28,051] Trial 2 finished with value: 0.807674685656586 and parameters: {'trend': 'add', 'seasonal': 'add', 'seasonal_periods': 7}. Best is trial 1 with value: 0.807674685656586.\n",
      "[I 2024-05-15 21:08:28,059] Trial 3 finished with value: 0.807674685656586 and parameters: {'trend': 'add', 'seasonal': 'add', 'seasonal_periods': 7}. Best is trial 1 with value: 0.807674685656586.\n",
      "[I 2024-05-15 21:08:28,126] Trial 7 finished with value: 0.807674685656586 and parameters: {'trend': 'add', 'seasonal': 'add', 'seasonal_periods': 7}. Best is trial 1 with value: 0.807674685656586.\n",
      "[I 2024-05-15 21:08:28,145] Trial 8 finished with value: 0.807674685656586 and parameters: {'trend': 'add', 'seasonal': 'add', 'seasonal_periods': 7}. Best is trial 1 with value: 0.807674685656586.\n",
      "/opt/conda/lib/python3.10/site-packages/statsmodels/tsa/base/tsa_model.py:473: ValueWarning: No frequency information was provided, so inferred frequency D will be used.\n",
      "  self._init_dates(dates, freq)\n",
      "[I 2024-05-15 21:08:28,395] A new study created in memory with name: no-name-98010447-921f-4cd0-9529-c25633f5e05e\n"
     ]
    },
    {
     "name": "stdout",
     "output_type": "stream",
     "text": [
      "Optimizing hyperparameters for product: FOODS_3_252_CA_1_validation\n"
     ]
    },
    {
     "name": "stderr",
     "output_type": "stream",
     "text": [
      "[I 2024-05-15 21:08:29,104] Trial 9 finished with value: 0.7246410154317988 and parameters: {'trend': 'add', 'seasonal': None, 'seasonal_periods': 7}. Best is trial 9 with value: 0.7246410154317988.\n",
      "[I 2024-05-15 21:08:29,148] Trial 1 finished with value: 0.7246410154317988 and parameters: {'trend': 'add', 'seasonal': None, 'seasonal_periods': None}. Best is trial 9 with value: 0.7246410154317988.\n",
      "[I 2024-05-15 21:08:29,185] Trial 2 finished with value: 0.7246410154317988 and parameters: {'trend': 'add', 'seasonal': None, 'seasonal_periods': 4}. Best is trial 9 with value: 0.7246410154317988.\n",
      "[I 2024-05-15 21:08:29,198] Trial 8 finished with value: 0.7246410154317988 and parameters: {'trend': 'add', 'seasonal': None, 'seasonal_periods': 7}. Best is trial 9 with value: 0.7246410154317988.\n",
      "[I 2024-05-15 21:08:29,925] Trial 0 finished with value: 0.42082572926524187 and parameters: {'trend': 'add', 'seasonal': 'add', 'seasonal_periods': None}. Best is trial 0 with value: 0.42082572926524187.\n",
      "[I 2024-05-15 21:08:30,217] Trial 3 finished with value: 0.7773406046557251 and parameters: {'trend': 'add', 'seasonal': 'add', 'seasonal_periods': 12}. Best is trial 0 with value: 0.42082572926524187.\n",
      "[I 2024-05-15 21:08:30,290] Trial 6 finished with value: 0.42082572926524187 and parameters: {'trend': 'add', 'seasonal': 'add', 'seasonal_periods': 7}. Best is trial 0 with value: 0.42082572926524187.\n",
      "[I 2024-05-15 21:08:30,362] Trial 7 finished with value: 0.7773406046557251 and parameters: {'trend': 'add', 'seasonal': 'add', 'seasonal_periods': 12}. Best is trial 0 with value: 0.42082572926524187.\n",
      "[I 2024-05-15 21:08:30,375] Trial 5 finished with value: 0.7773406046557251 and parameters: {'trend': 'add', 'seasonal': 'add', 'seasonal_periods': 12}. Best is trial 0 with value: 0.42082572926524187.\n",
      "[I 2024-05-15 21:08:30,382] Trial 4 finished with value: 0.42082572926524187 and parameters: {'trend': 'add', 'seasonal': 'add', 'seasonal_periods': 7}. Best is trial 0 with value: 0.42082572926524187.\n",
      "/opt/conda/lib/python3.10/site-packages/statsmodels/tsa/base/tsa_model.py:473: ValueWarning: No frequency information was provided, so inferred frequency D will be used.\n",
      "  self._init_dates(dates, freq)\n",
      "[I 2024-05-15 21:08:30,628] A new study created in memory with name: no-name-eea071b8-73a0-483a-be65-09f17b6493d6\n"
     ]
    },
    {
     "name": "stdout",
     "output_type": "stream",
     "text": [
      "Optimizing hyperparameters for product: FOODS_3_252_CA_1_validation\n"
     ]
    },
    {
     "name": "stderr",
     "output_type": "stream",
     "text": [
      "[I 2024-05-15 21:08:31,170] Trial 0 finished with value: 0.7333889203337068 and parameters: {'trend': 'add', 'seasonal': None, 'seasonal_periods': None}. Best is trial 0 with value: 0.7333889203337068.\n",
      "[I 2024-05-15 21:08:31,439] Trial 2 finished with value: 0.7333889203337068 and parameters: {'trend': 'add', 'seasonal': None, 'seasonal_periods': 7}. Best is trial 0 with value: 0.7333889203337068.\n",
      "[I 2024-05-15 21:08:31,510] Trial 6 finished with value: 0.7333889203337068 and parameters: {'trend': 'add', 'seasonal': None, 'seasonal_periods': 4}. Best is trial 0 with value: 0.7333889203337068.\n",
      "[I 2024-05-15 21:08:31,713] Trial 9 finished with value: 0.7333889203337068 and parameters: {'trend': 'add', 'seasonal': None, 'seasonal_periods': 12}. Best is trial 0 with value: 0.7333889203337068.\n",
      "[I 2024-05-15 21:08:31,890] Trial 7 finished with value: 0.7333889203337068 and parameters: {'trend': 'add', 'seasonal': None, 'seasonal_periods': None}. Best is trial 0 with value: 0.7333889203337068.\n",
      "[I 2024-05-15 21:08:32,329] Trial 1 finished with value: 0.7330764442944183 and parameters: {'trend': 'add', 'seasonal': 'add', 'seasonal_periods': 12}. Best is trial 1 with value: 0.7330764442944183.\n",
      "[I 2024-05-15 21:08:32,342] Trial 4 finished with value: 0.7272390166404147 and parameters: {'trend': 'add', 'seasonal': 'add', 'seasonal_periods': 4}. Best is trial 4 with value: 0.7272390166404147.\n",
      "[I 2024-05-15 21:08:32,373] Trial 3 finished with value: 0.7297974418197896 and parameters: {'trend': 'add', 'seasonal': 'add', 'seasonal_periods': 7}. Best is trial 4 with value: 0.7272390166404147.\n",
      "[I 2024-05-15 21:08:32,420] Trial 5 finished with value: 0.7330764442944183 and parameters: {'trend': 'add', 'seasonal': 'add', 'seasonal_periods': 12}. Best is trial 4 with value: 0.7272390166404147.\n",
      "[I 2024-05-15 21:08:32,458] Trial 8 finished with value: 0.7297974418197896 and parameters: {'trend': 'add', 'seasonal': 'add', 'seasonal_periods': None}. Best is trial 4 with value: 0.7272390166404147.\n",
      "/opt/conda/lib/python3.10/site-packages/statsmodels/tsa/base/tsa_model.py:473: ValueWarning: No frequency information was provided, so inferred frequency D will be used.\n",
      "  self._init_dates(dates, freq)\n",
      "/var/tmp/ipykernel_1903582/1261245201.py:12: SettingWithCopyWarning: \n",
      "A value is trying to be set on a copy of a slice from a DataFrame.\n",
      "Try using .loc[row_indexer,col_indexer] = value instead\n",
      "\n",
      "See the caveats in the documentation: https://pandas.pydata.org/pandas-docs/stable/user_guide/indexing.html#returning-a-view-versus-a-copy\n",
      "  prophet_data_train['ds'] = pd.to_datetime(prophet_data_train['ds'])\n",
      "/var/tmp/ipykernel_1903582/1261245201.py:13: SettingWithCopyWarning: \n",
      "A value is trying to be set on a copy of a slice from a DataFrame.\n",
      "Try using .loc[row_indexer,col_indexer] = value instead\n",
      "\n",
      "See the caveats in the documentation: https://pandas.pydata.org/pandas-docs/stable/user_guide/indexing.html#returning-a-view-versus-a-copy\n",
      "  prophet_data_test['ds'] = pd.to_datetime(prophet_data_test['ds'])\n",
      "21:08:32 - cmdstanpy - INFO - Chain [1] start processing\n",
      "21:08:32 - cmdstanpy - INFO - Chain [1] done processing\n",
      "/var/tmp/ipykernel_1903582/1261245201.py:12: SettingWithCopyWarning: \n",
      "A value is trying to be set on a copy of a slice from a DataFrame.\n",
      "Try using .loc[row_indexer,col_indexer] = value instead\n",
      "\n",
      "See the caveats in the documentation: https://pandas.pydata.org/pandas-docs/stable/user_guide/indexing.html#returning-a-view-versus-a-copy\n",
      "  prophet_data_train['ds'] = pd.to_datetime(prophet_data_train['ds'])\n",
      "/var/tmp/ipykernel_1903582/1261245201.py:13: SettingWithCopyWarning: \n",
      "A value is trying to be set on a copy of a slice from a DataFrame.\n",
      "Try using .loc[row_indexer,col_indexer] = value instead\n",
      "\n",
      "See the caveats in the documentation: https://pandas.pydata.org/pandas-docs/stable/user_guide/indexing.html#returning-a-view-versus-a-copy\n",
      "  prophet_data_test['ds'] = pd.to_datetime(prophet_data_test['ds'])\n",
      "21:08:33 - cmdstanpy - INFO - Chain [1] start processing\n",
      "21:08:33 - cmdstanpy - INFO - Chain [1] done processing\n",
      "/var/tmp/ipykernel_1903582/1261245201.py:12: SettingWithCopyWarning: \n",
      "A value is trying to be set on a copy of a slice from a DataFrame.\n",
      "Try using .loc[row_indexer,col_indexer] = value instead\n",
      "\n",
      "See the caveats in the documentation: https://pandas.pydata.org/pandas-docs/stable/user_guide/indexing.html#returning-a-view-versus-a-copy\n",
      "  prophet_data_train['ds'] = pd.to_datetime(prophet_data_train['ds'])\n",
      "/var/tmp/ipykernel_1903582/1261245201.py:13: SettingWithCopyWarning: \n",
      "A value is trying to be set on a copy of a slice from a DataFrame.\n",
      "Try using .loc[row_indexer,col_indexer] = value instead\n",
      "\n",
      "See the caveats in the documentation: https://pandas.pydata.org/pandas-docs/stable/user_guide/indexing.html#returning-a-view-versus-a-copy\n",
      "  prophet_data_test['ds'] = pd.to_datetime(prophet_data_test['ds'])\n",
      "21:08:33 - cmdstanpy - INFO - Chain [1] start processing\n",
      "21:08:33 - cmdstanpy - INFO - Chain [1] done processing\n",
      "/var/tmp/ipykernel_1903582/1261245201.py:12: SettingWithCopyWarning: \n",
      "A value is trying to be set on a copy of a slice from a DataFrame.\n",
      "Try using .loc[row_indexer,col_indexer] = value instead\n",
      "\n",
      "See the caveats in the documentation: https://pandas.pydata.org/pandas-docs/stable/user_guide/indexing.html#returning-a-view-versus-a-copy\n",
      "  prophet_data_train['ds'] = pd.to_datetime(prophet_data_train['ds'])\n",
      "/var/tmp/ipykernel_1903582/1261245201.py:13: SettingWithCopyWarning: \n",
      "A value is trying to be set on a copy of a slice from a DataFrame.\n",
      "Try using .loc[row_indexer,col_indexer] = value instead\n",
      "\n",
      "See the caveats in the documentation: https://pandas.pydata.org/pandas-docs/stable/user_guide/indexing.html#returning-a-view-versus-a-copy\n",
      "  prophet_data_test['ds'] = pd.to_datetime(prophet_data_test['ds'])\n",
      "21:08:33 - cmdstanpy - INFO - Chain [1] start processing\n",
      "21:08:33 - cmdstanpy - INFO - Chain [1] done processing\n",
      "/var/tmp/ipykernel_1903582/1261245201.py:12: SettingWithCopyWarning: \n",
      "A value is trying to be set on a copy of a slice from a DataFrame.\n",
      "Try using .loc[row_indexer,col_indexer] = value instead\n",
      "\n",
      "See the caveats in the documentation: https://pandas.pydata.org/pandas-docs/stable/user_guide/indexing.html#returning-a-view-versus-a-copy\n",
      "  prophet_data_train['ds'] = pd.to_datetime(prophet_data_train['ds'])\n",
      "/var/tmp/ipykernel_1903582/1261245201.py:13: SettingWithCopyWarning: \n",
      "A value is trying to be set on a copy of a slice from a DataFrame.\n",
      "Try using .loc[row_indexer,col_indexer] = value instead\n",
      "\n",
      "See the caveats in the documentation: https://pandas.pydata.org/pandas-docs/stable/user_guide/indexing.html#returning-a-view-versus-a-copy\n",
      "  prophet_data_test['ds'] = pd.to_datetime(prophet_data_test['ds'])\n",
      "21:08:33 - cmdstanpy - INFO - Chain [1] start processing\n",
      "21:08:33 - cmdstanpy - INFO - Chain [1] done processing\n",
      "/opt/conda/lib/python3.10/site-packages/lightgbm/engine.py:172: UserWarning: Found `n_estimators` in params. Will use it instead of argument\n",
      "  _log_warning(f\"Found `{alias}` in params. Will use it instead of argument\")\n"
     ]
    },
    {
     "name": "stdout",
     "output_type": "stream",
     "text": [
      "Training until validation scores don't improve for 50 rounds\n",
      "Early stopping, best iteration is:\n",
      "[934]\tvalid_0's rmse: 6.50305\n",
      "Training until validation scores don't improve for 50 rounds\n"
     ]
    },
    {
     "name": "stderr",
     "output_type": "stream",
     "text": [
      "/opt/conda/lib/python3.10/site-packages/lightgbm/engine.py:172: UserWarning: Found `n_estimators` in params. Will use it instead of argument\n",
      "  _log_warning(f\"Found `{alias}` in params. Will use it instead of argument\")\n"
     ]
    },
    {
     "name": "stdout",
     "output_type": "stream",
     "text": [
      "Did not meet early stopping. Best iteration is:\n",
      "[998]\tvalid_0's rmse: 5.85392\n",
      "Training until validation scores don't improve for 50 rounds\n"
     ]
    },
    {
     "name": "stderr",
     "output_type": "stream",
     "text": [
      "/opt/conda/lib/python3.10/site-packages/lightgbm/engine.py:172: UserWarning: Found `n_estimators` in params. Will use it instead of argument\n",
      "  _log_warning(f\"Found `{alias}` in params. Will use it instead of argument\")\n"
     ]
    },
    {
     "name": "stdout",
     "output_type": "stream",
     "text": [
      "Early stopping, best iteration is:\n",
      "[709]\tvalid_0's rmse: 5.81478\n",
      "Training until validation scores don't improve for 50 rounds\n"
     ]
    },
    {
     "name": "stderr",
     "output_type": "stream",
     "text": [
      "/opt/conda/lib/python3.10/site-packages/lightgbm/engine.py:172: UserWarning: Found `n_estimators` in params. Will use it instead of argument\n",
      "  _log_warning(f\"Found `{alias}` in params. Will use it instead of argument\")\n"
     ]
    },
    {
     "name": "stdout",
     "output_type": "stream",
     "text": [
      "Did not meet early stopping. Best iteration is:\n",
      "[1000]\tvalid_0's rmse: 8.14053\n",
      "Training until validation scores don't improve for 50 rounds\n"
     ]
    },
    {
     "name": "stderr",
     "output_type": "stream",
     "text": [
      "/opt/conda/lib/python3.10/site-packages/lightgbm/engine.py:172: UserWarning: Found `n_estimators` in params. Will use it instead of argument\n",
      "  _log_warning(f\"Found `{alias}` in params. Will use it instead of argument\")\n"
     ]
    },
    {
     "name": "stdout",
     "output_type": "stream",
     "text": [
      "Did not meet early stopping. Best iteration is:\n",
      "[999]\tvalid_0's rmse: 8.68604\n"
     ]
    },
    {
     "name": "stderr",
     "output_type": "stream",
     "text": [
      "GPU available: False, used: False\n",
      "TPU available: False, using: 0 TPU cores\n",
      "IPU available: False, using: 0 IPUs\n",
      "HPU available: False, using: 0 HPUs\n",
      "Missing logger folder: logs/tft_logs\n",
      "\n",
      "   | Name                              | Type                             | Params\n",
      "----------------------------------------------------------------------------------------\n",
      "0  | train_metrics                     | MetricCollection                 | 0     \n",
      "1  | val_metrics                       | MetricCollection                 | 0     \n",
      "2  | input_embeddings                  | _MultiEmbedding                  | 0     \n",
      "3  | static_covariates_vsn             | _VariableSelectionNetwork        | 0     \n",
      "4  | encoder_vsn                       | _VariableSelectionNetwork        | 93.0 K\n",
      "5  | decoder_vsn                       | _VariableSelectionNetwork        | 46.4 K\n",
      "6  | static_context_grn                | _GatedResidualNetwork            | 1.1 K \n",
      "7  | static_context_hidden_encoder_grn | _GatedResidualNetwork            | 1.1 K \n",
      "8  | static_context_cell_encoder_grn   | _GatedResidualNetwork            | 1.1 K \n",
      "9  | static_context_enrichment         | _GatedResidualNetwork            | 1.1 K \n",
      "10 | lstm_encoder                      | LSTM                             | 4.4 K \n",
      "11 | lstm_decoder                      | LSTM                             | 4.4 K \n",
      "12 | post_lstm_gan                     | _GateAddNorm                     | 576   \n",
      "13 | static_enrichment_grn             | _GatedResidualNetwork            | 1.4 K \n",
      "14 | multihead_attn                    | _InterpretableMultiHeadAttention | 676   \n",
      "15 | post_attn_gan                     | _GateAddNorm                     | 576   \n",
      "16 | feed_forward_block                | _GatedResidualNetwork            | 1.1 K \n",
      "17 | pre_output_gan                    | _GateAddNorm                     | 576   \n",
      "18 | output_layer                      | Linear                           | 289   \n",
      "----------------------------------------------------------------------------------------\n",
      "156 K     Trainable params\n",
      "0         Non-trainable params\n",
      "156 K     Total params\n",
      "0.627     Total estimated model params size (MB)\n"
     ]
    },
    {
     "data": {
      "application/vnd.jupyter.widget-view+json": {
       "model_id": "1dfe821a3ad949cea888e04db12f086c",
       "version_major": 2,
       "version_minor": 0
      },
      "text/plain": [
       "Sanity Checking: |          | 0/? [00:00<?, ?it/s]"
      ]
     },
     "metadata": {},
     "output_type": "display_data"
    },
    {
     "data": {
      "application/vnd.jupyter.widget-view+json": {
       "model_id": "c0cbc2f0630f43229fc5798993c4cf7d",
       "version_major": 2,
       "version_minor": 0
      },
      "text/plain": [
       "Training: |          | 0/? [00:00<?, ?it/s]"
      ]
     },
     "metadata": {},
     "output_type": "display_data"
    },
    {
     "data": {
      "application/vnd.jupyter.widget-view+json": {
       "model_id": "f683ced6da954b33a674ed90ed118f54",
       "version_major": 2,
       "version_minor": 0
      },
      "text/plain": [
       "Validation: |          | 0/? [00:00<?, ?it/s]"
      ]
     },
     "metadata": {},
     "output_type": "display_data"
    },
    {
     "data": {
      "application/vnd.jupyter.widget-view+json": {
       "model_id": "d4e738fe8ff54775b466f8be661c900a",
       "version_major": 2,
       "version_minor": 0
      },
      "text/plain": [
       "Validation: |          | 0/? [00:00<?, ?it/s]"
      ]
     },
     "metadata": {},
     "output_type": "display_data"
    },
    {
     "data": {
      "application/vnd.jupyter.widget-view+json": {
       "model_id": "54c87594bf4a49828be1bf6eb6e69d42",
       "version_major": 2,
       "version_minor": 0
      },
      "text/plain": [
       "Validation: |          | 0/? [00:00<?, ?it/s]"
      ]
     },
     "metadata": {},
     "output_type": "display_data"
    },
    {
     "data": {
      "application/vnd.jupyter.widget-view+json": {
       "model_id": "752d9f9bb6da447499e9ae055648ae7f",
       "version_major": 2,
       "version_minor": 0
      },
      "text/plain": [
       "Validation: |          | 0/? [00:00<?, ?it/s]"
      ]
     },
     "metadata": {},
     "output_type": "display_data"
    },
    {
     "data": {
      "application/vnd.jupyter.widget-view+json": {
       "model_id": "7dac64f88c524e158cec846f0aa6f354",
       "version_major": 2,
       "version_minor": 0
      },
      "text/plain": [
       "Validation: |          | 0/? [00:00<?, ?it/s]"
      ]
     },
     "metadata": {},
     "output_type": "display_data"
    },
    {
     "data": {
      "application/vnd.jupyter.widget-view+json": {
       "model_id": "a568b95814384a03a23b4f13fc4057a1",
       "version_major": 2,
       "version_minor": 0
      },
      "text/plain": [
       "Validation: |          | 0/? [00:00<?, ?it/s]"
      ]
     },
     "metadata": {},
     "output_type": "display_data"
    },
    {
     "data": {
      "application/vnd.jupyter.widget-view+json": {
       "model_id": "0ee2f4a3d1934a5e8170c356119df01c",
       "version_major": 2,
       "version_minor": 0
      },
      "text/plain": [
       "Validation: |          | 0/? [00:00<?, ?it/s]"
      ]
     },
     "metadata": {},
     "output_type": "display_data"
    },
    {
     "data": {
      "application/vnd.jupyter.widget-view+json": {
       "model_id": "3c807e3bcd3544f6ab7fb07d76a5b4ca",
       "version_major": 2,
       "version_minor": 0
      },
      "text/plain": [
       "Validation: |          | 0/? [00:00<?, ?it/s]"
      ]
     },
     "metadata": {},
     "output_type": "display_data"
    },
    {
     "data": {
      "application/vnd.jupyter.widget-view+json": {
       "model_id": "faf1df153f784399aee3a7b5ccff0cd0",
       "version_major": 2,
       "version_minor": 0
      },
      "text/plain": [
       "Validation: |          | 0/? [00:00<?, ?it/s]"
      ]
     },
     "metadata": {},
     "output_type": "display_data"
    },
    {
     "data": {
      "application/vnd.jupyter.widget-view+json": {
       "model_id": "23a313bfc2714f2aaaeeff88307a5bbb",
       "version_major": 2,
       "version_minor": 0
      },
      "text/plain": [
       "Validation: |          | 0/? [00:00<?, ?it/s]"
      ]
     },
     "metadata": {},
     "output_type": "display_data"
    },
    {
     "data": {
      "application/vnd.jupyter.widget-view+json": {
       "model_id": "96481c17eb6148f7be224f3fbd41b39e",
       "version_major": 2,
       "version_minor": 0
      },
      "text/plain": [
       "Validation: |          | 0/? [00:00<?, ?it/s]"
      ]
     },
     "metadata": {},
     "output_type": "display_data"
    },
    {
     "data": {
      "application/vnd.jupyter.widget-view+json": {
       "model_id": "a265876d3f014e54ba59e3f49934d106",
       "version_major": 2,
       "version_minor": 0
      },
      "text/plain": [
       "Validation: |          | 0/? [00:00<?, ?it/s]"
      ]
     },
     "metadata": {},
     "output_type": "display_data"
    },
    {
     "data": {
      "application/vnd.jupyter.widget-view+json": {
       "model_id": "986f279915fa4b6b90cd4ef10420d119",
       "version_major": 2,
       "version_minor": 0
      },
      "text/plain": [
       "Validation: |          | 0/? [00:00<?, ?it/s]"
      ]
     },
     "metadata": {},
     "output_type": "display_data"
    },
    {
     "data": {
      "application/vnd.jupyter.widget-view+json": {
       "model_id": "033980a1c4ff4e6f8bdf270b474f7174",
       "version_major": 2,
       "version_minor": 0
      },
      "text/plain": [
       "Validation: |          | 0/? [00:00<?, ?it/s]"
      ]
     },
     "metadata": {},
     "output_type": "display_data"
    },
    {
     "data": {
      "application/vnd.jupyter.widget-view+json": {
       "model_id": "f7c9e1a565b94a43ab62be469b4cdd86",
       "version_major": 2,
       "version_minor": 0
      },
      "text/plain": [
       "Validation: |          | 0/? [00:00<?, ?it/s]"
      ]
     },
     "metadata": {},
     "output_type": "display_data"
    },
    {
     "data": {
      "application/vnd.jupyter.widget-view+json": {
       "model_id": "3e3013ae1848427499a00c0bb41b7a3c",
       "version_major": 2,
       "version_minor": 0
      },
      "text/plain": [
       "Validation: |          | 0/? [00:00<?, ?it/s]"
      ]
     },
     "metadata": {},
     "output_type": "display_data"
    },
    {
     "data": {
      "application/vnd.jupyter.widget-view+json": {
       "model_id": "3f9f5e33db58418ebeabaa4f852e28f6",
       "version_major": 2,
       "version_minor": 0
      },
      "text/plain": [
       "Validation: |          | 0/? [00:00<?, ?it/s]"
      ]
     },
     "metadata": {},
     "output_type": "display_data"
    },
    {
     "data": {
      "application/vnd.jupyter.widget-view+json": {
       "model_id": "0d4e0b3d2e95486d8c5148dc5b590dfc",
       "version_major": 2,
       "version_minor": 0
      },
      "text/plain": [
       "Validation: |          | 0/? [00:00<?, ?it/s]"
      ]
     },
     "metadata": {},
     "output_type": "display_data"
    },
    {
     "data": {
      "application/vnd.jupyter.widget-view+json": {
       "model_id": "45b96aecfd0349b5ba028b312c3e0367",
       "version_major": 2,
       "version_minor": 0
      },
      "text/plain": [
       "Validation: |          | 0/? [00:00<?, ?it/s]"
      ]
     },
     "metadata": {},
     "output_type": "display_data"
    },
    {
     "name": "stdout",
     "output_type": "stream",
     "text": [
      "{'ARIMA': {'rmsse': 0.6093233082798107, 'model': ARIMA(order=(5, 1, 5), scoring_args={}, suppress_warnings=True,\n",
      "      with_intercept=False)}, 'ExponentialSmoothing': {'rmsse': 0.583689891865392, 'model': <statsmodels.tsa.holtwinters.results.HoltWintersResultsWrapper object at 0x7f71b14db640>}, 'Prophet': {'rmsse': 0.5554509048334813, 'model': <prophet.forecaster.Prophet object at 0x7f7203d10eb0>}, 'LightGBM': {'rmsse': 0.8908970498781421, 'model': <lightgbm.basic.Booster object at 0x7f7142de1360>}, 'RandomForest': {'rmsse': 0.5950612485377906, 'model': RandomForestRegressor(random_state=42)}, 'DartsTFT': {'rmsse': 8.975104547316029, 'model': TFTModel(output_chunk_shift=0, hidden_size=16, lstm_layers=2, num_attention_heads=4, full_attention=False, feed_forward=GatedResidualNetwork, dropout=0.2, hidden_continuous_size=8, categorical_embedding_sizes=None, add_relative_index=False, loss_fn=None, likelihood=None, norm_type=LayerNorm, use_static_covariates=True, input_chunk_length=56, output_chunk_length=28, pl_trainer_kwargs={'callbacks': [<pytorch_lightning.callbacks.early_stopping.EarlyStopping object at 0x7f72025064d0>], 'accelerator': 'cpu', 'logger': <pytorch_lightning.loggers.csv_logs.CSVLogger object at 0x7f72043f2c20>}, batch_size=16, torch_metrics=MeanAbsoluteError(), n_epochs=50)}}\n",
      "Model results for FOODS_3_252_CA_1_validation\n",
      "Best model: Prophet\n",
      "Best score: 0.5554509048334813\n",
      "Analyzing product: FOODS_3_377_TX_3_validation\n"
     ]
    },
    {
     "name": "stderr",
     "output_type": "stream",
     "text": [
      "[I 2024-05-15 21:29:32,143] A new study created in memory with name: no-name-4ad7e5d1-49d9-45b7-bf91-5fab36c96ccc\n"
     ]
    },
    {
     "name": "stdout",
     "output_type": "stream",
     "text": [
      "Optimizing hyperparameters for product: FOODS_3_377_TX_3_validation\n"
     ]
    },
    {
     "name": "stderr",
     "output_type": "stream",
     "text": [
      "[I 2024-05-15 21:29:32,702] Trial 0 finished with value: 0.6809258461956846 and parameters: {'trend': 'add', 'seasonal': None, 'seasonal_periods': 12}. Best is trial 0 with value: 0.6809258461956846.\n",
      "[I 2024-05-15 21:29:32,754] Trial 3 finished with value: 0.6809258461956846 and parameters: {'trend': 'add', 'seasonal': None, 'seasonal_periods': None}. Best is trial 0 with value: 0.6809258461956846.\n",
      "[I 2024-05-15 21:29:32,870] Trial 1 finished with value: 0.6809258461956846 and parameters: {'trend': 'add', 'seasonal': None, 'seasonal_periods': None}. Best is trial 0 with value: 0.6809258461956846.\n",
      "[I 2024-05-15 21:29:33,024] Trial 5 finished with value: 0.6809258461956846 and parameters: {'trend': 'add', 'seasonal': None, 'seasonal_periods': 7}. Best is trial 0 with value: 0.6809258461956846.\n",
      "[I 2024-05-15 21:29:33,058] Trial 4 finished with value: 0.6809258461956846 and parameters: {'trend': 'add', 'seasonal': None, 'seasonal_periods': 7}. Best is trial 0 with value: 0.6809258461956846.\n",
      "[I 2024-05-15 21:29:33,095] Trial 8 finished with value: 0.6809258461956846 and parameters: {'trend': 'add', 'seasonal': None, 'seasonal_periods': 12}. Best is trial 0 with value: 0.6809258461956846.\n",
      "[I 2024-05-15 21:29:33,146] Trial 6 finished with value: 0.6809258461956846 and parameters: {'trend': 'add', 'seasonal': None, 'seasonal_periods': 7}. Best is trial 0 with value: 0.6809258461956846.\n",
      "[I 2024-05-15 21:29:33,152] Trial 7 finished with value: 0.6809258461956846 and parameters: {'trend': 'add', 'seasonal': None, 'seasonal_periods': 4}. Best is trial 0 with value: 0.6809258461956846.\n",
      "[I 2024-05-15 21:29:33,350] Trial 2 finished with value: 0.6112045543697615 and parameters: {'trend': 'add', 'seasonal': 'add', 'seasonal_periods': 7}. Best is trial 2 with value: 0.6112045543697615.\n",
      "[I 2024-05-15 21:29:33,393] Trial 9 finished with value: 0.6112045543697615 and parameters: {'trend': 'add', 'seasonal': 'add', 'seasonal_periods': 7}. Best is trial 2 with value: 0.6112045543697615.\n",
      "/opt/conda/lib/python3.10/site-packages/statsmodels/tsa/base/tsa_model.py:473: ValueWarning: No frequency information was provided, so inferred frequency D will be used.\n",
      "  self._init_dates(dates, freq)\n",
      "[I 2024-05-15 21:29:33,667] A new study created in memory with name: no-name-8dc08bb6-3b11-4b1e-957d-2dc512dd4f1a\n"
     ]
    },
    {
     "name": "stdout",
     "output_type": "stream",
     "text": [
      "Optimizing hyperparameters for product: FOODS_3_377_TX_3_validation\n"
     ]
    },
    {
     "name": "stderr",
     "output_type": "stream",
     "text": [
      "[I 2024-05-15 21:29:34,196] Trial 0 finished with value: 0.7381018729247829 and parameters: {'trend': 'add', 'seasonal': None, 'seasonal_periods': 12}. Best is trial 0 with value: 0.7381018729247829.\n",
      "[I 2024-05-15 21:29:34,510] Trial 2 finished with value: 0.7381018729247829 and parameters: {'trend': 'add', 'seasonal': None, 'seasonal_periods': None}. Best is trial 0 with value: 0.7381018729247829.\n",
      "[I 2024-05-15 21:29:35,071] Trial 3 finished with value: 0.7381018729247829 and parameters: {'trend': 'add', 'seasonal': None, 'seasonal_periods': 7}. Best is trial 0 with value: 0.7381018729247829.\n",
      "[I 2024-05-15 21:29:35,173] Trial 9 finished with value: 0.7381018729247829 and parameters: {'trend': 'add', 'seasonal': None, 'seasonal_periods': None}. Best is trial 0 with value: 0.7381018729247829.\n",
      "[I 2024-05-15 21:29:35,626] Trial 1 finished with value: 0.739649343428172 and parameters: {'trend': 'add', 'seasonal': 'add', 'seasonal_periods': None}. Best is trial 0 with value: 0.7381018729247829.\n",
      "[I 2024-05-15 21:29:35,645] Trial 4 finished with value: 0.7687003045958811 and parameters: {'trend': 'add', 'seasonal': 'add', 'seasonal_periods': 12}. Best is trial 0 with value: 0.7381018729247829.\n",
      "[I 2024-05-15 21:29:35,699] Trial 6 finished with value: 0.739649343428172 and parameters: {'trend': 'add', 'seasonal': 'add', 'seasonal_periods': None}. Best is trial 0 with value: 0.7381018729247829.\n",
      "[I 2024-05-15 21:29:35,716] Trial 7 finished with value: 0.7798323366311201 and parameters: {'trend': 'add', 'seasonal': 'add', 'seasonal_periods': 4}. Best is trial 0 with value: 0.7381018729247829.\n",
      "[I 2024-05-15 21:29:35,771] Trial 5 finished with value: 0.7687003045958811 and parameters: {'trend': 'add', 'seasonal': 'add', 'seasonal_periods': 12}. Best is trial 0 with value: 0.7381018729247829.\n",
      "[I 2024-05-15 21:29:35,791] Trial 8 finished with value: 0.7687003045958811 and parameters: {'trend': 'add', 'seasonal': 'add', 'seasonal_periods': 12}. Best is trial 0 with value: 0.7381018729247829.\n",
      "/opt/conda/lib/python3.10/site-packages/statsmodels/tsa/base/tsa_model.py:473: ValueWarning: No frequency information was provided, so inferred frequency D will be used.\n",
      "  self._init_dates(dates, freq)\n",
      "[I 2024-05-15 21:29:35,839] A new study created in memory with name: no-name-8cda55cb-3224-495b-adf7-07cf3f708745\n"
     ]
    },
    {
     "name": "stdout",
     "output_type": "stream",
     "text": [
      "Optimizing hyperparameters for product: FOODS_3_377_TX_3_validation\n"
     ]
    },
    {
     "name": "stderr",
     "output_type": "stream",
     "text": [
      "[I 2024-05-15 21:29:36,828] Trial 2 finished with value: 1.1308437805167313 and parameters: {'trend': 'add', 'seasonal': None, 'seasonal_periods': None}. Best is trial 2 with value: 1.1308437805167313.\n",
      "[I 2024-05-15 21:29:36,900] Trial 8 finished with value: 1.1308437805167313 and parameters: {'trend': 'add', 'seasonal': None, 'seasonal_periods': None}. Best is trial 2 with value: 1.1308437805167313.\n",
      "[I 2024-05-15 21:29:37,055] Trial 9 finished with value: 1.1308437805167313 and parameters: {'trend': 'add', 'seasonal': None, 'seasonal_periods': 7}. Best is trial 2 with value: 1.1308437805167313.\n",
      "[I 2024-05-15 21:29:37,146] Trial 7 finished with value: 1.1308437805167313 and parameters: {'trend': 'add', 'seasonal': None, 'seasonal_periods': 4}. Best is trial 2 with value: 1.1308437805167313.\n",
      "[I 2024-05-15 21:29:37,204] Trial 6 finished with value: 1.1308437805167313 and parameters: {'trend': 'add', 'seasonal': None, 'seasonal_periods': 12}. Best is trial 2 with value: 1.1308437805167313.\n",
      "[I 2024-05-15 21:29:37,301] Trial 1 finished with value: 1.253106608239134 and parameters: {'trend': 'add', 'seasonal': 'add', 'seasonal_periods': 4}. Best is trial 2 with value: 1.1308437805167313.\n",
      "[I 2024-05-15 21:29:37,532] Trial 4 finished with value: 1.253106608239134 and parameters: {'trend': 'add', 'seasonal': 'add', 'seasonal_periods': 4}. Best is trial 2 with value: 1.1308437805167313.\n",
      "[I 2024-05-15 21:29:37,577] Trial 0 finished with value: 1.253106608239134 and parameters: {'trend': 'add', 'seasonal': 'add', 'seasonal_periods': 4}. Best is trial 2 with value: 1.1308437805167313.\n",
      "[I 2024-05-15 21:29:37,609] Trial 3 finished with value: 1.26464911138472 and parameters: {'trend': 'add', 'seasonal': 'add', 'seasonal_periods': 12}. Best is trial 2 with value: 1.1308437805167313.\n",
      "[I 2024-05-15 21:29:37,649] Trial 5 finished with value: 1.2280523112732353 and parameters: {'trend': 'add', 'seasonal': 'add', 'seasonal_periods': 7}. Best is trial 2 with value: 1.1308437805167313.\n",
      "/opt/conda/lib/python3.10/site-packages/statsmodels/tsa/base/tsa_model.py:473: ValueWarning: No frequency information was provided, so inferred frequency D will be used.\n",
      "  self._init_dates(dates, freq)\n",
      "[I 2024-05-15 21:29:37,699] A new study created in memory with name: no-name-e39a90eb-e80c-4458-955a-8ea5844a4d67\n"
     ]
    },
    {
     "name": "stdout",
     "output_type": "stream",
     "text": [
      "Optimizing hyperparameters for product: FOODS_3_377_TX_3_validation\n"
     ]
    },
    {
     "name": "stderr",
     "output_type": "stream",
     "text": [
      "[I 2024-05-15 21:29:38,416] Trial 2 finished with value: 0.9364847806235594 and parameters: {'trend': 'add', 'seasonal': None, 'seasonal_periods': None}. Best is trial 2 with value: 0.9364847806235594.\n",
      "[I 2024-05-15 21:29:38,592] Trial 9 finished with value: 0.9364847806235594 and parameters: {'trend': 'add', 'seasonal': None, 'seasonal_periods': 12}. Best is trial 2 with value: 0.9364847806235594.\n",
      "[I 2024-05-15 21:29:38,862] Trial 1 finished with value: 0.9364847806235594 and parameters: {'trend': 'add', 'seasonal': None, 'seasonal_periods': None}. Best is trial 2 with value: 0.9364847806235594.\n",
      "[I 2024-05-15 21:29:38,916] Trial 3 finished with value: 0.9364847806235594 and parameters: {'trend': 'add', 'seasonal': None, 'seasonal_periods': None}. Best is trial 2 with value: 0.9364847806235594.\n",
      "[I 2024-05-15 21:29:39,092] Trial 6 finished with value: 0.9364847806235594 and parameters: {'trend': 'add', 'seasonal': None, 'seasonal_periods': None}. Best is trial 2 with value: 0.9364847806235594.\n",
      "[I 2024-05-15 21:29:39,344] Trial 0 finished with value: 0.8185572760024238 and parameters: {'trend': 'add', 'seasonal': 'add', 'seasonal_periods': None}. Best is trial 0 with value: 0.8185572760024238.\n",
      "[I 2024-05-15 21:29:39,404] Trial 5 finished with value: 0.8755321763398625 and parameters: {'trend': 'add', 'seasonal': 'add', 'seasonal_periods': 4}. Best is trial 0 with value: 0.8185572760024238.\n",
      "[I 2024-05-15 21:29:39,476] Trial 4 finished with value: 0.8185572760024238 and parameters: {'trend': 'add', 'seasonal': 'add', 'seasonal_periods': 7}. Best is trial 0 with value: 0.8185572760024238.\n",
      "[I 2024-05-15 21:29:39,494] Trial 7 finished with value: 0.8755321763398625 and parameters: {'trend': 'add', 'seasonal': 'add', 'seasonal_periods': 4}. Best is trial 0 with value: 0.8185572760024238.\n",
      "[I 2024-05-15 21:29:39,515] Trial 8 finished with value: 0.8874647160920299 and parameters: {'trend': 'add', 'seasonal': 'add', 'seasonal_periods': 12}. Best is trial 0 with value: 0.8185572760024238.\n",
      "/opt/conda/lib/python3.10/site-packages/statsmodels/tsa/base/tsa_model.py:473: ValueWarning: No frequency information was provided, so inferred frequency D will be used.\n",
      "  self._init_dates(dates, freq)\n",
      "[I 2024-05-15 21:29:39,761] A new study created in memory with name: no-name-de897de4-1464-4886-b1ef-c46fcbf191f4\n"
     ]
    },
    {
     "name": "stdout",
     "output_type": "stream",
     "text": [
      "Optimizing hyperparameters for product: FOODS_3_377_TX_3_validation\n"
     ]
    },
    {
     "name": "stderr",
     "output_type": "stream",
     "text": [
      "[I 2024-05-15 21:29:40,267] Trial 0 finished with value: 1.346888576879212 and parameters: {'trend': 'add', 'seasonal': None, 'seasonal_periods': 12}. Best is trial 0 with value: 1.346888576879212.\n",
      "[I 2024-05-15 21:29:40,301] Trial 1 finished with value: 1.346888576879212 and parameters: {'trend': 'add', 'seasonal': None, 'seasonal_periods': 12}. Best is trial 0 with value: 1.346888576879212.\n",
      "[I 2024-05-15 21:29:40,309] Trial 2 finished with value: 1.346888576879212 and parameters: {'trend': 'add', 'seasonal': None, 'seasonal_periods': None}. Best is trial 0 with value: 1.346888576879212.\n",
      "[I 2024-05-15 21:29:40,346] Trial 4 finished with value: 1.346888576879212 and parameters: {'trend': 'add', 'seasonal': None, 'seasonal_periods': 12}. Best is trial 0 with value: 1.346888576879212.\n",
      "[I 2024-05-15 21:29:40,365] Trial 6 finished with value: 1.346888576879212 and parameters: {'trend': 'add', 'seasonal': None, 'seasonal_periods': 12}. Best is trial 0 with value: 1.346888576879212.\n",
      "[I 2024-05-15 21:29:40,411] Trial 5 finished with value: 1.346888576879212 and parameters: {'trend': 'add', 'seasonal': None, 'seasonal_periods': 4}. Best is trial 0 with value: 1.346888576879212.\n",
      "[I 2024-05-15 21:29:40,469] Trial 7 finished with value: 1.346888576879212 and parameters: {'trend': 'add', 'seasonal': None, 'seasonal_periods': None}. Best is trial 0 with value: 1.346888576879212.\n",
      "[I 2024-05-15 21:29:40,481] Trial 3 finished with value: 1.346888576879212 and parameters: {'trend': 'add', 'seasonal': None, 'seasonal_periods': 12}. Best is trial 0 with value: 1.346888576879212.\n",
      "[I 2024-05-15 21:29:40,488] Trial 9 finished with value: 1.346888576879212 and parameters: {'trend': 'add', 'seasonal': None, 'seasonal_periods': 4}. Best is trial 0 with value: 1.346888576879212.\n",
      "[I 2024-05-15 21:29:40,518] Trial 8 finished with value: 1.346888576879212 and parameters: {'trend': 'add', 'seasonal': None, 'seasonal_periods': 12}. Best is trial 0 with value: 1.346888576879212.\n",
      "/opt/conda/lib/python3.10/site-packages/statsmodels/tsa/base/tsa_model.py:473: ValueWarning: No frequency information was provided, so inferred frequency D will be used.\n",
      "  self._init_dates(dates, freq)\n",
      "/var/tmp/ipykernel_1903582/1261245201.py:12: SettingWithCopyWarning: \n",
      "A value is trying to be set on a copy of a slice from a DataFrame.\n",
      "Try using .loc[row_indexer,col_indexer] = value instead\n",
      "\n",
      "See the caveats in the documentation: https://pandas.pydata.org/pandas-docs/stable/user_guide/indexing.html#returning-a-view-versus-a-copy\n",
      "  prophet_data_train['ds'] = pd.to_datetime(prophet_data_train['ds'])\n",
      "/var/tmp/ipykernel_1903582/1261245201.py:13: SettingWithCopyWarning: \n",
      "A value is trying to be set on a copy of a slice from a DataFrame.\n",
      "Try using .loc[row_indexer,col_indexer] = value instead\n",
      "\n",
      "See the caveats in the documentation: https://pandas.pydata.org/pandas-docs/stable/user_guide/indexing.html#returning-a-view-versus-a-copy\n",
      "  prophet_data_test['ds'] = pd.to_datetime(prophet_data_test['ds'])\n",
      "21:29:40 - cmdstanpy - INFO - Chain [1] start processing\n",
      "21:29:40 - cmdstanpy - INFO - Chain [1] done processing\n",
      "/var/tmp/ipykernel_1903582/1261245201.py:12: SettingWithCopyWarning: \n",
      "A value is trying to be set on a copy of a slice from a DataFrame.\n",
      "Try using .loc[row_indexer,col_indexer] = value instead\n",
      "\n",
      "See the caveats in the documentation: https://pandas.pydata.org/pandas-docs/stable/user_guide/indexing.html#returning-a-view-versus-a-copy\n",
      "  prophet_data_train['ds'] = pd.to_datetime(prophet_data_train['ds'])\n",
      "/var/tmp/ipykernel_1903582/1261245201.py:13: SettingWithCopyWarning: \n",
      "A value is trying to be set on a copy of a slice from a DataFrame.\n",
      "Try using .loc[row_indexer,col_indexer] = value instead\n",
      "\n",
      "See the caveats in the documentation: https://pandas.pydata.org/pandas-docs/stable/user_guide/indexing.html#returning-a-view-versus-a-copy\n",
      "  prophet_data_test['ds'] = pd.to_datetime(prophet_data_test['ds'])\n",
      "21:29:40 - cmdstanpy - INFO - Chain [1] start processing\n",
      "21:29:41 - cmdstanpy - INFO - Chain [1] done processing\n",
      "/var/tmp/ipykernel_1903582/1261245201.py:12: SettingWithCopyWarning: \n",
      "A value is trying to be set on a copy of a slice from a DataFrame.\n",
      "Try using .loc[row_indexer,col_indexer] = value instead\n",
      "\n",
      "See the caveats in the documentation: https://pandas.pydata.org/pandas-docs/stable/user_guide/indexing.html#returning-a-view-versus-a-copy\n",
      "  prophet_data_train['ds'] = pd.to_datetime(prophet_data_train['ds'])\n",
      "/var/tmp/ipykernel_1903582/1261245201.py:13: SettingWithCopyWarning: \n",
      "A value is trying to be set on a copy of a slice from a DataFrame.\n",
      "Try using .loc[row_indexer,col_indexer] = value instead\n",
      "\n",
      "See the caveats in the documentation: https://pandas.pydata.org/pandas-docs/stable/user_guide/indexing.html#returning-a-view-versus-a-copy\n",
      "  prophet_data_test['ds'] = pd.to_datetime(prophet_data_test['ds'])\n",
      "21:29:41 - cmdstanpy - INFO - Chain [1] start processing\n",
      "21:29:41 - cmdstanpy - INFO - Chain [1] done processing\n",
      "/var/tmp/ipykernel_1903582/1261245201.py:12: SettingWithCopyWarning: \n",
      "A value is trying to be set on a copy of a slice from a DataFrame.\n",
      "Try using .loc[row_indexer,col_indexer] = value instead\n",
      "\n",
      "See the caveats in the documentation: https://pandas.pydata.org/pandas-docs/stable/user_guide/indexing.html#returning-a-view-versus-a-copy\n",
      "  prophet_data_train['ds'] = pd.to_datetime(prophet_data_train['ds'])\n",
      "/var/tmp/ipykernel_1903582/1261245201.py:13: SettingWithCopyWarning: \n",
      "A value is trying to be set on a copy of a slice from a DataFrame.\n",
      "Try using .loc[row_indexer,col_indexer] = value instead\n",
      "\n",
      "See the caveats in the documentation: https://pandas.pydata.org/pandas-docs/stable/user_guide/indexing.html#returning-a-view-versus-a-copy\n",
      "  prophet_data_test['ds'] = pd.to_datetime(prophet_data_test['ds'])\n",
      "21:29:41 - cmdstanpy - INFO - Chain [1] start processing\n",
      "21:29:41 - cmdstanpy - INFO - Chain [1] done processing\n",
      "/var/tmp/ipykernel_1903582/1261245201.py:12: SettingWithCopyWarning: \n",
      "A value is trying to be set on a copy of a slice from a DataFrame.\n",
      "Try using .loc[row_indexer,col_indexer] = value instead\n",
      "\n",
      "See the caveats in the documentation: https://pandas.pydata.org/pandas-docs/stable/user_guide/indexing.html#returning-a-view-versus-a-copy\n",
      "  prophet_data_train['ds'] = pd.to_datetime(prophet_data_train['ds'])\n",
      "/var/tmp/ipykernel_1903582/1261245201.py:13: SettingWithCopyWarning: \n",
      "A value is trying to be set on a copy of a slice from a DataFrame.\n",
      "Try using .loc[row_indexer,col_indexer] = value instead\n",
      "\n",
      "See the caveats in the documentation: https://pandas.pydata.org/pandas-docs/stable/user_guide/indexing.html#returning-a-view-versus-a-copy\n",
      "  prophet_data_test['ds'] = pd.to_datetime(prophet_data_test['ds'])\n",
      "21:29:41 - cmdstanpy - INFO - Chain [1] start processing\n",
      "21:29:41 - cmdstanpy - INFO - Chain [1] done processing\n",
      "/opt/conda/lib/python3.10/site-packages/lightgbm/engine.py:172: UserWarning: Found `n_estimators` in params. Will use it instead of argument\n",
      "  _log_warning(f\"Found `{alias}` in params. Will use it instead of argument\")\n"
     ]
    },
    {
     "name": "stdout",
     "output_type": "stream",
     "text": [
      "Training until validation scores don't improve for 50 rounds\n",
      "Did not meet early stopping. Best iteration is:\n",
      "[1000]\tvalid_0's rmse: 5.45208\n",
      "Training until validation scores don't improve for 50 rounds\n"
     ]
    },
    {
     "name": "stderr",
     "output_type": "stream",
     "text": [
      "/opt/conda/lib/python3.10/site-packages/lightgbm/engine.py:172: UserWarning: Found `n_estimators` in params. Will use it instead of argument\n",
      "  _log_warning(f\"Found `{alias}` in params. Will use it instead of argument\")\n"
     ]
    },
    {
     "name": "stdout",
     "output_type": "stream",
     "text": [
      "Early stopping, best iteration is:\n",
      "[391]\tvalid_0's rmse: 9.59583\n",
      "Training until validation scores don't improve for 50 rounds\n"
     ]
    },
    {
     "name": "stderr",
     "output_type": "stream",
     "text": [
      "/opt/conda/lib/python3.10/site-packages/lightgbm/engine.py:172: UserWarning: Found `n_estimators` in params. Will use it instead of argument\n",
      "  _log_warning(f\"Found `{alias}` in params. Will use it instead of argument\")\n"
     ]
    },
    {
     "name": "stdout",
     "output_type": "stream",
     "text": [
      "Did not meet early stopping. Best iteration is:\n",
      "[1000]\tvalid_0's rmse: 6.68527\n",
      "Training until validation scores don't improve for 50 rounds\n"
     ]
    },
    {
     "name": "stderr",
     "output_type": "stream",
     "text": [
      "/opt/conda/lib/python3.10/site-packages/lightgbm/engine.py:172: UserWarning: Found `n_estimators` in params. Will use it instead of argument\n",
      "  _log_warning(f\"Found `{alias}` in params. Will use it instead of argument\")\n"
     ]
    },
    {
     "name": "stdout",
     "output_type": "stream",
     "text": [
      "Did not meet early stopping. Best iteration is:\n",
      "[998]\tvalid_0's rmse: 11.1257\n",
      "Training until validation scores don't improve for 50 rounds\n"
     ]
    },
    {
     "name": "stderr",
     "output_type": "stream",
     "text": [
      "/opt/conda/lib/python3.10/site-packages/lightgbm/engine.py:172: UserWarning: Found `n_estimators` in params. Will use it instead of argument\n",
      "  _log_warning(f\"Found `{alias}` in params. Will use it instead of argument\")\n"
     ]
    },
    {
     "name": "stdout",
     "output_type": "stream",
     "text": [
      "Did not meet early stopping. Best iteration is:\n",
      "[1000]\tvalid_0's rmse: 7.33948\n"
     ]
    },
    {
     "name": "stderr",
     "output_type": "stream",
     "text": [
      "GPU available: False, used: False\n",
      "TPU available: False, using: 0 TPU cores\n",
      "IPU available: False, using: 0 IPUs\n",
      "HPU available: False, using: 0 HPUs\n",
      "Missing logger folder: logs/tft_logs\n",
      "\n",
      "   | Name                              | Type                             | Params\n",
      "----------------------------------------------------------------------------------------\n",
      "0  | train_metrics                     | MetricCollection                 | 0     \n",
      "1  | val_metrics                       | MetricCollection                 | 0     \n",
      "2  | input_embeddings                  | _MultiEmbedding                  | 0     \n",
      "3  | static_covariates_vsn             | _VariableSelectionNetwork        | 0     \n",
      "4  | encoder_vsn                       | _VariableSelectionNetwork        | 93.0 K\n",
      "5  | decoder_vsn                       | _VariableSelectionNetwork        | 46.4 K\n",
      "6  | static_context_grn                | _GatedResidualNetwork            | 1.1 K \n",
      "7  | static_context_hidden_encoder_grn | _GatedResidualNetwork            | 1.1 K \n",
      "8  | static_context_cell_encoder_grn   | _GatedResidualNetwork            | 1.1 K \n",
      "9  | static_context_enrichment         | _GatedResidualNetwork            | 1.1 K \n",
      "10 | lstm_encoder                      | LSTM                             | 4.4 K \n",
      "11 | lstm_decoder                      | LSTM                             | 4.4 K \n",
      "12 | post_lstm_gan                     | _GateAddNorm                     | 576   \n",
      "13 | static_enrichment_grn             | _GatedResidualNetwork            | 1.4 K \n",
      "14 | multihead_attn                    | _InterpretableMultiHeadAttention | 676   \n",
      "15 | post_attn_gan                     | _GateAddNorm                     | 576   \n",
      "16 | feed_forward_block                | _GatedResidualNetwork            | 1.1 K \n",
      "17 | pre_output_gan                    | _GateAddNorm                     | 576   \n",
      "18 | output_layer                      | Linear                           | 289   \n",
      "----------------------------------------------------------------------------------------\n",
      "156 K     Trainable params\n",
      "0         Non-trainable params\n",
      "156 K     Total params\n",
      "0.627     Total estimated model params size (MB)\n"
     ]
    },
    {
     "data": {
      "application/vnd.jupyter.widget-view+json": {
       "model_id": "b81e810b03ed4208a8044f288f9f7065",
       "version_major": 2,
       "version_minor": 0
      },
      "text/plain": [
       "Sanity Checking: |          | 0/? [00:00<?, ?it/s]"
      ]
     },
     "metadata": {},
     "output_type": "display_data"
    },
    {
     "data": {
      "application/vnd.jupyter.widget-view+json": {
       "model_id": "5fc068d26f0f4cbd9ae7e6886b3b92a0",
       "version_major": 2,
       "version_minor": 0
      },
      "text/plain": [
       "Training: |          | 0/? [00:00<?, ?it/s]"
      ]
     },
     "metadata": {},
     "output_type": "display_data"
    },
    {
     "data": {
      "application/vnd.jupyter.widget-view+json": {
       "model_id": "267e3e8d2cc2445ab7b1d3711a711f56",
       "version_major": 2,
       "version_minor": 0
      },
      "text/plain": [
       "Validation: |          | 0/? [00:00<?, ?it/s]"
      ]
     },
     "metadata": {},
     "output_type": "display_data"
    },
    {
     "data": {
      "application/vnd.jupyter.widget-view+json": {
       "model_id": "bf21858ae4b449d6a9874b849ad9624c",
       "version_major": 2,
       "version_minor": 0
      },
      "text/plain": [
       "Validation: |          | 0/? [00:00<?, ?it/s]"
      ]
     },
     "metadata": {},
     "output_type": "display_data"
    },
    {
     "data": {
      "application/vnd.jupyter.widget-view+json": {
       "model_id": "f46f5a2b185448ccbe05074d390dbb29",
       "version_major": 2,
       "version_minor": 0
      },
      "text/plain": [
       "Validation: |          | 0/? [00:00<?, ?it/s]"
      ]
     },
     "metadata": {},
     "output_type": "display_data"
    },
    {
     "data": {
      "application/vnd.jupyter.widget-view+json": {
       "model_id": "5d036159938c4f9494c27fce638f1530",
       "version_major": 2,
       "version_minor": 0
      },
      "text/plain": [
       "Validation: |          | 0/? [00:00<?, ?it/s]"
      ]
     },
     "metadata": {},
     "output_type": "display_data"
    },
    {
     "data": {
      "application/vnd.jupyter.widget-view+json": {
       "model_id": "e6b8563063ae4074b43d3d64c556d451",
       "version_major": 2,
       "version_minor": 0
      },
      "text/plain": [
       "Validation: |          | 0/? [00:00<?, ?it/s]"
      ]
     },
     "metadata": {},
     "output_type": "display_data"
    },
    {
     "data": {
      "application/vnd.jupyter.widget-view+json": {
       "model_id": "0b82977a8bb2460d990f72e4494cbfc7",
       "version_major": 2,
       "version_minor": 0
      },
      "text/plain": [
       "Validation: |          | 0/? [00:00<?, ?it/s]"
      ]
     },
     "metadata": {},
     "output_type": "display_data"
    },
    {
     "data": {
      "application/vnd.jupyter.widget-view+json": {
       "model_id": "f380b8ae31474379b5b7d46acbffeccf",
       "version_major": 2,
       "version_minor": 0
      },
      "text/plain": [
       "Validation: |          | 0/? [00:00<?, ?it/s]"
      ]
     },
     "metadata": {},
     "output_type": "display_data"
    },
    {
     "data": {
      "application/vnd.jupyter.widget-view+json": {
       "model_id": "0a1c57fceb674ea59f38f8d55fb8c839",
       "version_major": 2,
       "version_minor": 0
      },
      "text/plain": [
       "Validation: |          | 0/? [00:00<?, ?it/s]"
      ]
     },
     "metadata": {},
     "output_type": "display_data"
    },
    {
     "data": {
      "application/vnd.jupyter.widget-view+json": {
       "model_id": "0a1859ff1007445aa742cdcd6d5a518e",
       "version_major": 2,
       "version_minor": 0
      },
      "text/plain": [
       "Validation: |          | 0/? [00:00<?, ?it/s]"
      ]
     },
     "metadata": {},
     "output_type": "display_data"
    },
    {
     "data": {
      "application/vnd.jupyter.widget-view+json": {
       "model_id": "6cd98ab7f39a4f298b912d4bb71c1aa0",
       "version_major": 2,
       "version_minor": 0
      },
      "text/plain": [
       "Validation: |          | 0/? [00:00<?, ?it/s]"
      ]
     },
     "metadata": {},
     "output_type": "display_data"
    },
    {
     "data": {
      "application/vnd.jupyter.widget-view+json": {
       "model_id": "b3d460a0206e47759d4a8e642c84bb45",
       "version_major": 2,
       "version_minor": 0
      },
      "text/plain": [
       "Validation: |          | 0/? [00:00<?, ?it/s]"
      ]
     },
     "metadata": {},
     "output_type": "display_data"
    },
    {
     "data": {
      "application/vnd.jupyter.widget-view+json": {
       "model_id": "62f5aaa492114606b354362f402e7390",
       "version_major": 2,
       "version_minor": 0
      },
      "text/plain": [
       "Validation: |          | 0/? [00:00<?, ?it/s]"
      ]
     },
     "metadata": {},
     "output_type": "display_data"
    },
    {
     "data": {
      "application/vnd.jupyter.widget-view+json": {
       "model_id": "693dbedfb56f402db906b0f36954e6f4",
       "version_major": 2,
       "version_minor": 0
      },
      "text/plain": [
       "Validation: |          | 0/? [00:00<?, ?it/s]"
      ]
     },
     "metadata": {},
     "output_type": "display_data"
    },
    {
     "data": {
      "application/vnd.jupyter.widget-view+json": {
       "model_id": "7cd4a59ffc174cf093864d19cc2d8061",
       "version_major": 2,
       "version_minor": 0
      },
      "text/plain": [
       "Validation: |          | 0/? [00:00<?, ?it/s]"
      ]
     },
     "metadata": {},
     "output_type": "display_data"
    },
    {
     "data": {
      "application/vnd.jupyter.widget-view+json": {
       "model_id": "7b49d8a7e9a94e759740a3dbea19e240",
       "version_major": 2,
       "version_minor": 0
      },
      "text/plain": [
       "Validation: |          | 0/? [00:00<?, ?it/s]"
      ]
     },
     "metadata": {},
     "output_type": "display_data"
    },
    {
     "data": {
      "application/vnd.jupyter.widget-view+json": {
       "model_id": "22863b800ee74f1ab34435f9b0a3b592",
       "version_major": 2,
       "version_minor": 0
      },
      "text/plain": [
       "Validation: |          | 0/? [00:00<?, ?it/s]"
      ]
     },
     "metadata": {},
     "output_type": "display_data"
    },
    {
     "data": {
      "application/vnd.jupyter.widget-view+json": {
       "model_id": "72211064b84546e0a9b1068a6c911e0f",
       "version_major": 2,
       "version_minor": 0
      },
      "text/plain": [
       "Validation: |          | 0/? [00:00<?, ?it/s]"
      ]
     },
     "metadata": {},
     "output_type": "display_data"
    },
    {
     "data": {
      "application/vnd.jupyter.widget-view+json": {
       "model_id": "007a4a4eef3d49169643aea5ee3f5505",
       "version_major": 2,
       "version_minor": 0
      },
      "text/plain": [
       "Validation: |          | 0/? [00:00<?, ?it/s]"
      ]
     },
     "metadata": {},
     "output_type": "display_data"
    },
    {
     "data": {
      "application/vnd.jupyter.widget-view+json": {
       "model_id": "13576f7029614acd9ce547363521472a",
       "version_major": 2,
       "version_minor": 0
      },
      "text/plain": [
       "Validation: |          | 0/? [00:00<?, ?it/s]"
      ]
     },
     "metadata": {},
     "output_type": "display_data"
    },
    {
     "name": "stdout",
     "output_type": "stream",
     "text": [
      "{'ARIMA': {'rmsse': 0.9727325291181301, 'model': ARIMA(order=(4, 1, 1), scoring_args={}, suppress_warnings=True,\n",
      "      with_intercept=False)}, 'ExponentialSmoothing': {'rmsse': 0.9291192121385823, 'model': <statsmodels.tsa.holtwinters.results.HoltWintersResultsWrapper object at 0x7f7201af6f80>}, 'Prophet': {'rmsse': 0.8431904082552775, 'model': <prophet.forecaster.Prophet object at 0x7f72022419c0>}, 'LightGBM': {'rmsse': 2.2972753868821556, 'model': <lightgbm.basic.Booster object at 0x7f7203ea8970>}, 'RandomForest': {'rmsse': 1.0611056683894087, 'model': RandomForestRegressor(random_state=42)}, 'DartsTFT': {'rmsse': 9.352850144909274, 'model': TFTModel(output_chunk_shift=0, hidden_size=16, lstm_layers=2, num_attention_heads=4, full_attention=False, feed_forward=GatedResidualNetwork, dropout=0.2, hidden_continuous_size=8, categorical_embedding_sizes=None, add_relative_index=False, loss_fn=None, likelihood=None, norm_type=LayerNorm, use_static_covariates=True, input_chunk_length=56, output_chunk_length=28, pl_trainer_kwargs={'callbacks': [<pytorch_lightning.callbacks.early_stopping.EarlyStopping object at 0x7f71b1469a20>], 'accelerator': 'cpu', 'logger': <pytorch_lightning.loggers.csv_logs.CSVLogger object at 0x7f71b146a3e0>}, batch_size=16, torch_metrics=MeanAbsoluteError(), n_epochs=50)}}\n",
      "Model results for FOODS_3_377_TX_3_validation\n",
      "Best model: Prophet\n",
      "Best score: 0.8431904082552775\n",
      "Analyzing product: FOODS_3_808_CA_3_validation\n"
     ]
    },
    {
     "name": "stderr",
     "output_type": "stream",
     "text": [
      "[I 2024-05-15 21:51:25,356] A new study created in memory with name: no-name-43ecab7d-0109-4084-955e-685cb0e45e9b\n"
     ]
    },
    {
     "name": "stdout",
     "output_type": "stream",
     "text": [
      "Optimizing hyperparameters for product: FOODS_3_808_CA_3_validation\n"
     ]
    },
    {
     "name": "stderr",
     "output_type": "stream",
     "text": [
      "[I 2024-05-15 21:51:25,876] Trial 3 finished with value: 1.1219096610979873 and parameters: {'trend': 'add', 'seasonal': None, 'seasonal_periods': 7}. Best is trial 3 with value: 1.1219096610979873.\n",
      "[I 2024-05-15 21:51:26,351] Trial 6 finished with value: 1.1219096610979873 and parameters: {'trend': 'add', 'seasonal': None, 'seasonal_periods': 4}. Best is trial 3 with value: 1.1219096610979873.\n",
      "[I 2024-05-15 21:51:26,626] Trial 7 finished with value: 1.1219096610979873 and parameters: {'trend': 'add', 'seasonal': None, 'seasonal_periods': 12}. Best is trial 3 with value: 1.1219096610979873.\n",
      "[I 2024-05-15 21:51:26,799] Trial 9 finished with value: 1.1219096610979873 and parameters: {'trend': 'add', 'seasonal': None, 'seasonal_periods': 12}. Best is trial 3 with value: 1.1219096610979873.\n",
      "[I 2024-05-15 21:51:26,818] Trial 4 finished with value: 1.1219096610979873 and parameters: {'trend': 'add', 'seasonal': None, 'seasonal_periods': 12}. Best is trial 3 with value: 1.1219096610979873.\n",
      "[I 2024-05-15 21:51:26,879] Trial 1 finished with value: 1.142723635548296 and parameters: {'trend': 'add', 'seasonal': 'add', 'seasonal_periods': 4}. Best is trial 3 with value: 1.1219096610979873.\n",
      "[I 2024-05-15 21:51:26,890] Trial 0 finished with value: 1.142723635548296 and parameters: {'trend': 'add', 'seasonal': 'add', 'seasonal_periods': 4}. Best is trial 3 with value: 1.1219096610979873.\n",
      "[I 2024-05-15 21:51:27,055] Trial 2 finished with value: 1.142723635548296 and parameters: {'trend': 'add', 'seasonal': 'add', 'seasonal_periods': 4}. Best is trial 3 with value: 1.1219096610979873.\n",
      "[I 2024-05-15 21:51:27,121] Trial 5 finished with value: 1.0373995311388398 and parameters: {'trend': 'add', 'seasonal': 'add', 'seasonal_periods': 7}. Best is trial 5 with value: 1.0373995311388398.\n",
      "[I 2024-05-15 21:51:27,181] Trial 8 finished with value: 1.0373995311388398 and parameters: {'trend': 'add', 'seasonal': 'add', 'seasonal_periods': 7}. Best is trial 5 with value: 1.0373995311388398.\n",
      "/opt/conda/lib/python3.10/site-packages/statsmodels/tsa/base/tsa_model.py:473: ValueWarning: No frequency information was provided, so inferred frequency D will be used.\n",
      "  self._init_dates(dates, freq)\n",
      "[I 2024-05-15 21:51:27,441] A new study created in memory with name: no-name-2504fbf8-60bf-420e-a2a0-472efe77194a\n"
     ]
    },
    {
     "name": "stdout",
     "output_type": "stream",
     "text": [
      "Optimizing hyperparameters for product: FOODS_3_808_CA_3_validation\n"
     ]
    },
    {
     "name": "stderr",
     "output_type": "stream",
     "text": [
      "[I 2024-05-15 21:51:27,916] Trial 4 finished with value: 0.7071995044139046 and parameters: {'trend': 'add', 'seasonal': None, 'seasonal_periods': 4}. Best is trial 4 with value: 0.7071995044139046.\n",
      "[I 2024-05-15 21:51:28,047] Trial 2 finished with value: 0.7071995044139046 and parameters: {'trend': 'add', 'seasonal': None, 'seasonal_periods': 7}. Best is trial 4 with value: 0.7071995044139046.\n",
      "[I 2024-05-15 21:51:28,350] Trial 0 finished with value: 0.7071995044139046 and parameters: {'trend': 'add', 'seasonal': None, 'seasonal_periods': None}. Best is trial 4 with value: 0.7071995044139046.\n",
      "[I 2024-05-15 21:51:29,576] Trial 3 finished with value: 0.5165721270619221 and parameters: {'trend': 'add', 'seasonal': 'add', 'seasonal_periods': None}. Best is trial 3 with value: 0.5165721270619221.\n",
      "[I 2024-05-15 21:51:29,609] Trial 7 finished with value: 0.5165721270619221 and parameters: {'trend': 'add', 'seasonal': 'add', 'seasonal_periods': 7}. Best is trial 3 with value: 0.5165721270619221.\n",
      "[I 2024-05-15 21:51:29,623] Trial 5 finished with value: 0.6623211178249174 and parameters: {'trend': 'add', 'seasonal': 'add', 'seasonal_periods': 12}. Best is trial 3 with value: 0.5165721270619221.\n",
      "[I 2024-05-15 21:51:29,624] Trial 8 finished with value: 0.7154076359046015 and parameters: {'trend': 'add', 'seasonal': 'add', 'seasonal_periods': 4}. Best is trial 3 with value: 0.5165721270619221.\n",
      "[I 2024-05-15 21:51:29,633] Trial 1 finished with value: 0.6623211178249174 and parameters: {'trend': 'add', 'seasonal': 'add', 'seasonal_periods': 12}. Best is trial 3 with value: 0.5165721270619221.\n",
      "[I 2024-05-15 21:51:29,647] Trial 9 finished with value: 0.7154076359046015 and parameters: {'trend': 'add', 'seasonal': 'add', 'seasonal_periods': 4}. Best is trial 3 with value: 0.5165721270619221.\n",
      "[I 2024-05-15 21:51:29,672] Trial 6 finished with value: 0.5165721270619221 and parameters: {'trend': 'add', 'seasonal': 'add', 'seasonal_periods': None}. Best is trial 3 with value: 0.5165721270619221.\n",
      "/opt/conda/lib/python3.10/site-packages/statsmodels/tsa/base/tsa_model.py:473: ValueWarning: No frequency information was provided, so inferred frequency D will be used.\n",
      "  self._init_dates(dates, freq)\n",
      "[I 2024-05-15 21:51:29,932] A new study created in memory with name: no-name-efccce82-2692-4b05-8a25-ad3a82265931\n"
     ]
    },
    {
     "name": "stdout",
     "output_type": "stream",
     "text": [
      "Optimizing hyperparameters for product: FOODS_3_808_CA_3_validation\n"
     ]
    },
    {
     "name": "stderr",
     "output_type": "stream",
     "text": [
      "[I 2024-05-15 21:51:30,549] Trial 3 finished with value: 0.348277848758432 and parameters: {'trend': 'add', 'seasonal': None, 'seasonal_periods': 7}. Best is trial 3 with value: 0.348277848758432.\n",
      "[I 2024-05-15 21:51:30,768] Trial 4 finished with value: 0.348277848758432 and parameters: {'trend': 'add', 'seasonal': None, 'seasonal_periods': None}. Best is trial 3 with value: 0.348277848758432.\n",
      "[I 2024-05-15 21:51:30,883] Trial 6 finished with value: 0.348277848758432 and parameters: {'trend': 'add', 'seasonal': None, 'seasonal_periods': 12}. Best is trial 3 with value: 0.348277848758432.\n",
      "[I 2024-05-15 21:51:30,943] Trial 5 finished with value: 0.348277848758432 and parameters: {'trend': 'add', 'seasonal': None, 'seasonal_periods': None}. Best is trial 3 with value: 0.348277848758432.\n",
      "[I 2024-05-15 21:51:30,986] Trial 8 finished with value: 0.348277848758432 and parameters: {'trend': 'add', 'seasonal': None, 'seasonal_periods': 7}. Best is trial 3 with value: 0.348277848758432.\n",
      "[I 2024-05-15 21:51:31,056] Trial 9 finished with value: 0.348277848758432 and parameters: {'trend': 'add', 'seasonal': None, 'seasonal_periods': 4}. Best is trial 3 with value: 0.348277848758432.\n",
      "[I 2024-05-15 21:51:31,082] Trial 7 finished with value: 0.348277848758432 and parameters: {'trend': 'add', 'seasonal': None, 'seasonal_periods': None}. Best is trial 3 with value: 0.348277848758432.\n",
      "[I 2024-05-15 21:51:31,241] Trial 0 finished with value: 0.34150443869585567 and parameters: {'trend': 'add', 'seasonal': 'add', 'seasonal_periods': 12}. Best is trial 0 with value: 0.34150443869585567.\n",
      "[I 2024-05-15 21:51:31,270] Trial 1 finished with value: 0.4118419787023678 and parameters: {'trend': 'add', 'seasonal': 'add', 'seasonal_periods': 7}. Best is trial 0 with value: 0.34150443869585567.\n",
      "[I 2024-05-15 21:51:31,288] Trial 2 finished with value: 0.4118419787023678 and parameters: {'trend': 'add', 'seasonal': 'add', 'seasonal_periods': None}. Best is trial 0 with value: 0.34150443869585567.\n",
      "/opt/conda/lib/python3.10/site-packages/statsmodels/tsa/base/tsa_model.py:473: ValueWarning: No frequency information was provided, so inferred frequency D will be used.\n",
      "  self._init_dates(dates, freq)\n",
      "[I 2024-05-15 21:51:31,528] A new study created in memory with name: no-name-deb0c9ba-8c08-4716-8131-444a4a26d621\n"
     ]
    },
    {
     "name": "stdout",
     "output_type": "stream",
     "text": [
      "Optimizing hyperparameters for product: FOODS_3_808_CA_3_validation\n"
     ]
    },
    {
     "name": "stderr",
     "output_type": "stream",
     "text": [
      "[I 2024-05-15 21:51:32,104] Trial 2 finished with value: 1.4905837812958447 and parameters: {'trend': 'add', 'seasonal': None, 'seasonal_periods': 7}. Best is trial 2 with value: 1.4905837812958447.\n",
      "[I 2024-05-15 21:51:32,341] Trial 3 finished with value: 1.4905837812958447 and parameters: {'trend': 'add', 'seasonal': None, 'seasonal_periods': 12}. Best is trial 2 with value: 1.4905837812958447.\n",
      "[I 2024-05-15 21:51:32,534] Trial 4 finished with value: 1.4905837812958447 and parameters: {'trend': 'add', 'seasonal': None, 'seasonal_periods': 12}. Best is trial 2 with value: 1.4905837812958447.\n",
      "[I 2024-05-15 21:51:32,535] Trial 5 finished with value: 1.4905837812958447 and parameters: {'trend': 'add', 'seasonal': None, 'seasonal_periods': 4}. Best is trial 2 with value: 1.4905837812958447.\n",
      "[I 2024-05-15 21:51:32,635] Trial 9 finished with value: 1.4905837812958447 and parameters: {'trend': 'add', 'seasonal': None, 'seasonal_periods': 12}. Best is trial 2 with value: 1.4905837812958447.\n",
      "[I 2024-05-15 21:51:32,687] Trial 0 finished with value: 1.4782557232904667 and parameters: {'trend': 'add', 'seasonal': 'add', 'seasonal_periods': 12}. Best is trial 0 with value: 1.4782557232904667.\n",
      "[I 2024-05-15 21:51:32,868] Trial 1 finished with value: 1.518794700853005 and parameters: {'trend': 'add', 'seasonal': 'add', 'seasonal_periods': None}. Best is trial 0 with value: 1.4782557232904667.\n",
      "[I 2024-05-15 21:51:33,229] Trial 8 finished with value: 1.4782557232904667 and parameters: {'trend': 'add', 'seasonal': 'add', 'seasonal_periods': 12}. Best is trial 0 with value: 1.4782557232904667.\n",
      "[I 2024-05-15 21:51:33,269] Trial 7 finished with value: 1.4782557232904667 and parameters: {'trend': 'add', 'seasonal': 'add', 'seasonal_periods': 12}. Best is trial 0 with value: 1.4782557232904667.\n",
      "[I 2024-05-15 21:51:33,287] Trial 6 finished with value: 1.4782557232904667 and parameters: {'trend': 'add', 'seasonal': 'add', 'seasonal_periods': 12}. Best is trial 0 with value: 1.4782557232904667.\n",
      "/opt/conda/lib/python3.10/site-packages/statsmodels/tsa/base/tsa_model.py:473: ValueWarning: No frequency information was provided, so inferred frequency D will be used.\n",
      "  self._init_dates(dates, freq)\n",
      "[I 2024-05-15 21:51:33,525] A new study created in memory with name: no-name-082ef26c-29f2-48a2-9fd0-ce4155358a67\n"
     ]
    },
    {
     "name": "stdout",
     "output_type": "stream",
     "text": [
      "Optimizing hyperparameters for product: FOODS_3_808_CA_3_validation\n"
     ]
    },
    {
     "name": "stderr",
     "output_type": "stream",
     "text": [
      "[I 2024-05-15 21:51:33,947] Trial 2 finished with value: 0.3438351831077783 and parameters: {'trend': 'add', 'seasonal': None, 'seasonal_periods': 7}. Best is trial 2 with value: 0.3438351831077783.\n",
      "[I 2024-05-15 21:51:34,372] Trial 6 finished with value: 0.3438351831077783 and parameters: {'trend': 'add', 'seasonal': None, 'seasonal_periods': 12}. Best is trial 2 with value: 0.3438351831077783.\n",
      "[I 2024-05-15 21:51:34,507] Trial 8 finished with value: 0.3438351831077783 and parameters: {'trend': 'add', 'seasonal': None, 'seasonal_periods': 12}. Best is trial 2 with value: 0.3438351831077783.\n",
      "[I 2024-05-15 21:51:34,509] Trial 7 finished with value: 0.3438351831077783 and parameters: {'trend': 'add', 'seasonal': None, 'seasonal_periods': 4}. Best is trial 2 with value: 0.3438351831077783.\n",
      "[I 2024-05-15 21:51:34,592] Trial 3 finished with value: 0.3438351831077783 and parameters: {'trend': 'add', 'seasonal': None, 'seasonal_periods': 7}. Best is trial 2 with value: 0.3438351831077783.\n",
      "[I 2024-05-15 21:51:35,134] Trial 4 finished with value: 0.3671158698742859 and parameters: {'trend': 'add', 'seasonal': 'add', 'seasonal_periods': 4}. Best is trial 2 with value: 0.3438351831077783.\n",
      "[I 2024-05-15 21:51:35,178] Trial 1 finished with value: 0.3671158698742859 and parameters: {'trend': 'add', 'seasonal': 'add', 'seasonal_periods': 4}. Best is trial 2 with value: 0.3438351831077783.\n",
      "[I 2024-05-15 21:51:35,231] Trial 9 finished with value: 0.3671158698742859 and parameters: {'trend': 'add', 'seasonal': 'add', 'seasonal_periods': 4}. Best is trial 2 with value: 0.3438351831077783.\n",
      "[I 2024-05-15 21:51:35,262] Trial 5 finished with value: 0.3958906341701906 and parameters: {'trend': 'add', 'seasonal': 'add', 'seasonal_periods': 12}. Best is trial 2 with value: 0.3438351831077783.\n",
      "[I 2024-05-15 21:51:35,290] Trial 0 finished with value: 0.5073997894965058 and parameters: {'trend': 'add', 'seasonal': 'add', 'seasonal_periods': 7}. Best is trial 2 with value: 0.3438351831077783.\n",
      "/opt/conda/lib/python3.10/site-packages/statsmodels/tsa/base/tsa_model.py:473: ValueWarning: No frequency information was provided, so inferred frequency D will be used.\n",
      "  self._init_dates(dates, freq)\n",
      "/var/tmp/ipykernel_1903582/1261245201.py:12: SettingWithCopyWarning: \n",
      "A value is trying to be set on a copy of a slice from a DataFrame.\n",
      "Try using .loc[row_indexer,col_indexer] = value instead\n",
      "\n",
      "See the caveats in the documentation: https://pandas.pydata.org/pandas-docs/stable/user_guide/indexing.html#returning-a-view-versus-a-copy\n",
      "  prophet_data_train['ds'] = pd.to_datetime(prophet_data_train['ds'])\n",
      "/var/tmp/ipykernel_1903582/1261245201.py:13: SettingWithCopyWarning: \n",
      "A value is trying to be set on a copy of a slice from a DataFrame.\n",
      "Try using .loc[row_indexer,col_indexer] = value instead\n",
      "\n",
      "See the caveats in the documentation: https://pandas.pydata.org/pandas-docs/stable/user_guide/indexing.html#returning-a-view-versus-a-copy\n",
      "  prophet_data_test['ds'] = pd.to_datetime(prophet_data_test['ds'])\n",
      "21:51:35 - cmdstanpy - INFO - Chain [1] start processing\n",
      "21:51:35 - cmdstanpy - INFO - Chain [1] done processing\n",
      "/var/tmp/ipykernel_1903582/1261245201.py:12: SettingWithCopyWarning: \n",
      "A value is trying to be set on a copy of a slice from a DataFrame.\n",
      "Try using .loc[row_indexer,col_indexer] = value instead\n",
      "\n",
      "See the caveats in the documentation: https://pandas.pydata.org/pandas-docs/stable/user_guide/indexing.html#returning-a-view-versus-a-copy\n",
      "  prophet_data_train['ds'] = pd.to_datetime(prophet_data_train['ds'])\n",
      "/var/tmp/ipykernel_1903582/1261245201.py:13: SettingWithCopyWarning: \n",
      "A value is trying to be set on a copy of a slice from a DataFrame.\n",
      "Try using .loc[row_indexer,col_indexer] = value instead\n",
      "\n",
      "See the caveats in the documentation: https://pandas.pydata.org/pandas-docs/stable/user_guide/indexing.html#returning-a-view-versus-a-copy\n",
      "  prophet_data_test['ds'] = pd.to_datetime(prophet_data_test['ds'])\n",
      "21:51:35 - cmdstanpy - INFO - Chain [1] start processing\n",
      "21:51:35 - cmdstanpy - INFO - Chain [1] done processing\n",
      "/var/tmp/ipykernel_1903582/1261245201.py:12: SettingWithCopyWarning: \n",
      "A value is trying to be set on a copy of a slice from a DataFrame.\n",
      "Try using .loc[row_indexer,col_indexer] = value instead\n",
      "\n",
      "See the caveats in the documentation: https://pandas.pydata.org/pandas-docs/stable/user_guide/indexing.html#returning-a-view-versus-a-copy\n",
      "  prophet_data_train['ds'] = pd.to_datetime(prophet_data_train['ds'])\n",
      "/var/tmp/ipykernel_1903582/1261245201.py:13: SettingWithCopyWarning: \n",
      "A value is trying to be set on a copy of a slice from a DataFrame.\n",
      "Try using .loc[row_indexer,col_indexer] = value instead\n",
      "\n",
      "See the caveats in the documentation: https://pandas.pydata.org/pandas-docs/stable/user_guide/indexing.html#returning-a-view-versus-a-copy\n",
      "  prophet_data_test['ds'] = pd.to_datetime(prophet_data_test['ds'])\n",
      "21:51:36 - cmdstanpy - INFO - Chain [1] start processing\n",
      "21:51:36 - cmdstanpy - INFO - Chain [1] done processing\n",
      "/var/tmp/ipykernel_1903582/1261245201.py:12: SettingWithCopyWarning: \n",
      "A value is trying to be set on a copy of a slice from a DataFrame.\n",
      "Try using .loc[row_indexer,col_indexer] = value instead\n",
      "\n",
      "See the caveats in the documentation: https://pandas.pydata.org/pandas-docs/stable/user_guide/indexing.html#returning-a-view-versus-a-copy\n",
      "  prophet_data_train['ds'] = pd.to_datetime(prophet_data_train['ds'])\n",
      "/var/tmp/ipykernel_1903582/1261245201.py:13: SettingWithCopyWarning: \n",
      "A value is trying to be set on a copy of a slice from a DataFrame.\n",
      "Try using .loc[row_indexer,col_indexer] = value instead\n",
      "\n",
      "See the caveats in the documentation: https://pandas.pydata.org/pandas-docs/stable/user_guide/indexing.html#returning-a-view-versus-a-copy\n",
      "  prophet_data_test['ds'] = pd.to_datetime(prophet_data_test['ds'])\n",
      "21:51:36 - cmdstanpy - INFO - Chain [1] start processing\n",
      "21:51:36 - cmdstanpy - INFO - Chain [1] done processing\n",
      "/var/tmp/ipykernel_1903582/1261245201.py:12: SettingWithCopyWarning: \n",
      "A value is trying to be set on a copy of a slice from a DataFrame.\n",
      "Try using .loc[row_indexer,col_indexer] = value instead\n",
      "\n",
      "See the caveats in the documentation: https://pandas.pydata.org/pandas-docs/stable/user_guide/indexing.html#returning-a-view-versus-a-copy\n",
      "  prophet_data_train['ds'] = pd.to_datetime(prophet_data_train['ds'])\n",
      "/var/tmp/ipykernel_1903582/1261245201.py:13: SettingWithCopyWarning: \n",
      "A value is trying to be set on a copy of a slice from a DataFrame.\n",
      "Try using .loc[row_indexer,col_indexer] = value instead\n",
      "\n",
      "See the caveats in the documentation: https://pandas.pydata.org/pandas-docs/stable/user_guide/indexing.html#returning-a-view-versus-a-copy\n",
      "  prophet_data_test['ds'] = pd.to_datetime(prophet_data_test['ds'])\n",
      "21:51:36 - cmdstanpy - INFO - Chain [1] start processing\n",
      "21:51:36 - cmdstanpy - INFO - Chain [1] done processing\n",
      "/opt/conda/lib/python3.10/site-packages/lightgbm/engine.py:172: UserWarning: Found `n_estimators` in params. Will use it instead of argument\n",
      "  _log_warning(f\"Found `{alias}` in params. Will use it instead of argument\")\n"
     ]
    },
    {
     "name": "stdout",
     "output_type": "stream",
     "text": [
      "Training until validation scores don't improve for 50 rounds\n",
      "Did not meet early stopping. Best iteration is:\n",
      "[1000]\tvalid_0's rmse: 10.3254\n",
      "Training until validation scores don't improve for 50 rounds\n"
     ]
    },
    {
     "name": "stderr",
     "output_type": "stream",
     "text": [
      "/opt/conda/lib/python3.10/site-packages/lightgbm/engine.py:172: UserWarning: Found `n_estimators` in params. Will use it instead of argument\n",
      "  _log_warning(f\"Found `{alias}` in params. Will use it instead of argument\")\n"
     ]
    },
    {
     "name": "stdout",
     "output_type": "stream",
     "text": [
      "Early stopping, best iteration is:\n",
      "[831]\tvalid_0's rmse: 7.09286\n",
      "Training until validation scores don't improve for 50 rounds\n"
     ]
    },
    {
     "name": "stderr",
     "output_type": "stream",
     "text": [
      "/opt/conda/lib/python3.10/site-packages/lightgbm/engine.py:172: UserWarning: Found `n_estimators` in params. Will use it instead of argument\n",
      "  _log_warning(f\"Found `{alias}` in params. Will use it instead of argument\")\n"
     ]
    },
    {
     "name": "stdout",
     "output_type": "stream",
     "text": [
      "Early stopping, best iteration is:\n",
      "[812]\tvalid_0's rmse: 18.6041\n",
      "Training until validation scores don't improve for 50 rounds\n"
     ]
    },
    {
     "name": "stderr",
     "output_type": "stream",
     "text": [
      "/opt/conda/lib/python3.10/site-packages/lightgbm/engine.py:172: UserWarning: Found `n_estimators` in params. Will use it instead of argument\n",
      "  _log_warning(f\"Found `{alias}` in params. Will use it instead of argument\")\n"
     ]
    },
    {
     "name": "stdout",
     "output_type": "stream",
     "text": [
      "Early stopping, best iteration is:\n",
      "[647]\tvalid_0's rmse: 4.08636\n",
      "Training until validation scores don't improve for 50 rounds\n"
     ]
    },
    {
     "name": "stderr",
     "output_type": "stream",
     "text": [
      "/opt/conda/lib/python3.10/site-packages/lightgbm/engine.py:172: UserWarning: Found `n_estimators` in params. Will use it instead of argument\n",
      "  _log_warning(f\"Found `{alias}` in params. Will use it instead of argument\")\n"
     ]
    },
    {
     "name": "stdout",
     "output_type": "stream",
     "text": [
      "Early stopping, best iteration is:\n",
      "[651]\tvalid_0's rmse: 1.10111\n"
     ]
    },
    {
     "name": "stderr",
     "output_type": "stream",
     "text": [
      "GPU available: False, used: False\n",
      "TPU available: False, using: 0 TPU cores\n",
      "IPU available: False, using: 0 IPUs\n",
      "HPU available: False, using: 0 HPUs\n",
      "Missing logger folder: logs/tft_logs\n",
      "\n",
      "   | Name                              | Type                             | Params\n",
      "----------------------------------------------------------------------------------------\n",
      "0  | train_metrics                     | MetricCollection                 | 0     \n",
      "1  | val_metrics                       | MetricCollection                 | 0     \n",
      "2  | input_embeddings                  | _MultiEmbedding                  | 0     \n",
      "3  | static_covariates_vsn             | _VariableSelectionNetwork        | 0     \n",
      "4  | encoder_vsn                       | _VariableSelectionNetwork        | 93.0 K\n",
      "5  | decoder_vsn                       | _VariableSelectionNetwork        | 46.4 K\n",
      "6  | static_context_grn                | _GatedResidualNetwork            | 1.1 K \n",
      "7  | static_context_hidden_encoder_grn | _GatedResidualNetwork            | 1.1 K \n",
      "8  | static_context_cell_encoder_grn   | _GatedResidualNetwork            | 1.1 K \n",
      "9  | static_context_enrichment         | _GatedResidualNetwork            | 1.1 K \n",
      "10 | lstm_encoder                      | LSTM                             | 4.4 K \n",
      "11 | lstm_decoder                      | LSTM                             | 4.4 K \n",
      "12 | post_lstm_gan                     | _GateAddNorm                     | 576   \n",
      "13 | static_enrichment_grn             | _GatedResidualNetwork            | 1.4 K \n",
      "14 | multihead_attn                    | _InterpretableMultiHeadAttention | 676   \n",
      "15 | post_attn_gan                     | _GateAddNorm                     | 576   \n",
      "16 | feed_forward_block                | _GatedResidualNetwork            | 1.1 K \n",
      "17 | pre_output_gan                    | _GateAddNorm                     | 576   \n",
      "18 | output_layer                      | Linear                           | 289   \n",
      "----------------------------------------------------------------------------------------\n",
      "156 K     Trainable params\n",
      "0         Non-trainable params\n",
      "156 K     Total params\n",
      "0.627     Total estimated model params size (MB)\n"
     ]
    },
    {
     "data": {
      "application/vnd.jupyter.widget-view+json": {
       "model_id": "157e4f1429a44c3c99a75af03d36d9b8",
       "version_major": 2,
       "version_minor": 0
      },
      "text/plain": [
       "Sanity Checking: |          | 0/? [00:00<?, ?it/s]"
      ]
     },
     "metadata": {},
     "output_type": "display_data"
    },
    {
     "data": {
      "application/vnd.jupyter.widget-view+json": {
       "model_id": "3c5b752f1b2d4a1f977ffeb10e2bd659",
       "version_major": 2,
       "version_minor": 0
      },
      "text/plain": [
       "Training: |          | 0/? [00:00<?, ?it/s]"
      ]
     },
     "metadata": {},
     "output_type": "display_data"
    },
    {
     "data": {
      "application/vnd.jupyter.widget-view+json": {
       "model_id": "6beb10296e9549d1a69a62fadcbb725a",
       "version_major": 2,
       "version_minor": 0
      },
      "text/plain": [
       "Validation: |          | 0/? [00:00<?, ?it/s]"
      ]
     },
     "metadata": {},
     "output_type": "display_data"
    },
    {
     "data": {
      "application/vnd.jupyter.widget-view+json": {
       "model_id": "97062d0a06c643b9a6ba67d110b2c198",
       "version_major": 2,
       "version_minor": 0
      },
      "text/plain": [
       "Validation: |          | 0/? [00:00<?, ?it/s]"
      ]
     },
     "metadata": {},
     "output_type": "display_data"
    },
    {
     "data": {
      "application/vnd.jupyter.widget-view+json": {
       "model_id": "3e99f927521f43e49163047366a15153",
       "version_major": 2,
       "version_minor": 0
      },
      "text/plain": [
       "Validation: |          | 0/? [00:00<?, ?it/s]"
      ]
     },
     "metadata": {},
     "output_type": "display_data"
    },
    {
     "data": {
      "application/vnd.jupyter.widget-view+json": {
       "model_id": "6fad952f053f492eba0ebdcfc3010d23",
       "version_major": 2,
       "version_minor": 0
      },
      "text/plain": [
       "Validation: |          | 0/? [00:00<?, ?it/s]"
      ]
     },
     "metadata": {},
     "output_type": "display_data"
    },
    {
     "data": {
      "application/vnd.jupyter.widget-view+json": {
       "model_id": "e0aebc9a49ce4e75b9fb486ba8995d68",
       "version_major": 2,
       "version_minor": 0
      },
      "text/plain": [
       "Validation: |          | 0/? [00:00<?, ?it/s]"
      ]
     },
     "metadata": {},
     "output_type": "display_data"
    },
    {
     "data": {
      "application/vnd.jupyter.widget-view+json": {
       "model_id": "1c6a097499ab417186d3d0e6569d3a33",
       "version_major": 2,
       "version_minor": 0
      },
      "text/plain": [
       "Validation: |          | 0/? [00:00<?, ?it/s]"
      ]
     },
     "metadata": {},
     "output_type": "display_data"
    },
    {
     "data": {
      "application/vnd.jupyter.widget-view+json": {
       "model_id": "95f92fec1c9f44afaa1decd4fc620b0c",
       "version_major": 2,
       "version_minor": 0
      },
      "text/plain": [
       "Validation: |          | 0/? [00:00<?, ?it/s]"
      ]
     },
     "metadata": {},
     "output_type": "display_data"
    },
    {
     "data": {
      "application/vnd.jupyter.widget-view+json": {
       "model_id": "2971aca49e3144d9abe22f1d5743938c",
       "version_major": 2,
       "version_minor": 0
      },
      "text/plain": [
       "Validation: |          | 0/? [00:00<?, ?it/s]"
      ]
     },
     "metadata": {},
     "output_type": "display_data"
    },
    {
     "data": {
      "application/vnd.jupyter.widget-view+json": {
       "model_id": "bc7591d67c0249a0bacc6fae3fa24866",
       "version_major": 2,
       "version_minor": 0
      },
      "text/plain": [
       "Validation: |          | 0/? [00:00<?, ?it/s]"
      ]
     },
     "metadata": {},
     "output_type": "display_data"
    },
    {
     "data": {
      "application/vnd.jupyter.widget-view+json": {
       "model_id": "6ea8097854a648488d42a801f9f1887c",
       "version_major": 2,
       "version_minor": 0
      },
      "text/plain": [
       "Validation: |          | 0/? [00:00<?, ?it/s]"
      ]
     },
     "metadata": {},
     "output_type": "display_data"
    },
    {
     "name": "stdout",
     "output_type": "stream",
     "text": [
      "{'ARIMA': {'rmsse': 0.8680134149194532, 'model': ARIMA(order=(1, 1, 1), scoring_args={}, suppress_warnings=True,\n",
      "      with_intercept=False)}, 'ExponentialSmoothing': {'rmsse': 0.7435134006589725, 'model': <statsmodels.tsa.holtwinters.results.HoltWintersResultsWrapper object at 0x7f72024e28f0>}, 'Prophet': {'rmsse': 1.0021586749839222, 'model': <prophet.forecaster.Prophet object at 0x7f71433e1de0>}, 'LightGBM': {'rmsse': 0.9764392174700923, 'model': <lightgbm.basic.Booster object at 0x7f71a02f41c0>}, 'RandomForest': {'rmsse': 0.828212135787104, 'model': RandomForestRegressor(random_state=42)}, 'DartsTFT': {'rmsse': 16.160093738186745, 'model': TFTModel(output_chunk_shift=0, hidden_size=16, lstm_layers=2, num_attention_heads=4, full_attention=False, feed_forward=GatedResidualNetwork, dropout=0.2, hidden_continuous_size=8, categorical_embedding_sizes=None, add_relative_index=False, loss_fn=None, likelihood=None, norm_type=LayerNorm, use_static_covariates=True, input_chunk_length=56, output_chunk_length=28, pl_trainer_kwargs={'callbacks': [<pytorch_lightning.callbacks.early_stopping.EarlyStopping object at 0x7f71b00b0af0>], 'accelerator': 'cpu', 'logger': <pytorch_lightning.loggers.csv_logs.CSVLogger object at 0x7f71b00b0be0>}, batch_size=16, torch_metrics=MeanAbsoluteError(), n_epochs=50)}}\n",
      "Model results for FOODS_3_808_CA_3_validation\n",
      "Best model: ExponentialSmoothing\n",
      "Best score: 0.7435134006589725\n",
      "Analyzing product: FOODS_3_587_CA_3_validation\n"
     ]
    },
    {
     "name": "stderr",
     "output_type": "stream",
     "text": [
      "[I 2024-05-15 22:04:59,258] A new study created in memory with name: no-name-7d54d384-2962-49ca-9ca0-54bbd0934b3d\n"
     ]
    },
    {
     "name": "stdout",
     "output_type": "stream",
     "text": [
      "Optimizing hyperparameters for product: FOODS_3_587_CA_3_validation\n"
     ]
    },
    {
     "name": "stderr",
     "output_type": "stream",
     "text": [
      "[I 2024-05-15 22:04:59,529] Trial 2 finished with value: 0.8858067040967681 and parameters: {'trend': 'add', 'seasonal': None, 'seasonal_periods': 12}. Best is trial 2 with value: 0.8858067040967681.\n",
      "[I 2024-05-15 22:04:59,634] Trial 1 finished with value: 0.8858067040967681 and parameters: {'trend': 'add', 'seasonal': None, 'seasonal_periods': 12}. Best is trial 2 with value: 0.8858067040967681.\n",
      "[I 2024-05-15 22:04:59,761] Trial 0 finished with value: 0.8858067040967681 and parameters: {'trend': 'add', 'seasonal': None, 'seasonal_periods': 7}. Best is trial 2 with value: 0.8858067040967681.\n",
      "[I 2024-05-15 22:04:59,971] Trial 4 finished with value: 0.8858067040967681 and parameters: {'trend': 'add', 'seasonal': None, 'seasonal_periods': None}. Best is trial 2 with value: 0.8858067040967681.\n",
      "[I 2024-05-15 22:04:59,989] Trial 8 finished with value: 0.8858067040967681 and parameters: {'trend': 'add', 'seasonal': None, 'seasonal_periods': 12}. Best is trial 2 with value: 0.8858067040967681.\n",
      "[I 2024-05-15 22:05:00,045] Trial 5 finished with value: 0.8858067040967681 and parameters: {'trend': 'add', 'seasonal': None, 'seasonal_periods': None}. Best is trial 2 with value: 0.8858067040967681.\n",
      "[I 2024-05-15 22:05:00,695] Trial 3 finished with value: 0.9020527225138201 and parameters: {'trend': 'add', 'seasonal': 'add', 'seasonal_periods': 12}. Best is trial 2 with value: 0.8858067040967681.\n",
      "[I 2024-05-15 22:05:00,758] Trial 7 finished with value: 1.061542939901594 and parameters: {'trend': 'add', 'seasonal': 'add', 'seasonal_periods': None}. Best is trial 2 with value: 0.8858067040967681.\n",
      "[I 2024-05-15 22:05:00,828] Trial 9 finished with value: 0.9020527225138201 and parameters: {'trend': 'add', 'seasonal': 'add', 'seasonal_periods': 12}. Best is trial 2 with value: 0.8858067040967681.\n",
      "[I 2024-05-15 22:05:00,837] Trial 6 finished with value: 1.061542939901594 and parameters: {'trend': 'add', 'seasonal': 'add', 'seasonal_periods': 7}. Best is trial 2 with value: 0.8858067040967681.\n",
      "/opt/conda/lib/python3.10/site-packages/statsmodels/tsa/base/tsa_model.py:473: ValueWarning: No frequency information was provided, so inferred frequency D will be used.\n",
      "  self._init_dates(dates, freq)\n",
      "[I 2024-05-15 22:05:00,884] A new study created in memory with name: no-name-a8d567a7-3b53-4323-882e-9b8f13eda7f1\n"
     ]
    },
    {
     "name": "stdout",
     "output_type": "stream",
     "text": [
      "Optimizing hyperparameters for product: FOODS_3_587_CA_3_validation\n"
     ]
    },
    {
     "name": "stderr",
     "output_type": "stream",
     "text": [
      "[I 2024-05-15 22:05:01,142] Trial 0 finished with value: 0.6890490306172611 and parameters: {'trend': 'add', 'seasonal': None, 'seasonal_periods': None}. Best is trial 0 with value: 0.6890490306172611.\n",
      "[I 2024-05-15 22:05:01,223] Trial 2 finished with value: 0.6890490306172611 and parameters: {'trend': 'add', 'seasonal': None, 'seasonal_periods': 7}. Best is trial 0 with value: 0.6890490306172611.\n",
      "[I 2024-05-15 22:05:01,555] Trial 3 finished with value: 0.6890490306172611 and parameters: {'trend': 'add', 'seasonal': None, 'seasonal_periods': None}. Best is trial 0 with value: 0.6890490306172611.\n",
      "[I 2024-05-15 22:05:01,705] Trial 5 finished with value: 0.6890490306172611 and parameters: {'trend': 'add', 'seasonal': None, 'seasonal_periods': 7}. Best is trial 0 with value: 0.6890490306172611.\n",
      "[I 2024-05-15 22:05:01,853] Trial 9 finished with value: 0.6890490306172611 and parameters: {'trend': 'add', 'seasonal': None, 'seasonal_periods': 12}. Best is trial 0 with value: 0.6890490306172611.\n",
      "[I 2024-05-15 22:05:02,585] Trial 4 finished with value: 0.7073247508245223 and parameters: {'trend': 'add', 'seasonal': 'add', 'seasonal_periods': 7}. Best is trial 0 with value: 0.6890490306172611.\n",
      "[I 2024-05-15 22:05:02,602] Trial 8 finished with value: 0.7073247508245223 and parameters: {'trend': 'add', 'seasonal': 'add', 'seasonal_periods': 7}. Best is trial 0 with value: 0.6890490306172611.\n",
      "[I 2024-05-15 22:05:02,616] Trial 6 finished with value: 0.6974144085791817 and parameters: {'trend': 'add', 'seasonal': 'add', 'seasonal_periods': 12}. Best is trial 0 with value: 0.6890490306172611.\n",
      "[I 2024-05-15 22:05:02,660] Trial 7 finished with value: 0.7073247508245223 and parameters: {'trend': 'add', 'seasonal': 'add', 'seasonal_periods': None}. Best is trial 0 with value: 0.6890490306172611.\n",
      "[I 2024-05-15 22:05:02,679] Trial 1 finished with value: 0.6974144085791817 and parameters: {'trend': 'add', 'seasonal': 'add', 'seasonal_periods': 12}. Best is trial 0 with value: 0.6890490306172611.\n",
      "/opt/conda/lib/python3.10/site-packages/statsmodels/tsa/base/tsa_model.py:473: ValueWarning: No frequency information was provided, so inferred frequency D will be used.\n",
      "  self._init_dates(dates, freq)\n",
      "[I 2024-05-15 22:05:02,727] A new study created in memory with name: no-name-cf29bc7b-de42-4a9a-a40b-ff3943e5242f\n"
     ]
    },
    {
     "name": "stdout",
     "output_type": "stream",
     "text": [
      "Optimizing hyperparameters for product: FOODS_3_587_CA_3_validation\n"
     ]
    },
    {
     "name": "stderr",
     "output_type": "stream",
     "text": [
      "[I 2024-05-15 22:05:03,001] Trial 2 finished with value: 1.2215397025845507 and parameters: {'trend': 'add', 'seasonal': None, 'seasonal_periods': 4}. Best is trial 2 with value: 1.2215397025845507.\n",
      "[I 2024-05-15 22:05:03,159] Trial 1 finished with value: 1.2215397025845507 and parameters: {'trend': 'add', 'seasonal': None, 'seasonal_periods': None}. Best is trial 2 with value: 1.2215397025845507.\n",
      "[I 2024-05-15 22:05:03,208] Trial 0 finished with value: 1.2215397025845507 and parameters: {'trend': 'add', 'seasonal': None, 'seasonal_periods': 7}. Best is trial 2 with value: 1.2215397025845507.\n",
      "[I 2024-05-15 22:05:04,777] Trial 4 finished with value: 1.1052094562700827 and parameters: {'trend': 'add', 'seasonal': 'add', 'seasonal_periods': None}. Best is trial 4 with value: 1.1052094562700827.\n",
      "[I 2024-05-15 22:05:04,863] Trial 6 finished with value: 1.0572458615210607 and parameters: {'trend': 'add', 'seasonal': 'add', 'seasonal_periods': 12}. Best is trial 6 with value: 1.0572458615210607.\n",
      "[I 2024-05-15 22:05:04,864] Trial 8 finished with value: 1.1052094562700827 and parameters: {'trend': 'add', 'seasonal': 'add', 'seasonal_periods': 7}. Best is trial 6 with value: 1.0572458615210607.\n",
      "[I 2024-05-15 22:05:04,894] Trial 3 finished with value: 1.1052094562700827 and parameters: {'trend': 'add', 'seasonal': 'add', 'seasonal_periods': None}. Best is trial 6 with value: 1.0572458615210607.\n",
      "[I 2024-05-15 22:05:04,899] Trial 7 finished with value: 1.0572458615210607 and parameters: {'trend': 'add', 'seasonal': 'add', 'seasonal_periods': 12}. Best is trial 6 with value: 1.0572458615210607.\n",
      "[I 2024-05-15 22:05:04,933] Trial 5 finished with value: 1.3860118464955289 and parameters: {'trend': 'add', 'seasonal': 'add', 'seasonal_periods': 4}. Best is trial 6 with value: 1.0572458615210607.\n",
      "[I 2024-05-15 22:05:04,958] Trial 9 finished with value: 1.3860118464955289 and parameters: {'trend': 'add', 'seasonal': 'add', 'seasonal_periods': 4}. Best is trial 6 with value: 1.0572458615210607.\n",
      "/opt/conda/lib/python3.10/site-packages/statsmodels/tsa/base/tsa_model.py:473: ValueWarning: No frequency information was provided, so inferred frequency D will be used.\n",
      "  self._init_dates(dates, freq)\n",
      "[I 2024-05-15 22:05:05,202] A new study created in memory with name: no-name-c231e91e-5aa7-4eef-8bcc-c0191fb09fa4\n",
      "[I 2024-05-15 22:05:05,329] Trial 0 finished with value: 0.7098544135496658 and parameters: {'trend': 'add', 'seasonal': None, 'seasonal_periods': 4}. Best is trial 0 with value: 0.7098544135496658.\n"
     ]
    },
    {
     "name": "stdout",
     "output_type": "stream",
     "text": [
      "Optimizing hyperparameters for product: FOODS_3_587_CA_3_validation\n"
     ]
    },
    {
     "name": "stderr",
     "output_type": "stream",
     "text": [
      "[I 2024-05-15 22:05:05,746] Trial 2 finished with value: 0.7098544135496658 and parameters: {'trend': 'add', 'seasonal': None, 'seasonal_periods': 4}. Best is trial 0 with value: 0.7098544135496658.\n",
      "[I 2024-05-15 22:05:06,031] Trial 6 finished with value: 0.7098544135496658 and parameters: {'trend': 'add', 'seasonal': None, 'seasonal_periods': None}. Best is trial 0 with value: 0.7098544135496658.\n",
      "[I 2024-05-15 22:05:06,167] Trial 7 finished with value: 0.7098544135496658 and parameters: {'trend': 'add', 'seasonal': None, 'seasonal_periods': 7}. Best is trial 0 with value: 0.7098544135496658.\n",
      "[I 2024-05-15 22:05:06,734] Trial 1 finished with value: 0.5812111976708006 and parameters: {'trend': 'add', 'seasonal': 'add', 'seasonal_periods': 12}. Best is trial 1 with value: 0.5812111976708006.\n",
      "[I 2024-05-15 22:05:07,003] Trial 3 finished with value: 0.4881360285747269 and parameters: {'trend': 'add', 'seasonal': 'add', 'seasonal_periods': None}. Best is trial 3 with value: 0.4881360285747269.\n",
      "[I 2024-05-15 22:05:07,021] Trial 5 finished with value: 0.4881360285747269 and parameters: {'trend': 'add', 'seasonal': 'add', 'seasonal_periods': 7}. Best is trial 3 with value: 0.4881360285747269.\n",
      "[I 2024-05-15 22:05:07,121] Trial 8 finished with value: 0.4881360285747269 and parameters: {'trend': 'add', 'seasonal': 'add', 'seasonal_periods': None}. Best is trial 3 with value: 0.4881360285747269.\n",
      "[I 2024-05-15 22:05:07,151] Trial 4 finished with value: 0.5812111976708006 and parameters: {'trend': 'add', 'seasonal': 'add', 'seasonal_periods': 12}. Best is trial 3 with value: 0.4881360285747269.\n",
      "[I 2024-05-15 22:05:07,159] Trial 9 finished with value: 0.5812111976708006 and parameters: {'trend': 'add', 'seasonal': 'add', 'seasonal_periods': 12}. Best is trial 3 with value: 0.4881360285747269.\n",
      "/opt/conda/lib/python3.10/site-packages/statsmodels/tsa/base/tsa_model.py:473: ValueWarning: No frequency information was provided, so inferred frequency D will be used.\n",
      "  self._init_dates(dates, freq)\n",
      "[I 2024-05-15 22:05:07,396] A new study created in memory with name: no-name-5f0ff60f-8216-4288-97f5-78debb2441ef\n",
      "[I 2024-05-15 22:05:07,552] Trial 1 finished with value: 2.4983065862569527 and parameters: {'trend': 'add', 'seasonal': None, 'seasonal_periods': 12}. Best is trial 1 with value: 2.4983065862569527.\n"
     ]
    },
    {
     "name": "stdout",
     "output_type": "stream",
     "text": [
      "Optimizing hyperparameters for product: FOODS_3_587_CA_3_validation\n"
     ]
    },
    {
     "name": "stderr",
     "output_type": "stream",
     "text": [
      "[I 2024-05-15 22:05:07,840] Trial 4 finished with value: 2.4983065862569527 and parameters: {'trend': 'add', 'seasonal': None, 'seasonal_periods': 4}. Best is trial 1 with value: 2.4983065862569527.\n",
      "[I 2024-05-15 22:05:07,976] Trial 5 finished with value: 2.4983065862569527 and parameters: {'trend': 'add', 'seasonal': None, 'seasonal_periods': 4}. Best is trial 1 with value: 2.4983065862569527.\n",
      "[I 2024-05-15 22:05:08,021] Trial 3 finished with value: 2.4983065862569527 and parameters: {'trend': 'add', 'seasonal': None, 'seasonal_periods': 12}. Best is trial 1 with value: 2.4983065862569527.\n",
      "[I 2024-05-15 22:05:08,094] Trial 7 finished with value: 2.4983065862569527 and parameters: {'trend': 'add', 'seasonal': None, 'seasonal_periods': 4}. Best is trial 1 with value: 2.4983065862569527.\n",
      "[I 2024-05-15 22:05:08,721] Trial 0 finished with value: 1.9717035947757204 and parameters: {'trend': 'add', 'seasonal': 'add', 'seasonal_periods': None}. Best is trial 0 with value: 1.9717035947757204.\n",
      "[I 2024-05-15 22:05:08,979] Trial 6 finished with value: 1.9717035947757204 and parameters: {'trend': 'add', 'seasonal': 'add', 'seasonal_periods': None}. Best is trial 0 with value: 1.9717035947757204.\n",
      "[I 2024-05-15 22:05:08,999] Trial 2 finished with value: 2.001553095993536 and parameters: {'trend': 'add', 'seasonal': 'add', 'seasonal_periods': 12}. Best is trial 0 with value: 1.9717035947757204.\n",
      "[I 2024-05-15 22:05:09,029] Trial 8 finished with value: 1.9717035947757204 and parameters: {'trend': 'add', 'seasonal': 'add', 'seasonal_periods': 7}. Best is trial 0 with value: 1.9717035947757204.\n",
      "[I 2024-05-15 22:05:09,078] Trial 9 finished with value: 1.9717035947757204 and parameters: {'trend': 'add', 'seasonal': 'add', 'seasonal_periods': None}. Best is trial 0 with value: 1.9717035947757204.\n",
      "/opt/conda/lib/python3.10/site-packages/statsmodels/tsa/base/tsa_model.py:473: ValueWarning: No frequency information was provided, so inferred frequency D will be used.\n",
      "  self._init_dates(dates, freq)\n",
      "/var/tmp/ipykernel_1903582/1261245201.py:12: SettingWithCopyWarning: \n",
      "A value is trying to be set on a copy of a slice from a DataFrame.\n",
      "Try using .loc[row_indexer,col_indexer] = value instead\n",
      "\n",
      "See the caveats in the documentation: https://pandas.pydata.org/pandas-docs/stable/user_guide/indexing.html#returning-a-view-versus-a-copy\n",
      "  prophet_data_train['ds'] = pd.to_datetime(prophet_data_train['ds'])\n",
      "/var/tmp/ipykernel_1903582/1261245201.py:13: SettingWithCopyWarning: \n",
      "A value is trying to be set on a copy of a slice from a DataFrame.\n",
      "Try using .loc[row_indexer,col_indexer] = value instead\n",
      "\n",
      "See the caveats in the documentation: https://pandas.pydata.org/pandas-docs/stable/user_guide/indexing.html#returning-a-view-versus-a-copy\n",
      "  prophet_data_test['ds'] = pd.to_datetime(prophet_data_test['ds'])\n",
      "22:05:09 - cmdstanpy - INFO - Chain [1] start processing\n",
      "22:05:09 - cmdstanpy - INFO - Chain [1] done processing\n",
      "/var/tmp/ipykernel_1903582/1261245201.py:12: SettingWithCopyWarning: \n",
      "A value is trying to be set on a copy of a slice from a DataFrame.\n",
      "Try using .loc[row_indexer,col_indexer] = value instead\n",
      "\n",
      "See the caveats in the documentation: https://pandas.pydata.org/pandas-docs/stable/user_guide/indexing.html#returning-a-view-versus-a-copy\n",
      "  prophet_data_train['ds'] = pd.to_datetime(prophet_data_train['ds'])\n",
      "/var/tmp/ipykernel_1903582/1261245201.py:13: SettingWithCopyWarning: \n",
      "A value is trying to be set on a copy of a slice from a DataFrame.\n",
      "Try using .loc[row_indexer,col_indexer] = value instead\n",
      "\n",
      "See the caveats in the documentation: https://pandas.pydata.org/pandas-docs/stable/user_guide/indexing.html#returning-a-view-versus-a-copy\n",
      "  prophet_data_test['ds'] = pd.to_datetime(prophet_data_test['ds'])\n",
      "22:05:10 - cmdstanpy - INFO - Chain [1] start processing\n",
      "22:05:10 - cmdstanpy - INFO - Chain [1] done processing\n",
      "/var/tmp/ipykernel_1903582/1261245201.py:12: SettingWithCopyWarning: \n",
      "A value is trying to be set on a copy of a slice from a DataFrame.\n",
      "Try using .loc[row_indexer,col_indexer] = value instead\n",
      "\n",
      "See the caveats in the documentation: https://pandas.pydata.org/pandas-docs/stable/user_guide/indexing.html#returning-a-view-versus-a-copy\n",
      "  prophet_data_train['ds'] = pd.to_datetime(prophet_data_train['ds'])\n",
      "/var/tmp/ipykernel_1903582/1261245201.py:13: SettingWithCopyWarning: \n",
      "A value is trying to be set on a copy of a slice from a DataFrame.\n",
      "Try using .loc[row_indexer,col_indexer] = value instead\n",
      "\n",
      "See the caveats in the documentation: https://pandas.pydata.org/pandas-docs/stable/user_guide/indexing.html#returning-a-view-versus-a-copy\n",
      "  prophet_data_test['ds'] = pd.to_datetime(prophet_data_test['ds'])\n",
      "22:05:10 - cmdstanpy - INFO - Chain [1] start processing\n",
      "22:05:10 - cmdstanpy - INFO - Chain [1] done processing\n",
      "/var/tmp/ipykernel_1903582/1261245201.py:12: SettingWithCopyWarning: \n",
      "A value is trying to be set on a copy of a slice from a DataFrame.\n",
      "Try using .loc[row_indexer,col_indexer] = value instead\n",
      "\n",
      "See the caveats in the documentation: https://pandas.pydata.org/pandas-docs/stable/user_guide/indexing.html#returning-a-view-versus-a-copy\n",
      "  prophet_data_train['ds'] = pd.to_datetime(prophet_data_train['ds'])\n",
      "/var/tmp/ipykernel_1903582/1261245201.py:13: SettingWithCopyWarning: \n",
      "A value is trying to be set on a copy of a slice from a DataFrame.\n",
      "Try using .loc[row_indexer,col_indexer] = value instead\n",
      "\n",
      "See the caveats in the documentation: https://pandas.pydata.org/pandas-docs/stable/user_guide/indexing.html#returning-a-view-versus-a-copy\n",
      "  prophet_data_test['ds'] = pd.to_datetime(prophet_data_test['ds'])\n",
      "22:05:10 - cmdstanpy - INFO - Chain [1] start processing\n",
      "22:05:10 - cmdstanpy - INFO - Chain [1] done processing\n",
      "/var/tmp/ipykernel_1903582/1261245201.py:12: SettingWithCopyWarning: \n",
      "A value is trying to be set on a copy of a slice from a DataFrame.\n",
      "Try using .loc[row_indexer,col_indexer] = value instead\n",
      "\n",
      "See the caveats in the documentation: https://pandas.pydata.org/pandas-docs/stable/user_guide/indexing.html#returning-a-view-versus-a-copy\n",
      "  prophet_data_train['ds'] = pd.to_datetime(prophet_data_train['ds'])\n",
      "/var/tmp/ipykernel_1903582/1261245201.py:13: SettingWithCopyWarning: \n",
      "A value is trying to be set on a copy of a slice from a DataFrame.\n",
      "Try using .loc[row_indexer,col_indexer] = value instead\n",
      "\n",
      "See the caveats in the documentation: https://pandas.pydata.org/pandas-docs/stable/user_guide/indexing.html#returning-a-view-versus-a-copy\n",
      "  prophet_data_test['ds'] = pd.to_datetime(prophet_data_test['ds'])\n",
      "22:05:11 - cmdstanpy - INFO - Chain [1] start processing\n",
      "22:05:11 - cmdstanpy - INFO - Chain [1] done processing\n",
      "/opt/conda/lib/python3.10/site-packages/lightgbm/engine.py:172: UserWarning: Found `n_estimators` in params. Will use it instead of argument\n",
      "  _log_warning(f\"Found `{alias}` in params. Will use it instead of argument\")\n"
     ]
    },
    {
     "name": "stdout",
     "output_type": "stream",
     "text": [
      "Training until validation scores don't improve for 50 rounds\n",
      "Did not meet early stopping. Best iteration is:\n",
      "[998]\tvalid_0's rmse: 8.00252\n",
      "Training until validation scores don't improve for 50 rounds\n"
     ]
    },
    {
     "name": "stderr",
     "output_type": "stream",
     "text": [
      "/opt/conda/lib/python3.10/site-packages/lightgbm/engine.py:172: UserWarning: Found `n_estimators` in params. Will use it instead of argument\n",
      "  _log_warning(f\"Found `{alias}` in params. Will use it instead of argument\")\n"
     ]
    },
    {
     "name": "stdout",
     "output_type": "stream",
     "text": [
      "Did not meet early stopping. Best iteration is:\n",
      "[998]\tvalid_0's rmse: 5.98448\n",
      "Training until validation scores don't improve for 50 rounds\n"
     ]
    },
    {
     "name": "stderr",
     "output_type": "stream",
     "text": [
      "/opt/conda/lib/python3.10/site-packages/lightgbm/engine.py:172: UserWarning: Found `n_estimators` in params. Will use it instead of argument\n",
      "  _log_warning(f\"Found `{alias}` in params. Will use it instead of argument\")\n"
     ]
    },
    {
     "name": "stdout",
     "output_type": "stream",
     "text": [
      "Early stopping, best iteration is:\n",
      "[576]\tvalid_0's rmse: 6.28856\n",
      "Training until validation scores don't improve for 50 rounds\n"
     ]
    },
    {
     "name": "stderr",
     "output_type": "stream",
     "text": [
      "/opt/conda/lib/python3.10/site-packages/lightgbm/engine.py:172: UserWarning: Found `n_estimators` in params. Will use it instead of argument\n",
      "  _log_warning(f\"Found `{alias}` in params. Will use it instead of argument\")\n"
     ]
    },
    {
     "name": "stdout",
     "output_type": "stream",
     "text": [
      "Early stopping, best iteration is:\n",
      "[305]\tvalid_0's rmse: 7.99076\n",
      "Training until validation scores don't improve for 50 rounds\n"
     ]
    },
    {
     "name": "stderr",
     "output_type": "stream",
     "text": [
      "/opt/conda/lib/python3.10/site-packages/lightgbm/engine.py:172: UserWarning: Found `n_estimators` in params. Will use it instead of argument\n",
      "  _log_warning(f\"Found `{alias}` in params. Will use it instead of argument\")\n"
     ]
    },
    {
     "name": "stdout",
     "output_type": "stream",
     "text": [
      "Early stopping, best iteration is:\n",
      "[583]\tvalid_0's rmse: 8.45075\n"
     ]
    },
    {
     "name": "stderr",
     "output_type": "stream",
     "text": [
      "GPU available: False, used: False\n",
      "TPU available: False, using: 0 TPU cores\n",
      "IPU available: False, using: 0 IPUs\n",
      "HPU available: False, using: 0 HPUs\n",
      "Missing logger folder: logs/tft_logs\n",
      "\n",
      "   | Name                              | Type                             | Params\n",
      "----------------------------------------------------------------------------------------\n",
      "0  | train_metrics                     | MetricCollection                 | 0     \n",
      "1  | val_metrics                       | MetricCollection                 | 0     \n",
      "2  | input_embeddings                  | _MultiEmbedding                  | 0     \n",
      "3  | static_covariates_vsn             | _VariableSelectionNetwork        | 0     \n",
      "4  | encoder_vsn                       | _VariableSelectionNetwork        | 93.0 K\n",
      "5  | decoder_vsn                       | _VariableSelectionNetwork        | 46.4 K\n",
      "6  | static_context_grn                | _GatedResidualNetwork            | 1.1 K \n",
      "7  | static_context_hidden_encoder_grn | _GatedResidualNetwork            | 1.1 K \n",
      "8  | static_context_cell_encoder_grn   | _GatedResidualNetwork            | 1.1 K \n",
      "9  | static_context_enrichment         | _GatedResidualNetwork            | 1.1 K \n",
      "10 | lstm_encoder                      | LSTM                             | 4.4 K \n",
      "11 | lstm_decoder                      | LSTM                             | 4.4 K \n",
      "12 | post_lstm_gan                     | _GateAddNorm                     | 576   \n",
      "13 | static_enrichment_grn             | _GatedResidualNetwork            | 1.4 K \n",
      "14 | multihead_attn                    | _InterpretableMultiHeadAttention | 676   \n",
      "15 | post_attn_gan                     | _GateAddNorm                     | 576   \n",
      "16 | feed_forward_block                | _GatedResidualNetwork            | 1.1 K \n",
      "17 | pre_output_gan                    | _GateAddNorm                     | 576   \n",
      "18 | output_layer                      | Linear                           | 289   \n",
      "----------------------------------------------------------------------------------------\n",
      "156 K     Trainable params\n",
      "0         Non-trainable params\n",
      "156 K     Total params\n",
      "0.627     Total estimated model params size (MB)\n"
     ]
    },
    {
     "data": {
      "application/vnd.jupyter.widget-view+json": {
       "model_id": "ac8f135feb1f4fa68d4770cf3d2f28e9",
       "version_major": 2,
       "version_minor": 0
      },
      "text/plain": [
       "Sanity Checking: |          | 0/? [00:00<?, ?it/s]"
      ]
     },
     "metadata": {},
     "output_type": "display_data"
    },
    {
     "data": {
      "application/vnd.jupyter.widget-view+json": {
       "model_id": "01a0650a2e374afc9df901f753d79da6",
       "version_major": 2,
       "version_minor": 0
      },
      "text/plain": [
       "Training: |          | 0/? [00:00<?, ?it/s]"
      ]
     },
     "metadata": {},
     "output_type": "display_data"
    },
    {
     "data": {
      "application/vnd.jupyter.widget-view+json": {
       "model_id": "b7628a0895ab48f9837c86d98787e8c0",
       "version_major": 2,
       "version_minor": 0
      },
      "text/plain": [
       "Validation: |          | 0/? [00:00<?, ?it/s]"
      ]
     },
     "metadata": {},
     "output_type": "display_data"
    },
    {
     "data": {
      "application/vnd.jupyter.widget-view+json": {
       "model_id": "b78f156965244e128b1e797d49566994",
       "version_major": 2,
       "version_minor": 0
      },
      "text/plain": [
       "Validation: |          | 0/? [00:00<?, ?it/s]"
      ]
     },
     "metadata": {},
     "output_type": "display_data"
    },
    {
     "data": {
      "application/vnd.jupyter.widget-view+json": {
       "model_id": "8b63adeef369456b9da4671788deda5b",
       "version_major": 2,
       "version_minor": 0
      },
      "text/plain": [
       "Validation: |          | 0/? [00:00<?, ?it/s]"
      ]
     },
     "metadata": {},
     "output_type": "display_data"
    },
    {
     "data": {
      "application/vnd.jupyter.widget-view+json": {
       "model_id": "1dabac29fea1442eb19999c6055d64cd",
       "version_major": 2,
       "version_minor": 0
      },
      "text/plain": [
       "Validation: |          | 0/? [00:00<?, ?it/s]"
      ]
     },
     "metadata": {},
     "output_type": "display_data"
    },
    {
     "data": {
      "application/vnd.jupyter.widget-view+json": {
       "model_id": "8f1747090e0347cfb970a05a6389ab29",
       "version_major": 2,
       "version_minor": 0
      },
      "text/plain": [
       "Validation: |          | 0/? [00:00<?, ?it/s]"
      ]
     },
     "metadata": {},
     "output_type": "display_data"
    },
    {
     "data": {
      "application/vnd.jupyter.widget-view+json": {
       "model_id": "395d8f606125484e8afd596c405df61f",
       "version_major": 2,
       "version_minor": 0
      },
      "text/plain": [
       "Validation: |          | 0/? [00:00<?, ?it/s]"
      ]
     },
     "metadata": {},
     "output_type": "display_data"
    },
    {
     "data": {
      "application/vnd.jupyter.widget-view+json": {
       "model_id": "80c555fdebd04c5c83e992083b67bafa",
       "version_major": 2,
       "version_minor": 0
      },
      "text/plain": [
       "Validation: |          | 0/? [00:00<?, ?it/s]"
      ]
     },
     "metadata": {},
     "output_type": "display_data"
    },
    {
     "data": {
      "application/vnd.jupyter.widget-view+json": {
       "model_id": "58fb67a18cd64f27a8a75fa6480fcc93",
       "version_major": 2,
       "version_minor": 0
      },
      "text/plain": [
       "Validation: |          | 0/? [00:00<?, ?it/s]"
      ]
     },
     "metadata": {},
     "output_type": "display_data"
    }
   ],
   "source": [
    "from pmdarima import auto_arima\n",
    "\n",
    "# Dictionary to store MAE results for each unique time-series identified by id\n",
    "product_results = {}\n",
    "average_rmsse = []\n",
    "\n",
    "# download the files for 200 ids.\n",
    "filtered_df = merge_df_scaled[merge_df_scaled['id'].isin(filtered_ids)]\n",
    "weights=calculate_last_28_days_weights(filtered_df)   \n",
    "\n",
    "# Iterate over each unique product series identified by id\n",
    "for id in filtered_ids:\n",
    "    print(f\"Analyzing product: {id}\")\n",
    "    product_data = merge_df_scaled[merge_df_scaled['id'] == id].drop(columns=\"id\")\n",
    "    product_data_with_id = merge_df_scaled[merge_df_scaled['id'] == id]\n",
    "\n",
    "    # Results list for the current product time-series\n",
    "    results = {}\n",
    "    best_score = 999.99\n",
    "    best_model_name = \"\"\n",
    "\n",
    "\n",
    "    product_weight=weights.loc[id].weights\n",
    "\n",
    "\n",
    "\n",
    "    #Looping all models\n",
    "    for model_name in models_list:\n",
    "\n",
    "        if model_name == \"ARIMA\":\n",
    "            rmsse_list = []\n",
    "            # Fit ARIMA model on the training data using auto_arima to find the best (p, d, q)\n",
    "            for splits in custom_ttsplit(product_data):\n",
    "                data_train, data_test = splits[0], splits[1]\n",
    "                model, rmsse = perform_auto_arima(data_train,data_test)\n",
    "                rmsse_list.append(rmsse)\n",
    "\n",
    "            rmsse = np.mean(rmsse_list)\n",
    "            results[model_name] = {\"rmsse\": rmsse, \"model\": model}\n",
    "            if rmsse < best_score:\n",
    "                best_score = rmsse\n",
    "                best_model = model\n",
    "                best_model_name = model_name\n",
    "\n",
    "        elif model_name == \"ExponentialSmoothing\":\n",
    "            rmsse_list = []\n",
    "            for splits in custom_ttsplit(product_data):\n",
    "                data_train, data_test = splits[0], splits[1]\n",
    "                model, rmsse = perform_exp_smoothing(data_train, data_test)\n",
    "                rmsse_list.append(rmsse)\n",
    "\n",
    "            rmsse = np.mean(rmsse_list)\n",
    "            results[model_name] = {\"rmsse\": rmsse, \"model\": model}\n",
    "            if rmsse < best_score:\n",
    "                best_score = rmsse\n",
    "                best_model = model\n",
    "                best_model_name = model_name\n",
    "\n",
    "        elif model_name == \"Prophet\":\n",
    "            rmsse_list = []\n",
    "            for splits in custom_ttsplit(product_data_with_id):\n",
    "                data_train, data_test = splits[0], splits[1]\n",
    "                model, rmsse = perform_prophet(data_train,data_test)\n",
    "                rmsse_list.append(rmsse)\n",
    "\n",
    "            rmsse = np.mean(rmsse_list)\n",
    "            results[model_name] = {\"rmsse\": rmsse, \"model\": model}\n",
    "            if rmsse < best_score:\n",
    "                best_score = rmsse\n",
    "                best_model = model\n",
    "                best_model_name = model_name\n",
    "\n",
    "\n",
    "        elif model_name == \"LightGBM\":\n",
    "            rmsse_list = []\n",
    "\n",
    "            for splits in custom_ttsplit_inclval(product_data):\n",
    "                data_train, data_val, data_test = splits[0], splits[1], splits[2]\n",
    "\n",
    "                model, rmsse = perform_lightgbm(data_train, data_val, data_test)\n",
    "                rmsse_list.append(rmsse)\n",
    "\n",
    "            rmsse = np.mean(rmsse_list)\n",
    "            results[model_name] = {\"rmsse\": rmsse, \"model\": model}\n",
    "            if rmsse < best_score:\n",
    "                best_score = rmsse\n",
    "                best_model = model\n",
    "                best_model_name = model_name\n",
    "\n",
    "\n",
    "        elif model_name == \"RandomForest\":\n",
    "            rmsse_list = []\n",
    "\n",
    "            for splits in custom_ttsplit_onlyfeatures(product_data):\n",
    "                data_train, data_test = splits[0], splits[1]\n",
    "\n",
    "                model, rmsse = perform_random_forest(data_train, data_test)\n",
    "                rmsse_list.append(rmsse)\n",
    "\n",
    "            rmsse = np.mean(rmsse_list)\n",
    "            results[model_name] = {\"rmsse\": rmsse, \"model\": model}\n",
    "            if rmsse < best_score:\n",
    "                best_score = rmsse\n",
    "                best_model = model\n",
    "                best_model_name = model_name\n",
    "                \n",
    "                \n",
    "        elif model_name == \"DartsTFT\":\n",
    "            shutil.rmtree(\"logs/tft_logs\")\n",
    "            # Prepare data for TFT model\n",
    "            (y_train, past_cov_train, future_cov_train,\n",
    "             y_val, past_cov_val, future_cov_val) = prepare_data(product_data_with_id)\n",
    "\n",
    "            # Example code assuming daily frequency ('D')\n",
    "            y_train_series = TimeSeries.from_dataframe(y_train, fill_missing_dates=True, freq='D')\n",
    "            past_cov_train_series = TimeSeries.from_dataframe(past_cov_train, fill_missing_dates=True, freq='D')\n",
    "            future_cov_train_series = TimeSeries.from_dataframe(future_cov_train, fill_missing_dates=True, freq='D')\n",
    "\n",
    "            y_val_series = TimeSeries.from_dataframe(y_val, fill_missing_dates=True, freq='D')\n",
    "            past_cov_val_series = TimeSeries.from_dataframe(past_cov_val, fill_missing_dates=True, freq='D')\n",
    "            future_cov_val_series = TimeSeries.from_dataframe(future_cov_val, fill_missing_dates=True, freq='D')\n",
    "\n",
    "            trained_model, validation_loss = train_tft_model(y_train_series, past_cov_train_series, future_cov_train_series,\n",
    "                                            y_val_series, past_cov_val_series, future_cov_val_series)\n",
    "            \n",
    "\n",
    "            # Store the trained TFT model in the results dictionary\n",
    "            results[model_name] = {\"rmsse\": validation_loss, \"model\": trained_model}\n",
    "            if validation_loss < best_score:\n",
    "                best_score = validation_loss\n",
    "                best_model = trained_model\n",
    "                best_model_name = model_name\n",
    "\n",
    "\n",
    "    #Printing results for this product\n",
    "    print(results)\n",
    "    print(f\"Model results for {id}\")\n",
    "    print(f\"Best model: {best_model_name}\")\n",
    "    print(f\"Best score: {best_score}\")\n",
    "\n",
    "    average_rmsse.append(best_score*product_weight)\n",
    "\n",
    "    # Store the average MAE for the current product time-series\n",
    "    product_results[id] = {\"best_score\": best_score, \"best_model\": best_model_name, \"model\": best_model}\n",
    "\n",
    "    #Store the best model in a pkl file\n",
    "    if best_model_name == \"DartsTFT\":\n",
    "        filename = f'../models/{id}_model.pt'\n",
    "        best_model.save(filename)\n",
    "    # elif best_model_name == \"LSTM\":\n",
    "    #     filename = f'../models/{id}_model.h5'\n",
    "    #     best_model.save(filename)\n",
    "    else:\n",
    "        filename = f'../models/{id}_model.pkl'\n",
    "        with open(filename, 'wb') as f:\n",
    "            pickle.dump(best_model, f)\n",
    "\n",
    "# Create a DataFrame to store the results\n",
    "results_df_arima = pd.DataFrame(product_results.items(), columns=['id', 'RMSSE'])\n",
    "\n",
    "# Set the 'id' column as the index\n",
    "results_df_arima.set_index('id', inplace=True)\n",
    "\n",
    "average_rmsse_score = np.sum(average_rmsse)\n",
    "\n",
    "print(f\"Total average wRMSSE: {average_rmsse_score}\")\n"
   ]
  },
  {
   "cell_type": "code",
   "execution_count": null,
   "id": "c6752189-3c59-43db-bdca-1538095d58d5",
   "metadata": {},
   "outputs": [],
   "source": []
  },
  {
   "cell_type": "code",
   "execution_count": null,
   "id": "e56c2e1d-77c1-45b2-b5e1-97ded9501914",
   "metadata": {},
   "outputs": [],
   "source": []
  },
  {
   "cell_type": "code",
   "execution_count": null,
   "id": "517d4c26-7684-462d-bcff-9686788292e5",
   "metadata": {},
   "outputs": [],
   "source": []
  }
 ],
 "metadata": {
  "environment": {
   "kernel": "python3",
   "name": "tf2-cpu.2-11.m120",
   "type": "gcloud",
   "uri": "us-docker.pkg.dev/deeplearning-platform-release/gcr.io/tf2-cpu.2-11:m120"
  },
  "kernelspec": {
   "display_name": "Python 3",
   "language": "python",
   "name": "python3"
  },
  "language_info": {
   "codemirror_mode": {
    "name": "ipython",
    "version": 3
   },
   "file_extension": ".py",
   "mimetype": "text/x-python",
   "name": "python",
   "nbconvert_exporter": "python",
   "pygments_lexer": "ipython3",
   "version": "3.10.14"
  }
 },
 "nbformat": 4,
 "nbformat_minor": 5
}
